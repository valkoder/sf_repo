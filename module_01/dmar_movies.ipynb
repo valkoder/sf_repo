{
 "cells": [
  {
   "cell_type": "code",
   "execution_count": 1,
   "metadata": {
    "_cell_guid": "b1076dfc-b9ad-4769-8c92-a6c4dae69d19",
    "_uuid": "8f2839f25d086af736a60e9eeb907d3b93b6e0e5",
    "colab": {},
    "colab_type": "code",
    "id": "U2D2gTdJVp90"
   },
   "outputs": [],
   "source": [
    "import numpy as np\n",
    "import pandas as pd\n",
    "import seaborn as sns\n",
    "import matplotlib.pyplot as plt\n",
    "from collections import Counter"
   ]
  },
  {
   "cell_type": "code",
   "execution_count": 2,
   "metadata": {
    "_cell_guid": "79c7e3d0-c299-4dcb-8224-4455121ee9b0",
    "_uuid": "d629ff2d2480ee46fbb7e2d37f6b5fab8052498a",
    "colab": {},
    "colab_type": "code",
    "id": "oyGfxL3eVp9-"
   },
   "outputs": [
    {
     "data": {
      "text/html": [
       "<div>\n",
       "<style scoped>\n",
       "    .dataframe tbody tr th:only-of-type {\n",
       "        vertical-align: middle;\n",
       "    }\n",
       "\n",
       "    .dataframe tbody tr th {\n",
       "        vertical-align: top;\n",
       "    }\n",
       "\n",
       "    .dataframe thead th {\n",
       "        text-align: right;\n",
       "    }\n",
       "</style>\n",
       "<table border=\"1\" class=\"dataframe\">\n",
       "  <thead>\n",
       "    <tr style=\"text-align: right;\">\n",
       "      <th></th>\n",
       "      <th>imdb_id</th>\n",
       "      <th>budget</th>\n",
       "      <th>revenue</th>\n",
       "      <th>original_title</th>\n",
       "      <th>cast</th>\n",
       "      <th>director</th>\n",
       "      <th>tagline</th>\n",
       "      <th>overview</th>\n",
       "      <th>runtime</th>\n",
       "      <th>genres</th>\n",
       "      <th>production_companies</th>\n",
       "      <th>release_date</th>\n",
       "      <th>vote_average</th>\n",
       "      <th>release_year</th>\n",
       "    </tr>\n",
       "  </thead>\n",
       "  <tbody>\n",
       "    <tr>\n",
       "      <th>861</th>\n",
       "      <td>tt1588334</td>\n",
       "      <td>10000000</td>\n",
       "      <td>4417580</td>\n",
       "      <td>Jeff, Who Lives at Home</td>\n",
       "      <td>Jason Segel|Ed Helms|Susan Sarandon|Judy Greer...</td>\n",
       "      <td>Mark Duplass|Jay Duplass</td>\n",
       "      <td>The first step to finding your destiny is leav...</td>\n",
       "      <td>Dispatched from his basement room on an errand...</td>\n",
       "      <td>83</td>\n",
       "      <td>Drama|Comedy</td>\n",
       "      <td>Indian Paintbrush</td>\n",
       "      <td>9/13/2011</td>\n",
       "      <td>5.9</td>\n",
       "      <td>2011</td>\n",
       "    </tr>\n",
       "    <tr>\n",
       "      <th>339</th>\n",
       "      <td>tt1232207</td>\n",
       "      <td>20000000</td>\n",
       "      <td>17436509</td>\n",
       "      <td>Capitalism: A Love Story</td>\n",
       "      <td>Michael Moore|Thora Birch|William Black|Elijah...</td>\n",
       "      <td>Michael Moore</td>\n",
       "      <td>Ask not what your C.E.O. can do for you, but w...</td>\n",
       "      <td>Michael Moore's Capitalism: A Love Story comes...</td>\n",
       "      <td>120</td>\n",
       "      <td>Documentary</td>\n",
       "      <td>The Weinstein Company|Paramount Vantage</td>\n",
       "      <td>9/6/2009</td>\n",
       "      <td>6.9</td>\n",
       "      <td>2009</td>\n",
       "    </tr>\n",
       "    <tr>\n",
       "      <th>328</th>\n",
       "      <td>tt1186830</td>\n",
       "      <td>70000000</td>\n",
       "      <td>39041505</td>\n",
       "      <td>Agora</td>\n",
       "      <td>Rachel Weisz|Max Minghella|Oscar Isaac|Ashraf ...</td>\n",
       "      <td>Alejandro AmenÃ¡bar</td>\n",
       "      <td>Alexandria, Egypt. 391 A.D. The World Changed ...</td>\n",
       "      <td>A historical drama set in Roman Egypt, concern...</td>\n",
       "      <td>127</td>\n",
       "      <td>Adventure|Drama|History</td>\n",
       "      <td>HimenÃ³ptero|Telecinco Cinema|Mod Producciones...</td>\n",
       "      <td>5/17/2009</td>\n",
       "      <td>6.6</td>\n",
       "      <td>2009</td>\n",
       "    </tr>\n",
       "    <tr>\n",
       "      <th>363</th>\n",
       "      <td>tt1232783</td>\n",
       "      <td>12500000</td>\n",
       "      <td>27206120</td>\n",
       "      <td>Sorority Row</td>\n",
       "      <td>Rumer Willis|Briana Evigan|Jamie Chung|Leah Pi...</td>\n",
       "      <td>Stewart Hendler</td>\n",
       "      <td>The Sisters of Theta Pi Are Dying To Keep a Se...</td>\n",
       "      <td>When five sorority girls inadvertently cause t...</td>\n",
       "      <td>101</td>\n",
       "      <td>Horror|Mystery|Thriller</td>\n",
       "      <td>Summit Entertainment|Karz Entertainment</td>\n",
       "      <td>9/9/2009</td>\n",
       "      <td>5.3</td>\n",
       "      <td>2009</td>\n",
       "    </tr>\n",
       "    <tr>\n",
       "      <th>892</th>\n",
       "      <td>tt0259446</td>\n",
       "      <td>5000000</td>\n",
       "      <td>368744044</td>\n",
       "      <td>My Big Fat Greek Wedding</td>\n",
       "      <td>Nia Vardalos|John Corbett|Lainie Kazan|Michael...</td>\n",
       "      <td>Joel Zwick</td>\n",
       "      <td>Love is here to stay... so is her family.</td>\n",
       "      <td>A young Greek woman falls in love with a non-G...</td>\n",
       "      <td>95</td>\n",
       "      <td>Comedy|Drama|Romance</td>\n",
       "      <td>MPH Entertainment|Playtone Productions|Gold Ci...</td>\n",
       "      <td>2/22/2002</td>\n",
       "      <td>6.1</td>\n",
       "      <td>2002</td>\n",
       "    </tr>\n",
       "  </tbody>\n",
       "</table>\n",
       "</div>"
      ],
      "text/plain": [
       "       imdb_id    budget    revenue            original_title  \\\n",
       "861  tt1588334  10000000    4417580   Jeff, Who Lives at Home   \n",
       "339  tt1232207  20000000   17436509  Capitalism: A Love Story   \n",
       "328  tt1186830  70000000   39041505                     Agora   \n",
       "363  tt1232783  12500000   27206120              Sorority Row   \n",
       "892  tt0259446   5000000  368744044  My Big Fat Greek Wedding   \n",
       "\n",
       "                                                  cast  \\\n",
       "861  Jason Segel|Ed Helms|Susan Sarandon|Judy Greer...   \n",
       "339  Michael Moore|Thora Birch|William Black|Elijah...   \n",
       "328  Rachel Weisz|Max Minghella|Oscar Isaac|Ashraf ...   \n",
       "363  Rumer Willis|Briana Evigan|Jamie Chung|Leah Pi...   \n",
       "892  Nia Vardalos|John Corbett|Lainie Kazan|Michael...   \n",
       "\n",
       "                     director  \\\n",
       "861  Mark Duplass|Jay Duplass   \n",
       "339             Michael Moore   \n",
       "328       Alejandro AmenÃ¡bar   \n",
       "363           Stewart Hendler   \n",
       "892                Joel Zwick   \n",
       "\n",
       "                                               tagline  \\\n",
       "861  The first step to finding your destiny is leav...   \n",
       "339  Ask not what your C.E.O. can do for you, but w...   \n",
       "328  Alexandria, Egypt. 391 A.D. The World Changed ...   \n",
       "363  The Sisters of Theta Pi Are Dying To Keep a Se...   \n",
       "892          Love is here to stay... so is her family.   \n",
       "\n",
       "                                              overview  runtime  \\\n",
       "861  Dispatched from his basement room on an errand...       83   \n",
       "339  Michael Moore's Capitalism: A Love Story comes...      120   \n",
       "328  A historical drama set in Roman Egypt, concern...      127   \n",
       "363  When five sorority girls inadvertently cause t...      101   \n",
       "892  A young Greek woman falls in love with a non-G...       95   \n",
       "\n",
       "                      genres  \\\n",
       "861             Drama|Comedy   \n",
       "339              Documentary   \n",
       "328  Adventure|Drama|History   \n",
       "363  Horror|Mystery|Thriller   \n",
       "892     Comedy|Drama|Romance   \n",
       "\n",
       "                                  production_companies release_date  \\\n",
       "861                                  Indian Paintbrush    9/13/2011   \n",
       "339            The Weinstein Company|Paramount Vantage     9/6/2009   \n",
       "328  HimenÃ³ptero|Telecinco Cinema|Mod Producciones...    5/17/2009   \n",
       "363            Summit Entertainment|Karz Entertainment     9/9/2009   \n",
       "892  MPH Entertainment|Playtone Productions|Gold Ci...    2/22/2002   \n",
       "\n",
       "     vote_average  release_year  \n",
       "861           5.9          2011  \n",
       "339           6.9          2009  \n",
       "328           6.6          2009  \n",
       "363           5.3          2009  \n",
       "892           6.1          2002  "
      ]
     },
     "execution_count": 2,
     "metadata": {},
     "output_type": "execute_result"
    }
   ],
   "source": [
    "data = pd.read_csv('Z:\\Z\\RDS_02\\movie_bd_v5.csv')\n",
    "data.sample(5)"
   ]
  },
  {
   "cell_type": "code",
   "execution_count": 3,
   "metadata": {
    "colab": {},
    "colab_type": "code",
    "id": "CoYUnagMVp-C",
    "scrolled": true
   },
   "outputs": [
    {
     "data": {
      "text/html": [
       "<div>\n",
       "<style scoped>\n",
       "    .dataframe tbody tr th:only-of-type {\n",
       "        vertical-align: middle;\n",
       "    }\n",
       "\n",
       "    .dataframe tbody tr th {\n",
       "        vertical-align: top;\n",
       "    }\n",
       "\n",
       "    .dataframe thead th {\n",
       "        text-align: right;\n",
       "    }\n",
       "</style>\n",
       "<table border=\"1\" class=\"dataframe\">\n",
       "  <thead>\n",
       "    <tr style=\"text-align: right;\">\n",
       "      <th></th>\n",
       "      <th>budget</th>\n",
       "      <th>revenue</th>\n",
       "      <th>runtime</th>\n",
       "      <th>vote_average</th>\n",
       "      <th>release_year</th>\n",
       "    </tr>\n",
       "  </thead>\n",
       "  <tbody>\n",
       "    <tr>\n",
       "      <th>count</th>\n",
       "      <td>1.889000e+03</td>\n",
       "      <td>1.889000e+03</td>\n",
       "      <td>1889.000000</td>\n",
       "      <td>1889.000000</td>\n",
       "      <td>1889.000000</td>\n",
       "    </tr>\n",
       "    <tr>\n",
       "      <th>mean</th>\n",
       "      <td>5.431083e+07</td>\n",
       "      <td>1.553653e+08</td>\n",
       "      <td>109.658549</td>\n",
       "      <td>6.140762</td>\n",
       "      <td>2007.860773</td>\n",
       "    </tr>\n",
       "    <tr>\n",
       "      <th>std</th>\n",
       "      <td>4.858721e+07</td>\n",
       "      <td>2.146698e+08</td>\n",
       "      <td>18.017041</td>\n",
       "      <td>0.764763</td>\n",
       "      <td>4.468841</td>\n",
       "    </tr>\n",
       "    <tr>\n",
       "      <th>min</th>\n",
       "      <td>5.000000e+06</td>\n",
       "      <td>2.033165e+06</td>\n",
       "      <td>63.000000</td>\n",
       "      <td>3.300000</td>\n",
       "      <td>2000.000000</td>\n",
       "    </tr>\n",
       "    <tr>\n",
       "      <th>25%</th>\n",
       "      <td>2.000000e+07</td>\n",
       "      <td>3.456058e+07</td>\n",
       "      <td>97.000000</td>\n",
       "      <td>5.600000</td>\n",
       "      <td>2004.000000</td>\n",
       "    </tr>\n",
       "    <tr>\n",
       "      <th>50%</th>\n",
       "      <td>3.800000e+07</td>\n",
       "      <td>8.361541e+07</td>\n",
       "      <td>107.000000</td>\n",
       "      <td>6.100000</td>\n",
       "      <td>2008.000000</td>\n",
       "    </tr>\n",
       "    <tr>\n",
       "      <th>75%</th>\n",
       "      <td>7.200000e+07</td>\n",
       "      <td>1.782626e+08</td>\n",
       "      <td>120.000000</td>\n",
       "      <td>6.600000</td>\n",
       "      <td>2012.000000</td>\n",
       "    </tr>\n",
       "    <tr>\n",
       "      <th>max</th>\n",
       "      <td>3.800000e+08</td>\n",
       "      <td>2.781506e+09</td>\n",
       "      <td>214.000000</td>\n",
       "      <td>8.100000</td>\n",
       "      <td>2015.000000</td>\n",
       "    </tr>\n",
       "  </tbody>\n",
       "</table>\n",
       "</div>"
      ],
      "text/plain": [
       "             budget       revenue      runtime  vote_average  release_year\n",
       "count  1.889000e+03  1.889000e+03  1889.000000   1889.000000   1889.000000\n",
       "mean   5.431083e+07  1.553653e+08   109.658549      6.140762   2007.860773\n",
       "std    4.858721e+07  2.146698e+08    18.017041      0.764763      4.468841\n",
       "min    5.000000e+06  2.033165e+06    63.000000      3.300000   2000.000000\n",
       "25%    2.000000e+07  3.456058e+07    97.000000      5.600000   2004.000000\n",
       "50%    3.800000e+07  8.361541e+07   107.000000      6.100000   2008.000000\n",
       "75%    7.200000e+07  1.782626e+08   120.000000      6.600000   2012.000000\n",
       "max    3.800000e+08  2.781506e+09   214.000000      8.100000   2015.000000"
      ]
     },
     "execution_count": 3,
     "metadata": {},
     "output_type": "execute_result"
    }
   ],
   "source": [
    "data.describe()"
   ]
  },
  {
   "cell_type": "markdown",
   "metadata": {
    "colab_type": "text",
    "id": "DTIt7ezGVp-G"
   },
   "source": [
    "# Предобработка"
   ]
  },
  {
   "cell_type": "code",
   "execution_count": 4,
   "metadata": {
    "colab": {},
    "colab_type": "code",
    "id": "jNb40DwKVp-H"
   },
   "outputs": [],
   "source": [
    "answers = {} # создадим словарь для ответов\n",
    "\n",
    "# тут другие ваши предобработки колонок например:\n",
    "\n",
    "#the time given in the dataset is in string format.\n",
    "#So we need to change this in datetime format\n",
    "# ..."
   ]
  },
  {
   "cell_type": "markdown",
   "metadata": {
    "colab_type": "text",
    "id": "YxZaH-nPVp-L"
   },
   "source": [
    "# 1. У какого фильма из списка самый большой бюджет?"
   ]
  },
  {
   "cell_type": "markdown",
   "metadata": {
    "colab_type": "text",
    "id": "Nd-G5gX6Vp-M"
   },
   "source": [
    "Использовать варианты ответов в коде решения запрещено.    \n",
    "Вы думаете и в жизни у вас будут варианты ответов?)"
   ]
  },
  {
   "cell_type": "code",
   "execution_count": 5,
   "metadata": {
    "colab": {},
    "colab_type": "code",
    "id": "uVnXAY5RVp-O"
   },
   "outputs": [],
   "source": [
    "# в словарь вставляем номер вопроса и ваш ответ на него\n",
    "# Пример: \n",
    "# answers['1'] = '2. Spider-Man 3 (tt0413300)'\n",
    "# запишите свой вариант ответа\n",
    "answers['1'] = '5. Pirates of the Caribbean: On Stranger Tides (tt1298650)'\n",
    "# если ответили верно, можете добавить комментарий со значком \"+\""
   ]
  },
  {
   "cell_type": "code",
   "execution_count": 6,
   "metadata": {
    "colab": {},
    "colab_type": "code",
    "id": "dZwb3m28Vp-S",
    "scrolled": true
   },
   "outputs": [
    {
     "name": "stdout",
     "output_type": "stream",
     "text": [
      "                                  original_title    imdb_id     budget\n",
      "723  Pirates of the Caribbean: On Stranger Tides  tt1298650  380000000\n"
     ]
    }
   ],
   "source": [
    "df2 = data[['original_title', 'imdb_id', 'budget']].sort_values(by='budget', ascending=False)\n",
    "print(df2.head(1))"
   ]
  },
  {
   "cell_type": "markdown",
   "metadata": {
    "colab_type": "text",
    "id": "K7L3nbRXVp-X"
   },
   "source": [
    "ВАРИАНТ 2"
   ]
  },
  {
   "cell_type": "code",
   "execution_count": 7,
   "metadata": {
    "colab": {},
    "colab_type": "code",
    "id": "OGaoQI7rVp-X",
    "scrolled": true
   },
   "outputs": [
    {
     "name": "stdout",
     "output_type": "stream",
     "text": [
      "                                  original_title    imdb_id     budget\n",
      "723  Pirates of the Caribbean: On Stranger Tides  tt1298650  380000000\n"
     ]
    }
   ],
   "source": [
    "df2 = data[['original_title', 'imdb_id', 'budget']]\n",
    "print(df2.nlargest(1, 'budget'))"
   ]
  },
  {
   "cell_type": "markdown",
   "metadata": {
    "colab_type": "text",
    "id": "FNRbbI3vVp-c"
   },
   "source": [
    "# 2. Какой из фильмов самый длительный (в минутах)?"
   ]
  },
  {
   "cell_type": "code",
   "execution_count": 8,
   "metadata": {
    "colab": {},
    "colab_type": "code",
    "id": "vHAoEXNTVp-d"
   },
   "outputs": [],
   "source": [
    "# думаю логику работы с этим словарем вы уже поняли, \n",
    "# по этому не буду больше его дублировать\n",
    "answers['2'] = '2. Gods and Generals (tt0279111)'"
   ]
  },
  {
   "cell_type": "code",
   "execution_count": 9,
   "metadata": {
    "colab": {},
    "colab_type": "code",
    "id": "ot-VX2XrVp-g"
   },
   "outputs": [
    {
     "name": "stdout",
     "output_type": "stream",
     "text": [
      "         original_title    imdb_id  runtime\n",
      "1157  Gods and Generals  tt0279111      214\n"
     ]
    }
   ],
   "source": [
    "df2 = data[['original_title', 'imdb_id', 'runtime']]\n",
    "print(df2.nlargest(1, 'runtime'))"
   ]
  },
  {
   "cell_type": "markdown",
   "metadata": {
    "colab_type": "text",
    "id": "bapLlpW8Vp-k"
   },
   "source": [
    "# 3. Какой из фильмов самый короткий (в минутах)?\n",
    "\n",
    "\n",
    "\n"
   ]
  },
  {
   "cell_type": "code",
   "execution_count": 10,
   "metadata": {
    "colab": {},
    "colab_type": "code",
    "id": "YBxaSHuAVp-l"
   },
   "outputs": [
    {
     "name": "stdout",
     "output_type": "stream",
     "text": [
      "      original_title    imdb_id  runtime\n",
      "768  Winnie the Pooh  tt1449283       63\n"
     ]
    }
   ],
   "source": [
    "answers['3'] = '3. Winnie the Pooh  (tt1449283)'\n",
    "df2 = data[['original_title', 'imdb_id', 'runtime']]\n",
    "print(df2.nsmallest(1, 'runtime'))"
   ]
  },
  {
   "cell_type": "markdown",
   "metadata": {
    "colab_type": "text",
    "id": "TfQbxbfNVp-p"
   },
   "source": [
    "# 4. Какова средняя длительность фильмов?\n"
   ]
  },
  {
   "cell_type": "code",
   "execution_count": 11,
   "metadata": {
    "colab": {},
    "colab_type": "code",
    "id": "5K6dKZYVVp-q"
   },
   "outputs": [
    {
     "name": "stdout",
     "output_type": "stream",
     "text": [
      "109.6585494970884\n"
     ]
    }
   ],
   "source": [
    "answers['4'] = '02. 110'\n",
    "print(data.runtime.mean())"
   ]
  },
  {
   "cell_type": "markdown",
   "metadata": {
    "colab_type": "text",
    "id": "r5TvbnT_Vp-u"
   },
   "source": [
    "# 5. Каково медианное значение длительности фильмов? "
   ]
  },
  {
   "cell_type": "code",
   "execution_count": 12,
   "metadata": {
    "colab": {},
    "colab_type": "code",
    "id": "iBROplKnVp-v"
   },
   "outputs": [
    {
     "name": "stdout",
     "output_type": "stream",
     "text": [
      "107.0\n"
     ]
    }
   ],
   "source": [
    "answers['5'] = '1. 107'\n",
    "print(data.runtime.median())"
   ]
  },
  {
   "cell_type": "markdown",
   "metadata": {
    "colab_type": "text",
    "id": "39P-deDSVp-y"
   },
   "source": [
    "# 6. Какой самый прибыльный фильм?\n",
    "#### Внимание! Здесь и далее под «прибылью» или «убытками» понимается разность между сборами и бюджетом фильма. (прибыль = сборы - бюджет) в нашем датасете это будет (profit = revenue - budget) "
   ]
  },
  {
   "cell_type": "code",
   "execution_count": 13,
   "metadata": {
    "colab": {},
    "colab_type": "code",
    "id": "UYZh4T9WVp-y"
   },
   "outputs": [
    {
     "name": "stdout",
     "output_type": "stream",
     "text": [
      "    original_title    imdb_id     budget     revenue      profit\n",
      "239         Avatar  tt0499549  237000000  2781505847  2544505847\n"
     ]
    }
   ],
   "source": [
    "# лучше код получения столбца profit вынести в Предобработку что в начале\n",
    "answers['6'] = '5. Avatar  (tt0499549)'\n",
    "df2 = data[['original_title', 'imdb_id', 'budget', 'revenue']].copy()\n",
    "df2['profit'] = df2[['revenue']].apply(lambda x: x - df2.budget)\n",
    "print(df2.nlargest(1, 'profit'))"
   ]
  },
  {
   "cell_type": "markdown",
   "metadata": {
    "colab_type": "text",
    "id": "M99JmIX4Vp-2"
   },
   "source": [
    "# 7. Какой фильм самый убыточный? "
   ]
  },
  {
   "cell_type": "code",
   "execution_count": 14,
   "metadata": {
    "colab": {},
    "colab_type": "code",
    "id": "w-D2m4XPVp-3"
   },
   "outputs": [
    {
     "name": "stdout",
     "output_type": "stream",
     "text": [
      "       original_title    imdb_id     budget   revenue     profit\n",
      "1245  The Lone Ranger  tt1210819  255000000  89289910 -165710090\n"
     ]
    }
   ],
   "source": [
    "answers['7'] = '5. The Lone Ranger (tt1210819)'\n",
    "df2 = data[['original_title', 'imdb_id', 'budget', 'revenue']].copy()\n",
    "df2['profit'] = df2[['revenue']].apply(lambda x: x - df2.budget)\n",
    "print(df2.nsmallest(1, 'profit'))"
   ]
  },
  {
   "cell_type": "markdown",
   "metadata": {
    "colab_type": "text",
    "id": "wEOM5ERVVp-6"
   },
   "source": [
    "# 8. У скольких фильмов из датасета объем сборов оказался выше бюджета?"
   ]
  },
  {
   "cell_type": "code",
   "execution_count": 15,
   "metadata": {
    "colab": {},
    "colab_type": "code",
    "id": "y00_7HD6Vp-7"
   },
   "outputs": [
    {
     "name": "stdout",
     "output_type": "stream",
     "text": [
      "1478\n"
     ]
    }
   ],
   "source": [
    "answers['8'] = '1. 1478'\n",
    "df2 = data[['original_title', 'imdb_id', 'budget', 'revenue']]\n",
    "print(df2[(df2.revenue > df2.budget)].imdb_id.count())"
   ]
  },
  {
   "cell_type": "markdown",
   "metadata": {
    "colab_type": "text",
    "id": "xhpspA9KVp_A"
   },
   "source": [
    "# 9. Какой фильм оказался самым кассовым в 2008 году?"
   ]
  },
  {
   "cell_type": "code",
   "execution_count": 16,
   "metadata": {
    "colab": {},
    "colab_type": "code",
    "id": "MoUyQr9RVp_B"
   },
   "outputs": [
    {
     "name": "stdout",
     "output_type": "stream",
     "text": [
      "      original_title    imdb_id     revenue  release_year\n",
      "599  The Dark Knight  tt0468569  1001921825          2008\n"
     ]
    }
   ],
   "source": [
    "answers['9'] = '4. The Dark Knight (tt0468569)'\n",
    "df2 = data[['original_title', 'imdb_id', 'revenue', 'release_year']]\n",
    "print(df2[(df2.release_year == 2008)].nlargest(1, 'revenue').head(1).to_string())"
   ]
  },
  {
   "cell_type": "markdown",
   "metadata": {
    "colab_type": "text",
    "id": "Zi4hDKidVp_F"
   },
   "source": [
    "# 10. Самый убыточный фильм за период с 2012 по 2014 г. (включительно)?\n"
   ]
  },
  {
   "cell_type": "code",
   "execution_count": 17,
   "metadata": {
    "colab": {},
    "colab_type": "code",
    "id": "XqyRmufJVp_F"
   },
   "outputs": [
    {
     "name": "stdout",
     "output_type": "stream",
     "text": [
      "       original_title    imdb_id     budget   revenue  release_year     profit\n",
      "1245  The Lone Ranger  tt1210819  255000000  89289910          2013 -165710090\n"
     ]
    }
   ],
   "source": [
    "answers['10'] = '5. The Lone Ranger (tt1210819)'\n",
    "df2 = data[['original_title', 'imdb_id', 'budget', 'revenue', 'release_year']].copy()\n",
    "df2['profit'] = df2[['revenue']].apply(lambda x: x - df2.budget)\n",
    "df2 = df2.query('2012 <= release_year <= 2014')\n",
    "print(df2.nsmallest(1, 'profit'))"
   ]
  },
  {
   "cell_type": "markdown",
   "metadata": {
    "colab_type": "text",
    "id": "EA7Sa9dkVp_I"
   },
   "source": [
    "# 11. Какого жанра фильмов больше всего?"
   ]
  },
  {
   "cell_type": "code",
   "execution_count": 18,
   "metadata": {
    "colab": {},
    "colab_type": "code",
    "id": "zsJAwJ8QVp_J"
   },
   "outputs": [
    {
     "name": "stdout",
     "output_type": "stream",
     "text": [
      "Drama    782\n",
      "Name: genres, dtype: int64\n"
     ]
    }
   ],
   "source": [
    "answers['11'] = '3. Drama'\n",
    "df2 = data[['genres']].copy()\n",
    "print(df2['genres'].str.split('|').explode('genres').value_counts().nlargest(1))"
   ]
  },
  {
   "cell_type": "markdown",
   "metadata": {
    "colab_type": "text",
    "id": "Ax6g2C8SVp_M"
   },
   "source": [
    "ВАРИАНТ 2"
   ]
  },
  {
   "cell_type": "code",
   "execution_count": null,
   "metadata": {
    "colab": {},
    "colab_type": "code",
    "id": "otO3SbrSVp_N"
   },
   "outputs": [],
   "source": []
  },
  {
   "cell_type": "markdown",
   "metadata": {
    "colab_type": "text",
    "id": "T9_bPWpkVp_Q"
   },
   "source": [
    "# 12. Фильмы какого жанра чаще всего становятся прибыльными? "
   ]
  },
  {
   "cell_type": "code",
   "execution_count": 19,
   "metadata": {
    "colab": {},
    "colab_type": "code",
    "id": "Tmt8MaK1Vp_R"
   },
   "outputs": [
    {
     "name": "stdout",
     "output_type": "stream",
     "text": [
      "0    Drama\n",
      "dtype: object\n"
     ]
    }
   ],
   "source": [
    "answers['12'] = '1. Drama'\n",
    "df2 = data[['budget', 'revenue', 'genres']].copy()\n",
    "df2['profit'] = df2[['revenue']].apply(lambda x: x - df2.budget)\n",
    "print(df2[df2.profit>0].genres.str.split('|').explode().mode())"
   ]
  },
  {
   "cell_type": "markdown",
   "metadata": {
    "colab_type": "text",
    "id": "0F23bgsDVp_U"
   },
   "source": [
    "# 13. У какого режиссера самые большие суммарные кассовые сборы?"
   ]
  },
  {
   "cell_type": "code",
   "execution_count": 20,
   "metadata": {
    "colab": {},
    "colab_type": "code",
    "id": "K6Z3J8ygVp_X"
   },
   "outputs": [
    {
     "name": "stdout",
     "output_type": "stream",
     "text": [
      "                  revenue\n",
      "director                 \n",
      "Peter Jackson  6490593685\n"
     ]
    }
   ],
   "source": [
    "answers['13'] = '5. Peter Jackson'\n",
    "df2 = data[['director', 'revenue']].copy()\n",
    "df2['director'].str.split('|').explode('director')\n",
    "print(pd.pivot_table(df2, values='revenue', index='director', aggfunc='sum').nlargest(1, 'revenue'))"
   ]
  },
  {
   "cell_type": "markdown",
   "metadata": {
    "colab_type": "text",
    "id": "PsYC9FgRVp_a"
   },
   "source": [
    "# 14. Какой режисер снял больше всего фильмов в стиле Action?"
   ]
  },
  {
   "cell_type": "code",
   "execution_count": 21,
   "metadata": {
    "colab": {},
    "colab_type": "code",
    "id": "wd2M-wHeVp_b"
   },
   "outputs": [
    {
     "name": "stdout",
     "output_type": "stream",
     "text": [
      "Robert Rodriguez    9\n",
      "Name: director, dtype: int64\n"
     ]
    }
   ],
   "source": [
    "answers['14'] = '3. Robert Rodriguez'\n",
    "df2 = data[['director', 'genres']].copy()\n",
    "df2 = df2[df2.genres.str.contains('Action')]\n",
    "df3 = df2['director'].str.split('|').explode('director')\n",
    "print(df3.value_counts().nlargest(1))"
   ]
  },
  {
   "cell_type": "markdown",
   "metadata": {
    "colab_type": "text",
    "id": "PQ0KciD7Vp_f"
   },
   "source": [
    "# 15. Фильмы с каким актером принесли самые высокие кассовые сборы в 2012 году? "
   ]
  },
  {
   "cell_type": "code",
   "execution_count": 22,
   "metadata": {
    "colab": {},
    "colab_type": "code",
    "id": "aga62oeKVp_g"
   },
   "outputs": [
    {
     "name": "stdout",
     "output_type": "stream",
     "text": [
      "                    revenue\n",
      "cast                       \n",
      "Chris Hemsworth  2027450773\n"
     ]
    }
   ],
   "source": [
    "answers['15'] = '3. Chris Hemsworth'\n",
    "df2 = data[['release_year', 'revenue', 'cast']].copy()\n",
    "df2 = df2.loc[df2.release_year == 2012]\n",
    "df2.cast = df2.cast.str.split('|')\n",
    "df2 = df2.explode('cast')\n",
    "print(pd.pivot_table(df2, values='revenue', index='cast', aggfunc='sum').nlargest(1, 'revenue'))"
   ]
  },
  {
   "cell_type": "markdown",
   "metadata": {
    "colab_type": "text",
    "id": "mWHyyL7QVp_j"
   },
   "source": [
    "# 16. Какой актер снялся в большем количестве высокобюджетных фильмов?"
   ]
  },
  {
   "cell_type": "code",
   "execution_count": 23,
   "metadata": {
    "colab": {},
    "colab_type": "code",
    "id": "qQtmHKTFVp_k",
    "scrolled": true
   },
   "outputs": [
    {
     "name": "stdout",
     "output_type": "stream",
     "text": [
      "0    Matt Damon\n",
      "dtype: object\n"
     ]
    }
   ],
   "source": [
    "answers['16'] = '3. Matt Damon'\n",
    "df2 = data.copy()\n",
    "print(df2[df2.budget > df2.budget.mean()].cast.str.split('|').explode('cast').mode())"
   ]
  },
  {
   "cell_type": "markdown",
   "metadata": {
    "colab_type": "text",
    "id": "NIh6AaW5Vp_n"
   },
   "source": [
    "# 17. В фильмах какого жанра больше всего снимался Nicolas Cage? "
   ]
  },
  {
   "cell_type": "code",
   "execution_count": 24,
   "metadata": {
    "colab": {},
    "colab_type": "code",
    "id": "H74SJDIBVp_n"
   },
   "outputs": [
    {
     "name": "stdout",
     "output_type": "stream",
     "text": [
      "Action    17\n",
      "Name: genres, dtype: int64\n"
     ]
    }
   ],
   "source": [
    "answers['17'] = '2. Action'\n",
    "df2 = data[['cast', 'genres']].copy()\n",
    "df2 = df2[df2.cast.str.contains('Nicolas Cage')]\n",
    "df2 = df2['genres'].str.split('|').explode('genres')\n",
    "print(df2.value_counts().nlargest(1))"
   ]
  },
  {
   "cell_type": "markdown",
   "metadata": {
    "colab_type": "text",
    "id": "RqOmPRfWVp_q"
   },
   "source": [
    "# 18. Самый убыточный фильм от Paramount Pictures"
   ]
  },
  {
   "cell_type": "code",
   "execution_count": 25,
   "metadata": {
    "colab": {},
    "colab_type": "code",
    "id": "9E_B0Y96Vp_r",
    "scrolled": true
   },
   "outputs": [
    {
     "data": {
      "text/html": [
       "<div>\n",
       "<style scoped>\n",
       "    .dataframe tbody tr th:only-of-type {\n",
       "        vertical-align: middle;\n",
       "    }\n",
       "\n",
       "    .dataframe tbody tr th {\n",
       "        vertical-align: top;\n",
       "    }\n",
       "\n",
       "    .dataframe thead th {\n",
       "        text-align: right;\n",
       "    }\n",
       "</style>\n",
       "<table border=\"1\" class=\"dataframe\">\n",
       "  <thead>\n",
       "    <tr style=\"text-align: right;\">\n",
       "      <th></th>\n",
       "      <th>original_title</th>\n",
       "      <th>budget</th>\n",
       "      <th>revenue</th>\n",
       "      <th>production_companies</th>\n",
       "      <th>profit</th>\n",
       "    </tr>\n",
       "    <tr>\n",
       "      <th>imdb_id</th>\n",
       "      <th></th>\n",
       "      <th></th>\n",
       "      <th></th>\n",
       "      <th></th>\n",
       "      <th></th>\n",
       "    </tr>\n",
       "  </thead>\n",
       "  <tbody>\n",
       "    <tr>\n",
       "      <th>tt0267626</th>\n",
       "      <td>K-19: The Widowmaker</td>\n",
       "      <td>100000000</td>\n",
       "      <td>35168966</td>\n",
       "      <td>Paramount Pictures|Intermedia Films|National G...</td>\n",
       "      <td>-64831034</td>\n",
       "    </tr>\n",
       "  </tbody>\n",
       "</table>\n",
       "</div>"
      ],
      "text/plain": [
       "                 original_title     budget   revenue  \\\n",
       "imdb_id                                                \n",
       "tt0267626  K-19: The Widowmaker  100000000  35168966   \n",
       "\n",
       "                                        production_companies    profit  \n",
       "imdb_id                                                                 \n",
       "tt0267626  Paramount Pictures|Intermedia Films|National G... -64831034  "
      ]
     },
     "metadata": {},
     "output_type": "display_data"
    }
   ],
   "source": [
    "answers['18'] = '1. K-19: The Widowmaker (tt0267626)'\n",
    "df2 = data[['original_title', 'imdb_id', 'budget', 'revenue', 'production_companies']].copy()\n",
    "df2 = df2[df2.production_companies.str.contains('Paramount Pictures')].set_index('imdb_id')\n",
    "df2['profit'] = df2[['revenue']].apply(lambda x: x - df2.budget)\n",
    "display(df2.nsmallest(1, 'profit'))"
   ]
  },
  {
   "cell_type": "markdown",
   "metadata": {
    "colab_type": "text",
    "id": "vS8Ur6ddVp_u"
   },
   "source": [
    "# 19. Какой год стал самым успешным по суммарным кассовым сборам?"
   ]
  },
  {
   "cell_type": "code",
   "execution_count": 26,
   "metadata": {
    "colab": {},
    "colab_type": "code",
    "id": "Dnbt4GdIVp_v"
   },
   "outputs": [
    {
     "name": "stdout",
     "output_type": "stream",
     "text": [
      "                  revenue\n",
      "release_year             \n",
      "2015          25449202382\n"
     ]
    }
   ],
   "source": [
    "answers['19'] = '5. 2015'\n",
    "df2 = data[['revenue', 'release_year']].copy()\n",
    "df2 = df2.set_index('release_year')\n",
    "print(df2.groupby(['release_year']).sum().nlargest(1, 'revenue'))"
   ]
  },
  {
   "cell_type": "markdown",
   "metadata": {
    "colab_type": "text",
    "id": "JAzJh4QAVp_z"
   },
   "source": [
    "# 20. Какой самый прибыльный год для студии Warner Bros?"
   ]
  },
  {
   "cell_type": "code",
   "execution_count": 27,
   "metadata": {
    "colab": {},
    "colab_type": "code",
    "id": "wgVu02DEVp_0",
    "scrolled": true
   },
   "outputs": [
    {
     "name": "stdout",
     "output_type": "stream",
     "text": [
      "                 budget     revenue      profit\n",
      "release_year                                   \n",
      "2014          947600000  3243064519  2295464519\n"
     ]
    }
   ],
   "source": [
    "answers['20'] = '1. 2014'\n",
    "df2 = data[['budget', 'revenue', 'production_companies', 'release_year']].copy()\n",
    "df2 = df2[df2.production_companies.str.contains('Warner Bros')].set_index('release_year')\n",
    "df2['profit'] = df2[['revenue']].apply(lambda x: x - df2.budget)\n",
    "print(df2.groupby(['release_year']).sum().nlargest(1, 'profit'))"
   ]
  },
  {
   "cell_type": "markdown",
   "metadata": {
    "colab_type": "text",
    "id": "8Im1S2HRVp_4"
   },
   "source": [
    "# 21. В каком месяце за все годы суммарно вышло больше всего фильмов?"
   ]
  },
  {
   "cell_type": "code",
   "execution_count": 28,
   "metadata": {
    "colab": {},
    "colab_type": "code",
    "id": "lev6TH7gVp_4"
   },
   "outputs": [
    {
     "name": "stdout",
     "output_type": "stream",
     "text": [
      "       day  year\n",
      "month           \n",
      "9      227   227\n"
     ]
    }
   ],
   "source": [
    "answers['21'] = '4. сентябрь'\n",
    "df2 = data[['imdb_id', 'release_date']].copy().set_index('imdb_id')\n",
    "df3 = df2['release_date'].str.split('/', expand=True)  # date to new columns\n",
    "df3.rename(columns={0: \"month\", 1: \"day\", 2: \"year\"}, inplace=True)\n",
    "print(pd.pivot_table(df3, index='month', aggfunc='count').nlargest(1, 'day'))"
   ]
  },
  {
   "cell_type": "markdown",
   "metadata": {
    "colab_type": "text",
    "id": "uAJsZ_NeVp_7"
   },
   "source": [
    "# 22. Сколько суммарно вышло фильмов летом? (за июнь, июль, август)"
   ]
  },
  {
   "cell_type": "code",
   "execution_count": 29,
   "metadata": {
    "colab": {},
    "colab_type": "code",
    "id": "Aa-hEREoVp_8"
   },
   "outputs": [
    {
     "name": "stdout",
     "output_type": "stream",
     "text": [
      "day     450\n",
      "year    450\n",
      "dtype: int64\n"
     ]
    }
   ],
   "source": [
    "answers['22'] = '2. 450'\n",
    "df2 = data[['imdb_id', 'release_date']].copy().set_index('imdb_id')\n",
    "df2 = df2['release_date'].str.split('/', expand=True)\n",
    "df2.rename(columns={0: \"month\", 1: \"day\", 2: \"year\"}, inplace=True)\n",
    "df3 = pd.pivot_table(df2, index='month', aggfunc='count')\n",
    "print(df3.loc['6':'8'].sum())"
   ]
  },
  {
   "cell_type": "markdown",
   "metadata": {
    "colab_type": "text",
    "id": "G94ppOY1VqAA"
   },
   "source": [
    "# 23. Для какого режиссера зима – самое продуктивное время года? "
   ]
  },
  {
   "cell_type": "code",
   "execution_count": 30,
   "metadata": {
    "colab": {},
    "colab_type": "code",
    "id": "RhNTsamuVqAB"
   },
   "outputs": [
    {
     "name": "stdout",
     "output_type": "stream",
     "text": [
      "               month\n",
      "director            \n",
      "Peter Jackson      7\n"
     ]
    }
   ],
   "source": [
    "answers['23'] = '5. Peter Jackson'\n",
    "df2 = data[['imdb_id', 'release_date', 'director']].copy().set_index('imdb_id')\n",
    "df2.director = df2.director.str.split('|')\n",
    "df3 = df2.explode('director')\n",
    "df3.release_date = df3['release_date'].str.split('/', expand=True)\n",
    "df3.rename(columns={\"release_date\": \"month\", \"director\": \"director\"}, inplace=True)\n",
    "df4 = df3.loc[df3['month'].isin(['12', '1', '2'])]\n",
    "print(pd.pivot_table(df4, index='director', aggfunc='count').nlargest(1, 'month'))"
   ]
  },
  {
   "cell_type": "markdown",
   "metadata": {
    "colab_type": "text",
    "id": "RBo0JVjVVqAF"
   },
   "source": [
    "# 24. Какая студия дает самые длинные названия своим фильмам по количеству символов?"
   ]
  },
  {
   "cell_type": "code",
   "execution_count": 31,
   "metadata": {
    "colab": {},
    "colab_type": "code",
    "id": "QRGS8L0iVqAG"
   },
   "outputs": [
    {
     "name": "stdout",
     "output_type": "stream",
     "text": [
      "                         length\n",
      "production_companies           \n",
      "Four By Two Productions    83.0\n"
     ]
    }
   ],
   "source": [
    "answers['24'] = '5. Four By Two Productions'\n",
    "df2 = data[['original_title', 'production_companies', 'imdb_id']].copy().set_index('imdb_id')\n",
    "df2['length'] = df2['original_title'].map(lambda x: len(x))\n",
    "df2.production_companies = df2.production_companies.str.split('|')\n",
    "df3 = df2.explode('production_companies')\n",
    "df4 = pd.pivot_table(df3, values='length', index='production_companies', aggfunc='mean')\n",
    "print(df4.sort_values(by='length', ascending=False).head(1))"
   ]
  },
  {
   "cell_type": "markdown",
   "metadata": {
    "colab_type": "text",
    "id": "9G0hbvR7VqAK"
   },
   "source": [
    "# 25. Описание фильмов какой студии в среднем самые длинные по количеству слов?"
   ]
  },
  {
   "cell_type": "code",
   "execution_count": 32,
   "metadata": {
    "colab": {},
    "colab_type": "code",
    "id": "Ge2GsLNxVqAK",
    "scrolled": true
   },
   "outputs": [
    {
     "name": "stdout",
     "output_type": "stream",
     "text": [
      "production_companies\n",
      "Midnight Picture Show    175.0\n",
      "Name: o_length, dtype: float64\n"
     ]
    }
   ],
   "source": [
    "answers['25'] = '3. Midnight Picture Show '\n",
    "df2 = data[['overview', 'production_companies', 'imdb_id']].copy()\n",
    "df2['o_length'] = df2['overview'].str.split(' ').str.len()\n",
    "df2.production_companies = df2.production_companies.str.split('|')\n",
    "df3 = df2.explode('production_companies')\n",
    "print(df3.groupby('production_companies')['o_length'].mean().nlargest(1))"
   ]
  },
  {
   "cell_type": "markdown",
   "metadata": {
    "colab_type": "text",
    "id": "FJ1AFt90VqAP"
   },
   "source": [
    "# 26. Какие фильмы входят в 1 процент лучших по рейтингу? \n",
    "по vote_average"
   ]
  },
  {
   "cell_type": "code",
   "execution_count": 33,
   "metadata": {
    "colab": {},
    "colab_type": "code",
    "id": "8qmJVq4CVqAQ"
   },
   "outputs": [
    {
     "name": "stdout",
     "output_type": "stream",
     "text": [
      "                                          original_title  vote_average\n",
      "imdb_id                                                               \n",
      "tt0468569                                The Dark Knight           8.1\n",
      "tt2096673                                     Inside Out           8.0\n",
      "tt3170832                                           Room           8.0\n",
      "tt0816692                                   Interstellar           8.0\n",
      "tt2084970                             The Imitation Game           8.0\n",
      "tt2015381                        Guardians of the Galaxy           7.9\n",
      "tt2267998                                      Gone Girl           7.9\n",
      "tt2278388                       The Grand Budapest Hotel           7.9\n",
      "tt1375666                                      Inception           7.9\n",
      "tt0253474                                    The Pianist           7.9\n",
      "tt0167260  The Lord of the Rings: The Return of the King           7.9\n",
      "tt0993846                        The Wolf of Wall Street           7.9\n",
      "tt2024544                               12 Years a Slave           7.9\n",
      "tt0209144                                        Memento           7.9\n"
     ]
    }
   ],
   "source": [
    "answers['26'] = '1. Inside Out, The Dark Knight, 12 Years a Slave'\n",
    "df2 = data[['original_title', 'imdb_id', 'vote_average']].copy().set_index('imdb_id')\n",
    "print(df2[df2.vote_average > df2.vote_average.quantile(q=0.99)].nlargest(20, 'vote_average'))"
   ]
  },
  {
   "cell_type": "markdown",
   "metadata": {
    "colab_type": "text",
    "id": "MdXsUXbCVqAV"
   },
   "source": [
    "# 27. Какие актеры чаще всего снимаются в одном фильме вместе?\n"
   ]
  },
  {
   "cell_type": "markdown",
   "metadata": {
    "colab_type": "text",
    "id": "4ymnxEVoVqAW"
   },
   "source": [
    "ВАРИАНТ 2"
   ]
  },
  {
   "cell_type": "code",
   "execution_count": 34,
   "metadata": {},
   "outputs": [
    {
     "name": "stdout",
     "output_type": "stream",
     "text": [
      "(Daniel Radcliffe, Rupert Grint)    8\n",
      "(Daniel Radcliffe, Emma Watson)     8\n",
      "(Rupert Grint, Emma Watson)         7\n",
      "Name: cast, dtype: int64\n"
     ]
    }
   ],
   "source": [
    "answers['27'] = '5. Daniel Radcliffe & Rupert Grint'\n",
    "from itertools import combinations\n",
    "df2 = data[['cast']].copy()\n",
    "df2 = df2['cast'].str.split('|').apply(lambda x: list(combinations(x, 2)))\n",
    "print(df2.explode('cast').value_counts().head(3))"
   ]
  },
  {
   "cell_type": "markdown",
   "metadata": {
    "colab_type": "text",
    "id": "U0nONFnGVqAX"
   },
   "source": [
    "# Submission"
   ]
  },
  {
   "cell_type": "code",
   "execution_count": 35,
   "metadata": {
    "colab": {},
    "colab_type": "code",
    "id": "IfcaRO9-VqAX",
    "outputId": "0f132912-32bb-4196-c98c-abfbc4ad5a5f"
   },
   "outputs": [
    {
     "data": {
      "text/plain": [
       "{'1': '5. Pirates of the Caribbean: On Stranger Tides (tt1298650)',\n",
       " '2': '2. Gods and Generals (tt0279111)',\n",
       " '3': '3. Winnie the Pooh  (tt1449283)',\n",
       " '4': '02. 110',\n",
       " '5': '1. 107',\n",
       " '6': '5. Avatar  (tt0499549)',\n",
       " '7': '5. The Lone Ranger (tt1210819)',\n",
       " '8': '1. 1478',\n",
       " '9': '4. The Dark Knight (tt0468569)',\n",
       " '10': '5. The Lone Ranger (tt1210819)',\n",
       " '11': '3. Drama',\n",
       " '12': '1. Drama',\n",
       " '13': '5. Peter Jackson',\n",
       " '14': '3. Robert Rodriguez',\n",
       " '15': '3. Chris Hemsworth',\n",
       " '16': '3. Matt Damon',\n",
       " '17': '2. Action',\n",
       " '18': '1. K-19: The Widowmaker (tt0267626)',\n",
       " '19': '5. 2015',\n",
       " '20': '1. 2014',\n",
       " '21': '4. сентябрь',\n",
       " '22': '2. 450',\n",
       " '23': '5. Peter Jackson',\n",
       " '24': '5. Four By Two Productions',\n",
       " '25': '3. Midnight Picture Show ',\n",
       " '26': '1. Inside Out, The Dark Knight, 12 Years a Slave',\n",
       " '27': '5. Daniel Radcliffe & Rupert Grint'}"
      ]
     },
     "execution_count": 35,
     "metadata": {},
     "output_type": "execute_result"
    }
   ],
   "source": [
    "# в конце можно посмотреть свои ответы к каждому вопросу\n",
    "answers"
   ]
  },
  {
   "cell_type": "code",
   "execution_count": 36,
   "metadata": {
    "colab": {},
    "colab_type": "code",
    "id": "SiRmHPl8VqAd"
   },
   "outputs": [
    {
     "data": {
      "text/plain": [
       "27"
      ]
     },
     "execution_count": 36,
     "metadata": {},
     "output_type": "execute_result"
    }
   ],
   "source": [
    "# и убедиться что ни чего не пропустил)\n",
    "len(answers)"
   ]
  },
  {
   "cell_type": "code",
   "execution_count": null,
   "metadata": {
    "colab": {},
    "colab_type": "code",
    "id": "uCfuTkRbVqAg"
   },
   "outputs": [],
   "source": []
  },
  {
   "cell_type": "code",
   "execution_count": null,
   "metadata": {
    "colab": {},
    "colab_type": "code",
    "id": "Vwx3NrkSVqAl"
   },
   "outputs": [],
   "source": []
  }
 ],
 "metadata": {
  "colab": {
   "name": "Copy of [SF-DST] Movies IMBD v4.1 TEMPLATE.ipynb",
   "provenance": []
  },
  "kernelspec": {
   "display_name": "Python 3",
   "language": "python",
   "name": "python3"
  },
  "language_info": {
   "codemirror_mode": {
    "name": "ipython",
    "version": 3
   },
   "file_extension": ".py",
   "mimetype": "text/x-python",
   "name": "python",
   "nbconvert_exporter": "python",
   "pygments_lexer": "ipython3",
   "version": "3.8.5"
  }
 },
 "nbformat": 4,
 "nbformat_minor": 1
}
