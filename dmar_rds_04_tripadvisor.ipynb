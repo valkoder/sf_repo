{
 "cells": [
  {
   "cell_type": "markdown",
   "metadata": {},
   "source": [
    "####  Дмитрий МАРЬИН   \n",
    "----\n",
    "###### TripAdvisor Restaurant Rating prediction  \n",
    "Юнит 3. Введение в ML - Проект 3. О вкусной и здоровой пище (**RDS_04**)  "
   ]
  },
  {
   "cell_type": "markdown",
   "metadata": {},
   "source": [
    "#### Порядок выполнения работы:  \n",
    "+ цель работы, целевой показатель, Базовое решение (Baseline)\n",
    "+ сайт проекта, список и расположение файлов с данными\n",
    "+ 01 список всех используемых в работе столбцов (полей данных) с описанием\n",
    "+ 02 импорт библиотек, данных, пользовательские функции, счетчик, окружение\n",
    "+ 03 общая оценка датасета и данных в столбцах\n",
    "+ 04 Data Preprocessing - оценка и предобработка данных в столбцах \n",
    "+ 05 EDA\n",
    "+ 06 готовим файлы для модели \n",
    "+ 07 Model\n",
    "+ 08 Submission"
   ]
  },
  {
   "cell_type": "markdown",
   "metadata": {},
   "source": [
    "**Цель** - создать модель, использующую алгоритм **RandomForestRegression**,  которая будет прогнозировать рейтинг ресторана по версии TripAdvidor.  \n",
    "**Целевый показатель** - столбец 'Rating'  \n",
    "**Базовое решение** расположено тут - [Baseline nootbook](https://www.kaggle.com/itslek/baseline-sf-tripadvisor-rating-v2-7)  "
   ]
  },
  {
   "cell_type": "markdown",
   "metadata": {},
   "source": [
    "#### [Описание проекта [SF-DST] Restaurant Rating prediction](https://www.kaggle.com/t/18c4256240c04280890e771864c63173)   \n",
    "####   [3 файла на  Kaddle data page:](https://www.kaggle.com/c/sf-dst-restaurant-rating/data)  \n",
    "+ #### [TRAINing dataset (40,000 records) -- main_task.csv => df_train](https://www.kaggle.com/c/sf-dst-restaurant-rating/data?select=main_task.csv)  \n",
    "+ #### [TEST dataset (10,000 records) -- kaggle_task.csv => df_test](https://www.kaggle.com/c/sf-dst-restaurant-rating/data?select=kaggle_task.csv) \n",
    "+ #### [RESULTS template for your model -- sample_submission.csv](https://www.kaggle.com/c/sf-dst-restaurant-rating/data?select=sample_submission.csv)  "
   ]
  },
  {
   "cell_type": "markdown",
   "metadata": {},
   "source": [
    "### 01. Список столбцов (полей данных):\n",
    "+    'Restaurant_id' --- идентификатор ресторана / сети ресторанов  \n",
    "+    'City' -- город  \n",
    "+    'Cuisine Style' -- типы кухни  \n",
    "+    'Ranking' -- место ресторана среди всех ресторанов города  \n",
    "+    'Rating' -- рейтинг TripAdvisor => **TARGET field**  \n",
    "+    'Price Range' -- диапазон цен  \n",
    "+    'Number of Reviews' -- количество отзывов  \n",
    "+    'Reviews' -- приведены 2 отзыва с сайта и их даты\n",
    "+    'URL_TA' -- ссылка на страницу ресторана на TripAdvisor\n",
    "+    'ID_TA' -- идентификатор ресторана в базе TripAdvisor  \n",
    "\n",
    "Добавлены новые:\n",
    "+    признак сетевого ресторана или бренда --'Restaurant_id_isNet'  \n",
    "+    пропуски в  'Number of Reviews' --'Number_of_Reviews_isNAN'  \n",
    "+    пропуски в 'Cuisine Style' -- 'Cuisine_isNAN'  \n",
    "+    4 варианта количеств кухонь -- 'Cus_qty_1 -4'\n",
    "+    скорректированный 'Rating' -- 'Real_rank'  \n",
    "+    4 ценовых варианта из 'Price Range' -- 'P_1-4' \n",
    "+    равный частоте встречаемости 'City' -- 'City_rank'\n",
    "+    31 dummies - названия городов из поля 'City'\n",
    "+    пропуски в 'Reviews' -- 'Reviews_isNAN'\n",
    "\n",
    "Удалены:\n",
    "+    'Restaurant_id'\n",
    "+    'City'\n",
    "+    'Cuisine Style'\n",
    "+    'Price Range'\n",
    "+    'Cuisine Style'\n",
    "+    'Reviews'"
   ]
  },
  {
   "cell_type": "markdown",
   "metadata": {},
   "source": [
    "#### 02. импорт библиотек, данных, пользовательские функции, счетчик, окружение  "
   ]
  },
  {
   "cell_type": "code",
   "execution_count": 1,
   "metadata": {},
   "outputs": [],
   "source": [
    "import numpy as np\n",
    "import pandas as pd\n",
    "import matplotlib.pyplot as plt\n",
    "%matplotlib inline\n",
    "import seaborn as sns\n",
    "from sklearn.model_selection import train_test_split \n",
    "\n",
    "def display_all(df):     # display all columns  or all raws\n",
    "   with pd.option_context('display.max_rows', 30): # rows # to view\n",
    "      with pd.option_context('display.max_columns', None): # columns\n",
    "          display(df)\n",
    "        \n",
    "def values_table(df):\n",
    "    nan_sum = df.isnull().sum()\n",
    "    nan_pc = 100 * df.isnull().sum() / len(df)\n",
    "    un_num = df.nunique(dropna=False)\n",
    "    my_table = pd.concat([nan_sum, nan_pc, un_num], axis=1)\n",
    "    my_table2 = my_table.rename(columns = {0: 'NaN', 1: 'NaN%', 2: 'unique'})\n",
    "    my_table2 = my_table2[my_table2.iloc[:,1] >= 0].round(1)\n",
    "    return my_table2\n",
    "\n",
    "def nan_columns(df):\n",
    "    nan_sum = df.isnull().sum()\n",
    "    print('Nan fix is needed for columns:', nan_sum[nan_sum > 0], sep='\\n'*2)"
   ]
  },
  {
   "cell_type": "code",
   "execution_count": 3,
   "metadata": {},
   "outputs": [],
   "source": [
    "RANDOM_SEED = 42\n",
    "!pip freeze > requirements.txt"
   ]
  },
  {
   "cell_type": "code",
   "execution_count": 4,
   "metadata": {},
   "outputs": [],
   "source": [
    "path_to_files = '' # for working offline -- uncomment\n",
    "# path_to_files = '/kaggle/input/sf-dst-restaurant-rating/' # for online\n",
    "df_train = pd.read_csv(path_to_files+'main_task.csv')\n",
    "df_test = pd.read_csv(path_to_files+'kaggle_task.csv')\n",
    "sample_submission = pd.read_csv(path_to_files+'sample_submission.csv')"
   ]
  },
  {
   "cell_type": "code",
   "execution_count": 5,
   "metadata": {},
   "outputs": [],
   "source": [
    "# для обработки признаков объединяем трейн и тест в  << df >>\n",
    "df_train['sample'] = 1  # помечаем где у нас трейн\n",
    "df_test['sample'] = 0  # помечаем где у нас тест\n",
    "df_test['Rating'] = 0  # add extra column to test - for correct join \n",
    "df = df_test.append(df_train, sort=False).reset_index(drop=True)\n",
    "\n",
    "# data1=df.copy() # копия чтобы можно было восстановить город после get dummies"
   ]
  },
  {
   "cell_type": "markdown",
   "metadata": {},
   "source": [
    "#### 03. общая оценка датасета"
   ]
  },
  {
   "cell_type": "code",
   "execution_count": 6,
   "metadata": {},
   "outputs": [
    {
     "data": {
      "text/html": [
       "<div>\n",
       "<style scoped>\n",
       "    .dataframe tbody tr th:only-of-type {\n",
       "        vertical-align: middle;\n",
       "    }\n",
       "\n",
       "    .dataframe tbody tr th {\n",
       "        vertical-align: top;\n",
       "    }\n",
       "\n",
       "    .dataframe thead th {\n",
       "        text-align: right;\n",
       "    }\n",
       "</style>\n",
       "<table border=\"1\" class=\"dataframe\">\n",
       "  <thead>\n",
       "    <tr style=\"text-align: right;\">\n",
       "      <th></th>\n",
       "      <th>Restaurant_id</th>\n",
       "      <th>City</th>\n",
       "      <th>Cuisine Style</th>\n",
       "      <th>Ranking</th>\n",
       "      <th>Price Range</th>\n",
       "      <th>Number of Reviews</th>\n",
       "      <th>Reviews</th>\n",
       "      <th>URL_TA</th>\n",
       "      <th>ID_TA</th>\n",
       "      <th>sample</th>\n",
       "      <th>Rating</th>\n",
       "    </tr>\n",
       "  </thead>\n",
       "  <tbody>\n",
       "    <tr>\n",
       "      <th>13295</th>\n",
       "      <td>id_1080</td>\n",
       "      <td>Warsaw</td>\n",
       "      <td>['American', 'Pub', 'Gastropub']</td>\n",
       "      <td>1081.0</td>\n",
       "      <td>NaN</td>\n",
       "      <td>2.0</td>\n",
       "      <td>[['Veeery nice place', 'Incredible gem in Prag...</td>\n",
       "      <td>/Restaurant_Review-g274856-d10624929-Reviews-P...</td>\n",
       "      <td>d10624929</td>\n",
       "      <td>1</td>\n",
       "      <td>5.0</td>\n",
       "    </tr>\n",
       "    <tr>\n",
       "      <th>14171</th>\n",
       "      <td>id_1080</td>\n",
       "      <td>Oporto</td>\n",
       "      <td>['European', 'Portuguese']</td>\n",
       "      <td>1081.0</td>\n",
       "      <td>$$ - $$$</td>\n",
       "      <td>4.0</td>\n",
       "      <td>[[\"It's closed\", 'Lovely bakery and cafe'], ['...</td>\n",
       "      <td>/Restaurant_Review-g189180-d8571494-Reviews-Co...</td>\n",
       "      <td>d8571494</td>\n",
       "      <td>1</td>\n",
       "      <td>4.5</td>\n",
       "    </tr>\n",
       "    <tr>\n",
       "      <th>39498</th>\n",
       "      <td>id_990</td>\n",
       "      <td>Barcelona</td>\n",
       "      <td>['Mediterranean', 'Spanish', 'European', 'Arge...</td>\n",
       "      <td>991.0</td>\n",
       "      <td>$$ - $$$</td>\n",
       "      <td>78.0</td>\n",
       "      <td>[['Great food', 'Noisy, but very good'], ['09/...</td>\n",
       "      <td>/Restaurant_Review-g187497-d4783283-Reviews-Ca...</td>\n",
       "      <td>d4783283</td>\n",
       "      <td>1</td>\n",
       "      <td>4.5</td>\n",
       "    </tr>\n",
       "    <tr>\n",
       "      <th>623</th>\n",
       "      <td>id_623</td>\n",
       "      <td>Milan</td>\n",
       "      <td>['Pub']</td>\n",
       "      <td>2423.0</td>\n",
       "      <td>NaN</td>\n",
       "      <td>63.0</td>\n",
       "      <td>[[], []]</td>\n",
       "      <td>/Restaurant_Review-g187849-d2320334-Reviews-Sc...</td>\n",
       "      <td>d2320334</td>\n",
       "      <td>0</td>\n",
       "      <td>0.0</td>\n",
       "    </tr>\n",
       "  </tbody>\n",
       "</table>\n",
       "</div>"
      ],
      "text/plain": [
       "      Restaurant_id       City  \\\n",
       "13295       id_1080     Warsaw   \n",
       "14171       id_1080     Oporto   \n",
       "39498        id_990  Barcelona   \n",
       "623          id_623      Milan   \n",
       "\n",
       "                                           Cuisine Style  Ranking Price Range  \\\n",
       "13295                   ['American', 'Pub', 'Gastropub']   1081.0         NaN   \n",
       "14171                         ['European', 'Portuguese']   1081.0    $$ - $$$   \n",
       "39498  ['Mediterranean', 'Spanish', 'European', 'Arge...    991.0    $$ - $$$   \n",
       "623                                              ['Pub']   2423.0         NaN   \n",
       "\n",
       "       Number of Reviews                                            Reviews  \\\n",
       "13295                2.0  [['Veeery nice place', 'Incredible gem in Prag...   \n",
       "14171                4.0  [[\"It's closed\", 'Lovely bakery and cafe'], ['...   \n",
       "39498               78.0  [['Great food', 'Noisy, but very good'], ['09/...   \n",
       "623                 63.0                                           [[], []]   \n",
       "\n",
       "                                                  URL_TA      ID_TA  sample  \\\n",
       "13295  /Restaurant_Review-g274856-d10624929-Reviews-P...  d10624929       1   \n",
       "14171  /Restaurant_Review-g189180-d8571494-Reviews-Co...   d8571494       1   \n",
       "39498  /Restaurant_Review-g187497-d4783283-Reviews-Ca...   d4783283       1   \n",
       "623    /Restaurant_Review-g187849-d2320334-Reviews-Sc...   d2320334       0   \n",
       "\n",
       "       Rating  \n",
       "13295     5.0  \n",
       "14171     4.5  \n",
       "39498     4.5  \n",
       "623       0.0  "
      ]
     },
     "execution_count": 6,
     "metadata": {},
     "output_type": "execute_result"
    }
   ],
   "source": [
    "df.sample(4)"
   ]
  },
  {
   "cell_type": "code",
   "execution_count": 7,
   "metadata": {},
   "outputs": [
    {
     "name": "stdout",
     "output_type": "stream",
     "text": [
      "<class 'pandas.core.frame.DataFrame'>\n",
      "RangeIndex: 50000 entries, 0 to 49999\n",
      "Data columns (total 11 columns):\n",
      " #   Column             Non-Null Count  Dtype  \n",
      "---  ------             --------------  -----  \n",
      " 0   Restaurant_id      50000 non-null  object \n",
      " 1   City               50000 non-null  object \n",
      " 2   Cuisine Style      38410 non-null  object \n",
      " 3   Ranking            50000 non-null  float64\n",
      " 4   Price Range        32639 non-null  object \n",
      " 5   Number of Reviews  46800 non-null  float64\n",
      " 6   Reviews            49998 non-null  object \n",
      " 7   URL_TA             50000 non-null  object \n",
      " 8   ID_TA              50000 non-null  object \n",
      " 9   sample             50000 non-null  int64  \n",
      " 10  Rating             50000 non-null  float64\n",
      "dtypes: float64(3), int64(1), object(7)\n",
      "memory usage: 4.2+ MB\n"
     ]
    }
   ],
   "source": [
    "df.info()"
   ]
  },
  {
   "cell_type": "code",
   "execution_count": 8,
   "metadata": {
    "scrolled": false
   },
   "outputs": [
    {
     "name": "stdout",
     "output_type": "stream",
     "text": [
      "Restaurant_id\n",
      "City\n",
      "Cuisine Style\n",
      "Ranking\n",
      "Price Range\n",
      "Number of Reviews\n",
      "Reviews\n",
      "URL_TA\n",
      "ID_TA\n",
      "sample\n",
      "Rating\n"
     ]
    }
   ],
   "source": [
    "fields_list = df.columns.tolist() # COLUMN NAMES list\n",
    "for x in fields_list:\n",
    "    print(x)"
   ]
  },
  {
   "cell_type": "markdown",
   "metadata": {},
   "source": [
    "#### Суммарная оценка NaN и уникальных значений  в столбцах  "
   ]
  },
  {
   "cell_type": "code",
   "execution_count": 9,
   "metadata": {
    "scrolled": true
   },
   "outputs": [
    {
     "data": {
      "text/html": [
       "<div>\n",
       "<style scoped>\n",
       "    .dataframe tbody tr th:only-of-type {\n",
       "        vertical-align: middle;\n",
       "    }\n",
       "\n",
       "    .dataframe tbody tr th {\n",
       "        vertical-align: top;\n",
       "    }\n",
       "\n",
       "    .dataframe thead th {\n",
       "        text-align: right;\n",
       "    }\n",
       "</style>\n",
       "<table border=\"1\" class=\"dataframe\">\n",
       "  <thead>\n",
       "    <tr style=\"text-align: right;\">\n",
       "      <th></th>\n",
       "      <th>NaN</th>\n",
       "      <th>NaN%</th>\n",
       "      <th>unique</th>\n",
       "    </tr>\n",
       "  </thead>\n",
       "  <tbody>\n",
       "    <tr>\n",
       "      <th>Restaurant_id</th>\n",
       "      <td>0</td>\n",
       "      <td>0.0</td>\n",
       "      <td>13094</td>\n",
       "    </tr>\n",
       "    <tr>\n",
       "      <th>City</th>\n",
       "      <td>0</td>\n",
       "      <td>0.0</td>\n",
       "      <td>31</td>\n",
       "    </tr>\n",
       "    <tr>\n",
       "      <th>Cuisine Style</th>\n",
       "      <td>11590</td>\n",
       "      <td>23.2</td>\n",
       "      <td>10732</td>\n",
       "    </tr>\n",
       "    <tr>\n",
       "      <th>Ranking</th>\n",
       "      <td>0</td>\n",
       "      <td>0.0</td>\n",
       "      <td>12975</td>\n",
       "    </tr>\n",
       "    <tr>\n",
       "      <th>Price Range</th>\n",
       "      <td>17361</td>\n",
       "      <td>34.7</td>\n",
       "      <td>4</td>\n",
       "    </tr>\n",
       "    <tr>\n",
       "      <th>Number of Reviews</th>\n",
       "      <td>3200</td>\n",
       "      <td>6.4</td>\n",
       "      <td>1574</td>\n",
       "    </tr>\n",
       "    <tr>\n",
       "      <th>Reviews</th>\n",
       "      <td>2</td>\n",
       "      <td>0.0</td>\n",
       "      <td>41858</td>\n",
       "    </tr>\n",
       "    <tr>\n",
       "      <th>URL_TA</th>\n",
       "      <td>0</td>\n",
       "      <td>0.0</td>\n",
       "      <td>49963</td>\n",
       "    </tr>\n",
       "    <tr>\n",
       "      <th>ID_TA</th>\n",
       "      <td>0</td>\n",
       "      <td>0.0</td>\n",
       "      <td>49963</td>\n",
       "    </tr>\n",
       "    <tr>\n",
       "      <th>sample</th>\n",
       "      <td>0</td>\n",
       "      <td>0.0</td>\n",
       "      <td>2</td>\n",
       "    </tr>\n",
       "    <tr>\n",
       "      <th>Rating</th>\n",
       "      <td>0</td>\n",
       "      <td>0.0</td>\n",
       "      <td>10</td>\n",
       "    </tr>\n",
       "  </tbody>\n",
       "</table>\n",
       "</div>"
      ],
      "text/plain": [
       "                     NaN  NaN%  unique\n",
       "Restaurant_id          0   0.0   13094\n",
       "City                   0   0.0      31\n",
       "Cuisine Style      11590  23.2   10732\n",
       "Ranking                0   0.0   12975\n",
       "Price Range        17361  34.7       4\n",
       "Number of Reviews   3200   6.4    1574\n",
       "Reviews                2   0.0   41858\n",
       "URL_TA                 0   0.0   49963\n",
       "ID_TA                  0   0.0   49963\n",
       "sample                 0   0.0       2\n",
       "Rating                 0   0.0      10"
      ]
     },
     "execution_count": 9,
     "metadata": {},
     "output_type": "execute_result"
    }
   ],
   "source": [
    "values_table(df)   # in joined df (test + train)"
   ]
  },
  {
   "cell_type": "markdown",
   "metadata": {},
   "source": [
    "**03.1** выводим список столбцов с пропусками для дальнейшей обработки"
   ]
  },
  {
   "cell_type": "code",
   "execution_count": 10,
   "metadata": {},
   "outputs": [
    {
     "name": "stdout",
     "output_type": "stream",
     "text": [
      "Nan fix is needed for columns:\n",
      "\n",
      "Cuisine Style        11590\n",
      "Price Range          17361\n",
      "Number of Reviews     3200\n",
      "Reviews                  2\n",
      "dtype: int64\n"
     ]
    }
   ],
   "source": [
    "nan_columns(df)"
   ]
  },
  {
   "cell_type": "markdown",
   "metadata": {},
   "source": [
    "**03.2** знакомство с признаками (**describe**) и **просмотр дубликатов**"
   ]
  },
  {
   "cell_type": "code",
   "execution_count": 11,
   "metadata": {},
   "outputs": [
    {
     "data": {
      "text/plain": [
       "count      50000\n",
       "unique     13094\n",
       "top       id_227\n",
       "freq          19\n",
       "Name: Restaurant_id, dtype: object"
      ]
     },
     "execution_count": 11,
     "metadata": {},
     "output_type": "execute_result"
    }
   ],
   "source": [
    "x = 'Restaurant_id' # select COLUMN TO LOOKUP (describe)\n",
    "df[x].describe() # freq = is the most common value’s frequency"
   ]
  },
  {
   "cell_type": "code",
   "execution_count": 12,
   "metadata": {},
   "outputs": [
    {
     "data": {
      "text/html": [
       "<div>\n",
       "<style scoped>\n",
       "    .dataframe tbody tr th:only-of-type {\n",
       "        vertical-align: middle;\n",
       "    }\n",
       "\n",
       "    .dataframe tbody tr th {\n",
       "        vertical-align: top;\n",
       "    }\n",
       "\n",
       "    .dataframe thead th {\n",
       "        text-align: right;\n",
       "    }\n",
       "</style>\n",
       "<table border=\"1\" class=\"dataframe\">\n",
       "  <thead>\n",
       "    <tr style=\"text-align: right;\">\n",
       "      <th></th>\n",
       "      <th>Restaurant_id</th>\n",
       "      <th>City</th>\n",
       "      <th>Cuisine Style</th>\n",
       "      <th>Ranking</th>\n",
       "      <th>Price Range</th>\n",
       "      <th>Number of Reviews</th>\n",
       "      <th>Reviews</th>\n",
       "      <th>URL_TA</th>\n",
       "      <th>ID_TA</th>\n",
       "      <th>sample</th>\n",
       "      <th>Rating</th>\n",
       "    </tr>\n",
       "  </thead>\n",
       "  <tbody>\n",
       "    <tr>\n",
       "      <th>0</th>\n",
       "      <td>id_0</td>\n",
       "      <td>Paris</td>\n",
       "      <td>['Bar', 'Pub']</td>\n",
       "      <td>12963.0</td>\n",
       "      <td>$$ - $$$</td>\n",
       "      <td>4.0</td>\n",
       "      <td>[[], []]</td>\n",
       "      <td>/Restaurant_Review-g187147-d10746918-Reviews-L...</td>\n",
       "      <td>d10746918</td>\n",
       "      <td>0</td>\n",
       "      <td>0.0</td>\n",
       "    </tr>\n",
       "    <tr>\n",
       "      <th>32863</th>\n",
       "      <td>id_0</td>\n",
       "      <td>Edinburgh</td>\n",
       "      <td>['European', 'British', 'Scottish']</td>\n",
       "      <td>1.0</td>\n",
       "      <td>$$$$</td>\n",
       "      <td>263.0</td>\n",
       "      <td>[['Unforgettable', 'GROUP DINING EXPERIENCE DI...</td>\n",
       "      <td>/Restaurant_Review-g186525-d8479434-Reviews-Th...</td>\n",
       "      <td>d8479434</td>\n",
       "      <td>1</td>\n",
       "      <td>5.0</td>\n",
       "    </tr>\n",
       "    <tr>\n",
       "      <th>33201</th>\n",
       "      <td>id_0</td>\n",
       "      <td>Vienna</td>\n",
       "      <td>['Austrian', 'European', 'Central European', '...</td>\n",
       "      <td>1.0</td>\n",
       "      <td>$$$$</td>\n",
       "      <td>241.0</td>\n",
       "      <td>[[\"Fine dining at it's best\", 'Xmas dinner'], ...</td>\n",
       "      <td>/Restaurant_Review-g190454-d7361583-Reviews-Ca...</td>\n",
       "      <td>d7361583</td>\n",
       "      <td>1</td>\n",
       "      <td>5.0</td>\n",
       "    </tr>\n",
       "    <tr>\n",
       "      <th>33892</th>\n",
       "      <td>id_0</td>\n",
       "      <td>Warsaw</td>\n",
       "      <td>['Thai', 'Asian', 'Vegetarian Friendly', 'Glut...</td>\n",
       "      <td>1.0</td>\n",
       "      <td>$</td>\n",
       "      <td>108.0</td>\n",
       "      <td>[['Great experience', 'Best Thai food out of T...</td>\n",
       "      <td>/Restaurant_Review-g274856-d12871486-Reviews-S...</td>\n",
       "      <td>d12871486</td>\n",
       "      <td>1</td>\n",
       "      <td>5.0</td>\n",
       "    </tr>\n",
       "    <tr>\n",
       "      <th>34120</th>\n",
       "      <td>id_0</td>\n",
       "      <td>Amsterdam</td>\n",
       "      <td>['French', 'Dutch', 'European']</td>\n",
       "      <td>1.0</td>\n",
       "      <td>$$ - $$$</td>\n",
       "      <td>136.0</td>\n",
       "      <td>[['Just like home', 'A Warm Welcome to Wintry ...</td>\n",
       "      <td>/Restaurant_Review-g188590-d11752080-Reviews-M...</td>\n",
       "      <td>d11752080</td>\n",
       "      <td>1</td>\n",
       "      <td>5.0</td>\n",
       "    </tr>\n",
       "    <tr>\n",
       "      <th>...</th>\n",
       "      <td>...</td>\n",
       "      <td>...</td>\n",
       "      <td>...</td>\n",
       "      <td>...</td>\n",
       "      <td>...</td>\n",
       "      <td>...</td>\n",
       "      <td>...</td>\n",
       "      <td>...</td>\n",
       "      <td>...</td>\n",
       "      <td>...</td>\n",
       "      <td>...</td>\n",
       "    </tr>\n",
       "    <tr>\n",
       "      <th>38998</th>\n",
       "      <td>id_9994</td>\n",
       "      <td>London</td>\n",
       "      <td>['Pizza', 'Italian']</td>\n",
       "      <td>10003.0</td>\n",
       "      <td>$$ - $$$</td>\n",
       "      <td>8.0</td>\n",
       "      <td>[['Brilliant Pizza', 'Great pizza as always'],...</td>\n",
       "      <td>/Restaurant_Review-g186338-d10533045-Reviews-B...</td>\n",
       "      <td>d10533045</td>\n",
       "      <td>1</td>\n",
       "      <td>4.5</td>\n",
       "    </tr>\n",
       "    <tr>\n",
       "      <th>9994</th>\n",
       "      <td>id_9994</td>\n",
       "      <td>Lisbon</td>\n",
       "      <td>['Mediterranean', 'European', 'Portuguese']</td>\n",
       "      <td>813.0</td>\n",
       "      <td>$$ - $$$</td>\n",
       "      <td>119.0</td>\n",
       "      <td>[['Waiting horror', 'Perfect Destination Weddi...</td>\n",
       "      <td>/Restaurant_Review-g189158-d6976663-Reviews-Pa...</td>\n",
       "      <td>d6976663</td>\n",
       "      <td>0</td>\n",
       "      <td>0.0</td>\n",
       "    </tr>\n",
       "    <tr>\n",
       "      <th>9995</th>\n",
       "      <td>id_9995</td>\n",
       "      <td>London</td>\n",
       "      <td>['Caribbean', 'Barbecue', 'Jamaican', 'Vegetar...</td>\n",
       "      <td>4367.0</td>\n",
       "      <td>$</td>\n",
       "      <td>28.0</td>\n",
       "      <td>[['By far best Chicken burgers and wings in L....</td>\n",
       "      <td>/Restaurant_Review-g186338-d11916827-Reviews-C...</td>\n",
       "      <td>d11916827</td>\n",
       "      <td>0</td>\n",
       "      <td>0.0</td>\n",
       "    </tr>\n",
       "    <tr>\n",
       "      <th>43394</th>\n",
       "      <td>id_9995</td>\n",
       "      <td>London</td>\n",
       "      <td>['Italian', 'Pizza', 'Mediterranean', 'Europea...</td>\n",
       "      <td>10004.0</td>\n",
       "      <td>$$ - $$$</td>\n",
       "      <td>38.0</td>\n",
       "      <td>[['Average but worthed.', 'AL PARCO-IDEAL FOR ...</td>\n",
       "      <td>/Restaurant_Review-g186338-d3902010-Reviews-Al...</td>\n",
       "      <td>d3902010</td>\n",
       "      <td>1</td>\n",
       "      <td>3.5</td>\n",
       "    </tr>\n",
       "    <tr>\n",
       "      <th>30514</th>\n",
       "      <td>id_9995</td>\n",
       "      <td>Paris</td>\n",
       "      <td>['Healthy', 'French', 'Fusion', 'Street Food']</td>\n",
       "      <td>9997.0</td>\n",
       "      <td>$</td>\n",
       "      <td>3.0</td>\n",
       "      <td>[[], []]</td>\n",
       "      <td>/Restaurant_Review-g187147-d12913531-Reviews-N...</td>\n",
       "      <td>d12913531</td>\n",
       "      <td>1</td>\n",
       "      <td>4.0</td>\n",
       "    </tr>\n",
       "  </tbody>\n",
       "</table>\n",
       "<p>46193 rows × 11 columns</p>\n",
       "</div>"
      ],
      "text/plain": [
       "      Restaurant_id       City  \\\n",
       "0              id_0      Paris   \n",
       "32863          id_0  Edinburgh   \n",
       "33201          id_0     Vienna   \n",
       "33892          id_0     Warsaw   \n",
       "34120          id_0  Amsterdam   \n",
       "...             ...        ...   \n",
       "38998       id_9994     London   \n",
       "9994        id_9994     Lisbon   \n",
       "9995        id_9995     London   \n",
       "43394       id_9995     London   \n",
       "30514       id_9995      Paris   \n",
       "\n",
       "                                           Cuisine Style  Ranking Price Range  \\\n",
       "0                                         ['Bar', 'Pub']  12963.0    $$ - $$$   \n",
       "32863                ['European', 'British', 'Scottish']      1.0        $$$$   \n",
       "33201  ['Austrian', 'European', 'Central European', '...      1.0        $$$$   \n",
       "33892  ['Thai', 'Asian', 'Vegetarian Friendly', 'Glut...      1.0           $   \n",
       "34120                    ['French', 'Dutch', 'European']      1.0    $$ - $$$   \n",
       "...                                                  ...      ...         ...   \n",
       "38998                               ['Pizza', 'Italian']  10003.0    $$ - $$$   \n",
       "9994         ['Mediterranean', 'European', 'Portuguese']    813.0    $$ - $$$   \n",
       "9995   ['Caribbean', 'Barbecue', 'Jamaican', 'Vegetar...   4367.0           $   \n",
       "43394  ['Italian', 'Pizza', 'Mediterranean', 'Europea...  10004.0    $$ - $$$   \n",
       "30514     ['Healthy', 'French', 'Fusion', 'Street Food']   9997.0           $   \n",
       "\n",
       "       Number of Reviews                                            Reviews  \\\n",
       "0                    4.0                                           [[], []]   \n",
       "32863              263.0  [['Unforgettable', 'GROUP DINING EXPERIENCE DI...   \n",
       "33201              241.0  [[\"Fine dining at it's best\", 'Xmas dinner'], ...   \n",
       "33892              108.0  [['Great experience', 'Best Thai food out of T...   \n",
       "34120              136.0  [['Just like home', 'A Warm Welcome to Wintry ...   \n",
       "...                  ...                                                ...   \n",
       "38998                8.0  [['Brilliant Pizza', 'Great pizza as always'],...   \n",
       "9994               119.0  [['Waiting horror', 'Perfect Destination Weddi...   \n",
       "9995                28.0  [['By far best Chicken burgers and wings in L....   \n",
       "43394               38.0  [['Average but worthed.', 'AL PARCO-IDEAL FOR ...   \n",
       "30514                3.0                                           [[], []]   \n",
       "\n",
       "                                                  URL_TA      ID_TA  sample  \\\n",
       "0      /Restaurant_Review-g187147-d10746918-Reviews-L...  d10746918       0   \n",
       "32863  /Restaurant_Review-g186525-d8479434-Reviews-Th...   d8479434       1   \n",
       "33201  /Restaurant_Review-g190454-d7361583-Reviews-Ca...   d7361583       1   \n",
       "33892  /Restaurant_Review-g274856-d12871486-Reviews-S...  d12871486       1   \n",
       "34120  /Restaurant_Review-g188590-d11752080-Reviews-M...  d11752080       1   \n",
       "...                                                  ...        ...     ...   \n",
       "38998  /Restaurant_Review-g186338-d10533045-Reviews-B...  d10533045       1   \n",
       "9994   /Restaurant_Review-g189158-d6976663-Reviews-Pa...   d6976663       0   \n",
       "9995   /Restaurant_Review-g186338-d11916827-Reviews-C...  d11916827       0   \n",
       "43394  /Restaurant_Review-g186338-d3902010-Reviews-Al...   d3902010       1   \n",
       "30514  /Restaurant_Review-g187147-d12913531-Reviews-N...  d12913531       1   \n",
       "\n",
       "       Rating  \n",
       "0         0.0  \n",
       "32863     5.0  \n",
       "33201     5.0  \n",
       "33892     5.0  \n",
       "34120     5.0  \n",
       "...       ...  \n",
       "38998     4.5  \n",
       "9994      0.0  \n",
       "9995      0.0  \n",
       "43394     3.5  \n",
       "30514     4.0  \n",
       "\n",
       "[46193 rows x 11 columns]"
      ]
     },
     "metadata": {},
     "output_type": "display_data"
    }
   ],
   "source": [
    "df2 = df.sort_values(by=[x]) # new dataframe sorted by column X!\n",
    "display(df2[df2[x].duplicated(keep=False)]) # show << DUPLICATES >> in column X"
   ]
  },
  {
   "cell_type": "markdown",
   "metadata": {},
   "source": [
    "+ признак **'Restaurant_id'** не уникальный, будет использован как признак сетевого ресторана\n",
    "+ **'ID_TA'** имеет небольшое количество дубликатов, он входит в состав URL_TA"
   ]
  },
  {
   "cell_type": "markdown",
   "metadata": {},
   "source": [
    "### 04. Data Preprocessing - оценка и предобработка - в датасете = 'df' (train + test)"
   ]
  },
  {
   "cell_type": "markdown",
   "metadata": {},
   "source": [
    "----\n",
    "**04.1** признак **'Restaurant_id' -- удаляем**,  \n",
    " для сетевых ресторанов **создаем **'Restaurant_id_isNet'**    "
   ]
  },
  {
   "cell_type": "code",
   "execution_count": 13,
   "metadata": {
    "scrolled": true
   },
   "outputs": [
    {
     "data": {
      "text/plain": [
       "1    36906\n",
       "0    13094\n",
       "Name: Restaurant_id_isNet, dtype: int64"
      ]
     },
     "execution_count": 13,
     "metadata": {},
     "output_type": "execute_result"
    }
   ],
   "source": [
    "df['Restaurant_id_isNet'] = df.duplicated(subset=['Restaurant_id']).astype('uint8') # net = 1\n",
    "df = df.drop(['Restaurant_id'], axis='columns')\n",
    "df['Restaurant_id_isNet'].value_counts()"
   ]
  },
  {
   "cell_type": "markdown",
   "metadata": {},
   "source": [
    "----\n",
    "**04.2** признаки **'URL_TA' и 'ID_TA' -- удаляем**  "
   ]
  },
  {
   "cell_type": "code",
   "execution_count": 14,
   "metadata": {},
   "outputs": [],
   "source": [
    "df = df.drop(['URL_TA', 'ID_TA'], axis='columns')"
   ]
  },
  {
   "cell_type": "markdown",
   "metadata": {},
   "source": [
    "----\n",
    "**04.3** признак **'Number_of_Reviews'** --  Nan заполняем нулями,  \n",
    "пропуски заносим в новый признак -- **'Number_of_Reviews_isNAN'**  "
   ]
  },
  {
   "cell_type": "code",
   "execution_count": 15,
   "metadata": {},
   "outputs": [],
   "source": [
    "df['Number_of_Reviews_isNAN'] = pd.isna(df['Number of Reviews']).astype('uint8')\n",
    "df['Number of Reviews'].fillna(0, inplace=True)"
   ]
  },
  {
   "cell_type": "markdown",
   "metadata": {},
   "source": [
    "----\n",
    "**04.4** признак **'Cuisine Style'** -- **Nan** заполняем **'not specified'**, \n",
    "\n",
    "пропуски заносим в новый признак -- **'Cuisine_isNAN'** \n",
    "\n",
    "**число вариантов кухни** заносим в новый признак **'Cuisine_qty'** \n",
    "\n",
    "создаем **4 бинарных признака: Cus_qty_1, Cus_qty_2, Cus_qty_3, Cus_qty_4**\n",
    "\n",
    "удаляем исходный признак **'Cuisine Style'**"
   ]
  },
  {
   "cell_type": "code",
   "execution_count": 16,
   "metadata": {},
   "outputs": [],
   "source": [
    "df['Cuisine_isNAN'] = pd.isna(df['Cuisine Style']).astype('uint8')\n",
    "df['Cuisine Style'].fillna(\"['not_specified']\",inplace=True)\n",
    "df['Cuisine Style'] = df['Cuisine Style'].apply(lambda x: eval(x)) # to list\n",
    "df['Cuisine_qty'] = df['Cuisine Style'].apply(lambda x: len(x)) # q-ty to new column"
   ]
  },
  {
   "cell_type": "code",
   "execution_count": 17,
   "metadata": {},
   "outputs": [
    {
     "data": {
      "image/png": "[encoded data removed]",
      "text/plain": [
       "<Figure size 432x288 with 1 Axes>"
      ]
     },
     "metadata": {
      "needs_background": "light"
     },
     "output_type": "display_data"
    }
   ],
   "source": [
    "ax = df.Cuisine_qty.plot.box() # распределение"
   ]
  },
  {
   "cell_type": "code",
   "execution_count": 18,
   "metadata": {},
   "outputs": [
    {
     "data": {
      "text/plain": [
       "<AxesSubplot:xlabel='Cuisine_qty', ylabel='Rating'>"
      ]
     },
     "execution_count": 18,
     "metadata": {},
     "output_type": "execute_result"
    },
    {
     "data": {
      "image/png": "[encoded data removed]",
      "text/plain": [
       "<Figure size 432x288 with 1 Axes>"
      ]
     },
     "metadata": {
      "needs_background": "light"
     },
     "output_type": "display_data"
    }
   ],
   "source": [
    "sns.scatterplot(data=df, x=\"Cuisine_qty\", y=\"Rating\") # к целевой переменной"
   ]
  },
  {
   "cell_type": "markdown",
   "metadata": {},
   "source": [
    "из числа кухонь создадим **4 бинарных признака: Cus_qty_1, Cus_qty_2, Cus_qty_3, Cus_qty_4**\n",
    "\n",
    "по числу вариантов предлагамых типов кухонь = 1, = 2, от 2 до 5, больше 5  \n",
    "\n",
    "исходный столбец **'Cuisine Style'** удаляем"
   ]
  },
  {
   "cell_type": "code",
   "execution_count": 19,
   "metadata": {},
   "outputs": [],
   "source": [
    "df['Cus_qty_1'] = df['Cuisine_qty'].apply(lambda x: 1 if x == 1 else 0)\n",
    "df['Cus_qty_2'] = df['Cuisine_qty'].apply(lambda x: 2 if 1 < x <= 2 else 0)\n",
    "df['Cus_qty_3'] = df['Cuisine_qty'].apply(lambda x: 3 if 2 < x <= 5 else 0)\n",
    "df['Cus_qty_4'] = df['Cuisine_qty'].apply(lambda x: 4 if 5 < x else 0)\n",
    "df = df.drop(['Cuisine Style'], axis='columns')"
   ]
  },
  {
   "cell_type": "markdown",
   "metadata": {},
   "source": [
    "----\n",
    "**04.5** признак **'Ranking'** -- добавляем признак **'Real_rank'** \n",
    "\n",
    "полученный делением \"числа ресторанов в городе\" на 'Ranking'"
   ]
  },
  {
   "cell_type": "markdown",
   "metadata": {},
   "source": [
    "Из baseline решения видно, что это очень важный параметр для модели, но в исходном виде он малоинформативен. Он показывает место в городском рейтинге ресторанов, но изначально мы не знаем сколько ресторанов в городе. То есть, что бы узнать его более реалистичное значение \n",
    " -- надо число ресторанов разделить на Ranking. Число ресторанов можно оценить по количеству записей в базе на каждый город."
   ]
  },
  {
   "cell_type": "code",
   "execution_count": 20,
   "metadata": {},
   "outputs": [],
   "source": [
    "grouped = df.groupby('City')\n",
    "rest_count = grouped['City'].count() # return Series\n",
    "df['Rest_qty'] = df['City'].map(rest_count) # new column with rest q-ty in city\n",
    "df['Real_rank'] = df['Rest_qty'] / df['Ranking'] # new rank paramter received"
   ]
  },
  {
   "cell_type": "code",
   "execution_count": 21,
   "metadata": {
    "scrolled": false
   },
   "outputs": [
    {
     "data": {
      "text/plain": [
       "<AxesSubplot:xlabel='Real_rank', ylabel='Rating'>"
      ]
     },
     "execution_count": 21,
     "metadata": {},
     "output_type": "execute_result"
    },
    {
     "data": {
      "image/png": "[encoded data removed]",
      "text/plain": [
       "<Figure size 432x288 with 1 Axes>"
      ]
     },
     "metadata": {
      "needs_background": "light"
     },
     "output_type": "display_data"
    }
   ],
   "source": [
    "sns.scatterplot(data=df, x=\"Real_rank\", y=\"Rating\") # к целевой переменной"
   ]
  },
  {
   "cell_type": "markdown",
   "metadata": {},
   "source": [
    "----\n",
    "**04.6** признак **'Price Range'** \n",
    "\n",
    "из его 3-х категорий и Nan создаем **4 бинарных признака P_1.0 - P__3.0, P_nan**   "
   ]
  },
  {
   "cell_type": "code",
   "execution_count": 22,
   "metadata": {},
   "outputs": [],
   "source": [
    "price_dict = {'$': 1, '$$ - $$$': 2, '$$$$': 3}\n",
    "df['Price Range'] = df['Price Range'].map(price_dict)\n",
    "df = pd.get_dummies(df, columns=['Price Range'], prefix='P', dummy_na=True)"
   ]
  },
  {
   "cell_type": "markdown",
   "metadata": {},
   "source": [
    "----\n",
    "**04.7** создаем признак **'C_rev_qty'** -- для каждого города сумма 'Number of Reviews' для всех ресторанов города"
   ]
  },
  {
   "cell_type": "code",
   "execution_count": 23,
   "metadata": {},
   "outputs": [],
   "source": [
    "rev_sum = df.groupby(['City'])['Number of Reviews'].sum()  # return Series\n",
    "df['C_rev_qty'] = df['City'].map(rev_sum).rank(pct=True) # sum of reviews per city"
   ]
  },
  {
   "cell_type": "markdown",
   "metadata": {},
   "source": [
    "----\n",
    "**04.8** признак **'City'** -- создаем новый признак **City_rank** из частоты 'City' ( = value_counts)  \n",
    "\n",
    "и используя One-Hot Encoding создаем еще **dummy-признаки для всех городов**  "
   ]
  },
  {
   "cell_type": "code",
   "execution_count": 24,
   "metadata": {
    "scrolled": true
   },
   "outputs": [],
   "source": [
    "temp_obj = df['City'].value_counts()\n",
    "df['C_rank'] = df['City'].apply(lambda x: temp_obj[x]).rank(pct=True) # rank in percent\n",
    "\n",
    "df = pd.get_dummies(df, columns=['City'], prefix='C')"
   ]
  },
  {
   "cell_type": "markdown",
   "metadata": {},
   "source": [
    "----\n",
    "**04.9** признак **'Reviews'** -- \n",
    "пропуски заносим в **'Reviews_isNAN'**, текстовый столбец 'Reviews' удаляем"
   ]
  },
  {
   "cell_type": "code",
   "execution_count": 25,
   "metadata": {},
   "outputs": [],
   "source": [
    "df['Reviews_isNAN'] = (df['Reviews'] == '[[], []]').astype('uint8')\n",
    "df = df.drop(['Reviews'], axis='columns')"
   ]
  },
  {
   "cell_type": "markdown",
   "metadata": {},
   "source": [
    "----\n",
    "### 05. EDA\n"
   ]
  },
  {
   "cell_type": "markdown",
   "metadata": {},
   "source": [
    "----\n",
    "**05.1** **'целевая переменная  -- 'Rating'**  \n"
   ]
  },
  {
   "cell_type": "code",
   "execution_count": 26,
   "metadata": {
    "scrolled": true
   },
   "outputs": [
    {
     "data": {
      "text/plain": [
       "<AxesSubplot:xlabel='Rating', ylabel='Count'>"
      ]
     },
     "execution_count": 26,
     "metadata": {},
     "output_type": "execute_result"
    },
    {
     "data": {
      "image/png": "[encoded data removed]",
      "text/plain": [
       "<Figure size 432x288 with 1 Axes>"
      ]
     },
     "metadata": {
      "needs_background": "light"
     },
     "output_type": "display_data"
    }
   ],
   "source": [
    "sns.histplot(data=df_train.Rating, bins=10,)"
   ]
  },
  {
   "cell_type": "markdown",
   "metadata": {},
   "source": [
    "----\n",
    "**05.2** **оценка корреляций**  \n"
   ]
  },
  {
   "cell_type": "code",
   "execution_count": 27,
   "metadata": {},
   "outputs": [],
   "source": [
    "df_0 = df # USE TEMPORARY DATASET for charts\n",
    "# re-arrange columns - column 'Rating' to be first column\n",
    "temp_ser = df_0['Rating'] # data Series from 'Rating'\n",
    "df_0 = df_0.drop(columns=['Rating'])\n",
    "df_0.insert(loc=0, column='Rating', value=temp_ser)\n",
    "df_0 = df_0.drop(columns=['sample'])"
   ]
  },
  {
   "cell_type": "markdown",
   "metadata": {},
   "source": [
    "**матрица корреляций** целевое значение 'Rating' в первом столбце"
   ]
  },
  {
   "cell_type": "code",
   "execution_count": 28,
   "metadata": {},
   "outputs": [
    {
     "data": {
      "text/plain": [
       "<AxesSubplot:>"
      ]
     },
     "execution_count": 28,
     "metadata": {},
     "output_type": "execute_result"
    },
    {
     "data": {
      "image/png": "[encoded data removed]",
      "text/plain": [
       "<Figure size 1080x720 with 2 Axes>"
      ]
     },
     "metadata": {
      "needs_background": "light"
     },
     "output_type": "display_data"
    }
   ],
   "source": [
    "plt.rcParams['figure.figsize'] = (15, 10)\n",
    "sns.heatmap(df_0.corr(method ='spearman'))"
   ]
  },
  {
   "cell_type": "markdown",
   "metadata": {},
   "source": [
    "### корреляция между целевым и остальными параметрами"
   ]
  },
  {
   "cell_type": "code",
   "execution_count": 29,
   "metadata": {},
   "outputs": [
    {
     "name": "stdout",
     "output_type": "stream",
     "text": [
      "Rating                 1.00\n",
      "Restaurant_id_isNet    0.69\n",
      "Real_rank              0.32\n",
      "Ranking                0.21\n",
      "C_Rome                 0.05\n",
      "Cuisine_qty            0.05\n",
      "Cus_qty_4              0.05\n",
      "Number of Reviews      0.05\n",
      "C_Milan                0.05\n",
      "P_1.0                  0.05\n",
      "Name: Rating, dtype: float64\n"
     ]
    }
   ],
   "source": [
    "df_m = df_0.corr(method ='spearman')\n",
    "most_correlated = df_m.abs()['Rating'].sort_values(ascending=False)\n",
    "print(most_correlated.head(10).round(2))"
   ]
  },
  {
   "cell_type": "markdown",
   "metadata": {},
   "source": [
    "существенно коррелируют с целевой переменной:  \n",
    "+ Restaurant_id_isNet  \n",
    "+ Real_rank    \n",
    "+ Ranking  \n",
    "\n",
    "между остальными признаками сильных корреляций нет"
   ]
  },
  {
   "cell_type": "markdown",
   "metadata": {},
   "source": [
    "### 06. готовим файлы для модели\n",
    "**5 файлов: test_data,  train_data,  X,  X_train,  X_test**"
   ]
  },
  {
   "cell_type": "code",
   "execution_count": 30,
   "metadata": {},
   "outputs": [],
   "source": [
    "# Теперь выделим тестовую часть\n",
    "train_data = df.query('sample == 1').drop(['sample'], axis=1)\n",
    "test_data = df.query('sample == 0').drop(['sample'], axis=1)\n",
    "\n",
    "y = train_data.Rating.values            # наш таргет\n",
    "X = train_data.drop(['Rating'], axis=1)"
   ]
  },
  {
   "cell_type": "markdown",
   "metadata": {},
   "source": [
    "**Перед тем как отправлять наши данные на обучение, разделим данные на еще один тест и трейн, для валидации. \n",
    "Это поможет нам проверить, как хорошо наша модель работает, до отправки submissiona на kaggle.**"
   ]
  },
  {
   "cell_type": "code",
   "execution_count": 31,
   "metadata": {},
   "outputs": [],
   "source": [
    "# Воспользуемся специальной функцие train_test_split для разбивки тестовых данных\n",
    "# выделим 20% данных на валидацию (параметр test_size)\n",
    "X_train, X_test, y_train, y_test = train_test_split(X, y, test_size=0.2, random_state=RANDOM_SEED)"
   ]
  },
  {
   "cell_type": "code",
   "execution_count": 32,
   "metadata": {},
   "outputs": [
    {
     "data": {
      "text/plain": [
       "((10000, 51), (40000, 51), (40000, 50), (32000, 50), (8000, 50))"
      ]
     },
     "execution_count": 32,
     "metadata": {},
     "output_type": "execute_result"
    }
   ],
   "source": [
    "# проверяем\n",
    "test_data.shape, train_data.shape, X.shape, X_train.shape, X_test.shape"
   ]
  },
  {
   "cell_type": "markdown",
   "metadata": {},
   "source": [
    "### 07. Model  \n",
    "Сам ML - скопировано из [Baseline nootbook](https://www.kaggle.com/itslek/baseline-sf-tripadvisor-rating-v2-7)  "
   ]
  },
  {
   "cell_type": "code",
   "execution_count": null,
   "metadata": {},
   "outputs": [],
   "source": []
  },
  {
   "cell_type": "code",
   "execution_count": 33,
   "metadata": {},
   "outputs": [],
   "source": [
    "# Импортируем необходимые библиотеки:\n",
    "from sklearn.ensemble import RandomForestRegressor # инструмент для создания и обучения модели\n",
    "from sklearn import metrics # инструменты для оценки точности модели"
   ]
  },
  {
   "cell_type": "code",
   "execution_count": 34,
   "metadata": {},
   "outputs": [],
   "source": [
    "# Создаём модель (НАСТРОЙКИ НЕ ТРОГАЕМ)\n",
    "model = RandomForestRegressor(n_estimators=100, verbose=1, n_jobs=-1, random_state=RANDOM_SEED)"
   ]
  },
  {
   "cell_type": "code",
   "execution_count": 35,
   "metadata": {
    "scrolled": true
   },
   "outputs": [
    {
     "name": "stderr",
     "output_type": "stream",
     "text": [
      "[Parallel(n_jobs=-1)]: Using backend ThreadingBackend with 4 concurrent workers.\n",
      "[Parallel(n_jobs=-1)]: Done  42 tasks      | elapsed:    2.1s\n",
      "[Parallel(n_jobs=-1)]: Done 100 out of 100 | elapsed:    4.9s finished\n",
      "[Parallel(n_jobs=4)]: Using backend ThreadingBackend with 4 concurrent workers.\n",
      "[Parallel(n_jobs=4)]: Done  42 tasks      | elapsed:    0.0s\n",
      "[Parallel(n_jobs=4)]: Done 100 out of 100 | elapsed:    0.0s finished\n"
     ]
    }
   ],
   "source": [
    "# Обучаем модель на тестовом наборе данных\n",
    "model.fit(X_train, y_train)\n",
    "\n",
    "# Используем обученную модель для предсказания рейтинга ресторанов в тестовой выборке.\n",
    "# Предсказанные значения записываем в переменную y_pred\n",
    "y_pred = model.predict(X_test)"
   ]
  },
  {
   "cell_type": "code",
   "execution_count": 36,
   "metadata": {
    "scrolled": true
   },
   "outputs": [
    {
     "name": "stdout",
     "output_type": "stream",
     "text": [
      "MAE: 0.20677125000000002\n"
     ]
    }
   ],
   "source": [
    "# Сравниваем предсказанные значения (y_pred) с реальными (y_test), и смотрим насколько они в среднем отличаются\n",
    "# Метрика называется Mean Absolute Error (MAE) и показывает среднее отклонение предсказанных значений от фактических.\n",
    "print('MAE:', metrics.mean_absolute_error(y_test, y_pred))"
   ]
  },
  {
   "cell_type": "code",
   "execution_count": 37,
   "metadata": {
    "scrolled": false
   },
   "outputs": [
    {
     "data": {
      "text/plain": [
       "<AxesSubplot:>"
      ]
     },
     "execution_count": 37,
     "metadata": {},
     "output_type": "execute_result"
    },
    {
     "data": {
      "image/png": "[encoded data removed]",
      "text/plain": [
       "<Figure size 720x720 with 1 Axes>"
      ]
     },
     "metadata": {
      "needs_background": "light"
     },
     "output_type": "display_data"
    }
   ],
   "source": [
    "# в RandomForestRegressor есть возможность вывести самые важные признаки для модели\n",
    "plt.rcParams['figure.figsize'] = (10,10)\n",
    "feat_importances = pd.Series(model.feature_importances_, index=X.columns)\n",
    "feat_importances.nlargest(15).plot(kind='barh')"
   ]
  },
  {
   "cell_type": "markdown",
   "metadata": {},
   "source": [
    "### 08. Submission\n",
    "Если все устраевает - готовим Submission на кагл"
   ]
  },
  {
   "cell_type": "code",
   "execution_count": 39,
   "metadata": {},
   "outputs": [
    {
     "data": {
      "text/html": [
       "<div>\n",
       "<style scoped>\n",
       "    .dataframe tbody tr th:only-of-type {\n",
       "        vertical-align: middle;\n",
       "    }\n",
       "\n",
       "    .dataframe tbody tr th {\n",
       "        vertical-align: top;\n",
       "    }\n",
       "\n",
       "    .dataframe thead th {\n",
       "        text-align: right;\n",
       "    }\n",
       "</style>\n",
       "<table border=\"1\" class=\"dataframe\">\n",
       "  <thead>\n",
       "    <tr style=\"text-align: right;\">\n",
       "      <th></th>\n",
       "      <th>Ranking</th>\n",
       "      <th>Number of Reviews</th>\n",
       "      <th>Rating</th>\n",
       "      <th>Restaurant_id_isNet</th>\n",
       "      <th>Number_of_Reviews_isNAN</th>\n",
       "      <th>Cuisine_isNAN</th>\n",
       "      <th>Cuisine_qty</th>\n",
       "      <th>Cus_qty_1</th>\n",
       "      <th>Cus_qty_2</th>\n",
       "      <th>Cus_qty_3</th>\n",
       "      <th>...</th>\n",
       "      <th>C_Oporto</th>\n",
       "      <th>C_Oslo</th>\n",
       "      <th>C_Paris</th>\n",
       "      <th>C_Prague</th>\n",
       "      <th>C_Rome</th>\n",
       "      <th>C_Stockholm</th>\n",
       "      <th>C_Vienna</th>\n",
       "      <th>C_Warsaw</th>\n",
       "      <th>C_Zurich</th>\n",
       "      <th>Reviews_isNAN</th>\n",
       "    </tr>\n",
       "  </thead>\n",
       "  <tbody>\n",
       "    <tr>\n",
       "      <th>3580</th>\n",
       "      <td>4491.0</td>\n",
       "      <td>12.0</td>\n",
       "      <td>0.0</td>\n",
       "      <td>0</td>\n",
       "      <td>0</td>\n",
       "      <td>0</td>\n",
       "      <td>1</td>\n",
       "      <td>1</td>\n",
       "      <td>0</td>\n",
       "      <td>0</td>\n",
       "      <td>...</td>\n",
       "      <td>0</td>\n",
       "      <td>0</td>\n",
       "      <td>0</td>\n",
       "      <td>0</td>\n",
       "      <td>0</td>\n",
       "      <td>0</td>\n",
       "      <td>0</td>\n",
       "      <td>0</td>\n",
       "      <td>0</td>\n",
       "      <td>0</td>\n",
       "    </tr>\n",
       "    <tr>\n",
       "      <th>8638</th>\n",
       "      <td>1907.0</td>\n",
       "      <td>121.0</td>\n",
       "      <td>0.0</td>\n",
       "      <td>0</td>\n",
       "      <td>0</td>\n",
       "      <td>0</td>\n",
       "      <td>5</td>\n",
       "      <td>0</td>\n",
       "      <td>0</td>\n",
       "      <td>3</td>\n",
       "      <td>...</td>\n",
       "      <td>0</td>\n",
       "      <td>0</td>\n",
       "      <td>0</td>\n",
       "      <td>0</td>\n",
       "      <td>0</td>\n",
       "      <td>0</td>\n",
       "      <td>0</td>\n",
       "      <td>0</td>\n",
       "      <td>0</td>\n",
       "      <td>0</td>\n",
       "    </tr>\n",
       "    <tr>\n",
       "      <th>4618</th>\n",
       "      <td>8842.0</td>\n",
       "      <td>8.0</td>\n",
       "      <td>0.0</td>\n",
       "      <td>0</td>\n",
       "      <td>0</td>\n",
       "      <td>1</td>\n",
       "      <td>1</td>\n",
       "      <td>1</td>\n",
       "      <td>0</td>\n",
       "      <td>0</td>\n",
       "      <td>...</td>\n",
       "      <td>0</td>\n",
       "      <td>0</td>\n",
       "      <td>1</td>\n",
       "      <td>0</td>\n",
       "      <td>0</td>\n",
       "      <td>0</td>\n",
       "      <td>0</td>\n",
       "      <td>0</td>\n",
       "      <td>0</td>\n",
       "      <td>1</td>\n",
       "    </tr>\n",
       "    <tr>\n",
       "      <th>7394</th>\n",
       "      <td>1689.0</td>\n",
       "      <td>20.0</td>\n",
       "      <td>0.0</td>\n",
       "      <td>0</td>\n",
       "      <td>0</td>\n",
       "      <td>0</td>\n",
       "      <td>1</td>\n",
       "      <td>1</td>\n",
       "      <td>0</td>\n",
       "      <td>0</td>\n",
       "      <td>...</td>\n",
       "      <td>0</td>\n",
       "      <td>0</td>\n",
       "      <td>0</td>\n",
       "      <td>0</td>\n",
       "      <td>0</td>\n",
       "      <td>0</td>\n",
       "      <td>0</td>\n",
       "      <td>0</td>\n",
       "      <td>0</td>\n",
       "      <td>0</td>\n",
       "    </tr>\n",
       "    <tr>\n",
       "      <th>6067</th>\n",
       "      <td>6208.0</td>\n",
       "      <td>5.0</td>\n",
       "      <td>0.0</td>\n",
       "      <td>0</td>\n",
       "      <td>0</td>\n",
       "      <td>0</td>\n",
       "      <td>1</td>\n",
       "      <td>1</td>\n",
       "      <td>0</td>\n",
       "      <td>0</td>\n",
       "      <td>...</td>\n",
       "      <td>0</td>\n",
       "      <td>0</td>\n",
       "      <td>0</td>\n",
       "      <td>0</td>\n",
       "      <td>0</td>\n",
       "      <td>0</td>\n",
       "      <td>0</td>\n",
       "      <td>0</td>\n",
       "      <td>0</td>\n",
       "      <td>1</td>\n",
       "    </tr>\n",
       "    <tr>\n",
       "      <th>9362</th>\n",
       "      <td>1093.0</td>\n",
       "      <td>103.0</td>\n",
       "      <td>0.0</td>\n",
       "      <td>0</td>\n",
       "      <td>0</td>\n",
       "      <td>0</td>\n",
       "      <td>5</td>\n",
       "      <td>0</td>\n",
       "      <td>0</td>\n",
       "      <td>3</td>\n",
       "      <td>...</td>\n",
       "      <td>0</td>\n",
       "      <td>0</td>\n",
       "      <td>0</td>\n",
       "      <td>0</td>\n",
       "      <td>0</td>\n",
       "      <td>0</td>\n",
       "      <td>0</td>\n",
       "      <td>0</td>\n",
       "      <td>0</td>\n",
       "      <td>0</td>\n",
       "    </tr>\n",
       "    <tr>\n",
       "      <th>2867</th>\n",
       "      <td>1487.0</td>\n",
       "      <td>6.0</td>\n",
       "      <td>0.0</td>\n",
       "      <td>0</td>\n",
       "      <td>0</td>\n",
       "      <td>1</td>\n",
       "      <td>1</td>\n",
       "      <td>1</td>\n",
       "      <td>0</td>\n",
       "      <td>0</td>\n",
       "      <td>...</td>\n",
       "      <td>0</td>\n",
       "      <td>0</td>\n",
       "      <td>0</td>\n",
       "      <td>0</td>\n",
       "      <td>0</td>\n",
       "      <td>0</td>\n",
       "      <td>0</td>\n",
       "      <td>1</td>\n",
       "      <td>0</td>\n",
       "      <td>0</td>\n",
       "    </tr>\n",
       "    <tr>\n",
       "      <th>5838</th>\n",
       "      <td>379.0</td>\n",
       "      <td>229.0</td>\n",
       "      <td>0.0</td>\n",
       "      <td>0</td>\n",
       "      <td>0</td>\n",
       "      <td>0</td>\n",
       "      <td>5</td>\n",
       "      <td>0</td>\n",
       "      <td>0</td>\n",
       "      <td>3</td>\n",
       "      <td>...</td>\n",
       "      <td>0</td>\n",
       "      <td>0</td>\n",
       "      <td>0</td>\n",
       "      <td>0</td>\n",
       "      <td>0</td>\n",
       "      <td>0</td>\n",
       "      <td>0</td>\n",
       "      <td>1</td>\n",
       "      <td>0</td>\n",
       "      <td>0</td>\n",
       "    </tr>\n",
       "    <tr>\n",
       "      <th>734</th>\n",
       "      <td>347.0</td>\n",
       "      <td>222.0</td>\n",
       "      <td>0.0</td>\n",
       "      <td>0</td>\n",
       "      <td>0</td>\n",
       "      <td>0</td>\n",
       "      <td>4</td>\n",
       "      <td>0</td>\n",
       "      <td>0</td>\n",
       "      <td>3</td>\n",
       "      <td>...</td>\n",
       "      <td>0</td>\n",
       "      <td>0</td>\n",
       "      <td>0</td>\n",
       "      <td>0</td>\n",
       "      <td>0</td>\n",
       "      <td>0</td>\n",
       "      <td>0</td>\n",
       "      <td>0</td>\n",
       "      <td>0</td>\n",
       "      <td>0</td>\n",
       "    </tr>\n",
       "    <tr>\n",
       "      <th>7619</th>\n",
       "      <td>2201.0</td>\n",
       "      <td>0.0</td>\n",
       "      <td>0.0</td>\n",
       "      <td>0</td>\n",
       "      <td>1</td>\n",
       "      <td>0</td>\n",
       "      <td>1</td>\n",
       "      <td>1</td>\n",
       "      <td>0</td>\n",
       "      <td>0</td>\n",
       "      <td>...</td>\n",
       "      <td>0</td>\n",
       "      <td>0</td>\n",
       "      <td>0</td>\n",
       "      <td>0</td>\n",
       "      <td>0</td>\n",
       "      <td>0</td>\n",
       "      <td>0</td>\n",
       "      <td>0</td>\n",
       "      <td>0</td>\n",
       "      <td>1</td>\n",
       "    </tr>\n",
       "  </tbody>\n",
       "</table>\n",
       "<p>10 rows × 51 columns</p>\n",
       "</div>"
      ],
      "text/plain": [
       "      Ranking  Number of Reviews  Rating  Restaurant_id_isNet  \\\n",
       "3580   4491.0               12.0     0.0                    0   \n",
       "8638   1907.0              121.0     0.0                    0   \n",
       "4618   8842.0                8.0     0.0                    0   \n",
       "7394   1689.0               20.0     0.0                    0   \n",
       "6067   6208.0                5.0     0.0                    0   \n",
       "9362   1093.0              103.0     0.0                    0   \n",
       "2867   1487.0                6.0     0.0                    0   \n",
       "5838    379.0              229.0     0.0                    0   \n",
       "734     347.0              222.0     0.0                    0   \n",
       "7619   2201.0                0.0     0.0                    0   \n",
       "\n",
       "      Number_of_Reviews_isNAN  Cuisine_isNAN  Cuisine_qty  Cus_qty_1  \\\n",
       "3580                        0              0            1          1   \n",
       "8638                        0              0            5          0   \n",
       "4618                        0              1            1          1   \n",
       "7394                        0              0            1          1   \n",
       "6067                        0              0            1          1   \n",
       "9362                        0              0            5          0   \n",
       "2867                        0              1            1          1   \n",
       "5838                        0              0            5          0   \n",
       "734                         0              0            4          0   \n",
       "7619                        1              0            1          1   \n",
       "\n",
       "      Cus_qty_2  Cus_qty_3  ...  C_Oporto  C_Oslo  C_Paris  C_Prague  C_Rome  \\\n",
       "3580          0          0  ...         0       0        0         0       0   \n",
       "8638          0          3  ...         0       0        0         0       0   \n",
       "4618          0          0  ...         0       0        1         0       0   \n",
       "7394          0          0  ...         0       0        0         0       0   \n",
       "6067          0          0  ...         0       0        0         0       0   \n",
       "9362          0          3  ...         0       0        0         0       0   \n",
       "2867          0          0  ...         0       0        0         0       0   \n",
       "5838          0          3  ...         0       0        0         0       0   \n",
       "734           0          3  ...         0       0        0         0       0   \n",
       "7619          0          0  ...         0       0        0         0       0   \n",
       "\n",
       "      C_Stockholm  C_Vienna  C_Warsaw  C_Zurich  Reviews_isNAN  \n",
       "3580            0         0         0         0              0  \n",
       "8638            0         0         0         0              0  \n",
       "4618            0         0         0         0              1  \n",
       "7394            0         0         0         0              0  \n",
       "6067            0         0         0         0              1  \n",
       "9362            0         0         0         0              0  \n",
       "2867            0         0         1         0              0  \n",
       "5838            0         0         1         0              0  \n",
       "734             0         0         0         0              0  \n",
       "7619            0         0         0         0              1  \n",
       "\n",
       "[10 rows x 51 columns]"
      ]
     },
     "execution_count": 39,
     "metadata": {},
     "output_type": "execute_result"
    }
   ],
   "source": [
    "test_data.sample(10)"
   ]
  },
  {
   "cell_type": "code",
   "execution_count": 40,
   "metadata": {},
   "outputs": [],
   "source": [
    "test_data = test_data.drop(['Rating'], axis=1)"
   ]
  },
  {
   "cell_type": "code",
   "execution_count": 41,
   "metadata": {},
   "outputs": [
    {
     "data": {
      "text/html": [
       "<div>\n",
       "<style scoped>\n",
       "    .dataframe tbody tr th:only-of-type {\n",
       "        vertical-align: middle;\n",
       "    }\n",
       "\n",
       "    .dataframe tbody tr th {\n",
       "        vertical-align: top;\n",
       "    }\n",
       "\n",
       "    .dataframe thead th {\n",
       "        text-align: right;\n",
       "    }\n",
       "</style>\n",
       "<table border=\"1\" class=\"dataframe\">\n",
       "  <thead>\n",
       "    <tr style=\"text-align: right;\">\n",
       "      <th></th>\n",
       "      <th>Restaurant_id</th>\n",
       "      <th>Rating</th>\n",
       "    </tr>\n",
       "  </thead>\n",
       "  <tbody>\n",
       "    <tr>\n",
       "      <th>0</th>\n",
       "      <td>id_0</td>\n",
       "      <td>2.0</td>\n",
       "    </tr>\n",
       "    <tr>\n",
       "      <th>1</th>\n",
       "      <td>id_1</td>\n",
       "      <td>2.5</td>\n",
       "    </tr>\n",
       "    <tr>\n",
       "      <th>2</th>\n",
       "      <td>id_2</td>\n",
       "      <td>4.0</td>\n",
       "    </tr>\n",
       "    <tr>\n",
       "      <th>3</th>\n",
       "      <td>id_3</td>\n",
       "      <td>1.0</td>\n",
       "    </tr>\n",
       "    <tr>\n",
       "      <th>4</th>\n",
       "      <td>id_4</td>\n",
       "      <td>4.0</td>\n",
       "    </tr>\n",
       "    <tr>\n",
       "      <th>...</th>\n",
       "      <td>...</td>\n",
       "      <td>...</td>\n",
       "    </tr>\n",
       "    <tr>\n",
       "      <th>9995</th>\n",
       "      <td>id_9995</td>\n",
       "      <td>3.0</td>\n",
       "    </tr>\n",
       "    <tr>\n",
       "      <th>9996</th>\n",
       "      <td>id_9996</td>\n",
       "      <td>1.5</td>\n",
       "    </tr>\n",
       "    <tr>\n",
       "      <th>9997</th>\n",
       "      <td>id_9997</td>\n",
       "      <td>4.5</td>\n",
       "    </tr>\n",
       "    <tr>\n",
       "      <th>9998</th>\n",
       "      <td>id_9998</td>\n",
       "      <td>1.0</td>\n",
       "    </tr>\n",
       "    <tr>\n",
       "      <th>9999</th>\n",
       "      <td>id_9999</td>\n",
       "      <td>2.5</td>\n",
       "    </tr>\n",
       "  </tbody>\n",
       "</table>\n",
       "<p>10000 rows × 2 columns</p>\n",
       "</div>"
      ],
      "text/plain": [
       "     Restaurant_id  Rating\n",
       "0             id_0     2.0\n",
       "1             id_1     2.5\n",
       "2             id_2     4.0\n",
       "3             id_3     1.0\n",
       "4             id_4     4.0\n",
       "...            ...     ...\n",
       "9995       id_9995     3.0\n",
       "9996       id_9996     1.5\n",
       "9997       id_9997     4.5\n",
       "9998       id_9998     1.0\n",
       "9999       id_9999     2.5\n",
       "\n",
       "[10000 rows x 2 columns]"
      ]
     },
     "execution_count": 41,
     "metadata": {},
     "output_type": "execute_result"
    }
   ],
   "source": [
    "sample_submission"
   ]
  },
  {
   "cell_type": "code",
   "execution_count": 42,
   "metadata": {},
   "outputs": [
    {
     "name": "stderr",
     "output_type": "stream",
     "text": [
      "[Parallel(n_jobs=4)]: Using backend ThreadingBackend with 4 concurrent workers.\n",
      "[Parallel(n_jobs=4)]: Done  42 tasks      | elapsed:    0.0s\n",
      "[Parallel(n_jobs=4)]: Done 100 out of 100 | elapsed:    0.0s finished\n"
     ]
    }
   ],
   "source": [
    "predict_submission = model.predict(test_data)"
   ]
  },
  {
   "cell_type": "code",
   "execution_count": 43,
   "metadata": {},
   "outputs": [
    {
     "data": {
      "text/plain": [
       "array([3.02 , 4.205, 4.54 , ..., 3.045, 4.5  , 4.275])"
      ]
     },
     "execution_count": 43,
     "metadata": {},
     "output_type": "execute_result"
    }
   ],
   "source": [
    "predict_submission"
   ]
  },
  {
   "cell_type": "code",
   "execution_count": 44,
   "metadata": {},
   "outputs": [
    {
     "data": {
      "text/html": [
       "<div>\n",
       "<style scoped>\n",
       "    .dataframe tbody tr th:only-of-type {\n",
       "        vertical-align: middle;\n",
       "    }\n",
       "\n",
       "    .dataframe tbody tr th {\n",
       "        vertical-align: top;\n",
       "    }\n",
       "\n",
       "    .dataframe thead th {\n",
       "        text-align: right;\n",
       "    }\n",
       "</style>\n",
       "<table border=\"1\" class=\"dataframe\">\n",
       "  <thead>\n",
       "    <tr style=\"text-align: right;\">\n",
       "      <th></th>\n",
       "      <th>Restaurant_id</th>\n",
       "      <th>Rating</th>\n",
       "    </tr>\n",
       "  </thead>\n",
       "  <tbody>\n",
       "    <tr>\n",
       "      <th>0</th>\n",
       "      <td>id_0</td>\n",
       "      <td>3.020</td>\n",
       "    </tr>\n",
       "    <tr>\n",
       "      <th>1</th>\n",
       "      <td>id_1</td>\n",
       "      <td>4.205</td>\n",
       "    </tr>\n",
       "    <tr>\n",
       "      <th>2</th>\n",
       "      <td>id_2</td>\n",
       "      <td>4.540</td>\n",
       "    </tr>\n",
       "    <tr>\n",
       "      <th>3</th>\n",
       "      <td>id_3</td>\n",
       "      <td>4.200</td>\n",
       "    </tr>\n",
       "    <tr>\n",
       "      <th>4</th>\n",
       "      <td>id_4</td>\n",
       "      <td>4.445</td>\n",
       "    </tr>\n",
       "    <tr>\n",
       "      <th>5</th>\n",
       "      <td>id_5</td>\n",
       "      <td>4.635</td>\n",
       "    </tr>\n",
       "    <tr>\n",
       "      <th>6</th>\n",
       "      <td>id_6</td>\n",
       "      <td>2.720</td>\n",
       "    </tr>\n",
       "    <tr>\n",
       "      <th>7</th>\n",
       "      <td>id_7</td>\n",
       "      <td>2.435</td>\n",
       "    </tr>\n",
       "    <tr>\n",
       "      <th>8</th>\n",
       "      <td>id_8</td>\n",
       "      <td>4.135</td>\n",
       "    </tr>\n",
       "    <tr>\n",
       "      <th>9</th>\n",
       "      <td>id_9</td>\n",
       "      <td>4.660</td>\n",
       "    </tr>\n",
       "  </tbody>\n",
       "</table>\n",
       "</div>"
      ],
      "text/plain": [
       "  Restaurant_id  Rating\n",
       "0          id_0   3.020\n",
       "1          id_1   4.205\n",
       "2          id_2   4.540\n",
       "3          id_3   4.200\n",
       "4          id_4   4.445\n",
       "5          id_5   4.635\n",
       "6          id_6   2.720\n",
       "7          id_7   2.435\n",
       "8          id_8   4.135\n",
       "9          id_9   4.660"
      ]
     },
     "execution_count": 44,
     "metadata": {},
     "output_type": "execute_result"
    }
   ],
   "source": [
    "sample_submission['Rating'] = predict_submission\n",
    "sample_submission.to_csv('submission.csv', index=False)\n",
    "sample_submission.head(10)"
   ]
  },
  {
   "cell_type": "code",
   "execution_count": null,
   "metadata": {},
   "outputs": [],
   "source": []
  }
 ],
 "metadata": {
  "kernelspec": {
   "display_name": "Python 3",
   "language": "python",
   "name": "python3"
  },
  "language_info": {
   "codemirror_mode": {
    "name": "ipython",
    "version": 3
   },
   "file_extension": ".py",
   "mimetype": "text/x-python",
   "name": "python",
   "nbconvert_exporter": "python",
   "pygments_lexer": "ipython3",
   "version": "3.8.5"
  }
 },
 "nbformat": 4,
 "nbformat_minor": 4
}
