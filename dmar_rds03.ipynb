{
 "cells": [
  {
   "cell_type": "markdown",
   "metadata": {},
   "source": [
    "####  ПРОЕКТ РАЗВЕДЫВАТЕЛЬНЫЙ АНАЛИЗ ДАННЫХ (EDA)"
   ]
  },
  {
   "cell_type": "markdown",
   "metadata": {},
   "source": [
    "Цель - отследить влияние условий жизни учащихся на их неуспеваемость по математике"
   ]
  },
  {
   "cell_type": "raw",
   "metadata": {},
   "source": [
    "Этапы:\n",
    "01. просмотр таблицы и данных:\n",
    "    - список исходных названий столбцов, типов данных, комментарии\n",
    "    - переименование столбцов для удобства работы\n",
    "02.  первичный просмотр данных в столбцах\n",
    "    - определенние количества уникальных и пустых значений\n",
    "    - корректировка ошибок ввода если возможно\n",
    "    - определение типов переменных\n",
    "03. список типов данных в столбцах\n",
    "04. анализ и подготовка данных в количественных столбцах\n",
    "    - оценка выбросов если имеются и замена\n",
    "05. корреляционный анализ количественных столбцов\n",
    "06. анализ всех номинативных столбцов (boxplot, t-test)\n",
    "07. анализ данных в номинативных бинарных толбцах (point biserial)\n",
    "08. выводы, итоговый список столбцов для модели"
   ]
  },
  {
   "cell_type": "code",
   "execution_count": 1,
   "metadata": {
    "scrolled": true
   },
   "outputs": [],
   "source": [
    "import numpy as np\n",
    "import pandas as pd\n",
    "from scipy import stats\n",
    "from scipy.stats import ttest_ind\n",
    "import matplotlib.pyplot as plt\n",
    "%matplotlib inline\n",
    "import seaborn as sns\n",
    "import cufflinks as cf\n",
    "from itertools import combinations\n",
    "\n",
    "df1 = pd.read_csv('stud_math.csv')"
   ]
  },
  {
   "cell_type": "code",
   "execution_count": 2,
   "metadata": {},
   "outputs": [],
   "source": [
    "def display_all(df):     # display all columns  or all raws\n",
    "   with pd.option_context('display.max_rows', 30): # change number of rows accordingly\n",
    "      with pd.option_context('display.max_columns', None): # change number of columns accordingly\n",
    "          display(df)\n",
    "\n",
    "def col_info(col):  # for df1! value_counts, NaN, unique\n",
    "    display(pd.DataFrame(df1[col].value_counts(sort=True, dropna=False)))\n",
    "    print(\"пустых значений в столбце \",  col, \" = \", df1[col].isna().sum(), \n",
    "          \",  в процентах = \", \"{0:.0%}\".format(df1[col].isna().sum() / len(df1)))\n",
    "    print(\"уникальных значений в столбце \", col, \" = \", df1[col].nunique(dropna=False))\n",
    "    \n",
    "def missing_values_table(df):\n",
    "    mv = df.isnull().sum()\n",
    "    mvp = 100 * df.isnull().sum() / len(df)\n",
    "    mv_table = pd.concat([mv, mvp], axis=1)\n",
    "    mv_table2 = mv_table.rename(columns = {0 : 'NaN', 1 : '% NaN'})\n",
    "    mv_table2 = mv_table2[mv_table2.iloc[:,1] >= 0].round(1)\n",
    "    return mv_table2\n",
    "\n",
    "def get_stat_dif(column):\n",
    "    cols = df1.loc[:, column].value_counts().index[:10]\n",
    "    combinations_all = list(combinations(cols, 2))\n",
    "    for comb in combinations_all:\n",
    "        if ttest_ind(df1.loc[df1.loc[:, column] == comb[0], 'rating'], \n",
    "                        df1.loc[df1.loc[:, column] == comb[1], 'rating']).pvalue \\\n",
    "            <= 0.05/len(combinations_all): # Учли поправку Бонферони\n",
    "            print('Найдены статистически значимые различия для колонки = ', column)\n",
    "            break"
   ]
  },
  {
   "cell_type": "markdown",
   "metadata": {},
   "source": [
    "### 01. просмотр таблицы и данных"
   ]
  },
  {
   "cell_type": "code",
   "execution_count": 3,
   "metadata": {},
   "outputs": [
    {
     "name": "stdout",
     "output_type": "stream",
     "text": [
      "(395, 30)\n"
     ]
    },
    {
     "data": {
      "text/html": [
       "<div>\n",
       "<style scoped>\n",
       "    .dataframe tbody tr th:only-of-type {\n",
       "        vertical-align: middle;\n",
       "    }\n",
       "\n",
       "    .dataframe tbody tr th {\n",
       "        vertical-align: top;\n",
       "    }\n",
       "\n",
       "    .dataframe thead th {\n",
       "        text-align: right;\n",
       "    }\n",
       "</style>\n",
       "<table border=\"1\" class=\"dataframe\">\n",
       "  <thead>\n",
       "    <tr style=\"text-align: right;\">\n",
       "      <th></th>\n",
       "      <th>school</th>\n",
       "      <th>sex</th>\n",
       "      <th>age</th>\n",
       "      <th>address</th>\n",
       "      <th>famsize</th>\n",
       "      <th>Pstatus</th>\n",
       "      <th>Medu</th>\n",
       "      <th>Fedu</th>\n",
       "      <th>Mjob</th>\n",
       "      <th>Fjob</th>\n",
       "      <th>reason</th>\n",
       "      <th>guardian</th>\n",
       "      <th>traveltime</th>\n",
       "      <th>studytime</th>\n",
       "      <th>failures</th>\n",
       "      <th>schoolsup</th>\n",
       "      <th>famsup</th>\n",
       "      <th>paid</th>\n",
       "      <th>activities</th>\n",
       "      <th>nursery</th>\n",
       "      <th>studytime, granular</th>\n",
       "      <th>higher</th>\n",
       "      <th>internet</th>\n",
       "      <th>romantic</th>\n",
       "      <th>famrel</th>\n",
       "      <th>freetime</th>\n",
       "      <th>goout</th>\n",
       "      <th>health</th>\n",
       "      <th>absences</th>\n",
       "      <th>score</th>\n",
       "    </tr>\n",
       "  </thead>\n",
       "  <tbody>\n",
       "    <tr>\n",
       "      <th>0</th>\n",
       "      <td>GP</td>\n",
       "      <td>F</td>\n",
       "      <td>18</td>\n",
       "      <td>U</td>\n",
       "      <td>NaN</td>\n",
       "      <td>A</td>\n",
       "      <td>4.0</td>\n",
       "      <td>4.0</td>\n",
       "      <td>at_home</td>\n",
       "      <td>teacher</td>\n",
       "      <td>course</td>\n",
       "      <td>mother</td>\n",
       "      <td>2.0</td>\n",
       "      <td>2.0</td>\n",
       "      <td>0.0</td>\n",
       "      <td>yes</td>\n",
       "      <td>no</td>\n",
       "      <td>no</td>\n",
       "      <td>no</td>\n",
       "      <td>yes</td>\n",
       "      <td>-6.0</td>\n",
       "      <td>yes</td>\n",
       "      <td>NaN</td>\n",
       "      <td>no</td>\n",
       "      <td>4.0</td>\n",
       "      <td>3.0</td>\n",
       "      <td>4.0</td>\n",
       "      <td>3.0</td>\n",
       "      <td>6.0</td>\n",
       "      <td>30.0</td>\n",
       "    </tr>\n",
       "    <tr>\n",
       "      <th>1</th>\n",
       "      <td>GP</td>\n",
       "      <td>F</td>\n",
       "      <td>17</td>\n",
       "      <td>U</td>\n",
       "      <td>GT3</td>\n",
       "      <td>NaN</td>\n",
       "      <td>1.0</td>\n",
       "      <td>1.0</td>\n",
       "      <td>at_home</td>\n",
       "      <td>other</td>\n",
       "      <td>course</td>\n",
       "      <td>father</td>\n",
       "      <td>1.0</td>\n",
       "      <td>2.0</td>\n",
       "      <td>0.0</td>\n",
       "      <td>no</td>\n",
       "      <td>yes</td>\n",
       "      <td>no</td>\n",
       "      <td>no</td>\n",
       "      <td>no</td>\n",
       "      <td>-6.0</td>\n",
       "      <td>yes</td>\n",
       "      <td>yes</td>\n",
       "      <td>no</td>\n",
       "      <td>5.0</td>\n",
       "      <td>3.0</td>\n",
       "      <td>3.0</td>\n",
       "      <td>3.0</td>\n",
       "      <td>4.0</td>\n",
       "      <td>30.0</td>\n",
       "    </tr>\n",
       "    <tr>\n",
       "      <th>2</th>\n",
       "      <td>GP</td>\n",
       "      <td>F</td>\n",
       "      <td>15</td>\n",
       "      <td>U</td>\n",
       "      <td>LE3</td>\n",
       "      <td>T</td>\n",
       "      <td>1.0</td>\n",
       "      <td>1.0</td>\n",
       "      <td>at_home</td>\n",
       "      <td>other</td>\n",
       "      <td>other</td>\n",
       "      <td>mother</td>\n",
       "      <td>1.0</td>\n",
       "      <td>2.0</td>\n",
       "      <td>3.0</td>\n",
       "      <td>yes</td>\n",
       "      <td>no</td>\n",
       "      <td>NaN</td>\n",
       "      <td>no</td>\n",
       "      <td>yes</td>\n",
       "      <td>-6.0</td>\n",
       "      <td>yes</td>\n",
       "      <td>yes</td>\n",
       "      <td>NaN</td>\n",
       "      <td>4.0</td>\n",
       "      <td>3.0</td>\n",
       "      <td>2.0</td>\n",
       "      <td>3.0</td>\n",
       "      <td>10.0</td>\n",
       "      <td>50.0</td>\n",
       "    </tr>\n",
       "    <tr>\n",
       "      <th>3</th>\n",
       "      <td>GP</td>\n",
       "      <td>F</td>\n",
       "      <td>15</td>\n",
       "      <td>U</td>\n",
       "      <td>GT3</td>\n",
       "      <td>T</td>\n",
       "      <td>4.0</td>\n",
       "      <td>2.0</td>\n",
       "      <td>health</td>\n",
       "      <td>NaN</td>\n",
       "      <td>home</td>\n",
       "      <td>mother</td>\n",
       "      <td>1.0</td>\n",
       "      <td>3.0</td>\n",
       "      <td>0.0</td>\n",
       "      <td>no</td>\n",
       "      <td>yes</td>\n",
       "      <td>yes</td>\n",
       "      <td>yes</td>\n",
       "      <td>yes</td>\n",
       "      <td>-9.0</td>\n",
       "      <td>yes</td>\n",
       "      <td>yes</td>\n",
       "      <td>yes</td>\n",
       "      <td>3.0</td>\n",
       "      <td>2.0</td>\n",
       "      <td>2.0</td>\n",
       "      <td>5.0</td>\n",
       "      <td>2.0</td>\n",
       "      <td>75.0</td>\n",
       "    </tr>\n",
       "    <tr>\n",
       "      <th>4</th>\n",
       "      <td>GP</td>\n",
       "      <td>F</td>\n",
       "      <td>16</td>\n",
       "      <td>U</td>\n",
       "      <td>GT3</td>\n",
       "      <td>T</td>\n",
       "      <td>3.0</td>\n",
       "      <td>3.0</td>\n",
       "      <td>other</td>\n",
       "      <td>other</td>\n",
       "      <td>home</td>\n",
       "      <td>father</td>\n",
       "      <td>1.0</td>\n",
       "      <td>2.0</td>\n",
       "      <td>0.0</td>\n",
       "      <td>no</td>\n",
       "      <td>yes</td>\n",
       "      <td>yes</td>\n",
       "      <td>no</td>\n",
       "      <td>yes</td>\n",
       "      <td>-6.0</td>\n",
       "      <td>yes</td>\n",
       "      <td>no</td>\n",
       "      <td>no</td>\n",
       "      <td>4.0</td>\n",
       "      <td>3.0</td>\n",
       "      <td>2.0</td>\n",
       "      <td>5.0</td>\n",
       "      <td>4.0</td>\n",
       "      <td>50.0</td>\n",
       "    </tr>\n",
       "    <tr>\n",
       "      <th>5</th>\n",
       "      <td>GP</td>\n",
       "      <td>M</td>\n",
       "      <td>16</td>\n",
       "      <td>U</td>\n",
       "      <td>LE3</td>\n",
       "      <td>T</td>\n",
       "      <td>4.0</td>\n",
       "      <td>3.0</td>\n",
       "      <td>services</td>\n",
       "      <td>other</td>\n",
       "      <td>reputation</td>\n",
       "      <td>mother</td>\n",
       "      <td>1.0</td>\n",
       "      <td>2.0</td>\n",
       "      <td>0.0</td>\n",
       "      <td>no</td>\n",
       "      <td>yes</td>\n",
       "      <td>yes</td>\n",
       "      <td>yes</td>\n",
       "      <td>yes</td>\n",
       "      <td>-6.0</td>\n",
       "      <td>yes</td>\n",
       "      <td>yes</td>\n",
       "      <td>no</td>\n",
       "      <td>5.0</td>\n",
       "      <td>4.0</td>\n",
       "      <td>2.0</td>\n",
       "      <td>5.0</td>\n",
       "      <td>10.0</td>\n",
       "      <td>75.0</td>\n",
       "    </tr>\n",
       "    <tr>\n",
       "      <th>6</th>\n",
       "      <td>GP</td>\n",
       "      <td>M</td>\n",
       "      <td>16</td>\n",
       "      <td>NaN</td>\n",
       "      <td>LE3</td>\n",
       "      <td>T</td>\n",
       "      <td>2.0</td>\n",
       "      <td>2.0</td>\n",
       "      <td>other</td>\n",
       "      <td>other</td>\n",
       "      <td>home</td>\n",
       "      <td>mother</td>\n",
       "      <td>1.0</td>\n",
       "      <td>2.0</td>\n",
       "      <td>0.0</td>\n",
       "      <td>no</td>\n",
       "      <td>no</td>\n",
       "      <td>no</td>\n",
       "      <td>no</td>\n",
       "      <td>yes</td>\n",
       "      <td>-6.0</td>\n",
       "      <td>yes</td>\n",
       "      <td>yes</td>\n",
       "      <td>no</td>\n",
       "      <td>4.0</td>\n",
       "      <td>4.0</td>\n",
       "      <td>4.0</td>\n",
       "      <td>3.0</td>\n",
       "      <td>0.0</td>\n",
       "      <td>55.0</td>\n",
       "    </tr>\n",
       "    <tr>\n",
       "      <th>7</th>\n",
       "      <td>GP</td>\n",
       "      <td>F</td>\n",
       "      <td>17</td>\n",
       "      <td>U</td>\n",
       "      <td>GT3</td>\n",
       "      <td>A</td>\n",
       "      <td>4.0</td>\n",
       "      <td>4.0</td>\n",
       "      <td>other</td>\n",
       "      <td>teacher</td>\n",
       "      <td>home</td>\n",
       "      <td>mother</td>\n",
       "      <td>2.0</td>\n",
       "      <td>2.0</td>\n",
       "      <td>0.0</td>\n",
       "      <td>yes</td>\n",
       "      <td>yes</td>\n",
       "      <td>no</td>\n",
       "      <td>no</td>\n",
       "      <td>yes</td>\n",
       "      <td>-6.0</td>\n",
       "      <td>yes</td>\n",
       "      <td>no</td>\n",
       "      <td>no</td>\n",
       "      <td>4.0</td>\n",
       "      <td>1.0</td>\n",
       "      <td>4.0</td>\n",
       "      <td>1.0</td>\n",
       "      <td>6.0</td>\n",
       "      <td>30.0</td>\n",
       "    </tr>\n",
       "    <tr>\n",
       "      <th>8</th>\n",
       "      <td>GP</td>\n",
       "      <td>M</td>\n",
       "      <td>15</td>\n",
       "      <td>U</td>\n",
       "      <td>LE3</td>\n",
       "      <td>A</td>\n",
       "      <td>3.0</td>\n",
       "      <td>2.0</td>\n",
       "      <td>services</td>\n",
       "      <td>other</td>\n",
       "      <td>home</td>\n",
       "      <td>mother</td>\n",
       "      <td>1.0</td>\n",
       "      <td>2.0</td>\n",
       "      <td>0.0</td>\n",
       "      <td>no</td>\n",
       "      <td>yes</td>\n",
       "      <td>yes</td>\n",
       "      <td>no</td>\n",
       "      <td>yes</td>\n",
       "      <td>-6.0</td>\n",
       "      <td>yes</td>\n",
       "      <td>yes</td>\n",
       "      <td>no</td>\n",
       "      <td>NaN</td>\n",
       "      <td>2.0</td>\n",
       "      <td>2.0</td>\n",
       "      <td>1.0</td>\n",
       "      <td>0.0</td>\n",
       "      <td>95.0</td>\n",
       "    </tr>\n",
       "    <tr>\n",
       "      <th>9</th>\n",
       "      <td>GP</td>\n",
       "      <td>M</td>\n",
       "      <td>15</td>\n",
       "      <td>U</td>\n",
       "      <td>NaN</td>\n",
       "      <td>NaN</td>\n",
       "      <td>3.0</td>\n",
       "      <td>4.0</td>\n",
       "      <td>other</td>\n",
       "      <td>other</td>\n",
       "      <td>home</td>\n",
       "      <td>mother</td>\n",
       "      <td>1.0</td>\n",
       "      <td>2.0</td>\n",
       "      <td>0.0</td>\n",
       "      <td>no</td>\n",
       "      <td>yes</td>\n",
       "      <td>yes</td>\n",
       "      <td>yes</td>\n",
       "      <td>yes</td>\n",
       "      <td>-6.0</td>\n",
       "      <td>yes</td>\n",
       "      <td>yes</td>\n",
       "      <td>no</td>\n",
       "      <td>5.0</td>\n",
       "      <td>5.0</td>\n",
       "      <td>1.0</td>\n",
       "      <td>5.0</td>\n",
       "      <td>0.0</td>\n",
       "      <td>75.0</td>\n",
       "    </tr>\n",
       "  </tbody>\n",
       "</table>\n",
       "</div>"
      ],
      "text/plain": [
       "  school sex  age address famsize Pstatus  Medu  Fedu      Mjob     Fjob  \\\n",
       "0     GP   F   18       U     NaN       A   4.0   4.0   at_home  teacher   \n",
       "1     GP   F   17       U     GT3     NaN   1.0   1.0   at_home    other   \n",
       "2     GP   F   15       U     LE3       T   1.0   1.0   at_home    other   \n",
       "3     GP   F   15       U     GT3       T   4.0   2.0    health      NaN   \n",
       "4     GP   F   16       U     GT3       T   3.0   3.0     other    other   \n",
       "5     GP   M   16       U     LE3       T   4.0   3.0  services    other   \n",
       "6     GP   M   16     NaN     LE3       T   2.0   2.0     other    other   \n",
       "7     GP   F   17       U     GT3       A   4.0   4.0     other  teacher   \n",
       "8     GP   M   15       U     LE3       A   3.0   2.0  services    other   \n",
       "9     GP   M   15       U     NaN     NaN   3.0   4.0     other    other   \n",
       "\n",
       "       reason guardian  traveltime  studytime  failures schoolsup famsup paid  \\\n",
       "0      course   mother         2.0        2.0       0.0       yes     no   no   \n",
       "1      course   father         1.0        2.0       0.0        no    yes   no   \n",
       "2       other   mother         1.0        2.0       3.0       yes     no  NaN   \n",
       "3        home   mother         1.0        3.0       0.0        no    yes  yes   \n",
       "4        home   father         1.0        2.0       0.0        no    yes  yes   \n",
       "5  reputation   mother         1.0        2.0       0.0        no    yes  yes   \n",
       "6        home   mother         1.0        2.0       0.0        no     no   no   \n",
       "7        home   mother         2.0        2.0       0.0       yes    yes   no   \n",
       "8        home   mother         1.0        2.0       0.0        no    yes  yes   \n",
       "9        home   mother         1.0        2.0       0.0        no    yes  yes   \n",
       "\n",
       "  activities nursery  studytime, granular higher internet romantic  famrel  \\\n",
       "0         no     yes                 -6.0    yes      NaN       no     4.0   \n",
       "1         no      no                 -6.0    yes      yes       no     5.0   \n",
       "2         no     yes                 -6.0    yes      yes      NaN     4.0   \n",
       "3        yes     yes                 -9.0    yes      yes      yes     3.0   \n",
       "4         no     yes                 -6.0    yes       no       no     4.0   \n",
       "5        yes     yes                 -6.0    yes      yes       no     5.0   \n",
       "6         no     yes                 -6.0    yes      yes       no     4.0   \n",
       "7         no     yes                 -6.0    yes       no       no     4.0   \n",
       "8         no     yes                 -6.0    yes      yes       no     NaN   \n",
       "9        yes     yes                 -6.0    yes      yes       no     5.0   \n",
       "\n",
       "   freetime  goout  health  absences  score  \n",
       "0       3.0    4.0     3.0       6.0   30.0  \n",
       "1       3.0    3.0     3.0       4.0   30.0  \n",
       "2       3.0    2.0     3.0      10.0   50.0  \n",
       "3       2.0    2.0     5.0       2.0   75.0  \n",
       "4       3.0    2.0     5.0       4.0   50.0  \n",
       "5       4.0    2.0     5.0      10.0   75.0  \n",
       "6       4.0    4.0     3.0       0.0   55.0  \n",
       "7       1.0    4.0     1.0       6.0   30.0  \n",
       "8       2.0    2.0     1.0       0.0   95.0  \n",
       "9       5.0    1.0     5.0       0.0   75.0  "
      ]
     },
     "metadata": {},
     "output_type": "display_data"
    }
   ],
   "source": [
    "print(df1.shape)\n",
    "display_all(df1.head(10))"
   ]
  },
  {
   "cell_type": "code",
   "execution_count": 4,
   "metadata": {},
   "outputs": [
    {
     "name": "stdout",
     "output_type": "stream",
     "text": [
      "<class 'pandas.core.frame.DataFrame'>\n",
      "RangeIndex: 395 entries, 0 to 394\n",
      "Data columns (total 30 columns):\n",
      " #   Column               Non-Null Count  Dtype  \n",
      "---  ------               --------------  -----  \n",
      " 0   school               395 non-null    object \n",
      " 1   sex                  395 non-null    object \n",
      " 2   age                  395 non-null    int64  \n",
      " 3   address              378 non-null    object \n",
      " 4   famsize              368 non-null    object \n",
      " 5   Pstatus              350 non-null    object \n",
      " 6   Medu                 392 non-null    float64\n",
      " 7   Fedu                 371 non-null    float64\n",
      " 8   Mjob                 376 non-null    object \n",
      " 9   Fjob                 359 non-null    object \n",
      " 10  reason               378 non-null    object \n",
      " 11  guardian             364 non-null    object \n",
      " 12  traveltime           367 non-null    float64\n",
      " 13  studytime            388 non-null    float64\n",
      " 14  failures             373 non-null    float64\n",
      " 15  schoolsup            386 non-null    object \n",
      " 16  famsup               356 non-null    object \n",
      " 17  paid                 355 non-null    object \n",
      " 18  activities           381 non-null    object \n",
      " 19  nursery              379 non-null    object \n",
      " 20  studytime, granular  388 non-null    float64\n",
      " 21  higher               375 non-null    object \n",
      " 22  internet             361 non-null    object \n",
      " 23  romantic             364 non-null    object \n",
      " 24  famrel               368 non-null    float64\n",
      " 25  freetime             384 non-null    float64\n",
      " 26  goout                387 non-null    float64\n",
      " 27  health               380 non-null    float64\n",
      " 28  absences             383 non-null    float64\n",
      " 29  score                389 non-null    float64\n",
      "dtypes: float64(12), int64(1), object(17)\n",
      "memory usage: 92.7+ KB\n"
     ]
    }
   ],
   "source": [
    "df1.info()"
   ]
  },
  {
   "cell_type": "code",
   "execution_count": 5,
   "metadata": {
    "scrolled": true
   },
   "outputs": [
    {
     "name": "stdout",
     "output_type": "stream",
     "text": [
      "['school', 'sex', 'age', 'address', 'famsize', 'Pstatus', 'Medu', 'Fedu', 'Mjob', 'Fjob', 'reason', 'guardian', 'traveltime', 'studytime', 'failures', 'schoolsup', 'famsup', 'paid', 'activities', 'nursery', 'studytime, granular', 'higher', 'internet', 'romantic', 'famrel', 'freetime', 'goout', 'health', 'absences', 'score']\n"
     ]
    }
   ],
   "source": [
    "print(df1.columns.tolist()) # список исходных названий столбцов"
   ]
  },
  {
   "cell_type": "markdown",
   "metadata": {},
   "source": [
    "#### исходные типы данных и названия столбцов"
   ]
  },
  {
   "cell_type": "code",
   "execution_count": 6,
   "metadata": {},
   "outputs": [],
   "source": [
    "C00 = 'school', 'school type', 'GP or MS'\n",
    "C01 = 'sex', 'student gender', 'F or M'\n",
    "C02 = 'age', 'student age', '16 - 21 years'\n",
    "C03 = 'address', 'тип адреса - Urban or Rural;', 'U or R'\n",
    "C04 = 'famsize', 'family size размер семьи', 'LE3 <= 3 or GT3 > 3'\n",
    "C05 = 'Pstatus', 'родители живут вместе или нет', 'T-together or Apart'\n",
    "C06 = 'Medu', 'mother eduction', '0 нет, 1 4класса, 2 5-9кл, 3 спец или 11кл, 4 высшее'\n",
    "C07 = 'Fedu', 'father eduction', '0 нет, 1 4класса, 2 5-9кл, 3 спец или 11кл, 4 высшее'\n",
    "C08 = 'Mjob', 'mother job', 'teacher, health, services, at_home, other'\n",
    "C09 = 'Fjob', 'father job', 'teacher, health, services, at_home, other'\n",
    "C10 = 'reason', 'выбор школы', 'home близость к дому, reputation, course тип программы, other'\n",
    "C11 = 'guardian', 'кто опекун', 'mother, father, other'\n",
    "C12 = 'traveltime', 'время в пути до школы', '1 <15мин, 2 15-30мин, 3 30-60мин, 4 >60мин'\n",
    "C13 = 'studytime', 'время на учёбу помимо школы в неделю', '1 <2ч, 2 2-5ч, 3 5-10ч, 4 >10ч'\n",
    "C14 = 'failures', 'количество внеучебных неудач', 'n, если 1<=n<=3, иначе 0'\n",
    "C15 = 'schoolsup', 'дополнительная образовательная поддержка', 'yes, no'\n",
    "C16 = 'famsup', ' семейная образовательная поддержка', 'yes, no'\n",
    "C17 = 'paid', 'доп. платные занятия', 'yes, no'\n",
    "C18 = 'activities', 'доп. внеучебные занятия', 'yes, no'\n",
    "C19 = 'nursery', 'подготовка до школы', 'yes, no'\n",
    "C20 = 'studytime, granular', 'no description', 'minus 3, minus 6, minus 9, minus 12'\n",
    "C21 = 'higher', ' хочет получить высшее образование', 'yes, no'\n",
    "C22 = 'internet', 'наличие интернета дома', 'yes, no'\n",
    "C23 = 'romantic', 'в романтических отношениях', 'yes, no'\n",
    "C24 = 'famrel', 'семейные отношения', 'от 1 - плохо до 5 - хорошо'\n",
    "C25 = 'freetime', 'свободное время после школы', 'от 1 - мало до 5 - много'\n",
    "C26 = 'goout', 'проведение времени с друзьями', 'от 1 - мало до 5 - много'\n",
    "C27 = 'health', 'состояние здоровья', 'от 1 - плохо до 5 - хорошо'\n",
    "C28 = 'absences', 'количество пропущенных занятий', 'number'\n",
    "C29 = 'score', 'баллы по экзамену', 'number from 0 to 100'"
   ]
  },
  {
   "cell_type": "markdown",
   "metadata": {},
   "source": [
    "#### переименование столбцов для удобства работы"
   ]
  },
  {
   "cell_type": "code",
   "execution_count": 7,
   "metadata": {},
   "outputs": [
    {
     "name": "stdout",
     "output_type": "stream",
     "text": [
      "<class 'pandas.core.frame.DataFrame'>\n",
      "RangeIndex: 395 entries, 0 to 394\n",
      "Data columns (total 30 columns):\n",
      " #   Column  Non-Null Count  Dtype  \n",
      "---  ------  --------------  -----  \n",
      " 0   S00     395 non-null    object \n",
      " 1   S01     395 non-null    object \n",
      " 2   S02     395 non-null    int64  \n",
      " 3   S03     378 non-null    object \n",
      " 4   S04     368 non-null    object \n",
      " 5   S05     350 non-null    object \n",
      " 6   S06     392 non-null    float64\n",
      " 7   S07     371 non-null    float64\n",
      " 8   S08     376 non-null    object \n",
      " 9   S09     359 non-null    object \n",
      " 10  S10     378 non-null    object \n",
      " 11  S11     364 non-null    object \n",
      " 12  S12     367 non-null    float64\n",
      " 13  S13     388 non-null    float64\n",
      " 14  S14     373 non-null    float64\n",
      " 15  S15     386 non-null    object \n",
      " 16  S16     356 non-null    object \n",
      " 17  S17     355 non-null    object \n",
      " 18  S18     381 non-null    object \n",
      " 19  S19     379 non-null    object \n",
      " 20  S20     388 non-null    float64\n",
      " 21  S21     375 non-null    object \n",
      " 22  S22     361 non-null    object \n",
      " 23  S23     364 non-null    object \n",
      " 24  S24     368 non-null    float64\n",
      " 25  S25     384 non-null    float64\n",
      " 26  S26     387 non-null    float64\n",
      " 27  S27     380 non-null    float64\n",
      " 28  S28     383 non-null    float64\n",
      " 29  S29     389 non-null    float64\n",
      "dtypes: float64(12), int64(1), object(17)\n",
      "memory usage: 92.7+ KB\n",
      "None\n"
     ]
    }
   ],
   "source": [
    "df1.set_axis([\"S\"+str(i).zfill(2) for i in range(0, df1.shape[1])], axis=1, inplace=True)\n",
    "print(df1.info())"
   ]
  },
  {
   "cell_type": "markdown",
   "metadata": {},
   "source": [
    "### 02. первичный просмотр данных в столбцах"
   ]
  },
  {
   "cell_type": "markdown",
   "metadata": {},
   "source": [
    "#### столбец S00  'school'"
   ]
  },
  {
   "cell_type": "code",
   "execution_count": 8,
   "metadata": {
    "scrolled": false
   },
   "outputs": [
    {
     "data": {
      "text/html": [
       "<div>\n",
       "<style scoped>\n",
       "    .dataframe tbody tr th:only-of-type {\n",
       "        vertical-align: middle;\n",
       "    }\n",
       "\n",
       "    .dataframe tbody tr th {\n",
       "        vertical-align: top;\n",
       "    }\n",
       "\n",
       "    .dataframe thead th {\n",
       "        text-align: right;\n",
       "    }\n",
       "</style>\n",
       "<table border=\"1\" class=\"dataframe\">\n",
       "  <thead>\n",
       "    <tr style=\"text-align: right;\">\n",
       "      <th></th>\n",
       "      <th>S00</th>\n",
       "    </tr>\n",
       "  </thead>\n",
       "  <tbody>\n",
       "    <tr>\n",
       "      <th>GP</th>\n",
       "      <td>349</td>\n",
       "    </tr>\n",
       "    <tr>\n",
       "      <th>MS</th>\n",
       "      <td>46</td>\n",
       "    </tr>\n",
       "  </tbody>\n",
       "</table>\n",
       "</div>"
      ],
      "text/plain": [
       "    S00\n",
       "GP  349\n",
       "MS   46"
      ]
     },
     "metadata": {},
     "output_type": "display_data"
    },
    {
     "name": "stdout",
     "output_type": "stream",
     "text": [
      "пустых значений в столбце  S00  =  0 ,  в процентах =  0%\n",
      "уникальных значений в столбце  S00  =  2\n",
      "описание столбца: ('school', 'school type', 'GP or MS')\n"
     ]
    }
   ],
   "source": [
    "col_info('S00')\n",
    "print(\"описание столбца:\", C00)"
   ]
  },
  {
   "cell_type": "raw",
   "metadata": {},
   "source": [
    "тип: номинативный бинарный"
   ]
  },
  {
   "cell_type": "markdown",
   "metadata": {},
   "source": [
    "#### столбец S01 'sex'"
   ]
  },
  {
   "cell_type": "code",
   "execution_count": 9,
   "metadata": {
    "scrolled": true
   },
   "outputs": [
    {
     "data": {
      "text/html": [
       "<div>\n",
       "<style scoped>\n",
       "    .dataframe tbody tr th:only-of-type {\n",
       "        vertical-align: middle;\n",
       "    }\n",
       "\n",
       "    .dataframe tbody tr th {\n",
       "        vertical-align: top;\n",
       "    }\n",
       "\n",
       "    .dataframe thead th {\n",
       "        text-align: right;\n",
       "    }\n",
       "</style>\n",
       "<table border=\"1\" class=\"dataframe\">\n",
       "  <thead>\n",
       "    <tr style=\"text-align: right;\">\n",
       "      <th></th>\n",
       "      <th>S01</th>\n",
       "    </tr>\n",
       "  </thead>\n",
       "  <tbody>\n",
       "    <tr>\n",
       "      <th>F</th>\n",
       "      <td>208</td>\n",
       "    </tr>\n",
       "    <tr>\n",
       "      <th>M</th>\n",
       "      <td>187</td>\n",
       "    </tr>\n",
       "  </tbody>\n",
       "</table>\n",
       "</div>"
      ],
      "text/plain": [
       "   S01\n",
       "F  208\n",
       "M  187"
      ]
     },
     "metadata": {},
     "output_type": "display_data"
    },
    {
     "name": "stdout",
     "output_type": "stream",
     "text": [
      "пустых значений в столбце  S01  =  0 ,  в процентах =  0%\n",
      "уникальных значений в столбце  S01  =  2\n",
      "описание столбца: ('sex', 'student gender', 'F or M')\n"
     ]
    }
   ],
   "source": [
    "col_info('S01')\n",
    "print(\"описание столбца:\", C01)"
   ]
  },
  {
   "cell_type": "raw",
   "metadata": {},
   "source": [
    "тип: номинативный бинарный"
   ]
  },
  {
   "cell_type": "markdown",
   "metadata": {},
   "source": [
    "#### столбец S02 'age'"
   ]
  },
  {
   "cell_type": "code",
   "execution_count": 10,
   "metadata": {
    "scrolled": false
   },
   "outputs": [
    {
     "data": {
      "text/html": [
       "<div>\n",
       "<style scoped>\n",
       "    .dataframe tbody tr th:only-of-type {\n",
       "        vertical-align: middle;\n",
       "    }\n",
       "\n",
       "    .dataframe tbody tr th {\n",
       "        vertical-align: top;\n",
       "    }\n",
       "\n",
       "    .dataframe thead th {\n",
       "        text-align: right;\n",
       "    }\n",
       "</style>\n",
       "<table border=\"1\" class=\"dataframe\">\n",
       "  <thead>\n",
       "    <tr style=\"text-align: right;\">\n",
       "      <th></th>\n",
       "      <th>S02</th>\n",
       "    </tr>\n",
       "  </thead>\n",
       "  <tbody>\n",
       "    <tr>\n",
       "      <th>16</th>\n",
       "      <td>104</td>\n",
       "    </tr>\n",
       "    <tr>\n",
       "      <th>17</th>\n",
       "      <td>98</td>\n",
       "    </tr>\n",
       "    <tr>\n",
       "      <th>18</th>\n",
       "      <td>82</td>\n",
       "    </tr>\n",
       "    <tr>\n",
       "      <th>15</th>\n",
       "      <td>82</td>\n",
       "    </tr>\n",
       "    <tr>\n",
       "      <th>19</th>\n",
       "      <td>24</td>\n",
       "    </tr>\n",
       "    <tr>\n",
       "      <th>20</th>\n",
       "      <td>3</td>\n",
       "    </tr>\n",
       "    <tr>\n",
       "      <th>22</th>\n",
       "      <td>1</td>\n",
       "    </tr>\n",
       "    <tr>\n",
       "      <th>21</th>\n",
       "      <td>1</td>\n",
       "    </tr>\n",
       "  </tbody>\n",
       "</table>\n",
       "</div>"
      ],
      "text/plain": [
       "    S02\n",
       "16  104\n",
       "17   98\n",
       "18   82\n",
       "15   82\n",
       "19   24\n",
       "20    3\n",
       "22    1\n",
       "21    1"
      ]
     },
     "metadata": {},
     "output_type": "display_data"
    },
    {
     "name": "stdout",
     "output_type": "stream",
     "text": [
      "пустых значений в столбце  S02  =  0 ,  в процентах =  0%\n",
      "уникальных значений в столбце  S02  =  8\n",
      "описание столбца: ('age', 'student age', '16 - 21 years')\n"
     ]
    }
   ],
   "source": [
    "col_info('S02')\n",
    "print(\"описание столбца:\", C02)"
   ]
  },
  {
   "cell_type": "raw",
   "metadata": {},
   "source": [
    "тип: количественный"
   ]
  },
  {
   "cell_type": "markdown",
   "metadata": {},
   "source": [
    "#### столбец S03 'address'"
   ]
  },
  {
   "cell_type": "code",
   "execution_count": 11,
   "metadata": {
    "scrolled": true
   },
   "outputs": [
    {
     "data": {
      "text/html": [
       "<div>\n",
       "<style scoped>\n",
       "    .dataframe tbody tr th:only-of-type {\n",
       "        vertical-align: middle;\n",
       "    }\n",
       "\n",
       "    .dataframe tbody tr th {\n",
       "        vertical-align: top;\n",
       "    }\n",
       "\n",
       "    .dataframe thead th {\n",
       "        text-align: right;\n",
       "    }\n",
       "</style>\n",
       "<table border=\"1\" class=\"dataframe\">\n",
       "  <thead>\n",
       "    <tr style=\"text-align: right;\">\n",
       "      <th></th>\n",
       "      <th>S03</th>\n",
       "    </tr>\n",
       "  </thead>\n",
       "  <tbody>\n",
       "    <tr>\n",
       "      <th>U</th>\n",
       "      <td>295</td>\n",
       "    </tr>\n",
       "    <tr>\n",
       "      <th>R</th>\n",
       "      <td>83</td>\n",
       "    </tr>\n",
       "    <tr>\n",
       "      <th>NaN</th>\n",
       "      <td>17</td>\n",
       "    </tr>\n",
       "  </tbody>\n",
       "</table>\n",
       "</div>"
      ],
      "text/plain": [
       "     S03\n",
       "U    295\n",
       "R     83\n",
       "NaN   17"
      ]
     },
     "metadata": {},
     "output_type": "display_data"
    },
    {
     "name": "stdout",
     "output_type": "stream",
     "text": [
      "пустых значений в столбце  S03  =  17 ,  в процентах =  4%\n",
      "уникальных значений в столбце  S03  =  3\n",
      "описание столбца: ('address', 'тип адреса - Urban or Rural;', 'U or R')\n"
     ]
    }
   ],
   "source": [
    "col_info('S03')\n",
    "print(\"описание столбца:\", C03)"
   ]
  },
  {
   "cell_type": "raw",
   "metadata": {},
   "source": [
    "тип: номинативный бинарный"
   ]
  },
  {
   "cell_type": "markdown",
   "metadata": {},
   "source": [
    "#### столбец S04 'famsize'"
   ]
  },
  {
   "cell_type": "code",
   "execution_count": 12,
   "metadata": {
    "scrolled": true
   },
   "outputs": [
    {
     "data": {
      "text/html": [
       "<div>\n",
       "<style scoped>\n",
       "    .dataframe tbody tr th:only-of-type {\n",
       "        vertical-align: middle;\n",
       "    }\n",
       "\n",
       "    .dataframe tbody tr th {\n",
       "        vertical-align: top;\n",
       "    }\n",
       "\n",
       "    .dataframe thead th {\n",
       "        text-align: right;\n",
       "    }\n",
       "</style>\n",
       "<table border=\"1\" class=\"dataframe\">\n",
       "  <thead>\n",
       "    <tr style=\"text-align: right;\">\n",
       "      <th></th>\n",
       "      <th>S04</th>\n",
       "    </tr>\n",
       "  </thead>\n",
       "  <tbody>\n",
       "    <tr>\n",
       "      <th>GT3</th>\n",
       "      <td>261</td>\n",
       "    </tr>\n",
       "    <tr>\n",
       "      <th>LE3</th>\n",
       "      <td>107</td>\n",
       "    </tr>\n",
       "    <tr>\n",
       "      <th>NaN</th>\n",
       "      <td>27</td>\n",
       "    </tr>\n",
       "  </tbody>\n",
       "</table>\n",
       "</div>"
      ],
      "text/plain": [
       "     S04\n",
       "GT3  261\n",
       "LE3  107\n",
       "NaN   27"
      ]
     },
     "metadata": {},
     "output_type": "display_data"
    },
    {
     "name": "stdout",
     "output_type": "stream",
     "text": [
      "пустых значений в столбце  S04  =  27 ,  в процентах =  7%\n",
      "уникальных значений в столбце  S04  =  3\n",
      "описание столбца: ('famsize', 'family size размер семьи', 'LE3 <= 3 or GT3 > 3')\n"
     ]
    }
   ],
   "source": [
    "col_info('S04')\n",
    "print(\"описание столбца:\", C04)"
   ]
  },
  {
   "cell_type": "raw",
   "metadata": {},
   "source": [
    "тип: номинативный бинарный"
   ]
  },
  {
   "cell_type": "markdown",
   "metadata": {},
   "source": [
    "#### столбец S05 'Pstatus'"
   ]
  },
  {
   "cell_type": "code",
   "execution_count": 13,
   "metadata": {
    "scrolled": true
   },
   "outputs": [
    {
     "data": {
      "text/html": [
       "<div>\n",
       "<style scoped>\n",
       "    .dataframe tbody tr th:only-of-type {\n",
       "        vertical-align: middle;\n",
       "    }\n",
       "\n",
       "    .dataframe tbody tr th {\n",
       "        vertical-align: top;\n",
       "    }\n",
       "\n",
       "    .dataframe thead th {\n",
       "        text-align: right;\n",
       "    }\n",
       "</style>\n",
       "<table border=\"1\" class=\"dataframe\">\n",
       "  <thead>\n",
       "    <tr style=\"text-align: right;\">\n",
       "      <th></th>\n",
       "      <th>S05</th>\n",
       "    </tr>\n",
       "  </thead>\n",
       "  <tbody>\n",
       "    <tr>\n",
       "      <th>T</th>\n",
       "      <td>314</td>\n",
       "    </tr>\n",
       "    <tr>\n",
       "      <th>NaN</th>\n",
       "      <td>45</td>\n",
       "    </tr>\n",
       "    <tr>\n",
       "      <th>A</th>\n",
       "      <td>36</td>\n",
       "    </tr>\n",
       "  </tbody>\n",
       "</table>\n",
       "</div>"
      ],
      "text/plain": [
       "     S05\n",
       "T    314\n",
       "NaN   45\n",
       "A     36"
      ]
     },
     "metadata": {},
     "output_type": "display_data"
    },
    {
     "name": "stdout",
     "output_type": "stream",
     "text": [
      "пустых значений в столбце  S05  =  45 ,  в процентах =  11%\n",
      "уникальных значений в столбце  S05  =  3\n",
      "описание столбца: ('Pstatus', 'родители живут вместе или нет', 'T-together or Apart')\n"
     ]
    }
   ],
   "source": [
    "col_info('S05')\n",
    "print(\"описание столбца:\", C05)"
   ]
  },
  {
   "cell_type": "raw",
   "metadata": {},
   "source": [
    "тип: номинативный бинарный"
   ]
  },
  {
   "cell_type": "markdown",
   "metadata": {},
   "source": [
    "#### столбец S06 'Medu'"
   ]
  },
  {
   "cell_type": "code",
   "execution_count": 14,
   "metadata": {
    "scrolled": true
   },
   "outputs": [
    {
     "data": {
      "text/html": [
       "<div>\n",
       "<style scoped>\n",
       "    .dataframe tbody tr th:only-of-type {\n",
       "        vertical-align: middle;\n",
       "    }\n",
       "\n",
       "    .dataframe tbody tr th {\n",
       "        vertical-align: top;\n",
       "    }\n",
       "\n",
       "    .dataframe thead th {\n",
       "        text-align: right;\n",
       "    }\n",
       "</style>\n",
       "<table border=\"1\" class=\"dataframe\">\n",
       "  <thead>\n",
       "    <tr style=\"text-align: right;\">\n",
       "      <th></th>\n",
       "      <th>S06</th>\n",
       "    </tr>\n",
       "  </thead>\n",
       "  <tbody>\n",
       "    <tr>\n",
       "      <th>4.0</th>\n",
       "      <td>131</td>\n",
       "    </tr>\n",
       "    <tr>\n",
       "      <th>2.0</th>\n",
       "      <td>102</td>\n",
       "    </tr>\n",
       "    <tr>\n",
       "      <th>3.0</th>\n",
       "      <td>97</td>\n",
       "    </tr>\n",
       "    <tr>\n",
       "      <th>1.0</th>\n",
       "      <td>59</td>\n",
       "    </tr>\n",
       "    <tr>\n",
       "      <th>0.0</th>\n",
       "      <td>3</td>\n",
       "    </tr>\n",
       "    <tr>\n",
       "      <th>NaN</th>\n",
       "      <td>3</td>\n",
       "    </tr>\n",
       "  </tbody>\n",
       "</table>\n",
       "</div>"
      ],
      "text/plain": [
       "     S06\n",
       "4.0  131\n",
       "2.0  102\n",
       "3.0   97\n",
       "1.0   59\n",
       "0.0    3\n",
       "NaN    3"
      ]
     },
     "metadata": {},
     "output_type": "display_data"
    },
    {
     "name": "stdout",
     "output_type": "stream",
     "text": [
      "пустых значений в столбце  S06  =  3 ,  в процентах =  1%\n",
      "уникальных значений в столбце  S06  =  6\n",
      "описание столбца: ('Medu', 'mother eduction', '0 нет, 1 4класса, 2 5-9кл, 3 спец или 11кл, 4 высшее')\n"
     ]
    }
   ],
   "source": [
    "col_info('S06')\n",
    "print(\"описание столбца:\", C06)"
   ]
  },
  {
   "cell_type": "raw",
   "metadata": {},
   "source": [
    "тип: количественный"
   ]
  },
  {
   "cell_type": "markdown",
   "metadata": {},
   "source": [
    "#### столбец S07 'Fedu'"
   ]
  },
  {
   "cell_type": "code",
   "execution_count": 15,
   "metadata": {
    "scrolled": true
   },
   "outputs": [
    {
     "data": {
      "text/html": [
       "<div>\n",
       "<style scoped>\n",
       "    .dataframe tbody tr th:only-of-type {\n",
       "        vertical-align: middle;\n",
       "    }\n",
       "\n",
       "    .dataframe tbody tr th {\n",
       "        vertical-align: top;\n",
       "    }\n",
       "\n",
       "    .dataframe thead th {\n",
       "        text-align: right;\n",
       "    }\n",
       "</style>\n",
       "<table border=\"1\" class=\"dataframe\">\n",
       "  <thead>\n",
       "    <tr style=\"text-align: right;\">\n",
       "      <th></th>\n",
       "      <th>S07</th>\n",
       "    </tr>\n",
       "  </thead>\n",
       "  <tbody>\n",
       "    <tr>\n",
       "      <th>2.0</th>\n",
       "      <td>106</td>\n",
       "    </tr>\n",
       "    <tr>\n",
       "      <th>3.0</th>\n",
       "      <td>96</td>\n",
       "    </tr>\n",
       "    <tr>\n",
       "      <th>4.0</th>\n",
       "      <td>88</td>\n",
       "    </tr>\n",
       "    <tr>\n",
       "      <th>1.0</th>\n",
       "      <td>78</td>\n",
       "    </tr>\n",
       "    <tr>\n",
       "      <th>NaN</th>\n",
       "      <td>24</td>\n",
       "    </tr>\n",
       "    <tr>\n",
       "      <th>0.0</th>\n",
       "      <td>2</td>\n",
       "    </tr>\n",
       "    <tr>\n",
       "      <th>40.0</th>\n",
       "      <td>1</td>\n",
       "    </tr>\n",
       "  </tbody>\n",
       "</table>\n",
       "</div>"
      ],
      "text/plain": [
       "      S07\n",
       "2.0   106\n",
       "3.0    96\n",
       "4.0    88\n",
       "1.0    78\n",
       "NaN    24\n",
       "0.0     2\n",
       "40.0    1"
      ]
     },
     "metadata": {},
     "output_type": "display_data"
    },
    {
     "name": "stdout",
     "output_type": "stream",
     "text": [
      "пустых значений в столбце  S07  =  24 ,  в процентах =  6%\n",
      "уникальных значений в столбце  S07  =  7\n",
      "описание столбца: ('Fedu', 'father eduction', '0 нет, 1 4класса, 2 5-9кл, 3 спец или 11кл, 4 высшее')\n"
     ]
    }
   ],
   "source": [
    "col_info('S07')\n",
    "print(\"описание столбца:\", C07)"
   ]
  },
  {
   "cell_type": "raw",
   "metadata": {},
   "source": [
    "одно невозможное значение (40) обнаружено, ниже будет заменено на 4"
   ]
  },
  {
   "cell_type": "code",
   "execution_count": 16,
   "metadata": {},
   "outputs": [],
   "source": [
    "df1.S07 = np.where((df1.S07 == 40), 4, df1.S07)"
   ]
  },
  {
   "cell_type": "raw",
   "metadata": {},
   "source": [
    "тип: количественный"
   ]
  },
  {
   "cell_type": "markdown",
   "metadata": {},
   "source": [
    "#### столбец S08 'Mjob'"
   ]
  },
  {
   "cell_type": "code",
   "execution_count": 17,
   "metadata": {
    "scrolled": true
   },
   "outputs": [
    {
     "data": {
      "text/html": [
       "<div>\n",
       "<style scoped>\n",
       "    .dataframe tbody tr th:only-of-type {\n",
       "        vertical-align: middle;\n",
       "    }\n",
       "\n",
       "    .dataframe tbody tr th {\n",
       "        vertical-align: top;\n",
       "    }\n",
       "\n",
       "    .dataframe thead th {\n",
       "        text-align: right;\n",
       "    }\n",
       "</style>\n",
       "<table border=\"1\" class=\"dataframe\">\n",
       "  <thead>\n",
       "    <tr style=\"text-align: right;\">\n",
       "      <th></th>\n",
       "      <th>S08</th>\n",
       "    </tr>\n",
       "  </thead>\n",
       "  <tbody>\n",
       "    <tr>\n",
       "      <th>other</th>\n",
       "      <td>133</td>\n",
       "    </tr>\n",
       "    <tr>\n",
       "      <th>services</th>\n",
       "      <td>98</td>\n",
       "    </tr>\n",
       "    <tr>\n",
       "      <th>at_home</th>\n",
       "      <td>58</td>\n",
       "    </tr>\n",
       "    <tr>\n",
       "      <th>teacher</th>\n",
       "      <td>55</td>\n",
       "    </tr>\n",
       "    <tr>\n",
       "      <th>health</th>\n",
       "      <td>32</td>\n",
       "    </tr>\n",
       "    <tr>\n",
       "      <th>NaN</th>\n",
       "      <td>19</td>\n",
       "    </tr>\n",
       "  </tbody>\n",
       "</table>\n",
       "</div>"
      ],
      "text/plain": [
       "          S08\n",
       "other     133\n",
       "services   98\n",
       "at_home    58\n",
       "teacher    55\n",
       "health     32\n",
       "NaN        19"
      ]
     },
     "metadata": {},
     "output_type": "display_data"
    },
    {
     "name": "stdout",
     "output_type": "stream",
     "text": [
      "пустых значений в столбце  S08  =  19 ,  в процентах =  5%\n",
      "уникальных значений в столбце  S08  =  6\n",
      "описание столбца: ('Mjob', 'mother job', 'teacher, health, services, at_home, other')\n"
     ]
    }
   ],
   "source": [
    "col_info('S08')\n",
    "print(\"описание столбца:\", C08)"
   ]
  },
  {
   "cell_type": "raw",
   "metadata": {},
   "source": [
    "тип: номинативный"
   ]
  },
  {
   "cell_type": "markdown",
   "metadata": {},
   "source": [
    "#### столбец S09 'Fjob'"
   ]
  },
  {
   "cell_type": "code",
   "execution_count": 18,
   "metadata": {
    "scrolled": true
   },
   "outputs": [
    {
     "data": {
      "text/html": [
       "<div>\n",
       "<style scoped>\n",
       "    .dataframe tbody tr th:only-of-type {\n",
       "        vertical-align: middle;\n",
       "    }\n",
       "\n",
       "    .dataframe tbody tr th {\n",
       "        vertical-align: top;\n",
       "    }\n",
       "\n",
       "    .dataframe thead th {\n",
       "        text-align: right;\n",
       "    }\n",
       "</style>\n",
       "<table border=\"1\" class=\"dataframe\">\n",
       "  <thead>\n",
       "    <tr style=\"text-align: right;\">\n",
       "      <th></th>\n",
       "      <th>S09</th>\n",
       "    </tr>\n",
       "  </thead>\n",
       "  <tbody>\n",
       "    <tr>\n",
       "      <th>other</th>\n",
       "      <td>197</td>\n",
       "    </tr>\n",
       "    <tr>\n",
       "      <th>services</th>\n",
       "      <td>102</td>\n",
       "    </tr>\n",
       "    <tr>\n",
       "      <th>NaN</th>\n",
       "      <td>36</td>\n",
       "    </tr>\n",
       "    <tr>\n",
       "      <th>teacher</th>\n",
       "      <td>29</td>\n",
       "    </tr>\n",
       "    <tr>\n",
       "      <th>at_home</th>\n",
       "      <td>16</td>\n",
       "    </tr>\n",
       "    <tr>\n",
       "      <th>health</th>\n",
       "      <td>15</td>\n",
       "    </tr>\n",
       "  </tbody>\n",
       "</table>\n",
       "</div>"
      ],
      "text/plain": [
       "          S09\n",
       "other     197\n",
       "services  102\n",
       "NaN        36\n",
       "teacher    29\n",
       "at_home    16\n",
       "health     15"
      ]
     },
     "metadata": {},
     "output_type": "display_data"
    },
    {
     "name": "stdout",
     "output_type": "stream",
     "text": [
      "пустых значений в столбце  S09  =  36 ,  в процентах =  9%\n",
      "уникальных значений в столбце  S09  =  6\n",
      "описание столбца: ('Fjob', 'father job', 'teacher, health, services, at_home, other')\n"
     ]
    }
   ],
   "source": [
    "col_info('S09')\n",
    "print(\"описание столбца:\", C09)"
   ]
  },
  {
   "cell_type": "raw",
   "metadata": {},
   "source": [
    "тип: номинативный"
   ]
  },
  {
   "cell_type": "markdown",
   "metadata": {},
   "source": [
    "#### столбец S10 'reason'"
   ]
  },
  {
   "cell_type": "code",
   "execution_count": 19,
   "metadata": {
    "scrolled": false
   },
   "outputs": [
    {
     "data": {
      "text/html": [
       "<div>\n",
       "<style scoped>\n",
       "    .dataframe tbody tr th:only-of-type {\n",
       "        vertical-align: middle;\n",
       "    }\n",
       "\n",
       "    .dataframe tbody tr th {\n",
       "        vertical-align: top;\n",
       "    }\n",
       "\n",
       "    .dataframe thead th {\n",
       "        text-align: right;\n",
       "    }\n",
       "</style>\n",
       "<table border=\"1\" class=\"dataframe\">\n",
       "  <thead>\n",
       "    <tr style=\"text-align: right;\">\n",
       "      <th></th>\n",
       "      <th>S10</th>\n",
       "    </tr>\n",
       "  </thead>\n",
       "  <tbody>\n",
       "    <tr>\n",
       "      <th>course</th>\n",
       "      <td>137</td>\n",
       "    </tr>\n",
       "    <tr>\n",
       "      <th>home</th>\n",
       "      <td>104</td>\n",
       "    </tr>\n",
       "    <tr>\n",
       "      <th>reputation</th>\n",
       "      <td>103</td>\n",
       "    </tr>\n",
       "    <tr>\n",
       "      <th>other</th>\n",
       "      <td>34</td>\n",
       "    </tr>\n",
       "    <tr>\n",
       "      <th>NaN</th>\n",
       "      <td>17</td>\n",
       "    </tr>\n",
       "  </tbody>\n",
       "</table>\n",
       "</div>"
      ],
      "text/plain": [
       "            S10\n",
       "course      137\n",
       "home        104\n",
       "reputation  103\n",
       "other        34\n",
       "NaN          17"
      ]
     },
     "metadata": {},
     "output_type": "display_data"
    },
    {
     "name": "stdout",
     "output_type": "stream",
     "text": [
      "пустых значений в столбце  S10  =  17 ,  в процентах =  4%\n",
      "уникальных значений в столбце  S10  =  5\n",
      "описание столбца: ('reason', 'выбор школы', 'home близость к дому, reputation, course тип программы, other')\n"
     ]
    }
   ],
   "source": [
    "col_info('S10')\n",
    "print(\"описание столбца:\", C10)"
   ]
  },
  {
   "cell_type": "raw",
   "metadata": {},
   "source": [
    "тип: номинативный"
   ]
  },
  {
   "cell_type": "markdown",
   "metadata": {},
   "source": [
    "#### столбец S11 'guardian'"
   ]
  },
  {
   "cell_type": "code",
   "execution_count": 20,
   "metadata": {
    "scrolled": false
   },
   "outputs": [
    {
     "data": {
      "text/html": [
       "<div>\n",
       "<style scoped>\n",
       "    .dataframe tbody tr th:only-of-type {\n",
       "        vertical-align: middle;\n",
       "    }\n",
       "\n",
       "    .dataframe tbody tr th {\n",
       "        vertical-align: top;\n",
       "    }\n",
       "\n",
       "    .dataframe thead th {\n",
       "        text-align: right;\n",
       "    }\n",
       "</style>\n",
       "<table border=\"1\" class=\"dataframe\">\n",
       "  <thead>\n",
       "    <tr style=\"text-align: right;\">\n",
       "      <th></th>\n",
       "      <th>S11</th>\n",
       "    </tr>\n",
       "  </thead>\n",
       "  <tbody>\n",
       "    <tr>\n",
       "      <th>mother</th>\n",
       "      <td>250</td>\n",
       "    </tr>\n",
       "    <tr>\n",
       "      <th>father</th>\n",
       "      <td>86</td>\n",
       "    </tr>\n",
       "    <tr>\n",
       "      <th>NaN</th>\n",
       "      <td>31</td>\n",
       "    </tr>\n",
       "    <tr>\n",
       "      <th>other</th>\n",
       "      <td>28</td>\n",
       "    </tr>\n",
       "  </tbody>\n",
       "</table>\n",
       "</div>"
      ],
      "text/plain": [
       "        S11\n",
       "mother  250\n",
       "father   86\n",
       "NaN      31\n",
       "other    28"
      ]
     },
     "metadata": {},
     "output_type": "display_data"
    },
    {
     "name": "stdout",
     "output_type": "stream",
     "text": [
      "пустых значений в столбце  S11  =  31 ,  в процентах =  8%\n",
      "уникальных значений в столбце  S11  =  4\n",
      "описание столбца: ('guardian', 'кто опекун', 'mother, father, other')\n"
     ]
    }
   ],
   "source": [
    "col_info('S11')\n",
    "print(\"описание столбца:\", C11)"
   ]
  },
  {
   "cell_type": "raw",
   "metadata": {},
   "source": [
    "тип: номинативный"
   ]
  },
  {
   "cell_type": "markdown",
   "metadata": {},
   "source": [
    "#### столбец S12 'traveltime'"
   ]
  },
  {
   "cell_type": "code",
   "execution_count": 21,
   "metadata": {
    "scrolled": false
   },
   "outputs": [
    {
     "data": {
      "text/html": [
       "<div>\n",
       "<style scoped>\n",
       "    .dataframe tbody tr th:only-of-type {\n",
       "        vertical-align: middle;\n",
       "    }\n",
       "\n",
       "    .dataframe tbody tr th {\n",
       "        vertical-align: top;\n",
       "    }\n",
       "\n",
       "    .dataframe thead th {\n",
       "        text-align: right;\n",
       "    }\n",
       "</style>\n",
       "<table border=\"1\" class=\"dataframe\">\n",
       "  <thead>\n",
       "    <tr style=\"text-align: right;\">\n",
       "      <th></th>\n",
       "      <th>S12</th>\n",
       "    </tr>\n",
       "  </thead>\n",
       "  <tbody>\n",
       "    <tr>\n",
       "      <th>1.0</th>\n",
       "      <td>242</td>\n",
       "    </tr>\n",
       "    <tr>\n",
       "      <th>2.0</th>\n",
       "      <td>96</td>\n",
       "    </tr>\n",
       "    <tr>\n",
       "      <th>NaN</th>\n",
       "      <td>28</td>\n",
       "    </tr>\n",
       "    <tr>\n",
       "      <th>3.0</th>\n",
       "      <td>22</td>\n",
       "    </tr>\n",
       "    <tr>\n",
       "      <th>4.0</th>\n",
       "      <td>7</td>\n",
       "    </tr>\n",
       "  </tbody>\n",
       "</table>\n",
       "</div>"
      ],
      "text/plain": [
       "     S12\n",
       "1.0  242\n",
       "2.0   96\n",
       "NaN   28\n",
       "3.0   22\n",
       "4.0    7"
      ]
     },
     "metadata": {},
     "output_type": "display_data"
    },
    {
     "name": "stdout",
     "output_type": "stream",
     "text": [
      "пустых значений в столбце  S12  =  28 ,  в процентах =  7%\n",
      "уникальных значений в столбце  S12  =  5\n",
      "описание столбца: ('traveltime', 'время в пути до школы', '1 <15мин, 2 15-30мин, 3 30-60мин, 4 >60мин')\n"
     ]
    }
   ],
   "source": [
    "col_info('S12')\n",
    "print(\"описание столбца:\", C12)"
   ]
  },
  {
   "cell_type": "raw",
   "metadata": {},
   "source": [
    "тип: количественный"
   ]
  },
  {
   "cell_type": "markdown",
   "metadata": {},
   "source": [
    "#### столбец S13 'studytime'"
   ]
  },
  {
   "cell_type": "code",
   "execution_count": 22,
   "metadata": {
    "scrolled": true
   },
   "outputs": [
    {
     "data": {
      "text/html": [
       "<div>\n",
       "<style scoped>\n",
       "    .dataframe tbody tr th:only-of-type {\n",
       "        vertical-align: middle;\n",
       "    }\n",
       "\n",
       "    .dataframe tbody tr th {\n",
       "        vertical-align: top;\n",
       "    }\n",
       "\n",
       "    .dataframe thead th {\n",
       "        text-align: right;\n",
       "    }\n",
       "</style>\n",
       "<table border=\"1\" class=\"dataframe\">\n",
       "  <thead>\n",
       "    <tr style=\"text-align: right;\">\n",
       "      <th></th>\n",
       "      <th>S13</th>\n",
       "    </tr>\n",
       "  </thead>\n",
       "  <tbody>\n",
       "    <tr>\n",
       "      <th>2.0</th>\n",
       "      <td>194</td>\n",
       "    </tr>\n",
       "    <tr>\n",
       "      <th>1.0</th>\n",
       "      <td>103</td>\n",
       "    </tr>\n",
       "    <tr>\n",
       "      <th>3.0</th>\n",
       "      <td>64</td>\n",
       "    </tr>\n",
       "    <tr>\n",
       "      <th>4.0</th>\n",
       "      <td>27</td>\n",
       "    </tr>\n",
       "    <tr>\n",
       "      <th>NaN</th>\n",
       "      <td>7</td>\n",
       "    </tr>\n",
       "  </tbody>\n",
       "</table>\n",
       "</div>"
      ],
      "text/plain": [
       "     S13\n",
       "2.0  194\n",
       "1.0  103\n",
       "3.0   64\n",
       "4.0   27\n",
       "NaN    7"
      ]
     },
     "metadata": {},
     "output_type": "display_data"
    },
    {
     "name": "stdout",
     "output_type": "stream",
     "text": [
      "пустых значений в столбце  S13  =  7 ,  в процентах =  2%\n",
      "уникальных значений в столбце  S13  =  5\n",
      "описание столбца: ('studytime', 'время на учёбу помимо школы в неделю', '1 <2ч, 2 2-5ч, 3 5-10ч, 4 >10ч')\n"
     ]
    }
   ],
   "source": [
    "col_info('S13')\n",
    "print(\"описание столбца:\", C13)"
   ]
  },
  {
   "cell_type": "raw",
   "metadata": {},
   "source": [
    "тип: количественный"
   ]
  },
  {
   "cell_type": "markdown",
   "metadata": {},
   "source": [
    "#### столбец S14 'failures'"
   ]
  },
  {
   "cell_type": "code",
   "execution_count": 23,
   "metadata": {
    "scrolled": false
   },
   "outputs": [
    {
     "data": {
      "text/html": [
       "<div>\n",
       "<style scoped>\n",
       "    .dataframe tbody tr th:only-of-type {\n",
       "        vertical-align: middle;\n",
       "    }\n",
       "\n",
       "    .dataframe tbody tr th {\n",
       "        vertical-align: top;\n",
       "    }\n",
       "\n",
       "    .dataframe thead th {\n",
       "        text-align: right;\n",
       "    }\n",
       "</style>\n",
       "<table border=\"1\" class=\"dataframe\">\n",
       "  <thead>\n",
       "    <tr style=\"text-align: right;\">\n",
       "      <th></th>\n",
       "      <th>S14</th>\n",
       "    </tr>\n",
       "  </thead>\n",
       "  <tbody>\n",
       "    <tr>\n",
       "      <th>0.0</th>\n",
       "      <td>293</td>\n",
       "    </tr>\n",
       "    <tr>\n",
       "      <th>1.0</th>\n",
       "      <td>49</td>\n",
       "    </tr>\n",
       "    <tr>\n",
       "      <th>NaN</th>\n",
       "      <td>22</td>\n",
       "    </tr>\n",
       "    <tr>\n",
       "      <th>2.0</th>\n",
       "      <td>16</td>\n",
       "    </tr>\n",
       "    <tr>\n",
       "      <th>3.0</th>\n",
       "      <td>15</td>\n",
       "    </tr>\n",
       "  </tbody>\n",
       "</table>\n",
       "</div>"
      ],
      "text/plain": [
       "     S14\n",
       "0.0  293\n",
       "1.0   49\n",
       "NaN   22\n",
       "2.0   16\n",
       "3.0   15"
      ]
     },
     "metadata": {},
     "output_type": "display_data"
    },
    {
     "name": "stdout",
     "output_type": "stream",
     "text": [
      "пустых значений в столбце  S14  =  22 ,  в процентах =  6%\n",
      "уникальных значений в столбце  S14  =  5\n",
      "описание столбца: ('failures', 'количество внеучебных неудач', 'n, если 1<=n<=3, иначе 0')\n"
     ]
    }
   ],
   "source": [
    "col_info('S14')\n",
    "print(\"описание столбца:\", C14)"
   ]
  },
  {
   "cell_type": "raw",
   "metadata": {},
   "source": [
    "тип: количественный"
   ]
  },
  {
   "cell_type": "markdown",
   "metadata": {},
   "source": [
    "#### столбец S15 'schoolsup'"
   ]
  },
  {
   "cell_type": "code",
   "execution_count": 24,
   "metadata": {
    "scrolled": false
   },
   "outputs": [
    {
     "data": {
      "text/html": [
       "<div>\n",
       "<style scoped>\n",
       "    .dataframe tbody tr th:only-of-type {\n",
       "        vertical-align: middle;\n",
       "    }\n",
       "\n",
       "    .dataframe tbody tr th {\n",
       "        vertical-align: top;\n",
       "    }\n",
       "\n",
       "    .dataframe thead th {\n",
       "        text-align: right;\n",
       "    }\n",
       "</style>\n",
       "<table border=\"1\" class=\"dataframe\">\n",
       "  <thead>\n",
       "    <tr style=\"text-align: right;\">\n",
       "      <th></th>\n",
       "      <th>S15</th>\n",
       "    </tr>\n",
       "  </thead>\n",
       "  <tbody>\n",
       "    <tr>\n",
       "      <th>no</th>\n",
       "      <td>335</td>\n",
       "    </tr>\n",
       "    <tr>\n",
       "      <th>yes</th>\n",
       "      <td>51</td>\n",
       "    </tr>\n",
       "    <tr>\n",
       "      <th>NaN</th>\n",
       "      <td>9</td>\n",
       "    </tr>\n",
       "  </tbody>\n",
       "</table>\n",
       "</div>"
      ],
      "text/plain": [
       "     S15\n",
       "no   335\n",
       "yes   51\n",
       "NaN    9"
      ]
     },
     "metadata": {},
     "output_type": "display_data"
    },
    {
     "name": "stdout",
     "output_type": "stream",
     "text": [
      "пустых значений в столбце  S15  =  9 ,  в процентах =  2%\n",
      "уникальных значений в столбце  S15  =  3\n",
      "описание столбца: ('schoolsup', 'дополнительная образовательная поддержка', 'yes, no')\n"
     ]
    }
   ],
   "source": [
    "col_info('S15')\n",
    "print(\"описание столбца:\", C15)"
   ]
  },
  {
   "cell_type": "raw",
   "metadata": {},
   "source": [
    "тип: номинативный бинарный"
   ]
  },
  {
   "cell_type": "markdown",
   "metadata": {},
   "source": [
    "#### столбец S16 'famsup'"
   ]
  },
  {
   "cell_type": "code",
   "execution_count": 25,
   "metadata": {
    "scrolled": true
   },
   "outputs": [
    {
     "data": {
      "text/html": [
       "<div>\n",
       "<style scoped>\n",
       "    .dataframe tbody tr th:only-of-type {\n",
       "        vertical-align: middle;\n",
       "    }\n",
       "\n",
       "    .dataframe tbody tr th {\n",
       "        vertical-align: top;\n",
       "    }\n",
       "\n",
       "    .dataframe thead th {\n",
       "        text-align: right;\n",
       "    }\n",
       "</style>\n",
       "<table border=\"1\" class=\"dataframe\">\n",
       "  <thead>\n",
       "    <tr style=\"text-align: right;\">\n",
       "      <th></th>\n",
       "      <th>S16</th>\n",
       "    </tr>\n",
       "  </thead>\n",
       "  <tbody>\n",
       "    <tr>\n",
       "      <th>yes</th>\n",
       "      <td>219</td>\n",
       "    </tr>\n",
       "    <tr>\n",
       "      <th>no</th>\n",
       "      <td>137</td>\n",
       "    </tr>\n",
       "    <tr>\n",
       "      <th>NaN</th>\n",
       "      <td>39</td>\n",
       "    </tr>\n",
       "  </tbody>\n",
       "</table>\n",
       "</div>"
      ],
      "text/plain": [
       "     S16\n",
       "yes  219\n",
       "no   137\n",
       "NaN   39"
      ]
     },
     "metadata": {},
     "output_type": "display_data"
    },
    {
     "name": "stdout",
     "output_type": "stream",
     "text": [
      "пустых значений в столбце  S16  =  39 ,  в процентах =  10%\n",
      "уникальных значений в столбце  S16  =  3\n",
      "описание столбца: ('famsup', ' семейная образовательная поддержка', 'yes, no')\n"
     ]
    }
   ],
   "source": [
    "col_info('S16')\n",
    "print(\"описание столбца:\", C16)"
   ]
  },
  {
   "cell_type": "raw",
   "metadata": {},
   "source": [
    "тип: номинативный бинарный"
   ]
  },
  {
   "cell_type": "markdown",
   "metadata": {},
   "source": [
    "#### столбец S17 'paid'"
   ]
  },
  {
   "cell_type": "code",
   "execution_count": 26,
   "metadata": {
    "scrolled": true
   },
   "outputs": [
    {
     "data": {
      "text/html": [
       "<div>\n",
       "<style scoped>\n",
       "    .dataframe tbody tr th:only-of-type {\n",
       "        vertical-align: middle;\n",
       "    }\n",
       "\n",
       "    .dataframe tbody tr th {\n",
       "        vertical-align: top;\n",
       "    }\n",
       "\n",
       "    .dataframe thead th {\n",
       "        text-align: right;\n",
       "    }\n",
       "</style>\n",
       "<table border=\"1\" class=\"dataframe\">\n",
       "  <thead>\n",
       "    <tr style=\"text-align: right;\">\n",
       "      <th></th>\n",
       "      <th>S17</th>\n",
       "    </tr>\n",
       "  </thead>\n",
       "  <tbody>\n",
       "    <tr>\n",
       "      <th>no</th>\n",
       "      <td>200</td>\n",
       "    </tr>\n",
       "    <tr>\n",
       "      <th>yes</th>\n",
       "      <td>155</td>\n",
       "    </tr>\n",
       "    <tr>\n",
       "      <th>NaN</th>\n",
       "      <td>40</td>\n",
       "    </tr>\n",
       "  </tbody>\n",
       "</table>\n",
       "</div>"
      ],
      "text/plain": [
       "     S17\n",
       "no   200\n",
       "yes  155\n",
       "NaN   40"
      ]
     },
     "metadata": {},
     "output_type": "display_data"
    },
    {
     "name": "stdout",
     "output_type": "stream",
     "text": [
      "пустых значений в столбце  S17  =  40 ,  в процентах =  10%\n",
      "уникальных значений в столбце  S17  =  3\n",
      "описание столбца: ('paid', 'доп. платные занятия', 'yes, no')\n"
     ]
    }
   ],
   "source": [
    "col_info('S17')\n",
    "print(\"описание столбца:\", C17)"
   ]
  },
  {
   "cell_type": "raw",
   "metadata": {},
   "source": [
    "тип: номинативный бинарный"
   ]
  },
  {
   "cell_type": "markdown",
   "metadata": {},
   "source": [
    "#### столбец S18 'activities'"
   ]
  },
  {
   "cell_type": "code",
   "execution_count": 27,
   "metadata": {
    "scrolled": true
   },
   "outputs": [
    {
     "data": {
      "text/html": [
       "<div>\n",
       "<style scoped>\n",
       "    .dataframe tbody tr th:only-of-type {\n",
       "        vertical-align: middle;\n",
       "    }\n",
       "\n",
       "    .dataframe tbody tr th {\n",
       "        vertical-align: top;\n",
       "    }\n",
       "\n",
       "    .dataframe thead th {\n",
       "        text-align: right;\n",
       "    }\n",
       "</style>\n",
       "<table border=\"1\" class=\"dataframe\">\n",
       "  <thead>\n",
       "    <tr style=\"text-align: right;\">\n",
       "      <th></th>\n",
       "      <th>S18</th>\n",
       "    </tr>\n",
       "  </thead>\n",
       "  <tbody>\n",
       "    <tr>\n",
       "      <th>yes</th>\n",
       "      <td>195</td>\n",
       "    </tr>\n",
       "    <tr>\n",
       "      <th>no</th>\n",
       "      <td>186</td>\n",
       "    </tr>\n",
       "    <tr>\n",
       "      <th>NaN</th>\n",
       "      <td>14</td>\n",
       "    </tr>\n",
       "  </tbody>\n",
       "</table>\n",
       "</div>"
      ],
      "text/plain": [
       "     S18\n",
       "yes  195\n",
       "no   186\n",
       "NaN   14"
      ]
     },
     "metadata": {},
     "output_type": "display_data"
    },
    {
     "name": "stdout",
     "output_type": "stream",
     "text": [
      "пустых значений в столбце  S18  =  14 ,  в процентах =  4%\n",
      "уникальных значений в столбце  S18  =  3\n",
      "описание столбца: ('activities', 'доп. внеучебные занятия', 'yes, no')\n"
     ]
    }
   ],
   "source": [
    "col_info('S18')\n",
    "print(\"описание столбца:\", C18)"
   ]
  },
  {
   "cell_type": "raw",
   "metadata": {},
   "source": [
    "тип: номинативный бинарный"
   ]
  },
  {
   "cell_type": "markdown",
   "metadata": {},
   "source": [
    "#### столбец S19 'nursery'"
   ]
  },
  {
   "cell_type": "code",
   "execution_count": 28,
   "metadata": {
    "scrolled": true
   },
   "outputs": [
    {
     "data": {
      "text/html": [
       "<div>\n",
       "<style scoped>\n",
       "    .dataframe tbody tr th:only-of-type {\n",
       "        vertical-align: middle;\n",
       "    }\n",
       "\n",
       "    .dataframe tbody tr th {\n",
       "        vertical-align: top;\n",
       "    }\n",
       "\n",
       "    .dataframe thead th {\n",
       "        text-align: right;\n",
       "    }\n",
       "</style>\n",
       "<table border=\"1\" class=\"dataframe\">\n",
       "  <thead>\n",
       "    <tr style=\"text-align: right;\">\n",
       "      <th></th>\n",
       "      <th>S19</th>\n",
       "    </tr>\n",
       "  </thead>\n",
       "  <tbody>\n",
       "    <tr>\n",
       "      <th>yes</th>\n",
       "      <td>300</td>\n",
       "    </tr>\n",
       "    <tr>\n",
       "      <th>no</th>\n",
       "      <td>79</td>\n",
       "    </tr>\n",
       "    <tr>\n",
       "      <th>NaN</th>\n",
       "      <td>16</td>\n",
       "    </tr>\n",
       "  </tbody>\n",
       "</table>\n",
       "</div>"
      ],
      "text/plain": [
       "     S19\n",
       "yes  300\n",
       "no    79\n",
       "NaN   16"
      ]
     },
     "metadata": {},
     "output_type": "display_data"
    },
    {
     "name": "stdout",
     "output_type": "stream",
     "text": [
      "пустых значений в столбце  S19  =  16 ,  в процентах =  4%\n",
      "уникальных значений в столбце  S19  =  3\n",
      "описание столбца: ('nursery', 'подготовка до школы', 'yes, no')\n"
     ]
    }
   ],
   "source": [
    "col_info('S19')\n",
    "print(\"описание столбца:\", C19)"
   ]
  },
  {
   "cell_type": "raw",
   "metadata": {},
   "source": [
    "тип: номинативный бинарный"
   ]
  },
  {
   "cell_type": "markdown",
   "metadata": {},
   "source": [
    "#### столбец  S20 'studytime, granular'"
   ]
  },
  {
   "cell_type": "code",
   "execution_count": 29,
   "metadata": {},
   "outputs": [
    {
     "data": {
      "text/html": [
       "<div>\n",
       "<style scoped>\n",
       "    .dataframe tbody tr th:only-of-type {\n",
       "        vertical-align: middle;\n",
       "    }\n",
       "\n",
       "    .dataframe tbody tr th {\n",
       "        vertical-align: top;\n",
       "    }\n",
       "\n",
       "    .dataframe thead th {\n",
       "        text-align: right;\n",
       "    }\n",
       "</style>\n",
       "<table border=\"1\" class=\"dataframe\">\n",
       "  <thead>\n",
       "    <tr style=\"text-align: right;\">\n",
       "      <th></th>\n",
       "      <th>S20</th>\n",
       "    </tr>\n",
       "  </thead>\n",
       "  <tbody>\n",
       "    <tr>\n",
       "      <th>-6.0</th>\n",
       "      <td>194</td>\n",
       "    </tr>\n",
       "    <tr>\n",
       "      <th>-3.0</th>\n",
       "      <td>103</td>\n",
       "    </tr>\n",
       "    <tr>\n",
       "      <th>-9.0</th>\n",
       "      <td>64</td>\n",
       "    </tr>\n",
       "    <tr>\n",
       "      <th>-12.0</th>\n",
       "      <td>27</td>\n",
       "    </tr>\n",
       "    <tr>\n",
       "      <th>NaN</th>\n",
       "      <td>7</td>\n",
       "    </tr>\n",
       "  </tbody>\n",
       "</table>\n",
       "</div>"
      ],
      "text/plain": [
       "       S20\n",
       "-6.0   194\n",
       "-3.0   103\n",
       "-9.0    64\n",
       "-12.0   27\n",
       " NaN     7"
      ]
     },
     "metadata": {},
     "output_type": "display_data"
    },
    {
     "name": "stdout",
     "output_type": "stream",
     "text": [
      "пустых значений в столбце  S20  =  7 ,  в процентах =  2%\n",
      "уникальных значений в столбце  S20  =  5\n",
      "описание столбца: ('studytime, granular', 'no description', 'minus 3, minus 6, minus 9, minus 12')\n"
     ]
    }
   ],
   "source": [
    "col_info('S20')\n",
    "print(\"описание столбца:\", C20)"
   ]
  },
  {
   "cell_type": "raw",
   "metadata": {},
   "source": [
    "тип: количественный, связан с S13 ?"
   ]
  },
  {
   "cell_type": "markdown",
   "metadata": {},
   "source": [
    "#### столбец S21 'higher'"
   ]
  },
  {
   "cell_type": "code",
   "execution_count": 30,
   "metadata": {
    "scrolled": true
   },
   "outputs": [
    {
     "data": {
      "text/html": [
       "<div>\n",
       "<style scoped>\n",
       "    .dataframe tbody tr th:only-of-type {\n",
       "        vertical-align: middle;\n",
       "    }\n",
       "\n",
       "    .dataframe tbody tr th {\n",
       "        vertical-align: top;\n",
       "    }\n",
       "\n",
       "    .dataframe thead th {\n",
       "        text-align: right;\n",
       "    }\n",
       "</style>\n",
       "<table border=\"1\" class=\"dataframe\">\n",
       "  <thead>\n",
       "    <tr style=\"text-align: right;\">\n",
       "      <th></th>\n",
       "      <th>S21</th>\n",
       "    </tr>\n",
       "  </thead>\n",
       "  <tbody>\n",
       "    <tr>\n",
       "      <th>yes</th>\n",
       "      <td>356</td>\n",
       "    </tr>\n",
       "    <tr>\n",
       "      <th>NaN</th>\n",
       "      <td>20</td>\n",
       "    </tr>\n",
       "    <tr>\n",
       "      <th>no</th>\n",
       "      <td>19</td>\n",
       "    </tr>\n",
       "  </tbody>\n",
       "</table>\n",
       "</div>"
      ],
      "text/plain": [
       "     S21\n",
       "yes  356\n",
       "NaN   20\n",
       "no    19"
      ]
     },
     "metadata": {},
     "output_type": "display_data"
    },
    {
     "name": "stdout",
     "output_type": "stream",
     "text": [
      "пустых значений в столбце  S21  =  20 ,  в процентах =  5%\n",
      "уникальных значений в столбце  S21  =  3\n",
      "описание столбца: ('higher', ' хочет получить высшее образование', 'yes, no')\n"
     ]
    }
   ],
   "source": [
    "col_info('S21')\n",
    "print(\"описание столбца:\", C21)"
   ]
  },
  {
   "cell_type": "raw",
   "metadata": {},
   "source": [
    "тип: номинативный бинарный"
   ]
  },
  {
   "cell_type": "markdown",
   "metadata": {},
   "source": [
    "#### столбец S22 'internet'"
   ]
  },
  {
   "cell_type": "code",
   "execution_count": 31,
   "metadata": {
    "scrolled": true
   },
   "outputs": [
    {
     "data": {
      "text/html": [
       "<div>\n",
       "<style scoped>\n",
       "    .dataframe tbody tr th:only-of-type {\n",
       "        vertical-align: middle;\n",
       "    }\n",
       "\n",
       "    .dataframe tbody tr th {\n",
       "        vertical-align: top;\n",
       "    }\n",
       "\n",
       "    .dataframe thead th {\n",
       "        text-align: right;\n",
       "    }\n",
       "</style>\n",
       "<table border=\"1\" class=\"dataframe\">\n",
       "  <thead>\n",
       "    <tr style=\"text-align: right;\">\n",
       "      <th></th>\n",
       "      <th>S23</th>\n",
       "    </tr>\n",
       "  </thead>\n",
       "  <tbody>\n",
       "    <tr>\n",
       "      <th>no</th>\n",
       "      <td>240</td>\n",
       "    </tr>\n",
       "    <tr>\n",
       "      <th>yes</th>\n",
       "      <td>124</td>\n",
       "    </tr>\n",
       "    <tr>\n",
       "      <th>NaN</th>\n",
       "      <td>31</td>\n",
       "    </tr>\n",
       "  </tbody>\n",
       "</table>\n",
       "</div>"
      ],
      "text/plain": [
       "     S23\n",
       "no   240\n",
       "yes  124\n",
       "NaN   31"
      ]
     },
     "metadata": {},
     "output_type": "display_data"
    },
    {
     "name": "stdout",
     "output_type": "stream",
     "text": [
      "пустых значений в столбце  S23  =  31 ,  в процентах =  8%\n",
      "уникальных значений в столбце  S23  =  3\n",
      "описание столбца: ('romantic', 'в романтических отношениях', 'yes, no')\n"
     ]
    }
   ],
   "source": [
    "col_info('S23')\n",
    "print(\"описание столбца:\", C23)"
   ]
  },
  {
   "cell_type": "raw",
   "metadata": {},
   "source": [
    "тип: номинативный бинарный"
   ]
  },
  {
   "cell_type": "markdown",
   "metadata": {},
   "source": [
    "#### столбец S23 'romantic'"
   ]
  },
  {
   "cell_type": "code",
   "execution_count": 32,
   "metadata": {
    "scrolled": true
   },
   "outputs": [
    {
     "data": {
      "text/html": [
       "<div>\n",
       "<style scoped>\n",
       "    .dataframe tbody tr th:only-of-type {\n",
       "        vertical-align: middle;\n",
       "    }\n",
       "\n",
       "    .dataframe tbody tr th {\n",
       "        vertical-align: top;\n",
       "    }\n",
       "\n",
       "    .dataframe thead th {\n",
       "        text-align: right;\n",
       "    }\n",
       "</style>\n",
       "<table border=\"1\" class=\"dataframe\">\n",
       "  <thead>\n",
       "    <tr style=\"text-align: right;\">\n",
       "      <th></th>\n",
       "      <th>S22</th>\n",
       "    </tr>\n",
       "  </thead>\n",
       "  <tbody>\n",
       "    <tr>\n",
       "      <th>yes</th>\n",
       "      <td>305</td>\n",
       "    </tr>\n",
       "    <tr>\n",
       "      <th>no</th>\n",
       "      <td>56</td>\n",
       "    </tr>\n",
       "    <tr>\n",
       "      <th>NaN</th>\n",
       "      <td>34</td>\n",
       "    </tr>\n",
       "  </tbody>\n",
       "</table>\n",
       "</div>"
      ],
      "text/plain": [
       "     S22\n",
       "yes  305\n",
       "no    56\n",
       "NaN   34"
      ]
     },
     "metadata": {},
     "output_type": "display_data"
    },
    {
     "name": "stdout",
     "output_type": "stream",
     "text": [
      "пустых значений в столбце  S22  =  34 ,  в процентах =  9%\n",
      "уникальных значений в столбце  S22  =  3\n",
      "описание столбца: ('internet', 'наличие интернета дома', 'yes, no')\n"
     ]
    }
   ],
   "source": [
    "col_info('S22')\n",
    "print(\"описание столбца:\", C22)"
   ]
  },
  {
   "cell_type": "raw",
   "metadata": {},
   "source": [
    "тип: номинативный бинарный"
   ]
  },
  {
   "cell_type": "markdown",
   "metadata": {},
   "source": [
    "#### столбец S24 'famrel'"
   ]
  },
  {
   "cell_type": "code",
   "execution_count": 33,
   "metadata": {
    "scrolled": true
   },
   "outputs": [
    {
     "data": {
      "text/html": [
       "<div>\n",
       "<style scoped>\n",
       "    .dataframe tbody tr th:only-of-type {\n",
       "        vertical-align: middle;\n",
       "    }\n",
       "\n",
       "    .dataframe tbody tr th {\n",
       "        vertical-align: top;\n",
       "    }\n",
       "\n",
       "    .dataframe thead th {\n",
       "        text-align: right;\n",
       "    }\n",
       "</style>\n",
       "<table border=\"1\" class=\"dataframe\">\n",
       "  <thead>\n",
       "    <tr style=\"text-align: right;\">\n",
       "      <th></th>\n",
       "      <th>S24</th>\n",
       "    </tr>\n",
       "  </thead>\n",
       "  <tbody>\n",
       "    <tr>\n",
       "      <th>4.0</th>\n",
       "      <td>182</td>\n",
       "    </tr>\n",
       "    <tr>\n",
       "      <th>5.0</th>\n",
       "      <td>99</td>\n",
       "    </tr>\n",
       "    <tr>\n",
       "      <th>3.0</th>\n",
       "      <td>62</td>\n",
       "    </tr>\n",
       "    <tr>\n",
       "      <th>NaN</th>\n",
       "      <td>27</td>\n",
       "    </tr>\n",
       "    <tr>\n",
       "      <th>2.0</th>\n",
       "      <td>17</td>\n",
       "    </tr>\n",
       "    <tr>\n",
       "      <th>1.0</th>\n",
       "      <td>7</td>\n",
       "    </tr>\n",
       "    <tr>\n",
       "      <th>-1.0</th>\n",
       "      <td>1</td>\n",
       "    </tr>\n",
       "  </tbody>\n",
       "</table>\n",
       "</div>"
      ],
      "text/plain": [
       "      S24\n",
       " 4.0  182\n",
       " 5.0   99\n",
       " 3.0   62\n",
       " NaN   27\n",
       " 2.0   17\n",
       " 1.0    7\n",
       "-1.0    1"
      ]
     },
     "metadata": {},
     "output_type": "display_data"
    },
    {
     "name": "stdout",
     "output_type": "stream",
     "text": [
      "пустых значений в столбце  S24  =  27 ,  в процентах =  7%\n",
      "уникальных значений в столбце  S24  =  7\n",
      "описание столбца: ('famrel', 'семейные отношения', 'от 1 - плохо до 5 - хорошо')\n"
     ]
    }
   ],
   "source": [
    "col_info('S24')\n",
    "print(\"описание столбца:\", C24)"
   ]
  },
  {
   "cell_type": "raw",
   "metadata": {},
   "source": [
    "одно невозможное значение (минус 1) обнаружено, будет заменено на 1"
   ]
  },
  {
   "cell_type": "code",
   "execution_count": 34,
   "metadata": {},
   "outputs": [],
   "source": [
    "df1.S24 = np.where((df1.S24 == -1), 1, df1.S24) # manual value replace"
   ]
  },
  {
   "cell_type": "raw",
   "metadata": {},
   "source": [
    "тип: количественный"
   ]
  },
  {
   "cell_type": "markdown",
   "metadata": {},
   "source": [
    "#### столбец S25 'freetime'"
   ]
  },
  {
   "cell_type": "code",
   "execution_count": 35,
   "metadata": {
    "scrolled": true
   },
   "outputs": [
    {
     "data": {
      "text/html": [
       "<div>\n",
       "<style scoped>\n",
       "    .dataframe tbody tr th:only-of-type {\n",
       "        vertical-align: middle;\n",
       "    }\n",
       "\n",
       "    .dataframe tbody tr th {\n",
       "        vertical-align: top;\n",
       "    }\n",
       "\n",
       "    .dataframe thead th {\n",
       "        text-align: right;\n",
       "    }\n",
       "</style>\n",
       "<table border=\"1\" class=\"dataframe\">\n",
       "  <thead>\n",
       "    <tr style=\"text-align: right;\">\n",
       "      <th></th>\n",
       "      <th>S25</th>\n",
       "    </tr>\n",
       "  </thead>\n",
       "  <tbody>\n",
       "    <tr>\n",
       "      <th>3.0</th>\n",
       "      <td>153</td>\n",
       "    </tr>\n",
       "    <tr>\n",
       "      <th>4.0</th>\n",
       "      <td>112</td>\n",
       "    </tr>\n",
       "    <tr>\n",
       "      <th>2.0</th>\n",
       "      <td>63</td>\n",
       "    </tr>\n",
       "    <tr>\n",
       "      <th>5.0</th>\n",
       "      <td>38</td>\n",
       "    </tr>\n",
       "    <tr>\n",
       "      <th>1.0</th>\n",
       "      <td>18</td>\n",
       "    </tr>\n",
       "    <tr>\n",
       "      <th>NaN</th>\n",
       "      <td>11</td>\n",
       "    </tr>\n",
       "  </tbody>\n",
       "</table>\n",
       "</div>"
      ],
      "text/plain": [
       "     S25\n",
       "3.0  153\n",
       "4.0  112\n",
       "2.0   63\n",
       "5.0   38\n",
       "1.0   18\n",
       "NaN   11"
      ]
     },
     "metadata": {},
     "output_type": "display_data"
    },
    {
     "name": "stdout",
     "output_type": "stream",
     "text": [
      "пустых значений в столбце  S25  =  11 ,  в процентах =  3%\n",
      "уникальных значений в столбце  S25  =  6\n",
      "описание столбца: ('freetime', 'свободное время после школы', 'от 1 - мало до 5 - много')\n"
     ]
    }
   ],
   "source": [
    "col_info('S25')\n",
    "print(\"описание столбца:\", C25)"
   ]
  },
  {
   "cell_type": "raw",
   "metadata": {},
   "source": [
    "тип: количественный"
   ]
  },
  {
   "cell_type": "markdown",
   "metadata": {},
   "source": [
    "#### столбец S26 'goout'"
   ]
  },
  {
   "cell_type": "code",
   "execution_count": 36,
   "metadata": {
    "scrolled": false
   },
   "outputs": [
    {
     "data": {
      "text/html": [
       "<div>\n",
       "<style scoped>\n",
       "    .dataframe tbody tr th:only-of-type {\n",
       "        vertical-align: middle;\n",
       "    }\n",
       "\n",
       "    .dataframe tbody tr th {\n",
       "        vertical-align: top;\n",
       "    }\n",
       "\n",
       "    .dataframe thead th {\n",
       "        text-align: right;\n",
       "    }\n",
       "</style>\n",
       "<table border=\"1\" class=\"dataframe\">\n",
       "  <thead>\n",
       "    <tr style=\"text-align: right;\">\n",
       "      <th></th>\n",
       "      <th>S26</th>\n",
       "    </tr>\n",
       "  </thead>\n",
       "  <tbody>\n",
       "    <tr>\n",
       "      <th>3.0</th>\n",
       "      <td>127</td>\n",
       "    </tr>\n",
       "    <tr>\n",
       "      <th>2.0</th>\n",
       "      <td>101</td>\n",
       "    </tr>\n",
       "    <tr>\n",
       "      <th>4.0</th>\n",
       "      <td>84</td>\n",
       "    </tr>\n",
       "    <tr>\n",
       "      <th>5.0</th>\n",
       "      <td>52</td>\n",
       "    </tr>\n",
       "    <tr>\n",
       "      <th>1.0</th>\n",
       "      <td>23</td>\n",
       "    </tr>\n",
       "    <tr>\n",
       "      <th>NaN</th>\n",
       "      <td>8</td>\n",
       "    </tr>\n",
       "  </tbody>\n",
       "</table>\n",
       "</div>"
      ],
      "text/plain": [
       "     S26\n",
       "3.0  127\n",
       "2.0  101\n",
       "4.0   84\n",
       "5.0   52\n",
       "1.0   23\n",
       "NaN    8"
      ]
     },
     "metadata": {},
     "output_type": "display_data"
    },
    {
     "name": "stdout",
     "output_type": "stream",
     "text": [
      "пустых значений в столбце  S26  =  8 ,  в процентах =  2%\n",
      "уникальных значений в столбце  S26  =  6\n",
      "описание столбца: ('goout', 'проведение времени с друзьями', 'от 1 - мало до 5 - много')\n"
     ]
    }
   ],
   "source": [
    "col_info('S26')\n",
    "print(\"описание столбца:\", C26)"
   ]
  },
  {
   "cell_type": "raw",
   "metadata": {},
   "source": [
    "тип: количественный"
   ]
  },
  {
   "cell_type": "markdown",
   "metadata": {},
   "source": [
    "#### столбец S27 'health'"
   ]
  },
  {
   "cell_type": "code",
   "execution_count": 37,
   "metadata": {
    "scrolled": false
   },
   "outputs": [
    {
     "data": {
      "text/html": [
       "<div>\n",
       "<style scoped>\n",
       "    .dataframe tbody tr th:only-of-type {\n",
       "        vertical-align: middle;\n",
       "    }\n",
       "\n",
       "    .dataframe tbody tr th {\n",
       "        vertical-align: top;\n",
       "    }\n",
       "\n",
       "    .dataframe thead th {\n",
       "        text-align: right;\n",
       "    }\n",
       "</style>\n",
       "<table border=\"1\" class=\"dataframe\">\n",
       "  <thead>\n",
       "    <tr style=\"text-align: right;\">\n",
       "      <th></th>\n",
       "      <th>S27</th>\n",
       "    </tr>\n",
       "  </thead>\n",
       "  <tbody>\n",
       "    <tr>\n",
       "      <th>5.0</th>\n",
       "      <td>138</td>\n",
       "    </tr>\n",
       "    <tr>\n",
       "      <th>3.0</th>\n",
       "      <td>89</td>\n",
       "    </tr>\n",
       "    <tr>\n",
       "      <th>4.0</th>\n",
       "      <td>63</td>\n",
       "    </tr>\n",
       "    <tr>\n",
       "      <th>1.0</th>\n",
       "      <td>47</td>\n",
       "    </tr>\n",
       "    <tr>\n",
       "      <th>2.0</th>\n",
       "      <td>43</td>\n",
       "    </tr>\n",
       "    <tr>\n",
       "      <th>NaN</th>\n",
       "      <td>15</td>\n",
       "    </tr>\n",
       "  </tbody>\n",
       "</table>\n",
       "</div>"
      ],
      "text/plain": [
       "     S27\n",
       "5.0  138\n",
       "3.0   89\n",
       "4.0   63\n",
       "1.0   47\n",
       "2.0   43\n",
       "NaN   15"
      ]
     },
     "metadata": {},
     "output_type": "display_data"
    },
    {
     "name": "stdout",
     "output_type": "stream",
     "text": [
      "пустых значений в столбце  S27  =  15 ,  в процентах =  4%\n",
      "уникальных значений в столбце  S27  =  6\n",
      "описание столбца: ('health', 'состояние здоровья', 'от 1 - плохо до 5 - хорошо')\n"
     ]
    }
   ],
   "source": [
    "col_info('S27')\n",
    "print(\"описание столбца:\", C27)"
   ]
  },
  {
   "cell_type": "raw",
   "metadata": {},
   "source": [
    "тип: количественный"
   ]
  },
  {
   "cell_type": "markdown",
   "metadata": {},
   "source": [
    "#### столбец S28 'absences'"
   ]
  },
  {
   "cell_type": "code",
   "execution_count": 38,
   "metadata": {
    "scrolled": false
   },
   "outputs": [
    {
     "data": {
      "text/html": [
       "<div>\n",
       "<style scoped>\n",
       "    .dataframe tbody tr th:only-of-type {\n",
       "        vertical-align: middle;\n",
       "    }\n",
       "\n",
       "    .dataframe tbody tr th {\n",
       "        vertical-align: top;\n",
       "    }\n",
       "\n",
       "    .dataframe thead th {\n",
       "        text-align: right;\n",
       "    }\n",
       "</style>\n",
       "<table border=\"1\" class=\"dataframe\">\n",
       "  <thead>\n",
       "    <tr style=\"text-align: right;\">\n",
       "      <th></th>\n",
       "      <th>S28</th>\n",
       "    </tr>\n",
       "  </thead>\n",
       "  <tbody>\n",
       "    <tr>\n",
       "      <th>0.0</th>\n",
       "      <td>111</td>\n",
       "    </tr>\n",
       "    <tr>\n",
       "      <th>2.0</th>\n",
       "      <td>60</td>\n",
       "    </tr>\n",
       "    <tr>\n",
       "      <th>4.0</th>\n",
       "      <td>53</td>\n",
       "    </tr>\n",
       "    <tr>\n",
       "      <th>6.0</th>\n",
       "      <td>31</td>\n",
       "    </tr>\n",
       "    <tr>\n",
       "      <th>8.0</th>\n",
       "      <td>21</td>\n",
       "    </tr>\n",
       "    <tr>\n",
       "      <th>10.0</th>\n",
       "      <td>17</td>\n",
       "    </tr>\n",
       "    <tr>\n",
       "      <th>12.0</th>\n",
       "      <td>12</td>\n",
       "    </tr>\n",
       "    <tr>\n",
       "      <th>NaN</th>\n",
       "      <td>12</td>\n",
       "    </tr>\n",
       "    <tr>\n",
       "      <th>14.0</th>\n",
       "      <td>12</td>\n",
       "    </tr>\n",
       "    <tr>\n",
       "      <th>3.0</th>\n",
       "      <td>8</td>\n",
       "    </tr>\n",
       "    <tr>\n",
       "      <th>16.0</th>\n",
       "      <td>7</td>\n",
       "    </tr>\n",
       "    <tr>\n",
       "      <th>7.0</th>\n",
       "      <td>6</td>\n",
       "    </tr>\n",
       "    <tr>\n",
       "      <th>5.0</th>\n",
       "      <td>5</td>\n",
       "    </tr>\n",
       "    <tr>\n",
       "      <th>18.0</th>\n",
       "      <td>5</td>\n",
       "    </tr>\n",
       "    <tr>\n",
       "      <th>20.0</th>\n",
       "      <td>4</td>\n",
       "    </tr>\n",
       "    <tr>\n",
       "      <th>1.0</th>\n",
       "      <td>3</td>\n",
       "    </tr>\n",
       "    <tr>\n",
       "      <th>22.0</th>\n",
       "      <td>3</td>\n",
       "    </tr>\n",
       "    <tr>\n",
       "      <th>9.0</th>\n",
       "      <td>3</td>\n",
       "    </tr>\n",
       "    <tr>\n",
       "      <th>13.0</th>\n",
       "      <td>2</td>\n",
       "    </tr>\n",
       "    <tr>\n",
       "      <th>15.0</th>\n",
       "      <td>2</td>\n",
       "    </tr>\n",
       "    <tr>\n",
       "      <th>11.0</th>\n",
       "      <td>2</td>\n",
       "    </tr>\n",
       "    <tr>\n",
       "      <th>25.0</th>\n",
       "      <td>1</td>\n",
       "    </tr>\n",
       "    <tr>\n",
       "      <th>54.0</th>\n",
       "      <td>1</td>\n",
       "    </tr>\n",
       "    <tr>\n",
       "      <th>385.0</th>\n",
       "      <td>1</td>\n",
       "    </tr>\n",
       "    <tr>\n",
       "      <th>26.0</th>\n",
       "      <td>1</td>\n",
       "    </tr>\n",
       "    <tr>\n",
       "      <th>56.0</th>\n",
       "      <td>1</td>\n",
       "    </tr>\n",
       "    <tr>\n",
       "      <th>24.0</th>\n",
       "      <td>1</td>\n",
       "    </tr>\n",
       "    <tr>\n",
       "      <th>212.0</th>\n",
       "      <td>1</td>\n",
       "    </tr>\n",
       "    <tr>\n",
       "      <th>21.0</th>\n",
       "      <td>1</td>\n",
       "    </tr>\n",
       "    <tr>\n",
       "      <th>75.0</th>\n",
       "      <td>1</td>\n",
       "    </tr>\n",
       "    <tr>\n",
       "      <th>30.0</th>\n",
       "      <td>1</td>\n",
       "    </tr>\n",
       "    <tr>\n",
       "      <th>19.0</th>\n",
       "      <td>1</td>\n",
       "    </tr>\n",
       "    <tr>\n",
       "      <th>38.0</th>\n",
       "      <td>1</td>\n",
       "    </tr>\n",
       "    <tr>\n",
       "      <th>40.0</th>\n",
       "      <td>1</td>\n",
       "    </tr>\n",
       "    <tr>\n",
       "      <th>23.0</th>\n",
       "      <td>1</td>\n",
       "    </tr>\n",
       "    <tr>\n",
       "      <th>17.0</th>\n",
       "      <td>1</td>\n",
       "    </tr>\n",
       "    <tr>\n",
       "      <th>28.0</th>\n",
       "      <td>1</td>\n",
       "    </tr>\n",
       "  </tbody>\n",
       "</table>\n",
       "</div>"
      ],
      "text/plain": [
       "       S28\n",
       "0.0    111\n",
       "2.0     60\n",
       "4.0     53\n",
       "6.0     31\n",
       "8.0     21\n",
       "10.0    17\n",
       "12.0    12\n",
       "NaN     12\n",
       "14.0    12\n",
       "3.0      8\n",
       "16.0     7\n",
       "7.0      6\n",
       "5.0      5\n",
       "18.0     5\n",
       "20.0     4\n",
       "1.0      3\n",
       "22.0     3\n",
       "9.0      3\n",
       "13.0     2\n",
       "15.0     2\n",
       "11.0     2\n",
       "25.0     1\n",
       "54.0     1\n",
       "385.0    1\n",
       "26.0     1\n",
       "56.0     1\n",
       "24.0     1\n",
       "212.0    1\n",
       "21.0     1\n",
       "75.0     1\n",
       "30.0     1\n",
       "19.0     1\n",
       "38.0     1\n",
       "40.0     1\n",
       "23.0     1\n",
       "17.0     1\n",
       "28.0     1"
      ]
     },
     "metadata": {},
     "output_type": "display_data"
    },
    {
     "name": "stdout",
     "output_type": "stream",
     "text": [
      "пустых значений в столбце  S28  =  12 ,  в процентах =  3%\n",
      "уникальных значений в столбце  S28  =  37\n",
      "описание столбца: ('absences', 'количество пропущенных занятий', 'number')\n"
     ]
    }
   ],
   "source": [
    "col_info('S28')\n",
    "print(\"описание столбца:\", C28)"
   ]
  },
  {
   "cell_type": "raw",
   "metadata": {},
   "source": [
    "тип: количественный"
   ]
  },
  {
   "cell_type": "markdown",
   "metadata": {},
   "source": [
    "#### столбец S29  - ЦЕЛЕВОЕ ЗНАЧЕНИЕ ('score',  float64)"
   ]
  },
  {
   "cell_type": "code",
   "execution_count": 39,
   "metadata": {},
   "outputs": [
    {
     "data": {
      "text/html": [
       "<div>\n",
       "<style scoped>\n",
       "    .dataframe tbody tr th:only-of-type {\n",
       "        vertical-align: middle;\n",
       "    }\n",
       "\n",
       "    .dataframe tbody tr th {\n",
       "        vertical-align: top;\n",
       "    }\n",
       "\n",
       "    .dataframe thead th {\n",
       "        text-align: right;\n",
       "    }\n",
       "</style>\n",
       "<table border=\"1\" class=\"dataframe\">\n",
       "  <thead>\n",
       "    <tr style=\"text-align: right;\">\n",
       "      <th></th>\n",
       "      <th>S29</th>\n",
       "    </tr>\n",
       "  </thead>\n",
       "  <tbody>\n",
       "    <tr>\n",
       "      <th>50.0</th>\n",
       "      <td>54</td>\n",
       "    </tr>\n",
       "    <tr>\n",
       "      <th>55.0</th>\n",
       "      <td>46</td>\n",
       "    </tr>\n",
       "    <tr>\n",
       "      <th>0.0</th>\n",
       "      <td>37</td>\n",
       "    </tr>\n",
       "    <tr>\n",
       "      <th>75.0</th>\n",
       "      <td>33</td>\n",
       "    </tr>\n",
       "    <tr>\n",
       "      <th>65.0</th>\n",
       "      <td>31</td>\n",
       "    </tr>\n",
       "    <tr>\n",
       "      <th>40.0</th>\n",
       "      <td>31</td>\n",
       "    </tr>\n",
       "    <tr>\n",
       "      <th>60.0</th>\n",
       "      <td>31</td>\n",
       "    </tr>\n",
       "    <tr>\n",
       "      <th>45.0</th>\n",
       "      <td>27</td>\n",
       "    </tr>\n",
       "    <tr>\n",
       "      <th>70.0</th>\n",
       "      <td>27</td>\n",
       "    </tr>\n",
       "    <tr>\n",
       "      <th>80.0</th>\n",
       "      <td>16</td>\n",
       "    </tr>\n",
       "    <tr>\n",
       "      <th>30.0</th>\n",
       "      <td>15</td>\n",
       "    </tr>\n",
       "    <tr>\n",
       "      <th>90.0</th>\n",
       "      <td>12</td>\n",
       "    </tr>\n",
       "    <tr>\n",
       "      <th>35.0</th>\n",
       "      <td>9</td>\n",
       "    </tr>\n",
       "    <tr>\n",
       "      <th>25.0</th>\n",
       "      <td>7</td>\n",
       "    </tr>\n",
       "    <tr>\n",
       "      <th>NaN</th>\n",
       "      <td>6</td>\n",
       "    </tr>\n",
       "    <tr>\n",
       "      <th>85.0</th>\n",
       "      <td>6</td>\n",
       "    </tr>\n",
       "    <tr>\n",
       "      <th>95.0</th>\n",
       "      <td>5</td>\n",
       "    </tr>\n",
       "    <tr>\n",
       "      <th>100.0</th>\n",
       "      <td>1</td>\n",
       "    </tr>\n",
       "    <tr>\n",
       "      <th>20.0</th>\n",
       "      <td>1</td>\n",
       "    </tr>\n",
       "  </tbody>\n",
       "</table>\n",
       "</div>"
      ],
      "text/plain": [
       "       S29\n",
       "50.0    54\n",
       "55.0    46\n",
       "0.0     37\n",
       "75.0    33\n",
       "65.0    31\n",
       "40.0    31\n",
       "60.0    31\n",
       "45.0    27\n",
       "70.0    27\n",
       "80.0    16\n",
       "30.0    15\n",
       "90.0    12\n",
       "35.0     9\n",
       "25.0     7\n",
       "NaN      6\n",
       "85.0     6\n",
       "95.0     5\n",
       "100.0    1\n",
       "20.0     1"
      ]
     },
     "metadata": {},
     "output_type": "display_data"
    },
    {
     "name": "stdout",
     "output_type": "stream",
     "text": [
      "пустых значений в столбце  S29  =  6 ,  в процентах =  2%\n",
      "уникальных значений в столбце  S29  =  19\n",
      "описание столбца: ('score', 'баллы по экзамену', 'number from 0 to 100')\n"
     ]
    }
   ],
   "source": [
    "col_info('S29')\n",
    "print(\"описание столбца:\", C29)"
   ]
  },
  {
   "cell_type": "raw",
   "metadata": {},
   "source": [
    "6 рядов содержат пустые значения, их надо удалить из целевого столбца"
   ]
  },
  {
   "cell_type": "code",
   "execution_count": 40,
   "metadata": {},
   "outputs": [],
   "source": [
    "df1 = df1[df1.S29.notna()]  # 6 NaN rows removed"
   ]
  },
  {
   "cell_type": "raw",
   "metadata": {},
   "source": [
    "тип: количественный"
   ]
  },
  {
   "cell_type": "markdown",
   "metadata": {},
   "source": [
    "### 03. список типов данных в столбцах"
   ]
  },
  {
   "cell_type": "raw",
   "metadata": {},
   "source": [
    "количественные:\n",
    "S29 = целевой показатель = 'score', 'баллы по экзамену', 'integer from 0 to 100'\n",
    "S02 = возраст = 'age', 'student age', '16 - 21 years'\n",
    "S06 = образование матери = 'Medu', '0 нет, 1 4кл., 2 5-9кл, 3 спец или 11кл, 4 высшее'\n",
    "S07 = образование отца = 'Fedu', '0 нет, 1 4кл., 2 5-9кл, 3 спец или 11кл, 4 высшее'\n",
    "S12 = время в пути = 'traveltime', 'до школы', '1 <15мин, 2 15-30мин, 3 30-60мин, 4 >60мин'\n",
    "S13 = время на учёбу = 'studytime', 'помимо школы в неделю', '1 <2ч, 2 2-5ч, 3 5-10ч, 4 >10ч'\n",
    "S14 = неудачи = 'failures', 'количество внеучебных неудач', 'n, если 1<=n<=3, иначе 0'\n",
    "S20 = секрет = 'studytime, granular', 'no description', 'minus 3, minus 6, minus 9, minus 12'\n",
    "S24 = семья = 'famrel', 'семейные отношения', 'от 1 - плохо до 5 - хорошо'\n",
    "S25 = своб. время = 'freetime', 'свободное время после школы', 'от 1 - мало до 5 - много'\n",
    "S26 = друзья = 'goout', 'проведение времени с друзьями', 'от 1 - мало до 5 - много'\n",
    "S27 = 'health', 'состояние здоровья', 'от 1 - плохо до 5 - хорошо'\n",
    "S28 = прогулы = 'absences', 'количество пропущенных занятий', 'number'\n",
    "\n",
    "номинативные бинарные (Yes/No):\n",
    "S00 = тип школы = 'school', 'school type', 'GP or MS'\n",
    "S01 = пол ='sex', 'student gender', 'F or M'\n",
    "S03 = тип адреса = 'address', 'urban or not', 'U or R'\n",
    "S04 = большая семья = 'famsize', 'family size размер семьи', 'LE3 <= 3 or GT3 > 3'\n",
    "S05 = неполная семья = 'Pstatus', 'родители живут вместе или нет', 'T-together or A-not'\n",
    "S15 = доп.обр. = 'schoolsup', 'дополнительная образовательная поддержка', 'yes, no'\n",
    "S16 = поддержка семьи = 'famsup', ' семейная образовательная поддержка', 'yes, no'\n",
    "S17 = плат. занятия = 'paid', 'доп. платные занятия', 'yes, no'\n",
    "S18 = доп. уроки = 'activities', 'доп. внеучебные занятия', 'yes, no'\n",
    "S19 = дет. сад = 'nursery', 'посещал детский сад', 'yes, no'\n",
    "S21 = хочет = 'higher', 'хочет получить высшее образование', 'yes, no'\n",
    "S22 = интернет = 'internet', 'наличие интернета дома', 'yes, no'\n",
    "S23 = романтик = 'romantic', 'в романтических отношениях', 'yes, no'\n",
    "\n",
    "номинативные не бинарные:\n",
    "S08 = работа матери = 'Mjob', 'mother job', 'teacher, health, services, at_home, other'\n",
    "S09 = работа отца = 'Fjob', 'father job', 'teacher, health, services, at_home, other'\n",
    "S10 = выбор школы = 'reason', 'home близость к дому, reputation, course тип программы, other'\n",
    "S11 = кто опекун = 'guardian', 'mother, father, other'"
   ]
  },
  {
   "cell_type": "markdown",
   "metadata": {},
   "source": [
    "### 04. анализ и подготовка  данных в количественных столбцах"
   ]
  },
  {
   "cell_type": "markdown",
   "metadata": {},
   "source": [
    "####  столбец S29  - ЦЕЛЕВОЕ ЗНАЧЕНИЕ ('score')"
   ]
  },
  {
   "cell_type": "code",
   "execution_count": 41,
   "metadata": {},
   "outputs": [
    {
     "data": {
      "text/plain": [
       "<AxesSubplot:xlabel='S29', ylabel='Count'>"
      ]
     },
     "execution_count": 41,
     "metadata": {},
     "output_type": "execute_result"
    },
    {
     "data": {
      "image/png": "[encoded data removed]",
      "text/plain": [
       "<Figure size 432x288 with 1 Axes>"
      ]
     },
     "metadata": {
      "needs_background": "light"
     },
     "output_type": "display_data"
    }
   ],
   "source": [
    "sns.histplot(data=df1.S29, bins=50,)"
   ]
  },
  {
   "cell_type": "code",
   "execution_count": 42,
   "metadata": {},
   "outputs": [
    {
     "data": {
      "text/plain": [
       "<seaborn.axisgrid.FacetGrid at 0x12eeeb35550>"
      ]
     },
     "execution_count": 42,
     "metadata": {},
     "output_type": "execute_result"
    },
    {
     "data": {
      "image/png": "[encoded data removed]",
      "text/plain": [
       "<Figure size 360x360 with 1 Axes>"
      ]
     },
     "metadata": {
      "needs_background": "light"
     },
     "output_type": "display_data"
    }
   ],
   "source": [
    "sns.displot(df1, x=\"S29\", kind=\"hist\")"
   ]
  },
  {
   "cell_type": "code",
   "execution_count": 43,
   "metadata": {},
   "outputs": [
    {
     "data": {
      "text/plain": [
       "<seaborn.axisgrid.FacetGrid at 0x12eeef56ac0>"
      ]
     },
     "execution_count": 43,
     "metadata": {},
     "output_type": "execute_result"
    },
    {
     "data": {
      "image/png": "[encoded data removed]",
      "text/plain": [
       "<Figure size 360x360 with 1 Axes>"
      ]
     },
     "metadata": {
      "needs_background": "light"
     },
     "output_type": "display_data"
    }
   ],
   "source": [
    "sns.displot(df1, x=\"S29\", kind=\"kde\", bw_adjust=.4)"
   ]
  },
  {
   "cell_type": "raw",
   "metadata": {},
   "source": [
    "Распределение целевого параметра близко к нормальному \n",
    "и есть небольшая часть где результаты экзамены нулевые. \n",
    "Видимо эти выбросы являются ошибками ввода - удалим их из базы"
   ]
  },
  {
   "cell_type": "code",
   "execution_count": 44,
   "metadata": {},
   "outputs": [
    {
     "name": "stdout",
     "output_type": "stream",
     "text": [
      "25-й перцентиль: 40.0, 75-й перцентиль: 70.0, IQR: 30.0,  Границы выбросов: [-5.0, 115.0].\n"
     ]
    }
   ],
   "source": [
    "IQR = df1.S29.quantile(0.75) - df1.S29.quantile(0.25)\n",
    "perc25 = df1.S29.quantile(0.25)\n",
    "perc75 = df1.S29.quantile(0.75)\n",
    " \n",
    "print(\n",
    "'25-й перцентиль: {},'.format(perc25),\n",
    "'75-й перцентиль: {},'.format(perc75),\n",
    "\"IQR: {}, \".format(IQR),\n",
    "\"Границы выбросов: [{f}, {l}].\".format(f=perc25 - 1.5*IQR, l=perc75 + 1.5*IQR))"
   ]
  },
  {
   "cell_type": "code",
   "execution_count": 45,
   "metadata": {},
   "outputs": [],
   "source": [
    "df2 = df1.loc[df1.S29.between(10, 101)]  # df2 = где значения S29 меньше 10 удалены"
   ]
  },
  {
   "cell_type": "markdown",
   "metadata": {},
   "source": [
    "####  столбец S02  'age'"
   ]
  },
  {
   "cell_type": "code",
   "execution_count": 46,
   "metadata": {
    "scrolled": true
   },
   "outputs": [
    {
     "data": {
      "text/plain": [
       "<seaborn.axisgrid.FacetGrid at 0x12eef004730>"
      ]
     },
     "execution_count": 46,
     "metadata": {},
     "output_type": "execute_result"
    },
    {
     "data": {
      "image/png": "[encoded data removed]",
      "text/plain": [
       "<Figure size 360x360 with 1 Axes>"
      ]
     },
     "metadata": {
      "needs_background": "light"
     },
     "output_type": "display_data"
    }
   ],
   "source": [
    "sns.displot(df2, x=\"S02\", kind=\"hist\")"
   ]
  },
  {
   "cell_type": "raw",
   "metadata": {},
   "source": [
    "аномалий нет, выбросов нет, корректировки не требуется"
   ]
  },
  {
   "cell_type": "markdown",
   "metadata": {},
   "source": [
    "####  столбец S06  'Medu'"
   ]
  },
  {
   "cell_type": "code",
   "execution_count": 47,
   "metadata": {},
   "outputs": [
    {
     "data": {
      "text/plain": [
       "<seaborn.axisgrid.FacetGrid at 0x12eeefa8940>"
      ]
     },
     "execution_count": 47,
     "metadata": {},
     "output_type": "execute_result"
    },
    {
     "data": {
      "image/png": "[encoded data removed]",
      "text/plain": [
       "<Figure size 360x360 with 1 Axes>"
      ]
     },
     "metadata": {
      "needs_background": "light"
     },
     "output_type": "display_data"
    }
   ],
   "source": [
    "sns.displot(df2, x=\"S06\", kind=\"hist\")"
   ]
  },
  {
   "cell_type": "code",
   "execution_count": 48,
   "metadata": {},
   "outputs": [
    {
     "data": {
      "text/html": [
       "<div>\n",
       "<style scoped>\n",
       "    .dataframe tbody tr th:only-of-type {\n",
       "        vertical-align: middle;\n",
       "    }\n",
       "\n",
       "    .dataframe tbody tr th {\n",
       "        vertical-align: top;\n",
       "    }\n",
       "\n",
       "    .dataframe thead th {\n",
       "        text-align: right;\n",
       "    }\n",
       "</style>\n",
       "<table border=\"1\" class=\"dataframe\">\n",
       "  <thead>\n",
       "    <tr style=\"text-align: right;\">\n",
       "      <th></th>\n",
       "      <th>S06</th>\n",
       "    </tr>\n",
       "  </thead>\n",
       "  <tbody>\n",
       "    <tr>\n",
       "      <th>4.0</th>\n",
       "      <td>131</td>\n",
       "    </tr>\n",
       "    <tr>\n",
       "      <th>2.0</th>\n",
       "      <td>100</td>\n",
       "    </tr>\n",
       "    <tr>\n",
       "      <th>3.0</th>\n",
       "      <td>96</td>\n",
       "    </tr>\n",
       "    <tr>\n",
       "      <th>1.0</th>\n",
       "      <td>56</td>\n",
       "    </tr>\n",
       "    <tr>\n",
       "      <th>0.0</th>\n",
       "      <td>3</td>\n",
       "    </tr>\n",
       "    <tr>\n",
       "      <th>NaN</th>\n",
       "      <td>3</td>\n",
       "    </tr>\n",
       "  </tbody>\n",
       "</table>\n",
       "</div>"
      ],
      "text/plain": [
       "     S06\n",
       "4.0  131\n",
       "2.0  100\n",
       "3.0   96\n",
       "1.0   56\n",
       "0.0    3\n",
       "NaN    3"
      ]
     },
     "metadata": {},
     "output_type": "display_data"
    },
    {
     "name": "stdout",
     "output_type": "stream",
     "text": [
      "пустых значений в столбце  S06  =  3 ,  в процентах =  1%\n",
      "уникальных значений в столбце  S06  =  6\n"
     ]
    }
   ],
   "source": [
    "col_info('S06')"
   ]
  },
  {
   "cell_type": "raw",
   "metadata": {},
   "source": [
    "метод pandas.DataFrame.corr для последующей оценки корреляции работает и при наличии NA/null значений, \n",
    "поэтому их можно не исключать на данном этапе"
   ]
  },
  {
   "cell_type": "raw",
   "metadata": {},
   "source": [
    "аномалий нет, выбросов нет, корректировки не требуется"
   ]
  },
  {
   "cell_type": "markdown",
   "metadata": {},
   "source": [
    "####  столбец S07  'Fedu'"
   ]
  },
  {
   "cell_type": "code",
   "execution_count": 49,
   "metadata": {},
   "outputs": [
    {
     "data": {
      "text/plain": [
       "<seaborn.axisgrid.FacetGrid at 0x12eef04a970>"
      ]
     },
     "execution_count": 49,
     "metadata": {},
     "output_type": "execute_result"
    },
    {
     "data": {
      "image/png": "[encoded data removed]",
      "text/plain": [
       "<Figure size 360x360 with 1 Axes>"
      ]
     },
     "metadata": {
      "needs_background": "light"
     },
     "output_type": "display_data"
    }
   ],
   "source": [
    "sns.displot(df2, x=\"S07\", kind=\"hist\")"
   ]
  },
  {
   "cell_type": "raw",
   "metadata": {},
   "source": [
    "аномалий нет, выбросов нет, корректировки не требуется"
   ]
  },
  {
   "cell_type": "markdown",
   "metadata": {},
   "source": [
    "####  столбец S12  'traveltime'"
   ]
  },
  {
   "cell_type": "code",
   "execution_count": 50,
   "metadata": {
    "scrolled": true
   },
   "outputs": [
    {
     "data": {
      "text/plain": [
       "<seaborn.axisgrid.FacetGrid at 0x12ef0143fa0>"
      ]
     },
     "execution_count": 50,
     "metadata": {},
     "output_type": "execute_result"
    },
    {
     "data": {
      "image/png": "[encoded data removed]",
      "text/plain": [
       "<Figure size 360x360 with 1 Axes>"
      ]
     },
     "metadata": {
      "needs_background": "light"
     },
     "output_type": "display_data"
    }
   ],
   "source": [
    "sns.displot(df2, x=\"S12\", kind=\"hist\")"
   ]
  },
  {
   "cell_type": "raw",
   "metadata": {},
   "source": [
    "аномалий нет, выбросов нет, корректировки не требуется"
   ]
  },
  {
   "cell_type": "markdown",
   "metadata": {},
   "source": [
    "####  столбец S13  'studytime'"
   ]
  },
  {
   "cell_type": "code",
   "execution_count": 51,
   "metadata": {},
   "outputs": [
    {
     "data": {
      "text/plain": [
       "<seaborn.axisgrid.FacetGrid at 0x12eef0db130>"
      ]
     },
     "execution_count": 51,
     "metadata": {},
     "output_type": "execute_result"
    },
    {
     "data": {
      "image/png": "[encoded data removed]",
      "text/plain": [
       "<Figure size 360x360 with 1 Axes>"
      ]
     },
     "metadata": {
      "needs_background": "light"
     },
     "output_type": "display_data"
    }
   ],
   "source": [
    "sns.displot(df2, x=\"S13\", kind=\"hist\")"
   ]
  },
  {
   "cell_type": "raw",
   "metadata": {},
   "source": [
    "аномалий нет, выбросов нет, корректировки не требуется"
   ]
  },
  {
   "cell_type": "markdown",
   "metadata": {},
   "source": [
    "####  столбец S14  'failures'"
   ]
  },
  {
   "cell_type": "code",
   "execution_count": 52,
   "metadata": {
    "scrolled": true
   },
   "outputs": [
    {
     "data": {
      "text/plain": [
       "<seaborn.axisgrid.FacetGrid at 0x12ef01eb3d0>"
      ]
     },
     "execution_count": 52,
     "metadata": {},
     "output_type": "execute_result"
    },
    {
     "data": {
      "image/png": "[encoded data removed]",
      "text/plain": [
       "<Figure size 360x360 with 1 Axes>"
      ]
     },
     "metadata": {
      "needs_background": "light"
     },
     "output_type": "display_data"
    }
   ],
   "source": [
    "sns.displot(df2, x=\"S14\", kind=\"hist\")"
   ]
  },
  {
   "cell_type": "raw",
   "metadata": {},
   "source": [
    "аномалий нет, выбросов нет, корректировки не требуется"
   ]
  },
  {
   "cell_type": "markdown",
   "metadata": {},
   "source": [
    "####  столбец S20  'studytime granular'"
   ]
  },
  {
   "cell_type": "code",
   "execution_count": 53,
   "metadata": {
    "scrolled": true
   },
   "outputs": [
    {
     "data": {
      "text/plain": [
       "<seaborn.axisgrid.FacetGrid at 0x12ef026e700>"
      ]
     },
     "execution_count": 53,
     "metadata": {},
     "output_type": "execute_result"
    },
    {
     "data": {
      "image/png": "[encoded data removed]",
      "text/plain": [
       "<Figure size 360x360 with 1 Axes>"
      ]
     },
     "metadata": {
      "needs_background": "light"
     },
     "output_type": "display_data"
    }
   ],
   "source": [
    "sns.displot(df2, x=\"S20\", kind=\"hist\")"
   ]
  },
  {
   "cell_type": "raw",
   "metadata": {},
   "source": [
    "аномалий нет, выбросов нет, корректировки не требуется"
   ]
  },
  {
   "cell_type": "markdown",
   "metadata": {},
   "source": [
    "####  столбец S24  'famrel'"
   ]
  },
  {
   "cell_type": "code",
   "execution_count": 54,
   "metadata": {
    "scrolled": true
   },
   "outputs": [
    {
     "data": {
      "text/plain": [
       "<seaborn.axisgrid.FacetGrid at 0x12ef02ee3d0>"
      ]
     },
     "execution_count": 54,
     "metadata": {},
     "output_type": "execute_result"
    },
    {
     "data": {
      "image/png": "[encoded data removed]",
      "text/plain": [
       "<Figure size 360x360 with 1 Axes>"
      ]
     },
     "metadata": {
      "needs_background": "light"
     },
     "output_type": "display_data"
    }
   ],
   "source": [
    "sns.displot(df2, x=\"S24\", kind=\"hist\")"
   ]
  },
  {
   "cell_type": "raw",
   "metadata": {},
   "source": [
    "аномалий нет, выбросов нет, корректировки не требуется"
   ]
  },
  {
   "cell_type": "markdown",
   "metadata": {},
   "source": [
    "####  столбец S25  'goout'"
   ]
  },
  {
   "cell_type": "code",
   "execution_count": 55,
   "metadata": {
    "scrolled": true
   },
   "outputs": [
    {
     "data": {
      "text/plain": [
       "<seaborn.axisgrid.FacetGrid at 0x12ef03abf40>"
      ]
     },
     "execution_count": 55,
     "metadata": {},
     "output_type": "execute_result"
    },
    {
     "data": {
      "image/png": "[encoded data removed]",
      "text/plain": [
       "<Figure size 360x360 with 1 Axes>"
      ]
     },
     "metadata": {
      "needs_background": "light"
     },
     "output_type": "display_data"
    }
   ],
   "source": [
    "sns.displot(df2, x=\"S25\", kind=\"hist\")"
   ]
  },
  {
   "cell_type": "raw",
   "metadata": {},
   "source": [
    "аномалий нет, выбросов нет, корректировки не требуется"
   ]
  },
  {
   "cell_type": "markdown",
   "metadata": {},
   "source": [
    "#### столбец S27 'health'"
   ]
  },
  {
   "cell_type": "code",
   "execution_count": 56,
   "metadata": {},
   "outputs": [
    {
     "data": {
      "text/plain": [
       "<seaborn.axisgrid.FacetGrid at 0x12ef038c7f0>"
      ]
     },
     "execution_count": 56,
     "metadata": {},
     "output_type": "execute_result"
    },
    {
     "data": {
      "image/png": "[encoded data removed]",
      "text/plain": [
       "<Figure size 360x360 with 1 Axes>"
      ]
     },
     "metadata": {
      "needs_background": "light"
     },
     "output_type": "display_data"
    }
   ],
   "source": [
    "sns.displot(df2, x=\"S27\", kind=\"hist\")"
   ]
  },
  {
   "cell_type": "raw",
   "metadata": {},
   "source": [
    "аномалий нет, выбросов нет, корректировки не требуется"
   ]
  },
  {
   "cell_type": "markdown",
   "metadata": {},
   "source": [
    "####  столбец S28  'absences'"
   ]
  },
  {
   "cell_type": "code",
   "execution_count": 57,
   "metadata": {
    "scrolled": false
   },
   "outputs": [
    {
     "data": {
      "text/plain": [
       "<seaborn.axisgrid.FacetGrid at 0x12ef04113a0>"
      ]
     },
     "execution_count": 57,
     "metadata": {},
     "output_type": "execute_result"
    },
    {
     "data": {
      "image/png": "[encoded data removed]",
      "text/plain": [
       "<Figure size 360x360 with 1 Axes>"
      ]
     },
     "metadata": {
      "needs_background": "light"
     },
     "output_type": "display_data"
    }
   ],
   "source": [
    "sns.displot(df2, x=\"S28\", kind=\"hist\")"
   ]
  },
  {
   "cell_type": "code",
   "execution_count": 58,
   "metadata": {
    "scrolled": true
   },
   "outputs": [
    {
     "data": {
      "image/png": "[encoded data removed]",
      "text/plain": [
       "<Figure size 432x288 with 1 Axes>"
      ]
     },
     "metadata": {
      "needs_background": "light"
     },
     "output_type": "display_data"
    }
   ],
   "source": [
    "ax = df2.S28.plot.box()"
   ]
  },
  {
   "cell_type": "code",
   "execution_count": 59,
   "metadata": {
    "scrolled": false
   },
   "outputs": [
    {
     "data": {
      "text/html": [
       "<div>\n",
       "<style scoped>\n",
       "    .dataframe tbody tr th:only-of-type {\n",
       "        vertical-align: middle;\n",
       "    }\n",
       "\n",
       "    .dataframe tbody tr th {\n",
       "        vertical-align: top;\n",
       "    }\n",
       "\n",
       "    .dataframe thead th {\n",
       "        text-align: right;\n",
       "    }\n",
       "</style>\n",
       "<table border=\"1\" class=\"dataframe\">\n",
       "  <thead>\n",
       "    <tr style=\"text-align: right;\">\n",
       "      <th></th>\n",
       "      <th>S28</th>\n",
       "    </tr>\n",
       "  </thead>\n",
       "  <tbody>\n",
       "    <tr>\n",
       "      <th>0.0</th>\n",
       "      <td>110</td>\n",
       "    </tr>\n",
       "    <tr>\n",
       "      <th>2.0</th>\n",
       "      <td>60</td>\n",
       "    </tr>\n",
       "    <tr>\n",
       "      <th>4.0</th>\n",
       "      <td>52</td>\n",
       "    </tr>\n",
       "    <tr>\n",
       "      <th>6.0</th>\n",
       "      <td>30</td>\n",
       "    </tr>\n",
       "    <tr>\n",
       "      <th>8.0</th>\n",
       "      <td>20</td>\n",
       "    </tr>\n",
       "    <tr>\n",
       "      <th>10.0</th>\n",
       "      <td>17</td>\n",
       "    </tr>\n",
       "    <tr>\n",
       "      <th>12.0</th>\n",
       "      <td>12</td>\n",
       "    </tr>\n",
       "    <tr>\n",
       "      <th>14.0</th>\n",
       "      <td>12</td>\n",
       "    </tr>\n",
       "    <tr>\n",
       "      <th>NaN</th>\n",
       "      <td>11</td>\n",
       "    </tr>\n",
       "    <tr>\n",
       "      <th>16.0</th>\n",
       "      <td>7</td>\n",
       "    </tr>\n",
       "    <tr>\n",
       "      <th>3.0</th>\n",
       "      <td>7</td>\n",
       "    </tr>\n",
       "    <tr>\n",
       "      <th>7.0</th>\n",
       "      <td>6</td>\n",
       "    </tr>\n",
       "    <tr>\n",
       "      <th>5.0</th>\n",
       "      <td>5</td>\n",
       "    </tr>\n",
       "    <tr>\n",
       "      <th>18.0</th>\n",
       "      <td>5</td>\n",
       "    </tr>\n",
       "    <tr>\n",
       "      <th>20.0</th>\n",
       "      <td>4</td>\n",
       "    </tr>\n",
       "    <tr>\n",
       "      <th>1.0</th>\n",
       "      <td>3</td>\n",
       "    </tr>\n",
       "    <tr>\n",
       "      <th>22.0</th>\n",
       "      <td>3</td>\n",
       "    </tr>\n",
       "    <tr>\n",
       "      <th>9.0</th>\n",
       "      <td>3</td>\n",
       "    </tr>\n",
       "    <tr>\n",
       "      <th>13.0</th>\n",
       "      <td>2</td>\n",
       "    </tr>\n",
       "    <tr>\n",
       "      <th>15.0</th>\n",
       "      <td>2</td>\n",
       "    </tr>\n",
       "    <tr>\n",
       "      <th>11.0</th>\n",
       "      <td>2</td>\n",
       "    </tr>\n",
       "    <tr>\n",
       "      <th>25.0</th>\n",
       "      <td>1</td>\n",
       "    </tr>\n",
       "    <tr>\n",
       "      <th>54.0</th>\n",
       "      <td>1</td>\n",
       "    </tr>\n",
       "    <tr>\n",
       "      <th>385.0</th>\n",
       "      <td>1</td>\n",
       "    </tr>\n",
       "    <tr>\n",
       "      <th>26.0</th>\n",
       "      <td>1</td>\n",
       "    </tr>\n",
       "    <tr>\n",
       "      <th>56.0</th>\n",
       "      <td>1</td>\n",
       "    </tr>\n",
       "    <tr>\n",
       "      <th>24.0</th>\n",
       "      <td>1</td>\n",
       "    </tr>\n",
       "    <tr>\n",
       "      <th>212.0</th>\n",
       "      <td>1</td>\n",
       "    </tr>\n",
       "    <tr>\n",
       "      <th>21.0</th>\n",
       "      <td>1</td>\n",
       "    </tr>\n",
       "    <tr>\n",
       "      <th>75.0</th>\n",
       "      <td>1</td>\n",
       "    </tr>\n",
       "    <tr>\n",
       "      <th>30.0</th>\n",
       "      <td>1</td>\n",
       "    </tr>\n",
       "    <tr>\n",
       "      <th>19.0</th>\n",
       "      <td>1</td>\n",
       "    </tr>\n",
       "    <tr>\n",
       "      <th>38.0</th>\n",
       "      <td>1</td>\n",
       "    </tr>\n",
       "    <tr>\n",
       "      <th>40.0</th>\n",
       "      <td>1</td>\n",
       "    </tr>\n",
       "    <tr>\n",
       "      <th>23.0</th>\n",
       "      <td>1</td>\n",
       "    </tr>\n",
       "    <tr>\n",
       "      <th>17.0</th>\n",
       "      <td>1</td>\n",
       "    </tr>\n",
       "    <tr>\n",
       "      <th>28.0</th>\n",
       "      <td>1</td>\n",
       "    </tr>\n",
       "  </tbody>\n",
       "</table>\n",
       "</div>"
      ],
      "text/plain": [
       "       S28\n",
       "0.0    110\n",
       "2.0     60\n",
       "4.0     52\n",
       "6.0     30\n",
       "8.0     20\n",
       "10.0    17\n",
       "12.0    12\n",
       "14.0    12\n",
       "NaN     11\n",
       "16.0     7\n",
       "3.0      7\n",
       "7.0      6\n",
       "5.0      5\n",
       "18.0     5\n",
       "20.0     4\n",
       "1.0      3\n",
       "22.0     3\n",
       "9.0      3\n",
       "13.0     2\n",
       "15.0     2\n",
       "11.0     2\n",
       "25.0     1\n",
       "54.0     1\n",
       "385.0    1\n",
       "26.0     1\n",
       "56.0     1\n",
       "24.0     1\n",
       "212.0    1\n",
       "21.0     1\n",
       "75.0     1\n",
       "30.0     1\n",
       "19.0     1\n",
       "38.0     1\n",
       "40.0     1\n",
       "23.0     1\n",
       "17.0     1\n",
       "28.0     1"
      ]
     },
     "metadata": {},
     "output_type": "display_data"
    },
    {
     "name": "stdout",
     "output_type": "stream",
     "text": [
      "пустых значений в столбце  S28  =  11 ,  в процентах =  3%\n",
      "уникальных значений в столбце  S28  =  37\n"
     ]
    }
   ],
   "source": [
    "col_info('S28')"
   ]
  },
  {
   "cell_type": "code",
   "execution_count": 60,
   "metadata": {
    "scrolled": true
   },
   "outputs": [
    {
     "data": {
      "text/plain": [
       "<AxesSubplot:xlabel='S28', ylabel='S29'>"
      ]
     },
     "execution_count": 60,
     "metadata": {},
     "output_type": "execute_result"
    },
    {
     "data": {
      "image/png": "[encoded data removed]",
      "text/plain": [
       "<Figure size 432x288 with 1 Axes>"
      ]
     },
     "metadata": {
      "needs_background": "light"
     },
     "output_type": "display_data"
    }
   ],
   "source": [
    "sns.scatterplot(data=df2, x=\"S28\", y=\"S29\")"
   ]
  },
  {
   "cell_type": "raw",
   "metadata": {},
   "source": [
    "есть 2 отчетливых выброса, надо их удалить путем замены на NaN"
   ]
  },
  {
   "cell_type": "code",
   "execution_count": 61,
   "metadata": {},
   "outputs": [],
   "source": [
    "df2.S28 = np.where((df2.S28 > 150), np.nan, df2.S28) # замена выбросов на NaN"
   ]
  },
  {
   "cell_type": "code",
   "execution_count": 62,
   "metadata": {},
   "outputs": [
    {
     "data": {
      "text/plain": [
       "<AxesSubplot:xlabel='S28', ylabel='S29'>"
      ]
     },
     "execution_count": 62,
     "metadata": {},
     "output_type": "execute_result"
    },
    {
     "data": {
      "image/png": "[encoded data removed]",
      "text/plain": [
       "<Figure size 432x288 with 1 Axes>"
      ]
     },
     "metadata": {
      "needs_background": "light"
     },
     "output_type": "display_data"
    }
   ],
   "source": [
    "sns.scatterplot(data=df2, x=\"S28\", y=\"S29\")"
   ]
  },
  {
   "cell_type": "code",
   "execution_count": 63,
   "metadata": {
    "scrolled": false
   },
   "outputs": [
    {
     "data": {
      "text/plain": [
       "<seaborn.axisgrid.FacetGrid at 0x12ef02ee820>"
      ]
     },
     "execution_count": 63,
     "metadata": {},
     "output_type": "execute_result"
    },
    {
     "data": {
      "image/png": "[encoded data removed]",
      "text/plain": [
       "<Figure size 360x360 with 1 Axes>"
      ]
     },
     "metadata": {
      "needs_background": "light"
     },
     "output_type": "display_data"
    }
   ],
   "source": [
    "sns.displot(df2, x=\"S28\", kind=\"hist\")"
   ]
  },
  {
   "cell_type": "markdown",
   "metadata": {},
   "source": [
    "### 05. корреляционный анализ количественных столбцов"
   ]
  },
  {
   "cell_type": "code",
   "execution_count": 64,
   "metadata": {},
   "outputs": [
    {
     "data": {
      "text/html": [
       "<style  type=\"text/css\" >\n",
       "#T_a3c264cd_f37f_11eb_8a8a_f82819b59abcrow0_col0,#T_a3c264cd_f37f_11eb_8a8a_f82819b59abcrow1_col1,#T_a3c264cd_f37f_11eb_8a8a_f82819b59abcrow2_col2,#T_a3c264cd_f37f_11eb_8a8a_f82819b59abcrow3_col3,#T_a3c264cd_f37f_11eb_8a8a_f82819b59abcrow4_col4,#T_a3c264cd_f37f_11eb_8a8a_f82819b59abcrow5_col5,#T_a3c264cd_f37f_11eb_8a8a_f82819b59abcrow6_col6,#T_a3c264cd_f37f_11eb_8a8a_f82819b59abcrow7_col7,#T_a3c264cd_f37f_11eb_8a8a_f82819b59abcrow8_col8,#T_a3c264cd_f37f_11eb_8a8a_f82819b59abcrow9_col9,#T_a3c264cd_f37f_11eb_8a8a_f82819b59abcrow10_col10,#T_a3c264cd_f37f_11eb_8a8a_f82819b59abcrow11_col11,#T_a3c264cd_f37f_11eb_8a8a_f82819b59abcrow12_col12{\n",
       "            background-color:  #ff0000;\n",
       "            color:  #f1f1f1;\n",
       "        }#T_a3c264cd_f37f_11eb_8a8a_f82819b59abcrow0_col1,#T_a3c264cd_f37f_11eb_8a8a_f82819b59abcrow1_col10,#T_a3c264cd_f37f_11eb_8a8a_f82819b59abcrow3_col10,#T_a3c264cd_f37f_11eb_8a8a_f82819b59abcrow10_col0{\n",
       "            background-color:  #6032fe;\n",
       "            color:  #f1f1f1;\n",
       "        }#T_a3c264cd_f37f_11eb_8a8a_f82819b59abcrow0_col2,#T_a3c264cd_f37f_11eb_8a8a_f82819b59abcrow1_col7,#T_a3c264cd_f37f_11eb_8a8a_f82819b59abcrow2_col10,#T_a3c264cd_f37f_11eb_8a8a_f82819b59abcrow8_col0,#T_a3c264cd_f37f_11eb_8a8a_f82819b59abcrow11_col8{\n",
       "            background-color:  #4a53fb;\n",
       "            color:  #f1f1f1;\n",
       "        }#T_a3c264cd_f37f_11eb_8a8a_f82819b59abcrow0_col3,#T_a3c264cd_f37f_11eb_8a8a_f82819b59abcrow7_col8,#T_a3c264cd_f37f_11eb_8a8a_f82819b59abcrow9_col0{\n",
       "            background-color:  #06aeed;\n",
       "            color:  #000000;\n",
       "        }#T_a3c264cd_f37f_11eb_8a8a_f82819b59abcrow0_col4{\n",
       "            background-color:  #86ffb0;\n",
       "            color:  #000000;\n",
       "        }#T_a3c264cd_f37f_11eb_8a8a_f82819b59abcrow0_col5{\n",
       "            background-color:  #42edd3;\n",
       "            color:  #000000;\n",
       "        }#T_a3c264cd_f37f_11eb_8a8a_f82819b59abcrow0_col6{\n",
       "            background-color:  #78ffb8;\n",
       "            color:  #000000;\n",
       "        }#T_a3c264cd_f37f_11eb_8a8a_f82819b59abcrow0_col7,#T_a3c264cd_f37f_11eb_8a8a_f82819b59abcrow1_col8,#T_a3c264cd_f37f_11eb_8a8a_f82819b59abcrow4_col9{\n",
       "            background-color:  #4062fa;\n",
       "            color:  #f1f1f1;\n",
       "        }#T_a3c264cd_f37f_11eb_8a8a_f82819b59abcrow0_col8,#T_a3c264cd_f37f_11eb_8a8a_f82819b59abcrow9_col12{\n",
       "            background-color:  #5641fd;\n",
       "            color:  #f1f1f1;\n",
       "        }#T_a3c264cd_f37f_11eb_8a8a_f82819b59abcrow0_col9,#T_a3c264cd_f37f_11eb_8a8a_f82819b59abcrow7_col12{\n",
       "            background-color:  #0dc2e8;\n",
       "            color:  #000000;\n",
       "        }#T_a3c264cd_f37f_11eb_8a8a_f82819b59abcrow0_col10,#T_a3c264cd_f37f_11eb_8a8a_f82819b59abcrow2_col0{\n",
       "            background-color:  #7216ff;\n",
       "            color:  #f1f1f1;\n",
       "        }#T_a3c264cd_f37f_11eb_8a8a_f82819b59abcrow0_col11{\n",
       "            background-color:  #3dead5;\n",
       "            color:  #000000;\n",
       "        }#T_a3c264cd_f37f_11eb_8a8a_f82819b59abcrow0_col12,#T_a3c264cd_f37f_11eb_8a8a_f82819b59abcrow9_col3{\n",
       "            background-color:  #445cfb;\n",
       "            color:  #f1f1f1;\n",
       "        }#T_a3c264cd_f37f_11eb_8a8a_f82819b59abcrow1_col0{\n",
       "            background-color:  #780dff;\n",
       "            color:  #f1f1f1;\n",
       "        }#T_a3c264cd_f37f_11eb_8a8a_f82819b59abcrow1_col2{\n",
       "            background-color:  #e0d377;\n",
       "            color:  #000000;\n",
       "        }#T_a3c264cd_f37f_11eb_8a8a_f82819b59abcrow1_col3,#T_a3c264cd_f37f_11eb_8a8a_f82819b59abcrow4_col6,#T_a3c264cd_f37f_11eb_8a8a_f82819b59abcrow4_col8,#T_a3c264cd_f37f_11eb_8a8a_f82819b59abcrow4_col10,#T_a3c264cd_f37f_11eb_8a8a_f82819b59abcrow5_col1,#T_a3c264cd_f37f_11eb_8a8a_f82819b59abcrow5_col2,#T_a3c264cd_f37f_11eb_8a8a_f82819b59abcrow5_col12,#T_a3c264cd_f37f_11eb_8a8a_f82819b59abcrow6_col4,#T_a3c264cd_f37f_11eb_8a8a_f82819b59abcrow11_col7,#T_a3c264cd_f37f_11eb_8a8a_f82819b59abcrow12_col0,#T_a3c264cd_f37f_11eb_8a8a_f82819b59abcrow12_col5,#T_a3c264cd_f37f_11eb_8a8a_f82819b59abcrow12_col9,#T_a3c264cd_f37f_11eb_8a8a_f82819b59abcrow12_col11{\n",
       "            background-color:  #8000ff;\n",
       "            color:  #f1f1f1;\n",
       "        }#T_a3c264cd_f37f_11eb_8a8a_f82819b59abcrow1_col4,#T_a3c264cd_f37f_11eb_8a8a_f82819b59abcrow7_col4,#T_a3c264cd_f37f_11eb_8a8a_f82819b59abcrow11_col6{\n",
       "            background-color:  #92fda9;\n",
       "            color:  #000000;\n",
       "        }#T_a3c264cd_f37f_11eb_8a8a_f82819b59abcrow1_col5,#T_a3c264cd_f37f_11eb_8a8a_f82819b59abcrow2_col8{\n",
       "            background-color:  #5a3bfd;\n",
       "            color:  #f1f1f1;\n",
       "        }#T_a3c264cd_f37f_11eb_8a8a_f82819b59abcrow1_col6,#T_a3c264cd_f37f_11eb_8a8a_f82819b59abcrow7_col6,#T_a3c264cd_f37f_11eb_8a8a_f82819b59abcrow11_col4{\n",
       "            background-color:  #6dfdbf;\n",
       "            color:  #000000;\n",
       "        }#T_a3c264cd_f37f_11eb_8a8a_f82819b59abcrow1_col9{\n",
       "            background-color:  #0ca7ef;\n",
       "            color:  #000000;\n",
       "        }#T_a3c264cd_f37f_11eb_8a8a_f82819b59abcrow1_col11,#T_a3c264cd_f37f_11eb_8a8a_f82819b59abcrow3_col0{\n",
       "            background-color:  #04b0ed;\n",
       "            color:  #000000;\n",
       "        }#T_a3c264cd_f37f_11eb_8a8a_f82819b59abcrow1_col12{\n",
       "            background-color:  #3febd5;\n",
       "            color:  #000000;\n",
       "        }#T_a3c264cd_f37f_11eb_8a8a_f82819b59abcrow2_col1{\n",
       "            background-color:  #dbd87b;\n",
       "            color:  #000000;\n",
       "        }#T_a3c264cd_f37f_11eb_8a8a_f82819b59abcrow2_col3{\n",
       "            background-color:  #7e03ff;\n",
       "            color:  #f1f1f1;\n",
       "        }#T_a3c264cd_f37f_11eb_8a8a_f82819b59abcrow2_col4{\n",
       "            background-color:  #84ffb2;\n",
       "            color:  #000000;\n",
       "        }#T_a3c264cd_f37f_11eb_8a8a_f82819b59abcrow2_col5,#T_a3c264cd_f37f_11eb_8a8a_f82819b59abcrow12_col10{\n",
       "            background-color:  #6a22fe;\n",
       "            color:  #f1f1f1;\n",
       "        }#T_a3c264cd_f37f_11eb_8a8a_f82819b59abcrow2_col6{\n",
       "            background-color:  #7affb7;\n",
       "            color:  #000000;\n",
       "        }#T_a3c264cd_f37f_11eb_8a8a_f82819b59abcrow2_col7,#T_a3c264cd_f37f_11eb_8a8a_f82819b59abcrow5_col7{\n",
       "            background-color:  #504afc;\n",
       "            color:  #f1f1f1;\n",
       "        }#T_a3c264cd_f37f_11eb_8a8a_f82819b59abcrow2_col9,#T_a3c264cd_f37f_11eb_8a8a_f82819b59abcrow10_col2{\n",
       "            background-color:  #169bf2;\n",
       "            color:  #000000;\n",
       "        }#T_a3c264cd_f37f_11eb_8a8a_f82819b59abcrow2_col11,#T_a3c264cd_f37f_11eb_8a8a_f82819b59abcrow8_col11{\n",
       "            background-color:  #1c93f3;\n",
       "            color:  #000000;\n",
       "        }#T_a3c264cd_f37f_11eb_8a8a_f82819b59abcrow2_col12,#T_a3c264cd_f37f_11eb_8a8a_f82819b59abcrow6_col5{\n",
       "            background-color:  #2fe0db;\n",
       "            color:  #000000;\n",
       "        }#T_a3c264cd_f37f_11eb_8a8a_f82819b59abcrow3_col1,#T_a3c264cd_f37f_11eb_8a8a_f82819b59abcrow3_col7{\n",
       "            background-color:  #6826fe;\n",
       "            color:  #f1f1f1;\n",
       "        }#T_a3c264cd_f37f_11eb_8a8a_f82819b59abcrow3_col2,#T_a3c264cd_f37f_11eb_8a8a_f82819b59abcrow8_col3,#T_a3c264cd_f37f_11eb_8a8a_f82819b59abcrow12_col8{\n",
       "            background-color:  #5444fd;\n",
       "            color:  #f1f1f1;\n",
       "        }#T_a3c264cd_f37f_11eb_8a8a_f82819b59abcrow3_col4,#T_a3c264cd_f37f_11eb_8a8a_f82819b59abcrow8_col4{\n",
       "            background-color:  #62fbc4;\n",
       "            color:  #000000;\n",
       "        }#T_a3c264cd_f37f_11eb_8a8a_f82819b59abcrow3_col5{\n",
       "            background-color:  #10c6e6;\n",
       "            color:  #000000;\n",
       "        }#T_a3c264cd_f37f_11eb_8a8a_f82819b59abcrow3_col6,#T_a3c264cd_f37f_11eb_8a8a_f82819b59abcrow8_col6{\n",
       "            background-color:  #9cfba4;\n",
       "            color:  #000000;\n",
       "        }#T_a3c264cd_f37f_11eb_8a8a_f82819b59abcrow3_col8{\n",
       "            background-color:  #5c38fd;\n",
       "            color:  #f1f1f1;\n",
       "        }#T_a3c264cd_f37f_11eb_8a8a_f82819b59abcrow3_col9{\n",
       "            background-color:  #3079f7;\n",
       "            color:  #000000;\n",
       "        }#T_a3c264cd_f37f_11eb_8a8a_f82819b59abcrow3_col11,#T_a3c264cd_f37f_11eb_8a8a_f82819b59abcrow6_col10,#T_a3c264cd_f37f_11eb_8a8a_f82819b59abcrow10_col8{\n",
       "            background-color:  #2489f5;\n",
       "            color:  #000000;\n",
       "        }#T_a3c264cd_f37f_11eb_8a8a_f82819b59abcrow3_col12,#T_a3c264cd_f37f_11eb_8a8a_f82819b59abcrow7_col10,#T_a3c264cd_f37f_11eb_8a8a_f82819b59abcrow8_col10{\n",
       "            background-color:  #2981f6;\n",
       "            color:  #000000;\n",
       "        }#T_a3c264cd_f37f_11eb_8a8a_f82819b59abcrow4_col0{\n",
       "            background-color:  #386df9;\n",
       "            color:  #000000;\n",
       "        }#T_a3c264cd_f37f_11eb_8a8a_f82819b59abcrow4_col1{\n",
       "            background-color:  #0ea5ef;\n",
       "            color:  #000000;\n",
       "        }#T_a3c264cd_f37f_11eb_8a8a_f82819b59abcrow4_col2,#T_a3c264cd_f37f_11eb_8a8a_f82819b59abcrow6_col8{\n",
       "            background-color:  #1898f2;\n",
       "            color:  #000000;\n",
       "        }#T_a3c264cd_f37f_11eb_8a8a_f82819b59abcrow4_col3{\n",
       "            background-color:  #7610ff;\n",
       "            color:  #f1f1f1;\n",
       "        }#T_a3c264cd_f37f_11eb_8a8a_f82819b59abcrow4_col5{\n",
       "            background-color:  #4659fb;\n",
       "            color:  #f1f1f1;\n",
       "        }#T_a3c264cd_f37f_11eb_8a8a_f82819b59abcrow4_col7{\n",
       "            background-color:  #2e7bf7;\n",
       "            color:  #000000;\n",
       "        }#T_a3c264cd_f37f_11eb_8a8a_f82819b59abcrow4_col11,#T_a3c264cd_f37f_11eb_8a8a_f82819b59abcrow10_col1{\n",
       "            background-color:  #396bf9;\n",
       "            color:  #000000;\n",
       "        }#T_a3c264cd_f37f_11eb_8a8a_f82819b59abcrow4_col12,#T_a3c264cd_f37f_11eb_8a8a_f82819b59abcrow12_col1{\n",
       "            background-color:  #24d8df;\n",
       "            color:  #000000;\n",
       "        }#T_a3c264cd_f37f_11eb_8a8a_f82819b59abcrow5_col0{\n",
       "            background-color:  #17cbe4;\n",
       "            color:  #000000;\n",
       "        }#T_a3c264cd_f37f_11eb_8a8a_f82819b59abcrow5_col3,#T_a3c264cd_f37f_11eb_8a8a_f82819b59abcrow8_col1{\n",
       "            background-color:  #218cf4;\n",
       "            color:  #000000;\n",
       "        }#T_a3c264cd_f37f_11eb_8a8a_f82819b59abcrow5_col4{\n",
       "            background-color:  #5af8c8;\n",
       "            color:  #000000;\n",
       "        }#T_a3c264cd_f37f_11eb_8a8a_f82819b59abcrow5_col6{\n",
       "            background-color:  #a4f89f;\n",
       "            color:  #000000;\n",
       "        }#T_a3c264cd_f37f_11eb_8a8a_f82819b59abcrow5_col8{\n",
       "            background-color:  #10a2f0;\n",
       "            color:  #000000;\n",
       "        }#T_a3c264cd_f37f_11eb_8a8a_f82819b59abcrow5_col9{\n",
       "            background-color:  #0fc4e7;\n",
       "            color:  #000000;\n",
       "        }#T_a3c264cd_f37f_11eb_8a8a_f82819b59abcrow5_col10,#T_a3c264cd_f37f_11eb_8a8a_f82819b59abcrow7_col1,#T_a3c264cd_f37f_11eb_8a8a_f82819b59abcrow10_col7{\n",
       "            background-color:  #2884f6;\n",
       "            color:  #000000;\n",
       "        }#T_a3c264cd_f37f_11eb_8a8a_f82819b59abcrow5_col11{\n",
       "            background-color:  #46efd1;\n",
       "            color:  #000000;\n",
       "        }#T_a3c264cd_f37f_11eb_8a8a_f82819b59abcrow6_col0{\n",
       "            background-color:  #4e4dfc;\n",
       "            color:  #f1f1f1;\n",
       "        }#T_a3c264cd_f37f_11eb_8a8a_f82819b59abcrow6_col1,#T_a3c264cd_f37f_11eb_8a8a_f82819b59abcrow11_col3{\n",
       "            background-color:  #4c50fc;\n",
       "            color:  #f1f1f1;\n",
       "        }#T_a3c264cd_f37f_11eb_8a8a_f82819b59abcrow6_col2{\n",
       "            background-color:  #2686f5;\n",
       "            color:  #000000;\n",
       "        }#T_a3c264cd_f37f_11eb_8a8a_f82819b59abcrow6_col3,#T_a3c264cd_f37f_11eb_8a8a_f82819b59abcrow8_col12{\n",
       "            background-color:  #11a0f1;\n",
       "            color:  #000000;\n",
       "        }#T_a3c264cd_f37f_11eb_8a8a_f82819b59abcrow6_col7{\n",
       "            background-color:  #7413ff;\n",
       "            color:  #f1f1f1;\n",
       "        }#T_a3c264cd_f37f_11eb_8a8a_f82819b59abcrow6_col9,#T_a3c264cd_f37f_11eb_8a8a_f82819b59abcrow10_col12{\n",
       "            background-color:  #208ef4;\n",
       "            color:  #000000;\n",
       "        }#T_a3c264cd_f37f_11eb_8a8a_f82819b59abcrow6_col11{\n",
       "            background-color:  #00b5eb;\n",
       "            color:  #000000;\n",
       "        }#T_a3c264cd_f37f_11eb_8a8a_f82819b59abcrow6_col12,#T_a3c264cd_f37f_11eb_8a8a_f82819b59abcrow9_col7{\n",
       "            background-color:  #3e65fa;\n",
       "            color:  #f1f1f1;\n",
       "        }#T_a3c264cd_f37f_11eb_8a8a_f82819b59abcrow7_col0{\n",
       "            background-color:  #3176f8;\n",
       "            color:  #000000;\n",
       "        }#T_a3c264cd_f37f_11eb_8a8a_f82819b59abcrow7_col2,#T_a3c264cd_f37f_11eb_8a8a_f82819b59abcrow7_col9,#T_a3c264cd_f37f_11eb_8a8a_f82819b59abcrow11_col2{\n",
       "            background-color:  #1e91f3;\n",
       "            color:  #000000;\n",
       "        }#T_a3c264cd_f37f_11eb_8a8a_f82819b59abcrow7_col3,#T_a3c264cd_f37f_11eb_8a8a_f82819b59abcrow9_col10{\n",
       "            background-color:  #583efd;\n",
       "            color:  #f1f1f1;\n",
       "        }#T_a3c264cd_f37f_11eb_8a8a_f82819b59abcrow7_col5,#T_a3c264cd_f37f_11eb_8a8a_f82819b59abcrow8_col7,#T_a3c264cd_f37f_11eb_8a8a_f82819b59abcrow9_col1{\n",
       "            background-color:  #09a9ee;\n",
       "            color:  #000000;\n",
       "        }#T_a3c264cd_f37f_11eb_8a8a_f82819b59abcrow7_col11{\n",
       "            background-color:  #4856fb;\n",
       "            color:  #f1f1f1;\n",
       "        }#T_a3c264cd_f37f_11eb_8a8a_f82819b59abcrow8_col2{\n",
       "            background-color:  #2c7ef7;\n",
       "            color:  #000000;\n",
       "        }#T_a3c264cd_f37f_11eb_8a8a_f82819b59abcrow8_col5{\n",
       "            background-color:  #28dbde;\n",
       "            color:  #000000;\n",
       "        }#T_a3c264cd_f37f_11eb_8a8a_f82819b59abcrow8_col9{\n",
       "            background-color:  #4df3ce;\n",
       "            color:  #000000;\n",
       "        }#T_a3c264cd_f37f_11eb_8a8a_f82819b59abcrow9_col2{\n",
       "            background-color:  #08acee;\n",
       "            color:  #000000;\n",
       "        }#T_a3c264cd_f37f_11eb_8a8a_f82819b59abcrow9_col4{\n",
       "            background-color:  #76ffb9;\n",
       "            color:  #000000;\n",
       "        }#T_a3c264cd_f37f_11eb_8a8a_f82819b59abcrow9_col5{\n",
       "            background-color:  #2ddedc;\n",
       "            color:  #000000;\n",
       "        }#T_a3c264cd_f37f_11eb_8a8a_f82819b59abcrow9_col6{\n",
       "            background-color:  #88ffaf;\n",
       "            color:  #000000;\n",
       "        }#T_a3c264cd_f37f_11eb_8a8a_f82819b59abcrow9_col8{\n",
       "            background-color:  #38e7d7;\n",
       "            color:  #000000;\n",
       "        }#T_a3c264cd_f37f_11eb_8a8a_f82819b59abcrow9_col11{\n",
       "            background-color:  #22d6e0;\n",
       "            color:  #000000;\n",
       "        }#T_a3c264cd_f37f_11eb_8a8a_f82819b59abcrow10_col3{\n",
       "            background-color:  #5247fc;\n",
       "            color:  #f1f1f1;\n",
       "        }#T_a3c264cd_f37f_11eb_8a8a_f82819b59abcrow10_col4{\n",
       "            background-color:  #66fcc2;\n",
       "            color:  #000000;\n",
       "        }#T_a3c264cd_f37f_11eb_8a8a_f82819b59abcrow10_col5{\n",
       "            background-color:  #18cde4;\n",
       "            color:  #000000;\n",
       "        }#T_a3c264cd_f37f_11eb_8a8a_f82819b59abcrow10_col6{\n",
       "            background-color:  #99fca6;\n",
       "            color:  #000000;\n",
       "        }#T_a3c264cd_f37f_11eb_8a8a_f82819b59abcrow10_col9,#T_a3c264cd_f37f_11eb_8a8a_f82819b59abcrow10_col11{\n",
       "            background-color:  #3473f8;\n",
       "            color:  #000000;\n",
       "        }#T_a3c264cd_f37f_11eb_8a8a_f82819b59abcrow11_col0{\n",
       "            background-color:  #1fd3e1;\n",
       "            color:  #000000;\n",
       "        }#T_a3c264cd_f37f_11eb_8a8a_f82819b59abcrow11_col1{\n",
       "            background-color:  #149df1;\n",
       "            color:  #000000;\n",
       "        }#T_a3c264cd_f37f_11eb_8a8a_f82819b59abcrow11_col5{\n",
       "            background-color:  #52f5cb;\n",
       "            color:  #000000;\n",
       "        }#T_a3c264cd_f37f_11eb_8a8a_f82819b59abcrow11_col9{\n",
       "            background-color:  #12c8e6;\n",
       "            color:  #000000;\n",
       "        }#T_a3c264cd_f37f_11eb_8a8a_f82819b59abcrow11_col10,#T_a3c264cd_f37f_11eb_8a8a_f82819b59abcrow11_col12{\n",
       "            background-color:  #6c1fff;\n",
       "            color:  #f1f1f1;\n",
       "        }#T_a3c264cd_f37f_11eb_8a8a_f82819b59abcrow12_col2{\n",
       "            background-color:  #1dd1e2;\n",
       "            color:  #000000;\n",
       "        }#T_a3c264cd_f37f_11eb_8a8a_f82819b59abcrow12_col3{\n",
       "            background-color:  #6629fe;\n",
       "            color:  #f1f1f1;\n",
       "        }#T_a3c264cd_f37f_11eb_8a8a_f82819b59abcrow12_col4{\n",
       "            background-color:  #9efaa2;\n",
       "            color:  #000000;\n",
       "        }#T_a3c264cd_f37f_11eb_8a8a_f82819b59abcrow12_col6{\n",
       "            background-color:  #60fac5;\n",
       "            color:  #000000;\n",
       "        }#T_a3c264cd_f37f_11eb_8a8a_f82819b59abcrow12_col7{\n",
       "            background-color:  #3670f8;\n",
       "            color:  #000000;\n",
       "        }</style><table id=\"T_a3c264cd_f37f_11eb_8a8a_f82819b59abc\" ><caption>method Spearman</caption><thead>    <tr>        <th class=\"blank level0\" ></th>        <th class=\"col_heading level0 col0\" >S02</th>        <th class=\"col_heading level0 col1\" >S06</th>        <th class=\"col_heading level0 col2\" >S07</th>        <th class=\"col_heading level0 col3\" >S12</th>        <th class=\"col_heading level0 col4\" >S13</th>        <th class=\"col_heading level0 col5\" >S14</th>        <th class=\"col_heading level0 col6\" >S20</th>        <th class=\"col_heading level0 col7\" >S24</th>        <th class=\"col_heading level0 col8\" >S25</th>        <th class=\"col_heading level0 col9\" >S26</th>        <th class=\"col_heading level0 col10\" >S27</th>        <th class=\"col_heading level0 col11\" >S28</th>        <th class=\"col_heading level0 col12\" >S29</th>    </tr></thead><tbody>\n",
       "                <tr>\n",
       "                        <th id=\"T_a3c264cd_f37f_11eb_8a8a_f82819b59abclevel0_row0\" class=\"row_heading level0 row0\" >S02</th>\n",
       "                        <td id=\"T_a3c264cd_f37f_11eb_8a8a_f82819b59abcrow0_col0\" class=\"data row0 col0\" >1.00</td>\n",
       "                        <td id=\"T_a3c264cd_f37f_11eb_8a8a_f82819b59abcrow0_col1\" class=\"data row0 col1\" >-0.12</td>\n",
       "                        <td id=\"T_a3c264cd_f37f_11eb_8a8a_f82819b59abcrow0_col2\" class=\"data row0 col2\" >-0.10</td>\n",
       "                        <td id=\"T_a3c264cd_f37f_11eb_8a8a_f82819b59abcrow0_col3\" class=\"data row0 col3\" >0.14</td>\n",
       "                        <td id=\"T_a3c264cd_f37f_11eb_8a8a_f82819b59abcrow0_col4\" class=\"data row0 col4\" >0.02</td>\n",
       "                        <td id=\"T_a3c264cd_f37f_11eb_8a8a_f82819b59abcrow0_col5\" class=\"data row0 col5\" >0.20</td>\n",
       "                        <td id=\"T_a3c264cd_f37f_11eb_8a8a_f82819b59abcrow0_col6\" class=\"data row0 col6\" >-0.02</td>\n",
       "                        <td id=\"T_a3c264cd_f37f_11eb_8a8a_f82819b59abcrow0_col7\" class=\"data row0 col7\" >0.04</td>\n",
       "                        <td id=\"T_a3c264cd_f37f_11eb_8a8a_f82819b59abcrow0_col8\" class=\"data row0 col8\" >-0.02</td>\n",
       "                        <td id=\"T_a3c264cd_f37f_11eb_8a8a_f82819b59abcrow0_col9\" class=\"data row0 col9\" >0.14</td>\n",
       "                        <td id=\"T_a3c264cd_f37f_11eb_8a8a_f82819b59abcrow0_col10\" class=\"data row0 col10\" >-0.07</td>\n",
       "                        <td id=\"T_a3c264cd_f37f_11eb_8a8a_f82819b59abcrow0_col11\" class=\"data row0 col11\" >0.21</td>\n",
       "                        <td id=\"T_a3c264cd_f37f_11eb_8a8a_f82819b59abcrow0_col12\" class=\"data row0 col12\" >-0.14</td>\n",
       "            </tr>\n",
       "            <tr>\n",
       "                        <th id=\"T_a3c264cd_f37f_11eb_8a8a_f82819b59abclevel0_row1\" class=\"row_heading level0 row1\" >S06</th>\n",
       "                        <td id=\"T_a3c264cd_f37f_11eb_8a8a_f82819b59abcrow1_col0\" class=\"data row1 col0\" >-0.12</td>\n",
       "                        <td id=\"T_a3c264cd_f37f_11eb_8a8a_f82819b59abcrow1_col1\" class=\"data row1 col1\" >1.00</td>\n",
       "                        <td id=\"T_a3c264cd_f37f_11eb_8a8a_f82819b59abcrow1_col2\" class=\"data row1 col2\" >0.61</td>\n",
       "                        <td id=\"T_a3c264cd_f37f_11eb_8a8a_f82819b59abcrow1_col3\" class=\"data row1 col3\" >-0.14</td>\n",
       "                        <td id=\"T_a3c264cd_f37f_11eb_8a8a_f82819b59abcrow1_col4\" class=\"data row1 col4\" >0.07</td>\n",
       "                        <td id=\"T_a3c264cd_f37f_11eb_8a8a_f82819b59abcrow1_col5\" class=\"data row1 col5\" >-0.20</td>\n",
       "                        <td id=\"T_a3c264cd_f37f_11eb_8a8a_f82819b59abcrow1_col6\" class=\"data row1 col6\" >-0.07</td>\n",
       "                        <td id=\"T_a3c264cd_f37f_11eb_8a8a_f82819b59abcrow1_col7\" class=\"data row1 col7\" >0.01</td>\n",
       "                        <td id=\"T_a3c264cd_f37f_11eb_8a8a_f82819b59abcrow1_col8\" class=\"data row1 col8\" >0.03</td>\n",
       "                        <td id=\"T_a3c264cd_f37f_11eb_8a8a_f82819b59abcrow1_col9\" class=\"data row1 col9\" >0.08</td>\n",
       "                        <td id=\"T_a3c264cd_f37f_11eb_8a8a_f82819b59abcrow1_col10\" class=\"data row1 col10\" >-0.03</td>\n",
       "                        <td id=\"T_a3c264cd_f37f_11eb_8a8a_f82819b59abcrow1_col11\" class=\"data row1 col11\" >0.06</td>\n",
       "                        <td id=\"T_a3c264cd_f37f_11eb_8a8a_f82819b59abcrow1_col12\" class=\"data row1 col12\" >0.19</td>\n",
       "            </tr>\n",
       "            <tr>\n",
       "                        <th id=\"T_a3c264cd_f37f_11eb_8a8a_f82819b59abclevel0_row2\" class=\"row_heading level0 row2\" >S07</th>\n",
       "                        <td id=\"T_a3c264cd_f37f_11eb_8a8a_f82819b59abcrow2_col0\" class=\"data row2 col0\" >-0.10</td>\n",
       "                        <td id=\"T_a3c264cd_f37f_11eb_8a8a_f82819b59abcrow2_col1\" class=\"data row2 col1\" >0.61</td>\n",
       "                        <td id=\"T_a3c264cd_f37f_11eb_8a8a_f82819b59abcrow2_col2\" class=\"data row2 col2\" >1.00</td>\n",
       "                        <td id=\"T_a3c264cd_f37f_11eb_8a8a_f82819b59abcrow2_col3\" class=\"data row2 col3\" >-0.13</td>\n",
       "                        <td id=\"T_a3c264cd_f37f_11eb_8a8a_f82819b59abcrow2_col4\" class=\"data row2 col4\" >0.02</td>\n",
       "                        <td id=\"T_a3c264cd_f37f_11eb_8a8a_f82819b59abcrow2_col5\" class=\"data row2 col5\" >-0.24</td>\n",
       "                        <td id=\"T_a3c264cd_f37f_11eb_8a8a_f82819b59abcrow2_col6\" class=\"data row2 col6\" >-0.02</td>\n",
       "                        <td id=\"T_a3c264cd_f37f_11eb_8a8a_f82819b59abcrow2_col7\" class=\"data row2 col7\" >0.00</td>\n",
       "                        <td id=\"T_a3c264cd_f37f_11eb_8a8a_f82819b59abcrow2_col8\" class=\"data row2 col8\" >-0.03</td>\n",
       "                        <td id=\"T_a3c264cd_f37f_11eb_8a8a_f82819b59abcrow2_col9\" class=\"data row2 col9\" >0.06</td>\n",
       "                        <td id=\"T_a3c264cd_f37f_11eb_8a8a_f82819b59abcrow2_col10\" class=\"data row2 col10\" >0.02</td>\n",
       "                        <td id=\"T_a3c264cd_f37f_11eb_8a8a_f82819b59abcrow2_col11\" class=\"data row2 col11\" >0.00</td>\n",
       "                        <td id=\"T_a3c264cd_f37f_11eb_8a8a_f82819b59abcrow2_col12\" class=\"data row2 col12\" >0.14</td>\n",
       "            </tr>\n",
       "            <tr>\n",
       "                        <th id=\"T_a3c264cd_f37f_11eb_8a8a_f82819b59abclevel0_row3\" class=\"row_heading level0 row3\" >S12</th>\n",
       "                        <td id=\"T_a3c264cd_f37f_11eb_8a8a_f82819b59abcrow3_col0\" class=\"data row3 col0\" >0.14</td>\n",
       "                        <td id=\"T_a3c264cd_f37f_11eb_8a8a_f82819b59abcrow3_col1\" class=\"data row3 col1\" >-0.14</td>\n",
       "                        <td id=\"T_a3c264cd_f37f_11eb_8a8a_f82819b59abcrow3_col2\" class=\"data row3 col2\" >-0.13</td>\n",
       "                        <td id=\"T_a3c264cd_f37f_11eb_8a8a_f82819b59abcrow3_col3\" class=\"data row3 col3\" >1.00</td>\n",
       "                        <td id=\"T_a3c264cd_f37f_11eb_8a8a_f82819b59abcrow3_col4\" class=\"data row3 col4\" >-0.11</td>\n",
       "                        <td id=\"T_a3c264cd_f37f_11eb_8a8a_f82819b59abcrow3_col5\" class=\"data row3 col5\" >0.07</td>\n",
       "                        <td id=\"T_a3c264cd_f37f_11eb_8a8a_f82819b59abcrow3_col6\" class=\"data row3 col6\" >0.11</td>\n",
       "                        <td id=\"T_a3c264cd_f37f_11eb_8a8a_f82819b59abcrow3_col7\" class=\"data row3 col7\" >-0.05</td>\n",
       "                        <td id=\"T_a3c264cd_f37f_11eb_8a8a_f82819b59abcrow3_col8\" class=\"data row3 col8\" >-0.03</td>\n",
       "                        <td id=\"T_a3c264cd_f37f_11eb_8a8a_f82819b59abcrow3_col9\" class=\"data row3 col9\" >0.00</td>\n",
       "                        <td id=\"T_a3c264cd_f37f_11eb_8a8a_f82819b59abcrow3_col10\" class=\"data row3 col10\" >-0.03</td>\n",
       "                        <td id=\"T_a3c264cd_f37f_11eb_8a8a_f82819b59abcrow3_col11\" class=\"data row3 col11\" >-0.02</td>\n",
       "                        <td id=\"T_a3c264cd_f37f_11eb_8a8a_f82819b59abcrow3_col12\" class=\"data row3 col12\" >-0.07</td>\n",
       "            </tr>\n",
       "            <tr>\n",
       "                        <th id=\"T_a3c264cd_f37f_11eb_8a8a_f82819b59abclevel0_row4\" class=\"row_heading level0 row4\" >S13</th>\n",
       "                        <td id=\"T_a3c264cd_f37f_11eb_8a8a_f82819b59abcrow4_col0\" class=\"data row4 col0\" >0.02</td>\n",
       "                        <td id=\"T_a3c264cd_f37f_11eb_8a8a_f82819b59abcrow4_col1\" class=\"data row4 col1\" >0.07</td>\n",
       "                        <td id=\"T_a3c264cd_f37f_11eb_8a8a_f82819b59abcrow4_col2\" class=\"data row4 col2\" >0.02</td>\n",
       "                        <td id=\"T_a3c264cd_f37f_11eb_8a8a_f82819b59abcrow4_col3\" class=\"data row4 col3\" >-0.11</td>\n",
       "                        <td id=\"T_a3c264cd_f37f_11eb_8a8a_f82819b59abcrow4_col4\" class=\"data row4 col4\" >1.00</td>\n",
       "                        <td id=\"T_a3c264cd_f37f_11eb_8a8a_f82819b59abcrow4_col5\" class=\"data row4 col5\" >-0.15</td>\n",
       "                        <td id=\"T_a3c264cd_f37f_11eb_8a8a_f82819b59abcrow4_col6\" class=\"data row4 col6\" >-1.00</td>\n",
       "                        <td id=\"T_a3c264cd_f37f_11eb_8a8a_f82819b59abcrow4_col7\" class=\"data row4 col7\" >0.07</td>\n",
       "                        <td id=\"T_a3c264cd_f37f_11eb_8a8a_f82819b59abcrow4_col8\" class=\"data row4 col8\" >-0.11</td>\n",
       "                        <td id=\"T_a3c264cd_f37f_11eb_8a8a_f82819b59abcrow4_col9\" class=\"data row4 col9\" >-0.04</td>\n",
       "                        <td id=\"T_a3c264cd_f37f_11eb_8a8a_f82819b59abcrow4_col10\" class=\"data row4 col10\" >-0.10</td>\n",
       "                        <td id=\"T_a3c264cd_f37f_11eb_8a8a_f82819b59abcrow4_col11\" class=\"data row4 col11\" >-0.07</td>\n",
       "                        <td id=\"T_a3c264cd_f37f_11eb_8a8a_f82819b59abcrow4_col12\" class=\"data row4 col12\" >0.12</td>\n",
       "            </tr>\n",
       "            <tr>\n",
       "                        <th id=\"T_a3c264cd_f37f_11eb_8a8a_f82819b59abclevel0_row5\" class=\"row_heading level0 row5\" >S14</th>\n",
       "                        <td id=\"T_a3c264cd_f37f_11eb_8a8a_f82819b59abcrow5_col0\" class=\"data row5 col0\" >0.20</td>\n",
       "                        <td id=\"T_a3c264cd_f37f_11eb_8a8a_f82819b59abcrow5_col1\" class=\"data row5 col1\" >-0.20</td>\n",
       "                        <td id=\"T_a3c264cd_f37f_11eb_8a8a_f82819b59abcrow5_col2\" class=\"data row5 col2\" >-0.24</td>\n",
       "                        <td id=\"T_a3c264cd_f37f_11eb_8a8a_f82819b59abcrow5_col3\" class=\"data row5 col3\" >0.07</td>\n",
       "                        <td id=\"T_a3c264cd_f37f_11eb_8a8a_f82819b59abcrow5_col4\" class=\"data row5 col4\" >-0.15</td>\n",
       "                        <td id=\"T_a3c264cd_f37f_11eb_8a8a_f82819b59abcrow5_col5\" class=\"data row5 col5\" >1.00</td>\n",
       "                        <td id=\"T_a3c264cd_f37f_11eb_8a8a_f82819b59abcrow5_col6\" class=\"data row5 col6\" >0.15</td>\n",
       "                        <td id=\"T_a3c264cd_f37f_11eb_8a8a_f82819b59abcrow5_col7\" class=\"data row5 col7\" >0.00</td>\n",
       "                        <td id=\"T_a3c264cd_f37f_11eb_8a8a_f82819b59abcrow5_col8\" class=\"data row5 col8\" >0.13</td>\n",
       "                        <td id=\"T_a3c264cd_f37f_11eb_8a8a_f82819b59abcrow5_col9\" class=\"data row5 col9\" >0.14</td>\n",
       "                        <td id=\"T_a3c264cd_f37f_11eb_8a8a_f82819b59abcrow5_col10\" class=\"data row5 col10\" >0.09</td>\n",
       "                        <td id=\"T_a3c264cd_f37f_11eb_8a8a_f82819b59abcrow5_col11\" class=\"data row5 col11\" >0.24</td>\n",
       "                        <td id=\"T_a3c264cd_f37f_11eb_8a8a_f82819b59abcrow5_col12\" class=\"data row5 col12\" >-0.30</td>\n",
       "            </tr>\n",
       "            <tr>\n",
       "                        <th id=\"T_a3c264cd_f37f_11eb_8a8a_f82819b59abclevel0_row6\" class=\"row_heading level0 row6\" >S20</th>\n",
       "                        <td id=\"T_a3c264cd_f37f_11eb_8a8a_f82819b59abcrow6_col0\" class=\"data row6 col0\" >-0.02</td>\n",
       "                        <td id=\"T_a3c264cd_f37f_11eb_8a8a_f82819b59abcrow6_col1\" class=\"data row6 col1\" >-0.07</td>\n",
       "                        <td id=\"T_a3c264cd_f37f_11eb_8a8a_f82819b59abcrow6_col2\" class=\"data row6 col2\" >-0.02</td>\n",
       "                        <td id=\"T_a3c264cd_f37f_11eb_8a8a_f82819b59abcrow6_col3\" class=\"data row6 col3\" >0.11</td>\n",
       "                        <td id=\"T_a3c264cd_f37f_11eb_8a8a_f82819b59abcrow6_col4\" class=\"data row6 col4\" >-1.00</td>\n",
       "                        <td id=\"T_a3c264cd_f37f_11eb_8a8a_f82819b59abcrow6_col5\" class=\"data row6 col5\" >0.15</td>\n",
       "                        <td id=\"T_a3c264cd_f37f_11eb_8a8a_f82819b59abcrow6_col6\" class=\"data row6 col6\" >1.00</td>\n",
       "                        <td id=\"T_a3c264cd_f37f_11eb_8a8a_f82819b59abcrow6_col7\" class=\"data row6 col7\" >-0.07</td>\n",
       "                        <td id=\"T_a3c264cd_f37f_11eb_8a8a_f82819b59abcrow6_col8\" class=\"data row6 col8\" >0.11</td>\n",
       "                        <td id=\"T_a3c264cd_f37f_11eb_8a8a_f82819b59abcrow6_col9\" class=\"data row6 col9\" >0.04</td>\n",
       "                        <td id=\"T_a3c264cd_f37f_11eb_8a8a_f82819b59abcrow6_col10\" class=\"data row6 col10\" >0.10</td>\n",
       "                        <td id=\"T_a3c264cd_f37f_11eb_8a8a_f82819b59abcrow6_col11\" class=\"data row6 col11\" >0.07</td>\n",
       "                        <td id=\"T_a3c264cd_f37f_11eb_8a8a_f82819b59abcrow6_col12\" class=\"data row6 col12\" >-0.12</td>\n",
       "            </tr>\n",
       "            <tr>\n",
       "                        <th id=\"T_a3c264cd_f37f_11eb_8a8a_f82819b59abclevel0_row7\" class=\"row_heading level0 row7\" >S24</th>\n",
       "                        <td id=\"T_a3c264cd_f37f_11eb_8a8a_f82819b59abcrow7_col0\" class=\"data row7 col0\" >0.04</td>\n",
       "                        <td id=\"T_a3c264cd_f37f_11eb_8a8a_f82819b59abcrow7_col1\" class=\"data row7 col1\" >0.01</td>\n",
       "                        <td id=\"T_a3c264cd_f37f_11eb_8a8a_f82819b59abcrow7_col2\" class=\"data row7 col2\" >0.00</td>\n",
       "                        <td id=\"T_a3c264cd_f37f_11eb_8a8a_f82819b59abcrow7_col3\" class=\"data row7 col3\" >-0.05</td>\n",
       "                        <td id=\"T_a3c264cd_f37f_11eb_8a8a_f82819b59abcrow7_col4\" class=\"data row7 col4\" >0.07</td>\n",
       "                        <td id=\"T_a3c264cd_f37f_11eb_8a8a_f82819b59abcrow7_col5\" class=\"data row7 col5\" >0.00</td>\n",
       "                        <td id=\"T_a3c264cd_f37f_11eb_8a8a_f82819b59abcrow7_col6\" class=\"data row7 col6\" >-0.07</td>\n",
       "                        <td id=\"T_a3c264cd_f37f_11eb_8a8a_f82819b59abcrow7_col7\" class=\"data row7 col7\" >1.00</td>\n",
       "                        <td id=\"T_a3c264cd_f37f_11eb_8a8a_f82819b59abcrow7_col8\" class=\"data row7 col8\" >0.15</td>\n",
       "                        <td id=\"T_a3c264cd_f37f_11eb_8a8a_f82819b59abcrow7_col9\" class=\"data row7 col9\" >0.04</td>\n",
       "                        <td id=\"T_a3c264cd_f37f_11eb_8a8a_f82819b59abcrow7_col10\" class=\"data row7 col10\" >0.09</td>\n",
       "                        <td id=\"T_a3c264cd_f37f_11eb_8a8a_f82819b59abcrow7_col11\" class=\"data row7 col11\" >-0.10</td>\n",
       "                        <td id=\"T_a3c264cd_f37f_11eb_8a8a_f82819b59abcrow7_col12\" class=\"data row7 col12\" >0.06</td>\n",
       "            </tr>\n",
       "            <tr>\n",
       "                        <th id=\"T_a3c264cd_f37f_11eb_8a8a_f82819b59abclevel0_row8\" class=\"row_heading level0 row8\" >S25</th>\n",
       "                        <td id=\"T_a3c264cd_f37f_11eb_8a8a_f82819b59abcrow8_col0\" class=\"data row8 col0\" >-0.02</td>\n",
       "                        <td id=\"T_a3c264cd_f37f_11eb_8a8a_f82819b59abcrow8_col1\" class=\"data row8 col1\" >0.03</td>\n",
       "                        <td id=\"T_a3c264cd_f37f_11eb_8a8a_f82819b59abcrow8_col2\" class=\"data row8 col2\" >-0.03</td>\n",
       "                        <td id=\"T_a3c264cd_f37f_11eb_8a8a_f82819b59abcrow8_col3\" class=\"data row8 col3\" >-0.03</td>\n",
       "                        <td id=\"T_a3c264cd_f37f_11eb_8a8a_f82819b59abcrow8_col4\" class=\"data row8 col4\" >-0.11</td>\n",
       "                        <td id=\"T_a3c264cd_f37f_11eb_8a8a_f82819b59abcrow8_col5\" class=\"data row8 col5\" >0.13</td>\n",
       "                        <td id=\"T_a3c264cd_f37f_11eb_8a8a_f82819b59abcrow8_col6\" class=\"data row8 col6\" >0.11</td>\n",
       "                        <td id=\"T_a3c264cd_f37f_11eb_8a8a_f82819b59abcrow8_col7\" class=\"data row8 col7\" >0.15</td>\n",
       "                        <td id=\"T_a3c264cd_f37f_11eb_8a8a_f82819b59abcrow8_col8\" class=\"data row8 col8\" >1.00</td>\n",
       "                        <td id=\"T_a3c264cd_f37f_11eb_8a8a_f82819b59abcrow8_col9\" class=\"data row8 col9\" >0.29</td>\n",
       "                        <td id=\"T_a3c264cd_f37f_11eb_8a8a_f82819b59abcrow8_col10\" class=\"data row8 col10\" >0.09</td>\n",
       "                        <td id=\"T_a3c264cd_f37f_11eb_8a8a_f82819b59abcrow8_col11\" class=\"data row8 col11\" >0.00</td>\n",
       "                        <td id=\"T_a3c264cd_f37f_11eb_8a8a_f82819b59abcrow8_col12\" class=\"data row8 col12\" >-0.02</td>\n",
       "            </tr>\n",
       "            <tr>\n",
       "                        <th id=\"T_a3c264cd_f37f_11eb_8a8a_f82819b59abclevel0_row9\" class=\"row_heading level0 row9\" >S26</th>\n",
       "                        <td id=\"T_a3c264cd_f37f_11eb_8a8a_f82819b59abcrow9_col0\" class=\"data row9 col0\" >0.14</td>\n",
       "                        <td id=\"T_a3c264cd_f37f_11eb_8a8a_f82819b59abcrow9_col1\" class=\"data row9 col1\" >0.08</td>\n",
       "                        <td id=\"T_a3c264cd_f37f_11eb_8a8a_f82819b59abcrow9_col2\" class=\"data row9 col2\" >0.06</td>\n",
       "                        <td id=\"T_a3c264cd_f37f_11eb_8a8a_f82819b59abcrow9_col3\" class=\"data row9 col3\" >0.00</td>\n",
       "                        <td id=\"T_a3c264cd_f37f_11eb_8a8a_f82819b59abcrow9_col4\" class=\"data row9 col4\" >-0.04</td>\n",
       "                        <td id=\"T_a3c264cd_f37f_11eb_8a8a_f82819b59abcrow9_col5\" class=\"data row9 col5\" >0.14</td>\n",
       "                        <td id=\"T_a3c264cd_f37f_11eb_8a8a_f82819b59abcrow9_col6\" class=\"data row9 col6\" >0.04</td>\n",
       "                        <td id=\"T_a3c264cd_f37f_11eb_8a8a_f82819b59abcrow9_col7\" class=\"data row9 col7\" >0.04</td>\n",
       "                        <td id=\"T_a3c264cd_f37f_11eb_8a8a_f82819b59abcrow9_col8\" class=\"data row9 col8\" >0.29</td>\n",
       "                        <td id=\"T_a3c264cd_f37f_11eb_8a8a_f82819b59abcrow9_col9\" class=\"data row9 col9\" >1.00</td>\n",
       "                        <td id=\"T_a3c264cd_f37f_11eb_8a8a_f82819b59abcrow9_col10\" class=\"data row9 col10\" >-0.01</td>\n",
       "                        <td id=\"T_a3c264cd_f37f_11eb_8a8a_f82819b59abcrow9_col11\" class=\"data row9 col11\" >0.15</td>\n",
       "                        <td id=\"T_a3c264cd_f37f_11eb_8a8a_f82819b59abcrow9_col12\" class=\"data row9 col12\" >-0.19</td>\n",
       "            </tr>\n",
       "            <tr>\n",
       "                        <th id=\"T_a3c264cd_f37f_11eb_8a8a_f82819b59abclevel0_row10\" class=\"row_heading level0 row10\" >S27</th>\n",
       "                        <td id=\"T_a3c264cd_f37f_11eb_8a8a_f82819b59abcrow10_col0\" class=\"data row10 col0\" >-0.07</td>\n",
       "                        <td id=\"T_a3c264cd_f37f_11eb_8a8a_f82819b59abcrow10_col1\" class=\"data row10 col1\" >-0.03</td>\n",
       "                        <td id=\"T_a3c264cd_f37f_11eb_8a8a_f82819b59abcrow10_col2\" class=\"data row10 col2\" >0.02</td>\n",
       "                        <td id=\"T_a3c264cd_f37f_11eb_8a8a_f82819b59abcrow10_col3\" class=\"data row10 col3\" >-0.03</td>\n",
       "                        <td id=\"T_a3c264cd_f37f_11eb_8a8a_f82819b59abcrow10_col4\" class=\"data row10 col4\" >-0.10</td>\n",
       "                        <td id=\"T_a3c264cd_f37f_11eb_8a8a_f82819b59abcrow10_col5\" class=\"data row10 col5\" >0.09</td>\n",
       "                        <td id=\"T_a3c264cd_f37f_11eb_8a8a_f82819b59abcrow10_col6\" class=\"data row10 col6\" >0.10</td>\n",
       "                        <td id=\"T_a3c264cd_f37f_11eb_8a8a_f82819b59abcrow10_col7\" class=\"data row10 col7\" >0.09</td>\n",
       "                        <td id=\"T_a3c264cd_f37f_11eb_8a8a_f82819b59abcrow10_col8\" class=\"data row10 col8\" >0.09</td>\n",
       "                        <td id=\"T_a3c264cd_f37f_11eb_8a8a_f82819b59abcrow10_col9\" class=\"data row10 col9\" >-0.01</td>\n",
       "                        <td id=\"T_a3c264cd_f37f_11eb_8a8a_f82819b59abcrow10_col10\" class=\"data row10 col10\" >1.00</td>\n",
       "                        <td id=\"T_a3c264cd_f37f_11eb_8a8a_f82819b59abcrow10_col11\" class=\"data row10 col11\" >-0.05</td>\n",
       "                        <td id=\"T_a3c264cd_f37f_11eb_8a8a_f82819b59abcrow10_col12\" class=\"data row10 col12\" >-0.05</td>\n",
       "            </tr>\n",
       "            <tr>\n",
       "                        <th id=\"T_a3c264cd_f37f_11eb_8a8a_f82819b59abclevel0_row11\" class=\"row_heading level0 row11\" >S28</th>\n",
       "                        <td id=\"T_a3c264cd_f37f_11eb_8a8a_f82819b59abcrow11_col0\" class=\"data row11 col0\" >0.21</td>\n",
       "                        <td id=\"T_a3c264cd_f37f_11eb_8a8a_f82819b59abcrow11_col1\" class=\"data row11 col1\" >0.06</td>\n",
       "                        <td id=\"T_a3c264cd_f37f_11eb_8a8a_f82819b59abcrow11_col2\" class=\"data row11 col2\" >0.00</td>\n",
       "                        <td id=\"T_a3c264cd_f37f_11eb_8a8a_f82819b59abcrow11_col3\" class=\"data row11 col3\" >-0.02</td>\n",
       "                        <td id=\"T_a3c264cd_f37f_11eb_8a8a_f82819b59abcrow11_col4\" class=\"data row11 col4\" >-0.07</td>\n",
       "                        <td id=\"T_a3c264cd_f37f_11eb_8a8a_f82819b59abcrow11_col5\" class=\"data row11 col5\" >0.24</td>\n",
       "                        <td id=\"T_a3c264cd_f37f_11eb_8a8a_f82819b59abcrow11_col6\" class=\"data row11 col6\" >0.07</td>\n",
       "                        <td id=\"T_a3c264cd_f37f_11eb_8a8a_f82819b59abcrow11_col7\" class=\"data row11 col7\" >-0.10</td>\n",
       "                        <td id=\"T_a3c264cd_f37f_11eb_8a8a_f82819b59abcrow11_col8\" class=\"data row11 col8\" >0.00</td>\n",
       "                        <td id=\"T_a3c264cd_f37f_11eb_8a8a_f82819b59abcrow11_col9\" class=\"data row11 col9\" >0.15</td>\n",
       "                        <td id=\"T_a3c264cd_f37f_11eb_8a8a_f82819b59abcrow11_col10\" class=\"data row11 col10\" >-0.05</td>\n",
       "                        <td id=\"T_a3c264cd_f37f_11eb_8a8a_f82819b59abcrow11_col11\" class=\"data row11 col11\" >1.00</td>\n",
       "                        <td id=\"T_a3c264cd_f37f_11eb_8a8a_f82819b59abcrow11_col12\" class=\"data row11 col12\" >-0.24</td>\n",
       "            </tr>\n",
       "            <tr>\n",
       "                        <th id=\"T_a3c264cd_f37f_11eb_8a8a_f82819b59abclevel0_row12\" class=\"row_heading level0 row12\" >S29</th>\n",
       "                        <td id=\"T_a3c264cd_f37f_11eb_8a8a_f82819b59abcrow12_col0\" class=\"data row12 col0\" >-0.14</td>\n",
       "                        <td id=\"T_a3c264cd_f37f_11eb_8a8a_f82819b59abcrow12_col1\" class=\"data row12 col1\" >0.19</td>\n",
       "                        <td id=\"T_a3c264cd_f37f_11eb_8a8a_f82819b59abcrow12_col2\" class=\"data row12 col2\" >0.14</td>\n",
       "                        <td id=\"T_a3c264cd_f37f_11eb_8a8a_f82819b59abcrow12_col3\" class=\"data row12 col3\" >-0.07</td>\n",
       "                        <td id=\"T_a3c264cd_f37f_11eb_8a8a_f82819b59abcrow12_col4\" class=\"data row12 col4\" >0.12</td>\n",
       "                        <td id=\"T_a3c264cd_f37f_11eb_8a8a_f82819b59abcrow12_col5\" class=\"data row12 col5\" >-0.30</td>\n",
       "                        <td id=\"T_a3c264cd_f37f_11eb_8a8a_f82819b59abcrow12_col6\" class=\"data row12 col6\" >-0.12</td>\n",
       "                        <td id=\"T_a3c264cd_f37f_11eb_8a8a_f82819b59abcrow12_col7\" class=\"data row12 col7\" >0.06</td>\n",
       "                        <td id=\"T_a3c264cd_f37f_11eb_8a8a_f82819b59abcrow12_col8\" class=\"data row12 col8\" >-0.02</td>\n",
       "                        <td id=\"T_a3c264cd_f37f_11eb_8a8a_f82819b59abcrow12_col9\" class=\"data row12 col9\" >-0.19</td>\n",
       "                        <td id=\"T_a3c264cd_f37f_11eb_8a8a_f82819b59abcrow12_col10\" class=\"data row12 col10\" >-0.05</td>\n",
       "                        <td id=\"T_a3c264cd_f37f_11eb_8a8a_f82819b59abcrow12_col11\" class=\"data row12 col11\" >-0.24</td>\n",
       "                        <td id=\"T_a3c264cd_f37f_11eb_8a8a_f82819b59abcrow12_col12\" class=\"data row12 col12\" >1.00</td>\n",
       "            </tr>\n",
       "    </tbody></table>"
      ],
      "text/plain": [
       "<pandas.io.formats.style.Styler at 0x12ef08cdb20>"
      ]
     },
     "execution_count": 64,
     "metadata": {},
     "output_type": "execute_result"
    }
   ],
   "source": [
    "df_m = df2.corr(method ='spearman')\n",
    "df_m.style.background_gradient(cmap='rainbow').set_precision(2).set_caption('method Spearman')"
   ]
  },
  {
   "cell_type": "code",
   "execution_count": 65,
   "metadata": {},
   "outputs": [
    {
     "data": {
      "text/plain": [
       "<seaborn.axisgrid.JointGrid at 0x12ef1d4f2e0>"
      ]
     },
     "execution_count": 65,
     "metadata": {},
     "output_type": "execute_result"
    },
    {
     "data": {
      "image/png": "[encoded data removed]",
      "text/plain": [
       "<Figure size 432x432 with 3 Axes>"
      ]
     },
     "metadata": {
      "needs_background": "light"
     },
     "output_type": "display_data"
    }
   ],
   "source": [
    "sns.jointplot(x=\"S13\", y=\"S20\", height=6, dropna=True, data=df2, kind='reg')"
   ]
  },
  {
   "cell_type": "raw",
   "metadata": {},
   "source": [
    "имеется корреляция (минус 1.00) между S13 'studytime' и S20 'studitime granular'\n",
    "поэтому один из этих столбцов можно удалить"
   ]
  },
  {
   "cell_type": "markdown",
   "metadata": {},
   "source": [
    "#### корреляция между целевым и числовыми параметрами"
   ]
  },
  {
   "cell_type": "code",
   "execution_count": 66,
   "metadata": {
    "scrolled": false
   },
   "outputs": [
    {
     "name": "stdout",
     "output_type": "stream",
     "text": [
      "S29    1.00\n",
      "S14    0.30\n",
      "S28    0.24\n",
      "S26    0.19\n",
      "S06    0.19\n",
      "S07    0.14\n",
      "S02    0.14\n",
      "S20    0.12\n",
      "Name: S29, dtype: float64\n"
     ]
    }
   ],
   "source": [
    "df_m = df2.corr(method ='spearman')\n",
    "most_correlated = df_m.abs()['S29'].sort_values(ascending=False)\n",
    "print(most_correlated.head(8).round(2))"
   ]
  },
  {
   "cell_type": "code",
   "execution_count": 67,
   "metadata": {
    "scrolled": true
   },
   "outputs": [
    {
     "name": "stdout",
     "output_type": "stream",
     "text": [
      "S29    1.00\n",
      "S14    0.29\n",
      "S28    0.21\n",
      "S06    0.19\n",
      "S26    0.18\n",
      "S20    0.14\n",
      "S13    0.14\n",
      "S07    0.14\n",
      "Name: S29, dtype: float64\n"
     ]
    }
   ],
   "source": [
    "df_m = df2.corr(method ='pearson')\n",
    "most_correlated = df_m.abs()['S29'].sort_values(ascending=False)\n",
    "print(most_correlated.head(8).round(2))"
   ]
  },
  {
   "cell_type": "code",
   "execution_count": 68,
   "metadata": {
    "scrolled": true
   },
   "outputs": [
    {
     "name": "stdout",
     "output_type": "stream",
     "text": [
      "S29    1.00\n",
      "S14    0.35\n",
      "S06    0.22\n",
      "S02    0.16\n",
      "S26    0.16\n",
      "S07    0.15\n",
      "S20    0.12\n",
      "S13    0.12\n",
      "Name: S29, dtype: float64\n"
     ]
    }
   ],
   "source": [
    "df_m = df1.corr(method ='spearman')  # если брать все значения S29 'score' включая нулевые отметки\n",
    "most_correlated = df_m.abs()['S29'].sort_values(ascending=False)\n",
    "print(most_correlated.head(8).round(2))"
   ]
  },
  {
   "cell_type": "code",
   "execution_count": 69,
   "metadata": {},
   "outputs": [
    {
     "name": "stdout",
     "output_type": "stream",
     "text": [
      "S29    1.00\n",
      "S14    0.34\n",
      "S06    0.21\n",
      "S02    0.16\n",
      "S07    0.13\n",
      "S26    0.13\n",
      "S13    0.12\n",
      "S20    0.12\n",
      "Name: S29, dtype: float64\n"
     ]
    }
   ],
   "source": [
    "df_m = df1.corr(method ='pearson')  # если брать все значения S29 'score' включая нулевые отметки\n",
    "most_correlated = df_m.abs()['S29'].sort_values(ascending=False)\n",
    "print(most_correlated.head(8).round(2))"
   ]
  },
  {
   "cell_type": "markdown",
   "metadata": {},
   "source": [
    "#### ВЫВОД 1: среди количественных следует отобрать 4 параметра\n",
    "#### S14 'failures', S28 'absences', S06 'Medu', S13 'studytime'   "
   ]
  },
  {
   "cell_type": "markdown",
   "metadata": {},
   "source": [
    "### 06. анализ всех номинативных столбцов"
   ]
  },
  {
   "cell_type": "code",
   "execution_count": 70,
   "metadata": {},
   "outputs": [],
   "source": [
    "num_list = ['S02', 'S06', 'S07', 'S12', 'S13', 'S14', 'S20', \n",
    "                'S24', 'S25', 'S26', 'S27', 'S28']  # названия количественных столбцов"
   ]
  },
  {
   "cell_type": "code",
   "execution_count": 71,
   "metadata": {},
   "outputs": [],
   "source": [
    "df4 = df2.drop(num_list, axis=1)  # новый df4 содержит только номинативные столбцы"
   ]
  },
  {
   "cell_type": "code",
   "execution_count": 72,
   "metadata": {},
   "outputs": [],
   "source": [
    "cat_list1 = ['S08', 'S09', 'S10', 'S11']   # список номинативных НЕ бинарных столбцов"
   ]
  },
  {
   "cell_type": "code",
   "execution_count": 73,
   "metadata": {},
   "outputs": [],
   "source": [
    "def show_boxplot(column):\n",
    "    fig, ax = plt.subplots(figsize = (14, 4))\n",
    "    sns.boxplot(x=column, y='S29', \n",
    "                data=df4.loc[df4.loc[:, column].isin(df4.loc[:, column].value_counts().index[:10])],\n",
    "               ax=ax)\n",
    "    plt.xticks(rotation=45)\n",
    "    ax.set_title('Boxplot for ' + column)\n",
    "    plt.show()"
   ]
  },
  {
   "cell_type": "code",
   "execution_count": 74,
   "metadata": {
    "scrolled": true
   },
   "outputs": [
    {
     "data": {
      "image/png": "[encoded data removed]",
      "text/plain": [
       "<Figure size 1008x288 with 1 Axes>"
      ]
     },
     "metadata": {
      "needs_background": "light"
     },
     "output_type": "display_data"
    },
    {
     "data": {
      "image/png": "[encoded data removed]",
      "text/plain": [
       "<Figure size 1008x288 with 1 Axes>"
      ]
     },
     "metadata": {
      "needs_background": "light"
     },
     "output_type": "display_data"
    },
    {
     "data": {
      "image/png": "[encoded data removed]",
      "text/plain": [
       "<Figure size 1008x288 with 1 Axes>"
      ]
     },
     "metadata": {
      "needs_background": "light"
     },
     "output_type": "display_data"
    },
    {
     "data": {
      "image/png": "[encoded data removed]",
      "text/plain": [
       "<Figure size 1008x288 with 1 Axes>"
      ]
     },
     "metadata": {
      "needs_background": "light"
     },
     "output_type": "display_data"
    }
   ],
   "source": [
    "for col in cat_list1:   # оценка номинативных НЕ бинарных столбцов\n",
    "    show_boxplot(col)"
   ]
  },
  {
   "cell_type": "markdown",
   "metadata": {},
   "source": [
    "#### явного влияния на целевой показатель нет, есть небольшое в столбце S09 'Fjob' (teacher)"
   ]
  },
  {
   "cell_type": "markdown",
   "metadata": {},
   "source": [
    "#### тест Стьюдента"
   ]
  },
  {
   "cell_type": "code",
   "execution_count": 75,
   "metadata": {},
   "outputs": [],
   "source": [
    "def get_stat_dif(column):\n",
    "    cols = df4.loc[:, column].value_counts().index[:10]\n",
    "    combinations_all = list(combinations(cols, 2))\n",
    "    for comb in combinations_all:\n",
    "        if ttest_ind(df4.loc[df4.loc[:, column] == comb[0], 'S29'], \n",
    "                        df4.loc[df4.loc[:, column] == comb[1], 'S29']).pvalue \\\n",
    "            <= 0.05/len(combinations_all): # Учли поправку Бонферони\n",
    "            print('Найдены статистически значимые различия для колонки = ', column)\n",
    "            break"
   ]
  },
  {
   "cell_type": "code",
   "execution_count": 76,
   "metadata": {},
   "outputs": [],
   "source": [
    "cat_list3 = df4.columns.tolist()  # список ВСЕХ номинативных столбцов"
   ]
  },
  {
   "cell_type": "code",
   "execution_count": 77,
   "metadata": {
    "scrolled": true
   },
   "outputs": [
    {
     "name": "stdout",
     "output_type": "stream",
     "text": [
      "Найдены статистически значимые различия для колонки =  S03\n",
      "Найдены статистически значимые различия для колонки =  S08\n",
      "Найдены статистически значимые различия для колонки =  S09\n",
      "Найдены статистически значимые различия для колонки =  S15\n",
      "Найдены статистически значимые различия для колонки =  S29\n"
     ]
    }
   ],
   "source": [
    "for col in cat_list3:   # Т-тест для ВСЕХ номинативных столбцов\n",
    "    get_stat_dif(col)"
   ]
  },
  {
   "cell_type": "markdown",
   "metadata": {},
   "source": [
    "#### предварительно отобраны 4 лучших среди ВСЕХ номинативных параметров по t-test :\n",
    "#### S15 'schoolsup', S03 'address', S08 'Mjob', S09 'Fjob'"
   ]
  },
  {
   "cell_type": "markdown",
   "metadata": {},
   "source": [
    "### 07. анализ данных в номинативных бинарных столбцах"
   ]
  },
  {
   "cell_type": "code",
   "execution_count": 78,
   "metadata": {},
   "outputs": [],
   "source": [
    "df3 = df2[['S29', 'S00', 'S01', 'S03', 'S04', 'S05', 'S15', 'S16', 'S17', 'S18', 'S19', \n",
    "          'S21', 'S22', 'S23']].copy()  # df3 = только номинативные бинарные параметры"
   ]
  },
  {
   "cell_type": "code",
   "execution_count": 79,
   "metadata": {},
   "outputs": [
    {
     "name": "stdout",
     "output_type": "stream",
     "text": [
      "['S00', 'S01', 'S03', 'S04', 'S05', 'S15', 'S16', 'S17', 'S18', 'S19', 'S21', 'S22', 'S23']\n"
     ]
    }
   ],
   "source": [
    "cat_list2 = df3.columns.tolist()\n",
    "cat_list2.remove('S29') # удаляем целевую переменную из списка\n",
    "print(cat_list2)"
   ]
  },
  {
   "cell_type": "raw",
   "metadata": {},
   "source": [
    "используем метод Point Biserial, будем сравнивать столбцы папарно (целевой и номинативный),\n",
    "перед этим удалим пустые значения из номинативных"
   ]
  },
  {
   "cell_type": "markdown",
   "metadata": {},
   "source": [
    "#### вычисление point biserial correlation coefficient"
   ]
  },
  {
   "cell_type": "code",
   "execution_count": 80,
   "metadata": {},
   "outputs": [],
   "source": [
    "def bs_cor(col):  # point biserial correlation\n",
    "    df_temp = df3[['S29', col]].copy()\n",
    "    df_temp.dropna(inplace=True)\n",
    "    df_temp.iloc[:, 1] = pd.Categorical(df_temp.iloc[:, 1])\n",
    "    df_temp.iloc[:, 1] = pd.factorize(df_temp.iloc[:, 1], sort=True)[0]\n",
    "    bs = stats.pointbiserialr(df_temp.iloc[:, 1], df_temp['S29'])\n",
    "    bsc = bs.correlation.round(3)\n",
    "    print(col, bsc)"
   ]
  },
  {
   "cell_type": "code",
   "execution_count": 81,
   "metadata": {
    "scrolled": true
   },
   "outputs": [
    {
     "name": "stdout",
     "output_type": "stream",
     "text": [
      "S00 -0.078\n",
      "S01 0.102\n",
      "S03 0.138\n",
      "S04 0.025\n",
      "S05 -0.017\n",
      "S15 -0.25\n",
      "S16 -0.047\n",
      "S17 -0.022\n",
      "S18 0.06\n",
      "S19 0.03\n",
      "S21 0.105\n",
      "S22 0.068\n",
      "S23 -0.062\n"
     ]
    }
   ],
   "source": [
    "for x in cat_list2:\n",
    "    bs_cor(x)"
   ]
  },
  {
   "cell_type": "markdown",
   "metadata": {},
   "source": [
    "#### предварительно отобраны 4 лучших среди номинативных бинарных столбцах по biserial:\n",
    "#### S15 'schoolsup', S03 'address', S21 'higher', S01 'sex'"
   ]
  },
  {
   "cell_type": "markdown",
   "metadata": {},
   "source": [
    "#### окончательный выбор 4-х лучших из всех номинативных:\n",
    "#### S15 'schoolsup', S03 'address', S09 'Fjob', S21 'higher'"
   ]
  },
  {
   "cell_type": "markdown",
   "metadata": {},
   "source": [
    "### 8. выводы: самые важные параметры, которые предлагается использовать в дальнейшем для построения модели,\n",
    "### 'failures',  'absences',  'Medu',  'studytime',  'schoolsup',  'address',  'Fjob',  'higher'"
   ]
  },
  {
   "cell_type": "code",
   "execution_count": 82,
   "metadata": {},
   "outputs": [],
   "source": [
    "df_for_model = df2.loc[:,['S14', 'S28', 'S06', 'S13', 'S15', 'S03', 'S09', 'S21']]"
   ]
  }
 ],
 "metadata": {
  "kernelspec": {
   "display_name": "Python 3",
   "language": "python",
   "name": "python3"
  },
  "language_info": {
   "codemirror_mode": {
    "name": "ipython",
    "version": 3
   },
   "file_extension": ".py",
   "mimetype": "text/x-python",
   "name": "python",
   "nbconvert_exporter": "python",
   "pygments_lexer": "ipython3",
   "version": "3.8.5"
  }
 },
 "nbformat": 4,
 "nbformat_minor": 4
}
