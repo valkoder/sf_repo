{
 "cells": [
  {
   "cell_type": "markdown",
   "metadata": {},
   "source": [
    "###  Дмитрий МАРЬИН   group dspr-48  \n",
    "#### Юнит 4. Работа с базами данных. SQL - Проект 4. Авиарейсы без потерь (**RDS_05**)  \n",
    "____"
   ]
  },
  {
   "cell_type": "raw",
   "metadata": {},
   "source": [
    "Задание 4.1 База данных содержит список аэропортов практически всех крупных городов России. В большинстве городов есть только один аэропорт. Исключение составляет:\n",
    "\n",
    "SELECT ap.city, COUNT(ap.city) AS port_num\n",
    "FROM dst_project.airports AS ap\n",
    "GROUP BY ap.city\n",
    "HAVING COUNT(ap.city) > 1\n",
    "ORDER BY port_num DESC;"
   ]
  },
  {
   "cell_type": "raw",
   "metadata": {},
   "source": [
    "Задание 4.2 Вопрос 1. Таблица рейсов содержит всю информацию о прошлых, текущих и запланированных рейсах. Сколько всего статусов для рейсов определено в таблице? => 6\n",
    "\n",
    "SELECT COUNT(DISTINCT f.status)\n",
    "FROM dst_project.flights AS f;"
   ]
  },
  {
   "cell_type": "raw",
   "metadata": {},
   "source": [
    "Задание 4.2 Вопрос 2. Какое количество самолетов находятся в воздухе на момент среза в базе (статус рейса «самолёт уже вылетел и находится в воздухе» = 'Departed'). => 58\n",
    "\n",
    "SELECT COUNT (f.flight_id)\n",
    "FROM dst_project.flights AS f\n",
    "WHERE f.status = 'Departed';"
   ]
  },
  {
   "cell_type": "raw",
   "metadata": {},
   "source": [
    "Задание 4.2 Вопрос 3. Места определяют схему салона каждой модели. Сколько мест имеет самолет модели 773 (Boeing 777-300)?  => 402\n",
    "\n",
    "SELECT COUNT(s.seat_no)\n",
    "FROM dst_project.seats AS s\n",
    "WHERE s.aircraft_code = '773';"
   ]
  },
  {
   "cell_type": "raw",
   "metadata": {},
   "source": [
    "Вопрос 4.2 Вопрос 4. Сколько состоявшихся (фактических) рейсов было совершено между 1 апреля 2017 года и 1 сентября 2017 года? Здесь и далее состоявшийся рейс означает, что он не отменён, и самолёт прибыл в пункт назначения. => 74227\n",
    "\n",
    "SELECT COUNT(*)\n",
    "FROM dst_project.flights AS f\n",
    "WHERE f.status = 'Arrived'\n",
    "  AND f.actual_arrival BETWEEN '2017-04-01' AND '2017-09-01';"
   ]
  },
  {
   "cell_type": "raw",
   "metadata": {},
   "source": [
    "Задание 4.3 Вопрос 1. Сколько всего рейсов было отменено по данным базы? => 437\n",
    "\n",
    "SELECT COUNT(*)\n",
    "FROM dst_project.flights AS f\n",
    "WHERE f.status = 'Cancelled';"
   ]
  },
  {
   "cell_type": "raw",
   "metadata": {},
   "source": [
    "Задание 4.3 Вопрос 2. Сколько самолетов моделей типа Boeing, Sukhoi Superjet, Airbus находится в базе авиаперевозок?  => 3, 1, 3 Комментарий - интересно было решить не используя UNION ALL:\n",
    "\n",
    "SELECT COUNT(DISTINCT ac1.model) AS \"Boeing\",\n",
    "       COUNT(DISTINCT ac2.model) AS \"Sukhoi Superjet\",\n",
    "       COUNT(DISTINCT ac3.model) AS \"Airbus\"\n",
    "FROM dst_project.aircrafts AS ac1,\n",
    "     dst_project.aircrafts AS ac2,\n",
    "     dst_project.aircrafts AS ac3\n",
    "WHERE ac1.model LIKE 'Boeing%'\n",
    "  AND ac2.model LIKE 'Sukhoi Superjet%'\n",
    "  AND ac3.model LIKE 'Airbus%';"
   ]
  },
  {
   "cell_type": "raw",
   "metadata": {},
   "source": [
    "Задание 4.3 Вопрос 3. В какой части (частях) света находится больше аэропортов?\n",
    "\n",
    "SELECT UPPER(LEFT(ap.timezone, 3)) AS \"Region\",\n",
    "COUNT(LEFT(ap.timezone, 3)) AS \"Number of airports \"\n",
    "FROM dst_project.airports AS ap\n",
    "GROUP BY \"Region\";"
   ]
  },
  {
   "cell_type": "raw",
   "metadata": {},
   "source": [
    "Задание 4.3 Вопрос 4. У какого рейса была самая большая задержка прибытия за все время сбора данных? Введите id рейса (flight_id). => 157571  (> 5 hours)\n",
    "  \n",
    "SELECT f.flight_id,\n",
    "       (f.actual_arrival - f.scheduled_arrival) AS delay\n",
    "FROM dst_project.flights AS f\n",
    "WHERE f.status = 'Arrived'\n",
    "ORDER BY delay DESC\n",
    "LIMIT 1;"
   ]
  },
  {
   "cell_type": "raw",
   "metadata": {},
   "source": [
    "Задание 4.4 Вопрос 1. Когда был запланирован самый первый вылет, сохраненный в базе данных?    => 14.08.2016\n",
    "\n",
    "SELECT scheduled_departure\n",
    "FROM dst_project.flights AS f\n",
    "ORDER BY scheduled_departure ASC\n",
    "LIMIT 1;"
   ]
  },
  {
   "cell_type": "raw",
   "metadata": {},
   "source": [
    "Задание 4.4 Вопрос 2. Сколько минут составляет запланированное время полета в самом длительном рейсе? ==> 530\n",
    "\n",
    "SELECT (f.scheduled_arrival - f.scheduled_departure) AS flight_duration, \n",
    "EXTRACT(HOUR FROM (f.scheduled_arrival - f.scheduled_departure)) * 60 \n",
    "+ EXTRACT(MINUTE FROM (f.scheduled_arrival - f.scheduled_departure)) AS flight_duration_in_minutes\n",
    "\n",
    "FROM dst_project.flights AS f\n",
    "ORDER BY flight_duration DESC\n",
    "LIMIT 1;"
   ]
  },
  {
   "cell_type": "raw",
   "metadata": {},
   "source": [
    "Задание 4.4 Вопрос 3. Между какими аэропортами пролегает самый длительный по времени запланированный рейс?  => DME to UUS (PG0168)\n",
    "\n",
    "SELECT f.flight_no,\n",
    "    departure_airport,\n",
    "    arrival_airport,\n",
    "    (f.scheduled_arrival - f.scheduled_departure) AS duration\n",
    "FROM dst_project.flights AS f\n",
    "ORDER BY duration DESC\n",
    "LIMIT 1;"
   ]
  },
  {
   "cell_type": "raw",
   "metadata": {},
   "source": [
    "Задание 4.4 Вопрос 4. Сколько составляет средняя дальность полета среди всех самолетов в минутах? Секунды округляются в меньшую сторону (отбрасываются до минут).   ==> 128.36\n",
    "\n",
    "SELECT\n",
    "AVG(\n",
    "EXTRACT(HOUR FROM (f.scheduled_arrival - f.scheduled_departure)) * 60 + EXTRACT(MINUTE FROM (f.scheduled_arrival - f.scheduled_departure))\n",
    ")\n",
    "FROM dst_project.flights AS f;\n",
    "\n",
    "-- or variant using aliases (более читабельный)\n",
    "SELECT AVG(flight_duration)\n",
    "FROM (\n",
    "      SELECT EXTRACT(HOUR FROM (f.scheduled_arrival - f.scheduled_departure)) * 60 \n",
    "         + EXTRACT(MINUTE FROM (f.scheduled_arrival - f.scheduled_departure)) \n",
    "         AS flight_duration\n",
    "      FROM dst_project.flights AS f) AS dummy;"
   ]
  },
  {
   "cell_type": "raw",
   "metadata": {},
   "source": [
    "Задание 4.5 Вопрос 1. Мест какого класса у SU9 больше всего? => Economy (85)\n",
    "\n",
    "SELECT s.fare_conditions AS seat_type, COUNT(s.fare_conditions) as seat_qty\n",
    "FROM dst_project.seats AS s\n",
    "WHERE s.aircraft_code = 'SU9'\n",
    "GROUP BY seat_type\n",
    "ORDER BY seat_qty DESC\n",
    "LIMIT 1;"
   ]
  },
  {
   "cell_type": "raw",
   "metadata": {},
   "source": [
    "Задание 4.5 Вопрос 2. Какую самую минимальную стоимость составило бронирование за всю историю?  => 3400\n",
    "\n",
    "SELECT MIN(b.total_amount)\n",
    "FROM dst_project.bookings AS b;"
   ]
  },
  {
   "cell_type": "raw",
   "metadata": {},
   "source": [
    "Задание 4.5 Вопрос 3. Какой номер места был у пассажира с id = 4313 788533?\n",
    "=> 2A\n",
    "\n",
    "SELECT p.seat_no\n",
    "FROM dst_project.boarding_passes AS p\n",
    "INNER JOIN dst_project.tickets AS t\n",
    "ON t.ticket_no = p.ticket_no \n",
    "WHERE t.passenger_id = '4313 788533';\n",
    "\n",
    "-- альтернативный вариант (subquery)\n",
    "SELECT p.seat_no\n",
    "FROM (\n",
    "    SELECT t.ticket_no AS tnum_selected_to_use\n",
    "    FROM dst_project.tickets AS t\n",
    "    WHERE t.passenger_id = '4313 788533'\n",
    "    ) AS dummy\n",
    "INNER JOIN dst_project.boarding_passes AS p\n",
    "ON tnum_selected_to_use = p.ticket_no;"
   ]
  },
  {
   "cell_type": "raw",
   "metadata": {},
   "source": [
    "Задание 5.1 Вопрос 1. Анапа — курортный город на юге России. Сколько рейсов прибыло в Анапу за 2017 год?  => 486\n",
    "\n",
    "SELECT COUNT(*)\n",
    "FROM (\n",
    "    SELECT ap.airport_code AS \"Anapa IATA code\"\n",
    "        FROM dst_project.airports AS ap\n",
    "        WHERE UPPER(ap.city) LIKE 'ANAPA%'   --<<< city name here\n",
    "        ) AS dummy_query_name,\n",
    "    dst_project.flights AS f\n",
    "WHERE f.arrival_airport = \"Anapa IATA code\"\n",
    "    AND f.status = 'Arrived'\n",
    "    AND EXTRACT(YEAR FROM actual_arrival) IN (2017);"
   ]
  },
  {
   "cell_type": "raw",
   "metadata": {},
   "source": [
    "Задание 5.1 Вопрос 2. Сколько рейсов из Анапы вылетело зимой 2017 года?\n",
    "Если считать ДЕК2016 + ЯНВ2017 + ФЕВ2017 => 193,\n",
    "если считать ЯНВ2017 + ФЕВ2017 => 127 (правильный ответ)\n",
    "\n",
    "SELECT COUNT(*)\n",
    "FROM (SELECT ap.airport_code AS \"Anapa IATA code\"\n",
    "        FROM dst_project.airports AS ap\n",
    "        WHERE UPPER(ap.city) LIKE 'ANAPA%') AS dummy,\n",
    "    dst_project.flights AS f\n",
    "WHERE f.departure_airport = \"Anapa IATA code\"\n",
    "    AND f.actual_departure BETWEEN '2017-01-01' AND '2017-03-01';"
   ]
  },
  {
   "cell_type": "raw",
   "metadata": {},
   "source": [
    "Задание 5.1 Вопрос 3. Посчитайте количество отмененных рейсов из Анапы за все время.  => 1 рейс\n",
    "\n",
    "SELECT COUNT(*)\n",
    "FROM (SELECT ap.airport_code AS \"Anapa IATA code\"\n",
    "        FROM dst_project.airports AS ap\n",
    "        WHERE UPPER(ap.city) LIKE 'ANAPA%') AS dummy,\n",
    "    dst_project.flights AS f\n",
    "WHERE  f.arrival_airport = \"Anapa IATA code\"\n",
    "    AND f.status = 'Cancelled';"
   ]
  },
  {
   "cell_type": "raw",
   "metadata": {},
   "source": [
    "Задание 5.1 Вопрос 4. Сколько рейсов из Анапы не летают в Москву?  => 453\n",
    "\n",
    "SELECT COUNT(f.flight_id)\n",
    "FROM dst_project.flights AS f\n",
    "WHERE f.departure_airport IN\n",
    "        (SELECT ap.airport_code AS \"Anapa IATA code\"\n",
    "              FROM dst_project.airports AS ap\n",
    "              WHERE UPPER(ap.city) LIKE 'ANAPA%')\n",
    "        AND f.arrival_airport NOT IN \n",
    "            (SELECT ap.airport_code AS \"Moscow IATA codes\"\n",
    "               FROM dst_project.airports AS ap\n",
    "               WHERE UPPER(ap.city) LIKE 'MOSCOW%')    "
   ]
  },
  {
   "cell_type": "raw",
   "metadata": {},
   "source": [
    "Задание 5.1 Вопрос 5. Какая модель самолета летящего на рейсах из Анапы имеет больше всего мест?\n",
    "=> Boeing 737-300\n",
    "\n",
    "SELECT ac.model, COUNT(s.seat_no)\n",
    "FROM dst_project.seats AS s\n",
    "JOIN dst_project.aircrafts AS ac\n",
    "    ON ac.aircraft_code = s.aircraft_code\n",
    "WHERE s.aircraft_code IN\n",
    "    (SELECT DISTINCT f.aircraft_code\n",
    "        FROM dst_project.flights AS f\n",
    "        WHERE f.departure_airport = \n",
    "            (SELECT ap.airport_code\n",
    "              FROM dst_project.airports AS ap\n",
    "              WHERE LEFT(ap.city, 5) = 'Anapa'))\n",
    "GROUP BY ac.model\n",
    "ORDER BY 1\n",
    "LIMIT 1;"
   ]
  },
  {
   "cell_type": "markdown",
   "metadata": {},
   "source": [
    "### 1. Получение параметров (ключей) для  последующего основного запроса"
   ]
  },
  {
   "cell_type": "raw",
   "metadata": {},
   "source": [
    "Общая оценка КОММЕРЧЕСКИХ рейсов из Анапы: направления, типы ВС, типы тарифов, выручка\n",
    "ПРИМЕЧАНИЕ: имеющиеся в базе рейсы в Новокузнецк не коммерческие, учитываться не будут.\n",
    "\n",
    "SELECT DISTINCT f.flight_no, f.aircraft_code, ac.model,\n",
    "    f.arrival_airport, ap.city, tf.fare_conditions, --<< класс салона\n",
    "    COUNT(tf.ticket_no) AS pax, --<<< общее число пассажиров\n",
    "    SUM(tf.amount) AS revenue    --<<< доход от продажи билетов\n",
    "FROM dst_project.ticket_flights AS tf\n",
    "INNER JOIN dst_project.flights AS f\n",
    "    ON tf.flight_id = f.flight_id\n",
    "INNER JOIN dst_project.airports AS ap\n",
    "    ON f.arrival_airport = ap.airport_code\n",
    "INNER JOIN dst_project.aircrafts AS ac\n",
    "    ON f.aircraft_code = ac.aircraft_code\n",
    "WHERE departure_airport = 'AAQ'\n",
    "    AND f.scheduled_departure BETWEEN '2016-12-01' AND '2017-03-01'\n",
    "    AND f.status not in ('Cancelled')\n",
    "GROUP BY f.flight_no, f.aircraft_code, ac.model, f.arrival_airport, ap.city,\n",
    "    tf.fare_conditions;\n",
    "\n",
    "Получены ключи для основного запроса:\n",
    "    - два типа ВС - Sukhoi Superjet-100 (SU9) и Boeing 737-300 (737), \n",
    "    - два пункта назначения: Москва (SVO) и Белгород (EGO)\n",
    "    - два тарифа (класса): Business и Economy"
   ]
  },
  {
   "cell_type": "raw",
   "metadata": {},
   "source": [
    "flight code model               port city     class\t    pax\t   revenue\n",
    "PG0252\t733\tBoeing 737-300  \tSVO  Moscow\t  Business\t947\t   34,660,200\n",
    "PG0252\t733\tBoeing 737-300\t    SVO\t Moscow\t  Economy\t9263  113,560,600\n",
    "PG0480\tSU9\tSukhoi Superjet-100\tEGO\t Belgorod Business\t998    18,862,200\n",
    "PG0480\tSU9\tSukhoi Superjet-100\tEGO\t Belgorod Economy\t7143   45,253,500"
   ]
  },
  {
   "cell_type": "markdown",
   "metadata": {},
   "source": [
    "### 2. Основной запрос  \n",
    "**ID рейса, дата, тип ВС, куда, продолжительность, выручка, число паксов, число мест, % заполнения**"
   ]
  },
  {
   "cell_type": "raw",
   "metadata": {},
   "source": [
    "-- Рейсы из Анапы с билетами без разбивки по классам ДЕК 2016 - ФЕВ 2017\n",
    "SELECT f.flight_id, f.scheduled_departure, f.aircraft_code, f.arrival_airport, \n",
    "    EXTRACT(HOUR FROM (f.scheduled_arrival - f.scheduled_departure)) * 60 \n",
    "    + EXTRACT(MINUTE FROM (f.scheduled_arrival - f.scheduled_departure))    \n",
    "        AS duration,             --<<< продолжительность полета\n",
    "    SUM(tf.amount) AS revenue,   --<<< доход от продажи билетов\n",
    "    COUNT(tf.ticket_no) AS pax,  --<<< пассажиров на рейсе\n",
    "    (SELECT COUNT(s.seat_no)\n",
    "    FROM dst_project.seats AS s\n",
    "    WHERE s.aircraft_code = f.aircraft_code) AS capacity,  --<<< мест в салоне\n",
    "    (100.0 * COUNT(tf.ticket_no) /\n",
    "    (SELECT COUNT(s.seat_no)\n",
    "    FROM dst_project.seats AS s\n",
    "    WHERE s.aircraft_code = f.aircraft_code)) AS occupancy_rate  --< % заполнения\n",
    "FROM dst_project.ticket_flights AS tf\n",
    "INNER JOIN dst_project.flights AS f\n",
    "    ON tf.flight_id = f.flight_id\n",
    "WHERE departure_airport = 'AAQ'\n",
    "    AND f.scheduled_departure BETWEEN '2016-12-01' AND '2017-03-01'\n",
    "    AND status not in ('Cancelled')\n",
    "GROUP BY f.flight_id, f.aircraft_code, f.arrival_airport;"
   ]
  },
  {
   "cell_type": "raw",
   "metadata": {},
   "source": [
    "flight_id scheduled_departure  code\tarr\tduration revenue\tpax\tcapacity\toccupancy_rate\n",
    "136119\t2017-01-03T10:05:00Z\t733\tSVO\t100\t     1,653,000\t113\t     130\t87\n",
    "136120\t2017-02-24T10:05:00Z\t733\tSVO\t100\t     1,605,400\t109\t     130\t84\n",
    "136122\t2017-01-08T10:05:00Z\t733\tSVO\t100\t     1,431,000\t97\t     130\t75"
   ]
  },
  {
   "cell_type": "markdown",
   "metadata": {},
   "source": [
    "### 3. Дополнительный запрос  - с разбивкой по тарифам (классам)\n",
    "ID рейса, дата, тип ВС, куда, продолжительность, выручка, число паксов, число мест, % заполнения **+ класс**"
   ]
  },
  {
   "cell_type": "raw",
   "metadata": {},
   "source": [
    "-- Рейсы из Анапы с билетами с разбивкой по классам ДЕК 2016 - ФЕВ 2017\n",
    "\n",
    "SELECT f.flight_id, f.scheduled_departure, f.aircraft_code, f.arrival_airport, \n",
    "    EXTRACT(HOUR FROM (f.scheduled_arrival - f.scheduled_departure)) * 60 \n",
    "    + EXTRACT(MINUTE FROM (f.scheduled_arrival - f.scheduled_departure))    \n",
    "        AS duration, --<<< продолжительность полета\n",
    "    tf.fare_conditions AS class, --<<< класс салона\n",
    "    SUM(tf.amount) AS revenue,   --<<< доход от продажи билетов\n",
    "    COUNT(tf.ticket_no) AS pax,  --<<< пассажиров на рейсе\n",
    "    (SELECT COUNT(s.seat_no)\n",
    "        FROM dst_project.seats AS s\n",
    "        WHERE s.aircraft_code = f.aircraft_code\n",
    "        AND s.fare_conditions= tf.fare_conditions\n",
    "    ) AS capacity,               --<<< посадочных мест в салоне\n",
    "    (100.0 * COUNT(tf.ticket_no) /\n",
    "        (SELECT COUNT(s.fare_conditions)\n",
    "            FROM dst_project.seats AS s\n",
    "            WHERE s.aircraft_code = f.aircraft_code\n",
    "            AND s.fare_conditions= tf.fare_conditions)\n",
    "         ) AS occupancy_rate     --<<< процент заполнения салона\n",
    "FROM dst_project.ticket_flights AS tf --<<< базовая таблица ticket_flight  \n",
    "INNER JOIN dst_project.flights AS f\n",
    "    ON tf.flight_id = f.flight_id\n",
    "WHERE departure_airport = 'AAQ'\n",
    "    AND f.scheduled_departure BETWEEN '2016-12-01' AND '2017-03-01'\n",
    "    AND status not in ('Cancelled')\n",
    "GROUP BY f.flight_id, f.aircraft_code, f.arrival_airport, tf.fare_conditions;"
   ]
  },
  {
   "cell_type": "raw",
   "metadata": {},
   "source": [
    "flight_id scheduled_departure\tcode arr duration\tclass\trevenue\t pax capacity %\n",
    "136119\t2017-01-03T10:05:00Z\t733\tSVO\t 100\tBusiness\t402,600\t 11\t  12\t 92\n",
    "136119\t2017-01-03T10:05:00Z\t733\tSVO\t 100\tEconomy\t  1,250,400\t102  118\t 86\n",
    "136120\t2017-02-24T10:05:00Z\t733\tSVO\t 100\tBusiness\t402,600\t 11\t  12\t 92\n",
    "136120\t2017-02-24T10:05:00Z\t733\tSVO\t 100\tEconomy\t  1,202,800\t 98\t 118\t 83"
   ]
  },
  {
   "cell_type": "markdown",
   "metadata": {},
   "source": [
    "Справочные данные для оценки прибыльности из интернета\n",
    "[стоимость топлива](https://favt.gov.ru/dejatelnost-ajeroporty-i-ajerodromy-ceny-na-aviagsm?id=7329)  \n",
    "**Топливо** - стоимость на 15 января 2017 в Анапе  = **41435 руб за тонну**  \n",
    "[Расход топлива по типам](\n",
    "https://vpolete.online/pereletyi/rashod-topliva-raznyih-samoletov.html#i-2)  \n",
    "Минутный **расход** Sukhoi Superjet 100: **1,7/60 т/мин**, Boeing 737-300: **2,4/60 т/мин**"
   ]
  },
  {
   "cell_type": "markdown",
   "metadata": {},
   "source": [
    "### Работаем с файлом - **avia.csv**  \n",
    "(без разбивки на классы салона)"
   ]
  },
  {
   "cell_type": "code",
   "execution_count": 1,
   "metadata": {},
   "outputs": [],
   "source": [
    "import numpy as np\n",
    "import pandas as pd\n",
    "import matplotlib.pyplot as plt\n",
    "%matplotlib inline\n",
    "import seaborn as sns"
   ]
  },
  {
   "cell_type": "code",
   "execution_count": 2,
   "metadata": {},
   "outputs": [],
   "source": [
    "df = pd.read_csv('avia.csv')\n",
    "df.columns = ['flight', 'date', 'code', 'port',\n",
    "              'duration', 'sales', 'pax', 'capacity', 'fill_rate']\n",
    "df['date'] = df['date'].str.slice(stop=10)  # remove time from string\n",
    "df['date'] = pd.to_datetime(df['date'])  # convert string to date format\n",
    "df['fill_rate'] = df['fill_rate'].round(1)  # 'fill_rate' - уровень заполнения салона"
   ]
  },
  {
   "cell_type": "code",
   "execution_count": 3,
   "metadata": {},
   "outputs": [],
   "source": [
    "def my_function(my_col):  \n",
    "    if my_col == '733':\n",
    "        return 2.4/60   # минутный расход Boeing\n",
    "    elif my_col == 'SU9':\n",
    "        return 1.7/60   # минутный расход Sukhoi\n",
    "df['fuel_rate'] = df.apply(lambda x: my_function(x['code']), axis=1)\n",
    "\n",
    "fuel_price = 41435  # цена в рублях за тонну на янв 2017 из интернета\n",
    "df['fuel_cost'] = df['fuel_rate'] * fuel_price  # считаем расходы на топливо\n",
    "df['fuel_cost'] =df['fuel_cost'].round()"
   ]
  },
  {
   "cell_type": "code",
   "execution_count": 4,
   "metadata": {},
   "outputs": [],
   "source": [
    "df['profit'] = (df['sales'] - df['fuel_cost']) # прибыль = выручка - расходы на топливо\n",
    "df['fuel_cost'] =df['fuel_cost'].round()"
   ]
  },
  {
   "cell_type": "code",
   "execution_count": 5,
   "metadata": {
    "scrolled": false
   },
   "outputs": [
    {
     "data": {
      "text/html": [
       "<div>\n",
       "<style scoped>\n",
       "    .dataframe tbody tr th:only-of-type {\n",
       "        vertical-align: middle;\n",
       "    }\n",
       "\n",
       "    .dataframe tbody tr th {\n",
       "        vertical-align: top;\n",
       "    }\n",
       "\n",
       "    .dataframe thead th {\n",
       "        text-align: right;\n",
       "    }\n",
       "</style>\n",
       "<table border=\"1\" class=\"dataframe\">\n",
       "  <thead>\n",
       "    <tr style=\"text-align: right;\">\n",
       "      <th></th>\n",
       "      <th>flight</th>\n",
       "      <th>date</th>\n",
       "      <th>code</th>\n",
       "      <th>port</th>\n",
       "      <th>duration</th>\n",
       "      <th>sales</th>\n",
       "      <th>pax</th>\n",
       "      <th>capacity</th>\n",
       "      <th>fill_rate</th>\n",
       "      <th>fuel_rate</th>\n",
       "      <th>fuel_cost</th>\n",
       "      <th>profit</th>\n",
       "    </tr>\n",
       "  </thead>\n",
       "  <tbody>\n",
       "    <tr>\n",
       "      <th>172</th>\n",
       "      <td>136929</td>\n",
       "      <td>2016-12-31</td>\n",
       "      <td>SU9</td>\n",
       "      <td>EGO</td>\n",
       "      <td>50.0</td>\n",
       "      <td>631800.0</td>\n",
       "      <td>82</td>\n",
       "      <td>97</td>\n",
       "      <td>84.5</td>\n",
       "      <td>0.028333</td>\n",
       "      <td>1174.0</td>\n",
       "      <td>630626.0</td>\n",
       "    </tr>\n",
       "    <tr>\n",
       "      <th>96</th>\n",
       "      <td>136612</td>\n",
       "      <td>2017-02-21</td>\n",
       "      <td>SU9</td>\n",
       "      <td>EGO</td>\n",
       "      <td>50.0</td>\n",
       "      <td>746400.0</td>\n",
       "      <td>94</td>\n",
       "      <td>97</td>\n",
       "      <td>96.9</td>\n",
       "      <td>0.028333</td>\n",
       "      <td>1174.0</td>\n",
       "      <td>745226.0</td>\n",
       "    </tr>\n",
       "    <tr>\n",
       "      <th>47</th>\n",
       "      <td>136318</td>\n",
       "      <td>2016-12-17</td>\n",
       "      <td>733</td>\n",
       "      <td>SVO</td>\n",
       "      <td>100.0</td>\n",
       "      <td>1544400.0</td>\n",
       "      <td>104</td>\n",
       "      <td>130</td>\n",
       "      <td>80.0</td>\n",
       "      <td>0.040000</td>\n",
       "      <td>1657.0</td>\n",
       "      <td>1542743.0</td>\n",
       "    </tr>\n",
       "    <tr>\n",
       "      <th>174</th>\n",
       "      <td>136937</td>\n",
       "      <td>2017-01-03</td>\n",
       "      <td>SU9</td>\n",
       "      <td>EGO</td>\n",
       "      <td>50.0</td>\n",
       "      <td>626100.0</td>\n",
       "      <td>81</td>\n",
       "      <td>97</td>\n",
       "      <td>83.5</td>\n",
       "      <td>0.028333</td>\n",
       "      <td>1174.0</td>\n",
       "      <td>624926.0</td>\n",
       "    </tr>\n",
       "  </tbody>\n",
       "</table>\n",
       "</div>"
      ],
      "text/plain": [
       "     flight       date code port  duration      sales  pax  capacity  \\\n",
       "172  136929 2016-12-31  SU9  EGO      50.0   631800.0   82        97   \n",
       "96   136612 2017-02-21  SU9  EGO      50.0   746400.0   94        97   \n",
       "47   136318 2016-12-17  733  SVO     100.0  1544400.0  104       130   \n",
       "174  136937 2017-01-03  SU9  EGO      50.0   626100.0   81        97   \n",
       "\n",
       "     fill_rate  fuel_rate  fuel_cost     profit  \n",
       "172       84.5   0.028333     1174.0   630626.0  \n",
       "96        96.9   0.028333     1174.0   745226.0  \n",
       "47        80.0   0.040000     1657.0  1542743.0  \n",
       "174       83.5   0.028333     1174.0   624926.0  "
      ]
     },
     "execution_count": 5,
     "metadata": {},
     "output_type": "execute_result"
    }
   ],
   "source": [
    "df.sample(4)"
   ]
  },
  {
   "cell_type": "markdown",
   "metadata": {},
   "source": [
    "### 1. Оценка по уровеню заполнения салона ('fill_rate')"
   ]
  },
  {
   "cell_type": "code",
   "execution_count": 6,
   "metadata": {
    "scrolled": true
   },
   "outputs": [
    {
     "data": {
      "text/plain": [
       "<AxesSubplot:xlabel='fill_rate', ylabel='Count'>"
      ]
     },
     "execution_count": 6,
     "metadata": {},
     "output_type": "execute_result"
    },
    {
     "data": {
      "image/png": "[encoded data removed]",
      "text/plain": [
       "<Figure size 432x288 with 1 Axes>"
      ]
     },
     "metadata": {
      "needs_background": "light"
     },
     "output_type": "display_data"
    }
   ],
   "source": [
    "sns.histplot(data=df.fill_rate, bins=50, binwidth=1,\n",
    "             kde=True, color='green', log_scale=False) # число рейсов по заполняемости"
   ]
  },
  {
   "cell_type": "code",
   "execution_count": 7,
   "metadata": {
    "scrolled": true
   },
   "outputs": [
    {
     "data": {
      "text/plain": [
       "<seaborn.axisgrid.FacetGrid at 0x1a3036ffaf0>"
      ]
     },
     "execution_count": 7,
     "metadata": {},
     "output_type": "execute_result"
    },
    {
     "data": {
      "image/png": "[encoded data removed]",
      "text/plain": [
       "<Figure size 360x360 with 1 Axes>"
      ]
     },
     "metadata": {
      "needs_background": "light"
     },
     "output_type": "display_data"
    }
   ],
   "source": [
    "sns.displot(df, x=\"fill_rate\", kind=\"kde\", \n",
    "            color='blue', bw_adjust=.22) # число рейсов по заполняемости"
   ]
  },
  {
   "cell_type": "code",
   "execution_count": 8,
   "metadata": {},
   "outputs": [
    {
     "data": {
      "image/png": "[encoded data removed]",
      "text/plain": [
       "<Figure size 432x288 with 1 Axes>"
      ]
     },
     "metadata": {
      "needs_background": "light"
     },
     "output_type": "display_data"
    }
   ],
   "source": [
    "fig, ax = plt.subplots()\n",
    "ax.boxplot(df.fill_rate, vert=False, showmeans=True, meanline=True,\n",
    "           patch_artist=True,\n",
    "           medianprops={'linewidth': 4, 'color': 'purple'},\n",
    "           meanprops={'linewidth': 4, 'color': 'red'})\n",
    "plt.show() # часть рейсов выделяется из общей массы - убыточные \"хвосты\""
   ]
  },
  {
   "cell_type": "markdown",
   "metadata": {},
   "source": [
    "Оценим число рейсов с **заполняемостью ниже 75%**"
   ]
  },
  {
   "cell_type": "code",
   "execution_count": 9,
   "metadata": {},
   "outputs": [
    {
     "data": {
      "text/html": [
       "<div>\n",
       "<style scoped>\n",
       "    .dataframe tbody tr th:only-of-type {\n",
       "        vertical-align: middle;\n",
       "    }\n",
       "\n",
       "    .dataframe tbody tr th {\n",
       "        vertical-align: top;\n",
       "    }\n",
       "\n",
       "    .dataframe thead th {\n",
       "        text-align: right;\n",
       "    }\n",
       "</style>\n",
       "<table border=\"1\" class=\"dataframe\">\n",
       "  <thead>\n",
       "    <tr style=\"text-align: right;\">\n",
       "      <th></th>\n",
       "      <th>flight</th>\n",
       "      <th>date</th>\n",
       "      <th>code</th>\n",
       "      <th>port</th>\n",
       "      <th>duration</th>\n",
       "      <th>sales</th>\n",
       "      <th>pax</th>\n",
       "      <th>capacity</th>\n",
       "      <th>fill_rate</th>\n",
       "      <th>fuel_rate</th>\n",
       "      <th>fuel_cost</th>\n",
       "      <th>profit</th>\n",
       "    </tr>\n",
       "  </thead>\n",
       "  <tbody>\n",
       "    <tr>\n",
       "      <th>102</th>\n",
       "      <td>136642</td>\n",
       "      <td>2017-01-30</td>\n",
       "      <td>SU9</td>\n",
       "      <td>EGO</td>\n",
       "      <td>50.0</td>\n",
       "      <td>531000.0</td>\n",
       "      <td>64</td>\n",
       "      <td>97</td>\n",
       "      <td>66.0</td>\n",
       "      <td>0.028333</td>\n",
       "      <td>1174.0</td>\n",
       "      <td>529826.0</td>\n",
       "    </tr>\n",
       "    <tr>\n",
       "      <th>144</th>\n",
       "      <td>136807</td>\n",
       "      <td>2017-02-23</td>\n",
       "      <td>SU9</td>\n",
       "      <td>EGO</td>\n",
       "      <td>50.0</td>\n",
       "      <td>531000.0</td>\n",
       "      <td>68</td>\n",
       "      <td>97</td>\n",
       "      <td>70.1</td>\n",
       "      <td>0.028333</td>\n",
       "      <td>1174.0</td>\n",
       "      <td>529826.0</td>\n",
       "    </tr>\n",
       "    <tr>\n",
       "      <th>56</th>\n",
       "      <td>136352</td>\n",
       "      <td>2016-12-10</td>\n",
       "      <td>733</td>\n",
       "      <td>SVO</td>\n",
       "      <td>100.0</td>\n",
       "      <td>1372400.0</td>\n",
       "      <td>92</td>\n",
       "      <td>130</td>\n",
       "      <td>70.8</td>\n",
       "      <td>0.040000</td>\n",
       "      <td>1657.0</td>\n",
       "      <td>1370743.0</td>\n",
       "    </tr>\n",
       "    <tr>\n",
       "      <th>30</th>\n",
       "      <td>136253</td>\n",
       "      <td>2016-12-24</td>\n",
       "      <td>733</td>\n",
       "      <td>SVO</td>\n",
       "      <td>100.0</td>\n",
       "      <td>1407800.0</td>\n",
       "      <td>93</td>\n",
       "      <td>130</td>\n",
       "      <td>71.5</td>\n",
       "      <td>0.040000</td>\n",
       "      <td>1657.0</td>\n",
       "      <td>1406143.0</td>\n",
       "    </tr>\n",
       "    <tr>\n",
       "      <th>2</th>\n",
       "      <td>136122</td>\n",
       "      <td>2017-01-08</td>\n",
       "      <td>733</td>\n",
       "      <td>SVO</td>\n",
       "      <td>100.0</td>\n",
       "      <td>1431000.0</td>\n",
       "      <td>97</td>\n",
       "      <td>130</td>\n",
       "      <td>74.6</td>\n",
       "      <td>0.040000</td>\n",
       "      <td>1657.0</td>\n",
       "      <td>1429343.0</td>\n",
       "    </tr>\n",
       "    <tr>\n",
       "      <th>57</th>\n",
       "      <td>136360</td>\n",
       "      <td>2017-02-05</td>\n",
       "      <td>733</td>\n",
       "      <td>SVO</td>\n",
       "      <td>100.0</td>\n",
       "      <td>1455400.0</td>\n",
       "      <td>97</td>\n",
       "      <td>130</td>\n",
       "      <td>74.6</td>\n",
       "      <td>0.040000</td>\n",
       "      <td>1657.0</td>\n",
       "      <td>1453743.0</td>\n",
       "    </tr>\n",
       "    <tr>\n",
       "      <th>69</th>\n",
       "      <td>136418</td>\n",
       "      <td>2016-12-07</td>\n",
       "      <td>733</td>\n",
       "      <td>SVO</td>\n",
       "      <td>100.0</td>\n",
       "      <td>1407800.0</td>\n",
       "      <td>97</td>\n",
       "      <td>130</td>\n",
       "      <td>74.6</td>\n",
       "      <td>0.040000</td>\n",
       "      <td>1657.0</td>\n",
       "      <td>1406143.0</td>\n",
       "    </tr>\n",
       "  </tbody>\n",
       "</table>\n",
       "</div>"
      ],
      "text/plain": [
       "     flight       date code port  duration      sales  pax  capacity  \\\n",
       "102  136642 2017-01-30  SU9  EGO      50.0   531000.0   64        97   \n",
       "144  136807 2017-02-23  SU9  EGO      50.0   531000.0   68        97   \n",
       "56   136352 2016-12-10  733  SVO     100.0  1372400.0   92       130   \n",
       "30   136253 2016-12-24  733  SVO     100.0  1407800.0   93       130   \n",
       "2    136122 2017-01-08  733  SVO     100.0  1431000.0   97       130   \n",
       "57   136360 2017-02-05  733  SVO     100.0  1455400.0   97       130   \n",
       "69   136418 2016-12-07  733  SVO     100.0  1407800.0   97       130   \n",
       "\n",
       "     fill_rate  fuel_rate  fuel_cost     profit  \n",
       "102       66.0   0.028333     1174.0   529826.0  \n",
       "144       70.1   0.028333     1174.0   529826.0  \n",
       "56        70.8   0.040000     1657.0  1370743.0  \n",
       "30        71.5   0.040000     1657.0  1406143.0  \n",
       "2         74.6   0.040000     1657.0  1429343.0  \n",
       "57        74.6   0.040000     1657.0  1453743.0  \n",
       "69        74.6   0.040000     1657.0  1406143.0  "
      ]
     },
     "metadata": {},
     "output_type": "display_data"
    }
   ],
   "source": [
    "display(df[df.fill_rate < 75].sort_values(['fill_rate'], ascending=True))"
   ]
  },
  {
   "cell_type": "markdown",
   "metadata": {},
   "source": [
    "### 2. Оценка  по \"прибыли\" ('profit')\n",
    "Прибыль считается как **разница между выручкой от продажи билетов и расходами на топливо**"
   ]
  },
  {
   "cell_type": "code",
   "execution_count": 10,
   "metadata": {
    "scrolled": true
   },
   "outputs": [
    {
     "data": {
      "text/plain": [
       "<AxesSubplot:xlabel='profit', ylabel='Count'>"
      ]
     },
     "execution_count": 10,
     "metadata": {},
     "output_type": "execute_result"
    },
    {
     "data": {
      "image/png": "[encoded data removed]",
      "text/plain": [
       "<Figure size 432x288 with 1 Axes>"
      ]
     },
     "metadata": {
      "needs_background": "light"
     },
     "output_type": "display_data"
    }
   ],
   "source": [
    "sns.histplot(data=df.profit, bins=50,)"
   ]
  },
  {
   "cell_type": "code",
   "execution_count": 11,
   "metadata": {
    "scrolled": true
   },
   "outputs": [
    {
     "data": {
      "text/plain": [
       "<seaborn.axisgrid.FacetGrid at 0x1a3089ce880>"
      ]
     },
     "execution_count": 11,
     "metadata": {},
     "output_type": "execute_result"
    },
    {
     "data": {
      "image/png": "[encoded data removed]",
      "text/plain": [
       "<Figure size 360x360 with 1 Axes>"
      ]
     },
     "metadata": {
      "needs_background": "light"
     },
     "output_type": "display_data"
    }
   ],
   "source": [
    "sns.displot(df, x=\"profit\", kind=\"kde\", \n",
    "            color='blue', bw_adjust=.4) # число рейсов по заполняемости"
   ]
  },
  {
   "cell_type": "code",
   "execution_count": 12,
   "metadata": {},
   "outputs": [
    {
     "data": {
      "image/png": "[encoded data removed]",
      "text/plain": [
       "<Figure size 432x288 with 1 Axes>"
      ]
     },
     "metadata": {
      "needs_background": "light"
     },
     "output_type": "display_data"
    }
   ],
   "source": [
    "fig, ax = plt.subplots()\n",
    "ax.boxplot(df.profit, vert=False, showmeans=True, meanline=True,\n",
    "           patch_artist=True,\n",
    "           medianprops={'linewidth': 4, 'color': 'purple'},\n",
    "           meanprops={'linewidth': 4, 'color': 'red'})\n",
    "plt.show() # часть рейсов выделяется из общей массы - убыточные \"хвосты\""
   ]
  },
  {
   "cell_type": "markdown",
   "metadata": {},
   "source": [
    "Оценим число рейсов с **прибылью меньше 620,000 руб**"
   ]
  },
  {
   "cell_type": "code",
   "execution_count": 13,
   "metadata": {},
   "outputs": [
    {
     "data": {
      "text/html": [
       "<div>\n",
       "<style scoped>\n",
       "    .dataframe tbody tr th:only-of-type {\n",
       "        vertical-align: middle;\n",
       "    }\n",
       "\n",
       "    .dataframe tbody tr th {\n",
       "        vertical-align: top;\n",
       "    }\n",
       "\n",
       "    .dataframe thead th {\n",
       "        text-align: right;\n",
       "    }\n",
       "</style>\n",
       "<table border=\"1\" class=\"dataframe\">\n",
       "  <thead>\n",
       "    <tr style=\"text-align: right;\">\n",
       "      <th></th>\n",
       "      <th>flight</th>\n",
       "      <th>date</th>\n",
       "      <th>code</th>\n",
       "      <th>port</th>\n",
       "      <th>duration</th>\n",
       "      <th>sales</th>\n",
       "      <th>pax</th>\n",
       "      <th>capacity</th>\n",
       "      <th>fill_rate</th>\n",
       "      <th>fuel_rate</th>\n",
       "      <th>fuel_cost</th>\n",
       "      <th>profit</th>\n",
       "    </tr>\n",
       "  </thead>\n",
       "  <tbody>\n",
       "    <tr>\n",
       "      <th>102</th>\n",
       "      <td>136642</td>\n",
       "      <td>2017-01-30</td>\n",
       "      <td>SU9</td>\n",
       "      <td>EGO</td>\n",
       "      <td>50.0</td>\n",
       "      <td>531000.0</td>\n",
       "      <td>64</td>\n",
       "      <td>97</td>\n",
       "      <td>66.0</td>\n",
       "      <td>0.028333</td>\n",
       "      <td>1174.0</td>\n",
       "      <td>529826.0</td>\n",
       "    </tr>\n",
       "    <tr>\n",
       "      <th>144</th>\n",
       "      <td>136807</td>\n",
       "      <td>2017-02-23</td>\n",
       "      <td>SU9</td>\n",
       "      <td>EGO</td>\n",
       "      <td>50.0</td>\n",
       "      <td>531000.0</td>\n",
       "      <td>68</td>\n",
       "      <td>97</td>\n",
       "      <td>70.1</td>\n",
       "      <td>0.028333</td>\n",
       "      <td>1174.0</td>\n",
       "      <td>529826.0</td>\n",
       "    </tr>\n",
       "    <tr>\n",
       "      <th>152</th>\n",
       "      <td>136844</td>\n",
       "      <td>2017-02-28</td>\n",
       "      <td>SU9</td>\n",
       "      <td>EGO</td>\n",
       "      <td>50.0</td>\n",
       "      <td>575100.0</td>\n",
       "      <td>79</td>\n",
       "      <td>97</td>\n",
       "      <td>81.4</td>\n",
       "      <td>0.028333</td>\n",
       "      <td>1174.0</td>\n",
       "      <td>573926.0</td>\n",
       "    </tr>\n",
       "    <tr>\n",
       "      <th>164</th>\n",
       "      <td>136887</td>\n",
       "      <td>2017-01-20</td>\n",
       "      <td>SU9</td>\n",
       "      <td>EGO</td>\n",
       "      <td>50.0</td>\n",
       "      <td>595200.0</td>\n",
       "      <td>78</td>\n",
       "      <td>97</td>\n",
       "      <td>80.4</td>\n",
       "      <td>0.028333</td>\n",
       "      <td>1174.0</td>\n",
       "      <td>594026.0</td>\n",
       "    </tr>\n",
       "    <tr>\n",
       "      <th>170</th>\n",
       "      <td>136922</td>\n",
       "      <td>2017-02-11</td>\n",
       "      <td>SU9</td>\n",
       "      <td>EGO</td>\n",
       "      <td>50.0</td>\n",
       "      <td>607800.0</td>\n",
       "      <td>76</td>\n",
       "      <td>97</td>\n",
       "      <td>78.4</td>\n",
       "      <td>0.028333</td>\n",
       "      <td>1174.0</td>\n",
       "      <td>606626.0</td>\n",
       "    </tr>\n",
       "    <tr>\n",
       "      <th>98</th>\n",
       "      <td>136620</td>\n",
       "      <td>2017-02-17</td>\n",
       "      <td>SU9</td>\n",
       "      <td>EGO</td>\n",
       "      <td>50.0</td>\n",
       "      <td>613500.0</td>\n",
       "      <td>79</td>\n",
       "      <td>97</td>\n",
       "      <td>81.4</td>\n",
       "      <td>0.028333</td>\n",
       "      <td>1174.0</td>\n",
       "      <td>612326.0</td>\n",
       "    </tr>\n",
       "    <tr>\n",
       "      <th>147</th>\n",
       "      <td>136823</td>\n",
       "      <td>2017-02-05</td>\n",
       "      <td>SU9</td>\n",
       "      <td>EGO</td>\n",
       "      <td>50.0</td>\n",
       "      <td>620400.0</td>\n",
       "      <td>78</td>\n",
       "      <td>97</td>\n",
       "      <td>80.4</td>\n",
       "      <td>0.028333</td>\n",
       "      <td>1174.0</td>\n",
       "      <td>619226.0</td>\n",
       "    </tr>\n",
       "  </tbody>\n",
       "</table>\n",
       "</div>"
      ],
      "text/plain": [
       "     flight       date code port  duration     sales  pax  capacity  \\\n",
       "102  136642 2017-01-30  SU9  EGO      50.0  531000.0   64        97   \n",
       "144  136807 2017-02-23  SU9  EGO      50.0  531000.0   68        97   \n",
       "152  136844 2017-02-28  SU9  EGO      50.0  575100.0   79        97   \n",
       "164  136887 2017-01-20  SU9  EGO      50.0  595200.0   78        97   \n",
       "170  136922 2017-02-11  SU9  EGO      50.0  607800.0   76        97   \n",
       "98   136620 2017-02-17  SU9  EGO      50.0  613500.0   79        97   \n",
       "147  136823 2017-02-05  SU9  EGO      50.0  620400.0   78        97   \n",
       "\n",
       "     fill_rate  fuel_rate  fuel_cost    profit  \n",
       "102       66.0   0.028333     1174.0  529826.0  \n",
       "144       70.1   0.028333     1174.0  529826.0  \n",
       "152       81.4   0.028333     1174.0  573926.0  \n",
       "164       80.4   0.028333     1174.0  594026.0  \n",
       "170       78.4   0.028333     1174.0  606626.0  \n",
       "98        81.4   0.028333     1174.0  612326.0  \n",
       "147       80.4   0.028333     1174.0  619226.0  "
      ]
     },
     "metadata": {},
     "output_type": "display_data"
    }
   ],
   "source": [
    "display(df[df.profit < 620000].sort_values(['profit'], ascending=True))"
   ]
  },
  {
   "cell_type": "markdown",
   "metadata": {},
   "source": [
    "### Выберем два худших рейса по заполняемости и по прибыли  \n",
    "это одни те же рейсы SU9 в Белгород - **136642 и 136807** (30 января и 23 февраля 2017)"
   ]
  },
  {
   "cell_type": "code",
   "execution_count": 14,
   "metadata": {
    "scrolled": true
   },
   "outputs": [
    {
     "data": {
      "text/html": [
       "<div>\n",
       "<style scoped>\n",
       "    .dataframe tbody tr th:only-of-type {\n",
       "        vertical-align: middle;\n",
       "    }\n",
       "\n",
       "    .dataframe tbody tr th {\n",
       "        vertical-align: top;\n",
       "    }\n",
       "\n",
       "    .dataframe thead th {\n",
       "        text-align: right;\n",
       "    }\n",
       "</style>\n",
       "<table border=\"1\" class=\"dataframe\">\n",
       "  <thead>\n",
       "    <tr style=\"text-align: right;\">\n",
       "      <th></th>\n",
       "      <th>flight</th>\n",
       "      <th>date</th>\n",
       "      <th>code</th>\n",
       "      <th>port</th>\n",
       "      <th>duration</th>\n",
       "      <th>sales</th>\n",
       "      <th>pax</th>\n",
       "      <th>capacity</th>\n",
       "      <th>fill_rate</th>\n",
       "      <th>fuel_rate</th>\n",
       "      <th>fuel_cost</th>\n",
       "      <th>profit</th>\n",
       "    </tr>\n",
       "  </thead>\n",
       "  <tbody>\n",
       "    <tr>\n",
       "      <th>102</th>\n",
       "      <td>136642</td>\n",
       "      <td>2017-01-30</td>\n",
       "      <td>SU9</td>\n",
       "      <td>EGO</td>\n",
       "      <td>50.0</td>\n",
       "      <td>531000.0</td>\n",
       "      <td>64</td>\n",
       "      <td>97</td>\n",
       "      <td>66.0</td>\n",
       "      <td>0.028333</td>\n",
       "      <td>1174.0</td>\n",
       "      <td>529826.0</td>\n",
       "    </tr>\n",
       "    <tr>\n",
       "      <th>144</th>\n",
       "      <td>136807</td>\n",
       "      <td>2017-02-23</td>\n",
       "      <td>SU9</td>\n",
       "      <td>EGO</td>\n",
       "      <td>50.0</td>\n",
       "      <td>531000.0</td>\n",
       "      <td>68</td>\n",
       "      <td>97</td>\n",
       "      <td>70.1</td>\n",
       "      <td>0.028333</td>\n",
       "      <td>1174.0</td>\n",
       "      <td>529826.0</td>\n",
       "    </tr>\n",
       "  </tbody>\n",
       "</table>\n",
       "</div>"
      ],
      "text/plain": [
       "     flight       date code port  duration     sales  pax  capacity  \\\n",
       "102  136642 2017-01-30  SU9  EGO      50.0  531000.0   64        97   \n",
       "144  136807 2017-02-23  SU9  EGO      50.0  531000.0   68        97   \n",
       "\n",
       "     fill_rate  fuel_rate  fuel_cost    profit  \n",
       "102       66.0   0.028333     1174.0  529826.0  \n",
       "144       70.1   0.028333     1174.0  529826.0  "
      ]
     },
     "metadata": {},
     "output_type": "display_data"
    }
   ],
   "source": [
    "display(df.nsmallest(2, 'fill_rate'))"
   ]
  },
  {
   "cell_type": "code",
   "execution_count": 15,
   "metadata": {
    "scrolled": false
   },
   "outputs": [
    {
     "data": {
      "text/html": [
       "<div>\n",
       "<style scoped>\n",
       "    .dataframe tbody tr th:only-of-type {\n",
       "        vertical-align: middle;\n",
       "    }\n",
       "\n",
       "    .dataframe tbody tr th {\n",
       "        vertical-align: top;\n",
       "    }\n",
       "\n",
       "    .dataframe thead th {\n",
       "        text-align: right;\n",
       "    }\n",
       "</style>\n",
       "<table border=\"1\" class=\"dataframe\">\n",
       "  <thead>\n",
       "    <tr style=\"text-align: right;\">\n",
       "      <th></th>\n",
       "      <th>flight</th>\n",
       "      <th>date</th>\n",
       "      <th>code</th>\n",
       "      <th>port</th>\n",
       "      <th>duration</th>\n",
       "      <th>sales</th>\n",
       "      <th>pax</th>\n",
       "      <th>capacity</th>\n",
       "      <th>fill_rate</th>\n",
       "      <th>fuel_rate</th>\n",
       "      <th>fuel_cost</th>\n",
       "      <th>profit</th>\n",
       "    </tr>\n",
       "  </thead>\n",
       "  <tbody>\n",
       "    <tr>\n",
       "      <th>102</th>\n",
       "      <td>136642</td>\n",
       "      <td>2017-01-30</td>\n",
       "      <td>SU9</td>\n",
       "      <td>EGO</td>\n",
       "      <td>50.0</td>\n",
       "      <td>531000.0</td>\n",
       "      <td>64</td>\n",
       "      <td>97</td>\n",
       "      <td>66.0</td>\n",
       "      <td>0.028333</td>\n",
       "      <td>1174.0</td>\n",
       "      <td>529826.0</td>\n",
       "    </tr>\n",
       "    <tr>\n",
       "      <th>144</th>\n",
       "      <td>136807</td>\n",
       "      <td>2017-02-23</td>\n",
       "      <td>SU9</td>\n",
       "      <td>EGO</td>\n",
       "      <td>50.0</td>\n",
       "      <td>531000.0</td>\n",
       "      <td>68</td>\n",
       "      <td>97</td>\n",
       "      <td>70.1</td>\n",
       "      <td>0.028333</td>\n",
       "      <td>1174.0</td>\n",
       "      <td>529826.0</td>\n",
       "    </tr>\n",
       "  </tbody>\n",
       "</table>\n",
       "</div>"
      ],
      "text/plain": [
       "     flight       date code port  duration     sales  pax  capacity  \\\n",
       "102  136642 2017-01-30  SU9  EGO      50.0  531000.0   64        97   \n",
       "144  136807 2017-02-23  SU9  EGO      50.0  531000.0   68        97   \n",
       "\n",
       "     fill_rate  fuel_rate  fuel_cost    profit  \n",
       "102       66.0   0.028333     1174.0  529826.0  \n",
       "144       70.1   0.028333     1174.0  529826.0  "
      ]
     },
     "metadata": {},
     "output_type": "display_data"
    }
   ],
   "source": [
    "display(df.nsmallest(2, 'profit'))"
   ]
  },
  {
   "cell_type": "code",
   "execution_count": 16,
   "metadata": {
    "scrolled": true
   },
   "outputs": [
    {
     "data": {
      "text/plain": [
       "<AxesSubplot:xlabel='fill_rate', ylabel='profit'>"
      ]
     },
     "execution_count": 16,
     "metadata": {},
     "output_type": "execute_result"
    },
    {
     "data": {
      "image/png": "[encoded data removed]",
      "text/plain": [
       "<Figure size 432x288 with 1 Axes>"
      ]
     },
     "metadata": {
      "needs_background": "light"
     },
     "output_type": "display_data"
    }
   ],
   "source": [
    "sns.scatterplot(data=df, x=\"fill_rate\", y=\"profit\") # две крайние левые точки на диаграмме"
   ]
  },
  {
   "cell_type": "markdown",
   "metadata": {},
   "source": [
    "### Вывод - в зимнее время самыми малоприбыльными рейсами являются\n",
    "### рейсы с flight_ID 136642 и 136807"
   ]
  },
  {
   "cell_type": "markdown",
   "metadata": {},
   "source": [
    "______\n",
    "\n",
    "**Дополнительно** можно провести анализ по тарифным классам (**Buseness и Economy**)  \n",
    "______"
   ]
  },
  {
   "cell_type": "code",
   "execution_count": 17,
   "metadata": {},
   "outputs": [],
   "source": [
    "df2 = pd.read_csv('aviaclass.csv')\n",
    "df2.columns = ['flight', 'date', 'code', 'port',\n",
    "              'duration', 'class', 'sales', 'pax', 'capacity', 'fill_rate']\n",
    "df2['date'] = df2['date'].str.slice(stop=10)  # remove time from string\n",
    "df2['date'] = pd.to_datetime(df2['date'])  # convert string to date format\n",
    "df2['fill_rate'] = df2['fill_rate'].round(1)  # 'fill_rate' - уровень заполнения салона"
   ]
  },
  {
   "cell_type": "code",
   "execution_count": 18,
   "metadata": {},
   "outputs": [],
   "source": [
    "def my_function(my_col):  \n",
    "    if my_col == '733':\n",
    "        return 2.4/60   # минутный расход Boeing\n",
    "    elif my_col == 'SU9':\n",
    "        return 1.7/60   # минутный расход Sukhoi\n",
    "df2['fuel_rate'] = df.apply(lambda x: my_function(x['code']), axis=1)\n",
    "\n",
    "fuel_price = 41435  # цена в рублях за тонну на янв 2017 из интернета\n",
    "df2['fuel_cost'] = df2['fuel_rate'] * fuel_price  # считаем расходы на топливо\n",
    "df2['fuel_cost'] =df2['fuel_cost'].round()"
   ]
  },
  {
   "cell_type": "code",
   "execution_count": 19,
   "metadata": {},
   "outputs": [],
   "source": [
    "df2['profit'] = (df2['sales'] - df2['fuel_cost']) # прибыль = выручка - расходы на топливо\n",
    "df2['fuel_cost'] =df2['fuel_cost'].round()"
   ]
  },
  {
   "cell_type": "code",
   "execution_count": 20,
   "metadata": {
    "scrolled": false
   },
   "outputs": [
    {
     "data": {
      "text/html": [
       "<div>\n",
       "<style scoped>\n",
       "    .dataframe tbody tr th:only-of-type {\n",
       "        vertical-align: middle;\n",
       "    }\n",
       "\n",
       "    .dataframe tbody tr th {\n",
       "        vertical-align: top;\n",
       "    }\n",
       "\n",
       "    .dataframe thead th {\n",
       "        text-align: right;\n",
       "    }\n",
       "</style>\n",
       "<table border=\"1\" class=\"dataframe\">\n",
       "  <thead>\n",
       "    <tr style=\"text-align: right;\">\n",
       "      <th></th>\n",
       "      <th>flight</th>\n",
       "      <th>date</th>\n",
       "      <th>code</th>\n",
       "      <th>port</th>\n",
       "      <th>duration</th>\n",
       "      <th>class</th>\n",
       "      <th>sales</th>\n",
       "      <th>pax</th>\n",
       "      <th>capacity</th>\n",
       "      <th>fill_rate</th>\n",
       "      <th>fuel_rate</th>\n",
       "      <th>fuel_cost</th>\n",
       "      <th>profit</th>\n",
       "    </tr>\n",
       "  </thead>\n",
       "  <tbody>\n",
       "    <tr>\n",
       "      <th>217</th>\n",
       "      <td>136661</td>\n",
       "      <td>2017-01-01</td>\n",
       "      <td>SU9</td>\n",
       "      <td>EGO</td>\n",
       "      <td>50.0</td>\n",
       "      <td>Economy</td>\n",
       "      <td>532200.0</td>\n",
       "      <td>84</td>\n",
       "      <td>85</td>\n",
       "      <td>98.8</td>\n",
       "      <td>NaN</td>\n",
       "      <td>NaN</td>\n",
       "      <td>NaN</td>\n",
       "    </tr>\n",
       "    <tr>\n",
       "      <th>66</th>\n",
       "      <td>136264</td>\n",
       "      <td>2017-02-18</td>\n",
       "      <td>733</td>\n",
       "      <td>SVO</td>\n",
       "      <td>100.0</td>\n",
       "      <td>Business</td>\n",
       "      <td>402600.0</td>\n",
       "      <td>11</td>\n",
       "      <td>12</td>\n",
       "      <td>91.7</td>\n",
       "      <td>0.040000</td>\n",
       "      <td>1657.0</td>\n",
       "      <td>400943.0</td>\n",
       "    </tr>\n",
       "    <tr>\n",
       "      <th>130</th>\n",
       "      <td>136391</td>\n",
       "      <td>2016-12-03</td>\n",
       "      <td>733</td>\n",
       "      <td>SVO</td>\n",
       "      <td>100.0</td>\n",
       "      <td>Business</td>\n",
       "      <td>366000.0</td>\n",
       "      <td>10</td>\n",
       "      <td>12</td>\n",
       "      <td>83.3</td>\n",
       "      <td>0.028333</td>\n",
       "      <td>1174.0</td>\n",
       "      <td>364826.0</td>\n",
       "    </tr>\n",
       "    <tr>\n",
       "      <th>332</th>\n",
       "      <td>136900</td>\n",
       "      <td>2017-02-01</td>\n",
       "      <td>SU9</td>\n",
       "      <td>EGO</td>\n",
       "      <td>50.0</td>\n",
       "      <td>Business</td>\n",
       "      <td>226800.0</td>\n",
       "      <td>12</td>\n",
       "      <td>12</td>\n",
       "      <td>100.0</td>\n",
       "      <td>NaN</td>\n",
       "      <td>NaN</td>\n",
       "      <td>NaN</td>\n",
       "    </tr>\n",
       "  </tbody>\n",
       "</table>\n",
       "</div>"
      ],
      "text/plain": [
       "     flight       date code port  duration     class     sales  pax  capacity  \\\n",
       "217  136661 2017-01-01  SU9  EGO      50.0   Economy  532200.0   84        85   \n",
       "66   136264 2017-02-18  733  SVO     100.0  Business  402600.0   11        12   \n",
       "130  136391 2016-12-03  733  SVO     100.0  Business  366000.0   10        12   \n",
       "332  136900 2017-02-01  SU9  EGO      50.0  Business  226800.0   12        12   \n",
       "\n",
       "     fill_rate  fuel_rate  fuel_cost    profit  \n",
       "217       98.8        NaN        NaN       NaN  \n",
       "66        91.7   0.040000     1657.0  400943.0  \n",
       "130       83.3   0.028333     1174.0  364826.0  \n",
       "332      100.0        NaN        NaN       NaN  "
      ]
     },
     "execution_count": 20,
     "metadata": {},
     "output_type": "execute_result"
    }
   ],
   "source": [
    "df2.sample(4)"
   ]
  },
  {
   "cell_type": "code",
   "execution_count": 21,
   "metadata": {
    "scrolled": true
   },
   "outputs": [
    {
     "data": {
      "text/plain": [
       "<AxesSubplot:xlabel='fill_rate', ylabel='Count'>"
      ]
     },
     "execution_count": 21,
     "metadata": {},
     "output_type": "execute_result"
    },
    {
     "data": {
      "image/png": "[encoded data removed]",
      "text/plain": [
       "<Figure size 432x288 with 1 Axes>"
      ]
     },
     "metadata": {
      "needs_background": "light"
     },
     "output_type": "display_data"
    }
   ],
   "source": [
    "sns.histplot(data = df2\n",
    "            ,x = 'fill_rate'\n",
    "            ,alpha = .7\n",
    "            ,hue = 'class'\n",
    "            )"
   ]
  },
  {
   "cell_type": "code",
   "execution_count": 22,
   "metadata": {
    "scrolled": true
   },
   "outputs": [
    {
     "data": {
      "text/plain": [
       "<AxesSubplot:xlabel='fill_rate', ylabel='profit'>"
      ]
     },
     "execution_count": 22,
     "metadata": {},
     "output_type": "execute_result"
    },
    {
     "data": {
      "image/png": "[encoded data removed]",
      "text/plain": [
       "<Figure size 432x288 with 1 Axes>"
      ]
     },
     "metadata": {
      "needs_background": "light"
     },
     "output_type": "display_data"
    }
   ],
   "source": [
    "sns.scatterplot(data=df2, x=\"fill_rate\", y=\"profit\"\n",
    "               ,hue = 'class')  # уровни прибыли и заполняемости"
   ]
  }
 ],
 "metadata": {
  "kernelspec": {
   "display_name": "Python 3",
   "language": "python",
   "name": "python3"
  },
  "language_info": {
   "codemirror_mode": {
    "name": "ipython",
    "version": 3
   },
   "file_extension": ".py",
   "mimetype": "text/x-python",
   "name": "python",
   "nbconvert_exporter": "python",
   "pygments_lexer": "ipython3",
   "version": "3.8.5"
  }
 },
 "nbformat": 4,
 "nbformat_minor": 4
}
