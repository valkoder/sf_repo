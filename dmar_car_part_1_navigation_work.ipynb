{
 "cells": [
  {
   "cell_type": "raw",
   "id": "07b61f00",
   "metadata": {
    "scrolled": true
   },
   "source": [
    "# включить чтобы в небольшом окне ноутбук не прыгал вверх-вниз\n",
    "%%javascript\n",
    "IPython.notebook.events.off('checkpoint_created.Notebook');\n",
    "IPython.notebook.events.off('notebook_saved.Notebook');"
   ]
  },
  {
   "cell_type": "markdown",
   "id": "28193906",
   "metadata": {},
   "source": [
    "###  Дмитрий МАРЬИН - группа dspr-58 - Car Price prediction   "
   ]
  },
  {
   "cell_type": "markdown",
   "id": "1908391a",
   "metadata": {},
   "source": [
    "#### <span style=\"color: LightSeaGreen;\"> Юнит 7. Часть II - Проект 6. ВЫБИРАЕМ АВТО ВЫГОДНО</span>"
   ]
  },
  {
   "cell_type": "markdown",
   "id": "8a7f7ac9",
   "metadata": {},
   "source": [
    "моя страничка на GIT: https://github.com/valkoder"
   ]
  },
  {
   "cell_type": "markdown",
   "id": "5022a5a2",
   "metadata": {},
   "source": [
    "это **первая часть подготовка данных** - dmar_car_part_1.ipinb  \n",
    "вторая часть машинное обучение - в ноутбуке dmar_car_part_1.ipinb"
   ]
  },
  {
   "cell_type": "markdown",
   "id": "e0008849",
   "metadata": {},
   "source": [
    "<a name=\"top\"></a>  \n",
    "**Навигация:**  \n",
    "<a href='#task'>задача и метрика  \n",
    "<a href='#par'>почему без парсинга  \n",
    "<a href='#setup2'>setup  \n",
    "<a href='#input'>исходные данные  \n",
    "<a href='#test_check'>просмотр аттестующего (тестового) набора `df_alpha`  \n",
    "<a href='#test_clean'>`df_alpha` (тест) - выводы и чистка  \n",
    "<a href='#df_a_check'>просмотр обучающего `df_beta` (из all_auto_ru_09_09_2020.csv)  \n",
    "<a href='#df_a_clean'>обучающий набор - `df_beta`- выводы и чистка  \n",
    "<a href='#compare_df'>сравниваем форматы данных и убираем лишние столбцы и категории  \n",
    "<a href='#col_sort'>сортируем столбцы  \n",
    "<a href='#eda'>начало EDA  \n",
    "<a href='#fields_list'>первичный список типов данных в столбцах  \n",
    "<a href='#target'>целевая переменная и количественные признаки - ГРАФИКИ  \n",
    "<a href='#corr'>корреляционный анализ количественных столбцов  \n",
    "<a href='#corr2'>Т-тест  для категориальных признаков  \n",
    "<a href='#bis'>point biserial correlation coefficient  \n",
    "<a href='#eda1'>промежуточные итоги осмотра и подготовки данных  \n",
    "<a href='#fe'>Feature Engineering  \n",
    "<a href='#final_df'>итоговые датасеты  \n",
    "<a href='#end_data'>конец EDA  \n",
    "<a href='#code'>all code in one block  \n",
    "<a href='#end'>END"
   ]
  },
  {
   "cell_type": "markdown",
   "id": "f0015412",
   "metadata": {},
   "source": [
    "<a name=\"task\"></a> \n",
    "**задача** [[SF-DST] Car Price prediction](https://www.kaggle.com/c/sf-dst-car-price-prediction)   \n",
    "Представлен контрольный набор данных без цены - **test.csv - 32 поля, 34,686 записей**  \n",
    "Это подборка реальных объявлений 2020 года от продаже автомобилей с auto.ru содержащая идентификатор объявления `sell_id` и характеристики конкретного лота. Заявленная цена продажи (зависящая от характеристик авто, вменяемости продавца и от срочности продажи) отсутстствует и именно её надо предсказать.  \n",
    "Для оценки результата на Kagle надо заполнить форму содержащую номера объявлений из контрольного набора и соответствующие им заявленные цены этих объявлений предсказанные на основе имеющихся характеристик с помощью обученной модели.  \n",
    "\n",
    "Для обучение модели можно использовать данные полученные в результате самостоятельного парсинга, либо использовать данные baseline или датасеты полученные ранее другими участниками.  \n",
    "**метрика в соревновании -   MAPE**   \n",
    "задача - получить MAPE меньше baseline на leaderboard - 27%   \n",
    "лучшие достижения на Kaggle в лидерборде = **8%**"
   ]
  },
  {
   "cell_type": "markdown",
   "id": "ee70fa32",
   "metadata": {},
   "source": [
    "**причины отсутствия парсинга**   \n",
    "основной причиной явилась нехватка времени, особенно учитывая недавнее внедрение антипарсеров на auto.ru   \n",
    "кроме того хотелось оставаться в легальном поле и не нарушать пункты 7.2.2 и 7.3 **\"Пользовательского соглашение сайта AUTO.RU\"** - [auto.ru Terms of Service (TOC)](https://yandex.ru/legal/autoru_terms_of_service/)  \n",
    "7. Использование Сайта\n",
    "    + 7.2. Пользователь обязуется при использовании Сайта:\n",
    "    + 7.2.2. ... не использовать какие-либо компьютерные программы, роботы («пауки») или другие автоматические алгоритмы и методы, направленные на незаконные: «выкачивание» (сбор), передачу, копирование, блокирование, модификацию, уничтожение Информации и Базы данных, а также направленные на обход ограничений, установленных Администрацией Сайта в настройках Сайта;\n",
    "    + 7.3. Без письменного разрешения Администрации Сайта Пользователь обязуется не использовать автоматические программы для получения доступа к Сайту в целях извлечения, сбора, переработки, копирования, и/или последующего распространения Информации, представленной на Сайте и/или в Базе данных.\n"
   ]
  },
  {
   "cell_type": "markdown",
   "id": "3e0a6591",
   "metadata": {},
   "source": [
    "<a name=\"setup2\"></a> \n",
    "#### setup  "
   ]
  },
  {
   "cell_type": "code",
   "execution_count": 2,
   "id": "8e87615c",
   "metadata": {},
   "outputs": [],
   "source": [
    "import math\n",
    "import numpy as np\n",
    "import pandas as pd\n",
    "import matplotlib.pyplot as plt\n",
    "import seaborn as sns\n",
    "\n",
    "def display_all(df):     # display many columns / raws\n",
    "   with pd.option_context('display.max_rows', 6): # number of rows\n",
    "      with pd.option_context('display.max_columns', 35): # columns\n",
    "          display(df)\n",
    "\n",
    "def col_info(df, col):  # records, NaN, unique, duplicates\n",
    "    print(\"всего записей в столбце \", col, \" = \", \n",
    "          df[col].count())\n",
    "    print(\"NaN в столбце \",  col, \" = \", df[col].isna().sum(), \n",
    "          \",  в процентах = \", \n",
    "          \"{0:.0%}\".format(df[col].isna().sum() / len(df)))\n",
    "    print(\"уникальных в столбце \", col, \" = \", \n",
    "          df[col].nunique(dropna=False))\n",
    "    \n",
    "    a = df[df[col].duplicated(keep=False)].count()[1]    \n",
    "    print(\"всего записей-дубликатов в столбце \", col, \" = \", a)\n",
    "    \n",
    "    display_all(pd.DataFrame(df[col].value_counts(sort=True, dropna=False)))\n",
    "\n",
    "def col_info2(df1, df2, col):  # unique compare\n",
    "    print(\"df1 - записей в столбце \", col, \" = \", \n",
    "          df1[col].count())\n",
    "    print(\"df2 - записей в столбце \", col, \" = \", \n",
    "          df2[col].count())\n",
    "    print(\"df1 - уникальных в столбце \", col, \" = \", \n",
    "          df1[col].nunique(dropna=False))\n",
    "    print(\"df2 - уникальных в столбце \", col, \" = \", \n",
    "          df2[col].nunique(dropna=False))\n",
    "\n",
    "def col_info3 (df1, df2, col):  # col statistics for two df  \n",
    "    d = df1[col].describe().round(2).to_list()\n",
    "    u = df1[col].nunique()\n",
    "    print('df1', col, ':', u,'unique,', d[3], 'min, ',\n",
    "          d[7], 'max,', d[1], 'mean,', d[0], 'rows')\n",
    "    d2 = df2[col].describe().round(2).to_list()\n",
    "    u2 = df2[col].nunique()\n",
    "    print('df2', col, ':', u2,'unique,', d2[3], 'min, ',\n",
    "          d2[7], 'max,', d2[1], 'mean,', d2[0], 'rows')\n",
    "    \n",
    "def nan_columns(df): # наличие пропусков в всем датафрейме\n",
    "    nan_sum = df.isnull().sum()\n",
    "    print('NaN fix is needed for columns:', nan_sum[nan_sum > 0], sep='\\n'*2)\n",
    "    \n",
    "def info_table(df): # таблица NaN и unique по столбцам\n",
    "    mv = df.isnull().sum()\n",
    "    mvp = 100 * df.isnull().sum() / len(df)\n",
    "    mv2 = df.nunique(dropna=False)\n",
    "    mv_table = pd.concat([mv, mvp, mv2], axis=1)\n",
    "    mv_table2 = mv_table.rename(columns = {0: 'NaN', 1: '% NaN', 2: 'uniq'})\n",
    "    mv_table2 = mv_table2[mv_table2.iloc[:,1] >= 0].round(1)\n",
    "    return mv_table2\n",
    "\n",
    "def dubl(df): # наличие дубликатов записей в датафрейме\n",
    "    if len(df) > len(df.drop_duplicates()):\n",
    "        print('ЕСТЬ ДУБЛИКАТЫ')\n",
    "        display_all(df[df.duplicated(keep=False)])\n",
    "    else:\n",
    "        print('дубликатов нет')\n",
    "\n",
    "def dubl_col(df, col): # dupl find & show in specific COLUMN\n",
    "    df2 = df.sort_values(by=[col]) # new dataframe sorted by col\n",
    "    display_all(df2[df2[col].duplicated(keep=False)]) # show\n",
    "    \n",
    "def rename_columns(df): # to standart: from'S00' to 'Sxx'\n",
    "    df.set_axis([\"S\"+str(i).zfill(2) for i in range(0, df.shape[1])], \n",
    "                 axis=1, inplace=True)\n",
    "    # print(df.info())\n",
    "\n",
    "def percentile(df, col): # перцентили, интерквартильный размах\n",
    "    IQR = df[col].quantile(0.75) - df[col].quantile(0.25)\n",
    "    perc25 = df[col].quantile(0.25)\n",
    "    perc75 = df[col].quantile(0.75)\n",
    "    print(col, ': уровень 25%: {:,},'.format(perc25),\n",
    "          'уровень 75%: {:,},'.format(perc75), \n",
    "          'IQR: {:,}'.format(IQR))    \n",
    "def boxplot(df, col): # диаграмма размаха (boxplot)\n",
    "    fig, ax = plt.subplots(figsize = (8, 0.4))\n",
    "    sns.boxplot(x=col, \n",
    "                data=df.loc[\n",
    "                    df.loc[:, col].isin(df.loc[\n",
    "                        :, col].value_counts().index[:10])], ax=ax)\n",
    "    plt.xticks(rotation=45)\n",
    "    ax.set_title(col)\n",
    "    plt.show()"
   ]
  },
  {
   "cell_type": "markdown",
   "id": "24fed53d",
   "metadata": {},
   "source": [
    "<a name=\"input\"></a> \n",
    "### исходные данные\n",
    "на входе имеем:  \n",
    "- `test.csv` - 34,686 записей с характеристиками авто и номером объявления `sell_id`  \n",
    "- `empty_submission.csv` - 34,686 записей куда надо внести предсказанную цену\n",
    "- `all_auto_ru_09_09_2020.csv` - **обучающая база с ценой**"
   ]
  },
  {
   "cell_type": "code",
   "execution_count": 3,
   "id": "ad9cded6",
   "metadata": {},
   "outputs": [],
   "source": [
    "# грузим входные файлы #101\n",
    "df_sub = pd.read_csv('empty_submission.csv')\n",
    "df_alpha = pd.read_csv('test.csv')\n",
    "df_beta = pd.read_csv('all_auto_ru_09_09_2020.csv')\n",
    "# названия столбцов - в нижний регистр #102\n",
    "df_alpha.columns = df_alpha.columns.str.lower()\n",
    "df_beta.columns = df_beta.columns.str.lower()"
   ]
  },
  {
   "cell_type": "code",
   "execution_count": 4,
   "id": "bf0890f0",
   "metadata": {},
   "outputs": [
    {
     "name": "stdout",
     "output_type": "stream",
     "text": [
      "<class 'pandas.core.frame.DataFrame'>\n",
      "RangeIndex: 34686 entries, 0 to 34685\n",
      "Data columns (total 32 columns):\n",
      " #   Column                Non-Null Count  Dtype \n",
      "---  ------                --------------  ----- \n",
      " 0   bodytype              34686 non-null  object\n",
      " 1   brand                 34686 non-null  object\n",
      " 2   car_url               34686 non-null  object\n",
      " 3   color                 34686 non-null  object\n",
      " 4   complectation_dict    6418 non-null   object\n",
      " 5   description           34685 non-null  object\n",
      " 6   enginedisplacement    34686 non-null  object\n",
      " 7   enginepower           34686 non-null  object\n",
      " 8   equipment_dict        24690 non-null  object\n",
      " 9   fueltype              34686 non-null  object\n",
      " 10  image                 34686 non-null  object\n",
      " 11  mileage               34686 non-null  int64 \n",
      " 12  modeldate             34686 non-null  int64 \n",
      " 13  model_info            34686 non-null  object\n",
      " 14  model_name            34686 non-null  object\n",
      " 15  name                  34686 non-null  object\n",
      " 16  numberofdoors         34686 non-null  int64 \n",
      " 17  parsing_unixtime      34686 non-null  int64 \n",
      " 18  pricecurrency         34686 non-null  object\n",
      " 19  productiondate        34686 non-null  int64 \n",
      " 20  sell_id               34686 non-null  int64 \n",
      " 21  super_gen             34686 non-null  object\n",
      " 22  vehicleconfiguration  34686 non-null  object\n",
      " 23  vehicletransmission   34686 non-null  object\n",
      " 24  vendor                34686 non-null  object\n",
      " 25  владельцы             34686 non-null  object\n",
      " 26  владение              11995 non-null  object\n",
      " 27  птс                   34685 non-null  object\n",
      " 28  привод                34686 non-null  object\n",
      " 29  руль                  34686 non-null  object\n",
      " 30  состояние             34686 non-null  object\n",
      " 31  таможня               34686 non-null  object\n",
      "dtypes: int64(6), object(26)\n",
      "memory usage: 8.5+ MB\n"
     ]
    }
   ],
   "source": [
    "df_alpha.info()"
   ]
  },
  {
   "cell_type": "code",
   "execution_count": 5,
   "id": "a7820b4b",
   "metadata": {},
   "outputs": [
    {
     "name": "stdout",
     "output_type": "stream",
     "text": [
      "дубликатов нет\n"
     ]
    }
   ],
   "source": [
    "# проверим дубликаты в тесте\n",
    "dubl(df_alpha)"
   ]
  },
  {
   "cell_type": "code",
   "execution_count": 6,
   "id": "e2036890",
   "metadata": {},
   "outputs": [
    {
     "name": "stdout",
     "output_type": "stream",
     "text": [
      "ЕСТЬ ДУБЛИКАТЫ\n"
     ]
    },
    {
     "data": {
      "text/html": [
       "<div>\n",
       "<style scoped>\n",
       "    .dataframe tbody tr th:only-of-type {\n",
       "        vertical-align: middle;\n",
       "    }\n",
       "\n",
       "    .dataframe tbody tr th {\n",
       "        vertical-align: top;\n",
       "    }\n",
       "\n",
       "    .dataframe thead th {\n",
       "        text-align: right;\n",
       "    }\n",
       "</style>\n",
       "<table border=\"1\" class=\"dataframe\">\n",
       "  <thead>\n",
       "    <tr style=\"text-align: right;\">\n",
       "      <th></th>\n",
       "      <th>bodytype</th>\n",
       "      <th>brand</th>\n",
       "      <th>color</th>\n",
       "      <th>fueltype</th>\n",
       "      <th>modeldate</th>\n",
       "      <th>name</th>\n",
       "      <th>numberofdoors</th>\n",
       "      <th>productiondate</th>\n",
       "      <th>vehicleconfiguration</th>\n",
       "      <th>vehicletransmission</th>\n",
       "      <th>enginedisplacement</th>\n",
       "      <th>enginepower</th>\n",
       "      <th>description</th>\n",
       "      <th>mileage</th>\n",
       "      <th>комплектация</th>\n",
       "      <th>привод</th>\n",
       "      <th>руль</th>\n",
       "      <th>состояние</th>\n",
       "      <th>владельцы</th>\n",
       "      <th>птс</th>\n",
       "      <th>таможня</th>\n",
       "      <th>владение</th>\n",
       "      <th>price</th>\n",
       "      <th>start_date</th>\n",
       "      <th>hidden</th>\n",
       "      <th>model</th>\n",
       "    </tr>\n",
       "  </thead>\n",
       "  <tbody>\n",
       "    <tr>\n",
       "      <th>37</th>\n",
       "      <td>Седан</td>\n",
       "      <td>AUDI</td>\n",
       "      <td>0000CC</td>\n",
       "      <td>бензин</td>\n",
       "      <td>1990.0</td>\n",
       "      <td>2.3 MT (133 л.с.)</td>\n",
       "      <td>4.0</td>\n",
       "      <td>1992</td>\n",
       "      <td>SEDAN MECHANICAL 2.3</td>\n",
       "      <td>MECHANICAL</td>\n",
       "      <td>2.3</td>\n",
       "      <td>133.0</td>\n",
       "      <td>Продам машину целиком.Заводится.Едед.Больше го...</td>\n",
       "      <td>480000</td>\n",
       "      <td>{'id': '0'}</td>\n",
       "      <td>передний</td>\n",
       "      <td>LEFT</td>\n",
       "      <td>NaN</td>\n",
       "      <td>3.0</td>\n",
       "      <td>DUPLICATE</td>\n",
       "      <td>True</td>\n",
       "      <td>NaN</td>\n",
       "      <td>40000.0</td>\n",
       "      <td>2020-09-01T09:56:35Z</td>\n",
       "      <td>NaN</td>\n",
       "      <td>100</td>\n",
       "    </tr>\n",
       "    <tr>\n",
       "      <th>38</th>\n",
       "      <td>Седан</td>\n",
       "      <td>AUDI</td>\n",
       "      <td>0000CC</td>\n",
       "      <td>бензин</td>\n",
       "      <td>1990.0</td>\n",
       "      <td>2.3 MT (133 л.с.)</td>\n",
       "      <td>4.0</td>\n",
       "      <td>1992</td>\n",
       "      <td>SEDAN MECHANICAL 2.3</td>\n",
       "      <td>MECHANICAL</td>\n",
       "      <td>2.3</td>\n",
       "      <td>133.0</td>\n",
       "      <td>Продам машину целиком.Заводится.Едед.Больше го...</td>\n",
       "      <td>480000</td>\n",
       "      <td>{'id': '0'}</td>\n",
       "      <td>передний</td>\n",
       "      <td>LEFT</td>\n",
       "      <td>NaN</td>\n",
       "      <td>3.0</td>\n",
       "      <td>DUPLICATE</td>\n",
       "      <td>True</td>\n",
       "      <td>NaN</td>\n",
       "      <td>40000.0</td>\n",
       "      <td>2020-09-01T09:56:35Z</td>\n",
       "      <td>NaN</td>\n",
       "      <td>100</td>\n",
       "    </tr>\n",
       "    <tr>\n",
       "      <th>114</th>\n",
       "      <td>Седан</td>\n",
       "      <td>AUDI</td>\n",
       "      <td>040001</td>\n",
       "      <td>бензин</td>\n",
       "      <td>1986.0</td>\n",
       "      <td>1.8 AT (90 л.с.)</td>\n",
       "      <td>4.0</td>\n",
       "      <td>1990</td>\n",
       "      <td>SEDAN AUTOMATIC 1.8</td>\n",
       "      <td>AUTOMATIC</td>\n",
       "      <td>1.8</td>\n",
       "      <td>90.0</td>\n",
       "      <td>Машина на полном ходу, автомат, люк без торга!!!</td>\n",
       "      <td>218000</td>\n",
       "      <td>{'id': '0'}</td>\n",
       "      <td>передний</td>\n",
       "      <td>LEFT</td>\n",
       "      <td>NaN</td>\n",
       "      <td>3.0</td>\n",
       "      <td>ORIGINAL</td>\n",
       "      <td>True</td>\n",
       "      <td>NaN</td>\n",
       "      <td>70000.0</td>\n",
       "      <td>2020-09-04T09:42:15Z</td>\n",
       "      <td>NaN</td>\n",
       "      <td>80</td>\n",
       "    </tr>\n",
       "    <tr>\n",
       "      <th>...</th>\n",
       "      <td>...</td>\n",
       "      <td>...</td>\n",
       "      <td>...</td>\n",
       "      <td>...</td>\n",
       "      <td>...</td>\n",
       "      <td>...</td>\n",
       "      <td>...</td>\n",
       "      <td>...</td>\n",
       "      <td>...</td>\n",
       "      <td>...</td>\n",
       "      <td>...</td>\n",
       "      <td>...</td>\n",
       "      <td>...</td>\n",
       "      <td>...</td>\n",
       "      <td>...</td>\n",
       "      <td>...</td>\n",
       "      <td>...</td>\n",
       "      <td>...</td>\n",
       "      <td>...</td>\n",
       "      <td>...</td>\n",
       "      <td>...</td>\n",
       "      <td>...</td>\n",
       "      <td>...</td>\n",
       "      <td>...</td>\n",
       "      <td>...</td>\n",
       "      <td>...</td>\n",
       "    </tr>\n",
       "    <tr>\n",
       "      <th>89026</th>\n",
       "      <td>Внедорожник 5 дв.</td>\n",
       "      <td>SSANG_YONG</td>\n",
       "      <td>CACECB</td>\n",
       "      <td>дизель</td>\n",
       "      <td>2007.0</td>\n",
       "      <td>6-speed 2.0d AT (141 л.с.) 4WD</td>\n",
       "      <td>5.0</td>\n",
       "      <td>2011</td>\n",
       "      <td>ALLROAD_5_DOORS AUTOMATIC 6-speed</td>\n",
       "      <td>AUTOMATIC</td>\n",
       "      <td>6-speed</td>\n",
       "      <td>141.0</td>\n",
       "      <td>Авто в хорошем состоянии есть небольшие притёр...</td>\n",
       "      <td>68500</td>\n",
       "      <td>{'id': '4945686', 'name': 'Comfort', 'availabl...</td>\n",
       "      <td>полный</td>\n",
       "      <td>LEFT</td>\n",
       "      <td>NaN</td>\n",
       "      <td>3.0</td>\n",
       "      <td>ORIGINAL</td>\n",
       "      <td>True</td>\n",
       "      <td>NaN</td>\n",
       "      <td>525000.0</td>\n",
       "      <td>2020-03-24T17:53:19Z</td>\n",
       "      <td>NaN</td>\n",
       "      <td>KYRON</td>\n",
       "    </tr>\n",
       "    <tr>\n",
       "      <th>89253</th>\n",
       "      <td>Внедорожник 5 дв.</td>\n",
       "      <td>SSANG_YONG</td>\n",
       "      <td>200204</td>\n",
       "      <td>дизель</td>\n",
       "      <td>2006.0</td>\n",
       "      <td>2.7d MT (163 л.с.) 4WD</td>\n",
       "      <td>5.0</td>\n",
       "      <td>2009</td>\n",
       "      <td>ALLROAD_5_DOORS MECHANICAL 2.7d</td>\n",
       "      <td>MECHANICAL</td>\n",
       "      <td>2.7d</td>\n",
       "      <td>163.0</td>\n",
       "      <td>Авто в хорошем техническом состоянии. 2 - й вл...</td>\n",
       "      <td>195000</td>\n",
       "      <td>{'id': '7864524', 'name': 'Original', 'availab...</td>\n",
       "      <td>полный</td>\n",
       "      <td>LEFT</td>\n",
       "      <td>NaN</td>\n",
       "      <td>2.0</td>\n",
       "      <td>ORIGINAL</td>\n",
       "      <td>True</td>\n",
       "      <td>NaN</td>\n",
       "      <td>524000.0</td>\n",
       "      <td>2020-08-26T08:41:57Z</td>\n",
       "      <td>NaN</td>\n",
       "      <td>REXTON</td>\n",
       "    </tr>\n",
       "    <tr>\n",
       "      <th>89317</th>\n",
       "      <td>Внедорожник 5 дв.</td>\n",
       "      <td>SSANG_YONG</td>\n",
       "      <td>200204</td>\n",
       "      <td>дизель</td>\n",
       "      <td>2006.0</td>\n",
       "      <td>2.7d MT (163 л.с.) 4WD</td>\n",
       "      <td>5.0</td>\n",
       "      <td>2009</td>\n",
       "      <td>ALLROAD_5_DOORS MECHANICAL 2.7d</td>\n",
       "      <td>MECHANICAL</td>\n",
       "      <td>2.7d</td>\n",
       "      <td>163.0</td>\n",
       "      <td>Авто в хорошем техническом состоянии. 2 - й вл...</td>\n",
       "      <td>195000</td>\n",
       "      <td>{'id': '7864524', 'name': 'Original', 'availab...</td>\n",
       "      <td>полный</td>\n",
       "      <td>LEFT</td>\n",
       "      <td>NaN</td>\n",
       "      <td>2.0</td>\n",
       "      <td>ORIGINAL</td>\n",
       "      <td>True</td>\n",
       "      <td>NaN</td>\n",
       "      <td>524000.0</td>\n",
       "      <td>2020-08-26T08:41:57Z</td>\n",
       "      <td>NaN</td>\n",
       "      <td>REXTON</td>\n",
       "    </tr>\n",
       "  </tbody>\n",
       "</table>\n",
       "<p>3679 rows × 26 columns</p>\n",
       "</div>"
      ],
      "text/plain": [
       "                bodytype       brand   color fueltype  modeldate  \\\n",
       "37                 Седан        AUDI  0000CC   бензин     1990.0   \n",
       "38                 Седан        AUDI  0000CC   бензин     1990.0   \n",
       "114                Седан        AUDI  040001   бензин     1986.0   \n",
       "...                  ...         ...     ...      ...        ...   \n",
       "89026  Внедорожник 5 дв.  SSANG_YONG  CACECB   дизель     2007.0   \n",
       "89253  Внедорожник 5 дв.  SSANG_YONG  200204   дизель     2006.0   \n",
       "89317  Внедорожник 5 дв.  SSANG_YONG  200204   дизель     2006.0   \n",
       "\n",
       "                                 name  numberofdoors  productiondate  \\\n",
       "37                  2.3 MT (133 л.с.)            4.0            1992   \n",
       "38                  2.3 MT (133 л.с.)            4.0            1992   \n",
       "114                  1.8 AT (90 л.с.)            4.0            1990   \n",
       "...                               ...            ...             ...   \n",
       "89026  6-speed 2.0d AT (141 л.с.) 4WD            5.0            2011   \n",
       "89253          2.7d MT (163 л.с.) 4WD            5.0            2009   \n",
       "89317          2.7d MT (163 л.с.) 4WD            5.0            2009   \n",
       "\n",
       "                    vehicleconfiguration vehicletransmission  \\\n",
       "37                  SEDAN MECHANICAL 2.3          MECHANICAL   \n",
       "38                  SEDAN MECHANICAL 2.3          MECHANICAL   \n",
       "114                  SEDAN AUTOMATIC 1.8           AUTOMATIC   \n",
       "...                                  ...                 ...   \n",
       "89026  ALLROAD_5_DOORS AUTOMATIC 6-speed           AUTOMATIC   \n",
       "89253    ALLROAD_5_DOORS MECHANICAL 2.7d          MECHANICAL   \n",
       "89317    ALLROAD_5_DOORS MECHANICAL 2.7d          MECHANICAL   \n",
       "\n",
       "      enginedisplacement  enginepower  \\\n",
       "37                   2.3        133.0   \n",
       "38                   2.3        133.0   \n",
       "114                  1.8         90.0   \n",
       "...                  ...          ...   \n",
       "89026            6-speed        141.0   \n",
       "89253               2.7d        163.0   \n",
       "89317               2.7d        163.0   \n",
       "\n",
       "                                             description  mileage  \\\n",
       "37     Продам машину целиком.Заводится.Едед.Больше го...   480000   \n",
       "38     Продам машину целиком.Заводится.Едед.Больше го...   480000   \n",
       "114    Машина на полном ходу, автомат, люк без торга!!!    218000   \n",
       "...                                                  ...      ...   \n",
       "89026  Авто в хорошем состоянии есть небольшие притёр...    68500   \n",
       "89253  Авто в хорошем техническом состоянии. 2 - й вл...   195000   \n",
       "89317  Авто в хорошем техническом состоянии. 2 - й вл...   195000   \n",
       "\n",
       "                                            комплектация    привод  руль  \\\n",
       "37                                           {'id': '0'}  передний  LEFT   \n",
       "38                                           {'id': '0'}  передний  LEFT   \n",
       "114                                          {'id': '0'}  передний  LEFT   \n",
       "...                                                  ...       ...   ...   \n",
       "89026  {'id': '4945686', 'name': 'Comfort', 'availabl...    полный  LEFT   \n",
       "89253  {'id': '7864524', 'name': 'Original', 'availab...    полный  LEFT   \n",
       "89317  {'id': '7864524', 'name': 'Original', 'availab...    полный  LEFT   \n",
       "\n",
       "       состояние  владельцы        птс  таможня владение     price  \\\n",
       "37           NaN        3.0  DUPLICATE     True      NaN   40000.0   \n",
       "38           NaN        3.0  DUPLICATE     True      NaN   40000.0   \n",
       "114          NaN        3.0   ORIGINAL     True      NaN   70000.0   \n",
       "...          ...        ...        ...      ...      ...       ...   \n",
       "89026        NaN        3.0   ORIGINAL     True      NaN  525000.0   \n",
       "89253        NaN        2.0   ORIGINAL     True      NaN  524000.0   \n",
       "89317        NaN        2.0   ORIGINAL     True      NaN  524000.0   \n",
       "\n",
       "                 start_date  hidden   model  \n",
       "37     2020-09-01T09:56:35Z     NaN     100  \n",
       "38     2020-09-01T09:56:35Z     NaN     100  \n",
       "114    2020-09-04T09:42:15Z     NaN      80  \n",
       "...                     ...     ...     ...  \n",
       "89026  2020-03-24T17:53:19Z     NaN   KYRON  \n",
       "89253  2020-08-26T08:41:57Z     NaN  REXTON  \n",
       "89317  2020-08-26T08:41:57Z     NaN  REXTON  \n",
       "\n",
       "[3679 rows x 26 columns]"
      ]
     },
     "metadata": {},
     "output_type": "display_data"
    }
   ],
   "source": [
    "# в обучающем наборе есть дубли: 3679 rows\n",
    "dubl(df_beta)"
   ]
  },
  {
   "cell_type": "code",
   "execution_count": 7,
   "id": "ee28c684",
   "metadata": {},
   "outputs": [],
   "source": [
    "# уберем дубликаты из обучающего #103\n",
    "df_beta.drop_duplicates(keep='first', inplace=True)"
   ]
  },
  {
   "cell_type": "code",
   "execution_count": 8,
   "id": "ea898bad",
   "metadata": {},
   "outputs": [
    {
     "name": "stdout",
     "output_type": "stream",
     "text": [
      "<class 'pandas.core.frame.DataFrame'>\n",
      "Int64Index: 87264 entries, 0 to 89377\n",
      "Data columns (total 26 columns):\n",
      " #   Column                Non-Null Count  Dtype  \n",
      "---  ------                --------------  -----  \n",
      " 0   bodytype              87263 non-null  object \n",
      " 1   brand                 87264 non-null  object \n",
      " 2   color                 87264 non-null  object \n",
      " 3   fueltype              87264 non-null  object \n",
      " 4   modeldate             87263 non-null  float64\n",
      " 5   name                  87263 non-null  object \n",
      " 6   numberofdoors         87263 non-null  float64\n",
      " 7   productiondate        87264 non-null  int64  \n",
      " 8   vehicleconfiguration  87263 non-null  object \n",
      " 9   vehicletransmission   87263 non-null  object \n",
      " 10  enginedisplacement    87263 non-null  object \n",
      " 11  enginepower           87263 non-null  float64\n",
      " 12  description           84031 non-null  object \n",
      " 13  mileage               87264 non-null  int64  \n",
      " 14  комплектация          87264 non-null  object \n",
      " 15  привод                87263 non-null  object \n",
      " 16  руль                  87264 non-null  object \n",
      " 17  состояние             0 non-null      float64\n",
      " 18  владельцы             75247 non-null  float64\n",
      " 19  птс                   86907 non-null  object \n",
      " 20  таможня               87264 non-null  bool   \n",
      " 21  владение              28994 non-null  object \n",
      " 22  price                 86854 non-null  float64\n",
      " 23  start_date            87264 non-null  object \n",
      " 24  hidden                0 non-null      float64\n",
      " 25  model                 87264 non-null  object \n",
      "dtypes: bool(1), float64(7), int64(2), object(16)\n",
      "memory usage: 17.4+ MB\n"
     ]
    }
   ],
   "source": [
    "df_beta.info()"
   ]
  },
  {
   "cell_type": "markdown",
   "id": "635d9803",
   "metadata": {},
   "source": [
    "<a name=\"test_check\"></a> \n",
    "### просмотр аттестующего набора `df_alpha`  \n",
    "называю аттестующий поскольку он будет использоваться **для соревнования** Kagle  \n",
    "<a href='#test_clean'>пропустить и перейти к выводам просмотра"
   ]
  },
  {
   "cell_type": "code",
   "execution_count": 9,
   "id": "5009816f",
   "metadata": {
    "scrolled": true
   },
   "outputs": [
    {
     "data": {
      "text/html": [
       "<div>\n",
       "<style scoped>\n",
       "    .dataframe tbody tr th:only-of-type {\n",
       "        vertical-align: middle;\n",
       "    }\n",
       "\n",
       "    .dataframe tbody tr th {\n",
       "        vertical-align: top;\n",
       "    }\n",
       "\n",
       "    .dataframe thead th {\n",
       "        text-align: right;\n",
       "    }\n",
       "</style>\n",
       "<table border=\"1\" class=\"dataframe\">\n",
       "  <thead>\n",
       "    <tr style=\"text-align: right;\">\n",
       "      <th></th>\n",
       "      <th>NaN</th>\n",
       "      <th>% NaN</th>\n",
       "      <th>uniq</th>\n",
       "    </tr>\n",
       "  </thead>\n",
       "  <tbody>\n",
       "    <tr>\n",
       "      <th>sell_id</th>\n",
       "      <td>0</td>\n",
       "      <td>0.0</td>\n",
       "      <td>34686</td>\n",
       "    </tr>\n",
       "    <tr>\n",
       "      <th>price</th>\n",
       "      <td>0</td>\n",
       "      <td>0.0</td>\n",
       "      <td>1</td>\n",
       "    </tr>\n",
       "  </tbody>\n",
       "</table>\n",
       "</div>"
      ],
      "text/plain": [
       "         NaN  % NaN   uniq\n",
       "sell_id    0    0.0  34686\n",
       "price      0    0.0      1"
      ]
     },
     "execution_count": 9,
     "metadata": {},
     "output_type": "execute_result"
    }
   ],
   "source": [
    "# на всякий случай проверяем submission form\n",
    "info_table(df_sub)"
   ]
  },
  {
   "cell_type": "code",
   "execution_count": 10,
   "id": "2ea7dd3d",
   "metadata": {},
   "outputs": [
    {
     "name": "stdout",
     "output_type": "stream",
     "text": [
      "всего записей в столбце  bodytype  =  34686\n",
      "NaN в столбце  bodytype  =  0 ,  в процентах =  0%\n",
      "уникальных в столбце  bodytype  =  24\n",
      "всего записей-дубликатов в столбце  bodytype  =  34685\n"
     ]
    },
    {
     "data": {
      "text/html": [
       "<div>\n",
       "<style scoped>\n",
       "    .dataframe tbody tr th:only-of-type {\n",
       "        vertical-align: middle;\n",
       "    }\n",
       "\n",
       "    .dataframe tbody tr th {\n",
       "        vertical-align: top;\n",
       "    }\n",
       "\n",
       "    .dataframe thead th {\n",
       "        text-align: right;\n",
       "    }\n",
       "</style>\n",
       "<table border=\"1\" class=\"dataframe\">\n",
       "  <thead>\n",
       "    <tr style=\"text-align: right;\">\n",
       "      <th></th>\n",
       "      <th>bodytype</th>\n",
       "    </tr>\n",
       "  </thead>\n",
       "  <tbody>\n",
       "    <tr>\n",
       "      <th>седан</th>\n",
       "      <td>13147</td>\n",
       "    </tr>\n",
       "    <tr>\n",
       "      <th>внедорожник 5 дв.</th>\n",
       "      <td>12228</td>\n",
       "    </tr>\n",
       "    <tr>\n",
       "      <th>лифтбек</th>\n",
       "      <td>2232</td>\n",
       "    </tr>\n",
       "    <tr>\n",
       "      <th>...</th>\n",
       "      <td>...</td>\n",
       "    </tr>\n",
       "    <tr>\n",
       "      <th>внедорожник открытый</th>\n",
       "      <td>3</td>\n",
       "    </tr>\n",
       "    <tr>\n",
       "      <th>тарга</th>\n",
       "      <td>2</td>\n",
       "    </tr>\n",
       "    <tr>\n",
       "      <th>фастбек</th>\n",
       "      <td>1</td>\n",
       "    </tr>\n",
       "  </tbody>\n",
       "</table>\n",
       "<p>24 rows × 1 columns</p>\n",
       "</div>"
      ],
      "text/plain": [
       "                      bodytype\n",
       "седан                    13147\n",
       "внедорожник 5 дв.        12228\n",
       "лифтбек                   2232\n",
       "...                        ...\n",
       "внедорожник открытый         3\n",
       "тарга                        2\n",
       "фастбек                      1\n",
       "\n",
       "[24 rows x 1 columns]"
      ]
     },
     "metadata": {},
     "output_type": "display_data"
    }
   ],
   "source": [
    "# начнем просматривать все поля - что там лежит\n",
    "col_info(df_alpha, df_alpha.columns.to_list()[0])"
   ]
  },
  {
   "cell_type": "code",
   "execution_count": 11,
   "id": "6850d733",
   "metadata": {},
   "outputs": [
    {
     "name": "stdout",
     "output_type": "stream",
     "text": [
      "всего записей в столбце  brand  =  34686\n",
      "NaN в столбце  brand  =  0 ,  в процентах =  0%\n",
      "уникальных в столбце  brand  =  12\n",
      "всего записей-дубликатов в столбце  brand  =  34686\n"
     ]
    },
    {
     "data": {
      "text/html": [
       "<div>\n",
       "<style scoped>\n",
       "    .dataframe tbody tr th:only-of-type {\n",
       "        vertical-align: middle;\n",
       "    }\n",
       "\n",
       "    .dataframe tbody tr th {\n",
       "        vertical-align: top;\n",
       "    }\n",
       "\n",
       "    .dataframe thead th {\n",
       "        text-align: right;\n",
       "    }\n",
       "</style>\n",
       "<table border=\"1\" class=\"dataframe\">\n",
       "  <thead>\n",
       "    <tr style=\"text-align: right;\">\n",
       "      <th></th>\n",
       "      <th>brand</th>\n",
       "    </tr>\n",
       "  </thead>\n",
       "  <tbody>\n",
       "    <tr>\n",
       "      <th>BMW</th>\n",
       "      <td>4473</td>\n",
       "    </tr>\n",
       "    <tr>\n",
       "      <th>VOLKSWAGEN</th>\n",
       "      <td>4404</td>\n",
       "    </tr>\n",
       "    <tr>\n",
       "      <th>NISSAN</th>\n",
       "      <td>4393</td>\n",
       "    </tr>\n",
       "    <tr>\n",
       "      <th>...</th>\n",
       "      <td>...</td>\n",
       "    </tr>\n",
       "    <tr>\n",
       "      <th>HONDA</th>\n",
       "      <td>1150</td>\n",
       "    </tr>\n",
       "    <tr>\n",
       "      <th>INFINITI</th>\n",
       "      <td>871</td>\n",
       "    </tr>\n",
       "    <tr>\n",
       "      <th>LEXUS</th>\n",
       "      <td>834</td>\n",
       "    </tr>\n",
       "  </tbody>\n",
       "</table>\n",
       "<p>12 rows × 1 columns</p>\n",
       "</div>"
      ],
      "text/plain": [
       "            brand\n",
       "BMW          4473\n",
       "VOLKSWAGEN   4404\n",
       "NISSAN       4393\n",
       "...           ...\n",
       "HONDA        1150\n",
       "INFINITI      871\n",
       "LEXUS         834\n",
       "\n",
       "[12 rows x 1 columns]"
      ]
     },
     "metadata": {},
     "output_type": "display_data"
    }
   ],
   "source": [
    "col_info(df_alpha, df_alpha.columns.to_list()[1])"
   ]
  },
  {
   "cell_type": "code",
   "execution_count": 12,
   "id": "c551ea64",
   "metadata": {},
   "outputs": [
    {
     "name": "stdout",
     "output_type": "stream",
     "text": [
      "всего записей в столбце  color  =  34686\n",
      "NaN в столбце  color  =  0 ,  в процентах =  0%\n",
      "уникальных в столбце  color  =  16\n",
      "всего записей-дубликатов в столбце  color  =  34686\n"
     ]
    },
    {
     "data": {
      "text/html": [
       "<div>\n",
       "<style scoped>\n",
       "    .dataframe tbody tr th:only-of-type {\n",
       "        vertical-align: middle;\n",
       "    }\n",
       "\n",
       "    .dataframe tbody tr th {\n",
       "        vertical-align: top;\n",
       "    }\n",
       "\n",
       "    .dataframe thead th {\n",
       "        text-align: right;\n",
       "    }\n",
       "</style>\n",
       "<table border=\"1\" class=\"dataframe\">\n",
       "  <thead>\n",
       "    <tr style=\"text-align: right;\">\n",
       "      <th></th>\n",
       "      <th>color</th>\n",
       "    </tr>\n",
       "  </thead>\n",
       "  <tbody>\n",
       "    <tr>\n",
       "      <th>чёрный</th>\n",
       "      <td>11010</td>\n",
       "    </tr>\n",
       "    <tr>\n",
       "      <th>белый</th>\n",
       "      <td>6133</td>\n",
       "    </tr>\n",
       "    <tr>\n",
       "      <th>серебристый</th>\n",
       "      <td>4113</td>\n",
       "    </tr>\n",
       "    <tr>\n",
       "      <th>...</th>\n",
       "      <td>...</td>\n",
       "    </tr>\n",
       "    <tr>\n",
       "      <th>жёлтый</th>\n",
       "      <td>194</td>\n",
       "    </tr>\n",
       "    <tr>\n",
       "      <th>оранжевый</th>\n",
       "      <td>131</td>\n",
       "    </tr>\n",
       "    <tr>\n",
       "      <th>розовый</th>\n",
       "      <td>13</td>\n",
       "    </tr>\n",
       "  </tbody>\n",
       "</table>\n",
       "<p>16 rows × 1 columns</p>\n",
       "</div>"
      ],
      "text/plain": [
       "             color\n",
       "чёрный       11010\n",
       "белый         6133\n",
       "серебристый   4113\n",
       "...            ...\n",
       "жёлтый         194\n",
       "оранжевый      131\n",
       "розовый         13\n",
       "\n",
       "[16 rows x 1 columns]"
      ]
     },
     "metadata": {},
     "output_type": "display_data"
    }
   ],
   "source": [
    "col_info(df_alpha, df_alpha.columns.to_list()[3])"
   ]
  },
  {
   "cell_type": "code",
   "execution_count": 13,
   "id": "11312941",
   "metadata": {},
   "outputs": [
    {
     "name": "stdout",
     "output_type": "stream",
     "text": [
      "всего записей в столбце  complectation_dict  =  6418\n",
      "NaN в столбце  complectation_dict  =  28268 ,  в процентах =  81%\n",
      "уникальных в столбце  complectation_dict  =  2365\n",
      "всего записей-дубликатов в столбце  complectation_dict  =  33503\n"
     ]
    },
    {
     "data": {
      "text/html": [
       "<div>\n",
       "<style scoped>\n",
       "    .dataframe tbody tr th:only-of-type {\n",
       "        vertical-align: middle;\n",
       "    }\n",
       "\n",
       "    .dataframe tbody tr th {\n",
       "        vertical-align: top;\n",
       "    }\n",
       "\n",
       "    .dataframe thead th {\n",
       "        text-align: right;\n",
       "    }\n",
       "</style>\n",
       "<table border=\"1\" class=\"dataframe\">\n",
       "  <thead>\n",
       "    <tr style=\"text-align: right;\">\n",
       "      <th></th>\n",
       "      <th>complectation_dict</th>\n",
       "    </tr>\n",
       "  </thead>\n",
       "  <tbody>\n",
       "    <tr>\n",
       "      <th>NaN</th>\n",
       "      <td>28268</td>\n",
       "    </tr>\n",
       "    <tr>\n",
       "      <th>{\"id\":\"4562904\",\"name\":\"Elegance\",\"available_options\":[\"cruise-control\",\"multi-wheel\",\"airbag-passenger\",\"lock\",\"electro-mirrors\",\"mirrors-heat\",\"cooling-box\",\"computer\",\"seat-transformation\",\"wheel-power\",\"fabric-seats\",\"airbag-side\",\"abs\",\"wheel-leather\",\"climate-control-1\",\"esp\",\"audiopreparation\",\"electro-window-back\",\"condition\",\"music-super\",\"park-assist-r\",\"airbag-driver\",\"isofix\",\"aux\",\"electro-window-front\",\"light-sensor\",\"hcc\",\"alarm\",\"ptf\",\"rain-sensor\",\"audiosystem-cd\",\"front-seats-heat\",\"wheel-configuration2\",\"wheel-configuration1\",\"immo\"]}</th>\n",
       "      <td>51</td>\n",
       "    </tr>\n",
       "    <tr>\n",
       "      <th>{\"id\":\"20913628\",\"name\":\"Style\",\"available_options\":[\"cruise-control\",\"multi-wheel\",\"heated-wash-system\",\"airbag-passenger\",\"decorative-interior-lighting\",\"lock\",\"electro-mirrors\",\"mirrors-heat\",\"volume-sensor\",\"cooling-box\",\"glonass\",\"passenger-seat-updown\",\"computer\",\"seat-transformation\",\"fabric-seats\",\"airbag-side\",\"electronic-gage-panel\",\"abs\",\"wheel-leather\",\"climate-control-2\",\"esp\",\"usb\",\"audiopreparation\",\"ashtray-and-cigarette-lighter\",\"front-centre-armrest\",\"servo\",\"electro-window-back\",\"16-inch-wheels\",\"park-assist-r\",\"airbag-driver\",\"isofix\",\"aux\",\"electro-window-front\",\"light-sensor\",\"hcc\",\"airbag-curtain\",\"alarm\",\"leather-gear-stick\",\"ptf\",\"rain-sensor\",\"voice-recognition\",\"audiosystem-cd\",\"front-seats-heat\",\"bluetooth\",\"wheel-configuration2\",\"wheel-configuration1\",\"immo\",\"12v-socket\",\"third-rear-headrest\"],\"vendor_colors\":[{\"body_color_id\":21438108,\"mark_color_id\":21390875,\"name_ru\":\"Серый Platinum\",\"hex_codes\":[\"787672\"],\"color_type\":\"METALLIC\",\"stock_color\":{\"hex_code\":\"97948F\",\"name_ru\":\"серый\"},\"photos\":[{\"name\":\"34-front\",\"sizes\":{\"orig\":\"//avatars.mds.yandex.net/get-verba/1540742/2a0000016dcfe0e0ca95c1e01f535bff3a3c/orig\",\"wizardv3mr\":\"//avatars.mds.yandex.net/get-verba/1540742/2a0000016dcfe0e0ca95c1e01f535bff3a3c/wizardv3mr\",\"wizardv3\":\"//avatars.mds.yandex.net/get-verba/1540742/2a0000016dcfe0e0ca95c1e01f535bff3a3c/wizardv3\",\"cattouch\":\"//avatars.mds.yandex.net/get-verba/1540742/2a0000016dcfe0e0ca95c1e01f535bff3a3c/cattouch\",\"small\":\"//avatars.mds.yandex.net/get-verba/1540742/2a0000016dcfe0e0ca95c1e01f535bff3a3c/small\",\"320x240\":\"//avatars.mds.yandex.net/get-verba/1540742/2a0000016dcfe0e0ca95c1e01f535bff3a3c/320x240\",\"1200x900\":\"//avatars.mds.yandex.net/get-verba/1540742/2a0000016dcfe0e0ca95c1e01f535bff3a3c/1200x900\",\"1200x900n\":\"//avatars.mds.yandex.net/get-verba/1540742/2a0000016dcfe0e0ca95c1e01f535bff3a3c/1200x900n\",\"thumb_m\":\"//avatars.mds.yandex.net/get-verba/1540742/2a0000016dcfe0e0ca95c1e01f535bff3a3c/thumb_m\",\"full\":\"//avatars.mds.yandex.net/get-verba/1540742/2a0000016dcfe0e0ca95c1e01f535bff3a3c/full\",\"832x624\":\"//avatars.mds.yandex.net/get-verba/1540742/2a0000016dcfe0e0ca95c1e01f535bff3a3c/832x624\",\"456x342\":\"//avatars.mds.yandex.net/get-verba/1540742/2a0000016dcfe0e0ca95c1e01f535bff3a3c/456x342\",\"120x90\":\"//avatars.mds.yandex.net/get-verba/1540742/2a0000016dcfe0e0ca95c1e01f535bff3a3c/120x90\",\"92x69\":\"//avatars.mds.yandex.net/get-verba/1540742/2a0000016dcfe0e0ca95c1e01f535bff3a3c/92x69\",\"islandoff\":\"//avatars.mds.yandex.net/get-verba/1540742/2a0000016dcfe0e0ca95c1e01f535bff3a3c/islandoff\",\"thumb_s\":\"//avatars.mds.yandex.net/get-verba/1540742/2a0000016dcfe0e0ca95c1e01f535bff3a3c/thumb_s\",\"thumb_s_2x\":\"//avatars.mds.yandex.net/get-verba/1540742/2a0000016dcfe0e0ca95c1e01f535bff3a3c/thumb_s_2x\"}},{\"name\":\"34-back\",\"sizes\":{\"orig\":\"//avatars.mds.yandex.net/get-verba/937147/2a0000016dcfe0fc1be343934c10f4bd6712/orig\",\"wizardv3mr\":\"//avatars.mds.yandex.net/get-verba/937147/2a0000016dcfe0fc1be343934c10f4bd6712/wizardv3mr\",\"wizardv3\":\"//avatars.mds.yandex.net/get-verba/937147/2a0000016dcfe0fc1be343934c10f4bd6712/wizardv3\",\"cattouch\":\"//avatars.mds.yandex.net/get-verba/937147/2a0000016dcfe0fc1be343934c10f4bd6712/cattouch\",\"small\":\"//avatars.mds.yandex.net/get-verba/937147/2a0000016dcfe0fc1be343934c10f4bd6712/small\",\"320x240\":\"//avatars.mds.yandex.net/get-verba/937147/2a0000016dcfe0fc1be343934c10f4bd6712/320x240\",\"1200x900\":\"//avatars.mds.yandex.net/get-verba/937147/2a0000016dcfe0fc1be343934c10f4bd6712/1200x900\",\"1200x900n\":\"//avatars.mds.yandex.net/get-verba/937147/2a0000016dcfe0fc1be343934c10f4bd6712/1200x900n\",\"thumb_m\":\"//avatars.mds.yandex.net/get-verba/937147/2a0000016dcfe0fc1be343934c10f4bd6712/thumb_m\",\"full\":\"//avatars.mds.yandex.net/get-verba/937147/2a0000016dcfe0fc1be343934c10f4bd6712/full\",\"832x624\":\"//avatars.mds.yandex.net/get-verba/937147/2a0000016dcfe0fc1be343934c10f4bd6712/832x624\",\"456x342\":\"//avatars.mds.yandex.net/get-verba/937147/2a0000016dcfe0fc1be343934c10f4bd6712/456x342\",\"120x90\":\"//avatars.mds.yandex.net/get-verba/937147/2a0000016dcfe0fc1be343934c10f4bd6712/120x90\",\"92x69\":\"//avatars.mds.yandex.net/get-verba/937147/2a0000016dcfe0fc1be343934c10f4bd6712/92x69\",\"islandoff\":\"//avatars.mds.yandex.net/get-verba/937147/2a0000016dcfe0fc1be343934c10f4bd6712/islandoff\",\"thumb_s\":\"//avatars.mds.yandex.net/get-verba/937147/2a0000016dcfe0fc1be343934c10f4bd6712/thumb_s\",\"thumb_s_2x\":\"//avatars.mds.yandex.net/get-verba/937147/2a0000016dcfe0fc1be343934c10f4bd6712/thumb_s_2x\"}},{\"name\":\"side\",\"sizes\":{\"orig\":\"//avatars.mds.yandex.net/get-verba/997355/2a0000016dcfe11090fc6e82019c69278a4b/orig\",\"wizardv3mr\":\"//avatars.mds.yandex.net/get-verba/997355/2a0000016dcfe11090fc6e82019c69278a4b/wizardv3mr\",\"wizardv3\":\"//avatars.mds.yandex.net/get-verba/997355/2a0000016dcfe11090fc6e82019c69278a4b/wizardv3\",\"cattouch\":\"//avatars.mds.yandex.net/get-verba/997355/2a0000016dcfe11090fc6e82019c69278a4b/cattouch\",\"small\":\"//avatars.mds.yandex.net/get-verba/997355/2a0000016dcfe11090fc6e82019c69278a4b/small\",\"320x240\":\"//avatars.mds.yandex.net/get-verba/997355/2a0000016dcfe11090fc6e82019c69278a4b/320x240\",\"1200x900\":\"//avatars.mds.yandex.net/get-verba/997355/2a0000016dcfe11090fc6e82019c69278a4b/1200x900\",\"1200x900n\":\"//avatars.mds.yandex.net/get-verba/997355/2a0000016dcfe11090fc6e82019c69278a4b/1200x900n\",\"thumb_m\":\"//avatars.mds.yandex.net/get-verba/997355/2a0000016dcfe11090fc6e82019c69278a4b/thumb_m\",\"full\":\"//avatars.mds.yandex.net/get-verba/997355/2a0000016dcfe11090fc6e82019c69278a4b/full\",\"832x624\":\"//avatars.mds.yandex.net/get-verba/997355/2a0000016dcfe11090fc6e82019c69278a4b/832x624\",\"456x342\":\"//avatars.mds.yandex.net/get-verba/997355/2a0000016dcfe11090fc6e82019c69278a4b/456x342\",\"120x90\":\"//avatars.mds.yandex.net/get-verba/997355/2a0000016dcfe11090fc6e82019c69278a4b/120x90\",\"92x69\":\"//avatars.mds.yandex.net/get-verba/997355/2a0000016dcfe11090fc6e82019c69278a4b/92x69\",\"islandoff\":\"//avatars.mds.yandex.net/get-verba/997355/2a0000016dcfe11090fc6e82019c69278a4b/islandoff\",\"thumb_s\":\"//avatars.mds.yandex.net/get-verba/997355/2a0000016dcfe11090fc6e82019c69278a4b/thumb_s\",\"thumb_s_2x\":\"//avatars.mds.yandex.net/get-verba/997355/2a0000016dcfe11090fc6e82019c69278a4b/thumb_s_2x\"}},{\"name\":\"front\",\"sizes\":{\"orig\":\"//avatars.mds.yandex.net/get-verba/997355/2a0000016dcfe1479d0018532a6831caa889/orig\",\"wizardv3mr\":\"//avatars.mds.yandex.net/get-verba/997355/2a0000016dcfe1479d0018532a6831caa889/wizardv3mr\",\"wizardv3\":\"//avatars.mds.yandex.net/get-verba/997355/2a0000016dcfe1479d0018532a6831caa889/wizardv3\",\"cattouch\":\"//avatars.mds.yandex.net/get-verba/997355/2a0000016dcfe1479d0018532a6831caa889/cattouch\",\"small\":\"//avatars.mds.yandex.net/get-verba/997355/2a0000016dcfe1479d0018532a6831caa889/small\",\"320x240\":\"//avatars.mds.yandex.net/get-verba/997355/2a0000016dcfe1479d0018532a6831caa889/320x240\",\"1200x900\":\"//avatars.mds.yandex.net/get-verba/997355/2a0000016dcfe1479d0018532a6831caa889/1200x900\",\"1200x900n\":\"//avatars.mds.yandex.net/get-verba/997355/2a0000016dcfe1479d0018532a6831caa889/1200x900n\",\"thumb_m\":\"//avatars.mds.yandex.net/get-verba/997355/2a0000016dcfe1479d0018532a6831caa889/thumb_m\",\"full\":\"//avatars.mds.yandex.net/get-verba/997355/2a0000016dcfe1479d0018532a6831caa889/full\",\"832x624\":\"//avatars.mds.yandex.net/get-verba/997355/2a0000016dcfe1479d0018532a6831caa889/832x624\",\"456x342\":\"//avatars.mds.yandex.net/get-verba/997355/2a0000016dcfe1479d0018532a6831caa889/456x342\",\"120x90\":\"//avatars.mds.yandex.net/get-verba/997355/2a0000016dcfe1479d0018532a6831caa889/120x90\",\"92x69\":\"//avatars.mds.yandex.net/get-verba/997355/2a0000016dcfe1479d0018532a6831caa889/92x69\",\"islandoff\":\"//avatars.mds.yandex.net/get-verba/997355/2a0000016dcfe1479d0018532a6831caa889/islandoff\",\"thumb_s\":\"//avatars.mds.yandex.net/get-verba/997355/2a0000016dcfe1479d0018532a6831caa889/thumb_s\",\"thumb_s_2x\":\"//avatars.mds.yandex.net/get-verba/997355/2a0000016dcfe1479d0018532a6831caa889/thumb_s_2x\"}},{\"name\":\"back\",\"sizes\":{\"orig\":\"//avatars.mds.yandex.net/get-verba/997355/2a0000016dcfe170341bf5bda8080e27b18a/orig\",\"wizardv3mr\":\"//avatars.mds.yandex.net/get-verba/997355/2a0000016dcfe170341bf5bda8080e27b18a/wizardv3mr\",\"wizardv3\":\"//avatars.mds.yandex.net/get-verba/997355/2a0000016dcfe170341bf5bda8080e27b18a/wizardv3\",\"cattouch\":\"//avatars.mds.yandex.net/get-verba/997355/2a0000016dcfe170341bf5bda8080e27b18a/cattouch\",\"small\":\"//avatars.mds.yandex.net/get-verba/997355/2a0000016dcfe170341bf5bda8080e27b18a/small\",\"320x240\":\"//avatars.mds.yandex.net/get-verba/997355/2a0000016dcfe170341bf5bda8080e27b18a/320x240\",\"1200x900\":\"//avatars.mds.yandex.net/get-verba/997355/2a0000016dcfe170341bf5bda8080e27b18a/1200x900\",\"1200x900n\":\"//avatars.mds.yandex.net/get-verba/997355/2a0000016dcfe170341bf5bda8080e27b18a/1200x900n\",\"thumb_m\":\"//avatars.mds.yandex.net/get-verba/997355/2a0000016dcfe170341bf5bda8080e27b18a/thumb_m\",\"full\":\"//avatars.mds.yandex.net/get-verba/997355/2a0000016dcfe170341bf5bda8080e27b18a/full\",\"832x624\":\"//avatars.mds.yandex.net/get-verba/997355/2a0000016dcfe170341bf5bda8080e27b18a/832x624\",\"456x342\":\"//avatars.mds.yandex.net/get-verba/997355/2a0000016dcfe170341bf5bda8080e27b18a/456x342\",\"120x90\":\"//avatars.mds.yandex.net/get-verba/997355/2a0000016dcfe170341bf5bda8080e27b18a/120x90\",\"92x69\":\"//avatars.mds.yandex.net/get-verba/997355/2a0000016dcfe170341bf5bda8080e27b18a/92x69\",\"islandoff\":\"//avatars.mds.yandex.net/get-verba/997355/2a0000016dcfe170341bf5bda8080e27b18a/islandoff\",\"thumb_s\":\"//avatars.mds.yandex.net/get-verba/997355/2a0000016dcfe170341bf5bda8080e27b18a/thumb_s\",\"thumb_s_2x\":\"//avatars.mds.yandex.net/get-verba/997355/2a0000016dcfe170341bf5bda8080e27b18a/thumb_s_2x\"}}],\"main_color\":true}]}</th>\n",
       "      <td>26</td>\n",
       "    </tr>\n",
       "    <tr>\n",
       "      <th>...</th>\n",
       "      <td>...</td>\n",
       "    </tr>\n",
       "    <tr>\n",
       "      <th>{\"id\":\"21436820\",\"name\":\"LE Top (2018-2020)\",\"available_options\":[\"cruise-control\",\"multi-wheel\",\"auto-park\",\"airbag-passenger\",\"navigation\",\"roof-rails\",\"bas\",\"lock\",\"electro-mirrors\",\"easy-trunk-opening\",\"mirrors-heat\",\"leather\",\"glonass\",\"drowsy-driver-alert-system\",\"automatic-lighting-control\",\"passenger-seat-updown\",\"collision-prevention-assist\",\"computer\",\"high-beam-assist\",\"seat-transformation\",\"wheel-power\",\"light-cleaner\",\"airbag-side\",\"electro-trunk\",\"abs\",\"wheel-leather\",\"climate-control-2\",\"asr\",\"tinted-glass\",\"esp\",\"adaptive-light\",\"usb\",\"audiopreparation\",\"lane-keeping-assist\",\"front-centre-armrest\",\"electro-window-back\",\"reduce-spare-wheel\",\"hatch\",\"park-assist-f\",\"rear-seats-heat\",\"19-inch-wheels\",\"wheel-heat\",\"led-lights\",\"park-assist-r\",\"airbag-driver\",\"isofix\",\"aux\",\"electro-window-front\",\"light-sensor\",\"hcc\",\"airbag-curtain\",\"keyless-entry\",\"passenger-seat-electric\",\"leather-gear-stick\",\"blind-spot\",\"start-button\",\"ptf\",\"rain-sensor\",\"tyre-pressure\",\"audiosystem-cd\",\"panorama-roof\",\"front-seats-heat\",\"bluetooth\",\"wheel-configuration2\",\"wheel-configuration1\",\"immo\",\"windscreen-heat\",\"12v-socket\",\"third-rear-headrest\",\"360-camera\"],\"vendor_colors\":[{\"body_color_id\":21524564,\"mark_color_id\":21524543,\"name_ru\":\"Оранжевый\",\"hex_codes\":[\"BF7127\"],\"color_type\":\"METALLIC\",\"stock_color\":{\"hex_code\":\"FF8649\",\"name_ru\":\"оранжевый\"},\"photos\":[{\"name\":\"34-front\",\"sizes\":{\"orig\":\"//avatars.mds.yandex.net/get-verba/1604130/2a00000169a11b06eaf36fa883cbfdcd2754/orig\",\"wizardv3mr\":\"//avatars.mds.yandex.net/get-verba/1604130/2a00000169a11b06eaf36fa883cbfdcd2754/wizardv3mr\",\"wizardv3\":\"//avatars.mds.yandex.net/get-verba/1604130/2a00000169a11b06eaf36fa883cbfdcd2754/wizardv3\",\"cattouch\":\"//avatars.mds.yandex.net/get-verba/1604130/2a00000169a11b06eaf36fa883cbfdcd2754/cattouch\",\"small\":\"//avatars.mds.yandex.net/get-verba/1604130/2a00000169a11b06eaf36fa883cbfdcd2754/small\",\"320x240\":\"//avatars.mds.yandex.net/get-verba/1604130/2a00000169a11b06eaf36fa883cbfdcd2754/320x240\",\"1200x900\":\"//avatars.mds.yandex.net/get-verba/1604130/2a00000169a11b06eaf36fa883cbfdcd2754/1200x900\",\"1200x900n\":\"//avatars.mds.yandex.net/get-verba/1604130/2a00000169a11b06eaf36fa883cbfdcd2754/1200x900n\",\"thumb_m\":\"//avatars.mds.yandex.net/get-verba/1604130/2a00000169a11b06eaf36fa883cbfdcd2754/thumb_m\",\"full\":\"//avatars.mds.yandex.net/get-verba/1604130/2a00000169a11b06eaf36fa883cbfdcd2754/full\",\"832x624\":\"//avatars.mds.yandex.net/get-verba/1604130/2a00000169a11b06eaf36fa883cbfdcd2754/832x624\",\"456x342\":\"//avatars.mds.yandex.net/get-verba/1604130/2a00000169a11b06eaf36fa883cbfdcd2754/456x342\",\"120x90\":\"//avatars.mds.yandex.net/get-verba/1604130/2a00000169a11b06eaf36fa883cbfdcd2754/120x90\",\"92x69\":\"//avatars.mds.yandex.net/get-verba/1604130/2a00000169a11b06eaf36fa883cbfdcd2754/92x69\",\"islandoff\":\"//avatars.mds.yandex.net/get-verba/1604130/2a00000169a11b06eaf36fa883cbfdcd2754/islandoff\",\"thumb_s\":\"//avatars.mds.yandex.net/get-verba/1604130/2a00000169a11b06eaf36fa883cbfdcd2754/thumb_s\",\"thumb_s_2x\":\"//avatars.mds.yandex.net/get-verba/1604130/2a00000169a11b06eaf36fa883cbfdcd2754/thumb_s_2x\"}}],\"main_color\":true}]}</th>\n",
       "      <td>1</td>\n",
       "    </tr>\n",
       "    <tr>\n",
       "      <th>{\"id\":\"20416733\",\"name\":\"SE\",\"available_options\":[\"cruise-control\",\"multi-wheel\",\"airbag-passenger\",\"lock\",\"electro-mirrors\",\"mirrors-heat\",\"start-stop-function\",\"computer\",\"seat-transformation\",\"wheel-power\",\"light-cleaner\",\"fabric-seats\",\"airbag-side\",\"abs\",\"wheel-leather\",\"climate-control-1\",\"auto-mirrors\",\"tinted-glass\",\"esp\",\"usb\",\"audiopreparation\",\"front-centre-armrest\",\"electro-window-back\",\"17-inch-wheels\",\"body-mouldings\",\"park-assist-f\",\"park-assist-r\",\"airbag-driver\",\"isofix\",\"aux\",\"electro-window-front\",\"light-sensor\",\"hcc\",\"airbag-curtain\",\"keyless-entry\",\"leather-gear-stick\",\"start-button\",\"ptf\",\"rain-sensor\",\"audiosystem-cd\",\"front-seats-heat\",\"power-child-locks-rear-doors\",\"bluetooth\",\"wheel-configuration2\",\"wheel-configuration1\",\"immo\",\"windscreen-heat\",\"12v-socket\",\"third-rear-headrest\"],\"vendor_colors\":[{\"body_color_id\":21415195,\"mark_color_id\":21415136,\"name_ru\":\"Белый\",\"hex_codes\":[\"EBE7E4\"],\"color_type\":\"NOT_METALLIC\",\"stock_color\":{\"hex_code\":\"FAFBFB\",\"name_ru\":\"белый\"},\"photos\":[{\"name\":\"34-front\",\"sizes\":{\"orig\":\"//avatars.mds.yandex.net/get-verba/937147/2a000001690b97b53f1c6d5136286c7ab730/orig\",\"wizardv3mr\":\"//avatars.mds.yandex.net/get-verba/937147/2a000001690b97b53f1c6d5136286c7ab730/wizardv3mr\",\"wizardv3\":\"//avatars.mds.yandex.net/get-verba/937147/2a000001690b97b53f1c6d5136286c7ab730/wizardv3\",\"cattouch\":\"//avatars.mds.yandex.net/get-verba/937147/2a000001690b97b53f1c6d5136286c7ab730/cattouch\",\"small\":\"//avatars.mds.yandex.net/get-verba/937147/2a000001690b97b53f1c6d5136286c7ab730/small\",\"320x240\":\"//avatars.mds.yandex.net/get-verba/937147/2a000001690b97b53f1c6d5136286c7ab730/320x240\",\"1200x900\":\"//avatars.mds.yandex.net/get-verba/937147/2a000001690b97b53f1c6d5136286c7ab730/1200x900\",\"1200x900n\":\"//avatars.mds.yandex.net/get-verba/937147/2a000001690b97b53f1c6d5136286c7ab730/1200x900n\",\"thumb_m\":\"//avatars.mds.yandex.net/get-verba/937147/2a000001690b97b53f1c6d5136286c7ab730/thumb_m\",\"full\":\"//avatars.mds.yandex.net/get-verba/937147/2a000001690b97b53f1c6d5136286c7ab730/full\",\"832x624\":\"//avatars.mds.yandex.net/get-verba/937147/2a000001690b97b53f1c6d5136286c7ab730/832x624\",\"456x342\":\"//avatars.mds.yandex.net/get-verba/937147/2a000001690b97b53f1c6d5136286c7ab730/456x342\",\"120x90\":\"//avatars.mds.yandex.net/get-verba/937147/2a000001690b97b53f1c6d5136286c7ab730/120x90\",\"92x69\":\"//avatars.mds.yandex.net/get-verba/937147/2a000001690b97b53f1c6d5136286c7ab730/92x69\",\"islandoff\":\"//avatars.mds.yandex.net/get-verba/937147/2a000001690b97b53f1c6d5136286c7ab730/islandoff\",\"thumb_s\":\"//avatars.mds.yandex.net/get-verba/937147/2a000001690b97b53f1c6d5136286c7ab730/thumb_s\",\"thumb_s_2x\":\"//avatars.mds.yandex.net/get-verba/937147/2a000001690b97b53f1c6d5136286c7ab730/thumb_s_2x\"}}],\"main_color\":false}]}</th>\n",
       "      <td>1</td>\n",
       "    </tr>\n",
       "    <tr>\n",
       "      <th>{\"id\":\"6336008\",\"name\":\"xDrive20d Локальная сборка\",\"available_options\":[\"multi-wheel\",\"airbag-passenger\",\"roof-rails\",\"lock\",\"electro-mirrors\",\"mirrors-heat\",\"volume-sensor\",\"start-stop-function\",\"computer\",\"seat-transformation\",\"fabric-seats\",\"airbag-side\",\"abs\",\"wheel-leather\",\"climate-control-1\",\"esp\",\"audiopreparation\",\"front-centre-armrest\",\"servo\",\"electro-window-back\",\"17-inch-wheels\",\"wheel-heat\",\"condition\",\"park-assist-r\",\"airbag-driver\",\"isofix\",\"aux\",\"electro-window-front\",\"airbag-curtain\",\"alarm\",\"start-button\",\"ptf\",\"audiosystem-cd\",\"front-seats-heat\",\"wheel-configuration2\",\"wheel-configuration1\",\"immo\",\"third-rear-headrest\"],\"vendor_colors\":[{\"body_color_id\":20609705,\"mark_color_id\":21387534,\"name_ru\":\"Коричневый марракеш\",\"color_type\":\"METALLIC\",\"stock_color\":{\"hex_code\":\"200204\",\"name_ru\":\"коричневый\"},\"photos\":[{\"name\":\"34-front\",\"sizes\":{\"orig\":\"//avatars.mds.yandex.net/get-verba/787013/2a000001609cebce5401dc41613d83de6d34/orig\",\"wizardv3mr\":\"//avatars.mds.yandex.net/get-verba/787013/2a000001609cebce5401dc41613d83de6d34/wizardv3mr\",\"wizardv3\":\"//avatars.mds.yandex.net/get-verba/787013/2a000001609cebce5401dc41613d83de6d34/wizardv3\",\"cattouch\":\"//avatars.mds.yandex.net/get-verba/787013/2a000001609cebce5401dc41613d83de6d34/cattouch\",\"small\":\"//avatars.mds.yandex.net/get-verba/787013/2a000001609cebce5401dc41613d83de6d34/small\",\"320x240\":\"//avatars.mds.yandex.net/get-verba/787013/2a000001609cebce5401dc41613d83de6d34/320x240\",\"1200x900\":\"//avatars.mds.yandex.net/get-verba/787013/2a000001609cebce5401dc41613d83de6d34/1200x900\",\"1200x900n\":\"//avatars.mds.yandex.net/get-verba/787013/2a000001609cebce5401dc41613d83de6d34/1200x900n\",\"thumb_m\":\"//avatars.mds.yandex.net/get-verba/787013/2a000001609cebce5401dc41613d83de6d34/thumb_m\",\"full\":\"//avatars.mds.yandex.net/get-verba/787013/2a000001609cebce5401dc41613d83de6d34/full\",\"832x624\":\"//avatars.mds.yandex.net/get-verba/787013/2a000001609cebce5401dc41613d83de6d34/832x624\",\"456x342\":\"//avatars.mds.yandex.net/get-verba/787013/2a000001609cebce5401dc41613d83de6d34/456x342\",\"120x90\":\"//avatars.mds.yandex.net/get-verba/787013/2a000001609cebce5401dc41613d83de6d34/120x90\",\"92x69\":\"//avatars.mds.yandex.net/get-verba/787013/2a000001609cebce5401dc41613d83de6d34/92x69\",\"islandoff\":\"//avatars.mds.yandex.net/get-verba/787013/2a000001609cebce5401dc41613d83de6d34/islandoff\",\"thumb_s\":\"//avatars.mds.yandex.net/get-verba/787013/2a000001609cebce5401dc41613d83de6d34/thumb_s\",\"thumb_s_2x\":\"//avatars.mds.yandex.net/get-verba/787013/2a000001609cebce5401dc41613d83de6d34/thumb_s_2x\"}},{\"name\":\"34-back\",\"sizes\":{\"orig\":\"//avatars.mds.yandex.net/get-verba/787013/2a000001609cf7975b249218a1129c9d8ac0/orig\",\"wizardv3mr\":\"//avatars.mds.yandex.net/get-verba/787013/2a000001609cf7975b249218a1129c9d8ac0/wizardv3mr\",\"wizardv3\":\"//avatars.mds.yandex.net/get-verba/787013/2a000001609cf7975b249218a1129c9d8ac0/wizardv3\",\"cattouch\":\"//avatars.mds.yandex.net/get-verba/787013/2a000001609cf7975b249218a1129c9d8ac0/cattouch\",\"small\":\"//avatars.mds.yandex.net/get-verba/787013/2a000001609cf7975b249218a1129c9d8ac0/small\",\"320x240\":\"//avatars.mds.yandex.net/get-verba/787013/2a000001609cf7975b249218a1129c9d8ac0/320x240\",\"1200x900\":\"//avatars.mds.yandex.net/get-verba/787013/2a000001609cf7975b249218a1129c9d8ac0/1200x900\",\"1200x900n\":\"//avatars.mds.yandex.net/get-verba/787013/2a000001609cf7975b249218a1129c9d8ac0/1200x900n\",\"thumb_m\":\"//avatars.mds.yandex.net/get-verba/787013/2a000001609cf7975b249218a1129c9d8ac0/thumb_m\",\"full\":\"//avatars.mds.yandex.net/get-verba/787013/2a000001609cf7975b249218a1129c9d8ac0/full\",\"832x624\":\"//avatars.mds.yandex.net/get-verba/787013/2a000001609cf7975b249218a1129c9d8ac0/832x624\",\"456x342\":\"//avatars.mds.yandex.net/get-verba/787013/2a000001609cf7975b249218a1129c9d8ac0/456x342\",\"120x90\":\"//avatars.mds.yandex.net/get-verba/787013/2a000001609cf7975b249218a1129c9d8ac0/120x90\",\"92x69\":\"//avatars.mds.yandex.net/get-verba/787013/2a000001609cf7975b249218a1129c9d8ac0/92x69\",\"islandoff\":\"//avatars.mds.yandex.net/get-verba/787013/2a000001609cf7975b249218a1129c9d8ac0/islandoff\",\"thumb_s\":\"//avatars.mds.yandex.net/get-verba/787013/2a000001609cf7975b249218a1129c9d8ac0/thumb_s\",\"thumb_s_2x\":\"//avatars.mds.yandex.net/get-verba/787013/2a000001609cf7975b249218a1129c9d8ac0/thumb_s_2x\"}},{\"name\":\"side\",\"sizes\":{\"orig\":\"//avatars.mds.yandex.net/get-verba/787013/2a000001609d4d0453197e2f84719f735f86/orig\",\"wizardv3mr\":\"//avatars.mds.yandex.net/get-verba/787013/2a000001609d4d0453197e2f84719f735f86/wizardv3mr\",\"wizardv3\":\"//avatars.mds.yandex.net/get-verba/787013/2a000001609d4d0453197e2f84719f735f86/wizardv3\",\"cattouch\":\"//avatars.mds.yandex.net/get-verba/787013/2a000001609d4d0453197e2f84719f735f86/cattouch\",\"small\":\"//avatars.mds.yandex.net/get-verba/787013/2a000001609d4d0453197e2f84719f735f86/small\",\"320x240\":\"//avatars.mds.yandex.net/get-verba/787013/2a000001609d4d0453197e2f84719f735f86/320x240\",\"1200x900\":\"//avatars.mds.yandex.net/get-verba/787013/2a000001609d4d0453197e2f84719f735f86/1200x900\",\"1200x900n\":\"//avatars.mds.yandex.net/get-verba/787013/2a000001609d4d0453197e2f84719f735f86/1200x900n\",\"thumb_m\":\"//avatars.mds.yandex.net/get-verba/787013/2a000001609d4d0453197e2f84719f735f86/thumb_m\",\"full\":\"//avatars.mds.yandex.net/get-verba/787013/2a000001609d4d0453197e2f84719f735f86/full\",\"832x624\":\"//avatars.mds.yandex.net/get-verba/787013/2a000001609d4d0453197e2f84719f735f86/832x624\",\"456x342\":\"//avatars.mds.yandex.net/get-verba/787013/2a000001609d4d0453197e2f84719f735f86/456x342\",\"120x90\":\"//avatars.mds.yandex.net/get-verba/787013/2a000001609d4d0453197e2f84719f735f86/120x90\",\"92x69\":\"//avatars.mds.yandex.net/get-verba/787013/2a000001609d4d0453197e2f84719f735f86/92x69\",\"islandoff\":\"//avatars.mds.yandex.net/get-verba/787013/2a000001609d4d0453197e2f84719f735f86/islandoff\",\"thumb_s\":\"//avatars.mds.yandex.net/get-verba/787013/2a000001609d4d0453197e2f84719f735f86/thumb_s\",\"thumb_s_2x\":\"//avatars.mds.yandex.net/get-verba/787013/2a000001609d4d0453197e2f84719f735f86/thumb_s_2x\"}},{\"name\":\"front\",\"sizes\":{\"orig\":\"//avatars.mds.yandex.net/get-verba/787013/2a000001609d52e0fbde3d406e6bd9ef03f6/orig\",\"wizardv3mr\":\"//avatars.mds.yandex.net/get-verba/787013/2a000001609d52e0fbde3d406e6bd9ef03f6/wizardv3mr\",\"wizardv3\":\"//avatars.mds.yandex.net/get-verba/787013/2a000001609d52e0fbde3d406e6bd9ef03f6/wizardv3\",\"cattouch\":\"//avatars.mds.yandex.net/get-verba/787013/2a000001609d52e0fbde3d406e6bd9ef03f6/cattouch\",\"small\":\"//avatars.mds.yandex.net/get-verba/787013/2a000001609d52e0fbde3d406e6bd9ef03f6/small\",\"320x240\":\"//avatars.mds.yandex.net/get-verba/787013/2a000001609d52e0fbde3d406e6bd9ef03f6/320x240\",\"1200x900\":\"//avatars.mds.yandex.net/get-verba/787013/2a000001609d52e0fbde3d406e6bd9ef03f6/1200x900\",\"1200x900n\":\"//avatars.mds.yandex.net/get-verba/787013/2a000001609d52e0fbde3d406e6bd9ef03f6/1200x900n\",\"thumb_m\":\"//avatars.mds.yandex.net/get-verba/787013/2a000001609d52e0fbde3d406e6bd9ef03f6/thumb_m\",\"full\":\"//avatars.mds.yandex.net/get-verba/787013/2a000001609d52e0fbde3d406e6bd9ef03f6/full\",\"832x624\":\"//avatars.mds.yandex.net/get-verba/787013/2a000001609d52e0fbde3d406e6bd9ef03f6/832x624\",\"456x342\":\"//avatars.mds.yandex.net/get-verba/787013/2a000001609d52e0fbde3d406e6bd9ef03f6/456x342\",\"120x90\":\"//avatars.mds.yandex.net/get-verba/787013/2a000001609d52e0fbde3d406e6bd9ef03f6/120x90\",\"92x69\":\"//avatars.mds.yandex.net/get-verba/787013/2a000001609d52e0fbde3d406e6bd9ef03f6/92x69\",\"islandoff\":\"//avatars.mds.yandex.net/get-verba/787013/2a000001609d52e0fbde3d406e6bd9ef03f6/islandoff\",\"thumb_s\":\"//avatars.mds.yandex.net/get-verba/787013/2a000001609d52e0fbde3d406e6bd9ef03f6/thumb_s\",\"thumb_s_2x\":\"//avatars.mds.yandex.net/get-verba/787013/2a000001609d52e0fbde3d406e6bd9ef03f6/thumb_s_2x\"}},{\"name\":\"back\",\"sizes\":{\"orig\":\"//avatars.mds.yandex.net/get-verba/787013/2a000001609cfa81568f923c23ecc3e0a21a/orig\",\"wizardv3mr\":\"//avatars.mds.yandex.net/get-verba/787013/2a000001609cfa81568f923c23ecc3e0a21a/wizardv3mr\",\"wizardv3\":\"//avatars.mds.yandex.net/get-verba/787013/2a000001609cfa81568f923c23ecc3e0a21a/wizardv3\",\"cattouch\":\"//avatars.mds.yandex.net/get-verba/787013/2a000001609cfa81568f923c23ecc3e0a21a/cattouch\",\"small\":\"//avatars.mds.yandex.net/get-verba/787013/2a000001609cfa81568f923c23ecc3e0a21a/small\",\"320x240\":\"//avatars.mds.yandex.net/get-verba/787013/2a000001609cfa81568f923c23ecc3e0a21a/320x240\",\"1200x900\":\"//avatars.mds.yandex.net/get-verba/787013/2a000001609cfa81568f923c23ecc3e0a21a/1200x900\",\"1200x900n\":\"//avatars.mds.yandex.net/get-verba/787013/2a000001609cfa81568f923c23ecc3e0a21a/1200x900n\",\"thumb_m\":\"//avatars.mds.yandex.net/get-verba/787013/2a000001609cfa81568f923c23ecc3e0a21a/thumb_m\",\"full\":\"//avatars.mds.yandex.net/get-verba/787013/2a000001609cfa81568f923c23ecc3e0a21a/full\",\"832x624\":\"//avatars.mds.yandex.net/get-verba/787013/2a000001609cfa81568f923c23ecc3e0a21a/832x624\",\"456x342\":\"//avatars.mds.yandex.net/get-verba/787013/2a000001609cfa81568f923c23ecc3e0a21a/456x342\",\"120x90\":\"//avatars.mds.yandex.net/get-verba/787013/2a000001609cfa81568f923c23ecc3e0a21a/120x90\",\"92x69\":\"//avatars.mds.yandex.net/get-verba/787013/2a000001609cfa81568f923c23ecc3e0a21a/92x69\",\"islandoff\":\"//avatars.mds.yandex.net/get-verba/787013/2a000001609cfa81568f923c23ecc3e0a21a/islandoff\",\"thumb_s\":\"//avatars.mds.yandex.net/get-verba/787013/2a000001609cfa81568f923c23ecc3e0a21a/thumb_s\",\"thumb_s_2x\":\"//avatars.mds.yandex.net/get-verba/787013/2a000001609cfa81568f923c23ecc3e0a21a/thumb_s_2x\"}}],\"main_color\":false}]}</th>\n",
       "      <td>1</td>\n",
       "    </tr>\n",
       "  </tbody>\n",
       "</table>\n",
       "<p>2365 rows × 1 columns</p>\n",
       "</div>"
      ],
      "text/plain": [
       "                                                    complectation_dict\n",
       "NaN                                                              28268\n",
       "{\"id\":\"4562904\",\"name\":\"Elegance\",\"available_op...                  51\n",
       "{\"id\":\"20913628\",\"name\":\"Style\",\"available_opti...                  26\n",
       "...                                                                ...\n",
       "{\"id\":\"21436820\",\"name\":\"LE Top (2018-2020)\",\"a...                   1\n",
       "{\"id\":\"20416733\",\"name\":\"SE\",\"available_options...                   1\n",
       "{\"id\":\"6336008\",\"name\":\"xDrive20d Локальная сбо...                   1\n",
       "\n",
       "[2365 rows x 1 columns]"
      ]
     },
     "metadata": {},
     "output_type": "display_data"
    }
   ],
   "source": [
    "col_info(df_alpha, df_alpha.columns.to_list()[4])"
   ]
  },
  {
   "cell_type": "code",
   "execution_count": 14,
   "id": "844f68eb",
   "metadata": {},
   "outputs": [
    {
     "name": "stdout",
     "output_type": "stream",
     "text": [
      "всего записей в столбце  description  =  34685\n",
      "NaN в столбце  description  =  1 ,  в процентах =  0%\n",
      "уникальных в столбце  description  =  31729\n",
      "всего записей-дубликатов в столбце  description  =  3215\n"
     ]
    },
    {
     "data": {
      "text/html": [
       "<div>\n",
       "<style scoped>\n",
       "    .dataframe tbody tr th:only-of-type {\n",
       "        vertical-align: middle;\n",
       "    }\n",
       "\n",
       "    .dataframe tbody tr th {\n",
       "        vertical-align: top;\n",
       "    }\n",
       "\n",
       "    .dataframe thead th {\n",
       "        text-align: right;\n",
       "    }\n",
       "</style>\n",
       "<table border=\"1\" class=\"dataframe\">\n",
       "  <thead>\n",
       "    <tr style=\"text-align: right;\">\n",
       "      <th></th>\n",
       "      <th>description</th>\n",
       "    </tr>\n",
       "  </thead>\n",
       "  <tbody>\n",
       "    <tr>\n",
       "      <th>Выгода до 82 000 руб. при обмене на Ваш автомобиль! \\nВыгода при покупке в кредит до 100 000 руб.! \\nРОЛЬФ ЯСЕНЕВО с пробегом. \\n-Мы принимаем любые легковые и коммерческие автомобили независимо от марки, года выпуска, пробега и состояния автомобиля. \\n-В наличии более 500 проверенных и готовых к продаже автомобилей. \\n-Более 400 комплектов шин, дисков, колес в сборе. \\n-Все автомобили проходят комплексную проверку - техническую, криминалистическую, проверку истории кузовных ремонтов сертифицированными специалистами. \\n-Мы предоставляем гарантию юридической чистоты в соответствии с законодательством РФ. \\n-Мы работаем каждый день с 9:00 до 22:00 (без выходных). \\nУслуги: \\n• Срочный выкуп Вашего автомобиля \\n• Выкуп кредитных а/м \\n• Trade-in - обмен Вашего автомобиля на новый или с пробегом (возможна доплата с любой стороны) \\n• Выездная оценка Вашего а/м \\n• Комиссионная продажа (на Ваших условиях) \\n• Аукцион \\n• Кредитование \\n• Страхование КАСКО, ОСАГО \\n• Дополнительное оборудование \\n• Запасные части \\n• Сервисное обслуживание \\n• Б/У шины и диски</th>\n",
       "      <td>266</td>\n",
       "    </tr>\n",
       "    <tr>\n",
       "      <th>РОЛЬФ - Официальный дилер и Лучший дилер России по итогам продаж и обслуживания автомобилей. Мы гарантируем Вам самые лучшие условия покупки!\\n\\nВсе автомобили прошли:\\n\\n∙ Криминалистическую и юридическую проверку.\\n∙ Комплексную диагностику, Вы получаете лист с официальным заключением о состоянии автомобиля.</th>\n",
       "      <td>259</td>\n",
       "    </tr>\n",
       "    <tr>\n",
       "      <th>Автодилер года 2020\\n\\nПобедитель в номинации «Организация продаж автомобилей с пробегом»\\n\\nИндивидуальные условия при покупке в кредит и/или при обмене на Ваш автомобиль.\\nВсегда рады видеть Вас в нашем дилерском центре для просмотра данного автомобиля находящегося на крытой парковке ежедневно с 9 до 22. \\n\\nВы можете воспользоваться специальными кредитными предложениями при приобретении автомобиля: \\n+ Первоначальный взнос от 0% \\n+ Срок кредита от 6 месяцев до 7 лет \\n+ Выгодные процентные ставки \\n+ Кредит по двум документам (только паспорт и права) и выдачи кредита в автосалоне одним днем \\n+ ЭКСПРЕСС автокредит, одобрение заявки и выдача автокредита за 2 часа \\n+ Возможность оформления автокредита на себя, а автомобиля на другое лицо \\n+ Возможность досрочного погашения на следующий день \\n+ Возможность оформления в большинстве регионов РФ \\n+ Возможность оформления без военного билета \\n+ Возможность оформления автокредита для работающих пенсионеров (до 85 лет ) \\n+ Возможность не сдавать ПТС в банк\\n+ Возможность оплаты по безналичному расчёту\\n\\nБолее подробную информацию по комплектации, дополнительному оборудованию автомобиля и всем интересующим вопросам, уточняйте по телефону, у продавца – консультанта.</th>\n",
       "      <td>211</td>\n",
       "    </tr>\n",
       "    <tr>\n",
       "      <th>...</th>\n",
       "      <td>...</td>\n",
       "    </tr>\n",
       "    <tr>\n",
       "      <th>✪ 1Владелец\\n✪ ПТС оригинал\\nВсе сертифицированные Das WeltAuto автомобили проходят квалифицированную предпродажную подготовку , которая гарантирует соответствие интерьера и экстерьера автомобиля высоким стандартам .\\nПокупая данный автомобиль мы получаете дополнительны год гарантии , что минимизирует риски при покупке автомобиля с пробегом, гарантирует его высокое качество, прозрачность истории предыдущего владения и эксплуатации.\\nСтав клиентом Das WeltAuto вы сможете получать профессиональную техническую поддержку 24 часа в сутки , 7 дней в неделю на территории Российской Федерации , Белоруссии , Казахстана и всех стран Евросоюза .\\nБолее 250 автомобилей в наличии от Официального дилера.\\nПроведена комплексная техническая диагностика.\\nГарантия юридической чистоты.\\nОтличное внешнее и техническое состояние.\\nПолная и прозрачная история владения автомобилем.\\nАвтомобиль продается от официального дилера ГК «АВТОМИР».\\nДЦ «Автомир» является участником постгарантийной программы и готов предложи\\n\\nКомплектация:\\n• Антиблокировочная система\\n• Боковые передние подушки безопасности\\n• Центральный замок\\n• Бортовой компьютер\\n• Круиз-контроль\\n• Парктроник передний и задний\\n• Датчик света\\n• Датчик дождя\\n• Гидро усилитель руля\\n• Электростеклоподъемники передние\\n• Электропривод зеркал\\n• Климат-контроль 2-зонный\\n• Подогрев сидений\\n• Обогрев зеркал\\n• CD\\n• Тканевая обивка салона\\n• Темный салон\\n• Литые легкосплавные диски\\n• Тонированные стекла\\n• Противотуманные фары\\n• Комплект резиновых ковриков\\n• Полноразмерное запасное колесо</th>\n",
       "      <td>1</td>\n",
       "    </tr>\n",
       "    <tr>\n",
       "      <th>- Оригинал ПТС\\n- Автомобиль в отличном состоянии\\n- Количество владельцев - 3\\n- Год выпуска по ПТС - 2 005\\n- Дата первой регистрации - 07.07.2005\\n- VIN номер - JN1TBNT30U0102962\\n- Количество ключей - 2\\n- У нас нет скрытых доплат, платежей и комиссий\\n- Мы – официальный дилер\\n- Честный пробег - Мы не корректируем пробеги\\n- Гарантированная выгода при обмене вашего автомобиля\\n- Специальные предложения по кредитованию и страхованию\\n- Мы гарантируем юридическую чистоту автомобиля\\n- Есть возможность провести тест-драйв\\n- Автомобиль прошел комплексную предпродажную подготовку\\n- АвтоГЕРМЕС уже более 20 лет занимается продажей автомобилей с пробегом. В наличии более 1500 автомобилей</th>\n",
       "      <td>1</td>\n",
       "    </tr>\n",
       "    <tr>\n",
       "      <th>Пробег реальный, состояние отличное! Авторская, очень дорогая и качественная аэрография  и больше ничего не красилось! Жидкое стекло. Любые проверки. Состояние отличное для реального пробега.  Двигатель и коробка супер. За машиной ухаживали, меняли масло каждые 9000. Салон в идеале, все работает, сел и поехал. Лето и зима R20 оригинальные.\\nрасход 10л по городу, налог 17000 по мск.\\n Торг минимальный  и  только после осмотра. Отвечать не буду на неадекватные предложения. Продам сам не спеша, помощники мимо.</th>\n",
       "      <td>1</td>\n",
       "    </tr>\n",
       "  </tbody>\n",
       "</table>\n",
       "<p>31729 rows × 1 columns</p>\n",
       "</div>"
      ],
      "text/plain": [
       "                                                    description\n",
       "Выгода до 82 000 руб. при обмене на Ваш автомоб...          266\n",
       "РОЛЬФ - Официальный дилер и Лучший дилер России...          259\n",
       "Автодилер года 2020\\n\\nПобедитель в номинации «...          211\n",
       "...                                                         ...\n",
       "✪ 1Владелец\\n✪ ПТС оригинал\\nВсе сертифицирован...            1\n",
       "- Оригинал ПТС\\n- Автомобиль в отличном состоян...            1\n",
       " Пробег реальный, состояние отличное! Авторская...            1\n",
       "\n",
       "[31729 rows x 1 columns]"
      ]
     },
     "metadata": {},
     "output_type": "display_data"
    }
   ],
   "source": [
    "col_info(df_alpha, df_alpha.columns.to_list()[5])"
   ]
  },
  {
   "cell_type": "markdown",
   "id": "0d62a94e",
   "metadata": {},
   "source": [
    "вероятно из 'description' можно вытащить **признак автодилера** или оптовика"
   ]
  },
  {
   "cell_type": "code",
   "execution_count": 15,
   "id": "d780e4cd",
   "metadata": {},
   "outputs": [
    {
     "data": {
      "text/html": [
       "<div>\n",
       "<style scoped>\n",
       "    .dataframe tbody tr th:only-of-type {\n",
       "        vertical-align: middle;\n",
       "    }\n",
       "\n",
       "    .dataframe tbody tr th {\n",
       "        vertical-align: top;\n",
       "    }\n",
       "\n",
       "    .dataframe thead th {\n",
       "        text-align: right;\n",
       "    }\n",
       "</style>\n",
       "<table border=\"1\" class=\"dataframe\">\n",
       "  <thead>\n",
       "    <tr style=\"text-align: right;\">\n",
       "      <th></th>\n",
       "      <th>bodytype</th>\n",
       "      <th>brand</th>\n",
       "      <th>car_url</th>\n",
       "      <th>color</th>\n",
       "      <th>complectation_dict</th>\n",
       "      <th>description</th>\n",
       "      <th>enginedisplacement</th>\n",
       "      <th>enginepower</th>\n",
       "      <th>equipment_dict</th>\n",
       "      <th>fueltype</th>\n",
       "      <th>image</th>\n",
       "      <th>mileage</th>\n",
       "      <th>modeldate</th>\n",
       "      <th>model_info</th>\n",
       "      <th>model_name</th>\n",
       "      <th>name</th>\n",
       "      <th>numberofdoors</th>\n",
       "      <th>parsing_unixtime</th>\n",
       "      <th>pricecurrency</th>\n",
       "      <th>productiondate</th>\n",
       "      <th>sell_id</th>\n",
       "      <th>super_gen</th>\n",
       "      <th>vehicleconfiguration</th>\n",
       "      <th>vehicletransmission</th>\n",
       "      <th>vendor</th>\n",
       "      <th>владельцы</th>\n",
       "      <th>владение</th>\n",
       "      <th>птс</th>\n",
       "      <th>привод</th>\n",
       "      <th>руль</th>\n",
       "      <th>состояние</th>\n",
       "      <th>таможня</th>\n",
       "    </tr>\n",
       "  </thead>\n",
       "  <tbody>\n",
       "    <tr>\n",
       "      <th>7042</th>\n",
       "      <td>седан</td>\n",
       "      <td>VOLVO</td>\n",
       "      <td>https://auto.ru/cars/used/sale/volvo/s60/10765...</td>\n",
       "      <td>серый</td>\n",
       "      <td>NaN</td>\n",
       "      <td>\\n</td>\n",
       "      <td>2.5 LTR</td>\n",
       "      <td>210 N12</td>\n",
       "      <td>{\"airbag-rear-side\":true,\"cruise-control\":true...</td>\n",
       "      <td>бензин</td>\n",
       "      <td>https://avatars.mds.yandex.net/get-autoru-vos/...</td>\n",
       "      <td>340000</td>\n",
       "      <td>2000</td>\n",
       "      <td>{\"code\":\"S60\",\"name\":\"S60\",\"ru_name\":\"S60\",\"mo...</td>\n",
       "      <td>S60</td>\n",
       "      <td>2.5 AT (210 л.с.) 4WD</td>\n",
       "      <td>4</td>\n",
       "      <td>1603238284</td>\n",
       "      <td>RUB</td>\n",
       "      <td>2004</td>\n",
       "      <td>1076532302</td>\n",
       "      <td>{\"id\":\"20885360\",\"displacement\":2521,\"engine_t...</td>\n",
       "      <td>SEDAN AUTOMATIC 2.5</td>\n",
       "      <td>автоматическая</td>\n",
       "      <td>EUROPEAN</td>\n",
       "      <td>3 или более</td>\n",
       "      <td>NaN</td>\n",
       "      <td>Оригинал</td>\n",
       "      <td>полный</td>\n",
       "      <td>Левый</td>\n",
       "      <td>Не требует ремонта</td>\n",
       "      <td>Растаможен</td>\n",
       "    </tr>\n",
       "    <tr>\n",
       "      <th>19963</th>\n",
       "      <td>седан</td>\n",
       "      <td>TOYOTA</td>\n",
       "      <td>https://auto.ru/cars/used/sale/toyota/chaser/1...</td>\n",
       "      <td>чёрный</td>\n",
       "      <td>NaN</td>\n",
       "      <td>\\n</td>\n",
       "      <td>2.5 LTR</td>\n",
       "      <td>280 N12</td>\n",
       "      <td>{\"hatch\":true,\"electro-mirrors\":true}</td>\n",
       "      <td>бензин</td>\n",
       "      <td>https://autoru.naydex.net/LxPU17803/f5b8d77S/u...</td>\n",
       "      <td>130000</td>\n",
       "      <td>1994</td>\n",
       "      <td>{\"code\":\"CHASER\",\"name\":\"Chaser\",\"ru_name\":\"Ча...</td>\n",
       "      <td>CHASER</td>\n",
       "      <td>2.5 AT (280 л.с.)</td>\n",
       "      <td>4</td>\n",
       "      <td>1603289961</td>\n",
       "      <td>RUB</td>\n",
       "      <td>1995</td>\n",
       "      <td>1100202608</td>\n",
       "      <td>{\"id\":\"8306132\",\"displacement\":2491,\"engine_ty...</td>\n",
       "      <td>SEDAN AUTOMATIC 2.5</td>\n",
       "      <td>автоматическая</td>\n",
       "      <td>JAPANESE</td>\n",
       "      <td>3 или более</td>\n",
       "      <td>NaN</td>\n",
       "      <td>Оригинал</td>\n",
       "      <td>задний</td>\n",
       "      <td>Правый</td>\n",
       "      <td>Не требует ремонта</td>\n",
       "      <td>Растаможен</td>\n",
       "    </tr>\n",
       "    <tr>\n",
       "      <th>2162</th>\n",
       "      <td>лифтбек</td>\n",
       "      <td>SKODA</td>\n",
       "      <td>https://auto.ru/cars/used/sale/skoda/octavia/1...</td>\n",
       "      <td>серый</td>\n",
       "      <td>NaN</td>\n",
       "      <td>\\n</td>\n",
       "      <td>1.8 LTR</td>\n",
       "      <td>152 N12</td>\n",
       "      <td>NaN</td>\n",
       "      <td>бензин</td>\n",
       "      <td>https://autoru.naydex.net/ESooa9149/468b9eoMem...</td>\n",
       "      <td>188000</td>\n",
       "      <td>2008</td>\n",
       "      <td>{\"code\":\"OCTAVIA\",\"name\":\"Octavia\",\"ru_name\":\"...</td>\n",
       "      <td>OCTAVIA</td>\n",
       "      <td>1.8 AT (152 л.с.)</td>\n",
       "      <td>5</td>\n",
       "      <td>1603234384</td>\n",
       "      <td>RUB</td>\n",
       "      <td>2012</td>\n",
       "      <td>1079975168</td>\n",
       "      <td>{\"id\":\"4561004\",\"displacement\":1798,\"engine_ty...</td>\n",
       "      <td>LIFTBACK AUTOMATIC 1.8</td>\n",
       "      <td>автоматическая</td>\n",
       "      <td>EUROPEAN</td>\n",
       "      <td>3 или более</td>\n",
       "      <td>5 лет и 3 месяца</td>\n",
       "      <td>Оригинал</td>\n",
       "      <td>передний</td>\n",
       "      <td>Левый</td>\n",
       "      <td>Не требует ремонта</td>\n",
       "      <td>Растаможен</td>\n",
       "    </tr>\n",
       "    <tr>\n",
       "      <th>...</th>\n",
       "      <td>...</td>\n",
       "      <td>...</td>\n",
       "      <td>...</td>\n",
       "      <td>...</td>\n",
       "      <td>...</td>\n",
       "      <td>...</td>\n",
       "      <td>...</td>\n",
       "      <td>...</td>\n",
       "      <td>...</td>\n",
       "      <td>...</td>\n",
       "      <td>...</td>\n",
       "      <td>...</td>\n",
       "      <td>...</td>\n",
       "      <td>...</td>\n",
       "      <td>...</td>\n",
       "      <td>...</td>\n",
       "      <td>...</td>\n",
       "      <td>...</td>\n",
       "      <td>...</td>\n",
       "      <td>...</td>\n",
       "      <td>...</td>\n",
       "      <td>...</td>\n",
       "      <td>...</td>\n",
       "      <td>...</td>\n",
       "      <td>...</td>\n",
       "      <td>...</td>\n",
       "      <td>...</td>\n",
       "      <td>...</td>\n",
       "      <td>...</td>\n",
       "      <td>...</td>\n",
       "      <td>...</td>\n",
       "      <td>...</td>\n",
       "    </tr>\n",
       "    <tr>\n",
       "      <th>5517</th>\n",
       "      <td>внедорожник 5 дв.</td>\n",
       "      <td>HONDA</td>\n",
       "      <td>https://auto.ru/cars/used/sale/honda/cr_v/1101...</td>\n",
       "      <td>белый</td>\n",
       "      <td>NaN</td>\n",
       "      <td>✔У НАС КРЕДИТ ДАДУТ ВСЕМ!\\n●ПРОСТО ОСТАВЬТЕ ЗА...</td>\n",
       "      <td>2.0 LTR</td>\n",
       "      <td>128 N12</td>\n",
       "      <td>{\"engine-proof\":true,\"asr\":true,\"adaptive-ligh...</td>\n",
       "      <td>бензин</td>\n",
       "      <td>https://autoru.naydex.net/mcQh17801/f1b5751dCi...</td>\n",
       "      <td>156000</td>\n",
       "      <td>1995</td>\n",
       "      <td>{\"code\":\"CR_V\",\"name\":\"CR-V\",\"ru_name\":\"CR-V\",...</td>\n",
       "      <td>CR_V</td>\n",
       "      <td>2.0 AT (128 л.с.) 4WD</td>\n",
       "      <td>5</td>\n",
       "      <td>1603254705</td>\n",
       "      <td>RUB</td>\n",
       "      <td>1998</td>\n",
       "      <td>1101117481</td>\n",
       "      <td>{\"id\":\"20501678\",\"displacement\":1973,\"engine_t...</td>\n",
       "      <td>ALLROAD_5_DOORS AUTOMATIC 2.0</td>\n",
       "      <td>автоматическая</td>\n",
       "      <td>JAPANESE</td>\n",
       "      <td>3 или более</td>\n",
       "      <td>NaN</td>\n",
       "      <td>Оригинал</td>\n",
       "      <td>полный</td>\n",
       "      <td>Левый</td>\n",
       "      <td>Не требует ремонта</td>\n",
       "      <td>Растаможен</td>\n",
       "    </tr>\n",
       "    <tr>\n",
       "      <th>27480</th>\n",
       "      <td>седан</td>\n",
       "      <td>MITSUBISHI</td>\n",
       "      <td>https://auto.ru/cars/used/sale/mitsubishi/lanc...</td>\n",
       "      <td>серебристый</td>\n",
       "      <td>NaN</td>\n",
       "      <td>✔У НАС КРЕДИТ ДАДУТ ВСЕМ!\\n●ПРОСТО ОСТАВЬТЕ ЗА...</td>\n",
       "      <td>1.6 LTR</td>\n",
       "      <td>98 N12</td>\n",
       "      <td>{\"engine-proof\":true,\"cruise-control\":true,\"as...</td>\n",
       "      <td>бензин</td>\n",
       "      <td>https://avatars.mds.yandex.net/get-autoru-vos/...</td>\n",
       "      <td>139000</td>\n",
       "      <td>2005</td>\n",
       "      <td>{\"code\":\"LANCER\",\"name\":\"Lancer\",\"ru_name\":\"Ла...</td>\n",
       "      <td>LANCER</td>\n",
       "      <td>1.6 AT (98 л.с.)</td>\n",
       "      <td>4</td>\n",
       "      <td>1603262855</td>\n",
       "      <td>RUB</td>\n",
       "      <td>2006</td>\n",
       "      <td>1101130589</td>\n",
       "      <td>{\"id\":\"3480641\",\"displacement\":1584,\"engine_ty...</td>\n",
       "      <td>SEDAN AUTOMATIC 1.6</td>\n",
       "      <td>автоматическая</td>\n",
       "      <td>JAPANESE</td>\n",
       "      <td>3 или более</td>\n",
       "      <td>NaN</td>\n",
       "      <td>Оригинал</td>\n",
       "      <td>передний</td>\n",
       "      <td>Левый</td>\n",
       "      <td>Не требует ремонта</td>\n",
       "      <td>Растаможен</td>\n",
       "    </tr>\n",
       "    <tr>\n",
       "      <th>11815</th>\n",
       "      <td>седан</td>\n",
       "      <td>NISSAN</td>\n",
       "      <td>https://auto.ru/cars/used/sale/nissan/almera/1...</td>\n",
       "      <td>бежевый</td>\n",
       "      <td>NaN</td>\n",
       "      <td>✔У НАС КРЕДИТ ДАДУТ ВСЕМ!\\n●ПРОСТО ОСТАВЬТЕ ЗА...</td>\n",
       "      <td>1.5 LTR</td>\n",
       "      <td>98 N12</td>\n",
       "      <td>{\"engine-proof\":true,\"asr\":true,\"airbag-driver...</td>\n",
       "      <td>бензин</td>\n",
       "      <td>https://avatars.mds.yandex.net/get-autoru-vos/...</td>\n",
       "      <td>144000</td>\n",
       "      <td>2002</td>\n",
       "      <td>{\"code\":\"ALMERA\",\"name\":\"Almera\",\"ru_name\":\"Ал...</td>\n",
       "      <td>ALMERA</td>\n",
       "      <td>1.5 MT (98 л.с.)</td>\n",
       "      <td>4</td>\n",
       "      <td>1603272280</td>\n",
       "      <td>RUB</td>\n",
       "      <td>2005</td>\n",
       "      <td>1101151810</td>\n",
       "      <td>{\"id\":\"4602027\",\"displacement\":1497,\"engine_ty...</td>\n",
       "      <td>SEDAN MECHANICAL 1.5</td>\n",
       "      <td>механическая</td>\n",
       "      <td>JAPANESE</td>\n",
       "      <td>3 или более</td>\n",
       "      <td>NaN</td>\n",
       "      <td>Оригинал</td>\n",
       "      <td>передний</td>\n",
       "      <td>Левый</td>\n",
       "      <td>Не требует ремонта</td>\n",
       "      <td>Растаможен</td>\n",
       "    </tr>\n",
       "  </tbody>\n",
       "</table>\n",
       "<p>3215 rows × 32 columns</p>\n",
       "</div>"
      ],
      "text/plain": [
       "                bodytype       brand  \\\n",
       "7042               седан       VOLVO   \n",
       "19963              седан      TOYOTA   \n",
       "2162             лифтбек       SKODA   \n",
       "...                  ...         ...   \n",
       "5517   внедорожник 5 дв.       HONDA   \n",
       "27480              седан  MITSUBISHI   \n",
       "11815              седан      NISSAN   \n",
       "\n",
       "                                                 car_url        color  \\\n",
       "7042   https://auto.ru/cars/used/sale/volvo/s60/10765...        серый   \n",
       "19963  https://auto.ru/cars/used/sale/toyota/chaser/1...       чёрный   \n",
       "2162   https://auto.ru/cars/used/sale/skoda/octavia/1...        серый   \n",
       "...                                                  ...          ...   \n",
       "5517   https://auto.ru/cars/used/sale/honda/cr_v/1101...        белый   \n",
       "27480  https://auto.ru/cars/used/sale/mitsubishi/lanc...  серебристый   \n",
       "11815  https://auto.ru/cars/used/sale/nissan/almera/1...      бежевый   \n",
       "\n",
       "      complectation_dict                                        description  \\\n",
       "7042                 NaN                                                 \\n   \n",
       "19963                NaN                                                 \\n   \n",
       "2162                 NaN                                                 \\n   \n",
       "...                  ...                                                ...   \n",
       "5517                 NaN  ✔У НАС КРЕДИТ ДАДУТ ВСЕМ!\\n●ПРОСТО ОСТАВЬТЕ ЗА...   \n",
       "27480                NaN  ✔У НАС КРЕДИТ ДАДУТ ВСЕМ!\\n●ПРОСТО ОСТАВЬТЕ ЗА...   \n",
       "11815                NaN  ✔У НАС КРЕДИТ ДАДУТ ВСЕМ!\\n●ПРОСТО ОСТАВЬТЕ ЗА...   \n",
       "\n",
       "      enginedisplacement enginepower  \\\n",
       "7042             2.5 LTR     210 N12   \n",
       "19963            2.5 LTR     280 N12   \n",
       "2162             1.8 LTR     152 N12   \n",
       "...                  ...         ...   \n",
       "5517             2.0 LTR     128 N12   \n",
       "27480            1.6 LTR      98 N12   \n",
       "11815            1.5 LTR      98 N12   \n",
       "\n",
       "                                          equipment_dict fueltype  \\\n",
       "7042   {\"airbag-rear-side\":true,\"cruise-control\":true...   бензин   \n",
       "19963              {\"hatch\":true,\"electro-mirrors\":true}   бензин   \n",
       "2162                                                 NaN   бензин   \n",
       "...                                                  ...      ...   \n",
       "5517   {\"engine-proof\":true,\"asr\":true,\"adaptive-ligh...   бензин   \n",
       "27480  {\"engine-proof\":true,\"cruise-control\":true,\"as...   бензин   \n",
       "11815  {\"engine-proof\":true,\"asr\":true,\"airbag-driver...   бензин   \n",
       "\n",
       "                                                   image  mileage  modeldate  \\\n",
       "7042   https://avatars.mds.yandex.net/get-autoru-vos/...   340000       2000   \n",
       "19963  https://autoru.naydex.net/LxPU17803/f5b8d77S/u...   130000       1994   \n",
       "2162   https://autoru.naydex.net/ESooa9149/468b9eoMem...   188000       2008   \n",
       "...                                                  ...      ...        ...   \n",
       "5517   https://autoru.naydex.net/mcQh17801/f1b5751dCi...   156000       1995   \n",
       "27480  https://avatars.mds.yandex.net/get-autoru-vos/...   139000       2005   \n",
       "11815  https://avatars.mds.yandex.net/get-autoru-vos/...   144000       2002   \n",
       "\n",
       "                                              model_info model_name  \\\n",
       "7042   {\"code\":\"S60\",\"name\":\"S60\",\"ru_name\":\"S60\",\"mo...        S60   \n",
       "19963  {\"code\":\"CHASER\",\"name\":\"Chaser\",\"ru_name\":\"Ча...     CHASER   \n",
       "2162   {\"code\":\"OCTAVIA\",\"name\":\"Octavia\",\"ru_name\":\"...    OCTAVIA   \n",
       "...                                                  ...        ...   \n",
       "5517   {\"code\":\"CR_V\",\"name\":\"CR-V\",\"ru_name\":\"CR-V\",...       CR_V   \n",
       "27480  {\"code\":\"LANCER\",\"name\":\"Lancer\",\"ru_name\":\"Ла...     LANCER   \n",
       "11815  {\"code\":\"ALMERA\",\"name\":\"Almera\",\"ru_name\":\"Ал...     ALMERA   \n",
       "\n",
       "                        name  numberofdoors  parsing_unixtime pricecurrency  \\\n",
       "7042   2.5 AT (210 л.с.) 4WD              4        1603238284           RUB   \n",
       "19963      2.5 AT (280 л.с.)              4        1603289961           RUB   \n",
       "2162       1.8 AT (152 л.с.)              5        1603234384           RUB   \n",
       "...                      ...            ...               ...           ...   \n",
       "5517   2.0 AT (128 л.с.) 4WD              5        1603254705           RUB   \n",
       "27480       1.6 AT (98 л.с.)              4        1603262855           RUB   \n",
       "11815       1.5 MT (98 л.с.)              4        1603272280           RUB   \n",
       "\n",
       "       productiondate     sell_id  \\\n",
       "7042             2004  1076532302   \n",
       "19963            1995  1100202608   \n",
       "2162             2012  1079975168   \n",
       "...               ...         ...   \n",
       "5517             1998  1101117481   \n",
       "27480            2006  1101130589   \n",
       "11815            2005  1101151810   \n",
       "\n",
       "                                               super_gen  \\\n",
       "7042   {\"id\":\"20885360\",\"displacement\":2521,\"engine_t...   \n",
       "19963  {\"id\":\"8306132\",\"displacement\":2491,\"engine_ty...   \n",
       "2162   {\"id\":\"4561004\",\"displacement\":1798,\"engine_ty...   \n",
       "...                                                  ...   \n",
       "5517   {\"id\":\"20501678\",\"displacement\":1973,\"engine_t...   \n",
       "27480  {\"id\":\"3480641\",\"displacement\":1584,\"engine_ty...   \n",
       "11815  {\"id\":\"4602027\",\"displacement\":1497,\"engine_ty...   \n",
       "\n",
       "                vehicleconfiguration vehicletransmission    vendor  \\\n",
       "7042             SEDAN AUTOMATIC 2.5      автоматическая  EUROPEAN   \n",
       "19963            SEDAN AUTOMATIC 2.5      автоматическая  JAPANESE   \n",
       "2162          LIFTBACK AUTOMATIC 1.8      автоматическая  EUROPEAN   \n",
       "...                              ...                 ...       ...   \n",
       "5517   ALLROAD_5_DOORS AUTOMATIC 2.0      автоматическая  JAPANESE   \n",
       "27480            SEDAN AUTOMATIC 1.6      автоматическая  JAPANESE   \n",
       "11815           SEDAN MECHANICAL 1.5        механическая  JAPANESE   \n",
       "\n",
       "         владельцы          владение       птс    привод    руль  \\\n",
       "7042   3 или более               NaN  Оригинал    полный   Левый   \n",
       "19963  3 или более               NaN  Оригинал    задний  Правый   \n",
       "2162   3 или более  5 лет и 3 месяца  Оригинал  передний   Левый   \n",
       "...            ...               ...       ...       ...     ...   \n",
       "5517   3 или более               NaN  Оригинал    полный   Левый   \n",
       "27480  3 или более               NaN  Оригинал  передний   Левый   \n",
       "11815  3 или более               NaN  Оригинал  передний   Левый   \n",
       "\n",
       "                состояние     таможня  \n",
       "7042   Не требует ремонта  Растаможен  \n",
       "19963  Не требует ремонта  Растаможен  \n",
       "2162   Не требует ремонта  Растаможен  \n",
       "...                   ...         ...  \n",
       "5517   Не требует ремонта  Растаможен  \n",
       "27480  Не требует ремонта  Растаможен  \n",
       "11815  Не требует ремонта  Растаможен  \n",
       "\n",
       "[3215 rows x 32 columns]"
      ]
     },
     "metadata": {},
     "output_type": "display_data"
    }
   ],
   "source": [
    "# дублтрующиеся записи - возможно использовать как индикатор оптового продавца\n",
    "# таких - 3215 записей\n",
    "dubl_col(df_alpha, df_alpha.columns.to_list()[5])"
   ]
  },
  {
   "cell_type": "code",
   "execution_count": 16,
   "id": "adf0be60",
   "metadata": {},
   "outputs": [
    {
     "name": "stdout",
     "output_type": "stream",
     "text": [
      "всего записей в столбце  description  =  3215\n",
      "NaN в столбце  description  =  0 ,  в процентах =  0%\n",
      "уникальных в столбце  description  =  258\n",
      "всего записей-дубликатов в столбце  description  =  3215\n"
     ]
    },
    {
     "data": {
      "text/html": [
       "<div>\n",
       "<style scoped>\n",
       "    .dataframe tbody tr th:only-of-type {\n",
       "        vertical-align: middle;\n",
       "    }\n",
       "\n",
       "    .dataframe tbody tr th {\n",
       "        vertical-align: top;\n",
       "    }\n",
       "\n",
       "    .dataframe thead th {\n",
       "        text-align: right;\n",
       "    }\n",
       "</style>\n",
       "<table border=\"1\" class=\"dataframe\">\n",
       "  <thead>\n",
       "    <tr style=\"text-align: right;\">\n",
       "      <th></th>\n",
       "      <th>description</th>\n",
       "    </tr>\n",
       "  </thead>\n",
       "  <tbody>\n",
       "    <tr>\n",
       "      <th>Выгода до 82 000 руб. при обмене на Ваш автомобиль! \\nВыгода при покупке в кредит до 100 000 руб.! \\nРОЛЬФ ЯСЕНЕВО с пробегом. \\n-Мы принимаем любые легковые и коммерческие автомобили независимо от марки, года выпуска, пробега и состояния автомобиля. \\n-В наличии более 500 проверенных и готовых к продаже автомобилей. \\n-Более 400 комплектов шин, дисков, колес в сборе. \\n-Все автомобили проходят комплексную проверку - техническую, криминалистическую, проверку истории кузовных ремонтов сертифицированными специалистами. \\n-Мы предоставляем гарантию юридической чистоты в соответствии с законодательством РФ. \\n-Мы работаем каждый день с 9:00 до 22:00 (без выходных). \\nУслуги: \\n• Срочный выкуп Вашего автомобиля \\n• Выкуп кредитных а/м \\n• Trade-in - обмен Вашего автомобиля на новый или с пробегом (возможна доплата с любой стороны) \\n• Выездная оценка Вашего а/м \\n• Комиссионная продажа (на Ваших условиях) \\n• Аукцион \\n• Кредитование \\n• Страхование КАСКО, ОСАГО \\n• Дополнительное оборудование \\n• Запасные части \\n• Сервисное обслуживание \\n• Б/У шины и диски</th>\n",
       "      <td>266</td>\n",
       "    </tr>\n",
       "    <tr>\n",
       "      <th>РОЛЬФ - Официальный дилер и Лучший дилер России по итогам продаж и обслуживания автомобилей. Мы гарантируем Вам самые лучшие условия покупки!\\n\\nВсе автомобили прошли:\\n\\n∙ Криминалистическую и юридическую проверку.\\n∙ Комплексную диагностику, Вы получаете лист с официальным заключением о состоянии автомобиля.</th>\n",
       "      <td>259</td>\n",
       "    </tr>\n",
       "    <tr>\n",
       "      <th>Автодилер года 2020\\n\\nПобедитель в номинации «Организация продаж автомобилей с пробегом»\\n\\nИндивидуальные условия при покупке в кредит и/или при обмене на Ваш автомобиль.\\nВсегда рады видеть Вас в нашем дилерском центре для просмотра данного автомобиля находящегося на крытой парковке ежедневно с 9 до 22. \\n\\nВы можете воспользоваться специальными кредитными предложениями при приобретении автомобиля: \\n+ Первоначальный взнос от 0% \\n+ Срок кредита от 6 месяцев до 7 лет \\n+ Выгодные процентные ставки \\n+ Кредит по двум документам (только паспорт и права) и выдачи кредита в автосалоне одним днем \\n+ ЭКСПРЕСС автокредит, одобрение заявки и выдача автокредита за 2 часа \\n+ Возможность оформления автокредита на себя, а автомобиля на другое лицо \\n+ Возможность досрочного погашения на следующий день \\n+ Возможность оформления в большинстве регионов РФ \\n+ Возможность оформления без военного билета \\n+ Возможность оформления автокредита для работающих пенсионеров (до 85 лет ) \\n+ Возможность не сдавать ПТС в банк\\n+ Возможность оплаты по безналичному расчёту\\n\\nБолее подробную информацию по комплектации, дополнительному оборудованию автомобиля и всем интересующим вопросам, уточняйте по телефону, у продавца – консультанта.</th>\n",
       "      <td>211</td>\n",
       "    </tr>\n",
       "    <tr>\n",
       "      <th>...</th>\n",
       "      <td>...</td>\n",
       "    </tr>\n",
       "    <tr>\n",
       "      <th>При покупке автомобиля с пробегом в КРЕДИТ предоставляется СКИДКА в размере 30 000 руб.\\n\\nДанный автомобиль представлен в нашем автосалоне!\\n\\nПриобретая автомобиль у нас, Вы получаете гарантию высокой надежности сделки при покупке и Гарантию на приобретаемый автомобиль! Гарантия юридической чистоты 100% - каждый автомобиль предварительно проверяется при приеме нашей службой безопасности по всем базам.\\n\\n* Автомобиль в отличном состоянии, на автомобиле проведена полная предпродажная подготовка, вложений не требует.\\n\\n* Лакокрасочное покрытие без повреждений.\\n\\n* Коробка и двигатель работают без нареканий (предоставляется 1 год гарантии).\\n\\n* Салон чистый, не прокуренный, ПТС оригинал.\\n\\n* Второй комплект ключей и сервисная книжка в наличии.\\n\\nЕсли Вы уже получили предложение от другого дилера-позвоните нам, и мы постараемся его улучшить!\\n\\nВыдача автомобиля в день обращения, независимо от формы оплаты (безналичный расчет, кредит, наличный расчет, оплата по банковской карте).</th>\n",
       "      <td>2</td>\n",
       "    </tr>\n",
       "    <tr>\n",
       "      <th>Авто в отличном состоянии моторо коробка без нареканий, ходовая тоже отличная, подогрев сидении, есть кондер мощный, музыка, машина просто сел и поехал, пробег родной, продаю из за покупки нового авто.</th>\n",
       "      <td>2</td>\n",
       "    </tr>\n",
       "    <tr>\n",
       "      <th>Автомобильная  группа Автоград покупает  и продает исключительно надежные и проверенные автомобили с пробегом. Мы дорожим личным временем своих клиентов и берем на себя все заботы  по поиску, покупке и продаже автомобиля с пробегом на выгодных для вас условиях. Гарантируем прозрачную историю,  комплексную диагностику, полную предпродажную подготовку автомобиля, конфиденциальность и юридическую  чистоту сделки.\\n\\nПокупайте автомобиль дистанционно, не выходя из дома.\\nДля Вас доступно:\\n   • Онлайн-консультация по интересующему вас автомобилю;\\n   • Онлайн-оценка вашего автомобиля на наиболее выгодных условиях;\\n   • Оплату выбранного автомобиля можно осуществить не выходя из дома.\\nДля нас здоровье и безопасность наших Клиентов, ради которых мы работаем, является главным приоритетом.\\nМы проводим дезинфекцию всех помещений и предметов, используем дополнительные средства защиты на рабочих местах сотрудников и соблюдаем необходимую дистанцию. Именно поэтому вы можете быть уверены в 100% безопасности и защищенности, когда забираете ваш автомобиль из точки выдачи.\\n      Один владелец. Приобретался и обслуживался у официального дилера. Проведена комплексная техническая диагностика. Окрашенных элементов кузова нет. Отличное состояние. Данный автомобиль можно приобрести в кредит на выгодных условиях без первоначального взноса и без справок. Обменяем Ваш а/м с пробегом на этот а/м по системе Trade In .Срочный выкуп день-в-день! Комиссионная продажа на Ваших условиях!</th>\n",
       "      <td>2</td>\n",
       "    </tr>\n",
       "  </tbody>\n",
       "</table>\n",
       "<p>258 rows × 1 columns</p>\n",
       "</div>"
      ],
      "text/plain": [
       "                                                    description\n",
       "Выгода до 82 000 руб. при обмене на Ваш автомоб...          266\n",
       "РОЛЬФ - Официальный дилер и Лучший дилер России...          259\n",
       "Автодилер года 2020\\n\\nПобедитель в номинации «...          211\n",
       "...                                                         ...\n",
       "При покупке автомобиля с пробегом в КРЕДИТ пред...            2\n",
       "Авто в отличном состоянии моторо коробка без на...            2\n",
       "Автомобильная  группа Автоград покупает  и прод...            2\n",
       "\n",
       "[258 rows x 1 columns]"
      ]
     },
     "metadata": {},
     "output_type": "display_data"
    }
   ],
   "source": [
    "# найдем число оптовых продавцов (магазинов) = 258 unique\n",
    "df3 = df_alpha[df_alpha['description'].duplicated(keep=False)]\n",
    "col_info(df3, df3.columns.to_list()[5])"
   ]
  },
  {
   "cell_type": "code",
   "execution_count": 17,
   "id": "5369aeff",
   "metadata": {},
   "outputs": [
    {
     "name": "stdout",
     "output_type": "stream",
     "text": [
      "всего записей в столбце  enginedisplacement  =  34686\n",
      "NaN в столбце  enginedisplacement  =  0 ,  в процентах =  0%\n",
      "уникальных в столбце  enginedisplacement  =  55\n",
      "всего записей-дубликатов в столбце  enginedisplacement  =  34684\n"
     ]
    },
    {
     "data": {
      "text/html": [
       "<div>\n",
       "<style scoped>\n",
       "    .dataframe tbody tr th:only-of-type {\n",
       "        vertical-align: middle;\n",
       "    }\n",
       "\n",
       "    .dataframe tbody tr th {\n",
       "        vertical-align: top;\n",
       "    }\n",
       "\n",
       "    .dataframe thead th {\n",
       "        text-align: right;\n",
       "    }\n",
       "</style>\n",
       "<table border=\"1\" class=\"dataframe\">\n",
       "  <thead>\n",
       "    <tr style=\"text-align: right;\">\n",
       "      <th></th>\n",
       "      <th>enginedisplacement</th>\n",
       "    </tr>\n",
       "  </thead>\n",
       "  <tbody>\n",
       "    <tr>\n",
       "      <th>2.0 LTR</th>\n",
       "      <td>7391</td>\n",
       "    </tr>\n",
       "    <tr>\n",
       "      <th>1.6 LTR</th>\n",
       "      <td>4973</td>\n",
       "    </tr>\n",
       "    <tr>\n",
       "      <th>3.0 LTR</th>\n",
       "      <td>3915</td>\n",
       "    </tr>\n",
       "    <tr>\n",
       "      <th>...</th>\n",
       "      <td>...</td>\n",
       "    </tr>\n",
       "    <tr>\n",
       "      <th>1.1 LTR</th>\n",
       "      <td>4</td>\n",
       "    </tr>\n",
       "    <tr>\n",
       "      <th>3.9 LTR</th>\n",
       "      <td>1</td>\n",
       "    </tr>\n",
       "    <tr>\n",
       "      <th>5.3 LTR</th>\n",
       "      <td>1</td>\n",
       "    </tr>\n",
       "  </tbody>\n",
       "</table>\n",
       "<p>55 rows × 1 columns</p>\n",
       "</div>"
      ],
      "text/plain": [
       "         enginedisplacement\n",
       "2.0 LTR                7391\n",
       "1.6 LTR                4973\n",
       "3.0 LTR                3915\n",
       "...                     ...\n",
       "1.1 LTR                   4\n",
       "3.9 LTR                   1\n",
       "5.3 LTR                   1\n",
       "\n",
       "[55 rows x 1 columns]"
      ]
     },
     "metadata": {},
     "output_type": "display_data"
    }
   ],
   "source": [
    "# пустых (LTR без числа) в engineDisplacement  =  55\n",
    "col_info(df_alpha, df_alpha.columns.to_list()[6])"
   ]
  },
  {
   "cell_type": "code",
   "execution_count": 18,
   "id": "d29f658d",
   "metadata": {
    "scrolled": false
   },
   "outputs": [
    {
     "name": "stdout",
     "output_type": "stream",
     "text": [
      "всего записей в столбце  enginepower  =  34686\n",
      "NaN в столбце  enginepower  =  0 ,  в процентах =  0%\n",
      "уникальных в столбце  enginepower  =  315\n",
      "всего записей-дубликатов в столбце  enginepower  =  34655\n"
     ]
    },
    {
     "data": {
      "text/html": [
       "<div>\n",
       "<style scoped>\n",
       "    .dataframe tbody tr th:only-of-type {\n",
       "        vertical-align: middle;\n",
       "    }\n",
       "\n",
       "    .dataframe tbody tr th {\n",
       "        vertical-align: top;\n",
       "    }\n",
       "\n",
       "    .dataframe thead th {\n",
       "        text-align: right;\n",
       "    }\n",
       "</style>\n",
       "<table border=\"1\" class=\"dataframe\">\n",
       "  <thead>\n",
       "    <tr style=\"text-align: right;\">\n",
       "      <th></th>\n",
       "      <th>enginepower</th>\n",
       "    </tr>\n",
       "  </thead>\n",
       "  <tbody>\n",
       "    <tr>\n",
       "      <th>249 N12</th>\n",
       "      <td>1708</td>\n",
       "    </tr>\n",
       "    <tr>\n",
       "      <th>150 N12</th>\n",
       "      <td>1699</td>\n",
       "    </tr>\n",
       "    <tr>\n",
       "      <th>110 N12</th>\n",
       "      <td>1039</td>\n",
       "    </tr>\n",
       "    <tr>\n",
       "      <th>...</th>\n",
       "      <td>...</td>\n",
       "    </tr>\n",
       "    <tr>\n",
       "      <th>38 N12</th>\n",
       "      <td>1</td>\n",
       "    </tr>\n",
       "    <tr>\n",
       "      <th>32 N12</th>\n",
       "      <td>1</td>\n",
       "    </tr>\n",
       "    <tr>\n",
       "      <th>301 N12</th>\n",
       "      <td>1</td>\n",
       "    </tr>\n",
       "  </tbody>\n",
       "</table>\n",
       "<p>315 rows × 1 columns</p>\n",
       "</div>"
      ],
      "text/plain": [
       "         enginepower\n",
       "249 N12         1708\n",
       "150 N12         1699\n",
       "110 N12         1039\n",
       "...              ...\n",
       "38 N12             1\n",
       "32 N12             1\n",
       "301 N12            1\n",
       "\n",
       "[315 rows x 1 columns]"
      ]
     },
     "metadata": {},
     "output_type": "display_data"
    }
   ],
   "source": [
    "col_info(df_alpha, df_alpha.columns.to_list()[7])"
   ]
  },
  {
   "cell_type": "code",
   "execution_count": 19,
   "id": "9b70e0ec",
   "metadata": {},
   "outputs": [
    {
     "name": "stdout",
     "output_type": "stream",
     "text": [
      "всего записей в столбце  equipment_dict  =  24690\n",
      "NaN в столбце  equipment_dict  =  9996 ,  в процентах =  29%\n",
      "уникальных в столбце  equipment_dict  =  23706\n",
      "всего записей-дубликатов в столбце  equipment_dict  =  11336\n"
     ]
    },
    {
     "data": {
      "text/html": [
       "<div>\n",
       "<style scoped>\n",
       "    .dataframe tbody tr th:only-of-type {\n",
       "        vertical-align: middle;\n",
       "    }\n",
       "\n",
       "    .dataframe tbody tr th {\n",
       "        vertical-align: top;\n",
       "    }\n",
       "\n",
       "    .dataframe thead th {\n",
       "        text-align: right;\n",
       "    }\n",
       "</style>\n",
       "<table border=\"1\" class=\"dataframe\">\n",
       "  <thead>\n",
       "    <tr style=\"text-align: right;\">\n",
       "      <th></th>\n",
       "      <th>equipment_dict</th>\n",
       "    </tr>\n",
       "  </thead>\n",
       "  <tbody>\n",
       "    <tr>\n",
       "      <th>NaN</th>\n",
       "      <td>9996</td>\n",
       "    </tr>\n",
       "    <tr>\n",
       "      <th>{\"leather\":true}</th>\n",
       "      <td>108</td>\n",
       "    </tr>\n",
       "    <tr>\n",
       "      <th>{\"gbo\":true}</th>\n",
       "      <td>106</td>\n",
       "    </tr>\n",
       "    <tr>\n",
       "      <th>...</th>\n",
       "      <td>...</td>\n",
       "    </tr>\n",
       "    <tr>\n",
       "      <th>{\"cruise-control\":true,\"asr\":true,\"tinted-glass\":true,\"esp\":true,\"usb\":true,\"multi-wheel\":true,\"spare-wheel\":true,\"audiosystem-tv\":true,\"airbag-passenger\":true,\"front-centre-armrest\":true,\"navigation\":true,\"apple-carplay\":true,\"front-seat-support\":true,\"bas\":true,\"lock\":true,\"rear-camera\":true,\"drl\":true,\"electro-mirrors\":true,\"electro-window-back\":true,\"easy-trunk-opening\":true,\"mirrors-heat\":true,\"17-inch-wheels\":true,\"park-assist-f\":true,\"wheel-heat\":true,\"park-assist-r\":true,\"glonass\":true,\"airbag-driver\":true,\"aux\":true,\"isofix\":true,\"electro-window-front\":true,\"light-sensor\":true,\"hcc\":true,\"airbag-curtain\":true,\"passenger-seat-updown\":true,\"computer\":true,\"keyless-entry\":true,\"ya-auto\":true,\"seat-transformation\":true,\"android-auto\":true,\"wheel-power\":true,\"dha\":true,\"fabric-seats\":true,\"ptf\":true,\"leather-gear-stick\":true,\"start-button\":true,\"rain-sensor\":true,\"airbag-side\":true,\"electro-trunk\":true,\"abs\":true,\"bluetooth\":true,\"front-seats-heat\":true,\"wheel-leather\":true,\"wheel-configuration2\":true,\"wheel-configuration1\":true,\"immo\":true,\"windscreen-heat\":true,\"climate-control-2\":true,\"auto-mirrors\":true,\"12v-socket\":true,\"third-rear-headrest\":true}</th>\n",
       "      <td>1</td>\n",
       "    </tr>\n",
       "    <tr>\n",
       "      <th>{\"front-seats-heat\":true,\"wheel-power\":true,\"fabric-seats\":true}</th>\n",
       "      <td>1</td>\n",
       "    </tr>\n",
       "    <tr>\n",
       "      <th>{\"alloy-wheel-disks\":true,\"navigation\":true,\"ptf\":true,\"airbrush\":true,\"aux\":true,\"20-inch-wheels\":true,\"dark-interior\":true,\"xenon\":true,\"leather\":true,\"seat-memory\":true}</th>\n",
       "      <td>1</td>\n",
       "    </tr>\n",
       "  </tbody>\n",
       "</table>\n",
       "<p>23706 rows × 1 columns</p>\n",
       "</div>"
      ],
      "text/plain": [
       "                                                    equipment_dict\n",
       "NaN                                                           9996\n",
       "{\"leather\":true}                                               108\n",
       "{\"gbo\":true}                                                   106\n",
       "...                                                            ...\n",
       "{\"cruise-control\":true,\"asr\":true,\"tinted-glass...               1\n",
       "{\"front-seats-heat\":true,\"wheel-power\":true,\"fa...               1\n",
       "{\"alloy-wheel-disks\":true,\"navigation\":true,\"pt...               1\n",
       "\n",
       "[23706 rows x 1 columns]"
      ]
     },
     "metadata": {},
     "output_type": "display_data"
    }
   ],
   "source": [
    "col_info(df_alpha, df_alpha.columns.to_list()[8])"
   ]
  },
  {
   "cell_type": "code",
   "execution_count": 20,
   "id": "36951dcd",
   "metadata": {},
   "outputs": [
    {
     "name": "stdout",
     "output_type": "stream",
     "text": [
      "всего записей в столбце  fueltype  =  34686\n",
      "NaN в столбце  fueltype  =  0 ,  в процентах =  0%\n",
      "уникальных в столбце  fueltype  =  5\n",
      "всего записей-дубликатов в столбце  fueltype  =  34686\n"
     ]
    },
    {
     "data": {
      "text/html": [
       "<div>\n",
       "<style scoped>\n",
       "    .dataframe tbody tr th:only-of-type {\n",
       "        vertical-align: middle;\n",
       "    }\n",
       "\n",
       "    .dataframe tbody tr th {\n",
       "        vertical-align: top;\n",
       "    }\n",
       "\n",
       "    .dataframe thead th {\n",
       "        text-align: right;\n",
       "    }\n",
       "</style>\n",
       "<table border=\"1\" class=\"dataframe\">\n",
       "  <thead>\n",
       "    <tr style=\"text-align: right;\">\n",
       "      <th></th>\n",
       "      <th>fueltype</th>\n",
       "    </tr>\n",
       "  </thead>\n",
       "  <tbody>\n",
       "    <tr>\n",
       "      <th>бензин</th>\n",
       "      <td>28601</td>\n",
       "    </tr>\n",
       "    <tr>\n",
       "      <th>дизель</th>\n",
       "      <td>5800</td>\n",
       "    </tr>\n",
       "    <tr>\n",
       "      <th>гибрид</th>\n",
       "      <td>223</td>\n",
       "    </tr>\n",
       "    <tr>\n",
       "      <th>электро</th>\n",
       "      <td>55</td>\n",
       "    </tr>\n",
       "    <tr>\n",
       "      <th>газ</th>\n",
       "      <td>7</td>\n",
       "    </tr>\n",
       "  </tbody>\n",
       "</table>\n",
       "</div>"
      ],
      "text/plain": [
       "         fueltype\n",
       "бензин      28601\n",
       "дизель       5800\n",
       "гибрид        223\n",
       "электро        55\n",
       "газ             7"
      ]
     },
     "metadata": {},
     "output_type": "display_data"
    }
   ],
   "source": [
    "col_info(df_alpha, df_alpha.columns.to_list()[9])"
   ]
  },
  {
   "cell_type": "code",
   "execution_count": 21,
   "id": "99513ad2",
   "metadata": {},
   "outputs": [
    {
     "name": "stdout",
     "output_type": "stream",
     "text": [
      "всего записей в столбце  image  =  34686\n",
      "NaN в столбце  image  =  0 ,  в процентах =  0%\n",
      "уникальных в столбце  image  =  34557\n",
      "всего записей-дубликатов в столбце  image  =  183\n"
     ]
    },
    {
     "data": {
      "text/html": [
       "<div>\n",
       "<style scoped>\n",
       "    .dataframe tbody tr th:only-of-type {\n",
       "        vertical-align: middle;\n",
       "    }\n",
       "\n",
       "    .dataframe tbody tr th {\n",
       "        vertical-align: top;\n",
       "    }\n",
       "\n",
       "    .dataframe thead th {\n",
       "        text-align: right;\n",
       "    }\n",
       "</style>\n",
       "<table border=\"1\" class=\"dataframe\">\n",
       "  <thead>\n",
       "    <tr style=\"text-align: right;\">\n",
       "      <th></th>\n",
       "      <th>image</th>\n",
       "    </tr>\n",
       "  </thead>\n",
       "  <tbody>\n",
       "    <tr>\n",
       "      <th>https://avatars.mds.yandex.net/get-verba/216201/2a000001609d0005e0912c12a896bbda4ab1/wizardv3mr</th>\n",
       "      <td>13</td>\n",
       "    </tr>\n",
       "    <tr>\n",
       "      <th>https://avatars.mds.yandex.net/get-verba/216201/2a000001609bda17487cc63d8b957ab4aab2/wizardv3mr</th>\n",
       "      <td>9</td>\n",
       "    </tr>\n",
       "    <tr>\n",
       "      <th>https://avatars.mds.yandex.net/get-verba/787013/2a000001609d6c09eb305345ee1ea7e7bd15/wizardv3mr</th>\n",
       "      <td>8</td>\n",
       "    </tr>\n",
       "    <tr>\n",
       "      <th>...</th>\n",
       "      <td>...</td>\n",
       "    </tr>\n",
       "    <tr>\n",
       "      <th>https://avatars.mds.yandex.net/get-autoru-vos/2028593/413fc7d3c52e136e34499dee00eb91ad/320x240</th>\n",
       "      <td>1</td>\n",
       "    </tr>\n",
       "    <tr>\n",
       "      <th>https://autoru.naydex.net/G87gDZg56/28c7a8vqVE/xGtzQkxaH-LvfLMYcqnNjeKZWSgfkOxAh1jWB0acClC2yBpE7d1cW7XQArDH8gkwstoQKtHhIKg58J8hAuHkUYMre1kHCw_grCvwXm6mnsyo1Q5pSMekFtsJknd-uD8_iPI8YtjhP0yv10KshLFkX6KPZQiHwCXaXtjiRHK-lQ#DSD</th>\n",
       "      <td>1</td>\n",
       "    </tr>\n",
       "    <tr>\n",
       "      <th>https://avatars.mds.yandex.net/get-autoru-vos/2159583/a3610c94aebcc8d6b441ca84222ce095/320x240</th>\n",
       "      <td>1</td>\n",
       "    </tr>\n",
       "  </tbody>\n",
       "</table>\n",
       "<p>34557 rows × 1 columns</p>\n",
       "</div>"
      ],
      "text/plain": [
       "                                                    image\n",
       "https://avatars.mds.yandex.net/get-verba/216201...     13\n",
       "https://avatars.mds.yandex.net/get-verba/216201...      9\n",
       "https://avatars.mds.yandex.net/get-verba/787013...      8\n",
       "...                                                   ...\n",
       "https://avatars.mds.yandex.net/get-autoru-vos/2...      1\n",
       "https://autoru.naydex.net/G87gDZg56/28c7a8vqVE/...      1\n",
       "https://avatars.mds.yandex.net/get-autoru-vos/2...      1\n",
       "\n",
       "[34557 rows x 1 columns]"
      ]
     },
     "metadata": {},
     "output_type": "display_data"
    }
   ],
   "source": [
    "#  ссылки на фото\n",
    "col_info(df_alpha, df_alpha.columns.to_list()[10])"
   ]
  },
  {
   "cell_type": "code",
   "execution_count": 22,
   "id": "8b070d86",
   "metadata": {},
   "outputs": [
    {
     "name": "stdout",
     "output_type": "stream",
     "text": [
      "всего записей в столбце  mileage  =  34686\n",
      "NaN в столбце  mileage  =  0 ,  в процентах =  0%\n",
      "уникальных в столбце  mileage  =  11268\n",
      "всего записей-дубликатов в столбце  mileage  =  24887\n"
     ]
    },
    {
     "data": {
      "text/html": [
       "<div>\n",
       "<style scoped>\n",
       "    .dataframe tbody tr th:only-of-type {\n",
       "        vertical-align: middle;\n",
       "    }\n",
       "\n",
       "    .dataframe tbody tr th {\n",
       "        vertical-align: top;\n",
       "    }\n",
       "\n",
       "    .dataframe thead th {\n",
       "        text-align: right;\n",
       "    }\n",
       "</style>\n",
       "<table border=\"1\" class=\"dataframe\">\n",
       "  <thead>\n",
       "    <tr style=\"text-align: right;\">\n",
       "      <th></th>\n",
       "      <th>mileage</th>\n",
       "    </tr>\n",
       "  </thead>\n",
       "  <tbody>\n",
       "    <tr>\n",
       "      <th>200000</th>\n",
       "      <td>436</td>\n",
       "    </tr>\n",
       "    <tr>\n",
       "      <th>150000</th>\n",
       "      <td>382</td>\n",
       "    </tr>\n",
       "    <tr>\n",
       "      <th>300000</th>\n",
       "      <td>381</td>\n",
       "    </tr>\n",
       "    <tr>\n",
       "      <th>...</th>\n",
       "      <td>...</td>\n",
       "    </tr>\n",
       "    <tr>\n",
       "      <th>210311</th>\n",
       "      <td>1</td>\n",
       "    </tr>\n",
       "    <tr>\n",
       "      <th>121363</th>\n",
       "      <td>1</td>\n",
       "    </tr>\n",
       "    <tr>\n",
       "      <th>157965</th>\n",
       "      <td>1</td>\n",
       "    </tr>\n",
       "  </tbody>\n",
       "</table>\n",
       "<p>11268 rows × 1 columns</p>\n",
       "</div>"
      ],
      "text/plain": [
       "        mileage\n",
       "200000      436\n",
       "150000      382\n",
       "300000      381\n",
       "...         ...\n",
       "210311        1\n",
       "121363        1\n",
       "157965        1\n",
       "\n",
       "[11268 rows x 1 columns]"
      ]
     },
     "metadata": {},
     "output_type": "display_data"
    }
   ],
   "source": [
    "col_info(df_alpha, df_alpha.columns.to_list()[11])"
   ]
  },
  {
   "cell_type": "code",
   "execution_count": 23,
   "id": "4face114",
   "metadata": {},
   "outputs": [
    {
     "name": "stdout",
     "output_type": "stream",
     "text": [
      "всего записей в столбце  modeldate  =  34686\n",
      "NaN в столбце  modeldate  =  0 ,  в процентах =  0%\n",
      "уникальных в столбце  modeldate  =  66\n",
      "всего записей-дубликатов в столбце  modeldate  =  34679\n"
     ]
    },
    {
     "data": {
      "text/html": [
       "<div>\n",
       "<style scoped>\n",
       "    .dataframe tbody tr th:only-of-type {\n",
       "        vertical-align: middle;\n",
       "    }\n",
       "\n",
       "    .dataframe tbody tr th {\n",
       "        vertical-align: top;\n",
       "    }\n",
       "\n",
       "    .dataframe thead th {\n",
       "        text-align: right;\n",
       "    }\n",
       "</style>\n",
       "<table border=\"1\" class=\"dataframe\">\n",
       "  <thead>\n",
       "    <tr style=\"text-align: right;\">\n",
       "      <th></th>\n",
       "      <th>modeldate</th>\n",
       "    </tr>\n",
       "  </thead>\n",
       "  <tbody>\n",
       "    <tr>\n",
       "      <th>2010</th>\n",
       "      <td>2503</td>\n",
       "    </tr>\n",
       "    <tr>\n",
       "      <th>2013</th>\n",
       "      <td>2275</td>\n",
       "    </tr>\n",
       "    <tr>\n",
       "      <th>2008</th>\n",
       "      <td>2243</td>\n",
       "    </tr>\n",
       "    <tr>\n",
       "      <th>...</th>\n",
       "      <td>...</td>\n",
       "    </tr>\n",
       "    <tr>\n",
       "      <th>1969</th>\n",
       "      <td>1</td>\n",
       "    </tr>\n",
       "    <tr>\n",
       "      <th>1934</th>\n",
       "      <td>1</td>\n",
       "    </tr>\n",
       "    <tr>\n",
       "      <th>1960</th>\n",
       "      <td>1</td>\n",
       "    </tr>\n",
       "  </tbody>\n",
       "</table>\n",
       "<p>66 rows × 1 columns</p>\n",
       "</div>"
      ],
      "text/plain": [
       "      modeldate\n",
       "2010       2503\n",
       "2013       2275\n",
       "2008       2243\n",
       "...         ...\n",
       "1969          1\n",
       "1934          1\n",
       "1960          1\n",
       "\n",
       "[66 rows x 1 columns]"
      ]
     },
     "metadata": {},
     "output_type": "display_data"
    }
   ],
   "source": [
    "col_info(df_alpha, df_alpha.columns.to_list()[12])"
   ]
  },
  {
   "cell_type": "code",
   "execution_count": 24,
   "id": "e9a7ded1",
   "metadata": {},
   "outputs": [
    {
     "name": "stdout",
     "output_type": "stream",
     "text": [
      "всего записей в столбце  model_info  =  34686\n",
      "NaN в столбце  model_info  =  0 ,  в процентах =  0%\n",
      "уникальных в столбце  model_info  =  954\n",
      "всего записей-дубликатов в столбце  model_info  =  34527\n"
     ]
    },
    {
     "data": {
      "text/html": [
       "<div>\n",
       "<style scoped>\n",
       "    .dataframe tbody tr th:only-of-type {\n",
       "        vertical-align: middle;\n",
       "    }\n",
       "\n",
       "    .dataframe tbody tr th {\n",
       "        vertical-align: top;\n",
       "    }\n",
       "\n",
       "    .dataframe thead th {\n",
       "        text-align: right;\n",
       "    }\n",
       "</style>\n",
       "<table border=\"1\" class=\"dataframe\">\n",
       "  <thead>\n",
       "    <tr style=\"text-align: right;\">\n",
       "      <th></th>\n",
       "      <th>model_info</th>\n",
       "    </tr>\n",
       "  </thead>\n",
       "  <tbody>\n",
       "    <tr>\n",
       "      <th>{\"code\":\"OCTAVIA\",\"name\":\"Octavia\",\"ru_name\":\"Октавия\",\"morphology\":{\"gender\":\"FEMININE\"},\"nameplate\":{\"code\":\"\",\"name\":\"\",\"semantic_url\":\"\"}}</th>\n",
       "      <td>1404</td>\n",
       "    </tr>\n",
       "    <tr>\n",
       "      <th>{\"code\":\"LANCER\",\"name\":\"Lancer\",\"ru_name\":\"Лансер\",\"morphology\":{},\"nameplate\":{\"code\":\"\",\"name\":\"\",\"semantic_url\":\"\"}}</th>\n",
       "      <td>843</td>\n",
       "    </tr>\n",
       "    <tr>\n",
       "      <th>{\"code\":\"PASSAT\",\"name\":\"Passat\",\"ru_name\":\"Пассат\",\"morphology\":{},\"nameplate\":{\"code\":\"\",\"name\":\"\",\"semantic_url\":\"\"}}</th>\n",
       "      <td>776</td>\n",
       "    </tr>\n",
       "    <tr>\n",
       "      <th>...</th>\n",
       "      <td>...</td>\n",
       "    </tr>\n",
       "    <tr>\n",
       "      <th>{\"code\":\"M_KLASSE\",\"name\":\"M-Класс\",\"ru_name\":\"M-класс\",\"morphology\":{},\"nameplate\":{\"code\":\"9264723\",\"name\":\"230\",\"semantic_url\":\"230\"}}</th>\n",
       "      <td>1</td>\n",
       "    </tr>\n",
       "    <tr>\n",
       "      <th>{\"code\":\"S_KLASSE\",\"name\":\"S-Класс\",\"ru_name\":\"S-класс\",\"morphology\":{},\"nameplate\":{\"code\":\"11903228\",\"name\":\"420 L\",\"semantic_url\":\"420_l\"}}</th>\n",
       "      <td>1</td>\n",
       "    </tr>\n",
       "    <tr>\n",
       "      <th>{\"code\":\"LAND_CRUISER_PRADO\",\"name\":\"Land Cruiser Prado\",\"ru_name\":\"Ленд Крузер Прадо\",\"morphology\":{},\"nameplate\":{\"code\":\"11880760\",\"name\":\"Arctic Trucks\",\"semantic_url\":\"arctic_trucks\"}}</th>\n",
       "      <td>1</td>\n",
       "    </tr>\n",
       "  </tbody>\n",
       "</table>\n",
       "<p>954 rows × 1 columns</p>\n",
       "</div>"
      ],
      "text/plain": [
       "                                                    model_info\n",
       "{\"code\":\"OCTAVIA\",\"name\":\"Octavia\",\"ru_name\":\"О...        1404\n",
       "{\"code\":\"LANCER\",\"name\":\"Lancer\",\"ru_name\":\"Лан...         843\n",
       "{\"code\":\"PASSAT\",\"name\":\"Passat\",\"ru_name\":\"Пас...         776\n",
       "...                                                        ...\n",
       "{\"code\":\"M_KLASSE\",\"name\":\"M-Класс\",\"ru_name\":\"...           1\n",
       "{\"code\":\"S_KLASSE\",\"name\":\"S-Класс\",\"ru_name\":\"...           1\n",
       "{\"code\":\"LAND_CRUISER_PRADO\",\"name\":\"Land Cruis...           1\n",
       "\n",
       "[954 rows x 1 columns]"
      ]
     },
     "metadata": {},
     "output_type": "display_data"
    }
   ],
   "source": [
    "col_info(df_alpha, df_alpha.columns.to_list()[13])"
   ]
  },
  {
   "cell_type": "code",
   "execution_count": 25,
   "id": "b3656818",
   "metadata": {
    "scrolled": true
   },
   "outputs": [
    {
     "name": "stdout",
     "output_type": "stream",
     "text": [
      "всего записей в столбце  model_name  =  34686\n",
      "NaN в столбце  model_name  =  0 ,  в процентах =  0%\n",
      "уникальных в столбце  model_name  =  544\n",
      "всего записей-дубликатов в столбце  model_name  =  34603\n"
     ]
    },
    {
     "data": {
      "text/html": [
       "<div>\n",
       "<style scoped>\n",
       "    .dataframe tbody tr th:only-of-type {\n",
       "        vertical-align: middle;\n",
       "    }\n",
       "\n",
       "    .dataframe tbody tr th {\n",
       "        vertical-align: top;\n",
       "    }\n",
       "\n",
       "    .dataframe thead th {\n",
       "        text-align: right;\n",
       "    }\n",
       "</style>\n",
       "<table border=\"1\" class=\"dataframe\">\n",
       "  <thead>\n",
       "    <tr style=\"text-align: right;\">\n",
       "      <th></th>\n",
       "      <th>model_name</th>\n",
       "    </tr>\n",
       "  </thead>\n",
       "  <tbody>\n",
       "    <tr>\n",
       "      <th>OCTAVIA</th>\n",
       "      <td>1418</td>\n",
       "    </tr>\n",
       "    <tr>\n",
       "      <th>5ER</th>\n",
       "      <td>1026</td>\n",
       "    </tr>\n",
       "    <tr>\n",
       "      <th>LANCER</th>\n",
       "      <td>855</td>\n",
       "    </tr>\n",
       "    <tr>\n",
       "      <th>...</th>\n",
       "      <td>...</td>\n",
       "    </tr>\n",
       "    <tr>\n",
       "      <th>VERSO_S</th>\n",
       "      <td>1</td>\n",
       "    </tr>\n",
       "    <tr>\n",
       "      <th>Z3M</th>\n",
       "      <td>1</td>\n",
       "    </tr>\n",
       "    <tr>\n",
       "      <th>PLATZ</th>\n",
       "      <td>1</td>\n",
       "    </tr>\n",
       "  </tbody>\n",
       "</table>\n",
       "<p>544 rows × 1 columns</p>\n",
       "</div>"
      ],
      "text/plain": [
       "         model_name\n",
       "OCTAVIA        1418\n",
       "5ER            1026\n",
       "LANCER          855\n",
       "...             ...\n",
       "VERSO_S           1\n",
       "Z3M               1\n",
       "PLATZ             1\n",
       "\n",
       "[544 rows x 1 columns]"
      ]
     },
     "metadata": {},
     "output_type": "display_data"
    }
   ],
   "source": [
    "col_info(df_alpha, df_alpha.columns.to_list()[14])"
   ]
  },
  {
   "cell_type": "code",
   "execution_count": 26,
   "id": "27c544d4",
   "metadata": {
    "scrolled": false
   },
   "outputs": [
    {
     "name": "stdout",
     "output_type": "stream",
     "text": [
      "всего записей в столбце  name  =  34686\n",
      "NaN в столбце  name  =  0 ,  в процентах =  0%\n",
      "уникальных в столбце  name  =  2780\n",
      "всего записей-дубликатов в столбце  name  =  33834\n"
     ]
    },
    {
     "data": {
      "text/html": [
       "<div>\n",
       "<style scoped>\n",
       "    .dataframe tbody tr th:only-of-type {\n",
       "        vertical-align: middle;\n",
       "    }\n",
       "\n",
       "    .dataframe tbody tr th {\n",
       "        vertical-align: top;\n",
       "    }\n",
       "\n",
       "    .dataframe thead th {\n",
       "        text-align: right;\n",
       "    }\n",
       "</style>\n",
       "<table border=\"1\" class=\"dataframe\">\n",
       "  <thead>\n",
       "    <tr style=\"text-align: right;\">\n",
       "      <th></th>\n",
       "      <th>name</th>\n",
       "    </tr>\n",
       "  </thead>\n",
       "  <tbody>\n",
       "    <tr>\n",
       "      <th>1.6 AT (110 л.с.)</th>\n",
       "      <td>631</td>\n",
       "    </tr>\n",
       "    <tr>\n",
       "      <th>1.6 MT (102 л.с.)</th>\n",
       "      <td>410</td>\n",
       "    </tr>\n",
       "    <tr>\n",
       "      <th>1.6 MT (110 л.с.)</th>\n",
       "      <td>314</td>\n",
       "    </tr>\n",
       "    <tr>\n",
       "      <th>...</th>\n",
       "      <td>...</td>\n",
       "    </tr>\n",
       "    <tr>\n",
       "      <th>3.5d MT (115 л.с.) 4WD</th>\n",
       "      <td>1</td>\n",
       "    </tr>\n",
       "    <tr>\n",
       "      <th>3.0 AT (223 л.с.)</th>\n",
       "      <td>1</td>\n",
       "    </tr>\n",
       "    <tr>\n",
       "      <th>300 3.0 AT (218 л.с.)</th>\n",
       "      <td>1</td>\n",
       "    </tr>\n",
       "  </tbody>\n",
       "</table>\n",
       "<p>2780 rows × 1 columns</p>\n",
       "</div>"
      ],
      "text/plain": [
       "                        name\n",
       "1.6 AT (110 л.с.)        631\n",
       "1.6 MT (102 л.с.)        410\n",
       "1.6 MT (110 л.с.)        314\n",
       "...                      ...\n",
       "3.5d MT (115 л.с.) 4WD     1\n",
       "3.0 AT (223 л.с.)          1\n",
       "300 3.0 AT (218 л.с.)      1\n",
       "\n",
       "[2780 rows x 1 columns]"
      ]
     },
     "metadata": {},
     "output_type": "display_data"
    }
   ],
   "source": [
    "col_info(df_alpha, df_alpha.columns.to_list()[15])"
   ]
  },
  {
   "cell_type": "code",
   "execution_count": 27,
   "id": "54799ac4",
   "metadata": {
    "scrolled": true
   },
   "outputs": [
    {
     "name": "stdout",
     "output_type": "stream",
     "text": [
      "всего записей в столбце  numberofdoors  =  34686\n",
      "NaN в столбце  numberofdoors  =  0 ,  в процентах =  0%\n",
      "уникальных в столбце  numberofdoors  =  5\n",
      "всего записей-дубликатов в столбце  numberofdoors  =  34685\n"
     ]
    },
    {
     "data": {
      "text/html": [
       "<div>\n",
       "<style scoped>\n",
       "    .dataframe tbody tr th:only-of-type {\n",
       "        vertical-align: middle;\n",
       "    }\n",
       "\n",
       "    .dataframe tbody tr th {\n",
       "        vertical-align: top;\n",
       "    }\n",
       "\n",
       "    .dataframe thead th {\n",
       "        text-align: right;\n",
       "    }\n",
       "</style>\n",
       "<table border=\"1\" class=\"dataframe\">\n",
       "  <thead>\n",
       "    <tr style=\"text-align: right;\">\n",
       "      <th></th>\n",
       "      <th>numberofdoors</th>\n",
       "    </tr>\n",
       "  </thead>\n",
       "  <tbody>\n",
       "    <tr>\n",
       "      <th>5</th>\n",
       "      <td>18703</td>\n",
       "    </tr>\n",
       "    <tr>\n",
       "      <th>4</th>\n",
       "      <td>14126</td>\n",
       "    </tr>\n",
       "    <tr>\n",
       "      <th>2</th>\n",
       "      <td>1206</td>\n",
       "    </tr>\n",
       "    <tr>\n",
       "      <th>3</th>\n",
       "      <td>650</td>\n",
       "    </tr>\n",
       "    <tr>\n",
       "      <th>0</th>\n",
       "      <td>1</td>\n",
       "    </tr>\n",
       "  </tbody>\n",
       "</table>\n",
       "</div>"
      ],
      "text/plain": [
       "   numberofdoors\n",
       "5          18703\n",
       "4          14126\n",
       "2           1206\n",
       "3            650\n",
       "0              1"
      ]
     },
     "metadata": {},
     "output_type": "display_data"
    }
   ],
   "source": [
    "col_info(df_alpha, df_alpha.columns.to_list()[16])"
   ]
  },
  {
   "cell_type": "code",
   "execution_count": 28,
   "id": "0b61867e",
   "metadata": {
    "scrolled": true
   },
   "outputs": [
    {
     "name": "stdout",
     "output_type": "stream",
     "text": [
      "2020-10-19 11:35:06\n",
      "2020-10-26 11:04:24\n"
     ]
    }
   ],
   "source": [
    "# parsing_unixtime convert to date\n",
    "df_alpha.parsing_unixtime = pd.to_datetime(\n",
    "    df_alpha.parsing_unixtime, unit='s')\n",
    "print(df_alpha.parsing_unixtime.min())\n",
    "print(df_alpha.parsing_unixtime.max())"
   ]
  },
  {
   "cell_type": "code",
   "execution_count": 29,
   "id": "018a6df6",
   "metadata": {
    "scrolled": true
   },
   "outputs": [
    {
     "name": "stdout",
     "output_type": "stream",
     "text": [
      "всего записей в столбце  parsing_unixtime  =  34686\n",
      "NaN в столбце  parsing_unixtime  =  0 ,  в процентах =  0%\n",
      "уникальных в столбце  parsing_unixtime  =  34686\n",
      "всего записей-дубликатов в столбце  parsing_unixtime  =  0\n"
     ]
    },
    {
     "data": {
      "text/html": [
       "<div>\n",
       "<style scoped>\n",
       "    .dataframe tbody tr th:only-of-type {\n",
       "        vertical-align: middle;\n",
       "    }\n",
       "\n",
       "    .dataframe tbody tr th {\n",
       "        vertical-align: top;\n",
       "    }\n",
       "\n",
       "    .dataframe thead th {\n",
       "        text-align: right;\n",
       "    }\n",
       "</style>\n",
       "<table border=\"1\" class=\"dataframe\">\n",
       "  <thead>\n",
       "    <tr style=\"text-align: right;\">\n",
       "      <th></th>\n",
       "      <th>parsing_unixtime</th>\n",
       "    </tr>\n",
       "  </thead>\n",
       "  <tbody>\n",
       "    <tr>\n",
       "      <th>2020-10-20 20:37:53</th>\n",
       "      <td>1</td>\n",
       "    </tr>\n",
       "    <tr>\n",
       "      <th>2020-10-21 17:38:56</th>\n",
       "      <td>1</td>\n",
       "    </tr>\n",
       "    <tr>\n",
       "      <th>2020-10-21 17:39:48</th>\n",
       "      <td>1</td>\n",
       "    </tr>\n",
       "    <tr>\n",
       "      <th>...</th>\n",
       "      <td>...</td>\n",
       "    </tr>\n",
       "    <tr>\n",
       "      <th>2020-10-21 09:07:53</th>\n",
       "      <td>1</td>\n",
       "    </tr>\n",
       "    <tr>\n",
       "      <th>2020-10-21 09:07:50</th>\n",
       "      <td>1</td>\n",
       "    </tr>\n",
       "    <tr>\n",
       "      <th>2020-10-26 11:04:24</th>\n",
       "      <td>1</td>\n",
       "    </tr>\n",
       "  </tbody>\n",
       "</table>\n",
       "<p>34686 rows × 1 columns</p>\n",
       "</div>"
      ],
      "text/plain": [
       "                     parsing_unixtime\n",
       "2020-10-20 20:37:53                 1\n",
       "2020-10-21 17:38:56                 1\n",
       "2020-10-21 17:39:48                 1\n",
       "...                               ...\n",
       "2020-10-21 09:07:53                 1\n",
       "2020-10-21 09:07:50                 1\n",
       "2020-10-26 11:04:24                 1\n",
       "\n",
       "[34686 rows x 1 columns]"
      ]
     },
     "metadata": {},
     "output_type": "display_data"
    }
   ],
   "source": [
    "col_info(df_alpha, df_alpha.columns.to_list()[17])"
   ]
  },
  {
   "cell_type": "code",
   "execution_count": 30,
   "id": "b54e1168",
   "metadata": {
    "scrolled": false
   },
   "outputs": [
    {
     "name": "stdout",
     "output_type": "stream",
     "text": [
      "всего записей в столбце  productiondate  =  34686\n",
      "NaN в столбце  productiondate  =  0 ,  в процентах =  0%\n",
      "уникальных в столбце  productiondate  =  69\n",
      "всего записей-дубликатов в столбце  productiondate  =  34670\n"
     ]
    },
    {
     "data": {
      "text/html": [
       "<div>\n",
       "<style scoped>\n",
       "    .dataframe tbody tr th:only-of-type {\n",
       "        vertical-align: middle;\n",
       "    }\n",
       "\n",
       "    .dataframe tbody tr th {\n",
       "        vertical-align: top;\n",
       "    }\n",
       "\n",
       "    .dataframe thead th {\n",
       "        text-align: right;\n",
       "    }\n",
       "</style>\n",
       "<table border=\"1\" class=\"dataframe\">\n",
       "  <thead>\n",
       "    <tr style=\"text-align: right;\">\n",
       "      <th></th>\n",
       "      <th>productiondate</th>\n",
       "    </tr>\n",
       "  </thead>\n",
       "  <tbody>\n",
       "    <tr>\n",
       "      <th>2012</th>\n",
       "      <td>2798</td>\n",
       "    </tr>\n",
       "    <tr>\n",
       "      <th>2008</th>\n",
       "      <td>2606</td>\n",
       "    </tr>\n",
       "    <tr>\n",
       "      <th>2011</th>\n",
       "      <td>2589</td>\n",
       "    </tr>\n",
       "    <tr>\n",
       "      <th>...</th>\n",
       "      <td>...</td>\n",
       "    </tr>\n",
       "    <tr>\n",
       "      <th>1968</th>\n",
       "      <td>1</td>\n",
       "    </tr>\n",
       "    <tr>\n",
       "      <th>1939</th>\n",
       "      <td>1</td>\n",
       "    </tr>\n",
       "    <tr>\n",
       "      <th>1948</th>\n",
       "      <td>1</td>\n",
       "    </tr>\n",
       "  </tbody>\n",
       "</table>\n",
       "<p>69 rows × 1 columns</p>\n",
       "</div>"
      ],
      "text/plain": [
       "      productiondate\n",
       "2012            2798\n",
       "2008            2606\n",
       "2011            2589\n",
       "...              ...\n",
       "1968               1\n",
       "1939               1\n",
       "1948               1\n",
       "\n",
       "[69 rows x 1 columns]"
      ]
     },
     "metadata": {},
     "output_type": "display_data"
    }
   ],
   "source": [
    "col_info(df_alpha, df_alpha.columns.to_list()[19])"
   ]
  },
  {
   "cell_type": "code",
   "execution_count": 31,
   "id": "2459bfa8",
   "metadata": {
    "scrolled": true
   },
   "outputs": [
    {
     "name": "stdout",
     "output_type": "stream",
     "text": [
      "всего записей в столбце  sell_id  =  34686\n",
      "NaN в столбце  sell_id  =  0 ,  в процентах =  0%\n",
      "уникальных в столбце  sell_id  =  34686\n",
      "всего записей-дубликатов в столбце  sell_id  =  0\n"
     ]
    },
    {
     "data": {
      "text/html": [
       "<div>\n",
       "<style scoped>\n",
       "    .dataframe tbody tr th:only-of-type {\n",
       "        vertical-align: middle;\n",
       "    }\n",
       "\n",
       "    .dataframe tbody tr th {\n",
       "        vertical-align: top;\n",
       "    }\n",
       "\n",
       "    .dataframe thead th {\n",
       "        text-align: right;\n",
       "    }\n",
       "</style>\n",
       "<table border=\"1\" class=\"dataframe\">\n",
       "  <thead>\n",
       "    <tr style=\"text-align: right;\">\n",
       "      <th></th>\n",
       "      <th>sell_id</th>\n",
       "    </tr>\n",
       "  </thead>\n",
       "  <tbody>\n",
       "    <tr>\n",
       "      <th>1100575026</th>\n",
       "      <td>1</td>\n",
       "    </tr>\n",
       "    <tr>\n",
       "      <th>1099652342</th>\n",
       "      <td>1</td>\n",
       "    </tr>\n",
       "    <tr>\n",
       "      <th>1096320100</th>\n",
       "      <td>1</td>\n",
       "    </tr>\n",
       "    <tr>\n",
       "      <th>...</th>\n",
       "      <td>...</td>\n",
       "    </tr>\n",
       "    <tr>\n",
       "      <th>1100848942</th>\n",
       "      <td>1</td>\n",
       "    </tr>\n",
       "    <tr>\n",
       "      <th>1101080459</th>\n",
       "      <td>1</td>\n",
       "    </tr>\n",
       "    <tr>\n",
       "      <th>1101256068</th>\n",
       "      <td>1</td>\n",
       "    </tr>\n",
       "  </tbody>\n",
       "</table>\n",
       "<p>34686 rows × 1 columns</p>\n",
       "</div>"
      ],
      "text/plain": [
       "            sell_id\n",
       "1100575026        1\n",
       "1099652342        1\n",
       "1096320100        1\n",
       "...             ...\n",
       "1100848942        1\n",
       "1101080459        1\n",
       "1101256068        1\n",
       "\n",
       "[34686 rows x 1 columns]"
      ]
     },
     "metadata": {},
     "output_type": "display_data"
    }
   ],
   "source": [
    "col_info(df_alpha, df_alpha.columns.to_list()[20])"
   ]
  },
  {
   "cell_type": "code",
   "execution_count": 32,
   "id": "c55c6da6",
   "metadata": {},
   "outputs": [
    {
     "name": "stdout",
     "output_type": "stream",
     "text": [
      "всего записей в столбце  super_gen  =  34686\n",
      "NaN в столбце  super_gen  =  0 ,  в процентах =  0%\n",
      "уникальных в столбце  super_gen  =  5890\n",
      "всего записей-дубликатов в столбце  super_gen  =  32202\n"
     ]
    },
    {
     "data": {
      "text/html": [
       "<div>\n",
       "<style scoped>\n",
       "    .dataframe tbody tr th:only-of-type {\n",
       "        vertical-align: middle;\n",
       "    }\n",
       "\n",
       "    .dataframe tbody tr th {\n",
       "        vertical-align: top;\n",
       "    }\n",
       "\n",
       "    .dataframe thead th {\n",
       "        text-align: right;\n",
       "    }\n",
       "</style>\n",
       "<table border=\"1\" class=\"dataframe\">\n",
       "  <thead>\n",
       "    <tr style=\"text-align: right;\">\n",
       "      <th></th>\n",
       "      <th>super_gen</th>\n",
       "    </tr>\n",
       "  </thead>\n",
       "  <tbody>\n",
       "    <tr>\n",
       "      <th>{\"id\":\"6214876\",\"displacement\":1598,\"engine_type\":\"GASOLINE\",\"gear_type\":\"FORWARD_CONTROL\",\"transmission\":\"MECHANICAL\",\"power\":105,\"power_kvt\":77,\"human_name\":\"1.6 MT (105 л.с.)\",\"acceleration\":10.5,\"clearance_min\":170,\"fuel_rate\":6.5}</th>\n",
       "      <td>193</td>\n",
       "    </tr>\n",
       "    <tr>\n",
       "      <th>{\"id\":\"20726520\",\"displacement\":1598,\"engine_type\":\"GASOLINE\",\"gear_type\":\"FORWARD_CONTROL\",\"transmission\":\"AUTOMATIC\",\"power\":110,\"power_kvt\":81,\"human_name\":\"1.6 AT (110 л.с.)\",\"acceleration\":11.7,\"clearance_min\":163,\"fuel_rate\":5.9}</th>\n",
       "      <td>159</td>\n",
       "    </tr>\n",
       "    <tr>\n",
       "      <th>{\"id\":\"4561004\",\"displacement\":1798,\"engine_type\":\"GASOLINE\",\"gear_type\":\"FORWARD_CONTROL\",\"transmission\":\"AUTOMATIC\",\"power\":152,\"power_kvt\":112,\"human_name\":\"1.8 AT (152 л.с.)\",\"acceleration\":8.8,\"clearance_min\":164,\"fuel_rate\":7.7}</th>\n",
       "      <td>148</td>\n",
       "    </tr>\n",
       "    <tr>\n",
       "      <th>...</th>\n",
       "      <td>...</td>\n",
       "    </tr>\n",
       "    <tr>\n",
       "      <th>{\"id\":\"20399174\",\"displacement\":1299,\"engine_type\":\"GASOLINE\",\"gear_type\":\"FORWARD_CONTROL\",\"transmission\":\"AUTOMATIC\",\"power\":86,\"power_kvt\":63,\"human_name\":\"1.3 AT (86 л.с.)\",\"clearance_min\":150}</th>\n",
       "      <td>1</td>\n",
       "    </tr>\n",
       "    <tr>\n",
       "      <th>{\"id\":\"21814305\",\"displacement\":2362,\"engine_type\":\"GASOLINE\",\"gear_type\":\"ALL_WHEEL_DRIVE\",\"transmission\":\"VARIATOR\",\"power\":170,\"power_kvt\":125,\"human_name\":\"2.4 CVT (170 л.с.) 4WD\",\"clearance_min\":191}</th>\n",
       "      <td>1</td>\n",
       "    </tr>\n",
       "    <tr>\n",
       "      <th>{\"id\":\"2305530\",\"name\":\"130\",\"nameplate\":\"130i\",\"displacement\":2996,\"engine_type\":\"GASOLINE\",\"gear_type\":\"REAR_DRIVE\",\"transmission\":\"AUTOMATIC\",\"power\":265,\"power_kvt\":195,\"human_name\":\"130i 3.0 AT (265 л.с.)\",\"acceleration\":6.3,\"clearance_min\":145,\"fuel_rate\":9.2}</th>\n",
       "      <td>1</td>\n",
       "    </tr>\n",
       "  </tbody>\n",
       "</table>\n",
       "<p>5890 rows × 1 columns</p>\n",
       "</div>"
      ],
      "text/plain": [
       "                                                    super_gen\n",
       "{\"id\":\"6214876\",\"displacement\":1598,\"engine_typ...        193\n",
       "{\"id\":\"20726520\",\"displacement\":1598,\"engine_ty...        159\n",
       "{\"id\":\"4561004\",\"displacement\":1798,\"engine_typ...        148\n",
       "...                                                       ...\n",
       "{\"id\":\"20399174\",\"displacement\":1299,\"engine_ty...          1\n",
       "{\"id\":\"21814305\",\"displacement\":2362,\"engine_ty...          1\n",
       "{\"id\":\"2305530\",\"name\":\"130\",\"nameplate\":\"130i\"...          1\n",
       "\n",
       "[5890 rows x 1 columns]"
      ]
     },
     "metadata": {},
     "output_type": "display_data"
    }
   ],
   "source": [
    "col_info(df_alpha, df_alpha.columns.to_list()[21])"
   ]
  },
  {
   "cell_type": "code",
   "execution_count": 33,
   "id": "d6507ac1",
   "metadata": {
    "scrolled": true
   },
   "outputs": [
    {
     "name": "stdout",
     "output_type": "stream",
     "text": [
      "всего записей в столбце  vehicleconfiguration  =  34686\n",
      "NaN в столбце  vehicleconfiguration  =  0 ,  в процентах =  0%\n",
      "уникальных в столбце  vehicleconfiguration  =  634\n",
      "всего записей-дубликатов в столбце  vehicleconfiguration  =  34570\n"
     ]
    },
    {
     "data": {
      "text/html": [
       "<div>\n",
       "<style scoped>\n",
       "    .dataframe tbody tr th:only-of-type {\n",
       "        vertical-align: middle;\n",
       "    }\n",
       "\n",
       "    .dataframe tbody tr th {\n",
       "        vertical-align: top;\n",
       "    }\n",
       "\n",
       "    .dataframe thead th {\n",
       "        text-align: right;\n",
       "    }\n",
       "</style>\n",
       "<table border=\"1\" class=\"dataframe\">\n",
       "  <thead>\n",
       "    <tr style=\"text-align: right;\">\n",
       "      <th></th>\n",
       "      <th>vehicleconfiguration</th>\n",
       "    </tr>\n",
       "  </thead>\n",
       "  <tbody>\n",
       "    <tr>\n",
       "      <th>ALLROAD_5_DOORS AUTOMATIC 3.0</th>\n",
       "      <td>2389</td>\n",
       "    </tr>\n",
       "    <tr>\n",
       "      <th>SEDAN AUTOMATIC 2.0</th>\n",
       "      <td>1610</td>\n",
       "    </tr>\n",
       "    <tr>\n",
       "      <th>ALLROAD_5_DOORS AUTOMATIC 2.0</th>\n",
       "      <td>1327</td>\n",
       "    </tr>\n",
       "    <tr>\n",
       "      <th>...</th>\n",
       "      <td>...</td>\n",
       "    </tr>\n",
       "    <tr>\n",
       "      <th>ALLROAD_3_DOORS MECHANICAL 4.2</th>\n",
       "      <td>1</td>\n",
       "    </tr>\n",
       "    <tr>\n",
       "      <th>FASTBACK MECHANICAL 2.8</th>\n",
       "      <td>1</td>\n",
       "    </tr>\n",
       "    <tr>\n",
       "      <th>ALLROAD_OPEN AUTOMATIC 2.0</th>\n",
       "      <td>1</td>\n",
       "    </tr>\n",
       "  </tbody>\n",
       "</table>\n",
       "<p>634 rows × 1 columns</p>\n",
       "</div>"
      ],
      "text/plain": [
       "                                vehicleconfiguration\n",
       "ALLROAD_5_DOORS AUTOMATIC 3.0                   2389\n",
       "SEDAN AUTOMATIC 2.0                             1610\n",
       "ALLROAD_5_DOORS AUTOMATIC 2.0                   1327\n",
       "...                                              ...\n",
       "ALLROAD_3_DOORS MECHANICAL 4.2                     1\n",
       "FASTBACK MECHANICAL 2.8                            1\n",
       "ALLROAD_OPEN AUTOMATIC 2.0                         1\n",
       "\n",
       "[634 rows x 1 columns]"
      ]
     },
     "metadata": {},
     "output_type": "display_data"
    }
   ],
   "source": [
    "col_info(df_alpha, df_alpha.columns.to_list()[22])"
   ]
  },
  {
   "cell_type": "code",
   "execution_count": 34,
   "id": "4c9f513c",
   "metadata": {
    "scrolled": true
   },
   "outputs": [
    {
     "name": "stdout",
     "output_type": "stream",
     "text": [
      "всего записей в столбце  vehicletransmission  =  34686\n",
      "NaN в столбце  vehicletransmission  =  0 ,  в процентах =  0%\n",
      "уникальных в столбце  vehicletransmission  =  4\n",
      "всего записей-дубликатов в столбце  vehicletransmission  =  34686\n"
     ]
    },
    {
     "data": {
      "text/html": [
       "<div>\n",
       "<style scoped>\n",
       "    .dataframe tbody tr th:only-of-type {\n",
       "        vertical-align: middle;\n",
       "    }\n",
       "\n",
       "    .dataframe tbody tr th {\n",
       "        vertical-align: top;\n",
       "    }\n",
       "\n",
       "    .dataframe thead th {\n",
       "        text-align: right;\n",
       "    }\n",
       "</style>\n",
       "<table border=\"1\" class=\"dataframe\">\n",
       "  <thead>\n",
       "    <tr style=\"text-align: right;\">\n",
       "      <th></th>\n",
       "      <th>vehicletransmission</th>\n",
       "    </tr>\n",
       "  </thead>\n",
       "  <tbody>\n",
       "    <tr>\n",
       "      <th>автоматическая</th>\n",
       "      <td>19596</td>\n",
       "    </tr>\n",
       "    <tr>\n",
       "      <th>механическая</th>\n",
       "      <td>7209</td>\n",
       "    </tr>\n",
       "    <tr>\n",
       "      <th>вариатор</th>\n",
       "      <td>3999</td>\n",
       "    </tr>\n",
       "    <tr>\n",
       "      <th>роботизированная</th>\n",
       "      <td>3882</td>\n",
       "    </tr>\n",
       "  </tbody>\n",
       "</table>\n",
       "</div>"
      ],
      "text/plain": [
       "                  vehicletransmission\n",
       "автоматическая                  19596\n",
       "механическая                     7209\n",
       "вариатор                         3999\n",
       "роботизированная                 3882"
      ]
     },
     "metadata": {},
     "output_type": "display_data"
    }
   ],
   "source": [
    "col_info(df_alpha, df_alpha.columns.to_list()[23])"
   ]
  },
  {
   "cell_type": "code",
   "execution_count": 35,
   "id": "399252e2",
   "metadata": {
    "scrolled": true
   },
   "outputs": [
    {
     "name": "stdout",
     "output_type": "stream",
     "text": [
      "всего записей в столбце  vendor  =  34686\n",
      "NaN в столбце  vendor  =  0 ,  в процентах =  0%\n",
      "уникальных в столбце  vendor  =  2\n",
      "всего записей-дубликатов в столбце  vendor  =  34686\n"
     ]
    },
    {
     "data": {
      "text/html": [
       "<div>\n",
       "<style scoped>\n",
       "    .dataframe tbody tr th:only-of-type {\n",
       "        vertical-align: middle;\n",
       "    }\n",
       "\n",
       "    .dataframe tbody tr th {\n",
       "        vertical-align: top;\n",
       "    }\n",
       "\n",
       "    .dataframe thead th {\n",
       "        text-align: right;\n",
       "    }\n",
       "</style>\n",
       "<table border=\"1\" class=\"dataframe\">\n",
       "  <thead>\n",
       "    <tr style=\"text-align: right;\">\n",
       "      <th></th>\n",
       "      <th>vendor</th>\n",
       "    </tr>\n",
       "  </thead>\n",
       "  <tbody>\n",
       "    <tr>\n",
       "      <th>EUROPEAN</th>\n",
       "      <td>20682</td>\n",
       "    </tr>\n",
       "    <tr>\n",
       "      <th>JAPANESE</th>\n",
       "      <td>14004</td>\n",
       "    </tr>\n",
       "  </tbody>\n",
       "</table>\n",
       "</div>"
      ],
      "text/plain": [
       "          vendor\n",
       "EUROPEAN   20682\n",
       "JAPANESE   14004"
      ]
     },
     "metadata": {},
     "output_type": "display_data"
    }
   ],
   "source": [
    "col_info(df_alpha, df_alpha.columns.to_list()[24])"
   ]
  },
  {
   "cell_type": "code",
   "execution_count": 36,
   "id": "6cdf0f3d",
   "metadata": {
    "scrolled": true
   },
   "outputs": [
    {
     "name": "stdout",
     "output_type": "stream",
     "text": [
      "всего записей в столбце  владельцы  =  34686\n",
      "NaN в столбце  владельцы  =  0 ,  в процентах =  0%\n",
      "уникальных в столбце  владельцы  =  3\n",
      "всего записей-дубликатов в столбце  владельцы  =  34686\n"
     ]
    },
    {
     "data": {
      "text/html": [
       "<div>\n",
       "<style scoped>\n",
       "    .dataframe tbody tr th:only-of-type {\n",
       "        vertical-align: middle;\n",
       "    }\n",
       "\n",
       "    .dataframe tbody tr th {\n",
       "        vertical-align: top;\n",
       "    }\n",
       "\n",
       "    .dataframe thead th {\n",
       "        text-align: right;\n",
       "    }\n",
       "</style>\n",
       "<table border=\"1\" class=\"dataframe\">\n",
       "  <thead>\n",
       "    <tr style=\"text-align: right;\">\n",
       "      <th></th>\n",
       "      <th>владельцы</th>\n",
       "    </tr>\n",
       "  </thead>\n",
       "  <tbody>\n",
       "    <tr>\n",
       "      <th>3 или более</th>\n",
       "      <td>15957</td>\n",
       "    </tr>\n",
       "    <tr>\n",
       "      <th>1 владелец</th>\n",
       "      <td>9459</td>\n",
       "    </tr>\n",
       "    <tr>\n",
       "      <th>2 владельца</th>\n",
       "      <td>9270</td>\n",
       "    </tr>\n",
       "  </tbody>\n",
       "</table>\n",
       "</div>"
      ],
      "text/plain": [
       "             владельцы\n",
       "3 или более      15957\n",
       "1 владелец        9459\n",
       "2 владельца       9270"
      ]
     },
     "metadata": {},
     "output_type": "display_data"
    }
   ],
   "source": [
    "col_info(df_alpha, df_alpha.columns.to_list()[25])"
   ]
  },
  {
   "cell_type": "code",
   "execution_count": 37,
   "id": "605d528f",
   "metadata": {
    "scrolled": false
   },
   "outputs": [
    {
     "name": "stdout",
     "output_type": "stream",
     "text": [
      "всего записей в столбце  владение  =  11995\n",
      "NaN в столбце  владение  =  22691 ,  в процентах =  65%\n",
      "уникальных в столбце  владение  =  276\n",
      "всего записей-дубликатов в столбце  владение  =  34647\n"
     ]
    },
    {
     "data": {
      "text/html": [
       "<div>\n",
       "<style scoped>\n",
       "    .dataframe tbody tr th:only-of-type {\n",
       "        vertical-align: middle;\n",
       "    }\n",
       "\n",
       "    .dataframe tbody tr th {\n",
       "        vertical-align: top;\n",
       "    }\n",
       "\n",
       "    .dataframe thead th {\n",
       "        text-align: right;\n",
       "    }\n",
       "</style>\n",
       "<table border=\"1\" class=\"dataframe\">\n",
       "  <thead>\n",
       "    <tr style=\"text-align: right;\">\n",
       "      <th></th>\n",
       "      <th>владение</th>\n",
       "    </tr>\n",
       "  </thead>\n",
       "  <tbody>\n",
       "    <tr>\n",
       "      <th>NaN</th>\n",
       "      <td>22691</td>\n",
       "    </tr>\n",
       "    <tr>\n",
       "      <th>1 год и 10 месяцев</th>\n",
       "      <td>209</td>\n",
       "    </tr>\n",
       "    <tr>\n",
       "      <th>2 года</th>\n",
       "      <td>197</td>\n",
       "    </tr>\n",
       "    <tr>\n",
       "      <th>...</th>\n",
       "      <td>...</td>\n",
       "    </tr>\n",
       "    <tr>\n",
       "      <th>34 года и 2 месяца</th>\n",
       "      <td>1</td>\n",
       "    </tr>\n",
       "    <tr>\n",
       "      <th>28 лет и 8 месяцев</th>\n",
       "      <td>1</td>\n",
       "    </tr>\n",
       "    <tr>\n",
       "      <th>22 года и 9 месяцев</th>\n",
       "      <td>1</td>\n",
       "    </tr>\n",
       "  </tbody>\n",
       "</table>\n",
       "<p>276 rows × 1 columns</p>\n",
       "</div>"
      ],
      "text/plain": [
       "                     владение\n",
       "NaN                     22691\n",
       "1 год и 10 месяцев        209\n",
       "2 года                    197\n",
       "...                       ...\n",
       "34 года и 2 месяца          1\n",
       "28 лет и 8 месяцев          1\n",
       "22 года и 9 месяцев         1\n",
       "\n",
       "[276 rows x 1 columns]"
      ]
     },
     "metadata": {},
     "output_type": "display_data"
    }
   ],
   "source": [
    "col_info(df_alpha, df_alpha.columns.to_list()[26])"
   ]
  },
  {
   "cell_type": "code",
   "execution_count": 38,
   "id": "61a7fa36",
   "metadata": {
    "scrolled": true
   },
   "outputs": [
    {
     "name": "stdout",
     "output_type": "stream",
     "text": [
      "всего записей в столбце  птс  =  34685\n",
      "NaN в столбце  птс  =  1 ,  в процентах =  0%\n",
      "уникальных в столбце  птс  =  3\n",
      "всего записей-дубликатов в столбце  птс  =  34685\n"
     ]
    },
    {
     "data": {
      "text/html": [
       "<div>\n",
       "<style scoped>\n",
       "    .dataframe tbody tr th:only-of-type {\n",
       "        vertical-align: middle;\n",
       "    }\n",
       "\n",
       "    .dataframe tbody tr th {\n",
       "        vertical-align: top;\n",
       "    }\n",
       "\n",
       "    .dataframe thead th {\n",
       "        text-align: right;\n",
       "    }\n",
       "</style>\n",
       "<table border=\"1\" class=\"dataframe\">\n",
       "  <thead>\n",
       "    <tr style=\"text-align: right;\">\n",
       "      <th></th>\n",
       "      <th>птс</th>\n",
       "    </tr>\n",
       "  </thead>\n",
       "  <tbody>\n",
       "    <tr>\n",
       "      <th>Оригинал</th>\n",
       "      <td>30098</td>\n",
       "    </tr>\n",
       "    <tr>\n",
       "      <th>Дубликат</th>\n",
       "      <td>4587</td>\n",
       "    </tr>\n",
       "    <tr>\n",
       "      <th>NaN</th>\n",
       "      <td>1</td>\n",
       "    </tr>\n",
       "  </tbody>\n",
       "</table>\n",
       "</div>"
      ],
      "text/plain": [
       "            птс\n",
       "Оригинал  30098\n",
       "Дубликат   4587\n",
       "NaN           1"
      ]
     },
     "metadata": {},
     "output_type": "display_data"
    }
   ],
   "source": [
    "col_info(df_alpha, df_alpha.columns.to_list()[27])"
   ]
  },
  {
   "cell_type": "code",
   "execution_count": 39,
   "id": "1a37bf47",
   "metadata": {
    "scrolled": true
   },
   "outputs": [
    {
     "name": "stdout",
     "output_type": "stream",
     "text": [
      "всего записей в столбце  привод  =  34686\n",
      "NaN в столбце  привод  =  0 ,  в процентах =  0%\n",
      "уникальных в столбце  привод  =  3\n",
      "всего записей-дубликатов в столбце  привод  =  34686\n"
     ]
    },
    {
     "data": {
      "text/html": [
       "<div>\n",
       "<style scoped>\n",
       "    .dataframe tbody tr th:only-of-type {\n",
       "        vertical-align: middle;\n",
       "    }\n",
       "\n",
       "    .dataframe tbody tr th {\n",
       "        vertical-align: top;\n",
       "    }\n",
       "\n",
       "    .dataframe thead th {\n",
       "        text-align: right;\n",
       "    }\n",
       "</style>\n",
       "<table border=\"1\" class=\"dataframe\">\n",
       "  <thead>\n",
       "    <tr style=\"text-align: right;\">\n",
       "      <th></th>\n",
       "      <th>привод</th>\n",
       "    </tr>\n",
       "  </thead>\n",
       "  <tbody>\n",
       "    <tr>\n",
       "      <th>передний</th>\n",
       "      <td>15565</td>\n",
       "    </tr>\n",
       "    <tr>\n",
       "      <th>полный</th>\n",
       "      <td>15020</td>\n",
       "    </tr>\n",
       "    <tr>\n",
       "      <th>задний</th>\n",
       "      <td>4101</td>\n",
       "    </tr>\n",
       "  </tbody>\n",
       "</table>\n",
       "</div>"
      ],
      "text/plain": [
       "          привод\n",
       "передний   15565\n",
       "полный     15020\n",
       "задний      4101"
      ]
     },
     "metadata": {},
     "output_type": "display_data"
    }
   ],
   "source": [
    "col_info(df_alpha, df_alpha.columns.to_list()[28])"
   ]
  },
  {
   "cell_type": "code",
   "execution_count": 40,
   "id": "7e4ef9ee",
   "metadata": {
    "scrolled": true
   },
   "outputs": [
    {
     "name": "stdout",
     "output_type": "stream",
     "text": [
      "всего записей в столбце  руль  =  34686\n",
      "NaN в столбце  руль  =  0 ,  в процентах =  0%\n",
      "уникальных в столбце  руль  =  2\n",
      "всего записей-дубликатов в столбце  руль  =  34686\n"
     ]
    },
    {
     "data": {
      "text/html": [
       "<div>\n",
       "<style scoped>\n",
       "    .dataframe tbody tr th:only-of-type {\n",
       "        vertical-align: middle;\n",
       "    }\n",
       "\n",
       "    .dataframe tbody tr th {\n",
       "        vertical-align: top;\n",
       "    }\n",
       "\n",
       "    .dataframe thead th {\n",
       "        text-align: right;\n",
       "    }\n",
       "</style>\n",
       "<table border=\"1\" class=\"dataframe\">\n",
       "  <thead>\n",
       "    <tr style=\"text-align: right;\">\n",
       "      <th></th>\n",
       "      <th>руль</th>\n",
       "    </tr>\n",
       "  </thead>\n",
       "  <tbody>\n",
       "    <tr>\n",
       "      <th>Левый</th>\n",
       "      <td>33287</td>\n",
       "    </tr>\n",
       "    <tr>\n",
       "      <th>Правый</th>\n",
       "      <td>1399</td>\n",
       "    </tr>\n",
       "  </tbody>\n",
       "</table>\n",
       "</div>"
      ],
      "text/plain": [
       "         руль\n",
       "Левый   33287\n",
       "Правый   1399"
      ]
     },
     "metadata": {},
     "output_type": "display_data"
    }
   ],
   "source": [
    "col_info(df_alpha, df_alpha.columns.to_list()[29])"
   ]
  },
  {
   "cell_type": "code",
   "execution_count": 41,
   "id": "0fe00240",
   "metadata": {
    "scrolled": true
   },
   "outputs": [
    {
     "name": "stdout",
     "output_type": "stream",
     "text": [
      "всего записей в столбце  состояние  =  34686\n",
      "NaN в столбце  состояние  =  0 ,  в процентах =  0%\n",
      "уникальных в столбце  состояние  =  1\n",
      "всего записей-дубликатов в столбце  состояние  =  34686\n"
     ]
    },
    {
     "data": {
      "text/html": [
       "<div>\n",
       "<style scoped>\n",
       "    .dataframe tbody tr th:only-of-type {\n",
       "        vertical-align: middle;\n",
       "    }\n",
       "\n",
       "    .dataframe tbody tr th {\n",
       "        vertical-align: top;\n",
       "    }\n",
       "\n",
       "    .dataframe thead th {\n",
       "        text-align: right;\n",
       "    }\n",
       "</style>\n",
       "<table border=\"1\" class=\"dataframe\">\n",
       "  <thead>\n",
       "    <tr style=\"text-align: right;\">\n",
       "      <th></th>\n",
       "      <th>состояние</th>\n",
       "    </tr>\n",
       "  </thead>\n",
       "  <tbody>\n",
       "    <tr>\n",
       "      <th>Не требует ремонта</th>\n",
       "      <td>34686</td>\n",
       "    </tr>\n",
       "  </tbody>\n",
       "</table>\n",
       "</div>"
      ],
      "text/plain": [
       "                    состояние\n",
       "Не требует ремонта      34686"
      ]
     },
     "metadata": {},
     "output_type": "display_data"
    }
   ],
   "source": [
    "col_info(df_alpha, df_alpha.columns.to_list()[30])"
   ]
  },
  {
   "cell_type": "code",
   "execution_count": 42,
   "id": "719b1e33",
   "metadata": {
    "scrolled": false
   },
   "outputs": [
    {
     "name": "stdout",
     "output_type": "stream",
     "text": [
      "всего записей в столбце  таможня  =  34686\n",
      "NaN в столбце  таможня  =  0 ,  в процентах =  0%\n",
      "уникальных в столбце  таможня  =  1\n",
      "всего записей-дубликатов в столбце  таможня  =  34686\n"
     ]
    },
    {
     "data": {
      "text/html": [
       "<div>\n",
       "<style scoped>\n",
       "    .dataframe tbody tr th:only-of-type {\n",
       "        vertical-align: middle;\n",
       "    }\n",
       "\n",
       "    .dataframe tbody tr th {\n",
       "        vertical-align: top;\n",
       "    }\n",
       "\n",
       "    .dataframe thead th {\n",
       "        text-align: right;\n",
       "    }\n",
       "</style>\n",
       "<table border=\"1\" class=\"dataframe\">\n",
       "  <thead>\n",
       "    <tr style=\"text-align: right;\">\n",
       "      <th></th>\n",
       "      <th>таможня</th>\n",
       "    </tr>\n",
       "  </thead>\n",
       "  <tbody>\n",
       "    <tr>\n",
       "      <th>Растаможен</th>\n",
       "      <td>34686</td>\n",
       "    </tr>\n",
       "  </tbody>\n",
       "</table>\n",
       "</div>"
      ],
      "text/plain": [
       "            таможня\n",
       "Растаможен    34686"
      ]
     },
     "metadata": {},
     "output_type": "display_data"
    }
   ],
   "source": [
    "col_info(df_alpha, df_alpha.columns.to_list()[31])"
   ]
  },
  {
   "cell_type": "markdown",
   "id": "6d46ec50",
   "metadata": {},
   "source": [
    "#### обзор аттестующего датасета `df_alpha`"
   ]
  },
  {
   "cell_type": "code",
   "execution_count": 43,
   "id": "65f66f28",
   "metadata": {
    "scrolled": true
   },
   "outputs": [
    {
     "data": {
      "text/html": [
       "<div>\n",
       "<style scoped>\n",
       "    .dataframe tbody tr th:only-of-type {\n",
       "        vertical-align: middle;\n",
       "    }\n",
       "\n",
       "    .dataframe tbody tr th {\n",
       "        vertical-align: top;\n",
       "    }\n",
       "\n",
       "    .dataframe thead th {\n",
       "        text-align: right;\n",
       "    }\n",
       "</style>\n",
       "<table border=\"1\" class=\"dataframe\">\n",
       "  <thead>\n",
       "    <tr style=\"text-align: right;\">\n",
       "      <th></th>\n",
       "      <th>NaN</th>\n",
       "      <th>% NaN</th>\n",
       "      <th>uniq</th>\n",
       "    </tr>\n",
       "  </thead>\n",
       "  <tbody>\n",
       "    <tr>\n",
       "      <th>bodytype</th>\n",
       "      <td>0</td>\n",
       "      <td>0.0</td>\n",
       "      <td>24</td>\n",
       "    </tr>\n",
       "    <tr>\n",
       "      <th>brand</th>\n",
       "      <td>0</td>\n",
       "      <td>0.0</td>\n",
       "      <td>12</td>\n",
       "    </tr>\n",
       "    <tr>\n",
       "      <th>car_url</th>\n",
       "      <td>0</td>\n",
       "      <td>0.0</td>\n",
       "      <td>34686</td>\n",
       "    </tr>\n",
       "    <tr>\n",
       "      <th>color</th>\n",
       "      <td>0</td>\n",
       "      <td>0.0</td>\n",
       "      <td>16</td>\n",
       "    </tr>\n",
       "    <tr>\n",
       "      <th>complectation_dict</th>\n",
       "      <td>28268</td>\n",
       "      <td>81.5</td>\n",
       "      <td>2365</td>\n",
       "    </tr>\n",
       "    <tr>\n",
       "      <th>description</th>\n",
       "      <td>1</td>\n",
       "      <td>0.0</td>\n",
       "      <td>31729</td>\n",
       "    </tr>\n",
       "    <tr>\n",
       "      <th>enginedisplacement</th>\n",
       "      <td>0</td>\n",
       "      <td>0.0</td>\n",
       "      <td>55</td>\n",
       "    </tr>\n",
       "    <tr>\n",
       "      <th>enginepower</th>\n",
       "      <td>0</td>\n",
       "      <td>0.0</td>\n",
       "      <td>315</td>\n",
       "    </tr>\n",
       "    <tr>\n",
       "      <th>equipment_dict</th>\n",
       "      <td>9996</td>\n",
       "      <td>28.8</td>\n",
       "      <td>23706</td>\n",
       "    </tr>\n",
       "    <tr>\n",
       "      <th>fueltype</th>\n",
       "      <td>0</td>\n",
       "      <td>0.0</td>\n",
       "      <td>5</td>\n",
       "    </tr>\n",
       "    <tr>\n",
       "      <th>image</th>\n",
       "      <td>0</td>\n",
       "      <td>0.0</td>\n",
       "      <td>34557</td>\n",
       "    </tr>\n",
       "    <tr>\n",
       "      <th>mileage</th>\n",
       "      <td>0</td>\n",
       "      <td>0.0</td>\n",
       "      <td>11268</td>\n",
       "    </tr>\n",
       "    <tr>\n",
       "      <th>modeldate</th>\n",
       "      <td>0</td>\n",
       "      <td>0.0</td>\n",
       "      <td>66</td>\n",
       "    </tr>\n",
       "    <tr>\n",
       "      <th>model_info</th>\n",
       "      <td>0</td>\n",
       "      <td>0.0</td>\n",
       "      <td>954</td>\n",
       "    </tr>\n",
       "    <tr>\n",
       "      <th>model_name</th>\n",
       "      <td>0</td>\n",
       "      <td>0.0</td>\n",
       "      <td>544</td>\n",
       "    </tr>\n",
       "    <tr>\n",
       "      <th>name</th>\n",
       "      <td>0</td>\n",
       "      <td>0.0</td>\n",
       "      <td>2780</td>\n",
       "    </tr>\n",
       "    <tr>\n",
       "      <th>numberofdoors</th>\n",
       "      <td>0</td>\n",
       "      <td>0.0</td>\n",
       "      <td>5</td>\n",
       "    </tr>\n",
       "    <tr>\n",
       "      <th>parsing_unixtime</th>\n",
       "      <td>0</td>\n",
       "      <td>0.0</td>\n",
       "      <td>34686</td>\n",
       "    </tr>\n",
       "    <tr>\n",
       "      <th>pricecurrency</th>\n",
       "      <td>0</td>\n",
       "      <td>0.0</td>\n",
       "      <td>1</td>\n",
       "    </tr>\n",
       "    <tr>\n",
       "      <th>productiondate</th>\n",
       "      <td>0</td>\n",
       "      <td>0.0</td>\n",
       "      <td>69</td>\n",
       "    </tr>\n",
       "    <tr>\n",
       "      <th>sell_id</th>\n",
       "      <td>0</td>\n",
       "      <td>0.0</td>\n",
       "      <td>34686</td>\n",
       "    </tr>\n",
       "    <tr>\n",
       "      <th>super_gen</th>\n",
       "      <td>0</td>\n",
       "      <td>0.0</td>\n",
       "      <td>5890</td>\n",
       "    </tr>\n",
       "    <tr>\n",
       "      <th>vehicleconfiguration</th>\n",
       "      <td>0</td>\n",
       "      <td>0.0</td>\n",
       "      <td>634</td>\n",
       "    </tr>\n",
       "    <tr>\n",
       "      <th>vehicletransmission</th>\n",
       "      <td>0</td>\n",
       "      <td>0.0</td>\n",
       "      <td>4</td>\n",
       "    </tr>\n",
       "    <tr>\n",
       "      <th>vendor</th>\n",
       "      <td>0</td>\n",
       "      <td>0.0</td>\n",
       "      <td>2</td>\n",
       "    </tr>\n",
       "    <tr>\n",
       "      <th>владельцы</th>\n",
       "      <td>0</td>\n",
       "      <td>0.0</td>\n",
       "      <td>3</td>\n",
       "    </tr>\n",
       "    <tr>\n",
       "      <th>владение</th>\n",
       "      <td>22691</td>\n",
       "      <td>65.4</td>\n",
       "      <td>276</td>\n",
       "    </tr>\n",
       "    <tr>\n",
       "      <th>птс</th>\n",
       "      <td>1</td>\n",
       "      <td>0.0</td>\n",
       "      <td>3</td>\n",
       "    </tr>\n",
       "    <tr>\n",
       "      <th>привод</th>\n",
       "      <td>0</td>\n",
       "      <td>0.0</td>\n",
       "      <td>3</td>\n",
       "    </tr>\n",
       "    <tr>\n",
       "      <th>руль</th>\n",
       "      <td>0</td>\n",
       "      <td>0.0</td>\n",
       "      <td>2</td>\n",
       "    </tr>\n",
       "    <tr>\n",
       "      <th>состояние</th>\n",
       "      <td>0</td>\n",
       "      <td>0.0</td>\n",
       "      <td>1</td>\n",
       "    </tr>\n",
       "    <tr>\n",
       "      <th>таможня</th>\n",
       "      <td>0</td>\n",
       "      <td>0.0</td>\n",
       "      <td>1</td>\n",
       "    </tr>\n",
       "  </tbody>\n",
       "</table>\n",
       "</div>"
      ],
      "text/plain": [
       "                        NaN  % NaN   uniq\n",
       "bodytype                  0    0.0     24\n",
       "brand                     0    0.0     12\n",
       "car_url                   0    0.0  34686\n",
       "color                     0    0.0     16\n",
       "complectation_dict    28268   81.5   2365\n",
       "description               1    0.0  31729\n",
       "enginedisplacement        0    0.0     55\n",
       "enginepower               0    0.0    315\n",
       "equipment_dict         9996   28.8  23706\n",
       "fueltype                  0    0.0      5\n",
       "image                     0    0.0  34557\n",
       "mileage                   0    0.0  11268\n",
       "modeldate                 0    0.0     66\n",
       "model_info                0    0.0    954\n",
       "model_name                0    0.0    544\n",
       "name                      0    0.0   2780\n",
       "numberofdoors             0    0.0      5\n",
       "parsing_unixtime          0    0.0  34686\n",
       "pricecurrency             0    0.0      1\n",
       "productiondate            0    0.0     69\n",
       "sell_id                   0    0.0  34686\n",
       "super_gen                 0    0.0   5890\n",
       "vehicleconfiguration      0    0.0    634\n",
       "vehicletransmission       0    0.0      4\n",
       "vendor                    0    0.0      2\n",
       "владельцы                 0    0.0      3\n",
       "владение              22691   65.4    276\n",
       "птс                       1    0.0      3\n",
       "привод                    0    0.0      3\n",
       "руль                      0    0.0      2\n",
       "состояние                 0    0.0      1\n",
       "таможня                   0    0.0      1"
      ]
     },
     "execution_count": 43,
     "metadata": {},
     "output_type": "execute_result"
    }
   ],
   "source": [
    "info_table(df_alpha) # обзор датасета"
   ]
  },
  {
   "cell_type": "markdown",
   "id": "80ca8815",
   "metadata": {},
   "source": [
    "<a name=\"test_clean\"></a> \n",
    "### аттестующий датасет `df_alpha` - выводы и чистка\n",
    "поля:\n",
    "- `0 bodyType` - keep\n",
    "- `1 brand` - keep\n",
    "- `2 car_url` - дубль `sell_id` - **del**\n",
    "- `4 complectation_dict` - 28% NaN, индикатор автосалона - **del**\n",
    "- `5 description` - при оценке дубликотов найдено 3215 записей от 258 авто-магазинов, используем как признак оптового продавца - keep\n",
    "- `6 engineDisplacement` - keep, надо разбирать \n",
    "some values contain 'LTR', some do not > remove 'LTR' and convert column from categorical to floats; пустых (LTR без числа) в engineDisplacement  =  55шт\n",
    "- `7 enginePower` - keep\n",
    "- `8 equipment_dict` - 30% пропусков, видимо комплектация от дилера - **del**\n",
    "- `9 fuelType` - keep, надо разбирать\n",
    "- `10 image` - ссылки на фото - **del**\n",
    "- `11 mileage` - keep, ready to use\n",
    "- `12 modelDate` - keep, ready to use\n",
    "- `13 model_info` - keep, надо разбирать\n",
    "- `14 model_name` - keep, надо разбирать\n",
    "- `15 name` - keep, объем и мощность, надо разбирать\n",
    "- `16 numberOfDoors` - keep, непонятен принцип счета\n",
    "- `17 parsing_unixtime` = Oct 2020 - **del**\n",
    "- `18 priceCurrency` - **del**\n",
    "- `19 productionDate`- keep, ready to use\n",
    "- `20 sell_id` - keep, key index for submission\n",
    "- `21 super_gen` - keep, надо разбирать\n",
    "- `22 vehicleConfiguration` - keep, надо разбирать\n",
    "- `23 vehicleTransmission` - keep, ready to use\n",
    "- `24 vendor` - keep, ready to use (EUR/Japan)\n",
    "- `25 Владельцы` - keep, ready to use (after transform)\n",
    "- `26 Владение` - **del** (65% NaN)\n",
    "- `27 ПТС` - keep, ready to use (1 NaN to replace)\n",
    "- `28 Привод` - keep, ready to use\n",
    "- `29 Руль` - keep, ready to use\n",
    "- `30 Состояние` - **del**\n",
    "- `31 Таможня` - **del**\n",
    "\n",
    "Итого **удаляем 8 полей**: `[2, 4, 8, 10, 17, 18, 26, 30, 31]`"
   ]
  },
  {
   "cell_type": "code",
   "execution_count": 44,
   "id": "aa4fb431",
   "metadata": {},
   "outputs": [],
   "source": [
    "# df_alpha - удаляем 8 полей #104\n",
    "df_alpha.drop(df_alpha.columns[[2, 4, 8, 10, 17, 18, 26, 30, 31]], \n",
    "              axis = 1, inplace = True)"
   ]
  },
  {
   "cell_type": "code",
   "execution_count": 45,
   "id": "6d992454",
   "metadata": {},
   "outputs": [
    {
     "name": "stdout",
     "output_type": "stream",
     "text": [
      "<class 'pandas.core.frame.DataFrame'>\n",
      "RangeIndex: 34686 entries, 0 to 34685\n",
      "Data columns (total 23 columns):\n",
      " #   Column                Non-Null Count  Dtype \n",
      "---  ------                --------------  ----- \n",
      " 0   bodytype              34686 non-null  object\n",
      " 1   brand                 34686 non-null  object\n",
      " 2   color                 34686 non-null  object\n",
      " 3   description           34685 non-null  object\n",
      " 4   enginedisplacement    34686 non-null  object\n",
      " 5   enginepower           34686 non-null  object\n",
      " 6   fueltype              34686 non-null  object\n",
      " 7   mileage               34686 non-null  int64 \n",
      " 8   modeldate             34686 non-null  int64 \n",
      " 9   model_info            34686 non-null  object\n",
      " 10  model_name            34686 non-null  object\n",
      " 11  name                  34686 non-null  object\n",
      " 12  numberofdoors         34686 non-null  int64 \n",
      " 13  productiondate        34686 non-null  int64 \n",
      " 14  sell_id               34686 non-null  int64 \n",
      " 15  super_gen             34686 non-null  object\n",
      " 16  vehicleconfiguration  34686 non-null  object\n",
      " 17  vehicletransmission   34686 non-null  object\n",
      " 18  vendor                34686 non-null  object\n",
      " 19  владельцы             34686 non-null  object\n",
      " 20  птс                   34685 non-null  object\n",
      " 21  привод                34686 non-null  object\n",
      " 22  руль                  34686 non-null  object\n",
      "dtypes: int64(5), object(18)\n",
      "memory usage: 6.1+ MB\n"
     ]
    }
   ],
   "source": [
    "df_alpha.info()"
   ]
  },
  {
   "cell_type": "code",
   "execution_count": 46,
   "id": "daf5755d",
   "metadata": {
    "scrolled": false
   },
   "outputs": [
    {
     "data": {
      "text/html": [
       "<div>\n",
       "<style scoped>\n",
       "    .dataframe tbody tr th:only-of-type {\n",
       "        vertical-align: middle;\n",
       "    }\n",
       "\n",
       "    .dataframe tbody tr th {\n",
       "        vertical-align: top;\n",
       "    }\n",
       "\n",
       "    .dataframe thead th {\n",
       "        text-align: right;\n",
       "    }\n",
       "</style>\n",
       "<table border=\"1\" class=\"dataframe\">\n",
       "  <thead>\n",
       "    <tr style=\"text-align: right;\">\n",
       "      <th></th>\n",
       "      <th>NaN</th>\n",
       "      <th>% NaN</th>\n",
       "      <th>uniq</th>\n",
       "    </tr>\n",
       "  </thead>\n",
       "  <tbody>\n",
       "    <tr>\n",
       "      <th>bodytype</th>\n",
       "      <td>0</td>\n",
       "      <td>0.0</td>\n",
       "      <td>24</td>\n",
       "    </tr>\n",
       "    <tr>\n",
       "      <th>brand</th>\n",
       "      <td>0</td>\n",
       "      <td>0.0</td>\n",
       "      <td>12</td>\n",
       "    </tr>\n",
       "    <tr>\n",
       "      <th>color</th>\n",
       "      <td>0</td>\n",
       "      <td>0.0</td>\n",
       "      <td>16</td>\n",
       "    </tr>\n",
       "    <tr>\n",
       "      <th>description</th>\n",
       "      <td>1</td>\n",
       "      <td>0.0</td>\n",
       "      <td>31729</td>\n",
       "    </tr>\n",
       "    <tr>\n",
       "      <th>enginedisplacement</th>\n",
       "      <td>0</td>\n",
       "      <td>0.0</td>\n",
       "      <td>55</td>\n",
       "    </tr>\n",
       "    <tr>\n",
       "      <th>enginepower</th>\n",
       "      <td>0</td>\n",
       "      <td>0.0</td>\n",
       "      <td>315</td>\n",
       "    </tr>\n",
       "    <tr>\n",
       "      <th>fueltype</th>\n",
       "      <td>0</td>\n",
       "      <td>0.0</td>\n",
       "      <td>5</td>\n",
       "    </tr>\n",
       "    <tr>\n",
       "      <th>mileage</th>\n",
       "      <td>0</td>\n",
       "      <td>0.0</td>\n",
       "      <td>11268</td>\n",
       "    </tr>\n",
       "    <tr>\n",
       "      <th>modeldate</th>\n",
       "      <td>0</td>\n",
       "      <td>0.0</td>\n",
       "      <td>66</td>\n",
       "    </tr>\n",
       "    <tr>\n",
       "      <th>model_info</th>\n",
       "      <td>0</td>\n",
       "      <td>0.0</td>\n",
       "      <td>954</td>\n",
       "    </tr>\n",
       "    <tr>\n",
       "      <th>model_name</th>\n",
       "      <td>0</td>\n",
       "      <td>0.0</td>\n",
       "      <td>544</td>\n",
       "    </tr>\n",
       "    <tr>\n",
       "      <th>name</th>\n",
       "      <td>0</td>\n",
       "      <td>0.0</td>\n",
       "      <td>2780</td>\n",
       "    </tr>\n",
       "    <tr>\n",
       "      <th>numberofdoors</th>\n",
       "      <td>0</td>\n",
       "      <td>0.0</td>\n",
       "      <td>5</td>\n",
       "    </tr>\n",
       "    <tr>\n",
       "      <th>productiondate</th>\n",
       "      <td>0</td>\n",
       "      <td>0.0</td>\n",
       "      <td>69</td>\n",
       "    </tr>\n",
       "    <tr>\n",
       "      <th>sell_id</th>\n",
       "      <td>0</td>\n",
       "      <td>0.0</td>\n",
       "      <td>34686</td>\n",
       "    </tr>\n",
       "    <tr>\n",
       "      <th>super_gen</th>\n",
       "      <td>0</td>\n",
       "      <td>0.0</td>\n",
       "      <td>5890</td>\n",
       "    </tr>\n",
       "    <tr>\n",
       "      <th>vehicleconfiguration</th>\n",
       "      <td>0</td>\n",
       "      <td>0.0</td>\n",
       "      <td>634</td>\n",
       "    </tr>\n",
       "    <tr>\n",
       "      <th>vehicletransmission</th>\n",
       "      <td>0</td>\n",
       "      <td>0.0</td>\n",
       "      <td>4</td>\n",
       "    </tr>\n",
       "    <tr>\n",
       "      <th>vendor</th>\n",
       "      <td>0</td>\n",
       "      <td>0.0</td>\n",
       "      <td>2</td>\n",
       "    </tr>\n",
       "    <tr>\n",
       "      <th>владельцы</th>\n",
       "      <td>0</td>\n",
       "      <td>0.0</td>\n",
       "      <td>3</td>\n",
       "    </tr>\n",
       "    <tr>\n",
       "      <th>птс</th>\n",
       "      <td>1</td>\n",
       "      <td>0.0</td>\n",
       "      <td>3</td>\n",
       "    </tr>\n",
       "    <tr>\n",
       "      <th>привод</th>\n",
       "      <td>0</td>\n",
       "      <td>0.0</td>\n",
       "      <td>3</td>\n",
       "    </tr>\n",
       "    <tr>\n",
       "      <th>руль</th>\n",
       "      <td>0</td>\n",
       "      <td>0.0</td>\n",
       "      <td>2</td>\n",
       "    </tr>\n",
       "  </tbody>\n",
       "</table>\n",
       "</div>"
      ],
      "text/plain": [
       "                      NaN  % NaN   uniq\n",
       "bodytype                0    0.0     24\n",
       "brand                   0    0.0     12\n",
       "color                   0    0.0     16\n",
       "description             1    0.0  31729\n",
       "enginedisplacement      0    0.0     55\n",
       "enginepower             0    0.0    315\n",
       "fueltype                0    0.0      5\n",
       "mileage                 0    0.0  11268\n",
       "modeldate               0    0.0     66\n",
       "model_info              0    0.0    954\n",
       "model_name              0    0.0    544\n",
       "name                    0    0.0   2780\n",
       "numberofdoors           0    0.0      5\n",
       "productiondate          0    0.0     69\n",
       "sell_id                 0    0.0  34686\n",
       "super_gen               0    0.0   5890\n",
       "vehicleconfiguration    0    0.0    634\n",
       "vehicletransmission     0    0.0      4\n",
       "vendor                  0    0.0      2\n",
       "владельцы               0    0.0      3\n",
       "птс                     1    0.0      3\n",
       "привод                  0    0.0      3\n",
       "руль                    0    0.0      2"
      ]
     },
     "execution_count": 46,
     "metadata": {},
     "output_type": "execute_result"
    }
   ],
   "source": [
    "info_table(df_alpha) # обзор датасета"
   ]
  },
  {
   "cell_type": "markdown",
   "id": "1c3cfb79",
   "metadata": {},
   "source": [
    "всего 2 пропуска - 1 один в 'description и один в 'ПТС'"
   ]
  },
  {
   "cell_type": "markdown",
   "id": "d189570a",
   "metadata": {},
   "source": [
    "<a name=\"df_a_check\"></a> \n",
    "### просмотр обучающего набора `df_beta`\n",
    "созданного из `all_auto_ru_09_09_2020.csv`  \n",
    "<a href='#df_a_clean'>сразу перейти к выводам просмотра"
   ]
  },
  {
   "cell_type": "code",
   "execution_count": 47,
   "id": "5e19cf87",
   "metadata": {},
   "outputs": [
    {
     "name": "stdout",
     "output_type": "stream",
     "text": [
      "всего записей в столбце  bodytype  =  87263\n",
      "NaN в столбце  bodytype  =  1 ,  в процентах =  0%\n",
      "уникальных в столбце  bodytype  =  169\n",
      "всего записей-дубликатов в столбце  bodytype  =  87230\n"
     ]
    },
    {
     "data": {
      "text/html": [
       "<div>\n",
       "<style scoped>\n",
       "    .dataframe tbody tr th:only-of-type {\n",
       "        vertical-align: middle;\n",
       "    }\n",
       "\n",
       "    .dataframe tbody tr th {\n",
       "        vertical-align: top;\n",
       "    }\n",
       "\n",
       "    .dataframe thead th {\n",
       "        text-align: right;\n",
       "    }\n",
       "</style>\n",
       "<table border=\"1\" class=\"dataframe\">\n",
       "  <thead>\n",
       "    <tr style=\"text-align: right;\">\n",
       "      <th></th>\n",
       "      <th>bodytype</th>\n",
       "    </tr>\n",
       "  </thead>\n",
       "  <tbody>\n",
       "    <tr>\n",
       "      <th>Внедорожник 5 дв.</th>\n",
       "      <td>30712</td>\n",
       "    </tr>\n",
       "    <tr>\n",
       "      <th>Седан</th>\n",
       "      <td>30055</td>\n",
       "    </tr>\n",
       "    <tr>\n",
       "      <th>Хэтчбек 5 дв.</th>\n",
       "      <td>8616</td>\n",
       "    </tr>\n",
       "    <tr>\n",
       "      <th>...</th>\n",
       "      <td>...</td>\n",
       "    </tr>\n",
       "    <tr>\n",
       "      <th>NaN</th>\n",
       "      <td>1</td>\n",
       "    </tr>\n",
       "    <tr>\n",
       "      <th>Универсал 5 дв. Shuttle</th>\n",
       "      <td>1</td>\n",
       "    </tr>\n",
       "    <tr>\n",
       "      <th>Минивэн Regius</th>\n",
       "      <td>1</td>\n",
       "    </tr>\n",
       "  </tbody>\n",
       "</table>\n",
       "<p>169 rows × 1 columns</p>\n",
       "</div>"
      ],
      "text/plain": [
       "                         bodytype\n",
       "Внедорожник 5 дв.           30712\n",
       "Седан                       30055\n",
       "Хэтчбек 5 дв.                8616\n",
       "...                           ...\n",
       "NaN                             1\n",
       "Универсал 5 дв. Shuttle         1\n",
       "Минивэн Regius                  1\n",
       "\n",
       "[169 rows x 1 columns]"
      ]
     },
     "metadata": {},
     "output_type": "display_data"
    }
   ],
   "source": [
    "# начнем просматривать все поля - что там лежит\n",
    "# названия начинаются с заглавной буквы - поправить\n",
    "col_info(df_beta, df_beta.columns.to_list()[0])"
   ]
  },
  {
   "cell_type": "code",
   "execution_count": 48,
   "id": "bde616e6",
   "metadata": {},
   "outputs": [
    {
     "name": "stdout",
     "output_type": "stream",
     "text": [
      "всего записей в столбце  brand  =  87264\n",
      "NaN в столбце  brand  =  0 ,  в процентах =  0%\n",
      "уникальных в столбце  brand  =  36\n",
      "всего записей-дубликатов в столбце  brand  =  87264\n"
     ]
    },
    {
     "data": {
      "text/html": [
       "<div>\n",
       "<style scoped>\n",
       "    .dataframe tbody tr th:only-of-type {\n",
       "        vertical-align: middle;\n",
       "    }\n",
       "\n",
       "    .dataframe tbody tr th {\n",
       "        vertical-align: top;\n",
       "    }\n",
       "\n",
       "    .dataframe thead th {\n",
       "        text-align: right;\n",
       "    }\n",
       "</style>\n",
       "<table border=\"1\" class=\"dataframe\">\n",
       "  <thead>\n",
       "    <tr style=\"text-align: right;\">\n",
       "      <th></th>\n",
       "      <th>brand</th>\n",
       "    </tr>\n",
       "  </thead>\n",
       "  <tbody>\n",
       "    <tr>\n",
       "      <th>MERCEDES</th>\n",
       "      <td>7716</td>\n",
       "    </tr>\n",
       "    <tr>\n",
       "      <th>BMW</th>\n",
       "      <td>7125</td>\n",
       "    </tr>\n",
       "    <tr>\n",
       "      <th>VOLKSWAGEN</th>\n",
       "      <td>6976</td>\n",
       "    </tr>\n",
       "    <tr>\n",
       "      <th>...</th>\n",
       "      <td>...</td>\n",
       "    </tr>\n",
       "    <tr>\n",
       "      <th>JAGUAR</th>\n",
       "      <td>308</td>\n",
       "    </tr>\n",
       "    <tr>\n",
       "      <th>MINI</th>\n",
       "      <td>305</td>\n",
       "    </tr>\n",
       "    <tr>\n",
       "      <th>GEELY</th>\n",
       "      <td>272</td>\n",
       "    </tr>\n",
       "  </tbody>\n",
       "</table>\n",
       "<p>36 rows × 1 columns</p>\n",
       "</div>"
      ],
      "text/plain": [
       "            brand\n",
       "MERCEDES     7716\n",
       "BMW          7125\n",
       "VOLKSWAGEN   6976\n",
       "...           ...\n",
       "JAGUAR        308\n",
       "MINI          305\n",
       "GEELY         272\n",
       "\n",
       "[36 rows x 1 columns]"
      ]
     },
     "metadata": {},
     "output_type": "display_data"
    }
   ],
   "source": [
    "col_info(df_beta, df_beta.columns.to_list()[1])"
   ]
  },
  {
   "cell_type": "code",
   "execution_count": 49,
   "id": "4bb7caa9",
   "metadata": {
    "scrolled": true
   },
   "outputs": [
    {
     "name": "stdout",
     "output_type": "stream",
     "text": [
      "всего записей в столбце  color  =  87264\n",
      "NaN в столбце  color  =  0 ,  в процентах =  0%\n",
      "уникальных в столбце  color  =  16\n",
      "всего записей-дубликатов в столбце  color  =  87264\n"
     ]
    },
    {
     "data": {
      "text/html": [
       "<div>\n",
       "<style scoped>\n",
       "    .dataframe tbody tr th:only-of-type {\n",
       "        vertical-align: middle;\n",
       "    }\n",
       "\n",
       "    .dataframe tbody tr th {\n",
       "        vertical-align: top;\n",
       "    }\n",
       "\n",
       "    .dataframe thead th {\n",
       "        text-align: right;\n",
       "    }\n",
       "</style>\n",
       "<table border=\"1\" class=\"dataframe\">\n",
       "  <thead>\n",
       "    <tr style=\"text-align: right;\">\n",
       "      <th></th>\n",
       "      <th>color</th>\n",
       "    </tr>\n",
       "  </thead>\n",
       "  <tbody>\n",
       "    <tr>\n",
       "      <th>040001</th>\n",
       "      <td>24458</td>\n",
       "    </tr>\n",
       "    <tr>\n",
       "      <th>FAFBFB</th>\n",
       "      <td>15300</td>\n",
       "    </tr>\n",
       "    <tr>\n",
       "      <th>CACECB</th>\n",
       "      <td>11171</td>\n",
       "    </tr>\n",
       "    <tr>\n",
       "      <th>...</th>\n",
       "      <td>...</td>\n",
       "    </tr>\n",
       "    <tr>\n",
       "      <th>4A2197</th>\n",
       "      <td>602</td>\n",
       "    </tr>\n",
       "    <tr>\n",
       "      <th>FF8649</th>\n",
       "      <td>505</td>\n",
       "    </tr>\n",
       "    <tr>\n",
       "      <th>FFC0CB</th>\n",
       "      <td>25</td>\n",
       "    </tr>\n",
       "  </tbody>\n",
       "</table>\n",
       "<p>16 rows × 1 columns</p>\n",
       "</div>"
      ],
      "text/plain": [
       "        color\n",
       "040001  24458\n",
       "FAFBFB  15300\n",
       "CACECB  11171\n",
       "...       ...\n",
       "4A2197    602\n",
       "FF8649    505\n",
       "FFC0CB     25\n",
       "\n",
       "[16 rows x 1 columns]"
      ]
     },
     "metadata": {},
     "output_type": "display_data"
    }
   ],
   "source": [
    "col_info(df_beta, df_beta.columns.to_list()[2])"
   ]
  },
  {
   "cell_type": "code",
   "execution_count": 50,
   "id": "9f5982bb",
   "metadata": {
    "scrolled": false
   },
   "outputs": [
    {
     "name": "stdout",
     "output_type": "stream",
     "text": [
      "всего записей в столбце  fueltype  =  87264\n",
      "NaN в столбце  fueltype  =  0 ,  в процентах =  0%\n",
      "уникальных в столбце  fueltype  =  6\n",
      "всего записей-дубликатов в столбце  fueltype  =  87263\n"
     ]
    },
    {
     "data": {
      "text/html": [
       "<div>\n",
       "<style scoped>\n",
       "    .dataframe tbody tr th:only-of-type {\n",
       "        vertical-align: middle;\n",
       "    }\n",
       "\n",
       "    .dataframe tbody tr th {\n",
       "        vertical-align: top;\n",
       "    }\n",
       "\n",
       "    .dataframe thead th {\n",
       "        text-align: right;\n",
       "    }\n",
       "</style>\n",
       "<table border=\"1\" class=\"dataframe\">\n",
       "  <thead>\n",
       "    <tr style=\"text-align: right;\">\n",
       "      <th></th>\n",
       "      <th>fueltype</th>\n",
       "    </tr>\n",
       "  </thead>\n",
       "  <tbody>\n",
       "    <tr>\n",
       "      <th>бензин</th>\n",
       "      <td>73365</td>\n",
       "    </tr>\n",
       "    <tr>\n",
       "      <th>дизель</th>\n",
       "      <td>13487</td>\n",
       "    </tr>\n",
       "    <tr>\n",
       "      <th>гибрид</th>\n",
       "      <td>291</td>\n",
       "    </tr>\n",
       "    <tr>\n",
       "      <th>электро</th>\n",
       "      <td>109</td>\n",
       "    </tr>\n",
       "    <tr>\n",
       "      <th>газ</th>\n",
       "      <td>11</td>\n",
       "    </tr>\n",
       "    <tr>\n",
       "      <th>универсал</th>\n",
       "      <td>1</td>\n",
       "    </tr>\n",
       "  </tbody>\n",
       "</table>\n",
       "</div>"
      ],
      "text/plain": [
       "           fueltype\n",
       "бензин        73365\n",
       "дизель        13487\n",
       "гибрид          291\n",
       "электро         109\n",
       "газ              11\n",
       "универсал         1"
      ]
     },
     "metadata": {},
     "output_type": "display_data"
    }
   ],
   "source": [
    "col_info(df_beta, df_beta.columns.to_list()[3])"
   ]
  },
  {
   "cell_type": "code",
   "execution_count": 51,
   "id": "4664f02a",
   "metadata": {
    "scrolled": true
   },
   "outputs": [
    {
     "data": {
      "text/html": [
       "<div>\n",
       "<style scoped>\n",
       "    .dataframe tbody tr th:only-of-type {\n",
       "        vertical-align: middle;\n",
       "    }\n",
       "\n",
       "    .dataframe tbody tr th {\n",
       "        vertical-align: top;\n",
       "    }\n",
       "\n",
       "    .dataframe thead th {\n",
       "        text-align: right;\n",
       "    }\n",
       "</style>\n",
       "<table border=\"1\" class=\"dataframe\">\n",
       "  <thead>\n",
       "    <tr style=\"text-align: right;\">\n",
       "      <th></th>\n",
       "      <th>bodytype</th>\n",
       "      <th>brand</th>\n",
       "      <th>color</th>\n",
       "      <th>fueltype</th>\n",
       "      <th>modeldate</th>\n",
       "      <th>name</th>\n",
       "      <th>numberofdoors</th>\n",
       "      <th>productiondate</th>\n",
       "      <th>vehicleconfiguration</th>\n",
       "      <th>vehicletransmission</th>\n",
       "      <th>enginedisplacement</th>\n",
       "      <th>enginepower</th>\n",
       "      <th>description</th>\n",
       "      <th>mileage</th>\n",
       "      <th>комплектация</th>\n",
       "      <th>привод</th>\n",
       "      <th>руль</th>\n",
       "      <th>состояние</th>\n",
       "      <th>владельцы</th>\n",
       "      <th>птс</th>\n",
       "      <th>таможня</th>\n",
       "      <th>владение</th>\n",
       "      <th>price</th>\n",
       "      <th>start_date</th>\n",
       "      <th>hidden</th>\n",
       "      <th>model</th>\n",
       "    </tr>\n",
       "  </thead>\n",
       "  <tbody>\n",
       "    <tr>\n",
       "      <th>24624</th>\n",
       "      <td>NaN</td>\n",
       "      <td>HONDA</td>\n",
       "      <td>CACECB</td>\n",
       "      <td>универсал</td>\n",
       "      <td>NaN</td>\n",
       "      <td>NaN</td>\n",
       "      <td>NaN</td>\n",
       "      <td>1989</td>\n",
       "      <td>NaN</td>\n",
       "      <td>NaN</td>\n",
       "      <td>NaN</td>\n",
       "      <td>NaN</td>\n",
       "      <td>Продаю Honda Civic Suttle 1989 г. выпуска, неу...</td>\n",
       "      <td>400000</td>\n",
       "      <td>{'id': '0', 'name': ''}</td>\n",
       "      <td>NaN</td>\n",
       "      <td>LEFT</td>\n",
       "      <td>NaN</td>\n",
       "      <td>3.0</td>\n",
       "      <td>ORIGINAL</td>\n",
       "      <td>True</td>\n",
       "      <td>NaN</td>\n",
       "      <td>120000.0</td>\n",
       "      <td>2020-04-10T16:07:57Z</td>\n",
       "      <td>NaN</td>\n",
       "      <td>CIVIC</td>\n",
       "    </tr>\n",
       "  </tbody>\n",
       "</table>\n",
       "</div>"
      ],
      "text/plain": [
       "      bodytype  brand   color   fueltype  modeldate name  numberofdoors  \\\n",
       "24624      NaN  HONDA  CACECB  универсал        NaN  NaN            NaN   \n",
       "\n",
       "       productiondate vehicleconfiguration vehicletransmission  \\\n",
       "24624            1989                  NaN                 NaN   \n",
       "\n",
       "      enginedisplacement  enginepower  \\\n",
       "24624                NaN          NaN   \n",
       "\n",
       "                                             description  mileage  \\\n",
       "24624  Продаю Honda Civic Suttle 1989 г. выпуска, неу...   400000   \n",
       "\n",
       "                  комплектация привод  руль  состояние  владельцы       птс  \\\n",
       "24624  {'id': '0', 'name': ''}    NaN  LEFT        NaN        3.0  ORIGINAL   \n",
       "\n",
       "       таможня владение     price            start_date  hidden  model  \n",
       "24624     True      NaN  120000.0  2020-04-10T16:07:57Z     NaN  CIVIC  "
      ]
     },
     "metadata": {},
     "output_type": "display_data"
    }
   ],
   "source": [
    "# проверим что такое \"универсал\" в графе \"топливо\"\n",
    "df4 = df_beta[df_beta.fueltype.str.contains('универсал')]\n",
    "display_all(df4)"
   ]
  },
  {
   "cell_type": "code",
   "execution_count": 52,
   "id": "6cbda50a",
   "metadata": {},
   "outputs": [],
   "source": [
    "# df_beta - удалим строку \"универсал\" в столбце 'fueltype' #104\n",
    "df_beta.drop(df_beta[df_beta.fueltype == 'универсал'].index, inplace=True)\n",
    "df_beta = df_beta.reset_index(drop=True)"
   ]
  },
  {
   "cell_type": "raw",
   "id": "76accca9",
   "metadata": {},
   "source": [
    "# or alt version\n",
    "df_beta = df_beta[df_beta.fueltype != 'универсал']\n",
    "df_beta = df_beta.reset_index(drop=True)"
   ]
  },
  {
   "cell_type": "code",
   "execution_count": 53,
   "id": "cc4c6935",
   "metadata": {},
   "outputs": [
    {
     "name": "stdout",
     "output_type": "stream",
     "text": [
      "всего записей в столбце  fueltype  =  87263\n",
      "NaN в столбце  fueltype  =  0 ,  в процентах =  0%\n",
      "уникальных в столбце  fueltype  =  5\n",
      "всего записей-дубликатов в столбце  fueltype  =  87263\n"
     ]
    },
    {
     "data": {
      "text/html": [
       "<div>\n",
       "<style scoped>\n",
       "    .dataframe tbody tr th:only-of-type {\n",
       "        vertical-align: middle;\n",
       "    }\n",
       "\n",
       "    .dataframe tbody tr th {\n",
       "        vertical-align: top;\n",
       "    }\n",
       "\n",
       "    .dataframe thead th {\n",
       "        text-align: right;\n",
       "    }\n",
       "</style>\n",
       "<table border=\"1\" class=\"dataframe\">\n",
       "  <thead>\n",
       "    <tr style=\"text-align: right;\">\n",
       "      <th></th>\n",
       "      <th>fueltype</th>\n",
       "    </tr>\n",
       "  </thead>\n",
       "  <tbody>\n",
       "    <tr>\n",
       "      <th>бензин</th>\n",
       "      <td>73365</td>\n",
       "    </tr>\n",
       "    <tr>\n",
       "      <th>дизель</th>\n",
       "      <td>13487</td>\n",
       "    </tr>\n",
       "    <tr>\n",
       "      <th>гибрид</th>\n",
       "      <td>291</td>\n",
       "    </tr>\n",
       "    <tr>\n",
       "      <th>электро</th>\n",
       "      <td>109</td>\n",
       "    </tr>\n",
       "    <tr>\n",
       "      <th>газ</th>\n",
       "      <td>11</td>\n",
       "    </tr>\n",
       "  </tbody>\n",
       "</table>\n",
       "</div>"
      ],
      "text/plain": [
       "         fueltype\n",
       "бензин      73365\n",
       "дизель      13487\n",
       "гибрид        291\n",
       "электро       109\n",
       "газ            11"
      ]
     },
     "metadata": {},
     "output_type": "display_data"
    }
   ],
   "source": [
    "col_info(df_beta, 'fueltype')"
   ]
  },
  {
   "cell_type": "code",
   "execution_count": 54,
   "id": "ba10fad7",
   "metadata": {},
   "outputs": [
    {
     "name": "stdout",
     "output_type": "stream",
     "text": [
      "всего записей в столбце  modeldate  =  87263\n",
      "NaN в столбце  modeldate  =  0 ,  в процентах =  0%\n",
      "уникальных в столбце  modeldate  =  78\n",
      "всего записей-дубликатов в столбце  modeldate  =  87256\n"
     ]
    },
    {
     "data": {
      "text/html": [
       "<div>\n",
       "<style scoped>\n",
       "    .dataframe tbody tr th:only-of-type {\n",
       "        vertical-align: middle;\n",
       "    }\n",
       "\n",
       "    .dataframe tbody tr th {\n",
       "        vertical-align: top;\n",
       "    }\n",
       "\n",
       "    .dataframe thead th {\n",
       "        text-align: right;\n",
       "    }\n",
       "</style>\n",
       "<table border=\"1\" class=\"dataframe\">\n",
       "  <thead>\n",
       "    <tr style=\"text-align: right;\">\n",
       "      <th></th>\n",
       "      <th>modeldate</th>\n",
       "    </tr>\n",
       "  </thead>\n",
       "  <tbody>\n",
       "    <tr>\n",
       "      <th>2006.0</th>\n",
       "      <td>6101</td>\n",
       "    </tr>\n",
       "    <tr>\n",
       "      <th>2010.0</th>\n",
       "      <td>5866</td>\n",
       "    </tr>\n",
       "    <tr>\n",
       "      <th>2009.0</th>\n",
       "      <td>5662</td>\n",
       "    </tr>\n",
       "    <tr>\n",
       "      <th>...</th>\n",
       "      <td>...</td>\n",
       "    </tr>\n",
       "    <tr>\n",
       "      <th>1950.0</th>\n",
       "      <td>1</td>\n",
       "    </tr>\n",
       "    <tr>\n",
       "      <th>1904.0</th>\n",
       "      <td>1</td>\n",
       "    </tr>\n",
       "    <tr>\n",
       "      <th>1948.0</th>\n",
       "      <td>1</td>\n",
       "    </tr>\n",
       "  </tbody>\n",
       "</table>\n",
       "<p>78 rows × 1 columns</p>\n",
       "</div>"
      ],
      "text/plain": [
       "        modeldate\n",
       "2006.0       6101\n",
       "2010.0       5866\n",
       "2009.0       5662\n",
       "...           ...\n",
       "1950.0          1\n",
       "1904.0          1\n",
       "1948.0          1\n",
       "\n",
       "[78 rows x 1 columns]"
      ]
     },
     "metadata": {},
     "output_type": "display_data"
    }
   ],
   "source": [
    "col_info(df_beta, df_beta.columns.to_list()[4])"
   ]
  },
  {
   "cell_type": "code",
   "execution_count": 55,
   "id": "76140646",
   "metadata": {},
   "outputs": [
    {
     "name": "stdout",
     "output_type": "stream",
     "text": [
      "всего записей в столбце  name  =  87263\n",
      "NaN в столбце  name  =  0 ,  в процентах =  0%\n",
      "уникальных в столбце  name  =  4484\n",
      "всего записей-дубликатов в столбце  name  =  85947\n"
     ]
    },
    {
     "data": {
      "text/html": [
       "<div>\n",
       "<style scoped>\n",
       "    .dataframe tbody tr th:only-of-type {\n",
       "        vertical-align: middle;\n",
       "    }\n",
       "\n",
       "    .dataframe tbody tr th {\n",
       "        vertical-align: top;\n",
       "    }\n",
       "\n",
       "    .dataframe thead th {\n",
       "        text-align: right;\n",
       "    }\n",
       "</style>\n",
       "<table border=\"1\" class=\"dataframe\">\n",
       "  <thead>\n",
       "    <tr style=\"text-align: right;\">\n",
       "      <th></th>\n",
       "      <th>name</th>\n",
       "    </tr>\n",
       "  </thead>\n",
       "  <tbody>\n",
       "    <tr>\n",
       "      <th>2.0 AT (150 л.с.)</th>\n",
       "      <td>1568</td>\n",
       "    </tr>\n",
       "    <tr>\n",
       "      <th>1.6 AT (123 л.с.)</th>\n",
       "      <td>1297</td>\n",
       "    </tr>\n",
       "    <tr>\n",
       "      <th>1.6 AT (110 л.с.)</th>\n",
       "      <td>1090</td>\n",
       "    </tr>\n",
       "    <tr>\n",
       "      <th>...</th>\n",
       "      <td>...</td>\n",
       "    </tr>\n",
       "    <tr>\n",
       "      <th>2.0 MT (245 л.с.)</th>\n",
       "      <td>1</td>\n",
       "    </tr>\n",
       "    <tr>\n",
       "      <th>4.1d AT (155 л.с.) 4WD</th>\n",
       "      <td>1</td>\n",
       "    </tr>\n",
       "    <tr>\n",
       "      <th>StreetKa 1.6 MT (95 л.с.)</th>\n",
       "      <td>1</td>\n",
       "    </tr>\n",
       "  </tbody>\n",
       "</table>\n",
       "<p>4484 rows × 1 columns</p>\n",
       "</div>"
      ],
      "text/plain": [
       "                           name\n",
       "2.0 AT (150 л.с.)          1568\n",
       "1.6 AT (123 л.с.)          1297\n",
       "1.6 AT (110 л.с.)          1090\n",
       "...                         ...\n",
       "2.0 MT (245 л.с.)             1\n",
       "4.1d AT (155 л.с.) 4WD        1\n",
       "StreetKa 1.6 MT (95 л.с.)     1\n",
       "\n",
       "[4484 rows x 1 columns]"
      ]
     },
     "metadata": {},
     "output_type": "display_data"
    }
   ],
   "source": [
    "col_info(df_beta, df_beta.columns.to_list()[5])"
   ]
  },
  {
   "cell_type": "code",
   "execution_count": 56,
   "id": "9a1ff9d4",
   "metadata": {},
   "outputs": [
    {
     "name": "stdout",
     "output_type": "stream",
     "text": [
      "всего записей в столбце  numberofdoors  =  87263\n",
      "NaN в столбце  numberofdoors  =  0 ,  в процентах =  0%\n",
      "уникальных в столбце  numberofdoors  =  5\n",
      "всего записей-дубликатов в столбце  numberofdoors  =  87262\n"
     ]
    },
    {
     "data": {
      "text/html": [
       "<div>\n",
       "<style scoped>\n",
       "    .dataframe tbody tr th:only-of-type {\n",
       "        vertical-align: middle;\n",
       "    }\n",
       "\n",
       "    .dataframe tbody tr th {\n",
       "        vertical-align: top;\n",
       "    }\n",
       "\n",
       "    .dataframe thead th {\n",
       "        text-align: right;\n",
       "    }\n",
       "</style>\n",
       "<table border=\"1\" class=\"dataframe\">\n",
       "  <thead>\n",
       "    <tr style=\"text-align: right;\">\n",
       "      <th></th>\n",
       "      <th>numberofdoors</th>\n",
       "    </tr>\n",
       "  </thead>\n",
       "  <tbody>\n",
       "    <tr>\n",
       "      <th>5.0</th>\n",
       "      <td>50208</td>\n",
       "    </tr>\n",
       "    <tr>\n",
       "      <th>4.0</th>\n",
       "      <td>32980</td>\n",
       "    </tr>\n",
       "    <tr>\n",
       "      <th>3.0</th>\n",
       "      <td>2197</td>\n",
       "    </tr>\n",
       "    <tr>\n",
       "      <th>2.0</th>\n",
       "      <td>1877</td>\n",
       "    </tr>\n",
       "    <tr>\n",
       "      <th>0.0</th>\n",
       "      <td>1</td>\n",
       "    </tr>\n",
       "  </tbody>\n",
       "</table>\n",
       "</div>"
      ],
      "text/plain": [
       "     numberofdoors\n",
       "5.0          50208\n",
       "4.0          32980\n",
       "3.0           2197\n",
       "2.0           1877\n",
       "0.0              1"
      ]
     },
     "metadata": {},
     "output_type": "display_data"
    }
   ],
   "source": [
    "col_info(df_beta, df_beta.columns.to_list()[6])"
   ]
  },
  {
   "cell_type": "code",
   "execution_count": 57,
   "id": "13b1d173",
   "metadata": {},
   "outputs": [
    {
     "name": "stdout",
     "output_type": "stream",
     "text": [
      "всего записей в столбце  productiondate  =  87263\n",
      "NaN в столбце  productiondate  =  0 ,  в процентах =  0%\n",
      "уникальных в столбце  productiondate  =  80\n",
      "всего записей-дубликатов в столбце  productiondate  =  87247\n"
     ]
    },
    {
     "data": {
      "text/html": [
       "<div>\n",
       "<style scoped>\n",
       "    .dataframe tbody tr th:only-of-type {\n",
       "        vertical-align: middle;\n",
       "    }\n",
       "\n",
       "    .dataframe tbody tr th {\n",
       "        vertical-align: top;\n",
       "    }\n",
       "\n",
       "    .dataframe thead th {\n",
       "        text-align: right;\n",
       "    }\n",
       "</style>\n",
       "<table border=\"1\" class=\"dataframe\">\n",
       "  <thead>\n",
       "    <tr style=\"text-align: right;\">\n",
       "      <th></th>\n",
       "      <th>productiondate</th>\n",
       "    </tr>\n",
       "  </thead>\n",
       "  <tbody>\n",
       "    <tr>\n",
       "      <th>2020</th>\n",
       "      <td>11126</td>\n",
       "    </tr>\n",
       "    <tr>\n",
       "      <th>2008</th>\n",
       "      <td>6995</td>\n",
       "    </tr>\n",
       "    <tr>\n",
       "      <th>2012</th>\n",
       "      <td>6580</td>\n",
       "    </tr>\n",
       "    <tr>\n",
       "      <th>...</th>\n",
       "      <td>...</td>\n",
       "    </tr>\n",
       "    <tr>\n",
       "      <th>1971</th>\n",
       "      <td>1</td>\n",
       "    </tr>\n",
       "    <tr>\n",
       "      <th>1931</th>\n",
       "      <td>1</td>\n",
       "    </tr>\n",
       "    <tr>\n",
       "      <th>1949</th>\n",
       "      <td>1</td>\n",
       "    </tr>\n",
       "  </tbody>\n",
       "</table>\n",
       "<p>80 rows × 1 columns</p>\n",
       "</div>"
      ],
      "text/plain": [
       "      productiondate\n",
       "2020           11126\n",
       "2008            6995\n",
       "2012            6580\n",
       "...              ...\n",
       "1971               1\n",
       "1931               1\n",
       "1949               1\n",
       "\n",
       "[80 rows x 1 columns]"
      ]
     },
     "metadata": {},
     "output_type": "display_data"
    }
   ],
   "source": [
    "col_info(df_beta, df_beta.columns.to_list()[7])"
   ]
  },
  {
   "cell_type": "code",
   "execution_count": 58,
   "id": "2a600f96",
   "metadata": {},
   "outputs": [
    {
     "name": "stdout",
     "output_type": "stream",
     "text": [
      "всего записей в столбце  vehicleconfiguration  =  87263\n",
      "NaN в столбце  vehicleconfiguration  =  0 ,  в процентах =  0%\n",
      "уникальных в столбце  vehicleconfiguration  =  1860\n",
      "всего записей-дубликатов в столбце  vehicleconfiguration  =  86800\n"
     ]
    },
    {
     "data": {
      "text/html": [
       "<div>\n",
       "<style scoped>\n",
       "    .dataframe tbody tr th:only-of-type {\n",
       "        vertical-align: middle;\n",
       "    }\n",
       "\n",
       "    .dataframe tbody tr th {\n",
       "        vertical-align: top;\n",
       "    }\n",
       "\n",
       "    .dataframe thead th {\n",
       "        text-align: right;\n",
       "    }\n",
       "</style>\n",
       "<table border=\"1\" class=\"dataframe\">\n",
       "  <thead>\n",
       "    <tr style=\"text-align: right;\">\n",
       "      <th></th>\n",
       "      <th>vehicleconfiguration</th>\n",
       "    </tr>\n",
       "  </thead>\n",
       "  <tbody>\n",
       "    <tr>\n",
       "      <th>SEDAN MECHANICAL 1.6</th>\n",
       "      <td>4130</td>\n",
       "    </tr>\n",
       "    <tr>\n",
       "      <th>SEDAN AUTOMATIC 1.6</th>\n",
       "      <td>3519</td>\n",
       "    </tr>\n",
       "    <tr>\n",
       "      <th>ALLROAD_5_DOORS VARIATOR 2.0</th>\n",
       "      <td>2762</td>\n",
       "    </tr>\n",
       "    <tr>\n",
       "      <th>...</th>\n",
       "      <td>...</td>\n",
       "    </tr>\n",
       "    <tr>\n",
       "      <th>SEDAN AUTOMATIC 7.0</th>\n",
       "      <td>1</td>\n",
       "    </tr>\n",
       "    <tr>\n",
       "      <th>CABRIO AUTOMATIC 8.2</th>\n",
       "      <td>1</td>\n",
       "    </tr>\n",
       "    <tr>\n",
       "      <th>HATCHBACK_3_DOORS VARIATOR Hybrid</th>\n",
       "      <td>1</td>\n",
       "    </tr>\n",
       "  </tbody>\n",
       "</table>\n",
       "<p>1860 rows × 1 columns</p>\n",
       "</div>"
      ],
      "text/plain": [
       "                                   vehicleconfiguration\n",
       "SEDAN MECHANICAL 1.6                               4130\n",
       "SEDAN AUTOMATIC 1.6                                3519\n",
       "ALLROAD_5_DOORS VARIATOR 2.0                       2762\n",
       "...                                                 ...\n",
       "SEDAN AUTOMATIC 7.0                                   1\n",
       "CABRIO AUTOMATIC 8.2                                  1\n",
       "HATCHBACK_3_DOORS VARIATOR Hybrid                     1\n",
       "\n",
       "[1860 rows x 1 columns]"
      ]
     },
     "metadata": {},
     "output_type": "display_data"
    }
   ],
   "source": [
    "col_info(df_beta, df_beta.columns.to_list()[8])"
   ]
  },
  {
   "cell_type": "code",
   "execution_count": 59,
   "id": "514fd5b3",
   "metadata": {},
   "outputs": [
    {
     "name": "stdout",
     "output_type": "stream",
     "text": [
      "всего записей в столбце  vehicletransmission  =  87263\n",
      "NaN в столбце  vehicletransmission  =  0 ,  в процентах =  0%\n",
      "уникальных в столбце  vehicletransmission  =  4\n",
      "всего записей-дубликатов в столбце  vehicletransmission  =  87263\n"
     ]
    },
    {
     "data": {
      "text/html": [
       "<div>\n",
       "<style scoped>\n",
       "    .dataframe tbody tr th:only-of-type {\n",
       "        vertical-align: middle;\n",
       "    }\n",
       "\n",
       "    .dataframe tbody tr th {\n",
       "        vertical-align: top;\n",
       "    }\n",
       "\n",
       "    .dataframe thead th {\n",
       "        text-align: right;\n",
       "    }\n",
       "</style>\n",
       "<table border=\"1\" class=\"dataframe\">\n",
       "  <thead>\n",
       "    <tr style=\"text-align: right;\">\n",
       "      <th></th>\n",
       "      <th>vehicletransmission</th>\n",
       "    </tr>\n",
       "  </thead>\n",
       "  <tbody>\n",
       "    <tr>\n",
       "      <th>AUTOMATIC</th>\n",
       "      <td>48029</td>\n",
       "    </tr>\n",
       "    <tr>\n",
       "      <th>MECHANICAL</th>\n",
       "      <td>25075</td>\n",
       "    </tr>\n",
       "    <tr>\n",
       "      <th>ROBOT</th>\n",
       "      <td>7550</td>\n",
       "    </tr>\n",
       "    <tr>\n",
       "      <th>VARIATOR</th>\n",
       "      <td>6609</td>\n",
       "    </tr>\n",
       "  </tbody>\n",
       "</table>\n",
       "</div>"
      ],
      "text/plain": [
       "            vehicletransmission\n",
       "AUTOMATIC                 48029\n",
       "MECHANICAL                25075\n",
       "ROBOT                      7550\n",
       "VARIATOR                   6609"
      ]
     },
     "metadata": {},
     "output_type": "display_data"
    }
   ],
   "source": [
    "col_info(df_beta, df_beta.columns.to_list()[9])"
   ]
  },
  {
   "cell_type": "code",
   "execution_count": 60,
   "id": "1ab7fdd0",
   "metadata": {},
   "outputs": [
    {
     "name": "stdout",
     "output_type": "stream",
     "text": [
      "всего записей в столбце  enginedisplacement  =  87263\n",
      "NaN в столбце  enginedisplacement  =  0 ,  в процентах =  0%\n",
      "уникальных в столбце  enginedisplacement  =  534\n",
      "всего записей-дубликатов в столбце  enginedisplacement  =  87178\n"
     ]
    },
    {
     "data": {
      "text/html": [
       "<div>\n",
       "<style scoped>\n",
       "    .dataframe tbody tr th:only-of-type {\n",
       "        vertical-align: middle;\n",
       "    }\n",
       "\n",
       "    .dataframe tbody tr th {\n",
       "        vertical-align: top;\n",
       "    }\n",
       "\n",
       "    .dataframe thead th {\n",
       "        text-align: right;\n",
       "    }\n",
       "</style>\n",
       "<table border=\"1\" class=\"dataframe\">\n",
       "  <thead>\n",
       "    <tr style=\"text-align: right;\">\n",
       "      <th></th>\n",
       "      <th>enginedisplacement</th>\n",
       "    </tr>\n",
       "  </thead>\n",
       "  <tbody>\n",
       "    <tr>\n",
       "      <th>1.6</th>\n",
       "      <td>16722</td>\n",
       "    </tr>\n",
       "    <tr>\n",
       "      <th>2.0</th>\n",
       "      <td>12867</td>\n",
       "    </tr>\n",
       "    <tr>\n",
       "      <th>1.4</th>\n",
       "      <td>5549</td>\n",
       "    </tr>\n",
       "    <tr>\n",
       "      <th>...</th>\n",
       "      <td>...</td>\n",
       "    </tr>\n",
       "    <tr>\n",
       "      <th>PowerShift</th>\n",
       "      <td>1</td>\n",
       "    </tr>\n",
       "    <tr>\n",
       "      <th>Shuttle</th>\n",
       "      <td>1</td>\n",
       "    </tr>\n",
       "    <tr>\n",
       "      <th>6.7d</th>\n",
       "      <td>1</td>\n",
       "    </tr>\n",
       "  </tbody>\n",
       "</table>\n",
       "<p>534 rows × 1 columns</p>\n",
       "</div>"
      ],
      "text/plain": [
       "            enginedisplacement\n",
       "1.6                      16722\n",
       "2.0                      12867\n",
       "1.4                       5549\n",
       "...                        ...\n",
       "PowerShift                   1\n",
       "Shuttle                      1\n",
       "6.7d                         1\n",
       "\n",
       "[534 rows x 1 columns]"
      ]
     },
     "metadata": {},
     "output_type": "display_data"
    }
   ],
   "source": [
    "col_info(df_beta, df_beta.columns.to_list()[10])"
   ]
  },
  {
   "cell_type": "code",
   "execution_count": 61,
   "id": "f0ec4879",
   "metadata": {},
   "outputs": [
    {
     "name": "stdout",
     "output_type": "stream",
     "text": [
      "всего записей в столбце  enginepower  =  87263\n",
      "NaN в столбце  enginepower  =  0 ,  в процентах =  0%\n",
      "уникальных в столбце  enginepower  =  396\n",
      "всего записей-дубликатов в столбце  enginepower  =  87234\n"
     ]
    },
    {
     "data": {
      "text/html": [
       "<div>\n",
       "<style scoped>\n",
       "    .dataframe tbody tr th:only-of-type {\n",
       "        vertical-align: middle;\n",
       "    }\n",
       "\n",
       "    .dataframe tbody tr th {\n",
       "        vertical-align: top;\n",
       "    }\n",
       "\n",
       "    .dataframe thead th {\n",
       "        text-align: right;\n",
       "    }\n",
       "</style>\n",
       "<table border=\"1\" class=\"dataframe\">\n",
       "  <thead>\n",
       "    <tr style=\"text-align: right;\">\n",
       "      <th></th>\n",
       "      <th>enginepower</th>\n",
       "    </tr>\n",
       "  </thead>\n",
       "  <tbody>\n",
       "    <tr>\n",
       "      <th>150.0</th>\n",
       "      <td>6854</td>\n",
       "    </tr>\n",
       "    <tr>\n",
       "      <th>249.0</th>\n",
       "      <td>3485</td>\n",
       "    </tr>\n",
       "    <tr>\n",
       "      <th>140.0</th>\n",
       "      <td>2852</td>\n",
       "    </tr>\n",
       "    <tr>\n",
       "      <th>...</th>\n",
       "      <td>...</td>\n",
       "    </tr>\n",
       "    <tr>\n",
       "      <th>236.0</th>\n",
       "      <td>1</td>\n",
       "    </tr>\n",
       "    <tr>\n",
       "      <th>437.0</th>\n",
       "      <td>1</td>\n",
       "    </tr>\n",
       "    <tr>\n",
       "      <th>591.0</th>\n",
       "      <td>1</td>\n",
       "    </tr>\n",
       "  </tbody>\n",
       "</table>\n",
       "<p>396 rows × 1 columns</p>\n",
       "</div>"
      ],
      "text/plain": [
       "       enginepower\n",
       "150.0         6854\n",
       "249.0         3485\n",
       "140.0         2852\n",
       "...            ...\n",
       "236.0            1\n",
       "437.0            1\n",
       "591.0            1\n",
       "\n",
       "[396 rows x 1 columns]"
      ]
     },
     "metadata": {},
     "output_type": "display_data"
    }
   ],
   "source": [
    "col_info(df_beta, df_beta.columns.to_list()[11])"
   ]
  },
  {
   "cell_type": "code",
   "execution_count": 62,
   "id": "69732722",
   "metadata": {
    "scrolled": false
   },
   "outputs": [
    {
     "name": "stdout",
     "output_type": "stream",
     "text": [
      "всего записей в столбце  description  =  84030\n",
      "NaN в столбце  description  =  3233 ,  в процентах =  4%\n",
      "уникальных в столбце  description  =  77568\n",
      "всего записей-дубликатов в столбце  description  =  11390\n"
     ]
    },
    {
     "data": {
      "text/html": [
       "<div>\n",
       "<style scoped>\n",
       "    .dataframe tbody tr th:only-of-type {\n",
       "        vertical-align: middle;\n",
       "    }\n",
       "\n",
       "    .dataframe tbody tr th {\n",
       "        vertical-align: top;\n",
       "    }\n",
       "\n",
       "    .dataframe thead th {\n",
       "        text-align: right;\n",
       "    }\n",
       "</style>\n",
       "<table border=\"1\" class=\"dataframe\">\n",
       "  <thead>\n",
       "    <tr style=\"text-align: right;\">\n",
       "      <th></th>\n",
       "      <th>description</th>\n",
       "    </tr>\n",
       "  </thead>\n",
       "  <tbody>\n",
       "    <tr>\n",
       "      <th>NaN</th>\n",
       "      <td>3233</td>\n",
       "    </tr>\n",
       "    <tr>\n",
       "      <th>РОЛЬФ Северо-Запад - это первый мегамолл автомобилей с пробегом, где на площади 27 000 кв.м. вас ждут 1 500 автомобилей с комфортными условиями покупки и выгодными предложениями.· Все автомобили проверены по стандартам РОЛЬФ и заводов-изготовителей· Более 50 брендов в различных ценовых категориях· Возможность приобретения выбранного автомобиля в кредит (более 10 Банков-партнеров: ЮниКредитБанк, Экспо Банк, Тинькофф Банк, Совкомбанк, Сетелем, Русфинанс Банк, Росгосстрах банк, МС Банк, Локо Банк ,Кредит Европа Банк, ВТБ, Банк УРАЛСИБ, Банк Союз, Банк Зенит, Балтинвестбанк).· Любые виды страхования автомобилей· Услуги ГИБДД (поставка на учет, прекращение учета, сохранение государственных знаков)· Гарантия юридической чистоты и безопасность сделки· Гарантия на автомобили различных марок сроком до 24 месяцев при общем пробеге до 200 000 кмДля Вашего удобства:• Онлайн-консультация по интересующему вас автомобилю.• Онлайн-бронирование и предоплата автомобилей.• Дистанционно-бесконтактный осмотр автомобиля.• Запись на сервисное обслуживание.Более 6 000 проверенных автомобилей с пробегом с гарантией до 2 лет ждут Вас в РОЛЬФ Северо-Запад.РОЛЬФ Северо-Запад, 71-й км. МКАД, 16А, стр.2</th>\n",
       "      <td>244</td>\n",
       "    </tr>\n",
       "    <tr>\n",
       "      <th>ПРИГЛАШАЕМ на бесплатный тест-драйв!\\nПРИ ПОКУПКЕ АВТОМОБИЛЯ В КРЕДИТ, СКИДКИ ДО 120 000 РУБЛЕЙ!\\nПредоставляем ГАРАНТИЮ на двигатель и коробку передач - 1 Год!\\nБолее 250 автомобилей на площадке!\\nСезонная резина в ПОДАРОК!*\\nРаботаем ежедневно , без праздников и выходных : 9:00 - 21:00!\\nКрытое хорошо освещенное помещение!\\n\\nВсе автомобили прошли:\\n- Криминалистическую и Юридическую проверку\\n- Комплексную Диагностику.\\n\\nУдобства для ВАС:\\n- Удобный подъезд со МКАД\\n- Парковка для клиентов\\n- Крытый шоу-рум\\n- Дополнительные комиссии отсутствуют.\\n- Возможна ПОКУПКА В КРЕДИТ по специальной ставке от 6,9%\\n- Оформление сделки за Час\\n\\n\\nАвтокредитование:\\n— Первоначальный взнос от 0%;\\n— Более 20 кредитных программ;\\n— Минимальный пакет документов – паспорт и вод. удостоверение;\\n— Срок кредита от 6 месяцев до 7 лет;\\n— Сумма кредита от 60 000 руб. до 3 000 000 рублей;\\n— Досрочное погашение без штрафов и комиссий;\\n— КАСКО – необязательно.\\nСотрудничаем с 15 аккредитованными и сертифицированными банками РФ, среднее время ожидания решения банка 20–30 минут.\\n\\nTrade in:\\nВозможна скидка до 30 000 рублей при покупке автомобиля по программе Trade-In (обмен на ваш автомобиль) или в кредит!\\n*Сезонная резина идет в подарок  При покупке автомобиля в Кредит!</th>\n",
       "      <td>156</td>\n",
       "    </tr>\n",
       "    <tr>\n",
       "      <th>...</th>\n",
       "      <td>...</td>\n",
       "    </tr>\n",
       "    <tr>\n",
       "      <th>Продам автомобиль Hyundai Solaris 2012г. выпуска. Максимальная по тому времени комплектация с климат-контролем. Один владелец. Реальный пробег. Эксплуатировался бережно,ТО делалось во время, автомобиль технически в идеальном состоянии. Есть зимняя резина на литых дисках R15.</th>\n",
       "      <td>1</td>\n",
       "    </tr>\n",
       "    <tr>\n",
       "      <th>В отличном состоянии никакой проблем нету сел и поехал остальные по телефону торг у капота</th>\n",
       "      <td>1</td>\n",
       "    </tr>\n",
       "    <tr>\n",
       "      <th>Авто в отличном состоянии всё работает. Большой вместительный минивэн повышенной проходимости: \\nКомплектация - предмаксимальная Elegance (отличие от максимальной - нет люка и салон тканевый).Есть зимнии шины практически новые. Последнее ТО 130ткм поменял шаровые опоры ремень ролики. Авто полностью готово к дальнейшей эксплуотации.</th>\n",
       "      <td>1</td>\n",
       "    </tr>\n",
       "  </tbody>\n",
       "</table>\n",
       "<p>77568 rows × 1 columns</p>\n",
       "</div>"
      ],
      "text/plain": [
       "                                                    description\n",
       "NaN                                                        3233\n",
       "РОЛЬФ Северо-Запад - это первый мегамолл автомо...          244\n",
       "ПРИГЛАШАЕМ на бесплатный тест-драйв!\\nПРИ ПОКУП...          156\n",
       "...                                                         ...\n",
       "Продам автомобиль Hyundai Solaris 2012г. выпуск...            1\n",
       "В отличном состоянии никакой проблем нету сел и...            1\n",
       "Авто в отличном состоянии всё работает. Большой...            1\n",
       "\n",
       "[77568 rows x 1 columns]"
      ]
     },
     "metadata": {},
     "output_type": "display_data"
    }
   ],
   "source": [
    "col_info(df_beta, df_beta.columns.to_list()[12])"
   ]
  },
  {
   "cell_type": "code",
   "execution_count": 63,
   "id": "b30ed9ea",
   "metadata": {},
   "outputs": [
    {
     "name": "stdout",
     "output_type": "stream",
     "text": [
      "всего записей в столбце  mileage  =  87263\n",
      "NaN в столбце  mileage  =  0 ,  в процентах =  0%\n",
      "уникальных в столбце  mileage  =  17403\n",
      "всего записей-дубликатов в столбце  mileage  =  72364\n"
     ]
    },
    {
     "data": {
      "text/html": [
       "<div>\n",
       "<style scoped>\n",
       "    .dataframe tbody tr th:only-of-type {\n",
       "        vertical-align: middle;\n",
       "    }\n",
       "\n",
       "    .dataframe tbody tr th {\n",
       "        vertical-align: top;\n",
       "    }\n",
       "\n",
       "    .dataframe thead th {\n",
       "        text-align: right;\n",
       "    }\n",
       "</style>\n",
       "<table border=\"1\" class=\"dataframe\">\n",
       "  <thead>\n",
       "    <tr style=\"text-align: right;\">\n",
       "      <th></th>\n",
       "      <th>mileage</th>\n",
       "    </tr>\n",
       "  </thead>\n",
       "  <tbody>\n",
       "    <tr>\n",
       "      <th>0</th>\n",
       "      <td>12017</td>\n",
       "    </tr>\n",
       "    <tr>\n",
       "      <th>200000</th>\n",
       "      <td>1133</td>\n",
       "    </tr>\n",
       "    <tr>\n",
       "      <th>150000</th>\n",
       "      <td>1042</td>\n",
       "    </tr>\n",
       "    <tr>\n",
       "      <th>...</th>\n",
       "      <td>...</td>\n",
       "    </tr>\n",
       "    <tr>\n",
       "      <th>61089</th>\n",
       "      <td>1</td>\n",
       "    </tr>\n",
       "    <tr>\n",
       "      <th>44004</th>\n",
       "      <td>1</td>\n",
       "    </tr>\n",
       "    <tr>\n",
       "      <th>191768</th>\n",
       "      <td>1</td>\n",
       "    </tr>\n",
       "  </tbody>\n",
       "</table>\n",
       "<p>17403 rows × 1 columns</p>\n",
       "</div>"
      ],
      "text/plain": [
       "        mileage\n",
       "0         12017\n",
       "200000     1133\n",
       "150000     1042\n",
       "...         ...\n",
       "61089         1\n",
       "44004         1\n",
       "191768        1\n",
       "\n",
       "[17403 rows x 1 columns]"
      ]
     },
     "metadata": {},
     "output_type": "display_data"
    }
   ],
   "source": [
    "col_info(df_beta, df_beta.columns.to_list()[13])"
   ]
  },
  {
   "cell_type": "code",
   "execution_count": 64,
   "id": "4dc781a2",
   "metadata": {
    "scrolled": true
   },
   "outputs": [
    {
     "name": "stdout",
     "output_type": "stream",
     "text": [
      "всего записей в столбце  комплектация  =  87263\n",
      "NaN в столбце  комплектация  =  0 ,  в процентах =  0%\n",
      "уникальных в столбце  комплектация  =  5839\n",
      "всего записей-дубликатов в столбце  комплектация  =  84667\n"
     ]
    },
    {
     "data": {
      "text/html": [
       "<div>\n",
       "<style scoped>\n",
       "    .dataframe tbody tr th:only-of-type {\n",
       "        vertical-align: middle;\n",
       "    }\n",
       "\n",
       "    .dataframe tbody tr th {\n",
       "        vertical-align: top;\n",
       "    }\n",
       "\n",
       "    .dataframe thead th {\n",
       "        text-align: right;\n",
       "    }\n",
       "</style>\n",
       "<table border=\"1\" class=\"dataframe\">\n",
       "  <thead>\n",
       "    <tr style=\"text-align: right;\">\n",
       "      <th></th>\n",
       "      <th>комплектация</th>\n",
       "    </tr>\n",
       "  </thead>\n",
       "  <tbody>\n",
       "    <tr>\n",
       "      <th>{'id': '0'}</th>\n",
       "      <td>58700</td>\n",
       "    </tr>\n",
       "    <tr>\n",
       "      <th>{'id': '21678548', 'name': 'Комфорт', 'available_options': ['cruise-control', 'multi-wheel', 'heated-wash-system', 'airbag-passenger', 'roof-rails', 'bas', 'lock', 'electro-mirrors', 'mirrors-heat', 'glonass', 'automatic-lighting-control', 'computer', 'seat-transformation', 'wheel-power', 'light-cleaner', 'fabric-seats', 'airbag-side', 'electro-trunk', 'abs', 'wheel-leather', 'climate-control-2', 'auto-mirrors', 'asr', 'tinted-glass', 'esp', 'usb', 'audiopreparation', 'front-centre-armrest', 'rear-camera', 'electro-window-back', '18-inch-wheels', 'reduce-spare-wheel', 'body-mouldings', 'driver-seat-updown', 'wheel-heat', 'led-lights', 'park-assist-r', 'knee-airbag', 'airbag-driver', 'isofix', 'aux', 'drive-mode-sys', 'electro-window-front', 'light-sensor', 'hcc', 'airbag-curtain', 'keyless-entry', 'alarm', 'leather-gear-stick', 'start-button', 'ptf', 'rain-sensor', 'tyre-pressure', 'front-seats-heat', 'bluetooth', 'wheel-configuration2', 'wheel-configuration1', 'immo', 'windscreen-heat', '12v-socket', 'third-rear-headrest'], 'vendor_colors': [{'body_color_id': 21678630, 'mark_color_id': 21391185, 'name_ru': 'Белый', 'hex_codes': ['FAFAFA'], 'color_type': 'NOT_METALLIC', 'stock_color': {'hex_code': 'FAFBFB', 'name_ru': 'белый'}, 'photos': [{'name': '34-front', 'sizes': {'orig': '//avatars.mds.yandex.net/get-verba/1540742/2a0000016d8bdffaf53d7b1dfeced506b919/orig', 'wizardv3mr': '//avatars.mds.yandex.net/get-verba/1540742/2a0000016d8bdffaf53d7b1dfeced506b919/wizardv3mr', 'wizardv3': '//avatars.mds.yandex.net/get-verba/1540742/2a0000016d8bdffaf53d7b1dfeced506b919/wizardv3', 'cattouch': '//avatars.mds.yandex.net/get-verba/1540742/2a0000016d8bdffaf53d7b1dfeced506b919/cattouch', 'small': '//avatars.mds.yandex.net/get-verba/1540742/2a0000016d8bdffaf53d7b1dfeced506b919/small', '320x240': '//avatars.mds.yandex.net/get-verba/1540742/2a0000016d8bdffaf53d7b1dfeced506b919/320x240', '1200x900': '//avatars.mds.yandex.net/get-verba/1540742/2a0000016d8bdffaf53d7b1dfeced506b919/1200x900', '1200x900n': '//avatars.mds.yandex.net/get-verba/1540742/2a0000016d8bdffaf53d7b1dfeced506b919/1200x900n', 'thumb_m': '//avatars.mds.yandex.net/get-verba/1540742/2a0000016d8bdffaf53d7b1dfeced506b919/thumb_m', 'full': '//avatars.mds.yandex.net/get-verba/1540742/2a0000016d8bdffaf53d7b1dfeced506b919/full', '832x624': '//avatars.mds.yandex.net/get-verba/1540742/2a0000016d8bdffaf53d7b1dfeced506b919/832x624', '456x342': '//avatars.mds.yandex.net/get-verba/1540742/2a0000016d8bdffaf53d7b1dfeced506b919/456x342', '120x90': '//avatars.mds.yandex.net/get-verba/1540742/2a0000016d8bdffaf53d7b1dfeced506b919/120x90', '92x69': '//avatars.mds.yandex.net/get-verba/1540742/2a0000016d8bdffaf53d7b1dfeced506b919/92x69', 'islandoff': '//avatars.mds.yandex.net/get-verba/1540742/2a0000016d8bdffaf53d7b1dfeced506b919/islandoff', 'thumb_s': '//avatars.mds.yandex.net/get-verba/1540742/2a0000016d8bdffaf53d7b1dfeced506b919/thumb_s', 'thumb_s_2x': '//avatars.mds.yandex.net/get-verba/1540742/2a0000016d8bdffaf53d7b1dfeced506b919/thumb_s_2x'}}, {'name': '34-back', 'sizes': {'orig': '//avatars.mds.yandex.net/get-verba/1540742/2a0000016d8be007db8b6e3556c7d7665608/orig', 'wizardv3mr': '//avatars.mds.yandex.net/get-verba/1540742/2a0000016d8be007db8b6e3556c7d7665608/wizardv3mr', 'wizardv3': '//avatars.mds.yandex.net/get-verba/1540742/2a0000016d8be007db8b6e3556c7d7665608/wizardv3', 'cattouch': '//avatars.mds.yandex.net/get-verba/1540742/2a0000016d8be007db8b6e3556c7d7665608/cattouch', 'small': '//avatars.mds.yandex.net/get-verba/1540742/2a0000016d8be007db8b6e3556c7d7665608/small', '320x240': '//avatars.mds.yandex.net/get-verba/1540742/2a0000016d8be007db8b6e3556c7d7665608/320x240', '1200x900': '//avatars.mds.yandex.net/get-verba/1540742/2a0000016d8be007db8b6e3556c7d7665608/1200x900', '1200x900n': '//avatars.mds.yandex.net/get-verba/1540742/2a0000016d8be007db8b6e3556c7d7665608/1200x900n', 'thumb_m': '//avatars.mds.yandex.net/get-verba/1540742/2a0000016d8be007db8b6e3556c7d7665608/thumb_m', 'full': '//avatars.mds.yandex.net/get-verba/1540742/2a0000016d8be007db8b6e3556c7d7665608/full', '832x624': '//avatars.mds.yandex.net/get-verba/1540742/2a0000016d8be007db8b6e3556c7d7665608/832x624', '456x342': '//avatars.mds.yandex.net/get-verba/1540742/2a0000016d8be007db8b6e3556c7d7665608/456x342', '120x90': '//avatars.mds.yandex.net/get-verba/1540742/2a0000016d8be007db8b6e3556c7d7665608/120x90', '92x69': '//avatars.mds.yandex.net/get-verba/1540742/2a0000016d8be007db8b6e3556c7d7665608/92x69', 'islandoff': '//avatars.mds.yandex.net/get-verba/1540742/2a0000016d8be007db8b6e3556c7d7665608/islandoff', 'thumb_s': '//avatars.mds.yandex.net/get-verba/1540742/2a0000016d8be007db8b6e3556c7d7665608/thumb_s', 'thumb_s_2x': '//avatars.mds.yandex.net/get-verba/1540742/2a0000016d8be007db8b6e3556c7d7665608/thumb_s_2x'}}, {'name': 'side', 'sizes': {'orig': '//avatars.mds.yandex.net/get-verba/1030388/2a0000016d8be01a869b95822db0065d05cf/orig', 'wizardv3mr': '//avatars.mds.yandex.net/get-verba/1030388/2a0000016d8be01a869b95822db0065d05cf/wizardv3mr', 'wizardv3': '//avatars.mds.yandex.net/get-verba/1030388/2a0000016d8be01a869b95822db0065d05cf/wizardv3', 'cattouch': '//avatars.mds.yandex.net/get-verba/1030388/2a0000016d8be01a869b95822db0065d05cf/cattouch', 'small': '//avatars.mds.yandex.net/get-verba/1030388/2a0000016d8be01a869b95822db0065d05cf/small', '320x240': '//avatars.mds.yandex.net/get-verba/1030388/2a0000016d8be01a869b95822db0065d05cf/320x240', '1200x900': '//avatars.mds.yandex.net/get-verba/1030388/2a0000016d8be01a869b95822db0065d05cf/1200x900', '1200x900n': '//avatars.mds.yandex.net/get-verba/1030388/2a0000016d8be01a869b95822db0065d05cf/1200x900n', 'thumb_m': '//avatars.mds.yandex.net/get-verba/1030388/2a0000016d8be01a869b95822db0065d05cf/thumb_m', 'full': '//avatars.mds.yandex.net/get-verba/1030388/2a0000016d8be01a869b95822db0065d05cf/full', '832x624': '//avatars.mds.yandex.net/get-verba/1030388/2a0000016d8be01a869b95822db0065d05cf/832x624', '456x342': '//avatars.mds.yandex.net/get-verba/1030388/2a0000016d8be01a869b95822db0065d05cf/456x342', '120x90': '//avatars.mds.yandex.net/get-verba/1030388/2a0000016d8be01a869b95822db0065d05cf/120x90', '92x69': '//avatars.mds.yandex.net/get-verba/1030388/2a0000016d8be01a869b95822db0065d05cf/92x69', 'islandoff': '//avatars.mds.yandex.net/get-verba/1030388/2a0000016d8be01a869b95822db0065d05cf/islandoff', 'thumb_s': '//avatars.mds.yandex.net/get-verba/1030388/2a0000016d8be01a869b95822db0065d05cf/thumb_s', 'thumb_s_2x': '//avatars.mds.yandex.net/get-verba/1030388/2a0000016d8be01a869b95822db0065d05cf/thumb_s_2x'}}, {'name': 'front', 'sizes': {'orig': '//avatars.mds.yandex.net/get-verba/787013/2a0000016d8be026808abfeae8aa0bc5b746/orig', 'wizardv3mr': '//avatars.mds.yandex.net/get-verba/787013/2a0000016d8be026808abfeae8aa0bc5b746/wizardv3mr', 'wizardv3': '//avatars.mds.yandex.net/get-verba/787013/2a0000016d8be026808abfeae8aa0bc5b746/wizardv3', 'cattouch': '//avatars.mds.yandex.net/get-verba/787013/2a0000016d8be026808abfeae8aa0bc5b746/cattouch', 'small': '//avatars.mds.yandex.net/get-verba/787013/2a0000016d8be026808abfeae8aa0bc5b746/small', '320x240': '//avatars.mds.yandex.net/get-verba/787013/2a0000016d8be026808abfeae8aa0bc5b746/320x240', '1200x900': '//avatars.mds.yandex.net/get-verba/787013/2a0000016d8be026808abfeae8aa0bc5b746/1200x900', '1200x900n': '//avatars.mds.yandex.net/get-verba/787013/2a0000016d8be026808abfeae8aa0bc5b746/1200x900n', 'thumb_m': '//avatars.mds.yandex.net/get-verba/787013/2a0000016d8be026808abfeae8aa0bc5b746/thumb_m', 'full': '//avatars.mds.yandex.net/get-verba/787013/2a0000016d8be026808abfeae8aa0bc5b746/full', '832x624': '//avatars.mds.yandex.net/get-verba/787013/2a0000016d8be026808abfeae8aa0bc5b746/832x624', '456x342': '//avatars.mds.yandex.net/get-verba/787013/2a0000016d8be026808abfeae8aa0bc5b746/456x342', '120x90': '//avatars.mds.yandex.net/get-verba/787013/2a0000016d8be026808abfeae8aa0bc5b746/120x90', '92x69': '//avatars.mds.yandex.net/get-verba/787013/2a0000016d8be026808abfeae8aa0bc5b746/92x69', 'islandoff': '//avatars.mds.yandex.net/get-verba/787013/2a0000016d8be026808abfeae8aa0bc5b746/islandoff', 'thumb_s': '//avatars.mds.yandex.net/get-verba/787013/2a0000016d8be026808abfeae8aa0bc5b746/thumb_s', 'thumb_s_2x': '//avatars.mds.yandex.net/get-verba/787013/2a0000016d8be026808abfeae8aa0bc5b746/thumb_s_2x'}}, {'name': 'back', 'sizes': {'orig': '//avatars.mds.yandex.net/get-verba/1030388/2a0000016d8be03745ab3ccb2b30d2939c9f/orig', 'wizardv3mr': '//avatars.mds.yandex.net/get-verba/1030388/2a0000016d8be03745ab3ccb2b30d2939c9f/wizardv3mr', 'wizardv3': '//avatars.mds.yandex.net/get-verba/1030388/2a0000016d8be03745ab3ccb2b30d2939c9f/wizardv3', 'cattouch': '//avatars.mds.yandex.net/get-verba/1030388/2a0000016d8be03745ab3ccb2b30d2939c9f/cattouch', 'small': '//avatars.mds.yandex.net/get-verba/1030388/2a0000016d8be03745ab3ccb2b30d2939c9f/small', '320x240': '//avatars.mds.yandex.net/get-verba/1030388/2a0000016d8be03745ab3ccb2b30d2939c9f/320x240', '1200x900': '//avatars.mds.yandex.net/get-verba/1030388/2a0000016d8be03745ab3ccb2b30d2939c9f/1200x900', '1200x900n': '//avatars.mds.yandex.net/get-verba/1030388/2a0000016d8be03745ab3ccb2b30d2939c9f/1200x900n', 'thumb_m': '//avatars.mds.yandex.net/get-verba/1030388/2a0000016d8be03745ab3ccb2b30d2939c9f/thumb_m', 'full': '//avatars.mds.yandex.net/get-verba/1030388/2a0000016d8be03745ab3ccb2b30d2939c9f/full', '832x624': '//avatars.mds.yandex.net/get-verba/1030388/2a0000016d8be03745ab3ccb2b30d2939c9f/832x624', '456x342': '//avatars.mds.yandex.net/get-verba/1030388/2a0000016d8be03745ab3ccb2b30d2939c9f/456x342', '120x90': '//avatars.mds.yandex.net/get-verba/1030388/2a0000016d8be03745ab3ccb2b30d2939c9f/120x90', '92x69': '//avatars.mds.yandex.net/get-verba/1030388/2a0000016d8be03745ab3ccb2b30d2939c9f/92x69', 'islandoff': '//avatars.mds.yandex.net/get-verba/1030388/2a0000016d8be03745ab3ccb2b30d2939c9f/islandoff', 'thumb_s': '//avatars.mds.yandex.net/get-verba/1030388/2a0000016d8be03745ab3ccb2b30d2939c9f/thumb_s', 'thumb_s_2x': '//avatars.mds.yandex.net/get-verba/1030388/2a0000016d8be03745ab3ccb2b30d2939c9f/thumb_s_2x'}}], 'main_color': True}]}</th>\n",
       "      <td>211</td>\n",
       "    </tr>\n",
       "    <tr>\n",
       "      <th>{'id': '21426455', 'name': '450 4MATIC Sport Plus', 'available_options': ['cruise-control', 'multi-wheel', 'heated-wash-system', 'airbag-passenger', 'navigation', 'roof-rails', 'lock', 'door-sill-panel', 'electro-mirrors', 'easy-trunk-opening', 'mirrors-heat', 'power-latching-doors', 'volume-sensor', 'leather', 'seat-memory', 'start-stop-function', 'computer', 'seat-transformation', 'android-auto', 'wheel-power', 'airbag-side', 'electro-trunk', 'abs', 'wheel-leather', 'auto-mirrors', 'tinted-glass', 'esp', 'adaptive-light', 'usb', 'windcleaner-heat', 'front-centre-armrest', 'apple-carplay', '20-inch-wheels', 'rear-camera', 'electro-window-back', 'multizone-climate-control', 'park-assist-f', 'wheel-heat', 'led-lights', 'music-super', 'park-assist-r', 'airbag-driver', 'isofix', 'aux', 'electro-window-front', 'light-sensor', 'hcc', 'airbag-curtain', 'keyless-entry', 'passenger-seat-electric', 'alarm', 'paint-metallic', 'leather-gear-stick', 'traffic-sign-recognition', 'start-button', 'rain-sensor', 'tyre-pressure', 'panorama-roof', 'power-child-locks-rear-doors', 'bluetooth', 'wheel-configuration2', 'wheel-configuration1', 'immo', 'windscreen-heat', '12v-socket', '360-camera'], 'vendor_colors': [{'body_color_id': 21618201, 'mark_color_id': 21389965, 'name_ru': 'Серый Селенит', 'hex_codes': ['65696E'], 'color_type': 'METALLIC', 'stock_color': {'hex_code': '97948F', 'name_ru': 'серый'}, 'photos': [{'name': '34-front', 'sizes': {'orig': '//avatars.mds.yandex.net/get-verba/1672712/2a0000016bd677481a0900561484bdbb3604/orig', 'wizardv3mr': '//avatars.mds.yandex.net/get-verba/1672712/2a0000016bd677481a0900561484bdbb3604/wizardv3mr', 'wizardv3': '//avatars.mds.yandex.net/get-verba/1672712/2a0000016bd677481a0900561484bdbb3604/wizardv3', 'cattouch': '//avatars.mds.yandex.net/get-verba/1672712/2a0000016bd677481a0900561484bdbb3604/cattouch', 'small': '//avatars.mds.yandex.net/get-verba/1672712/2a0000016bd677481a0900561484bdbb3604/small', '320x240': '//avatars.mds.yandex.net/get-verba/1672712/2a0000016bd677481a0900561484bdbb3604/320x240', '1200x900': '//avatars.mds.yandex.net/get-verba/1672712/2a0000016bd677481a0900561484bdbb3604/1200x900', '1200x900n': '//avatars.mds.yandex.net/get-verba/1672712/2a0000016bd677481a0900561484bdbb3604/1200x900n', 'thumb_m': '//avatars.mds.yandex.net/get-verba/1672712/2a0000016bd677481a0900561484bdbb3604/thumb_m', 'full': '//avatars.mds.yandex.net/get-verba/1672712/2a0000016bd677481a0900561484bdbb3604/full', '832x624': '//avatars.mds.yandex.net/get-verba/1672712/2a0000016bd677481a0900561484bdbb3604/832x624', '456x342': '//avatars.mds.yandex.net/get-verba/1672712/2a0000016bd677481a0900561484bdbb3604/456x342', '120x90': '//avatars.mds.yandex.net/get-verba/1672712/2a0000016bd677481a0900561484bdbb3604/120x90', '92x69': '//avatars.mds.yandex.net/get-verba/1672712/2a0000016bd677481a0900561484bdbb3604/92x69', 'islandoff': '//avatars.mds.yandex.net/get-verba/1672712/2a0000016bd677481a0900561484bdbb3604/islandoff', 'thumb_s': '//avatars.mds.yandex.net/get-verba/1672712/2a0000016bd677481a0900561484bdbb3604/thumb_s', 'thumb_s_2x': '//avatars.mds.yandex.net/get-verba/1672712/2a0000016bd677481a0900561484bdbb3604/thumb_s_2x'}}], 'main_color': True}]}</th>\n",
       "      <td>173</td>\n",
       "    </tr>\n",
       "    <tr>\n",
       "      <th>...</th>\n",
       "      <td>...</td>\n",
       "    </tr>\n",
       "    <tr>\n",
       "      <th>{'id': '20967603', 'name': 'GT', 'available_options': ['cruise-control', 'multi-wheel', 'auto-park', 'xenon', 'airbag-passenger', 'navigation', 'lock', 'door-sill-panel', 'electro-mirrors', 'mirrors-heat', 'leather', 'seat-memory', 'sport-pedals', 'front-seats-heat-vent', 'automatic-lighting-control', 'computer', 'seat-transformation', 'wheel-power', 'light-cleaner', 'airbag-side', 'abs', 'wheel-leather', 'climate-control-1', 'auto-mirrors', 'esp', 'adaptive-light', 'usb', 'windcleaner-heat', 'audiopreparation', 'front-centre-armrest', 'rear-camera', 'steering-wheel-gear-shift-paddles', 'electro-window-back', '18-inch-wheels', 'hatch', 'park-assist-f', 'rear-seats-heat', 'wheel-heat', 'music-super', 'park-assist-r', 'knee-airbag', 'airbag-driver', 'isofix', 'aux', 'roller-blinds-for-rear-side-windows', 'electro-window-front', 'light-sensor', 'hcc', 'airbag-curtain', 'keyless-entry', 'passenger-seat-electric', 'paint-metallic', 'leather-gear-stick', 'blind-spot', 'start-button', 'rain-sensor', 'audiosystem-cd', 'panorama-roof', 'front-seats-heat', 'power-child-locks-rear-doors', 'bluetooth', 'wheel-configuration2', 'wheel-configuration1', 'immo', '12v-socket', 'third-rear-headrest', '360-camera']}</th>\n",
       "      <td>1</td>\n",
       "    </tr>\n",
       "    <tr>\n",
       "      <th>{'id': '20967603', 'name': 'GT', 'available_options': ['cruise-control', 'multi-wheel', 'auto-park', 'xenon', 'airbag-passenger', 'navigation', 'lock', 'door-sill-panel', 'electro-mirrors', 'mirrors-heat', 'leather', 'seat-memory', 'sport-pedals', 'front-seats-heat-vent', 'automatic-lighting-control', 'computer', 'seat-transformation', 'wheel-power', 'light-cleaner', 'airbag-side', 'abs', 'wheel-leather', 'climate-control-1', 'auto-mirrors', 'esp', 'adaptive-light', 'usb', 'windcleaner-heat', 'audiopreparation', 'front-centre-armrest', 'rear-camera', 'steering-wheel-gear-shift-paddles', 'electro-window-back', '18-inch-wheels', 'hatch', 'park-assist-f', 'rear-seats-heat', 'wheel-heat', 'music-super', 'park-assist-r', 'knee-airbag', 'airbag-driver', 'isofix', 'aux', 'roller-blinds-for-rear-side-windows', 'electro-window-front', 'light-sensor', 'hcc', 'airbag-curtain', 'keyless-entry', 'passenger-seat-electric', 'paint-metallic', 'leather-gear-stick', 'blind-spot', 'start-button', 'rain-sensor', 'audiosystem-cd', 'panorama-roof', 'front-seats-heat', 'power-child-locks-rear-doors', 'bluetooth', 'wheel-configuration2', 'wheel-configuration1', 'immo', '12v-socket', 'third-rear-headrest', '360-camera'], 'vendor_colors': [{'body_color_id': 21428467, 'mark_color_id': 21389095, 'name_ru': 'Gravity Blue', 'hex_codes': ['2E4770'], 'color_type': 'METALLIC', 'stock_color': {'hex_code': '0000CC', 'name_ru': 'синий'}, 'photos': [{'name': '34-front', 'sizes': {'orig': '//avatars.mds.yandex.net/get-verba/787013/2a00000169bf6ea8e191d2dac3f3fdaf83d3/orig', 'wizardv3mr': '//avatars.mds.yandex.net/get-verba/787013/2a00000169bf6ea8e191d2dac3f3fdaf83d3/wizardv3mr', 'wizardv3': '//avatars.mds.yandex.net/get-verba/787013/2a00000169bf6ea8e191d2dac3f3fdaf83d3/wizardv3', 'cattouch': '//avatars.mds.yandex.net/get-verba/787013/2a00000169bf6ea8e191d2dac3f3fdaf83d3/cattouch', 'small': '//avatars.mds.yandex.net/get-verba/787013/2a00000169bf6ea8e191d2dac3f3fdaf83d3/small', '320x240': '//avatars.mds.yandex.net/get-verba/787013/2a00000169bf6ea8e191d2dac3f3fdaf83d3/320x240', '1200x900': '//avatars.mds.yandex.net/get-verba/787013/2a00000169bf6ea8e191d2dac3f3fdaf83d3/1200x900', '1200x900n': '//avatars.mds.yandex.net/get-verba/787013/2a00000169bf6ea8e191d2dac3f3fdaf83d3/1200x900n', 'thumb_m': '//avatars.mds.yandex.net/get-verba/787013/2a00000169bf6ea8e191d2dac3f3fdaf83d3/thumb_m', 'full': '//avatars.mds.yandex.net/get-verba/787013/2a00000169bf6ea8e191d2dac3f3fdaf83d3/full', '832x624': '//avatars.mds.yandex.net/get-verba/787013/2a00000169bf6ea8e191d2dac3f3fdaf83d3/832x624', '456x342': '//avatars.mds.yandex.net/get-verba/787013/2a00000169bf6ea8e191d2dac3f3fdaf83d3/456x342', '120x90': '//avatars.mds.yandex.net/get-verba/787013/2a00000169bf6ea8e191d2dac3f3fdaf83d3/120x90', '92x69': '//avatars.mds.yandex.net/get-verba/787013/2a00000169bf6ea8e191d2dac3f3fdaf83d3/92x69', 'islandoff': '//avatars.mds.yandex.net/get-verba/787013/2a00000169bf6ea8e191d2dac3f3fdaf83d3/islandoff', 'thumb_s': '//avatars.mds.yandex.net/get-verba/787013/2a00000169bf6ea8e191d2dac3f3fdaf83d3/thumb_s', 'thumb_s_2x': '//avatars.mds.yandex.net/get-verba/787013/2a00000169bf6ea8e191d2dac3f3fdaf83d3/thumb_s_2x'}}, {'name': '34-back', 'sizes': {'orig': '//avatars.mds.yandex.net/get-verba/937147/2a00000169bf6ebd6f67841792a87a71a105/orig', 'wizardv3mr': '//avatars.mds.yandex.net/get-verba/937147/2a00000169bf6ebd6f67841792a87a71a105/wizardv3mr', 'wizardv3': '//avatars.mds.yandex.net/get-verba/937147/2a00000169bf6ebd6f67841792a87a71a105/wizardv3', 'cattouch': '//avatars.mds.yandex.net/get-verba/937147/2a00000169bf6ebd6f67841792a87a71a105/cattouch', 'small': '//avatars.mds.yandex.net/get-verba/937147/2a00000169bf6ebd6f67841792a87a71a105/small', '320x240': '//avatars.mds.yandex.net/get-verba/937147/2a00000169bf6ebd6f67841792a87a71a105/320x240', '1200x900': '//avatars.mds.yandex.net/get-verba/937147/2a00000169bf6ebd6f67841792a87a71a105/1200x900', '1200x900n': '//avatars.mds.yandex.net/get-verba/937147/2a00000169bf6ebd6f67841792a87a71a105/1200x900n', 'thumb_m': '//avatars.mds.yandex.net/get-verba/937147/2a00000169bf6ebd6f67841792a87a71a105/thumb_m', 'full': '//avatars.mds.yandex.net/get-verba/937147/2a00000169bf6ebd6f67841792a87a71a105/full', '832x624': '//avatars.mds.yandex.net/get-verba/937147/2a00000169bf6ebd6f67841792a87a71a105/832x624', '456x342': '//avatars.mds.yandex.net/get-verba/937147/2a00000169bf6ebd6f67841792a87a71a105/456x342', '120x90': '//avatars.mds.yandex.net/get-verba/937147/2a00000169bf6ebd6f67841792a87a71a105/120x90', '92x69': '//avatars.mds.yandex.net/get-verba/937147/2a00000169bf6ebd6f67841792a87a71a105/92x69', 'islandoff': '//avatars.mds.yandex.net/get-verba/937147/2a00000169bf6ebd6f67841792a87a71a105/islandoff', 'thumb_s': '//avatars.mds.yandex.net/get-verba/937147/2a00000169bf6ebd6f67841792a87a71a105/thumb_s', 'thumb_s_2x': '//avatars.mds.yandex.net/get-verba/937147/2a00000169bf6ebd6f67841792a87a71a105/thumb_s_2x'}}, {'name': 'side', 'sizes': {'orig': '//avatars.mds.yandex.net/get-verba/1672712/2a00000169bf6ecf1b95f742b241e600b071/orig', 'wizardv3mr': '//avatars.mds.yandex.net/get-verba/1672712/2a00000169bf6ecf1b95f742b241e600b071/wizardv3mr', 'wizardv3': '//avatars.mds.yandex.net/get-verba/1672712/2a00000169bf6ecf1b95f742b241e600b071/wizardv3', 'cattouch': '//avatars.mds.yandex.net/get-verba/1672712/2a00000169bf6ecf1b95f742b241e600b071/cattouch', 'small': '//avatars.mds.yandex.net/get-verba/1672712/2a00000169bf6ecf1b95f742b241e600b071/small', '320x240': '//avatars.mds.yandex.net/get-verba/1672712/2a00000169bf6ecf1b95f742b241e600b071/320x240', '1200x900': '//avatars.mds.yandex.net/get-verba/1672712/2a00000169bf6ecf1b95f742b241e600b071/1200x900', '1200x900n': '//avatars.mds.yandex.net/get-verba/1672712/2a00000169bf6ecf1b95f742b241e600b071/1200x900n', 'thumb_m': '//avatars.mds.yandex.net/get-verba/1672712/2a00000169bf6ecf1b95f742b241e600b071/thumb_m', 'full': '//avatars.mds.yandex.net/get-verba/1672712/2a00000169bf6ecf1b95f742b241e600b071/full', '832x624': '//avatars.mds.yandex.net/get-verba/1672712/2a00000169bf6ecf1b95f742b241e600b071/832x624', '456x342': '//avatars.mds.yandex.net/get-verba/1672712/2a00000169bf6ecf1b95f742b241e600b071/456x342', '120x90': '//avatars.mds.yandex.net/get-verba/1672712/2a00000169bf6ecf1b95f742b241e600b071/120x90', '92x69': '//avatars.mds.yandex.net/get-verba/1672712/2a00000169bf6ecf1b95f742b241e600b071/92x69', 'islandoff': '//avatars.mds.yandex.net/get-verba/1672712/2a00000169bf6ecf1b95f742b241e600b071/islandoff', 'thumb_s': '//avatars.mds.yandex.net/get-verba/1672712/2a00000169bf6ecf1b95f742b241e600b071/thumb_s', 'thumb_s_2x': '//avatars.mds.yandex.net/get-verba/1672712/2a00000169bf6ecf1b95f742b241e600b071/thumb_s_2x'}}, {'name': 'front', 'sizes': {'orig': '//avatars.mds.yandex.net/get-verba/1540742/2a00000169bf6ee187d25b8788104506179f/orig', 'wizardv3mr': '//avatars.mds.yandex.net/get-verba/1540742/2a00000169bf6ee187d25b8788104506179f/wizardv3mr', 'wizardv3': '//avatars.mds.yandex.net/get-verba/1540742/2a00000169bf6ee187d25b8788104506179f/wizardv3', 'cattouch': '//avatars.mds.yandex.net/get-verba/1540742/2a00000169bf6ee187d25b8788104506179f/cattouch', 'small': '//avatars.mds.yandex.net/get-verba/1540742/2a00000169bf6ee187d25b8788104506179f/small', '320x240': '//avatars.mds.yandex.net/get-verba/1540742/2a00000169bf6ee187d25b8788104506179f/320x240', '1200x900': '//avatars.mds.yandex.net/get-verba/1540742/2a00000169bf6ee187d25b8788104506179f/1200x900', '1200x900n': '//avatars.mds.yandex.net/get-verba/1540742/2a00000169bf6ee187d25b8788104506179f/1200x900n', 'thumb_m': '//avatars.mds.yandex.net/get-verba/1540742/2a00000169bf6ee187d25b8788104506179f/thumb_m', 'full': '//avatars.mds.yandex.net/get-verba/1540742/2a00000169bf6ee187d25b8788104506179f/full', '832x624': '//avatars.mds.yandex.net/get-verba/1540742/2a00000169bf6ee187d25b8788104506179f/832x624', '456x342': '//avatars.mds.yandex.net/get-verba/1540742/2a00000169bf6ee187d25b8788104506179f/456x342', '120x90': '//avatars.mds.yandex.net/get-verba/1540742/2a00000169bf6ee187d25b8788104506179f/120x90', '92x69': '//avatars.mds.yandex.net/get-verba/1540742/2a00000169bf6ee187d25b8788104506179f/92x69', 'islandoff': '//avatars.mds.yandex.net/get-verba/1540742/2a00000169bf6ee187d25b8788104506179f/islandoff', 'thumb_s': '//avatars.mds.yandex.net/get-verba/1540742/2a00000169bf6ee187d25b8788104506179f/thumb_s', 'thumb_s_2x': '//avatars.mds.yandex.net/get-verba/1540742/2a00000169bf6ee187d25b8788104506179f/thumb_s_2x'}}, {'name': 'back', 'sizes': {'orig': '//avatars.mds.yandex.net/get-verba/1540742/2a00000169bf6eed16928b999f96923e7d5a/orig', 'wizardv3mr': '//avatars.mds.yandex.net/get-verba/1540742/2a00000169bf6eed16928b999f96923e7d5a/wizardv3mr', 'wizardv3': '//avatars.mds.yandex.net/get-verba/1540742/2a00000169bf6eed16928b999f96923e7d5a/wizardv3', 'cattouch': '//avatars.mds.yandex.net/get-verba/1540742/2a00000169bf6eed16928b999f96923e7d5a/cattouch', 'small': '//avatars.mds.yandex.net/get-verba/1540742/2a00000169bf6eed16928b999f96923e7d5a/small', '320x240': '//avatars.mds.yandex.net/get-verba/1540742/2a00000169bf6eed16928b999f96923e7d5a/320x240', '1200x900': '//avatars.mds.yandex.net/get-verba/1540742/2a00000169bf6eed16928b999f96923e7d5a/1200x900', '1200x900n': '//avatars.mds.yandex.net/get-verba/1540742/2a00000169bf6eed16928b999f96923e7d5a/1200x900n', 'thumb_m': '//avatars.mds.yandex.net/get-verba/1540742/2a00000169bf6eed16928b999f96923e7d5a/thumb_m', 'full': '//avatars.mds.yandex.net/get-verba/1540742/2a00000169bf6eed16928b999f96923e7d5a/full', '832x624': '//avatars.mds.yandex.net/get-verba/1540742/2a00000169bf6eed16928b999f96923e7d5a/832x624', '456x342': '//avatars.mds.yandex.net/get-verba/1540742/2a00000169bf6eed16928b999f96923e7d5a/456x342', '120x90': '//avatars.mds.yandex.net/get-verba/1540742/2a00000169bf6eed16928b999f96923e7d5a/120x90', '92x69': '//avatars.mds.yandex.net/get-verba/1540742/2a00000169bf6eed16928b999f96923e7d5a/92x69', 'islandoff': '//avatars.mds.yandex.net/get-verba/1540742/2a00000169bf6eed16928b999f96923e7d5a/islandoff', 'thumb_s': '//avatars.mds.yandex.net/get-verba/1540742/2a00000169bf6eed16928b999f96923e7d5a/thumb_s', 'thumb_s_2x': '//avatars.mds.yandex.net/get-verba/1540742/2a00000169bf6eed16928b999f96923e7d5a/thumb_s_2x'}}], 'main_color': False}]}</th>\n",
       "      <td>1</td>\n",
       "    </tr>\n",
       "    <tr>\n",
       "      <th>{'id': '10408081', 'name': 'Elegance', 'available_options': ['cruise-control', 'multi-wheel', 'airbag-passenger', 'roof-rails', 'lock', 'electro-mirrors', 'mirrors-heat', 'seat-transformation', 'wheel-power', 'fabric-seats', 'airbag-side', 'abs', 'wheel-leather', 'third-row-seats', 'climate-control-1', 'auto-mirrors', 'esp', 'usb', 'audiopreparation', 'electro-window-back', '17-inch-wheels', 'body-mouldings', 'wheel-heat', 'condition', 'park-assist-r', 'airbag-driver', 'isofix', 'electro-window-front', 'alarm', 'leather-gear-stick', 'ptf', 'rain-sensor', 'audiosystem-cd', 'front-seats-heat', 'bluetooth', 'wheel-configuration1', 'immo', 'third-rear-headrest'], 'vendor_colors': [{'body_color_id': 20620330, 'mark_color_id': 21391020, 'name_ru': 'Серый', 'color_type': 'METALLIC', 'stock_color': {'hex_code': '97948F', 'name_ru': 'серый'}, 'photos': [{'name': '34-front', 'sizes': {'orig': '//avatars.mds.yandex.net/get-verba/937147/2a000001609d0560d6a252f9023649f03306/orig', 'wizardv3mr': '//avatars.mds.yandex.net/get-verba/937147/2a000001609d0560d6a252f9023649f03306/wizardv3mr', 'wizardv3': '//avatars.mds.yandex.net/get-verba/937147/2a000001609d0560d6a252f9023649f03306/wizardv3', 'cattouch': '//avatars.mds.yandex.net/get-verba/937147/2a000001609d0560d6a252f9023649f03306/cattouch', 'small': '//avatars.mds.yandex.net/get-verba/937147/2a000001609d0560d6a252f9023649f03306/small', '320x240': '//avatars.mds.yandex.net/get-verba/937147/2a000001609d0560d6a252f9023649f03306/320x240', '1200x900': '//avatars.mds.yandex.net/get-verba/937147/2a000001609d0560d6a252f9023649f03306/1200x900', '1200x900n': '//avatars.mds.yandex.net/get-verba/937147/2a000001609d0560d6a252f9023649f03306/1200x900n', 'thumb_m': '//avatars.mds.yandex.net/get-verba/937147/2a000001609d0560d6a252f9023649f03306/thumb_m', 'full': '//avatars.mds.yandex.net/get-verba/937147/2a000001609d0560d6a252f9023649f03306/full', '832x624': '//avatars.mds.yandex.net/get-verba/937147/2a000001609d0560d6a252f9023649f03306/832x624', '456x342': '//avatars.mds.yandex.net/get-verba/937147/2a000001609d0560d6a252f9023649f03306/456x342', '120x90': '//avatars.mds.yandex.net/get-verba/937147/2a000001609d0560d6a252f9023649f03306/120x90', '92x69': '//avatars.mds.yandex.net/get-verba/937147/2a000001609d0560d6a252f9023649f03306/92x69', 'islandoff': '//avatars.mds.yandex.net/get-verba/937147/2a000001609d0560d6a252f9023649f03306/islandoff', 'thumb_s': '//avatars.mds.yandex.net/get-verba/937147/2a000001609d0560d6a252f9023649f03306/thumb_s', 'thumb_s_2x': '//avatars.mds.yandex.net/get-verba/937147/2a000001609d0560d6a252f9023649f03306/thumb_s_2x'}}, {'name': '34-back', 'sizes': {'orig': '//avatars.mds.yandex.net/get-verba/787013/2a000001609cf51a968fb7eb8de0d4274862/orig', 'wizardv3mr': '//avatars.mds.yandex.net/get-verba/787013/2a000001609cf51a968fb7eb8de0d4274862/wizardv3mr', 'wizardv3': '//avatars.mds.yandex.net/get-verba/787013/2a000001609cf51a968fb7eb8de0d4274862/wizardv3', 'cattouch': '//avatars.mds.yandex.net/get-verba/787013/2a000001609cf51a968fb7eb8de0d4274862/cattouch', 'small': '//avatars.mds.yandex.net/get-verba/787013/2a000001609cf51a968fb7eb8de0d4274862/small', '320x240': '//avatars.mds.yandex.net/get-verba/787013/2a000001609cf51a968fb7eb8de0d4274862/320x240', '1200x900': '//avatars.mds.yandex.net/get-verba/787013/2a000001609cf51a968fb7eb8de0d4274862/1200x900', '1200x900n': '//avatars.mds.yandex.net/get-verba/787013/2a000001609cf51a968fb7eb8de0d4274862/1200x900n', 'thumb_m': '//avatars.mds.yandex.net/get-verba/787013/2a000001609cf51a968fb7eb8de0d4274862/thumb_m', 'full': '//avatars.mds.yandex.net/get-verba/787013/2a000001609cf51a968fb7eb8de0d4274862/full', '832x624': '//avatars.mds.yandex.net/get-verba/787013/2a000001609cf51a968fb7eb8de0d4274862/832x624', '456x342': '//avatars.mds.yandex.net/get-verba/787013/2a000001609cf51a968fb7eb8de0d4274862/456x342', '120x90': '//avatars.mds.yandex.net/get-verba/787013/2a000001609cf51a968fb7eb8de0d4274862/120x90', '92x69': '//avatars.mds.yandex.net/get-verba/787013/2a000001609cf51a968fb7eb8de0d4274862/92x69', 'islandoff': '//avatars.mds.yandex.net/get-verba/787013/2a000001609cf51a968fb7eb8de0d4274862/islandoff', 'thumb_s': '//avatars.mds.yandex.net/get-verba/787013/2a000001609cf51a968fb7eb8de0d4274862/thumb_s', 'thumb_s_2x': '//avatars.mds.yandex.net/get-verba/787013/2a000001609cf51a968fb7eb8de0d4274862/thumb_s_2x'}}, {'name': 'side', 'sizes': {'orig': '//avatars.mds.yandex.net/get-verba/937147/2a000001609cee869ba847d0c2b9a88e0bb1/orig', 'wizardv3mr': '//avatars.mds.yandex.net/get-verba/937147/2a000001609cee869ba847d0c2b9a88e0bb1/wizardv3mr', 'wizardv3': '//avatars.mds.yandex.net/get-verba/937147/2a000001609cee869ba847d0c2b9a88e0bb1/wizardv3', 'cattouch': '//avatars.mds.yandex.net/get-verba/937147/2a000001609cee869ba847d0c2b9a88e0bb1/cattouch', 'small': '//avatars.mds.yandex.net/get-verba/937147/2a000001609cee869ba847d0c2b9a88e0bb1/small', '320x240': '//avatars.mds.yandex.net/get-verba/937147/2a000001609cee869ba847d0c2b9a88e0bb1/320x240', '1200x900': '//avatars.mds.yandex.net/get-verba/937147/2a000001609cee869ba847d0c2b9a88e0bb1/1200x900', '1200x900n': '//avatars.mds.yandex.net/get-verba/937147/2a000001609cee869ba847d0c2b9a88e0bb1/1200x900n', 'thumb_m': '//avatars.mds.yandex.net/get-verba/937147/2a000001609cee869ba847d0c2b9a88e0bb1/thumb_m', 'full': '//avatars.mds.yandex.net/get-verba/937147/2a000001609cee869ba847d0c2b9a88e0bb1/full', '832x624': '//avatars.mds.yandex.net/get-verba/937147/2a000001609cee869ba847d0c2b9a88e0bb1/832x624', '456x342': '//avatars.mds.yandex.net/get-verba/937147/2a000001609cee869ba847d0c2b9a88e0bb1/456x342', '120x90': '//avatars.mds.yandex.net/get-verba/937147/2a000001609cee869ba847d0c2b9a88e0bb1/120x90', '92x69': '//avatars.mds.yandex.net/get-verba/937147/2a000001609cee869ba847d0c2b9a88e0bb1/92x69', 'islandoff': '//avatars.mds.yandex.net/get-verba/937147/2a000001609cee869ba847d0c2b9a88e0bb1/islandoff', 'thumb_s': '//avatars.mds.yandex.net/get-verba/937147/2a000001609cee869ba847d0c2b9a88e0bb1/thumb_s', 'thumb_s_2x': '//avatars.mds.yandex.net/get-verba/937147/2a000001609cee869ba847d0c2b9a88e0bb1/thumb_s_2x'}}, {'name': 'front', 'sizes': {'orig': '//avatars.mds.yandex.net/get-verba/787013/2a000001609d6fc464907be5afdb3c7a59e4/orig', 'wizardv3mr': '//avatars.mds.yandex.net/get-verba/787013/2a000001609d6fc464907be5afdb3c7a59e4/wizardv3mr', 'wizardv3': '//avatars.mds.yandex.net/get-verba/787013/2a000001609d6fc464907be5afdb3c7a59e4/wizardv3', 'cattouch': '//avatars.mds.yandex.net/get-verba/787013/2a000001609d6fc464907be5afdb3c7a59e4/cattouch', 'small': '//avatars.mds.yandex.net/get-verba/787013/2a000001609d6fc464907be5afdb3c7a59e4/small', '320x240': '//avatars.mds.yandex.net/get-verba/787013/2a000001609d6fc464907be5afdb3c7a59e4/320x240', '1200x900': '//avatars.mds.yandex.net/get-verba/787013/2a000001609d6fc464907be5afdb3c7a59e4/1200x900', '1200x900n': '//avatars.mds.yandex.net/get-verba/787013/2a000001609d6fc464907be5afdb3c7a59e4/1200x900n', 'thumb_m': '//avatars.mds.yandex.net/get-verba/787013/2a000001609d6fc464907be5afdb3c7a59e4/thumb_m', 'full': '//avatars.mds.yandex.net/get-verba/787013/2a000001609d6fc464907be5afdb3c7a59e4/full', '832x624': '//avatars.mds.yandex.net/get-verba/787013/2a000001609d6fc464907be5afdb3c7a59e4/832x624', '456x342': '//avatars.mds.yandex.net/get-verba/787013/2a000001609d6fc464907be5afdb3c7a59e4/456x342', '120x90': '//avatars.mds.yandex.net/get-verba/787013/2a000001609d6fc464907be5afdb3c7a59e4/120x90', '92x69': '//avatars.mds.yandex.net/get-verba/787013/2a000001609d6fc464907be5afdb3c7a59e4/92x69', 'islandoff': '//avatars.mds.yandex.net/get-verba/787013/2a000001609d6fc464907be5afdb3c7a59e4/islandoff', 'thumb_s': '//avatars.mds.yandex.net/get-verba/787013/2a000001609d6fc464907be5afdb3c7a59e4/thumb_s', 'thumb_s_2x': '//avatars.mds.yandex.net/get-verba/787013/2a000001609d6fc464907be5afdb3c7a59e4/thumb_s_2x'}}, {'name': 'back', 'sizes': {'orig': '//avatars.mds.yandex.net/get-verba/787013/2a000001609c8fbc45bac94df7e63f23f60f/orig', 'wizardv3mr': '//avatars.mds.yandex.net/get-verba/787013/2a000001609c8fbc45bac94df7e63f23f60f/wizardv3mr', 'wizardv3': '//avatars.mds.yandex.net/get-verba/787013/2a000001609c8fbc45bac94df7e63f23f60f/wizardv3', 'cattouch': '//avatars.mds.yandex.net/get-verba/787013/2a000001609c8fbc45bac94df7e63f23f60f/cattouch', 'small': '//avatars.mds.yandex.net/get-verba/787013/2a000001609c8fbc45bac94df7e63f23f60f/small', '320x240': '//avatars.mds.yandex.net/get-verba/787013/2a000001609c8fbc45bac94df7e63f23f60f/320x240', '1200x900': '//avatars.mds.yandex.net/get-verba/787013/2a000001609c8fbc45bac94df7e63f23f60f/1200x900', '1200x900n': '//avatars.mds.yandex.net/get-verba/787013/2a000001609c8fbc45bac94df7e63f23f60f/1200x900n', 'thumb_m': '//avatars.mds.yandex.net/get-verba/787013/2a000001609c8fbc45bac94df7e63f23f60f/thumb_m', 'full': '//avatars.mds.yandex.net/get-verba/787013/2a000001609c8fbc45bac94df7e63f23f60f/full', '832x624': '//avatars.mds.yandex.net/get-verba/787013/2a000001609c8fbc45bac94df7e63f23f60f/832x624', '456x342': '//avatars.mds.yandex.net/get-verba/787013/2a000001609c8fbc45bac94df7e63f23f60f/456x342', '120x90': '//avatars.mds.yandex.net/get-verba/787013/2a000001609c8fbc45bac94df7e63f23f60f/120x90', '92x69': '//avatars.mds.yandex.net/get-verba/787013/2a000001609c8fbc45bac94df7e63f23f60f/92x69', 'islandoff': '//avatars.mds.yandex.net/get-verba/787013/2a000001609c8fbc45bac94df7e63f23f60f/islandoff', 'thumb_s': '//avatars.mds.yandex.net/get-verba/787013/2a000001609c8fbc45bac94df7e63f23f60f/thumb_s', 'thumb_s_2x': '//avatars.mds.yandex.net/get-verba/787013/2a000001609c8fbc45bac94df7e63f23f60f/thumb_s_2x'}}], 'main_color': False}]}</th>\n",
       "      <td>1</td>\n",
       "    </tr>\n",
       "  </tbody>\n",
       "</table>\n",
       "<p>5839 rows × 1 columns</p>\n",
       "</div>"
      ],
      "text/plain": [
       "                                                    комплектация\n",
       "{'id': '0'}                                                58700\n",
       "{'id': '21678548', 'name': 'Комфорт', 'availabl...           211\n",
       "{'id': '21426455', 'name': '450 4MATIC Sport Pl...           173\n",
       "...                                                          ...\n",
       "{'id': '20967603', 'name': 'GT', 'available_opt...             1\n",
       "{'id': '20967603', 'name': 'GT', 'available_opt...             1\n",
       "{'id': '10408081', 'name': 'Elegance', 'availab...             1\n",
       "\n",
       "[5839 rows x 1 columns]"
      ]
     },
     "metadata": {},
     "output_type": "display_data"
    }
   ],
   "source": [
    "col_info(df_beta, df_beta.columns.to_list()[14])"
   ]
  },
  {
   "cell_type": "code",
   "execution_count": 65,
   "id": "789250ce",
   "metadata": {},
   "outputs": [
    {
     "name": "stdout",
     "output_type": "stream",
     "text": [
      "всего записей в столбце  привод  =  87263\n",
      "NaN в столбце  привод  =  0 ,  в процентах =  0%\n",
      "уникальных в столбце  привод  =  3\n",
      "всего записей-дубликатов в столбце  привод  =  87263\n"
     ]
    },
    {
     "data": {
      "text/html": [
       "<div>\n",
       "<style scoped>\n",
       "    .dataframe tbody tr th:only-of-type {\n",
       "        vertical-align: middle;\n",
       "    }\n",
       "\n",
       "    .dataframe tbody tr th {\n",
       "        vertical-align: top;\n",
       "    }\n",
       "\n",
       "    .dataframe thead th {\n",
       "        text-align: right;\n",
       "    }\n",
       "</style>\n",
       "<table border=\"1\" class=\"dataframe\">\n",
       "  <thead>\n",
       "    <tr style=\"text-align: right;\">\n",
       "      <th></th>\n",
       "      <th>привод</th>\n",
       "    </tr>\n",
       "  </thead>\n",
       "  <tbody>\n",
       "    <tr>\n",
       "      <th>передний</th>\n",
       "      <td>46510</td>\n",
       "    </tr>\n",
       "    <tr>\n",
       "      <th>полный</th>\n",
       "      <td>33803</td>\n",
       "    </tr>\n",
       "    <tr>\n",
       "      <th>задний</th>\n",
       "      <td>6950</td>\n",
       "    </tr>\n",
       "  </tbody>\n",
       "</table>\n",
       "</div>"
      ],
      "text/plain": [
       "          привод\n",
       "передний   46510\n",
       "полный     33803\n",
       "задний      6950"
      ]
     },
     "metadata": {},
     "output_type": "display_data"
    }
   ],
   "source": [
    "col_info(df_beta, df_beta.columns.to_list()[15])"
   ]
  },
  {
   "cell_type": "code",
   "execution_count": 66,
   "id": "eb1784d6",
   "metadata": {},
   "outputs": [
    {
     "name": "stdout",
     "output_type": "stream",
     "text": [
      "всего записей в столбце  руль  =  87263\n",
      "NaN в столбце  руль  =  0 ,  в процентах =  0%\n",
      "уникальных в столбце  руль  =  2\n",
      "всего записей-дубликатов в столбце  руль  =  87263\n"
     ]
    },
    {
     "data": {
      "text/html": [
       "<div>\n",
       "<style scoped>\n",
       "    .dataframe tbody tr th:only-of-type {\n",
       "        vertical-align: middle;\n",
       "    }\n",
       "\n",
       "    .dataframe tbody tr th {\n",
       "        vertical-align: top;\n",
       "    }\n",
       "\n",
       "    .dataframe thead th {\n",
       "        text-align: right;\n",
       "    }\n",
       "</style>\n",
       "<table border=\"1\" class=\"dataframe\">\n",
       "  <thead>\n",
       "    <tr style=\"text-align: right;\">\n",
       "      <th></th>\n",
       "      <th>руль</th>\n",
       "    </tr>\n",
       "  </thead>\n",
       "  <tbody>\n",
       "    <tr>\n",
       "      <th>LEFT</th>\n",
       "      <td>85480</td>\n",
       "    </tr>\n",
       "    <tr>\n",
       "      <th>RIGHT</th>\n",
       "      <td>1783</td>\n",
       "    </tr>\n",
       "  </tbody>\n",
       "</table>\n",
       "</div>"
      ],
      "text/plain": [
       "        руль\n",
       "LEFT   85480\n",
       "RIGHT   1783"
      ]
     },
     "metadata": {},
     "output_type": "display_data"
    }
   ],
   "source": [
    "col_info(df_beta, df_beta.columns.to_list()[16])"
   ]
  },
  {
   "cell_type": "code",
   "execution_count": 67,
   "id": "27338ad0",
   "metadata": {
    "scrolled": true
   },
   "outputs": [
    {
     "name": "stdout",
     "output_type": "stream",
     "text": [
      "всего записей в столбце  состояние  =  0\n",
      "NaN в столбце  состояние  =  87263 ,  в процентах =  100%\n",
      "уникальных в столбце  состояние  =  1\n",
      "всего записей-дубликатов в столбце  состояние  =  87263\n"
     ]
    },
    {
     "data": {
      "text/html": [
       "<div>\n",
       "<style scoped>\n",
       "    .dataframe tbody tr th:only-of-type {\n",
       "        vertical-align: middle;\n",
       "    }\n",
       "\n",
       "    .dataframe tbody tr th {\n",
       "        vertical-align: top;\n",
       "    }\n",
       "\n",
       "    .dataframe thead th {\n",
       "        text-align: right;\n",
       "    }\n",
       "</style>\n",
       "<table border=\"1\" class=\"dataframe\">\n",
       "  <thead>\n",
       "    <tr style=\"text-align: right;\">\n",
       "      <th></th>\n",
       "      <th>состояние</th>\n",
       "    </tr>\n",
       "  </thead>\n",
       "  <tbody>\n",
       "    <tr>\n",
       "      <th>NaN</th>\n",
       "      <td>87263</td>\n",
       "    </tr>\n",
       "  </tbody>\n",
       "</table>\n",
       "</div>"
      ],
      "text/plain": [
       "     состояние\n",
       "NaN      87263"
      ]
     },
     "metadata": {},
     "output_type": "display_data"
    }
   ],
   "source": [
    "col_info(df_beta, df_beta.columns.to_list()[17])"
   ]
  },
  {
   "cell_type": "code",
   "execution_count": 68,
   "id": "de9bc1a0",
   "metadata": {},
   "outputs": [
    {
     "name": "stdout",
     "output_type": "stream",
     "text": [
      "всего записей в столбце  владельцы  =  75246\n",
      "NaN в столбце  владельцы  =  12017 ,  в процентах =  14%\n",
      "уникальных в столбце  владельцы  =  4\n",
      "всего записей-дубликатов в столбце  владельцы  =  87263\n"
     ]
    },
    {
     "data": {
      "text/html": [
       "<div>\n",
       "<style scoped>\n",
       "    .dataframe tbody tr th:only-of-type {\n",
       "        vertical-align: middle;\n",
       "    }\n",
       "\n",
       "    .dataframe tbody tr th {\n",
       "        vertical-align: top;\n",
       "    }\n",
       "\n",
       "    .dataframe thead th {\n",
       "        text-align: right;\n",
       "    }\n",
       "</style>\n",
       "<table border=\"1\" class=\"dataframe\">\n",
       "  <thead>\n",
       "    <tr style=\"text-align: right;\">\n",
       "      <th></th>\n",
       "      <th>владельцы</th>\n",
       "    </tr>\n",
       "  </thead>\n",
       "  <tbody>\n",
       "    <tr>\n",
       "      <th>3.0</th>\n",
       "      <td>36010</td>\n",
       "    </tr>\n",
       "    <tr>\n",
       "      <th>2.0</th>\n",
       "      <td>20867</td>\n",
       "    </tr>\n",
       "    <tr>\n",
       "      <th>1.0</th>\n",
       "      <td>18369</td>\n",
       "    </tr>\n",
       "    <tr>\n",
       "      <th>NaN</th>\n",
       "      <td>12017</td>\n",
       "    </tr>\n",
       "  </tbody>\n",
       "</table>\n",
       "</div>"
      ],
      "text/plain": [
       "     владельцы\n",
       "3.0      36010\n",
       "2.0      20867\n",
       "1.0      18369\n",
       "NaN      12017"
      ]
     },
     "metadata": {},
     "output_type": "display_data"
    }
   ],
   "source": [
    "col_info(df_beta, df_beta.columns.to_list()[18])"
   ]
  },
  {
   "cell_type": "code",
   "execution_count": 69,
   "id": "08453256",
   "metadata": {},
   "outputs": [
    {
     "name": "stdout",
     "output_type": "stream",
     "text": [
      "всего записей в столбце  птс  =  86906\n",
      "NaN в столбце  птс  =  357 ,  в процентах =  0%\n",
      "уникальных в столбце  птс  =  3\n",
      "всего записей-дубликатов в столбце  птс  =  87263\n"
     ]
    },
    {
     "data": {
      "text/html": [
       "<div>\n",
       "<style scoped>\n",
       "    .dataframe tbody tr th:only-of-type {\n",
       "        vertical-align: middle;\n",
       "    }\n",
       "\n",
       "    .dataframe tbody tr th {\n",
       "        vertical-align: top;\n",
       "    }\n",
       "\n",
       "    .dataframe thead th {\n",
       "        text-align: right;\n",
       "    }\n",
       "</style>\n",
       "<table border=\"1\" class=\"dataframe\">\n",
       "  <thead>\n",
       "    <tr style=\"text-align: right;\">\n",
       "      <th></th>\n",
       "      <th>птс</th>\n",
       "    </tr>\n",
       "  </thead>\n",
       "  <tbody>\n",
       "    <tr>\n",
       "      <th>ORIGINAL</th>\n",
       "      <td>76555</td>\n",
       "    </tr>\n",
       "    <tr>\n",
       "      <th>DUPLICATE</th>\n",
       "      <td>10351</td>\n",
       "    </tr>\n",
       "    <tr>\n",
       "      <th>NaN</th>\n",
       "      <td>357</td>\n",
       "    </tr>\n",
       "  </tbody>\n",
       "</table>\n",
       "</div>"
      ],
      "text/plain": [
       "             птс\n",
       "ORIGINAL   76555\n",
       "DUPLICATE  10351\n",
       "NaN          357"
      ]
     },
     "metadata": {},
     "output_type": "display_data"
    }
   ],
   "source": [
    "col_info(df_beta, df_beta.columns.to_list()[19])"
   ]
  },
  {
   "cell_type": "code",
   "execution_count": 70,
   "id": "2c6bac23",
   "metadata": {},
   "outputs": [
    {
     "name": "stdout",
     "output_type": "stream",
     "text": [
      "всего записей в столбце  таможня  =  87263\n",
      "NaN в столбце  таможня  =  0 ,  в процентах =  0%\n",
      "уникальных в столбце  таможня  =  1\n",
      "всего записей-дубликатов в столбце  таможня  =  87263\n"
     ]
    },
    {
     "data": {
      "text/html": [
       "<div>\n",
       "<style scoped>\n",
       "    .dataframe tbody tr th:only-of-type {\n",
       "        vertical-align: middle;\n",
       "    }\n",
       "\n",
       "    .dataframe tbody tr th {\n",
       "        vertical-align: top;\n",
       "    }\n",
       "\n",
       "    .dataframe thead th {\n",
       "        text-align: right;\n",
       "    }\n",
       "</style>\n",
       "<table border=\"1\" class=\"dataframe\">\n",
       "  <thead>\n",
       "    <tr style=\"text-align: right;\">\n",
       "      <th></th>\n",
       "      <th>таможня</th>\n",
       "    </tr>\n",
       "  </thead>\n",
       "  <tbody>\n",
       "    <tr>\n",
       "      <th>True</th>\n",
       "      <td>87263</td>\n",
       "    </tr>\n",
       "  </tbody>\n",
       "</table>\n",
       "</div>"
      ],
      "text/plain": [
       "      таможня\n",
       "True    87263"
      ]
     },
     "metadata": {},
     "output_type": "display_data"
    }
   ],
   "source": [
    "col_info(df_beta, df_beta.columns.to_list()[20])"
   ]
  },
  {
   "cell_type": "code",
   "execution_count": 71,
   "id": "2494339f",
   "metadata": {},
   "outputs": [
    {
     "name": "stdout",
     "output_type": "stream",
     "text": [
      "всего записей в столбце  владение  =  28994\n",
      "NaN в столбце  владение  =  58269 ,  в процентах =  67%\n",
      "уникальных в столбце  владение  =  291\n",
      "всего записей-дубликатов в столбце  владение  =  87220\n"
     ]
    },
    {
     "data": {
      "text/html": [
       "<div>\n",
       "<style scoped>\n",
       "    .dataframe tbody tr th:only-of-type {\n",
       "        vertical-align: middle;\n",
       "    }\n",
       "\n",
       "    .dataframe tbody tr th {\n",
       "        vertical-align: top;\n",
       "    }\n",
       "\n",
       "    .dataframe thead th {\n",
       "        text-align: right;\n",
       "    }\n",
       "</style>\n",
       "<table border=\"1\" class=\"dataframe\">\n",
       "  <thead>\n",
       "    <tr style=\"text-align: right;\">\n",
       "      <th></th>\n",
       "      <th>владение</th>\n",
       "    </tr>\n",
       "  </thead>\n",
       "  <tbody>\n",
       "    <tr>\n",
       "      <th>NaN</th>\n",
       "      <td>58269</td>\n",
       "    </tr>\n",
       "    <tr>\n",
       "      <th>{'year': 2018, 'month': 10}</th>\n",
       "      <td>495</td>\n",
       "    </tr>\n",
       "    <tr>\n",
       "      <th>{'year': 2019, 'month': 8}</th>\n",
       "      <td>491</td>\n",
       "    </tr>\n",
       "    <tr>\n",
       "      <th>...</th>\n",
       "      <td>...</td>\n",
       "    </tr>\n",
       "    <tr>\n",
       "      <th>{'year': 1998, 'month': 6}</th>\n",
       "      <td>1</td>\n",
       "    </tr>\n",
       "    <tr>\n",
       "      <th>{'year': 1986, 'month': 8}</th>\n",
       "      <td>1</td>\n",
       "    </tr>\n",
       "    <tr>\n",
       "      <th>{'year': 1997, 'month': 7}</th>\n",
       "      <td>1</td>\n",
       "    </tr>\n",
       "  </tbody>\n",
       "</table>\n",
       "<p>291 rows × 1 columns</p>\n",
       "</div>"
      ],
      "text/plain": [
       "                             владение\n",
       "NaN                             58269\n",
       "{'year': 2018, 'month': 10}       495\n",
       "{'year': 2019, 'month': 8}        491\n",
       "...                               ...\n",
       "{'year': 1998, 'month': 6}          1\n",
       "{'year': 1986, 'month': 8}          1\n",
       "{'year': 1997, 'month': 7}          1\n",
       "\n",
       "[291 rows x 1 columns]"
      ]
     },
     "metadata": {},
     "output_type": "display_data"
    }
   ],
   "source": [
    "col_info(df_beta, df_beta.columns.to_list()[21])"
   ]
  },
  {
   "cell_type": "code",
   "execution_count": 72,
   "id": "97749b0b",
   "metadata": {},
   "outputs": [
    {
     "name": "stdout",
     "output_type": "stream",
     "text": [
      "всего записей в столбце  price  =  86853\n",
      "NaN в столбце  price  =  410 ,  в процентах =  0%\n",
      "уникальных в столбце  price  =  8169\n",
      "всего записей-дубликатов в столбце  price  =  82748\n"
     ]
    },
    {
     "data": {
      "text/html": [
       "<div>\n",
       "<style scoped>\n",
       "    .dataframe tbody tr th:only-of-type {\n",
       "        vertical-align: middle;\n",
       "    }\n",
       "\n",
       "    .dataframe tbody tr th {\n",
       "        vertical-align: top;\n",
       "    }\n",
       "\n",
       "    .dataframe thead th {\n",
       "        text-align: right;\n",
       "    }\n",
       "</style>\n",
       "<table border=\"1\" class=\"dataframe\">\n",
       "  <thead>\n",
       "    <tr style=\"text-align: right;\">\n",
       "      <th></th>\n",
       "      <th>price</th>\n",
       "    </tr>\n",
       "  </thead>\n",
       "  <tbody>\n",
       "    <tr>\n",
       "      <th>450000.0</th>\n",
       "      <td>1208</td>\n",
       "    </tr>\n",
       "    <tr>\n",
       "      <th>350000.0</th>\n",
       "      <td>1040</td>\n",
       "    </tr>\n",
       "    <tr>\n",
       "      <th>250000.0</th>\n",
       "      <td>986</td>\n",
       "    </tr>\n",
       "    <tr>\n",
       "      <th>...</th>\n",
       "      <td>...</td>\n",
       "    </tr>\n",
       "    <tr>\n",
       "      <th>957500.0</th>\n",
       "      <td>1</td>\n",
       "    </tr>\n",
       "    <tr>\n",
       "      <th>400999.0</th>\n",
       "      <td>1</td>\n",
       "    </tr>\n",
       "    <tr>\n",
       "      <th>864000.0</th>\n",
       "      <td>1</td>\n",
       "    </tr>\n",
       "  </tbody>\n",
       "</table>\n",
       "<p>8169 rows × 1 columns</p>\n",
       "</div>"
      ],
      "text/plain": [
       "          price\n",
       "450000.0   1208\n",
       "350000.0   1040\n",
       "250000.0    986\n",
       "...         ...\n",
       "957500.0      1\n",
       "400999.0      1\n",
       "864000.0      1\n",
       "\n",
       "[8169 rows x 1 columns]"
      ]
     },
     "metadata": {},
     "output_type": "display_data"
    }
   ],
   "source": [
    "col_info(df_beta, df_beta.columns.to_list()[22])"
   ]
  },
  {
   "cell_type": "code",
   "execution_count": 73,
   "id": "e4138efb",
   "metadata": {},
   "outputs": [
    {
     "name": "stdout",
     "output_type": "stream",
     "text": [
      "всего записей в столбце  start_date  =  87263\n",
      "NaN в столбце  start_date  =  0 ,  в процентах =  0%\n",
      "уникальных в столбце  start_date  =  75679\n",
      "всего записей-дубликатов в столбце  start_date  =  14880\n"
     ]
    },
    {
     "data": {
      "text/html": [
       "<div>\n",
       "<style scoped>\n",
       "    .dataframe tbody tr th:only-of-type {\n",
       "        vertical-align: middle;\n",
       "    }\n",
       "\n",
       "    .dataframe tbody tr th {\n",
       "        vertical-align: top;\n",
       "    }\n",
       "\n",
       "    .dataframe thead th {\n",
       "        text-align: right;\n",
       "    }\n",
       "</style>\n",
       "<table border=\"1\" class=\"dataframe\">\n",
       "  <thead>\n",
       "    <tr style=\"text-align: right;\">\n",
       "      <th></th>\n",
       "      <th>start_date</th>\n",
       "    </tr>\n",
       "  </thead>\n",
       "  <tbody>\n",
       "    <tr>\n",
       "      <th>2020-08-10T11:02:50Z</th>\n",
       "      <td>64</td>\n",
       "    </tr>\n",
       "    <tr>\n",
       "      <th>2020-09-01T10:01:11Z</th>\n",
       "      <td>63</td>\n",
       "    </tr>\n",
       "    <tr>\n",
       "      <th>2020-08-21T14:41:04Z</th>\n",
       "      <td>59</td>\n",
       "    </tr>\n",
       "    <tr>\n",
       "      <th>...</th>\n",
       "      <td>...</td>\n",
       "    </tr>\n",
       "    <tr>\n",
       "      <th>2020-08-20T09:23:18Z</th>\n",
       "      <td>1</td>\n",
       "    </tr>\n",
       "    <tr>\n",
       "      <th>2020-09-05T11:54:29Z</th>\n",
       "      <td>1</td>\n",
       "    </tr>\n",
       "    <tr>\n",
       "      <th>2020-08-10T11:30:29Z</th>\n",
       "      <td>1</td>\n",
       "    </tr>\n",
       "  </tbody>\n",
       "</table>\n",
       "<p>75679 rows × 1 columns</p>\n",
       "</div>"
      ],
      "text/plain": [
       "                      start_date\n",
       "2020-08-10T11:02:50Z          64\n",
       "2020-09-01T10:01:11Z          63\n",
       "2020-08-21T14:41:04Z          59\n",
       "...                          ...\n",
       "2020-08-20T09:23:18Z           1\n",
       "2020-09-05T11:54:29Z           1\n",
       "2020-08-10T11:30:29Z           1\n",
       "\n",
       "[75679 rows x 1 columns]"
      ]
     },
     "metadata": {},
     "output_type": "display_data"
    }
   ],
   "source": [
    "col_info(df_beta, df_beta.columns.to_list()[23])"
   ]
  },
  {
   "cell_type": "code",
   "execution_count": 74,
   "id": "13b58e91",
   "metadata": {
    "scrolled": true
   },
   "outputs": [
    {
     "name": "stdout",
     "output_type": "stream",
     "text": [
      "всего записей в столбце  model  =  87263\n",
      "NaN в столбце  model  =  0 ,  в процентах =  0%\n",
      "уникальных в столбце  model  =  1086\n",
      "всего записей-дубликатов в столбце  model  =  87093\n"
     ]
    },
    {
     "data": {
      "text/html": [
       "<div>\n",
       "<style scoped>\n",
       "    .dataframe tbody tr th:only-of-type {\n",
       "        vertical-align: middle;\n",
       "    }\n",
       "\n",
       "    .dataframe tbody tr th {\n",
       "        vertical-align: top;\n",
       "    }\n",
       "\n",
       "    .dataframe thead th {\n",
       "        text-align: right;\n",
       "    }\n",
       "</style>\n",
       "<table border=\"1\" class=\"dataframe\">\n",
       "  <thead>\n",
       "    <tr style=\"text-align: right;\">\n",
       "      <th></th>\n",
       "      <th>model</th>\n",
       "    </tr>\n",
       "  </thead>\n",
       "  <tbody>\n",
       "    <tr>\n",
       "      <th>FOCUS</th>\n",
       "      <td>2464</td>\n",
       "    </tr>\n",
       "    <tr>\n",
       "      <th>SOLARIS</th>\n",
       "      <td>1686</td>\n",
       "    </tr>\n",
       "    <tr>\n",
       "      <th>5ER</th>\n",
       "      <td>1643</td>\n",
       "    </tr>\n",
       "    <tr>\n",
       "      <th>...</th>\n",
       "      <td>...</td>\n",
       "    </tr>\n",
       "    <tr>\n",
       "      <th>GRANADA</th>\n",
       "      <td>1</td>\n",
       "    </tr>\n",
       "    <tr>\n",
       "      <th>FREESTYLE</th>\n",
       "      <td>1</td>\n",
       "    </tr>\n",
       "    <tr>\n",
       "      <th>URVAN</th>\n",
       "      <td>1</td>\n",
       "    </tr>\n",
       "  </tbody>\n",
       "</table>\n",
       "<p>1086 rows × 1 columns</p>\n",
       "</div>"
      ],
      "text/plain": [
       "           model\n",
       "FOCUS       2464\n",
       "SOLARIS     1686\n",
       "5ER         1643\n",
       "...          ...\n",
       "GRANADA        1\n",
       "FREESTYLE      1\n",
       "URVAN          1\n",
       "\n",
       "[1086 rows x 1 columns]"
      ]
     },
     "metadata": {},
     "output_type": "display_data"
    }
   ],
   "source": [
    "col_info(df_beta, df_beta.columns.to_list()[25])"
   ]
  },
  {
   "cell_type": "code",
   "execution_count": 75,
   "id": "bce20347",
   "metadata": {},
   "outputs": [
    {
     "data": {
      "text/html": [
       "<div>\n",
       "<style scoped>\n",
       "    .dataframe tbody tr th:only-of-type {\n",
       "        vertical-align: middle;\n",
       "    }\n",
       "\n",
       "    .dataframe tbody tr th {\n",
       "        vertical-align: top;\n",
       "    }\n",
       "\n",
       "    .dataframe thead th {\n",
       "        text-align: right;\n",
       "    }\n",
       "</style>\n",
       "<table border=\"1\" class=\"dataframe\">\n",
       "  <thead>\n",
       "    <tr style=\"text-align: right;\">\n",
       "      <th></th>\n",
       "      <th>NaN</th>\n",
       "      <th>% NaN</th>\n",
       "      <th>uniq</th>\n",
       "    </tr>\n",
       "  </thead>\n",
       "  <tbody>\n",
       "    <tr>\n",
       "      <th>bodytype</th>\n",
       "      <td>0</td>\n",
       "      <td>0.0</td>\n",
       "      <td>168</td>\n",
       "    </tr>\n",
       "    <tr>\n",
       "      <th>brand</th>\n",
       "      <td>0</td>\n",
       "      <td>0.0</td>\n",
       "      <td>36</td>\n",
       "    </tr>\n",
       "    <tr>\n",
       "      <th>color</th>\n",
       "      <td>0</td>\n",
       "      <td>0.0</td>\n",
       "      <td>16</td>\n",
       "    </tr>\n",
       "    <tr>\n",
       "      <th>fueltype</th>\n",
       "      <td>0</td>\n",
       "      <td>0.0</td>\n",
       "      <td>5</td>\n",
       "    </tr>\n",
       "    <tr>\n",
       "      <th>modeldate</th>\n",
       "      <td>0</td>\n",
       "      <td>0.0</td>\n",
       "      <td>78</td>\n",
       "    </tr>\n",
       "    <tr>\n",
       "      <th>name</th>\n",
       "      <td>0</td>\n",
       "      <td>0.0</td>\n",
       "      <td>4484</td>\n",
       "    </tr>\n",
       "    <tr>\n",
       "      <th>numberofdoors</th>\n",
       "      <td>0</td>\n",
       "      <td>0.0</td>\n",
       "      <td>5</td>\n",
       "    </tr>\n",
       "    <tr>\n",
       "      <th>productiondate</th>\n",
       "      <td>0</td>\n",
       "      <td>0.0</td>\n",
       "      <td>80</td>\n",
       "    </tr>\n",
       "    <tr>\n",
       "      <th>vehicleconfiguration</th>\n",
       "      <td>0</td>\n",
       "      <td>0.0</td>\n",
       "      <td>1860</td>\n",
       "    </tr>\n",
       "    <tr>\n",
       "      <th>vehicletransmission</th>\n",
       "      <td>0</td>\n",
       "      <td>0.0</td>\n",
       "      <td>4</td>\n",
       "    </tr>\n",
       "    <tr>\n",
       "      <th>enginedisplacement</th>\n",
       "      <td>0</td>\n",
       "      <td>0.0</td>\n",
       "      <td>534</td>\n",
       "    </tr>\n",
       "    <tr>\n",
       "      <th>enginepower</th>\n",
       "      <td>0</td>\n",
       "      <td>0.0</td>\n",
       "      <td>396</td>\n",
       "    </tr>\n",
       "    <tr>\n",
       "      <th>description</th>\n",
       "      <td>3233</td>\n",
       "      <td>3.7</td>\n",
       "      <td>77568</td>\n",
       "    </tr>\n",
       "    <tr>\n",
       "      <th>mileage</th>\n",
       "      <td>0</td>\n",
       "      <td>0.0</td>\n",
       "      <td>17403</td>\n",
       "    </tr>\n",
       "    <tr>\n",
       "      <th>комплектация</th>\n",
       "      <td>0</td>\n",
       "      <td>0.0</td>\n",
       "      <td>5839</td>\n",
       "    </tr>\n",
       "    <tr>\n",
       "      <th>привод</th>\n",
       "      <td>0</td>\n",
       "      <td>0.0</td>\n",
       "      <td>3</td>\n",
       "    </tr>\n",
       "    <tr>\n",
       "      <th>руль</th>\n",
       "      <td>0</td>\n",
       "      <td>0.0</td>\n",
       "      <td>2</td>\n",
       "    </tr>\n",
       "    <tr>\n",
       "      <th>состояние</th>\n",
       "      <td>87263</td>\n",
       "      <td>100.0</td>\n",
       "      <td>1</td>\n",
       "    </tr>\n",
       "    <tr>\n",
       "      <th>владельцы</th>\n",
       "      <td>12017</td>\n",
       "      <td>13.8</td>\n",
       "      <td>4</td>\n",
       "    </tr>\n",
       "    <tr>\n",
       "      <th>птс</th>\n",
       "      <td>357</td>\n",
       "      <td>0.4</td>\n",
       "      <td>3</td>\n",
       "    </tr>\n",
       "    <tr>\n",
       "      <th>таможня</th>\n",
       "      <td>0</td>\n",
       "      <td>0.0</td>\n",
       "      <td>1</td>\n",
       "    </tr>\n",
       "    <tr>\n",
       "      <th>владение</th>\n",
       "      <td>58269</td>\n",
       "      <td>66.8</td>\n",
       "      <td>291</td>\n",
       "    </tr>\n",
       "    <tr>\n",
       "      <th>price</th>\n",
       "      <td>410</td>\n",
       "      <td>0.5</td>\n",
       "      <td>8169</td>\n",
       "    </tr>\n",
       "    <tr>\n",
       "      <th>start_date</th>\n",
       "      <td>0</td>\n",
       "      <td>0.0</td>\n",
       "      <td>75679</td>\n",
       "    </tr>\n",
       "    <tr>\n",
       "      <th>hidden</th>\n",
       "      <td>87263</td>\n",
       "      <td>100.0</td>\n",
       "      <td>1</td>\n",
       "    </tr>\n",
       "    <tr>\n",
       "      <th>model</th>\n",
       "      <td>0</td>\n",
       "      <td>0.0</td>\n",
       "      <td>1086</td>\n",
       "    </tr>\n",
       "  </tbody>\n",
       "</table>\n",
       "</div>"
      ],
      "text/plain": [
       "                        NaN  % NaN   uniq\n",
       "bodytype                  0    0.0    168\n",
       "brand                     0    0.0     36\n",
       "color                     0    0.0     16\n",
       "fueltype                  0    0.0      5\n",
       "modeldate                 0    0.0     78\n",
       "name                      0    0.0   4484\n",
       "numberofdoors             0    0.0      5\n",
       "productiondate            0    0.0     80\n",
       "vehicleconfiguration      0    0.0   1860\n",
       "vehicletransmission       0    0.0      4\n",
       "enginedisplacement        0    0.0    534\n",
       "enginepower               0    0.0    396\n",
       "description            3233    3.7  77568\n",
       "mileage                   0    0.0  17403\n",
       "комплектация              0    0.0   5839\n",
       "привод                    0    0.0      3\n",
       "руль                      0    0.0      2\n",
       "состояние             87263  100.0      1\n",
       "владельцы             12017   13.8      4\n",
       "птс                     357    0.4      3\n",
       "таможня                   0    0.0      1\n",
       "владение              58269   66.8    291\n",
       "price                   410    0.5   8169\n",
       "start_date                0    0.0  75679\n",
       "hidden                87263  100.0      1\n",
       "model                     0    0.0   1086"
      ]
     },
     "execution_count": 75,
     "metadata": {},
     "output_type": "execute_result"
    }
   ],
   "source": [
    "info_table(df_beta) # обзор датасета"
   ]
  },
  {
   "cell_type": "markdown",
   "id": "b5ddb745",
   "metadata": {},
   "source": [
    "<a name=\"df_a_clean\"></a> \n",
    "### обучающий датасет - `df_beta` - выводы и чистка\n",
    "\n",
    "поля (unique in df_a / unique in test):\n",
    "- `0 bodyType` - 169/24, заглавные буквы, разобрать\n",
    "- `1 brand` - 36/12 (36 марок, в тесте - только 12), разобрать\n",
    "- `2 color` - 16/16 - совпадает,  ready to use \n",
    "- `3 fuelType` - 6/5 - ошибка\"универсал\" - поправил\n",
    "- `4 modelDate` - 79/66 \n",
    "- `5 name` - 4485/2780\n",
    "- `6 numberOfDoors` - 6/5 - разобрать\n",
    "- `7 productionDate`- 80/69\n",
    "- `8 vehicleConfiguration` - 1861/634\n",
    "- `9 vehicleTransmission` - 4+Nan/4  \n",
    "- `10 engineDisplacement` - 535/55 - разобрать \n",
    "- `11 enginePower` - 397/315\n",
    "- `12 description` - 77569/31729 - вытащить автосалоны\n",
    "- `13 mileage` - ready to use\n",
    "- `14 Комплектация` - видимо = equipment_dict - **del**\n",
    "- `15 Привод` - 3/3\n",
    "- `16 Руль` - ready to use \n",
    "- `17 Состояние`- **del**\n",
    "- `18 Владельцы`- 3 (+nan)/3 - 15% NaN - разные шкалы, разобрать\n",
    "- `19 ПТС` - dif. language, 361 nan\n",
    "- `20 Таможня`- **del**\n",
    "- `21 Владение` - **del**\n",
    "- `22 price` - key target - 410 NaN - records to del       \n",
    "- `23 start_date` - 05/2015-09/2000 - дата объявления?\n",
    "- `24 hidden`- **del**      \n",
    "- `25 model` - непонятная группировка, нет в тесте - **del**\n",
    "\n",
    "Итого **удаляем 6 полей**: `[14, 17, 20, 21, 24, 25]`  \n",
    "<a href='#compare_df'>пропустить и перейти к  сравнению  форматов данных в датасетах"
   ]
  },
  {
   "cell_type": "code",
   "execution_count": 76,
   "id": "afc7ec3b",
   "metadata": {},
   "outputs": [],
   "source": [
    "# df_beta - удаляем 6 полей #105 \n",
    "df_beta.drop(df_beta.columns[[14, 17, 20, 21, 24, 25]], \n",
    "              axis = 1, inplace = True)"
   ]
  },
  {
   "cell_type": "code",
   "execution_count": 77,
   "id": "3ed94bdc",
   "metadata": {},
   "outputs": [],
   "source": [
    "# df_beta - удаляем 410 записей, где отсутствует значение цены #106\n",
    "df_beta = df_beta[df_beta.price.notna()]"
   ]
  },
  {
   "cell_type": "code",
   "execution_count": 78,
   "id": "a36b6a3f",
   "metadata": {
    "scrolled": true
   },
   "outputs": [
    {
     "name": "stdout",
     "output_type": "stream",
     "text": [
      "NaN fix is needed for columns:\n",
      "\n",
      "description     3213\n",
      "владельцы      11998\n",
      "птс              357\n",
      "dtype: int64\n"
     ]
    }
   ],
   "source": [
    "nan_columns(df_beta) # смотрим пропуски"
   ]
  },
  {
   "cell_type": "code",
   "execution_count": 79,
   "id": "0b7b7de2",
   "metadata": {},
   "outputs": [
    {
     "name": "stdout",
     "output_type": "stream",
     "text": [
      "<class 'pandas.core.frame.DataFrame'>\n",
      "Int64Index: 86853 entries, 0 to 87262\n",
      "Data columns (total 20 columns):\n",
      " #   Column                Non-Null Count  Dtype  \n",
      "---  ------                --------------  -----  \n",
      " 0   bodytype              86853 non-null  object \n",
      " 1   brand                 86853 non-null  object \n",
      " 2   color                 86853 non-null  object \n",
      " 3   fueltype              86853 non-null  object \n",
      " 4   modeldate             86853 non-null  float64\n",
      " 5   name                  86853 non-null  object \n",
      " 6   numberofdoors         86853 non-null  float64\n",
      " 7   productiondate        86853 non-null  int64  \n",
      " 8   vehicleconfiguration  86853 non-null  object \n",
      " 9   vehicletransmission   86853 non-null  object \n",
      " 10  enginedisplacement    86853 non-null  object \n",
      " 11  enginepower           86853 non-null  float64\n",
      " 12  description           83640 non-null  object \n",
      " 13  mileage               86853 non-null  int64  \n",
      " 14  привод                86853 non-null  object \n",
      " 15  руль                  86853 non-null  object \n",
      " 16  владельцы             74855 non-null  float64\n",
      " 17  птс                   86496 non-null  object \n",
      " 18  price                 86853 non-null  float64\n",
      " 19  start_date            86853 non-null  object \n",
      "dtypes: float64(5), int64(2), object(13)\n",
      "memory usage: 13.9+ MB\n"
     ]
    }
   ],
   "source": [
    "df_beta.info() # to see new column indexes"
   ]
  },
  {
   "cell_type": "code",
   "execution_count": 80,
   "id": "bb4fa320",
   "metadata": {
    "scrolled": true
   },
   "outputs": [
    {
     "name": "stdout",
     "output_type": "stream",
     "text": [
      "всего записей в столбце  владельцы  =  74855\n",
      "NaN в столбце  владельцы  =  11998 ,  в процентах =  14%\n",
      "уникальных в столбце  владельцы  =  4\n",
      "всего записей-дубликатов в столбце  владельцы  =  86853\n"
     ]
    },
    {
     "data": {
      "text/html": [
       "<div>\n",
       "<style scoped>\n",
       "    .dataframe tbody tr th:only-of-type {\n",
       "        vertical-align: middle;\n",
       "    }\n",
       "\n",
       "    .dataframe tbody tr th {\n",
       "        vertical-align: top;\n",
       "    }\n",
       "\n",
       "    .dataframe thead th {\n",
       "        text-align: right;\n",
       "    }\n",
       "</style>\n",
       "<table border=\"1\" class=\"dataframe\">\n",
       "  <thead>\n",
       "    <tr style=\"text-align: right;\">\n",
       "      <th></th>\n",
       "      <th>владельцы</th>\n",
       "    </tr>\n",
       "  </thead>\n",
       "  <tbody>\n",
       "    <tr>\n",
       "      <th>3.0</th>\n",
       "      <td>35861</td>\n",
       "    </tr>\n",
       "    <tr>\n",
       "      <th>2.0</th>\n",
       "      <td>20763</td>\n",
       "    </tr>\n",
       "    <tr>\n",
       "      <th>1.0</th>\n",
       "      <td>18231</td>\n",
       "    </tr>\n",
       "    <tr>\n",
       "      <th>NaN</th>\n",
       "      <td>11998</td>\n",
       "    </tr>\n",
       "  </tbody>\n",
       "</table>\n",
       "</div>"
      ],
      "text/plain": [
       "     владельцы\n",
       "3.0      35861\n",
       "2.0      20763\n",
       "1.0      18231\n",
       "NaN      11998"
      ]
     },
     "metadata": {},
     "output_type": "display_data"
    }
   ],
   "source": [
    "col_info(df_beta, df_beta.columns.to_list()[16])"
   ]
  },
  {
   "cell_type": "markdown",
   "id": "b2add845",
   "metadata": {},
   "source": [
    "поле 16 'Владельцы' в `df_alpha` - **'3 или более'**, а в `df_beta` есть **'3.0'** и **'NaN'** поэтому:\n",
    "1. отнесем 13569 NaN в катерию '3 или более'\n",
    "2. приведем остальные значения поля к формату записи как в `df_alpha`"
   ]
  },
  {
   "cell_type": "code",
   "execution_count": 81,
   "id": "d86b8234",
   "metadata": {},
   "outputs": [],
   "source": [
    "# df_beta -'владельцы' NaN -> 3.0,format as in 'df_alpha' #107\n",
    "df_beta[df_beta.columns.to_list()[16]].replace(\n",
    "    to_replace = [1.0, 2.0, 3.0, np.nan], \n",
    "    value = ['1 владелец', '2 владельца', '3 или более', '3 или более'],\n",
    "    inplace = True)"
   ]
  },
  {
   "cell_type": "code",
   "execution_count": 82,
   "id": "d615ebbf",
   "metadata": {
    "scrolled": true
   },
   "outputs": [
    {
     "name": "stdout",
     "output_type": "stream",
     "text": [
      "всего записей в столбце  владельцы  =  86853\n",
      "NaN в столбце  владельцы  =  0 ,  в процентах =  0%\n",
      "уникальных в столбце  владельцы  =  3\n",
      "всего записей-дубликатов в столбце  владельцы  =  86853\n"
     ]
    },
    {
     "data": {
      "text/html": [
       "<div>\n",
       "<style scoped>\n",
       "    .dataframe tbody tr th:only-of-type {\n",
       "        vertical-align: middle;\n",
       "    }\n",
       "\n",
       "    .dataframe tbody tr th {\n",
       "        vertical-align: top;\n",
       "    }\n",
       "\n",
       "    .dataframe thead th {\n",
       "        text-align: right;\n",
       "    }\n",
       "</style>\n",
       "<table border=\"1\" class=\"dataframe\">\n",
       "  <thead>\n",
       "    <tr style=\"text-align: right;\">\n",
       "      <th></th>\n",
       "      <th>владельцы</th>\n",
       "    </tr>\n",
       "  </thead>\n",
       "  <tbody>\n",
       "    <tr>\n",
       "      <th>3 или более</th>\n",
       "      <td>47859</td>\n",
       "    </tr>\n",
       "    <tr>\n",
       "      <th>2 владельца</th>\n",
       "      <td>20763</td>\n",
       "    </tr>\n",
       "    <tr>\n",
       "      <th>1 владелец</th>\n",
       "      <td>18231</td>\n",
       "    </tr>\n",
       "  </tbody>\n",
       "</table>\n",
       "</div>"
      ],
      "text/plain": [
       "             владельцы\n",
       "3 или более      47859\n",
       "2 владельца      20763\n",
       "1 владелец       18231"
      ]
     },
     "metadata": {},
     "output_type": "display_data"
    }
   ],
   "source": [
    "col_info(df_beta, df_beta.columns.to_list()[16])"
   ]
  },
  {
   "cell_type": "code",
   "execution_count": 83,
   "id": "227792c5",
   "metadata": {
    "scrolled": false
   },
   "outputs": [
    {
     "name": "stdout",
     "output_type": "stream",
     "text": [
      "NaN fix is needed for columns:\n",
      "\n",
      "description    3213\n",
      "птс             357\n",
      "dtype: int64\n"
     ]
    }
   ],
   "source": [
    "nan_columns(df_beta) # смотрим пропуски"
   ]
  },
  {
   "cell_type": "markdown",
   "id": "c0eedc3e",
   "metadata": {},
   "source": [
    "<a name=\"compare_df\"></a> \n",
    "### сравниваем форматы данных в `df_alpha` и `df_beta`\n",
    "последовательно по столбцам  \n",
    "<a href='#col_sort'>пропустить и перейти к сортировке столбцов"
   ]
  },
  {
   "cell_type": "markdown",
   "id": "1ba01f61",
   "metadata": {},
   "source": [
    "### убираем лишние категории из обучающего датасета \n",
    "в поле **bodyType**  \n",
    "в `df_alpha` только 24 категории, а в `df_beta` их 167 (144 лишних).  \n",
    "Наша модель должна предсказывать на аттестующей выборке, полный охват всех представленных на рынке типов авто в задачу не входит, поэтому лишние записи (3,679 строк для `bodyType`) из обучающего датасета выбрасываем "
   ]
  },
  {
   "cell_type": "code",
   "execution_count": 84,
   "id": "5c8ccd78",
   "metadata": {},
   "outputs": [],
   "source": [
    "# df_beta - 'bodytype'к одинаковому формату название столбца #108\n",
    "df_beta['bodytype'] = df_beta['bodytype'].str.lower()"
   ]
  },
  {
   "cell_type": "code",
   "execution_count": 85,
   "id": "a013b3ee",
   "metadata": {},
   "outputs": [
    {
     "name": "stdout",
     "output_type": "stream",
     "text": [
      "rows before =  86853 , rows after =  83174\n"
     ]
    }
   ],
   "source": [
    "# используем вариант без использования функции\n",
    "# 1 выбрасываем строки с категориями которых нет в тесте #109\n",
    "# rows before =  86853 , rows after =  83174\n",
    "df_beta.reset_index(drop=True, inplace=True);\n",
    "u_list = df_alpha[\"bodytype\"].unique().tolist()\n",
    "before = df_beta.shape[0]\n",
    "df_beta = df_beta.loc[df_beta[\"bodytype\"].isin(u_list)]\n",
    "after = len(df_beta)\n",
    "df_beta.reset_index(drop=True, inplace=True);\n",
    "print('rows before = ', before, ', rows after = ', after)"
   ]
  },
  {
   "cell_type": "markdown",
   "id": "65bcfad0",
   "metadata": {},
   "source": [
    "смотрим поле **brand**  \n",
    "в `df_alpha` только 12 категорий, а в `df_beta` их 36."
   ]
  },
  {
   "cell_type": "code",
   "execution_count": 86,
   "id": "58dc5987",
   "metadata": {
    "scrolled": true
   },
   "outputs": [
    {
     "name": "stdout",
     "output_type": "stream",
     "text": [
      "df1 - записей в столбце  brand  =  34686\n",
      "df2 - записей в столбце  brand  =  83174\n",
      "df1 - уникальных в столбце  brand  =  12\n",
      "df2 - уникальных в столбце  brand  =  36\n"
     ]
    }
   ],
   "source": [
    "col_info2(df_alpha, df_beta, \"brand\")"
   ]
  },
  {
   "cell_type": "code",
   "execution_count": 87,
   "id": "a8f683c0",
   "metadata": {},
   "outputs": [
    {
     "name": "stdout",
     "output_type": "stream",
     "text": [
      "rows before =  83174 , rows after =  45112\n"
     ]
    }
   ],
   "source": [
    "# 2 выбрасываем строки с категориями которых нет в тесте #110\n",
    "# rows before =  83174 , rows after =  45112\n",
    "df_beta.reset_index(drop=True, inplace=True);\n",
    "u_list = df_alpha[\"brand\"].unique().tolist()\n",
    "before = df_beta.shape[0]\n",
    "df_beta = df_beta.loc[df_beta[\"brand\"].isin(u_list)]\n",
    "after = len(df_beta)\n",
    "df_beta.reset_index(drop=True, inplace=True);\n",
    "print('rows before = ', before, ', rows after = ', after)"
   ]
  },
  {
   "cell_type": "markdown",
   "id": "307ed884",
   "metadata": {},
   "source": [
    "однако **число записей в трейн упало вдвое** (83,174 => 43,112) "
   ]
  },
  {
   "cell_type": "markdown",
   "id": "2d21c825",
   "metadata": {},
   "source": [
    "смотрим признак **'color'**  "
   ]
  },
  {
   "cell_type": "code",
   "execution_count": 88,
   "id": "722dd6b9",
   "metadata": {},
   "outputs": [
    {
     "name": "stdout",
     "output_type": "stream",
     "text": [
      "df1 - записей в столбце  color  =  34686\n",
      "df2 - записей в столбце  color  =  45112\n",
      "df1 - уникальных в столбце  color  =  16\n",
      "df2 - уникальных в столбце  color  =  16\n"
     ]
    }
   ],
   "source": [
    "col_info2(df_alpha, df_beta, \"color\")"
   ]
  },
  {
   "cell_type": "code",
   "execution_count": 89,
   "id": "96582717",
   "metadata": {},
   "outputs": [],
   "source": [
    "# df_beta - приводим к одинаковому формату поле 'color' #111\n",
    "c_dict = {'040001': 'чёрный', 'FAFBFB': 'белый', '97948F': 'серый', \n",
    "              'CACECB': 'серебристый', '0000CC': 'синий', \n",
    "              '200204': 'коричневый', 'EE1D19': 'красный',  \n",
    "              '007F00': 'зелёный', 'C49648': 'бежевый', '22A0F8': 'голубой', \n",
    "              '660099': 'пурпурный', 'DEA522': 'золотистый', \n",
    "              '4A2197': 'фиолетовый', 'FFD600': 'жёлтый', \n",
    "              'FF8649': 'оранжевый', 'FFC0CB': 'розовый'}\n",
    "df_beta[\"color\"].replace(to_replace = c_dict, inplace = True)"
   ]
  },
  {
   "cell_type": "code",
   "execution_count": 90,
   "id": "69211a3c",
   "metadata": {
    "scrolled": false
   },
   "outputs": [
    {
     "name": "stdout",
     "output_type": "stream",
     "text": [
      "df1 - записей в столбце  enginedisplacement  =  34686\n",
      "df2 - записей в столбце  enginedisplacement  =  45112\n",
      "df1 - уникальных в столбце  enginedisplacement  =  55\n",
      "df2 - уникальных в столбце  enginedisplacement  =  341\n"
     ]
    }
   ],
   "source": [
    "col_info2(df_alpha, df_beta, \"enginedisplacement\")"
   ]
  },
  {
   "cell_type": "markdown",
   "id": "600c25b0",
   "metadata": {},
   "source": [
    "в 'df_alpha' **'engineDisplacement'** - 55 записей с пустым LTR - это электромобили \n",
    "\n",
    "признак **engineDisplacement использовать не будем** потому что: \n",
    "- есть дублирующий (прапорциональный ему) признак **enginePower**  \n",
    "- для электромобилей (55 записей) он не определен ('пустой LTR')"
   ]
  },
  {
   "cell_type": "code",
   "execution_count": 91,
   "id": "9d2690ea",
   "metadata": {},
   "outputs": [],
   "source": [
    "# df_alpha, df_beta - убираем столбец 'enginedisplacement' #112\n",
    "df_alpha = df_alpha.drop(['enginedisplacement'], axis='columns')\n",
    "df_beta = df_beta.drop(['enginedisplacement'], axis='columns')"
   ]
  },
  {
   "cell_type": "markdown",
   "id": "ee5c098d",
   "metadata": {},
   "source": [
    "смотрим признак **'enginePower'**  \n",
    "Это мощность в л.с. В датасетах разные форматы '152 N12' / '152' - уберем ' N12'\n"
   ]
  },
  {
   "cell_type": "code",
   "execution_count": 92,
   "id": "a86bbcac",
   "metadata": {},
   "outputs": [],
   "source": [
    "# df_alpha - приводим к одинаковому формату 'enginepower' #113\n",
    "df_alpha['enginepower'] = df_alpha['enginepower'].str.replace(' N12', \"\")"
   ]
  },
  {
   "cell_type": "markdown",
   "id": "63820b68",
   "metadata": {},
   "source": [
    "смотрим признак **'fuelType'** - ничего делать не надо  \n",
    "смотрим признак **'mileage'** - ничего делать не надо  \n",
    "смотрим признак **'modelDate'** - ничего делать не надо  \n",
    "смотрим признак **'model_info'** - его нет в обучающем датасете - **удаляем**  \n",
    "смотрим признак **'model_name'** - его нет в обучающем датасете - **удаляем**  \n",
    "смотрим признак **'super_gen'** - его нет в обучающем датасете - **удаляем**  \n",
    "смотрим признак **'vendor'** - его нет в обучающем датасете - **удаляем**  \n",
    "смотрим признак **'start_date'** (из 'df_beta') - его нет в 'df_alpha' - **удаляем**  "
   ]
  },
  {
   "cell_type": "code",
   "execution_count": 93,
   "id": "67e2de76",
   "metadata": {},
   "outputs": [],
   "source": [
    "# df_alpha -убираем ненужные колонки #114\n",
    "df_alpha = df_alpha.drop(['model_info'], axis='columns')\n",
    "df_alpha = df_alpha.drop(['model_name'], axis='columns')\n",
    "df_alpha = df_alpha.drop(['super_gen'], axis='columns')\n",
    "df_alpha = df_alpha.drop(['vendor'], axis='columns')\n",
    "df_beta = df_beta.drop(['start_date'], axis='columns')"
   ]
  },
  {
   "cell_type": "markdown",
   "id": "9e9ea057",
   "metadata": {},
   "source": [
    "смотрим признак **'name'** - ничего делать не надо  \n",
    "смотрим признак **'numberofdoors'** - ничего делать не надо  \n",
    "смотрим признак **'productiondate'** - ничего делать не надо  \n",
    "смотрим признак **'vehicleconfiguration'** - ничего делать не надо  \n",
    "смотрим признак **'владельцы'** - ничего делать не надо  \n",
    "смотрим признак **'привод'** - ничего делать не надо  \n",
    "смотрим признак **'vehicletransmission'** - приводим к одному формату  "
   ]
  },
  {
   "cell_type": "code",
   "execution_count": 94,
   "id": "48db6354",
   "metadata": {},
   "outputs": [],
   "source": [
    "# df_beta 'vehicletransmission' - приводим к одному формату #115\n",
    "tr_dic = {'AUTOMATIC': 'автоматическая', 'MECHANICAL': 'механическая',\n",
    "        'VARIATOR': 'вариатор', 'ROBOT': 'роботизированная'}\n",
    "df_beta['vehicletransmission'].replace(to_replace = tr_dic, inplace = True)"
   ]
  },
  {
   "cell_type": "markdown",
   "id": "df315427",
   "metadata": {},
   "source": [
    "признак **'птс'** - в трейне преобразуем NaN в 'DUPLICATE' и приводим формат к формату теста (аттестационного датасета):"
   ]
  },
  {
   "cell_type": "code",
   "execution_count": 95,
   "id": "83c85fda",
   "metadata": {},
   "outputs": [],
   "source": [
    "# df_beta 'ПТС' - all NaN's added to 'DUPLICATE' categoty #116\n",
    "df_beta[df_beta.columns.to_list()[16]].replace(\n",
    "    to_replace = [np.nan], \n",
    "    value = [\"DUPLICATE\"],\n",
    "    inplace = True)\n",
    "# transform to format as in 'df_alpha' #117\n",
    "df_beta[df_beta.columns.to_list()[16]].replace(\n",
    "    to_replace = [\"ORIGINAL\", \"DUPLICATE\"], \n",
    "    value = [\"Оригинал\", \"Дубликат\"],\n",
    "    inplace = True)"
   ]
  },
  {
   "cell_type": "markdown",
   "id": "c2112f11",
   "metadata": {},
   "source": [
    "смотрим признак **'руль'** - приводим к одному формату"
   ]
  },
  {
   "cell_type": "code",
   "execution_count": 96,
   "id": "2fb8c83e",
   "metadata": {},
   "outputs": [],
   "source": [
    "# df_beta 'руль' к одинаковому формату as in 'df_alpha' #118\n",
    "df_beta[df_beta.columns.to_list()[14]].replace(\n",
    "    to_replace = [\"LEFT\", \"RIGHT\"], \n",
    "    value = [\"Левый\", \"Правый\"],\n",
    "    inplace = True)"
   ]
  },
  {
   "cell_type": "code",
   "execution_count": 97,
   "id": "075b6899",
   "metadata": {
    "scrolled": true
   },
   "outputs": [
    {
     "name": "stdout",
     "output_type": "stream",
     "text": [
      "------< df_alpha: >------\n",
      "bodytype\n",
      "brand\n",
      "color\n",
      "description\n",
      "enginepower\n",
      "fueltype\n",
      "mileage\n",
      "modeldate\n",
      "name\n",
      "numberofdoors\n",
      "productiondate\n",
      "sell_id\n",
      "vehicleconfiguration\n",
      "vehicletransmission\n",
      "владельцы\n",
      "птс\n",
      "привод\n",
      "руль\n"
     ]
    }
   ],
   "source": [
    "print('------< df_alpha: >------')\n",
    "[print(x) for x in df_alpha.columns.tolist()];"
   ]
  },
  {
   "cell_type": "code",
   "execution_count": 98,
   "id": "22aaa1ed",
   "metadata": {
    "scrolled": false
   },
   "outputs": [
    {
     "name": "stdout",
     "output_type": "stream",
     "text": [
      "------< df_beta: >------\n",
      "bodytype\n",
      "brand\n",
      "color\n",
      "fueltype\n",
      "modeldate\n",
      "name\n",
      "numberofdoors\n",
      "productiondate\n",
      "vehicleconfiguration\n",
      "vehicletransmission\n",
      "enginepower\n",
      "description\n",
      "mileage\n",
      "привод\n",
      "руль\n",
      "владельцы\n",
      "птс\n",
      "price\n"
     ]
    }
   ],
   "source": [
    "print('------< df_beta: >------')\n",
    "[print(x) for x in df_beta.columns.tolist()];"
   ]
  },
  {
   "cell_type": "markdown",
   "id": "583c3cd7",
   "metadata": {},
   "source": [
    "<a name=\"col_sort\"></a> \n",
    "#### сортируем и переименовываем колонки для удобства работы"
   ]
  },
  {
   "cell_type": "code",
   "execution_count": 99,
   "id": "4cbec26d",
   "metadata": {},
   "outputs": [],
   "source": [
    "# rename key columns to be the first after index sorting #119\n",
    "df_alpha.rename(\n",
    "    columns={'sell_id': 'aa_sell_id'}, inplace=True, errors=\"raise\")\n",
    "df_beta.rename(\n",
    "    columns={'price': 'aa_price'}, inplace=True, errors=\"raise\")\n",
    "\n",
    "# re-order columns #120\n",
    "df_alpha.sort_index(axis =1, ascending = True, inplace= True)\n",
    "df_alpha.reset_index(drop=True, inplace=True);\n",
    "df_beta.sort_index(axis =1, ascending = True, inplace= True)\n",
    "df_beta.reset_index(drop=True, inplace=True);"
   ]
  },
  {
   "cell_type": "code",
   "execution_count": 100,
   "id": "23521fb0",
   "metadata": {
    "scrolled": true
   },
   "outputs": [],
   "source": [
    "# создаем более удобные названия колонок\n",
    "# column names to standart form -'S00' to 'Sxx' #121\n",
    "rename_columns(df_alpha)\n",
    "rename_columns(df_beta)"
   ]
  },
  {
   "cell_type": "code",
   "execution_count": 101,
   "id": "2b86fa33",
   "metadata": {},
   "outputs": [],
   "source": [
    "# возвращаем оригинальные названия ключевым столбцам #122\n",
    "df_alpha.rename(columns={'S00': 'sell_id'}, inplace=True, errors=\"raise\")\n",
    "df_beta.rename(columns={'S00': 'price'}, inplace=True, errors=\"raise\")"
   ]
  },
  {
   "cell_type": "markdown",
   "id": "0d27bda1",
   "metadata": {},
   "source": [
    "на базе столбца 'S04'('description') создадим новый столбец **'S21'**   \n",
    "содержащий **новый признак - оптового продавца** (салона или дилера)"
   ]
  },
  {
   "cell_type": "code",
   "execution_count": 102,
   "id": "3da9c3db",
   "metadata": {},
   "outputs": [],
   "source": [
    "# новый признак S21- оптовый продавец #123\n",
    "df_alpha['S21'] = df_alpha.duplicated(subset=['S04']).astype('uint8')\n",
    "df_beta['S21'] = df_beta.duplicated(subset=['S04']).astype('uint8')"
   ]
  },
  {
   "cell_type": "markdown",
   "id": "dbda626a",
   "metadata": {},
   "source": [
    "еще раз проверим пропуски"
   ]
  },
  {
   "cell_type": "code",
   "execution_count": 103,
   "id": "eb8a4129",
   "metadata": {
    "scrolled": true
   },
   "outputs": [
    {
     "name": "stdout",
     "output_type": "stream",
     "text": [
      "NaN fix is needed for columns:\n",
      "\n",
      "S04    1\n",
      "S16    1\n",
      "dtype: int64\n"
     ]
    }
   ],
   "source": [
    "nan_columns(df_alpha)"
   ]
  },
  {
   "cell_type": "code",
   "execution_count": 104,
   "id": "9ba48cd3",
   "metadata": {},
   "outputs": [
    {
     "name": "stdout",
     "output_type": "stream",
     "text": [
      "NaN fix is needed for columns:\n",
      "\n",
      "S04    1482\n",
      "dtype: int64\n"
     ]
    }
   ],
   "source": [
    "nan_columns(df_beta)"
   ]
  },
  {
   "cell_type": "markdown",
   "id": "b4549fb0",
   "metadata": {},
   "source": [
    "есть немного NaN в столбце 'S04' ('description) из которого возможно надо будет извлекать ключевые слова (NLP), заменим их на пустые строковые значения.  \n",
    "один пропуск в df_alpha в S16 в'ПТС' заменим на 'Дубликат'"
   ]
  },
  {
   "cell_type": "code",
   "execution_count": 105,
   "id": "7fb0b213",
   "metadata": {},
   "outputs": [],
   "source": [
    "# df_alpha, df_beta - S04 - замена NaN на \"\" #125\n",
    "df_alpha['S04'].fillna(\"\", inplace=True)\n",
    "df_beta['S04'].fillna(\"\", inplace=True)\n",
    "# df_alpha - S16 'ПТС' - NaN заменим на 'Дубликат' #126\n",
    "df_alpha['S16'].fillna(\"Дубликат\", inplace=True)"
   ]
  },
  {
   "cell_type": "code",
   "execution_count": 106,
   "id": "c153135e",
   "metadata": {
    "scrolled": false
   },
   "outputs": [
    {
     "name": "stdout",
     "output_type": "stream",
     "text": [
      "NaN fix is needed for columns:\n",
      "\n",
      "Series([], dtype: int64)\n"
     ]
    }
   ],
   "source": [
    "nan_columns(df_alpha)"
   ]
  },
  {
   "cell_type": "markdown",
   "id": "514f153b",
   "metadata": {},
   "source": [
    "<a name=\"eda\"></a>  \n",
    "#### предбработка данных на этом завершена, приступаем к EDA"
   ]
  },
  {
   "cell_type": "markdown",
   "id": "eca593ab",
   "metadata": {},
   "source": [
    "<a name=\"fields_list\"></a> \n",
    "#### первичный список типов данных в столбцах (по обоим df)   \n",
    "\n",
    "данные по df_alpha (test) / df_beta (train)\n",
    "**sell_id** - идентификатор объявления в базе auto.ru - для валидации Kaggle (int)\n",
    "\n",
    "**price** - заявленная цена на на аукционе - целевой показатель в трейне  (float)  \n",
    "определяется характеристиками авто, вменяемостью продавца и срочностью продажи \n",
    "**S01 body type** - тип машины - categorical nominal, изначально - 24 категории, важный  \n",
    "**S02 brand** - марка авто - categorical nominal  \n",
    "12 категорий, важный  \n",
    "**S03 color** - цвет - categorical nominal  \n",
    "16 категорий, 30% черный, 18% белый -  \n",
    "разбить на 4 класса, наверно важный  \n",
    "**S04 description** - длинный текст от продавца - создадим \n",
    "**новый признак S22** - по наличию слова 'торг',  \n",
    "исходный столбец **удалим** (если будет NLP, то вернем обратно)  \n",
    "**S05 engine power** - в лошадиных силах - continuous numeric (obj/float) -  \n",
    "преобразовать в несколько categorical ordinal (CategoricalDtype, ordered=True ?)  \n",
    "**S06 fuel type** - топливо - categorical nominal  \n",
    "5 категорий, 82% бензин, 17% дизель, ост (газ, электро) < 0.01%    \n",
    "\n",
    "**S07 mileage** - пробег - continuous numeric (int64) -  \n",
    "преобразовать в categorical ordinal  \n",
    "**S08 model date** - модельный год - continuous numeric (int64/float) -  \n",
    "посчитать возраст (от 2020) и преобразовать несколько в categorical ordinal  \n",
    "**S09 name** - комбинация разных параметров - categorical nominal - \n",
    "2780 категорий - как запасной столбец или **удалить**  \n",
    "**S10 number of doors** - continuous numeric (int64/float) - \n",
    "5 категорий - кандидат на удаление после EDA  \n",
    "**S11 production date** - continuous numeric (int64) -\n",
    "69 категорий - посчитать возраст (от 2020) и преобразовать несколько в categorical ordinal, аналог S08 model date  \n",
    "**S12 vehicle configuration** - комбинация разных параметров (кузов+коробка+литраж) - categorical nominal - как запасной столбец или **удалить**  \n",
    "**S13 vehicle transmission** - тип КП - categorical nominal  \n",
    "4 категории, 56% автомат  \n",
    "**S14 владельцы** -  categorical nominal\n",
    "3 категории - трайн  подстоен под тест (в тесте их 3), возможно гипотеза и неверна. Странно, что у половины авто было 3 и более хозяев  \n",
    "**S15 привод** - categorical nominal  \n",
    "**S16 ПТС оригинал** - categorical nominal binary  \n",
    "87% оригинал  \n",
    "**S17 руль** слева/справа - categorical nominal binary\n",
    "96% леворульных   \n",
    "**S21 dealer - new** - индикатор оптовика - получен из S04 description - categorical nominal binary - 8% оптовики \n",
    "\n",
    "Выводы:  \n",
    "+ **количественные**: S05 мощность, S07 пробег, S08 модельный год,  S11 год выпуска, S10 число дверей, S14 число владельцев - \n",
    "все **будут переведены в категориальные** (порядковые если получится)  \n",
    "\n",
    "**price** - как вариант перевести в категориальную после оценки распределения с учетом особенностей метрики MAPE\n",
    "\n",
    "+ бинарные: S15 привод, S16 ПТС, S17 руль, S21 оптовик - менять не будем\n",
    "+ категориальные номинативные (не ординарные): S01 тип машины, S02 марка авто, S03 цвет, S06 тип топлива - пока не менянем, хотя возможно стоит сгрупировать S01 тип машины, чтобы уменьшить число категорий (?)"
   ]
  },
  {
   "cell_type": "code",
   "execution_count": 107,
   "id": "eb62b141",
   "metadata": {},
   "outputs": [],
   "source": [
    "# создадим новыю колонку \"торг\" - S22 #127\n",
    "df_alpha['S22'] = df_alpha['S04'].str.contains('торг', case=False)\n",
    "df_beta['S22'] = df_beta['S04'].str.contains('торг', case=False)"
   ]
  },
  {
   "cell_type": "markdown",
   "id": "e8a552dc",
   "metadata": {},
   "source": [
    "<a name=\"target\"></a> \n",
    "рассмотрим **исходно количественные признаки**\n",
    "####  ЦЕЛЕВАЯ переменная - 'price'  "
   ]
  },
  {
   "cell_type": "code",
   "execution_count": 108,
   "id": "fa996c34",
   "metadata": {},
   "outputs": [
    {
     "name": "stdout",
     "output_type": "stream",
     "text": [
      "price : уровень 25%: 450,000.0, уровень 75%: 1,969,110.0, IQR: 1,519,110.0\n"
     ]
    }
   ],
   "source": [
    "percentile(df_beta, 'price') # посмотрим перцентили"
   ]
  },
  {
   "cell_type": "code",
   "execution_count": 109,
   "id": "5ef1d6ce",
   "metadata": {
    "scrolled": false
   },
   "outputs": [
    {
     "data": {
      "image/png": "[encoded data removed]",
      "text/plain": [
       "<Figure size 576x28.8 with 1 Axes>"
      ]
     },
     "metadata": {
      "needs_background": "light"
     },
     "output_type": "display_data"
    }
   ],
   "source": [
    "boxplot(df_beta, 'price') # диаграмма размаха"
   ]
  },
  {
   "cell_type": "code",
   "execution_count": 110,
   "id": "25def615",
   "metadata": {
    "scrolled": true
   },
   "outputs": [
    {
     "data": {
      "text/plain": [
       "<seaborn.axisgrid.FacetGrid at 0x2392012d8b0>"
      ]
     },
     "execution_count": 110,
     "metadata": {},
     "output_type": "execute_result"
    },
    {
     "data": {
      "image/png": "[encoded data removed]",
      "text/plain": [
       "<Figure size 432x216 with 1 Axes>"
      ]
     },
     "metadata": {
      "needs_background": "light"
     },
     "output_type": "display_data"
    }
   ],
   "source": [
    "sns.catplot(x=\"price\", kind=\"box\", data=df_beta, height=3, aspect=2)"
   ]
  },
  {
   "cell_type": "code",
   "execution_count": 111,
   "id": "b70a2808",
   "metadata": {
    "scrolled": true
   },
   "outputs": [
    {
     "data": {
      "text/plain": [
       "<seaborn.axisgrid.FacetGrid at 0x2391f0c6160>"
      ]
     },
     "execution_count": 111,
     "metadata": {},
     "output_type": "execute_result"
    },
    {
     "data": {
      "image/png": "[encoded data removed]",
      "text/plain": [
       "<Figure size 432x216 with 1 Axes>"
      ]
     },
     "metadata": {
      "needs_background": "light"
     },
     "output_type": "display_data"
    }
   ],
   "source": [
    "sns.displot(df_beta, x=\"price\", kind=\"hist\", height=3, aspect=2)"
   ]
  },
  {
   "cell_type": "code",
   "execution_count": 112,
   "id": "60e9ea4d",
   "metadata": {
    "scrolled": true
   },
   "outputs": [
    {
     "data": {
      "text/plain": [
       "<seaborn.axisgrid.FacetGrid at 0x2391fdb8850>"
      ]
     },
     "execution_count": 112,
     "metadata": {},
     "output_type": "execute_result"
    },
    {
     "data": {
      "image/png": "[encoded data removed]",
      "text/plain": [
       "<Figure size 576x288 with 1 Axes>"
      ]
     },
     "metadata": {
      "needs_background": "light"
     },
     "output_type": "display_data"
    }
   ],
   "source": [
    "sns.displot(df_beta, x=\"price\", kind=\"hist\", height=4, aspect=2, \n",
    "            log_scale=True) # здесь логарифмическая шкала"
   ]
  },
  {
   "cell_type": "markdown",
   "id": "1977126e",
   "metadata": {},
   "source": [
    "Распределение похоже на нормальное, но выбросы в зоне сверхбольших цен портят всю картину. При использовании логарифмической шкалы картина более показательна.  \n",
    "Выбросы - имеется небольшое количество моделей с запредельными запрашивавыми ценами, но их процент невелик и после логарифмирования сильно на модель влиять не будет."
   ]
  },
  {
   "cell_type": "markdown",
   "id": "9b1b9842",
   "metadata": {},
   "source": [
    "**вывод** - для обучения целевой параметр следует\n",
    "+ **логарифмировать**\n",
    "+ или разбить диапазон значений цены на классы пропорционально частоте их распределению в выборке (по их частоте), то есть **кластеризировать** целевую переменную."
   ]
  },
  {
   "cell_type": "markdown",
   "id": "9fa7786c",
   "metadata": {},
   "source": [
    "#### S03 цвет  "
   ]
  },
  {
   "cell_type": "code",
   "execution_count": 113,
   "id": "b8f99214",
   "metadata": {
    "scrolled": false
   },
   "outputs": [
    {
     "data": {
      "image/png": "[encoded data removed]",
      "text/plain": [
       "<Figure size 432x216 with 1 Axes>"
      ]
     },
     "metadata": {
      "needs_background": "light"
     },
     "output_type": "display_data"
    }
   ],
   "source": [
    "sns.displot(df_alpha, x=\"S03\", kind=\"hist\", height=3, aspect=2)\n",
    "plt.xticks(rotation=45)\n",
    "plt.show()"
   ]
  },
  {
   "cell_type": "code",
   "execution_count": 114,
   "id": "80152c61",
   "metadata": {
    "scrolled": true
   },
   "outputs": [
    {
     "data": {
      "text/plain": [
       "<seaborn.axisgrid.FacetGrid at 0x23920438be0>"
      ]
     },
     "execution_count": 114,
     "metadata": {},
     "output_type": "execute_result"
    },
    {
     "data": {
      "image/png": "[encoded data removed]",
      "text/plain": [
       "<Figure size 360x360 with 1 Axes>"
      ]
     },
     "metadata": {
      "needs_background": "light"
     },
     "output_type": "display_data"
    }
   ],
   "source": [
    "sns.catplot(x=\"S03\", y=\"price\", data=df_beta)"
   ]
  },
  {
   "cell_type": "markdown",
   "id": "a7e6b88e",
   "metadata": {},
   "source": [
    "#### S05 мощность  "
   ]
  },
  {
   "cell_type": "code",
   "execution_count": 115,
   "id": "9a6896c1",
   "metadata": {},
   "outputs": [],
   "source": [
    "# df_alpha надо поправить тип данных #129\n",
    "df_alpha['S05'] = df_alpha['S05'].astype('int64', errors='raise')"
   ]
  },
  {
   "cell_type": "code",
   "execution_count": 116,
   "id": "edd42922",
   "metadata": {
    "scrolled": true
   },
   "outputs": [
    {
     "data": {
      "text/plain": [
       "<seaborn.axisgrid.FacetGrid at 0x23919311b50>"
      ]
     },
     "execution_count": 116,
     "metadata": {},
     "output_type": "execute_result"
    },
    {
     "data": {
      "image/png": "[encoded data removed]",
      "text/plain": [
       "<Figure size 259.2x129.6 with 1 Axes>"
      ]
     },
     "metadata": {
      "needs_background": "light"
     },
     "output_type": "display_data"
    }
   ],
   "source": [
    "sns.catplot(x=\"S05\", kind=\"box\", data=df_alpha, height=1.8, aspect=2)"
   ]
  },
  {
   "cell_type": "code",
   "execution_count": 117,
   "id": "509c5a49",
   "metadata": {
    "scrolled": false
   },
   "outputs": [
    {
     "data": {
      "text/plain": [
       "<seaborn.axisgrid.FacetGrid at 0x2391f4cfbb0>"
      ]
     },
     "execution_count": 117,
     "metadata": {},
     "output_type": "execute_result"
    },
    {
     "data": {
      "image/png": "[encoded data removed]",
      "text/plain": [
       "<Figure size 432x216 with 1 Axes>"
      ]
     },
     "metadata": {
      "needs_background": "light"
     },
     "output_type": "display_data"
    }
   ],
   "source": [
    "sns.displot(df_alpha, x=\"S05\", kind=\"hist\", height=3, aspect=2, \n",
    "            log_scale=True) # здесь логарифмическая шкала"
   ]
  },
  {
   "cell_type": "markdown",
   "id": "ac12c85b",
   "metadata": {},
   "source": [
    "распределение похоже на 'price' - **надо логарифмировать или разбивать на классы прапорционально частоте встречаемости**"
   ]
  },
  {
   "cell_type": "code",
   "execution_count": 118,
   "id": "25cb2ccf",
   "metadata": {
    "scrolled": true
   },
   "outputs": [
    {
     "data": {
      "text/plain": [
       "<AxesSubplot:xlabel='S05', ylabel='price'>"
      ]
     },
     "execution_count": 118,
     "metadata": {},
     "output_type": "execute_result"
    },
    {
     "data": {
      "image/png": "[encoded data removed]",
      "text/plain": [
       "<Figure size 432x288 with 1 Axes>"
      ]
     },
     "metadata": {
      "needs_background": "light"
     },
     "output_type": "display_data"
    }
   ],
   "source": [
    "sns.scatterplot(data=df_beta, x=\"S05\", y=\"price\") # влияние на цену"
   ]
  },
  {
   "cell_type": "markdown",
   "id": "fd7fdb28",
   "metadata": {},
   "source": [
    "#### S07 пробег"
   ]
  },
  {
   "cell_type": "code",
   "execution_count": 119,
   "id": "57062da1",
   "metadata": {},
   "outputs": [
    {
     "data": {
      "text/plain": [
       "<seaborn.axisgrid.FacetGrid at 0x2392060a790>"
      ]
     },
     "execution_count": 119,
     "metadata": {},
     "output_type": "execute_result"
    },
    {
     "data": {
      "image/png": "[encoded data removed]",
      "text/plain": [
       "<Figure size 259.2x129.6 with 1 Axes>"
      ]
     },
     "metadata": {
      "needs_background": "light"
     },
     "output_type": "display_data"
    }
   ],
   "source": [
    "sns.catplot(x=\"S07\", kind=\"box\", data=df_alpha, height=1.8, aspect=2)"
   ]
  },
  {
   "cell_type": "code",
   "execution_count": 120,
   "id": "dba303e3",
   "metadata": {
    "scrolled": false
   },
   "outputs": [
    {
     "data": {
      "text/plain": [
       "<seaborn.axisgrid.FacetGrid at 0x23920c90df0>"
      ]
     },
     "execution_count": 120,
     "metadata": {},
     "output_type": "execute_result"
    },
    {
     "data": {
      "image/png": "[encoded data removed]",
      "text/plain": [
       "<Figure size 288x144 with 1 Axes>"
      ]
     },
     "metadata": {
      "needs_background": "light"
     },
     "output_type": "display_data"
    }
   ],
   "source": [
    "sns.displot(df_alpha, x=\"S07\", kind=\"hist\", height=2, aspect=2)"
   ]
  },
  {
   "cell_type": "code",
   "execution_count": 121,
   "id": "f5f1e16b",
   "metadata": {
    "scrolled": false
   },
   "outputs": [
    {
     "data": {
      "text/plain": [
       "<seaborn.axisgrid.FacetGrid at 0x23920c97a60>"
      ]
     },
     "execution_count": 121,
     "metadata": {},
     "output_type": "execute_result"
    },
    {
     "data": {
      "image/png": "[encoded data removed]",
      "text/plain": [
       "<Figure size 288x144 with 1 Axes>"
      ]
     },
     "metadata": {
      "needs_background": "light"
     },
     "output_type": "display_data"
    }
   ],
   "source": [
    "sns.displot(df_alpha, x=\"S07\", kind=\"hist\", height=2, aspect=2, \n",
    "            log_scale=True) # здесь логарифмическая шкала"
   ]
  },
  {
   "cell_type": "code",
   "execution_count": 122,
   "id": "87fc4cfa",
   "metadata": {
    "scrolled": false
   },
   "outputs": [
    {
     "data": {
      "text/plain": [
       "<AxesSubplot:xlabel='S07', ylabel='price'>"
      ]
     },
     "execution_count": 122,
     "metadata": {},
     "output_type": "execute_result"
    },
    {
     "data": {
      "image/png": "[encoded data removed]",
      "text/plain": [
       "<Figure size 432x288 with 1 Axes>"
      ]
     },
     "metadata": {
      "needs_background": "light"
     },
     "output_type": "display_data"
    }
   ],
   "source": [
    "sns.scatterplot(data=df_beta, x=\"S07\", y=\"price\") # влияние на цену"
   ]
  },
  {
   "cell_type": "markdown",
   "id": "8181ee10",
   "metadata": {},
   "source": [
    "вывод - ничего не делать (или разбивать на классы)"
   ]
  },
  {
   "cell_type": "markdown",
   "id": "274b25b5",
   "metadata": {},
   "source": [
    "#### S10 число дверей"
   ]
  },
  {
   "cell_type": "code",
   "execution_count": 123,
   "id": "7e75a0e5",
   "metadata": {
    "scrolled": true
   },
   "outputs": [
    {
     "data": {
      "text/plain": [
       "<seaborn.axisgrid.FacetGrid at 0x2391fc3eb20>"
      ]
     },
     "execution_count": 123,
     "metadata": {},
     "output_type": "execute_result"
    },
    {
     "data": {
      "image/png": "[encoded data removed]",
      "text/plain": [
       "<Figure size 316.8x158.4 with 1 Axes>"
      ]
     },
     "metadata": {
      "needs_background": "light"
     },
     "output_type": "display_data"
    }
   ],
   "source": [
    "sns.displot(df_beta, x=\"S10\", kind=\"hist\", height=2.2, aspect=2)"
   ]
  },
  {
   "cell_type": "code",
   "execution_count": 124,
   "id": "1f068b43",
   "metadata": {
    "scrolled": false
   },
   "outputs": [
    {
     "data": {
      "text/plain": [
       "5.0    0.570558\n",
       "4.0    0.382226\n",
       "2.0    0.031189\n",
       "3.0    0.016005\n",
       "0.0    0.000022\n",
       "Name: S10, dtype: float64"
      ]
     },
     "execution_count": 124,
     "metadata": {},
     "output_type": "execute_result"
    }
   ],
   "source": [
    "df_beta.S10.value_counts(normalize=True)"
   ]
  },
  {
   "cell_type": "code",
   "execution_count": 125,
   "id": "c155c829",
   "metadata": {
    "scrolled": true
   },
   "outputs": [
    {
     "data": {
      "text/plain": [
       "<AxesSubplot:xlabel='S10', ylabel='price'>"
      ]
     },
     "execution_count": 125,
     "metadata": {},
     "output_type": "execute_result"
    },
    {
     "data": {
      "image/png": "[encoded data removed]",
      "text/plain": [
       "<Figure size 432x288 with 1 Axes>"
      ]
     },
     "metadata": {
      "needs_background": "light"
     },
     "output_type": "display_data"
    }
   ],
   "source": [
    "sns.scatterplot(data=df_beta, x=\"S10\", y=\"price\")"
   ]
  },
  {
   "cell_type": "markdown",
   "id": "e6cffdb2",
   "metadata": {},
   "source": [
    "выводы - число дверей  4 и 5 = 95% объявлений, 3 двери и 0 дверей - экзотика < 0.02%. наболее дорогие модели тоже в категории 4 и 5. \n",
    "попытаемся учесть при категоризации. `as_ordered()` - order 4 > 5 > 2 > 3"
   ]
  },
  {
   "cell_type": "markdown",
   "id": "61ffd274",
   "metadata": {},
   "source": [
    "#### S14 число владельцев"
   ]
  },
  {
   "cell_type": "code",
   "execution_count": 126,
   "id": "5afa104a",
   "metadata": {
    "scrolled": false
   },
   "outputs": [
    {
     "data": {
      "text/plain": [
       "<seaborn.axisgrid.FacetGrid at 0x23920998580>"
      ]
     },
     "execution_count": 126,
     "metadata": {},
     "output_type": "execute_result"
    },
    {
     "data": {
      "image/png": "[encoded data removed]",
      "text/plain": [
       "<Figure size 259.2x129.6 with 1 Axes>"
      ]
     },
     "metadata": {
      "needs_background": "light"
     },
     "output_type": "display_data"
    }
   ],
   "source": [
    "sns.displot(df_alpha, x=\"S14\", kind=\"hist\", height=1.8, aspect=2)"
   ]
  },
  {
   "cell_type": "code",
   "execution_count": 127,
   "id": "345cdd8f",
   "metadata": {
    "scrolled": false
   },
   "outputs": [
    {
     "data": {
      "text/plain": [
       "<seaborn.axisgrid.FacetGrid at 0x23920716c40>"
      ]
     },
     "execution_count": 127,
     "metadata": {},
     "output_type": "execute_result"
    },
    {
     "data": {
      "image/png": "[encoded data removed]",
      "text/plain": [
       "<Figure size 259.2x129.6 with 1 Axes>"
      ]
     },
     "metadata": {
      "needs_background": "light"
     },
     "output_type": "display_data"
    }
   ],
   "source": [
    "sns.displot(df_beta, x=\"S14\", kind=\"hist\", height=1.8, aspect=2)"
   ]
  },
  {
   "cell_type": "markdown",
   "id": "cf63a8dd",
   "metadata": {},
   "source": [
    "по этому признаку обучающий набор более разбалансирован чем тестовый"
   ]
  },
  {
   "cell_type": "markdown",
   "id": "c480fcdf",
   "metadata": {},
   "source": [
    "#### 2 признака про возраст авто: S08 'модельный год' и S11 'год выпуска'"
   ]
  },
  {
   "cell_type": "markdown",
   "id": "e1bf940a",
   "metadata": {},
   "source": [
    "номера календаных годов преобразуем в разницу между ними и 2020 годом (год сбора данных). Полученный возраст авто увеличиваем на 1 для корректного последующего вычисления годового пробега"
   ]
  },
  {
   "cell_type": "code",
   "execution_count": 128,
   "id": "88c608b0",
   "metadata": {},
   "outputs": [],
   "source": [
    "# значение столбца преобразуем в разницу между ним и 2020 #130\n",
    "df_alpha['S08'] = 2020 - df_alpha['S08'] \n",
    "df_beta['S08'] = 2020 - df_beta['S08']\n",
    "df_alpha['S11'] = 2020 + 1 - df_alpha['S11']\n",
    "df_beta['S11'] = 2020 + 1 - df_beta['S11']"
   ]
  },
  {
   "cell_type": "code",
   "execution_count": 129,
   "id": "ebfe279c",
   "metadata": {
    "scrolled": true
   },
   "outputs": [
    {
     "data": {
      "text/plain": [
       "<seaborn.axisgrid.FacetGrid at 0x239245f2220>"
      ]
     },
     "execution_count": 129,
     "metadata": {},
     "output_type": "execute_result"
    },
    {
     "data": {
      "image/png": "[encoded data removed]",
      "text/plain": [
       "<Figure size 288x144 with 1 Axes>"
      ]
     },
     "metadata": {
      "needs_background": "light"
     },
     "output_type": "display_data"
    }
   ],
   "source": [
    "sns.displot(df_alpha, x=\"S08\", kind=\"hist\", height=2, aspect=2) # мод.год"
   ]
  },
  {
   "cell_type": "code",
   "execution_count": 130,
   "id": "43b5c112",
   "metadata": {
    "scrolled": false
   },
   "outputs": [
    {
     "data": {
      "text/plain": [
       "<seaborn.axisgrid.FacetGrid at 0x23920bfc190>"
      ]
     },
     "execution_count": 130,
     "metadata": {},
     "output_type": "execute_result"
    },
    {
     "data": {
      "image/png": "[encoded data removed]",
      "text/plain": [
       "<Figure size 288x144 with 1 Axes>"
      ]
     },
     "metadata": {
      "needs_background": "light"
     },
     "output_type": "display_data"
    }
   ],
   "source": [
    "sns.displot(df_alpha, x=\"S11\", kind=\"hist\", height=2, aspect=2) # возраст"
   ]
  },
  {
   "cell_type": "code",
   "execution_count": 131,
   "id": "03320c5c",
   "metadata": {
    "scrolled": true
   },
   "outputs": [
    {
     "data": {
      "text/plain": [
       "<seaborn.axisgrid.JointGrid at 0x23920722160>"
      ]
     },
     "execution_count": 131,
     "metadata": {},
     "output_type": "execute_result"
    },
    {
     "data": {
      "image/png": "[encoded data removed]",
      "text/plain": [
       "<Figure size 288x288 with 3 Axes>"
      ]
     },
     "metadata": {
      "needs_background": "light"
     },
     "output_type": "display_data"
    }
   ],
   "source": [
    "sns.jointplot(x=\"S08\", y=\"price\", \n",
    "              height=4, ratio=5, dropna=True, data=df_beta, kind='reg', )"
   ]
  },
  {
   "cell_type": "code",
   "execution_count": 132,
   "id": "a1a2f13c",
   "metadata": {
    "scrolled": true
   },
   "outputs": [
    {
     "data": {
      "text/plain": [
       "<seaborn.axisgrid.JointGrid at 0x239327832b0>"
      ]
     },
     "execution_count": 132,
     "metadata": {},
     "output_type": "execute_result"
    },
    {
     "data": {
      "image/png": "[encoded data removed]",
      "text/plain": [
       "<Figure size 288x288 with 3 Axes>"
      ]
     },
     "metadata": {
      "needs_background": "light"
     },
     "output_type": "display_data"
    }
   ],
   "source": [
    "sns.jointplot(x=\"S11\", y=\"price\", \n",
    "              height=4, dropna=True, data=df_beta, kind='reg', )"
   ]
  },
  {
   "cell_type": "markdown",
   "id": "776fd605",
   "metadata": {},
   "source": [
    "вывод - признаки дублируют друг друга, уточним при корреляционнм анализе"
   ]
  },
  {
   "cell_type": "markdown",
   "id": "662d1b1e",
   "metadata": {},
   "source": [
    "<a name=\"corr\"></a> \n",
    "#### корреляционный анализ количественных столбцов"
   ]
  },
  {
   "cell_type": "code",
   "execution_count": 133,
   "id": "1850c40e",
   "metadata": {},
   "outputs": [],
   "source": [
    "# сгрупируем колонки ПО ТИПУ ДАННЫХ\n",
    "# количественные (числовые):\n",
    "num_cols = ['S05', 'S07', 'S08', 'S11',  'S10']\n",
    "# номинативные бинарные:\n",
    "bin_cols = ['S15', 'S16',  'S17', 'S21']\n",
    "# категориальные (номинативные не бинарные):\n",
    "cat_cols = ['S01', 'S02', 'S03', 'S06', 'S14']\n",
    "# все категориальные (cat + bin):\n",
    "cat_cols2 = ['S01', 'S02', 'S03', 'S06', 'S14', 'S15', 'S16',  'S17', 'S21']"
   ]
  },
  {
   "cell_type": "code",
   "execution_count": 134,
   "id": "33b30f6a",
   "metadata": {
    "scrolled": true
   },
   "outputs": [
    {
     "name": "stderr",
     "output_type": "stream",
     "text": [
      "C:\\Users\\stoch\\AppData\\Local\\Temp/ipykernel_16556/1110518333.py:2: FutureWarning: this method is deprecated in favour of `Styler.format(precision=..)`\n",
      "  df_m.style.background_gradient(cmap='rainbow').set_precision(2).set_caption('method Spearman')\n"
     ]
    },
    {
     "data": {
      "text/html": [
       "<style type=\"text/css\">\n",
       "#T_b8c77_row0_col0, #T_b8c77_row1_col1, #T_b8c77_row2_col2, #T_b8c77_row3_col3, #T_b8c77_row4_col4, #T_b8c77_row5_col5, #T_b8c77_row6_col6, #T_b8c77_row7_col7 {\n",
       "  background-color: #ff0000;\n",
       "  color: #f1f1f1;\n",
       "}\n",
       "#T_b8c77_row0_col1 {\n",
       "  background-color: #cee184;\n",
       "  color: #000000;\n",
       "}\n",
       "#T_b8c77_row0_col2, #T_b8c77_row0_col3, #T_b8c77_row0_col5, #T_b8c77_row0_col7, #T_b8c77_row3_col0, #T_b8c77_row3_col1, #T_b8c77_row5_col0, #T_b8c77_row5_col4, #T_b8c77_row5_col6 {\n",
       "  background-color: #8000ff;\n",
       "  color: #f1f1f1;\n",
       "}\n",
       "#T_b8c77_row0_col4 {\n",
       "  background-color: #50f4cc;\n",
       "  color: #000000;\n",
       "}\n",
       "#T_b8c77_row0_col6 {\n",
       "  background-color: #1acfe3;\n",
       "  color: #000000;\n",
       "}\n",
       "#T_b8c77_row1_col0 {\n",
       "  background-color: #ffa95b;\n",
       "  color: #000000;\n",
       "}\n",
       "#T_b8c77_row1_col2 {\n",
       "  background-color: #2adddd;\n",
       "  color: #000000;\n",
       "}\n",
       "#T_b8c77_row1_col3, #T_b8c77_row4_col2, #T_b8c77_row4_col3 {\n",
       "  background-color: #27dade;\n",
       "  color: #000000;\n",
       "}\n",
       "#T_b8c77_row1_col4 {\n",
       "  background-color: #10c6e6;\n",
       "  color: #000000;\n",
       "}\n",
       "#T_b8c77_row1_col5, #T_b8c77_row6_col3 {\n",
       "  background-color: #30e1da;\n",
       "  color: #000000;\n",
       "}\n",
       "#T_b8c77_row1_col6 {\n",
       "  background-color: #3670f8;\n",
       "  color: #f1f1f1;\n",
       "}\n",
       "#T_b8c77_row1_col7 {\n",
       "  background-color: #4659fb;\n",
       "  color: #f1f1f1;\n",
       "}\n",
       "#T_b8c77_row2_col0, #T_b8c77_row7_col6 {\n",
       "  background-color: #6e1cff;\n",
       "  color: #f1f1f1;\n",
       "}\n",
       "#T_b8c77_row2_col1, #T_b8c77_row6_col7 {\n",
       "  background-color: #6a22fe;\n",
       "  color: #f1f1f1;\n",
       "}\n",
       "#T_b8c77_row2_col3 {\n",
       "  background-color: #ff3e1f;\n",
       "  color: #f1f1f1;\n",
       "}\n",
       "#T_b8c77_row2_col4 {\n",
       "  background-color: #6c1fff;\n",
       "  color: #f1f1f1;\n",
       "}\n",
       "#T_b8c77_row2_col5 {\n",
       "  background-color: #ff381c;\n",
       "  color: #f1f1f1;\n",
       "}\n",
       "#T_b8c77_row2_col6, #T_b8c77_row3_col4 {\n",
       "  background-color: #7e03ff;\n",
       "  color: #f1f1f1;\n",
       "}\n",
       "#T_b8c77_row2_col7, #T_b8c77_row3_col7 {\n",
       "  background-color: #3dead5;\n",
       "  color: #000000;\n",
       "}\n",
       "#T_b8c77_row3_col2 {\n",
       "  background-color: #ff4121;\n",
       "  color: #f1f1f1;\n",
       "}\n",
       "#T_b8c77_row3_col5, #T_b8c77_row5_col3 {\n",
       "  background-color: #ff0905;\n",
       "  color: #f1f1f1;\n",
       "}\n",
       "#T_b8c77_row3_col6 {\n",
       "  background-color: #7a09ff;\n",
       "  color: #f1f1f1;\n",
       "}\n",
       "#T_b8c77_row4_col0 {\n",
       "  background-color: #b2f396;\n",
       "  color: #000000;\n",
       "}\n",
       "#T_b8c77_row4_col1 {\n",
       "  background-color: #0fc4e7;\n",
       "  color: #000000;\n",
       "}\n",
       "#T_b8c77_row4_col5 {\n",
       "  background-color: #24d8df;\n",
       "  color: #000000;\n",
       "}\n",
       "#T_b8c77_row4_col6 {\n",
       "  background-color: #01b3ec;\n",
       "  color: #f1f1f1;\n",
       "}\n",
       "#T_b8c77_row4_col7 {\n",
       "  background-color: #3e65fa;\n",
       "  color: #f1f1f1;\n",
       "}\n",
       "#T_b8c77_row5_col1 {\n",
       "  background-color: #7216ff;\n",
       "  color: #f1f1f1;\n",
       "}\n",
       "#T_b8c77_row5_col2 {\n",
       "  background-color: #ff3b1e;\n",
       "  color: #f1f1f1;\n",
       "}\n",
       "#T_b8c77_row5_col7 {\n",
       "  background-color: #3febd5;\n",
       "  color: #000000;\n",
       "}\n",
       "#T_b8c77_row6_col0 {\n",
       "  background-color: #92fda9;\n",
       "  color: #000000;\n",
       "}\n",
       "#T_b8c77_row6_col1 {\n",
       "  background-color: #3079f7;\n",
       "  color: #f1f1f1;\n",
       "}\n",
       "#T_b8c77_row6_col2 {\n",
       "  background-color: #22d6e0;\n",
       "  color: #000000;\n",
       "}\n",
       "#T_b8c77_row6_col4 {\n",
       "  background-color: #08bee9;\n",
       "  color: #000000;\n",
       "}\n",
       "#T_b8c77_row6_col5 {\n",
       "  background-color: #2ddedc;\n",
       "  color: #000000;\n",
       "}\n",
       "#T_b8c77_row7_col0 {\n",
       "  background-color: #28dbde;\n",
       "  color: #000000;\n",
       "}\n",
       "#T_b8c77_row7_col1 {\n",
       "  background-color: #425ffa;\n",
       "  color: #f1f1f1;\n",
       "}\n",
       "#T_b8c77_row7_col2 {\n",
       "  background-color: #9efaa2;\n",
       "  color: #000000;\n",
       "}\n",
       "#T_b8c77_row7_col3, #T_b8c77_row7_col5 {\n",
       "  background-color: #a8f79c;\n",
       "  color: #000000;\n",
       "}\n",
       "#T_b8c77_row7_col4 {\n",
       "  background-color: #396bf9;\n",
       "  color: #f1f1f1;\n",
       "}\n",
       "</style>\n",
       "<table id=\"T_b8c77_\">\n",
       "  <caption>method Spearman</caption>\n",
       "  <thead>\n",
       "    <tr>\n",
       "      <th class=\"blank level0\" >&nbsp;</th>\n",
       "      <th class=\"col_heading level0 col0\" >price</th>\n",
       "      <th class=\"col_heading level0 col1\" >S05</th>\n",
       "      <th class=\"col_heading level0 col2\" >S07</th>\n",
       "      <th class=\"col_heading level0 col3\" >S08</th>\n",
       "      <th class=\"col_heading level0 col4\" >S10</th>\n",
       "      <th class=\"col_heading level0 col5\" >S11</th>\n",
       "      <th class=\"col_heading level0 col6\" >S21</th>\n",
       "      <th class=\"col_heading level0 col7\" >S22</th>\n",
       "    </tr>\n",
       "  </thead>\n",
       "  <tbody>\n",
       "    <tr>\n",
       "      <th id=\"T_b8c77_level0_row0\" class=\"row_heading level0 row0\" >price</th>\n",
       "      <td id=\"T_b8c77_row0_col0\" class=\"data row0 col0\" >1.00</td>\n",
       "      <td id=\"T_b8c77_row0_col1\" class=\"data row0 col1\" >0.57</td>\n",
       "      <td id=\"T_b8c77_row0_col2\" class=\"data row0 col2\" >-0.78</td>\n",
       "      <td id=\"T_b8c77_row0_col3\" class=\"data row0 col3\" >-0.84</td>\n",
       "      <td id=\"T_b8c77_row0_col4\" class=\"data row0 col4\" >0.26</td>\n",
       "      <td id=\"T_b8c77_row0_col5\" class=\"data row0 col5\" >-0.84</td>\n",
       "      <td id=\"T_b8c77_row0_col6\" class=\"data row0 col6\" >0.15</td>\n",
       "      <td id=\"T_b8c77_row0_col7\" class=\"data row0 col7\" >-0.23</td>\n",
       "    </tr>\n",
       "    <tr>\n",
       "      <th id=\"T_b8c77_level0_row1\" class=\"row_heading level0 row1\" >S05</th>\n",
       "      <td id=\"T_b8c77_row1_col0\" class=\"data row1 col0\" >0.57</td>\n",
       "      <td id=\"T_b8c77_row1_col1\" class=\"data row1 col1\" >1.00</td>\n",
       "      <td id=\"T_b8c77_row1_col2\" class=\"data row1 col2\" >-0.18</td>\n",
       "      <td id=\"T_b8c77_row1_col3\" class=\"data row1 col3\" >-0.24</td>\n",
       "      <td id=\"T_b8c77_row1_col4\" class=\"data row1 col4\" >0.11</td>\n",
       "      <td id=\"T_b8c77_row1_col5\" class=\"data row1 col5\" >-0.20</td>\n",
       "      <td id=\"T_b8c77_row1_col6\" class=\"data row1 col6\" >-0.04</td>\n",
       "      <td id=\"T_b8c77_row1_col7\" class=\"data row1 col7\" >-0.09</td>\n",
       "    </tr>\n",
       "    <tr>\n",
       "      <th id=\"T_b8c77_level0_row2\" class=\"row_heading level0 row2\" >S07</th>\n",
       "      <td id=\"T_b8c77_row2_col0\" class=\"data row2 col0\" >-0.78</td>\n",
       "      <td id=\"T_b8c77_row2_col1\" class=\"data row2 col1\" >-0.18</td>\n",
       "      <td id=\"T_b8c77_row2_col2\" class=\"data row2 col2\" >1.00</td>\n",
       "      <td id=\"T_b8c77_row2_col3\" class=\"data row2 col3\" >0.85</td>\n",
       "      <td id=\"T_b8c77_row2_col4\" class=\"data row2 col4\" >-0.20</td>\n",
       "      <td id=\"T_b8c77_row2_col5\" class=\"data row2 col5\" >0.87</td>\n",
       "      <td id=\"T_b8c77_row2_col6\" class=\"data row2 col6\" >-0.21</td>\n",
       "      <td id=\"T_b8c77_row2_col7\" class=\"data row2 col7\" >0.22</td>\n",
       "    </tr>\n",
       "    <tr>\n",
       "      <th id=\"T_b8c77_level0_row3\" class=\"row_heading level0 row3\" >S08</th>\n",
       "      <td id=\"T_b8c77_row3_col0\" class=\"data row3 col0\" >-0.84</td>\n",
       "      <td id=\"T_b8c77_row3_col1\" class=\"data row3 col1\" >-0.24</td>\n",
       "      <td id=\"T_b8c77_row3_col2\" class=\"data row3 col2\" >0.85</td>\n",
       "      <td id=\"T_b8c77_row3_col3\" class=\"data row3 col3\" >1.00</td>\n",
       "      <td id=\"T_b8c77_row3_col4\" class=\"data row3 col4\" >-0.24</td>\n",
       "      <td id=\"T_b8c77_row3_col5\" class=\"data row3 col5\" >0.98</td>\n",
       "      <td id=\"T_b8c77_row3_col6\" class=\"data row3 col6\" >-0.20</td>\n",
       "      <td id=\"T_b8c77_row3_col7\" class=\"data row3 col7\" >0.22</td>\n",
       "    </tr>\n",
       "    <tr>\n",
       "      <th id=\"T_b8c77_level0_row4\" class=\"row_heading level0 row4\" >S10</th>\n",
       "      <td id=\"T_b8c77_row4_col0\" class=\"data row4 col0\" >0.26</td>\n",
       "      <td id=\"T_b8c77_row4_col1\" class=\"data row4 col1\" >0.11</td>\n",
       "      <td id=\"T_b8c77_row4_col2\" class=\"data row4 col2\" >-0.20</td>\n",
       "      <td id=\"T_b8c77_row4_col3\" class=\"data row4 col3\" >-0.24</td>\n",
       "      <td id=\"T_b8c77_row4_col4\" class=\"data row4 col4\" >1.00</td>\n",
       "      <td id=\"T_b8c77_row4_col5\" class=\"data row4 col5\" >-0.25</td>\n",
       "      <td id=\"T_b8c77_row4_col6\" class=\"data row4 col6\" >0.09</td>\n",
       "      <td id=\"T_b8c77_row4_col7\" class=\"data row4 col7\" >-0.07</td>\n",
       "    </tr>\n",
       "    <tr>\n",
       "      <th id=\"T_b8c77_level0_row5\" class=\"row_heading level0 row5\" >S11</th>\n",
       "      <td id=\"T_b8c77_row5_col0\" class=\"data row5 col0\" >-0.84</td>\n",
       "      <td id=\"T_b8c77_row5_col1\" class=\"data row5 col1\" >-0.20</td>\n",
       "      <td id=\"T_b8c77_row5_col2\" class=\"data row5 col2\" >0.87</td>\n",
       "      <td id=\"T_b8c77_row5_col3\" class=\"data row5 col3\" >0.98</td>\n",
       "      <td id=\"T_b8c77_row5_col4\" class=\"data row5 col4\" >-0.25</td>\n",
       "      <td id=\"T_b8c77_row5_col5\" class=\"data row5 col5\" >1.00</td>\n",
       "      <td id=\"T_b8c77_row5_col6\" class=\"data row5 col6\" >-0.22</td>\n",
       "      <td id=\"T_b8c77_row5_col7\" class=\"data row5 col7\" >0.23</td>\n",
       "    </tr>\n",
       "    <tr>\n",
       "      <th id=\"T_b8c77_level0_row6\" class=\"row_heading level0 row6\" >S21</th>\n",
       "      <td id=\"T_b8c77_row6_col0\" class=\"data row6 col0\" >0.15</td>\n",
       "      <td id=\"T_b8c77_row6_col1\" class=\"data row6 col1\" >-0.04</td>\n",
       "      <td id=\"T_b8c77_row6_col2\" class=\"data row6 col2\" >-0.21</td>\n",
       "      <td id=\"T_b8c77_row6_col3\" class=\"data row6 col3\" >-0.20</td>\n",
       "      <td id=\"T_b8c77_row6_col4\" class=\"data row6 col4\" >0.09</td>\n",
       "      <td id=\"T_b8c77_row6_col5\" class=\"data row6 col5\" >-0.22</td>\n",
       "      <td id=\"T_b8c77_row6_col6\" class=\"data row6 col6\" >1.00</td>\n",
       "      <td id=\"T_b8c77_row6_col7\" class=\"data row6 col7\" >-0.18</td>\n",
       "    </tr>\n",
       "    <tr>\n",
       "      <th id=\"T_b8c77_level0_row7\" class=\"row_heading level0 row7\" >S22</th>\n",
       "      <td id=\"T_b8c77_row7_col0\" class=\"data row7 col0\" >-0.23</td>\n",
       "      <td id=\"T_b8c77_row7_col1\" class=\"data row7 col1\" >-0.09</td>\n",
       "      <td id=\"T_b8c77_row7_col2\" class=\"data row7 col2\" >0.22</td>\n",
       "      <td id=\"T_b8c77_row7_col3\" class=\"data row7 col3\" >0.22</td>\n",
       "      <td id=\"T_b8c77_row7_col4\" class=\"data row7 col4\" >-0.07</td>\n",
       "      <td id=\"T_b8c77_row7_col5\" class=\"data row7 col5\" >0.23</td>\n",
       "      <td id=\"T_b8c77_row7_col6\" class=\"data row7 col6\" >-0.18</td>\n",
       "      <td id=\"T_b8c77_row7_col7\" class=\"data row7 col7\" >1.00</td>\n",
       "    </tr>\n",
       "  </tbody>\n",
       "</table>\n"
      ],
      "text/plain": [
       "<pandas.io.formats.style.Styler at 0x23932fe1d60>"
      ]
     },
     "execution_count": 134,
     "metadata": {},
     "output_type": "execute_result"
    }
   ],
   "source": [
    "df_m = df_beta.corr(method ='spearman') # для ТРЕЙНА\n",
    "df_m.style.background_gradient(cmap='rainbow').set_precision(2).set_caption('method Spearman')"
   ]
  },
  {
   "cell_type": "markdown",
   "id": "f42f97a6",
   "metadata": {},
   "source": [
    "Трейн. Ничего неожиданного. Естественная корреляцию между модельным годом S08 и годом выпуска S11.  \n",
    "\n",
    "Подтверждает большое влияние на цену:\n",
    "+ мощности S05\n",
    "+ пробега S07 \n",
    "+ модельного года S08 \n",
    "+ и года выпуска S11"
   ]
  },
  {
   "cell_type": "markdown",
   "id": "cad071d9",
   "metadata": {},
   "source": [
    "Чем **выше** значение f-статистики, тем меньше вероятность того, что средние значения не отличаются, важно для линейной модели."
   ]
  },
  {
   "cell_type": "code",
   "execution_count": 135,
   "id": "f9bdd4c1",
   "metadata": {
    "scrolled": false
   },
   "outputs": [
    {
     "data": {
      "image/png": "[encoded data removed]",
      "text/plain": [
       "<Figure size 432x288 with 1 Axes>"
      ]
     },
     "metadata": {
      "needs_background": "light"
     },
     "output_type": "display_data"
    }
   ],
   "source": [
    "# ANOVA F-test\n",
    "from sklearn.feature_selection import f_classif, mutual_info_classif, mutual_info_regression\n",
    "imp_num = pd.Series(f_classif(df_beta[num_cols], df_beta['price'])[0],\n",
    "                 index=num_cols)\n",
    "imp_num.sort_values(inplace=True)\n",
    "imp_num.plot(kind='barh',grid=True)\n",
    "plt.xlabel('F-value')\n",
    "plt.show()"
   ]
  },
  {
   "cell_type": "markdown",
   "id": "3624c970",
   "metadata": {},
   "source": [
    "F-test тоже подтверждает большое влияние на цену:\n",
    "+ мощности S05\n",
    "+ пробега S07 \n",
    "+ модельного года S08 \n",
    "+ и года выпуска S11"
   ]
  },
  {
   "cell_type": "code",
   "execution_count": 136,
   "id": "a85fb8f1",
   "metadata": {
    "scrolled": false
   },
   "outputs": [
    {
     "data": {
      "text/html": [
       "<div>\n",
       "<style scoped>\n",
       "    .dataframe tbody tr th:only-of-type {\n",
       "        vertical-align: middle;\n",
       "    }\n",
       "\n",
       "    .dataframe tbody tr th {\n",
       "        vertical-align: top;\n",
       "    }\n",
       "\n",
       "    .dataframe thead th {\n",
       "        text-align: right;\n",
       "    }\n",
       "</style>\n",
       "<table border=\"1\" class=\"dataframe\">\n",
       "  <thead>\n",
       "    <tr style=\"text-align: right;\">\n",
       "      <th></th>\n",
       "      <th>S05</th>\n",
       "      <th>S07</th>\n",
       "      <th>S08</th>\n",
       "      <th>S11</th>\n",
       "      <th>S10</th>\n",
       "    </tr>\n",
       "  </thead>\n",
       "  <tbody>\n",
       "    <tr>\n",
       "      <th>S05</th>\n",
       "      <td>1.00</td>\n",
       "      <td>-0.18</td>\n",
       "      <td>-0.25</td>\n",
       "      <td>-0.21</td>\n",
       "      <td>0.04</td>\n",
       "    </tr>\n",
       "    <tr>\n",
       "      <th>S07</th>\n",
       "      <td>-0.18</td>\n",
       "      <td>1.00</td>\n",
       "      <td>0.74</td>\n",
       "      <td>0.76</td>\n",
       "      <td>-0.11</td>\n",
       "    </tr>\n",
       "    <tr>\n",
       "      <th>S08</th>\n",
       "      <td>-0.25</td>\n",
       "      <td>0.74</td>\n",
       "      <td>1.00</td>\n",
       "      <td>0.97</td>\n",
       "      <td>-0.17</td>\n",
       "    </tr>\n",
       "    <tr>\n",
       "      <th>S11</th>\n",
       "      <td>-0.21</td>\n",
       "      <td>0.76</td>\n",
       "      <td>0.97</td>\n",
       "      <td>1.00</td>\n",
       "      <td>-0.18</td>\n",
       "    </tr>\n",
       "    <tr>\n",
       "      <th>S10</th>\n",
       "      <td>0.04</td>\n",
       "      <td>-0.11</td>\n",
       "      <td>-0.17</td>\n",
       "      <td>-0.18</td>\n",
       "      <td>1.00</td>\n",
       "    </tr>\n",
       "  </tbody>\n",
       "</table>\n",
       "</div>"
      ],
      "text/plain": [
       "      S05   S07   S08   S11   S10\n",
       "S05  1.00 -0.18 -0.25 -0.21  0.04\n",
       "S07 -0.18  1.00  0.74  0.76 -0.11\n",
       "S08 -0.25  0.74  1.00  0.97 -0.17\n",
       "S11 -0.21  0.76  0.97  1.00 -0.18\n",
       "S10  0.04 -0.11 -0.17 -0.18  1.00"
      ]
     },
     "execution_count": 136,
     "metadata": {},
     "output_type": "execute_result"
    }
   ],
   "source": [
    "# корреляции посмотрим и в ТЕСТЕ:\n",
    "df_num = df_alpha[num_cols] \n",
    "df_m = df_num.corr(method ='spearman')\n",
    "df_m.round(2)"
   ]
  },
  {
   "cell_type": "markdown",
   "id": "46bc07d1",
   "metadata": {},
   "source": [
    "корреляции в тесте аналогичны трейну"
   ]
  },
  {
   "cell_type": "markdown",
   "id": "2bc0279b",
   "metadata": {},
   "source": [
    "<a name=\"corr2\"></a> \n",
    "#### Т-тест  для категориальных признаков"
   ]
  },
  {
   "cell_type": "code",
   "execution_count": 137,
   "id": "e133dd94",
   "metadata": {
    "scrolled": false
   },
   "outputs": [
    {
     "name": "stdout",
     "output_type": "stream",
     "text": [
      "Найдены статистически значимые различия для колонки =  S01\n",
      "Найдены статистически значимые различия для колонки =  S02\n",
      "Найдены статистически значимые различия для колонки =  S03\n",
      "Найдены статистически значимые различия для колонки =  S06\n",
      "Найдены статистически значимые различия для колонки =  S14\n"
     ]
    }
   ],
   "source": [
    "# Т-тест для номинативных столбцов\n",
    "from itertools import combinations\n",
    "from scipy.stats import ttest_ind\n",
    "\n",
    "def get_stat_dif(column):\n",
    "    cols = df.loc[:, column].value_counts().index[:10]\n",
    "    combinations_all = list(combinations(cols, 2))\n",
    "    for comb in combinations_all:\n",
    "        if ttest_ind(df.loc[df.loc[:, column] == comb[0], 'price'], \n",
    "                        df.loc[df.loc[:, column] == comb[1], 'price']\n",
    "                    ).pvalue \\\n",
    "            <= 0.05/len(combinations_all): # Учли поправку Бонферони\n",
    "            print('Найдены статистически значимые различия для колонки = ', \n",
    "                  column)\n",
    "            break\n",
    "df = df_beta\n",
    "for col in cat_cols:   \n",
    "    get_stat_dif(col)     "
   ]
  },
  {
   "cell_type": "markdown",
   "id": "e048b004",
   "metadata": {},
   "source": [
    "большое влияние на цену оказывают:\n",
    "+ тип авто S01\n",
    "+ марка авто S02\n",
    "+ цвет S03\n",
    "+ тип топлива S06\n",
    "+ число владельцев S14"
   ]
  },
  {
   "cell_type": "markdown",
   "id": "bada245c",
   "metadata": {},
   "source": [
    "<a name=\"cat_weight\"></a> \n",
    "#### оценка значимости категоральных признаков   \n",
    "с помощью функции **mutual_info_classif**  \n",
    "\"relies on nonparametric methods based on entropy estimation from **k-nearest neighbors** distances\"  \n",
    "n_neighbors=3 (default) "
   ]
  },
  {
   "cell_type": "raw",
   "id": "9ebde5bf",
   "metadata": {},
   "source": [
    "# not work - ValueError: could not convert string to float: 'полный'\n",
    "imp_cat = pd.Series(mutual_info_classif(df_beta[bin_cols + cat_cols], df_beta['price'],\n",
    "                                     discrete_features =True,\n",
    "                                      n_neighbors=3 ), index = bin_cols + cat_cols)\n",
    "imp_cat.sort_values(inplace = True)\n",
    "imp_cat.plot(kind = 'barh')"
   ]
  },
  {
   "cell_type": "raw",
   "id": "c6212b09",
   "metadata": {},
   "source": [
    "# not work - ValueError: could not convert string to float: 'полный'\n",
    "imp_cat = pd.Series(mutual_info_classif(df_beta[bin_cols + cat_cols], df_beta['price'],\n",
    "                                     discrete_features =True,\n",
    "                                      n_neighbors=3 ), index = bin_cols + cat_cols)\n",
    "imp_cat.sort_values(inplace = True)\n",
    "imp_cat.plot(kind = 'barh')"
   ]
  },
  {
   "cell_type": "raw",
   "id": "6e4a27a4",
   "metadata": {},
   "source": [
    "# not work - ValueError: could not convert string to float: 'полный'\n",
    "imp_cat = pd.Series(mutual_info_classif(df_beta[bin_cols + cat_cols], df_beta['price'],\n",
    "                                     discrete_features =True,\n",
    "                                      n_neighbors=3 ), index = bin_cols + cat_cols)\n",
    "imp_cat.sort_values(inplace = True)\n",
    "imp_cat.plot(kind = 'barh')"
   ]
  },
  {
   "cell_type": "markdown",
   "id": "520eedce",
   "metadata": {},
   "source": [
    "**не смог провести - по непонятной причине вылетает ошибка**  \n",
    "`ValueError: could not convert string to float: 'полный'`"
   ]
  },
  {
   "cell_type": "markdown",
   "id": "41f7126d",
   "metadata": {},
   "source": [
    "----------------<<<<<<  >>>>>>-------------"
   ]
  },
  {
   "cell_type": "markdown",
   "id": "05aab86e",
   "metadata": {},
   "source": [
    "<a name=\"bis\"></a> \n",
    "#### вычисление point biserial correlation coefficient"
   ]
  },
  {
   "cell_type": "code",
   "execution_count": 138,
   "id": "a291260b",
   "metadata": {},
   "outputs": [],
   "source": [
    "from scipy import stats\n",
    "def bs_cor(col):  # point biserial correlation\n",
    "    df_temp = df_beta[['price', col]].copy()\n",
    "    df_temp.dropna(inplace=True)\n",
    "    df_temp.iloc[:, 1] = pd.Categorical(df_temp.iloc[:, 1])\n",
    "    df_temp.iloc[:, 1] = pd.factorize(df_temp.iloc[:, 1], sort=True)[0]\n",
    "    bs = stats.pointbiserialr(df_temp.iloc[:, 1], df_temp['price'])\n",
    "    bsc = bs.correlation.round(3)\n",
    "    print(col, bsc)"
   ]
  },
  {
   "cell_type": "code",
   "execution_count": 139,
   "id": "95357aee",
   "metadata": {
    "scrolled": true
   },
   "outputs": [
    {
     "name": "stdout",
     "output_type": "stream",
     "text": [
      "S01 -0.278\n",
      "S02 -0.158\n",
      "S03 0.071\n",
      "S06 0.25\n",
      "S14 0.025\n",
      "S15 0.296\n",
      "S16 0.148\n",
      "S17 -0.099\n",
      "S21 0.048\n"
     ]
    }
   ],
   "source": [
    "for x in cat_cols2:\n",
    "    bs_cor(x)"
   ]
  },
  {
   "cell_type": "markdown",
   "id": "1b4fd1a9",
   "metadata": {},
   "source": [
    "наибольшая корреляция с целевым признаком у:\n",
    "+ тип авто S01\n",
    "+ тип топлива S06\n",
    "+ привод S15\n",
    "+ марка авто S02\n",
    "+ ПТС S16\n",
    "\n",
    "при этом методе корреляция с цветом S03 небольшая"
   ]
  },
  {
   "cell_type": "markdown",
   "id": "af07ebec",
   "metadata": {},
   "source": [
    "<a name=\"eda1\"></a> \n",
    "### промежуточные итоги осмотра и подготовки  данных    "
   ]
  },
  {
   "cell_type": "code",
   "execution_count": 140,
   "id": "22370e2a",
   "metadata": {},
   "outputs": [],
   "source": [
    "# 15 columns:\n",
    "C01 = 'S01', 'bodyType', 24, 23, '- cat type Ok'\n",
    "C02 = 'S02', 'brand', 12, 12, '- cat type Ok'\n",
    "C03 = 'S03', 'color', 16, 16, '- cat type - reduce to 3-4 classes'\n",
    "C04 = 'S04', 'description' '- if string contain \"срочно\"' \n",
    "C05 = 'S05', 'power', '315', '315', '- convert to cat type, # classes?'\n",
    "C06 = 'S06', 'fuel', 5, 5, '- cat type Ok'\n",
    "C07 = 'S07', 'mileage', '', '', '- convert to cat type, # classes?'\n",
    "C08 = 'S08', 'modelDate', 66, 69, '- convert to cat type, # classes?'\n",
    "\n",
    "C10 = 'S10', 'doors', 5, 5, '- cat type Ok, reduce to 3 classes?'\n",
    "C11 = 'S11', 'productionlDate', 69, 72, '- convert to cat type, # classes?'\n",
    "\n",
    "C13 = 'S13', 'vehicleTransmission', 4, 4, '- cat type Ok'\n",
    "C14 = 'S14', 'владельцы', 3, 3, '- cat type Ok'\n",
    "C15 = 'S15', 'привод', 3, 3, '- cat type Ok'\n",
    "C16 = 'S16', 'ПТС', 2, 2, '- cat type Ok'\n",
    "C17 = 'S17', 'руль', 2, 2, '- cat type Ok'\n",
    "C21 = 'S21', 'признак оптовика', 2, 2, '- cat type Ok'\n",
    "# последние колонки в обоих df: 'sell_id' / 'price'"
   ]
  },
  {
   "cell_type": "markdown",
   "id": "2e79bc46",
   "metadata": {},
   "source": [
    "преобразовываем в категориальный тип готовые столбцы:  \n",
    "S01, S02, S03, S06, S10, S13, S14, S15, S16, S17, S21, S22"
   ]
  },
  {
   "cell_type": "code",
   "execution_count": 141,
   "id": "2a11111b",
   "metadata": {},
   "outputs": [],
   "source": [
    "# df_alpha, df_beta - convert to 'category' columns #131\n",
    "to_conv_list = ['S01', 'S02', 'S03', 'S06', 'S10', \n",
    "           'S13', 'S14', 'S15', 'S16', 'S17', 'S21', 'S22']\n",
    "for col in to_conv_list:\n",
    "    df_alpha[col] = df_alpha[col].astype('category', errors='raise')\n",
    "    df_beta[col] = df_beta[col].astype('category', errors='raise')\n",
    "df_alpha[to_conv_list] = df_alpha[to_conv_list].apply(lambda x: x.cat.codes)\n",
    "df_beta[to_conv_list] = df_beta[to_conv_list].apply(lambda x: x.cat.codes)"
   ]
  },
  {
   "cell_type": "markdown",
   "id": "226d3d22",
   "metadata": {},
   "source": [
    "<a name=\"fe\"></a> \n",
    "#### Feature Engineering"
   ]
  },
  {
   "cell_type": "markdown",
   "id": "6c986631",
   "metadata": {},
   "source": [
    "Два признака уже создали: S21 - флаг оптовика и S22 - 'торг'.  \n",
    "Создадим ещё пару S30 и S31 - количество слов в описании 'description'и его логарифм.\n",
    "Создал признак аналогичный \"торг\" - по содержанию слова \"срочно\",  \n",
    "но потом отказался от него поскольку в обучающем наборе при фильтрации признака \"срочно\" отбирались те же записи, что и при фильтре \"торг\" (хотя в тестовой базе было совсем иначе - записи \"торг\" и \"срочно\" не пересекались, что странно)\n",
    "\n",
    "Хорошо бы впоследствии преобразовать в категории и количественные признаки (мощность S05 , пробег S07, возраст S08 и S11, price) - т.е. \"старше 3 лет\" и т.п.  Выделять коллекицонный \"антквариат\" смысла нет - старше 60 лет всего порядка 30-40 машин.  \n",
    "Надо каким-то образом определить  эффективное число категорий (классов) для количественных - видимо позднее если хватит времени.  \n",
    "\n",
    "Пока ограничимся созданием \"годового пробега\" S23, его логарифма S24, логарифма от \"мощности\" S25 и логарифмированием целевой переменной 'price_log'."
   ]
  },
  {
   "cell_type": "code",
   "execution_count": 142,
   "id": "326eb9e9",
   "metadata": {},
   "outputs": [],
   "source": [
    "# S23 - новый признак - годовой пробег - rounded #132\n",
    "df_alpha['S23'] = (df_alpha['S07'] / df_alpha['S11']).apply(lambda x: round(x))\n",
    "df_beta['S23'] = (df_beta['S07'] / df_beta['S11']).apply(lambda x: round(x))\n",
    "\n",
    "# S24 - новый признак - логаримфм годового пробега #133\n",
    "df_alpha['S24'] = np.log2(df_alpha['S23'] + 1)\n",
    "df_beta['S24'] = np.log2(df_beta['S23'] + 1)\n",
    "\n",
    "# S25 - новый признак - натуральный логаримфм мощности #134\n",
    "df_alpha['S25'] = np.log2(df_alpha['S05'] + 1)\n",
    "df_beta['S25'] = np.log2(df_beta['S05'] + 1)\n",
    "\n",
    "# создадим новую колонку - число слов 'S30' #135\n",
    "df_alpha['S30'] = df_alpha['S04'].str.count(\" \")\n",
    "df_beta['S30'] = df_beta['S04'].str.count(\" \")\n",
    "\n",
    "# создадим новую колонку - логарифм числа слов 'S31' #136\n",
    "df_alpha['S31'] = np.log2(df_alpha['S30'] + 1)\n",
    "df_beta['S31'] = np.log2(df_beta['S30'] + 1)"
   ]
  },
  {
   "cell_type": "code",
   "execution_count": 143,
   "id": "d226fa72",
   "metadata": {},
   "outputs": [],
   "source": [
    "# еще раз убираем ненужные колонки из обоих df # 137\n",
    "df_alpha = df_alpha.drop(['S04'], axis='columns') # for NLP later?\n",
    "df_beta = df_beta.drop(['S04'], axis='columns') # for NLP later?\n",
    "df_alpha = df_alpha.drop(['S09'], axis='columns')\n",
    "df_beta = df_beta.drop(['S09'], axis='columns')\n",
    "df_alpha = df_alpha.drop(['S12'], axis='columns')\n",
    "df_beta = df_beta.drop(['S12'], axis='columns')\n",
    "df_alpha.reset_index(drop=True, inplace=True);\n",
    "df_beta.reset_index(drop=True, inplace=True);"
   ]
  },
  {
   "cell_type": "code",
   "execution_count": 144,
   "id": "4f8f0d67",
   "metadata": {},
   "outputs": [],
   "source": [
    "# перемещаем ключевые колонки в конец датафрейма #138\n",
    "df_alpha= df_alpha[\n",
    "    [col for col in df_alpha.columns if col != 'sell_id'] + ['sell_id']]\n",
    "df_beta= df_beta[\n",
    "    [col for col in df_beta.columns if col != 'price'] + ['price']]"
   ]
  },
  {
   "cell_type": "code",
   "execution_count": 145,
   "id": "a94e03f1",
   "metadata": {},
   "outputs": [],
   "source": [
    "# на  всякий случай index reset #139\n",
    "df_alpha.reset_index(drop=True, inplace=True);\n",
    "df_beta.reset_index(drop=True, inplace=True);"
   ]
  },
  {
   "cell_type": "code",
   "execution_count": 146,
   "id": "4caa9a6e",
   "metadata": {},
   "outputs": [],
   "source": [
    "# выгрузка датасета для ML #140\n",
    "df_alpha.to_csv(\"alpha_200.csv\", index=False)\n",
    "df_beta.to_csv(\"beta_200.csv\", index=False)\n",
    "# итого 22 колонки, df_alpha 34686 entries, df_beta 45112 entries"
   ]
  },
  {
   "cell_type": "markdown",
   "id": "4667d530",
   "metadata": {},
   "source": [
    "<a name=\"final_df\"></a> \n",
    "### итоговые датасеты\n",
    "(названия колонок в них одинаковые, кроме последних - 'sell_id' и 'price')"
   ]
  },
  {
   "cell_type": "markdown",
   "id": "34accd2d",
   "metadata": {},
   "source": [
    "|поле |значение        |количество уникальных|\n",
    "|-----|----------------|---------------------|\n",
    "|S01\t|тип авто\t|24|\n",
    "|S02\t|производитель\t|12|\n",
    "|S03\t|цвет\t|16|\n",
    "|S05\t|мощность\t|314|\n",
    "|S06\t|топливо\t|5|\n",
    "|S07\t|пробег\t|> 10тыс|\n",
    "|S08\t|модельный возраст\t|69|\n",
    "|S10\t|двери\t|5|\n",
    "|S11\t|возраст авто\t|72|\n",
    "|S13\t|КПП\t|4|\n",
    "|S14\t|владельцы|\t3|\n",
    "|S15\t|привод\t|3|\n",
    "|S16\t|ПТС\t|2|\n",
    "|S17\t|руль\t|2|\n",
    "|S21\t|\"оптовик\"\t|2|\n",
    "|S22\t|\"торг\"\t|2|\n",
    "|S23\t|годовой пробег| |\t\n",
    "|S24\t|лог годового пробега\t| |\n",
    "|S25\t|лог мощности\t| |\n",
    "|S30\t|число слов| 1179|\t\n",
    "|S31\t|лог числа слов\t| |\n",
    "|price\t|price\t| |"
   ]
  },
  {
   "cell_type": "markdown",
   "id": "0a7111a5",
   "metadata": {},
   "source": [
    "<a name=\"end_data\"></a> \n",
    "### на этом процесс подготовки данных завершен  \n",
    "**продолжение** (вторая часть - ML) - в ноутбуке 'dmar_car_part2.ipinb'  \n",
    "#### [back to TOP](#top)   "
   ]
  },
  {
   "cell_type": "markdown",
   "id": "1b225455",
   "metadata": {},
   "source": [
    "<a name=\"code\"></a>  \n",
    "### all code in one block"
   ]
  },
  {
   "cell_type": "code",
   "execution_count": 147,
   "id": "1e04183c",
   "metadata": {},
   "outputs": [
    {
     "ename": "AssertionError",
     "evalue": "",
     "output_type": "error",
     "traceback": [
      "\u001b[1;31m---------------------------------------------------------------------------\u001b[0m",
      "\u001b[1;31mAssertionError\u001b[0m                            Traceback (most recent call last)",
      "\u001b[1;32m~\\AppData\\Local\\Temp/ipykernel_16556/2103537015.py\u001b[0m in \u001b[0;36m<module>\u001b[1;34m\u001b[0m\n\u001b[1;32m----> 1\u001b[1;33m \u001b[1;32massert\u001b[0m \u001b[1;32mFalse\u001b[0m\u001b[1;33m\u001b[0m\u001b[1;33m\u001b[0m\u001b[0m\n\u001b[0m",
      "\u001b[1;31mAssertionError\u001b[0m: "
     ]
    }
   ],
   "source": [
    "assert False"
   ]
  },
  {
   "cell_type": "code",
   "execution_count": null,
   "id": "65386b35",
   "metadata": {},
   "outputs": [],
   "source": [
    "import numpy as np\n",
    "import pandas as pd\n",
    "import matplotlib.pyplot as plt\n",
    "import seaborn as sns\n",
    "\n",
    "def display_all(df):     # display many columns / raws\n",
    "   with pd.option_context('display.max_rows', 6): # number of rows\n",
    "      with pd.option_context('display.max_columns', 35): # columns\n",
    "          display(df)\n",
    "\n",
    "def col_info(df, col):  # records, NaN, unique, duplicates\n",
    "    print(\"всего записей в столбце \", col, \" = \", \n",
    "          df[col].count())\n",
    "    print(\"NaN в столбце \",  col, \" = \", df[col].isna().sum(), \n",
    "          \",  в процентах = \", \n",
    "          \"{0:.0%}\".format(df[col].isna().sum() / len(df)))\n",
    "    print(\"уникальных в столбце \", col, \" = \", \n",
    "          df[col].nunique(dropna=False))\n",
    "    \n",
    "    a = df[df[col].duplicated(keep=False)].count()[1]    \n",
    "    print(\"всего записей-дубликатов в столбце \", col, \" = \", a)\n",
    "    \n",
    "    display_all(pd.DataFrame(df[col].value_counts(sort=True, dropna=False)))\n",
    "\n",
    "def col_info2(df1, df2, col):  # unique compare\n",
    "    print(\"df1 - записей в столбце \", col, \" = \", \n",
    "          df1[col].count())\n",
    "    print(\"df2 - записей в столбце \", col, \" = \", \n",
    "          df2[col].count())\n",
    "    print(\"df1 - уникальных в столбце \", col, \" = \", \n",
    "          df1[col].nunique(dropna=False))\n",
    "    print(\"df2 - уникальных в столбце \", col, \" = \", \n",
    "          df2[col].nunique(dropna=False))\n",
    "\n",
    "def col_info3 (df1, df2, col):  # col statistics for two df  \n",
    "    d = df1[col].describe().round(2).to_list()\n",
    "    u = df1[col].nunique()\n",
    "    print('df1', col, ':', u,'unique,', d[3], 'min, ',\n",
    "          d[7], 'max,', d[1], 'mean,', d[0], 'rows')\n",
    "    d2 = df2[col].describe().round(2).to_list()\n",
    "    u2 = df2[col].nunique()\n",
    "    print('df2', col, ':', u2,'unique,', d2[3], 'min, ',\n",
    "          d2[7], 'max,', d2[1], 'mean,', d2[0], 'rows')\n",
    "def nan_columns(df): # наличие пропусков в всем датафрейме\n",
    "    nan_sum = df.isnull().sum()\n",
    "    print('NaN fix is needed for columns:', nan_sum[nan_sum > 0], sep='\\n'*2)\n",
    "    \n",
    "def info_table(df): # таблица NaN и unique по столбцам\n",
    "    mv = df.isnull().sum()\n",
    "    mvp = 100 * df.isnull().sum() / len(df)\n",
    "    mv2 = df.nunique(dropna=False)\n",
    "    mv_table = pd.concat([mv, mvp, mv2], axis=1)\n",
    "    mv_table2 = mv_table.rename(columns = {0: 'NaN', 1: '% NaN', 2: 'uniq'})\n",
    "    mv_table2 = mv_table2[mv_table2.iloc[:,1] >= 0].round(1)\n",
    "    return mv_table2\n",
    "\n",
    "def dubl(df): # наличие дубликатов записей в датафрейме\n",
    "    if len(df) > len(df.drop_duplicates()):\n",
    "        print('ЕСТЬ ДУБЛИКАТЫ')\n",
    "        display_all(df[df.duplicated(keep=False)])\n",
    "    else:\n",
    "        print('дубликатов нет')\n",
    "\n",
    "def dubl_col(df, col): # dupl find & show in specific COLUMN\n",
    "    df2 = df.sort_values(by=[col]) # new dataframe sorted by col\n",
    "    display_all(df2[df2[col].duplicated(keep=False)]) # show\n",
    "    \n",
    "def rename_columns(df): # to standart: from'S00' to 'Sxx'\n",
    "    df.set_axis([\"S\"+str(i).zfill(2) for i in range(0, df.shape[1])], \n",
    "                 axis=1, inplace=True)\n",
    "    # print(df.info())\n",
    "\n",
    "def percentile(df, col): # перцентили, интерквартильный размах\n",
    "    IQR = df[col].quantile(0.75) - df[col].quantile(0.25)\n",
    "    perc25 = df[col].quantile(0.25)\n",
    "    perc75 = df[col].quantile(0.75)\n",
    "    print(col, ': уровень 25%: {:,},'.format(perc25),\n",
    "          'уровень 75%: {:,},'.format(perc75), \n",
    "          'IQR: {:,}'.format(IQR))    \n",
    "def boxplot(df, col): # диаграмма размаха (boxplot)\n",
    "    fig, ax = plt.subplots(figsize = (8, 0.4))\n",
    "    sns.boxplot(x=col, \n",
    "                data=df.loc[\n",
    "                    df.loc[:, col].isin(df.loc[\n",
    "                        :, col].value_counts().index[:10])], ax=ax)\n",
    "    plt.xticks(rotation=45)\n",
    "    ax.set_title(col)\n",
    "    plt.show()"
   ]
  },
  {
   "cell_type": "code",
   "execution_count": null,
   "id": "c868711e",
   "metadata": {},
   "outputs": [],
   "source": [
    "# грузим входные файлы #101\n",
    "df_sub = pd.read_csv('empty_submission.csv')\n",
    "df_alpha = pd.read_csv('test.csv')\n",
    "df_beta = pd.read_csv('all_auto_ru_09_09_2020.csv')\n",
    "# названия столбцов - в нижний регистр #102\n",
    "df_alpha.columns = df_alpha.columns.str.lower()\n",
    "df_beta.columns = df_beta.columns.str.lower()\n",
    "# убираем дубликаты из обучающего #103\n",
    "df_beta.drop_duplicates(keep='first', inplace=True)\n",
    "# df_alpha - осмотр данных и чистка\n",
    "# df_alpha - удаляем 8 полей #104\n",
    "df_alpha.drop(df_alpha.columns[[2, 4, 8, 10, 17, 18, 26, 30, 31]], \n",
    "              axis = 1, inplace = True)\n",
    "# df_beta - осмотр данных\n",
    "# df_beta - удалим строку \"универсал\" в столбце 'fueltype' #104\n",
    "df_beta.drop(df_beta[df_beta.fueltype == 'универсал'].index, inplace=True)\n",
    "df_beta = df_beta.reset_index(drop=True)\n",
    "# df_beta - убираем шесть колонок #105\n",
    "df_beta.drop(df_beta.columns[[14, 17, 20, 21, 24, 25]], \n",
    "              axis = 1, inplace = True)\n",
    "# df_beta - удаляем 410 записей, где отсутствует значение цены #106\n",
    "df_beta = df_beta[df_beta.price.notna()]\n",
    "# df_beta -'владельцы' NaN -> 3.0,format as in 'df_alpha' #107\n",
    "df_beta[df_beta.columns.to_list()[16]].replace(\n",
    "    to_replace = [1.0, 2.0, 3.0, np.nan], \n",
    "    value = ['1 владелец', '2 владельца', '3 или более', '3 или более'],\n",
    "    inplace = True)\n",
    "# сравниваем форматы данных в df_alpha и df_beta\n",
    "# df_beta - 'bodytype'к одинаковому формату название столбца #108\n",
    "df_beta['bodytype'] = df_beta['bodytype'].str.lower()"
   ]
  },
  {
   "cell_type": "code",
   "execution_count": null,
   "id": "97eec803",
   "metadata": {},
   "outputs": [],
   "source": [
    "# используем вариант без использования функции\n",
    "# 1 выбрасываем строки с категориями которых нет в тесте #109\n",
    "# rows before =  86853 , rows after =  83174 = всё Ок\n",
    "df_beta.reset_index(drop=True, inplace=True);\n",
    "u_list = df_alpha[\"bodytype\"].unique().tolist()\n",
    "before = df_beta.shape[0]\n",
    "df_beta = df_beta.loc[df_beta[\"bodytype\"].isin(u_list)]\n",
    "after = len(df_beta)\n",
    "df_beta.reset_index(drop=True, inplace=True);\n",
    "print('rows before = ', before, ', rows after = ', after)\n",
    "# 2 выбрасываем строки с категориями которых нет в тесте #110\n",
    "df_beta.reset_index(drop=True, inplace=True);\n",
    "u_list = df_alpha[\"brand\"].unique().tolist()\n",
    "before = df_beta.shape[0]\n",
    "df_beta = df_beta.loc[df_beta[\"brand\"].isin(u_list)]\n",
    "after = len(df_beta)\n",
    "df_beta.reset_index(drop=True, inplace=True);\n",
    "print('rows before = ', before, ', rows after = ', after)\n",
    "# rows before =  83174 , rows after =  45112 = все Ок"
   ]
  },
  {
   "cell_type": "code",
   "execution_count": null,
   "id": "f73d1a30",
   "metadata": {},
   "outputs": [],
   "source": [
    "# df_beta - приводим к одинаковому формату поле 'color' #111\n",
    "c_dict = {'040001': 'чёрный', 'FAFBFB': 'белый', '97948F': 'серый', \n",
    "              'CACECB': 'серебристый', '0000CC': 'синий', \n",
    "              '200204': 'коричневый', 'EE1D19': 'красный',  \n",
    "              '007F00': 'зелёный', 'C49648': 'бежевый', '22A0F8': 'голубой', \n",
    "              '660099': 'пурпурный', 'DEA522': 'золотистый', \n",
    "              '4A2197': 'фиолетовый', 'FFD600': 'жёлтый', \n",
    "              'FF8649': 'оранжевый', 'FFC0CB': 'розовый'}\n",
    "df_beta[\"color\"].replace(to_replace = c_dict, inplace = True)\n",
    "\n",
    "# df_alpha, df_beta - убираем столбец 'enginedisplacement' #112\n",
    "df_alpha = df_alpha.drop(['enginedisplacement'], axis='columns')\n",
    "df_beta = df_beta.drop(['enginedisplacement'], axis='columns')\n",
    "# df_alpha - приводим к одинаковому формату 'enginepower' #113\n",
    "df_alpha['enginepower'] = df_alpha['enginepower'].str.replace(' N12', \"\")\n",
    "# df_alpha - убираем ненужные колонки #114\n",
    "df_alpha = df_alpha.drop(['model_info'], axis='columns')\n",
    "df_alpha = df_alpha.drop(['model_name'], axis='columns')\n",
    "df_alpha = df_alpha.drop(['super_gen'], axis='columns')\n",
    "df_alpha = df_alpha.drop(['vendor'], axis='columns')\n",
    "df_beta = df_beta.drop(['start_date'], axis='columns')\n",
    "# df_beta 'vehicletransmission' - приводим к одному формату #115\n",
    "tr_dic = {'AUTOMATIC': 'автоматическая', 'MECHANICAL': 'механическая',\n",
    "        'VARIATOR': 'вариатор', 'ROBOT': 'роботизированная'}\n",
    "df_beta['vehicletransmission'].replace(to_replace = tr_dic, inplace = True)\n",
    "# df_beta 'ПТС' - all NaN's added to 'DUPLICATE' categoty #116\n",
    "df_beta[df_beta.columns.to_list()[16]].replace(\n",
    "    to_replace = [np.nan], \n",
    "    value = [\"DUPLICATE\"],\n",
    "    inplace = True)\n",
    "# df_beta 'руль' приводим к одинаковому формату as in 'df_alpha' #117\n",
    "df_beta[df_beta.columns.to_list()[16]].replace(\n",
    "    to_replace = [\"ORIGINAL\", \"DUPLICATE\"], \n",
    "    value = [\"Оригинал\", \"Дубликат\"],\n",
    "    inplace = True)\n",
    "# df_beta 'руль' к одинаковому формату as in 'df_alpha' #118\n",
    "df_beta[df_beta.columns.to_list()[14]].replace(\n",
    "    to_replace = [\"LEFT\", \"RIGHT\"], \n",
    "    value = [\"Левый\", \"Правый\"],\n",
    "    inplace = True)"
   ]
  },
  {
   "cell_type": "code",
   "execution_count": null,
   "id": "641bd3c1",
   "metadata": {},
   "outputs": [],
   "source": [
    "# df_alpha, df_beta - сортируем и переименовываем колонки\n",
    "# переупорядочим и переименуем колонки\n",
    "# rename key columns to be the first after index sorting #119\n",
    "df_alpha.rename(\n",
    "    columns={'sell_id': 'aa_sell_id'}, inplace=True, errors=\"raise\")\n",
    "df_beta.rename(\n",
    "    columns={'price': 'aa_price'}, inplace=True, errors=\"raise\")\n",
    "# re-order columns #120\n",
    "df_alpha.sort_index(axis =1, ascending = True, inplace= True)\n",
    "df_alpha.reset_index(drop=True, inplace=True);\n",
    "df_beta.sort_index(axis =1, ascending = True, inplace= True)\n",
    "df_beta.reset_index(drop=True, inplace=True);\n",
    "# rename column names to standart form (from'S00' to 'Sxx') #121\n",
    "rename_columns(df_alpha)\n",
    "rename_columns(df_beta)\n",
    "# возвращаем оригинальные названия ключевым столбцам #122\n",
    "df_alpha.rename(columns={'S00': 'sell_id'}, inplace=True, errors=\"raise\")\n",
    "df_beta.rename(columns={'S00': 'price'}, inplace=True, errors=\"raise\")"
   ]
  },
  {
   "cell_type": "code",
   "execution_count": null,
   "id": "347c7950",
   "metadata": {},
   "outputs": [],
   "source": [
    "# создаем новый признак S21- оптовый продавец #123\n",
    "df_alpha['S21'] = df_alpha.duplicated(subset=['S04']).astype('uint8')\n",
    "df_beta['S21'] = df_beta.duplicated(subset=['S04']).astype('uint8')\n",
    "# 124 - was moved to end\n",
    "# df_alpha, df_beta - S04 - замена NaN на \"\" #125\n",
    "df_alpha['S04'].fillna(\"\", inplace=True)\n",
    "df_beta['S04'].fillna(\"\", inplace=True)\n",
    "# df_alpha - S16 'ПТС' - NaN заменим на 'Дубликат' #126\n",
    "df_alpha['S16'].fillna(\"Дубликат\", inplace=True)"
   ]
  },
  {
   "cell_type": "code",
   "execution_count": null,
   "id": "1b12920f",
   "metadata": {},
   "outputs": [],
   "source": [
    "# создадим новую колонку \"торг\" - S22 #127 - ЕСТЬ\n",
    "df_alpha['S22'] = df_alpha['S04'].str.contains('торг', case=False)\n",
    "df_beta['S22'] = df_beta['S04'].str.contains('торг', case=False)"
   ]
  },
  {
   "cell_type": "code",
   "execution_count": null,
   "id": "60960266",
   "metadata": {},
   "outputs": [],
   "source": [
    "# df_alpha S05 - поправим тип данных #129\n",
    "df_alpha['S05'] = df_alpha['S05'].astype('int64', errors='raise')"
   ]
  },
  {
   "cell_type": "code",
   "execution_count": null,
   "id": "bc063462",
   "metadata": {},
   "outputs": [],
   "source": [
    "# значение столбца преобразуем в разницу между ним и 2020 #130\n",
    "df_alpha['S08'] = 2020 - df_alpha['S08'] \n",
    "df_beta['S08'] = 2020 - df_beta['S08']\n",
    "df_alpha['S11'] = 2020 + 1 - df_alpha['S11']\n",
    "df_beta['S11'] = 2020 + 1 - df_beta['S11']\n",
    "#корреляционный анализ количественных столбцов"
   ]
  },
  {
   "cell_type": "code",
   "execution_count": null,
   "id": "a5924fe1",
   "metadata": {},
   "outputs": [],
   "source": [
    "# df_alpha, df_beta - convert to 'category' columns #131\n",
    "to_conv_list = ['S01', 'S02', 'S03', 'S06', 'S10', \n",
    "           'S13', 'S14', 'S15', 'S16', 'S17', 'S21', 'S22']\n",
    "for col in to_conv_list:\n",
    "    df_alpha[col] = df_alpha[col].astype('category', errors='raise')\n",
    "    df_beta[col] = df_beta[col].astype('category', errors='raise')\n",
    "df_alpha[to_conv_list] = df_alpha[to_conv_list].apply(lambda x: x.cat.codes)\n",
    "df_beta[to_conv_list] = df_beta[to_conv_list].apply(lambda x: x.cat.codes)"
   ]
  },
  {
   "cell_type": "code",
   "execution_count": null,
   "id": "6e0cc17e",
   "metadata": {},
   "outputs": [],
   "source": [
    "# S23 - новый признак - годовой пробег - rounded #132\n",
    "df_alpha['S23'] = (df_alpha['S07'] / df_alpha['S11']).apply(lambda x: round(x))\n",
    "df_beta['S23'] = (df_beta['S07'] / df_beta['S11']).apply(lambda x: round(x))\n",
    "# S24 - новый признак - логаримфм годового пробега #133\n",
    "df_alpha['S24'] = np.log2(df_alpha['S23'] + 1)\n",
    "df_beta['S24'] = np.log2(df_beta['S23'] + 1)\n",
    "# S25 - новый признак - натуральный логаримфм мощности #134\n",
    "df_alpha['S25'] = np.log2(df_alpha['S05'] + 1)\n",
    "df_beta['S25'] = np.log2(df_beta['S05'] + 1)\n",
    "# создадим новую колонку - число слов 'S30' #135\n",
    "df_alpha['S30'] = df_alpha['S04'].str.count(\" \")\n",
    "df_beta['S30'] = df_beta['S04'].str.count(\" \")\n",
    "# создадим новую колонку - логарифм числа слов 'S31' #136\n",
    "df_alpha['S31'] = np.log2(df_alpha['S30'] + 1)\n",
    "df_beta['S31'] = np.log2(df_beta['S30'] + 1)"
   ]
  },
  {
   "cell_type": "code",
   "execution_count": null,
   "id": "6fb22665",
   "metadata": {},
   "outputs": [],
   "source": [
    "# еще раз убираем ненужные колонки из обоих df # 137\n",
    "df_alpha = df_alpha.drop(['S04'], axis='columns') # for NLP later?\n",
    "df_beta = df_beta.drop(['S04'], axis='columns') # for NLP later?\n",
    "df_alpha = df_alpha.drop(['S09'], axis='columns')\n",
    "df_beta = df_beta.drop(['S09'], axis='columns')\n",
    "df_alpha = df_alpha.drop(['S12'], axis='columns')\n",
    "df_beta = df_beta.drop(['S12'], axis='columns')\n",
    "df_alpha.reset_index(drop=True, inplace=True);\n",
    "df_beta.reset_index(drop=True, inplace=True);"
   ]
  },
  {
   "cell_type": "code",
   "execution_count": null,
   "id": "6c83b55c",
   "metadata": {},
   "outputs": [],
   "source": [
    "# перемещаем ключевые колонки в конец датафрейма #138\n",
    "df_alpha= df_alpha[\n",
    "    [col for col in df_alpha.columns if col != 'sell_id'] + ['sell_id']]\n",
    "df_beta= df_beta[\n",
    "    [col for col in df_beta.columns if col != 'price'] + ['price']]"
   ]
  },
  {
   "cell_type": "code",
   "execution_count": null,
   "id": "01d07e70",
   "metadata": {},
   "outputs": [],
   "source": [
    "# на  всякий случай index reset #139\n",
    "df_alpha.reset_index(drop=True, inplace=True);\n",
    "df_beta.reset_index(drop=True, inplace=True);"
   ]
  },
  {
   "cell_type": "code",
   "execution_count": null,
   "id": "aac41c48",
   "metadata": {},
   "outputs": [],
   "source": [
    "# выгрузка датасета для ML #140\n",
    "df_alpha.to_csv(\"alpha_200.csv\", index=False)\n",
    "df_beta.to_csv(\"beta_200.csv\", index=False)\n",
    "# итого 22 колонки, df_alpha 34686 entries, df_beta 45112 entries"
   ]
  },
  {
   "cell_type": "markdown",
   "id": "316d551b",
   "metadata": {},
   "source": [
    "<a name=\"top\"></a>  \n",
    "**Навигация:**  \n",
    "<a href='#task'>задача и метрика  \n",
    "<a href='#par'>почему без парсинга  \n",
    "<a href='#setup2'>setup  \n",
    "<a href='#input'>исходные данные  \n",
    "<a href='#test_check'>просмотр аттестующего (тестового) набора `df_alpha`  \n",
    "<a href='#test_clean'>`df_alpha` (тест) - выводы и чистка  \n",
    "<a href='#df_a_check'>просмотр обучающего `df_beta` (из all_auto_ru_09_09_2020.csv)  \n",
    "<a href='#df_a_clean'>обучающий набор - `df_beta`- выводы и чистка  \n",
    "<a href='#compare_df'>сравниваем форматы данных и убираем лишние столбцы и категории  \n",
    "<a href='#col_sort'>сортируем столбцы  \n",
    "<a href='#eda'>начало EDA  \n",
    "<a href='#fields_list'>первичный список типов данных в столбцах  \n",
    "<a href='#target'>целевая переменная и количественные признаки - ГРАФИКИ  \n",
    "<a href='#corr'>корреляционный анализ количественных столбцов  \n",
    "<a href='#corr2'>Т-тест  для категориальных признаков  \n",
    "<a href='#bis'>point biserial correlation coefficient  \n",
    "<a href='#eda1'>промежуточные итоги осмотра и подготовки данных  \n",
    "<a href='#fe'>Feature Engineering  \n",
    "<a href='#final_df'>итоговые датасеты  \n",
    "<a href='#end_data'>конец EDA  \n",
    "<a href='#code'>all code in one block  \n",
    "<a href='#end'>END"
   ]
  },
  {
   "cell_type": "markdown",
   "id": "97493885",
   "metadata": {},
   "source": [
    "<a name=\"end\"></a>  \n",
    "### END\n",
    "## [back to TOP](#top)   "
   ]
  }
 ],
 "metadata": {
  "kernelspec": {
   "display_name": "Python 3 (ipykernel)",
   "language": "python",
   "name": "python3"
  },
  "language_info": {
   "codemirror_mode": {
    "name": "ipython",
    "version": 3
   },
   "file_extension": ".py",
   "mimetype": "text/x-python",
   "name": "python",
   "nbconvert_exporter": "python",
   "pygments_lexer": "ipython3",
   "version": "3.9.7"
  }
 },
 "nbformat": 4,
 "nbformat_minor": 5
}
